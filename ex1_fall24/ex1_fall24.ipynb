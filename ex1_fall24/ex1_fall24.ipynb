{
 "cells": [
  {
   "cell_type": "markdown",
   "metadata": {},
   "source": [
    "# Please install the following python libraries\n",
    "- python3: https://www.python.org/\n",
    "- numpy: https://numpy.org/install/\n",
    "- tqdm: https://github.com/tqdm/tqdm#installation\n",
    "- matplotlib: https://matplotlib.org/stable/users/installing/index.html\n",
    "- Starter Code was tested on Python 3.11.5\n",
    "\n",
    "If you encounter the error: \"IProgress not found. Please update jupyter & ipywidgets\"\n",
    "    \n",
    "Please install the ipywidgets as follows:\n",
    "\n",
    "    with pip, do\n",
    "    - pip install ipywidgets\n",
    "    \n",
    "    with conda, do\n",
    "    - conda install -c conda-forge ipywidgets\n",
    "    \n",
    "Restart your notebook "
   ]
  },
  {
   "cell_type": "code",
   "execution_count": 1,
   "metadata": {},
   "outputs": [],
   "source": [
    "import numpy as np\n",
    "import random\n",
    "import tqdm.notebook as tqdm\n",
    "import matplotlib.pyplot as plt\n",
    "import ipywidgets"
   ]
  },
  {
   "cell_type": "code",
   "execution_count": 2,
   "metadata": {},
   "outputs": [],
   "source": [
    "\"\"\"Here is the implementation of the 10-armed Bandit problem/testbed. DO NOT CHANGE \n",
    "   Note that:\n",
    "       - call the reset function whenever you want to generate a new 10-armed Bandit problem\n",
    "\"\"\"\n",
    "class Bandit(object):\n",
    "    def __init__(self, k=10):\n",
    "        # Number of the actions\n",
    "        self.k = k\n",
    "\n",
    "        # Numpy array to store the true action value the k arms/actions\n",
    "        self.q_star = np.empty(self.k)\n",
    "\n",
    "    def reset(self):\n",
    "        # Reset the true action values to generate a new k-armed bandit problem\n",
    "        # Value for each arm is randomly sampled from a normal distribution \n",
    "        # with mean = 0, variance = 1.0. \n",
    "        self.q_star = np.random.normal(loc=0, scale=1, size=self.k)\n",
    "        \n",
    "    def best_action(self):\n",
    "        \"\"\"Return the indices of all best actions/arms in a list variable\n",
    "        \"\"\"\n",
    "        return np.where(self.q_star == self.q_star.max())[0].tolist()  \n",
    "\n",
    "    def step(self, act):\n",
    "        \"\"\"\n",
    "        Args:\n",
    "            act (int): index of the action\n",
    "        \"\"\"\n",
    "        # Compute the reward for each action\n",
    "        # The reward for each action at time step t is sampled from a Gaussian distribution\n",
    "        # For the k-th arm, the mean = q_star[k] (true value) and variance = 1\n",
    "        rewards = np.random.normal(loc=self.q_star, scale=np.ones(10), size=self.k)\n",
    "        return rewards[act]"
   ]
  },
  {
   "cell_type": "code",
   "execution_count": 3,
   "metadata": {},
   "outputs": [],
   "source": [
    "\"\"\"Here is the plotting function you can directly use to plot the figures needed for Q5 and Q6\n",
    "\"\"\"\n",
    "\n",
    "# plot function\n",
    "def plot_curves(arr_list, legend_list, color_list, upper_bound, ylabel):\n",
    "    \"\"\"\n",
    "    Args:\n",
    "        arr_list (list): list of results arrays to plot\n",
    "        legend_list (list): list of legends corresponding to each result array\n",
    "        color_list (list): list of color corresponding to each result array\n",
    "        upper_bound (numpy array): array contains the best possible rewards for 2000 runs. the shape should be (2000,)\n",
    "        ylabel (string): label of the Y axis\n",
    "        \n",
    "        Note that, make sure the elements in the arr_list, legend_list and color_list are associated with each other correctly. \n",
    "        Do not forget to change the ylabel for different plots.\n",
    "        \n",
    "        To plot the upper bound for % Optimal action figure, set upper_bound = np.ones(num_step), where num_step is the number of steps.\n",
    "    \"\"\"\n",
    "    # set the figure type\n",
    "    plt.clf()\n",
    "    fig, ax = plt.subplots(figsize=(12, 8))\n",
    "    \n",
    "    # PLEASE NOTE: Change the labels for different plots\n",
    "    ax.set_ylabel(ylabel)\n",
    "    ax.set_xlabel(\"Steps\")\n",
    "    ax.set_ylim(-0.1, upper_bound.mean() + 0.1)\n",
    "    \n",
    "    # ploth results\n",
    "    h_list = []\n",
    "    for arr, legend, color in zip(arr_list, legend_list, color_list):\n",
    "        # compute the standard error\n",
    "        arr_err = arr.std(axis=0) / np.sqrt(arr.shape[0])\n",
    "        # plot the mean\n",
    "        h, = ax.plot(range(arr.shape[1]), arr.mean(axis=0), color=color, label=legend)\n",
    "        # plot the confidence band\n",
    "        arr_err = 1.96 * arr_err\n",
    "        ax.fill_between(range(arr.shape[1]), arr.mean(axis=0) - arr_err, arr.mean(axis=0) + arr_err, alpha=0.3, color=color)\n",
    "        # save the plot handle\n",
    "        h_list.append(h) \n",
    "    \n",
    "    # plot the upper bound\n",
    "    h = plt.axhline(y=upper_bound.mean(), color='k', linestyle='--', label=\"upper bound\")\n",
    "    h_list.append(h)\n",
    "    \n",
    "    # plot legends\n",
    "    ax.legend(handles=h_list)  \n",
    "    plt.show()"
   ]
  },
  {
   "cell_type": "markdown",
   "metadata": {},
   "source": [
    "# Q5: Implement the ε-greedy algorithm with incremental update"
   ]
  },
  {
   "cell_type": "markdown",
   "metadata": {},
   "source": [
    "The following is the scaffolding code for the epsilon-greedy agent. \n",
    "\n",
    "    1. Reset function: reset the Q value for each arm/action to be self.init. (e.g., self.init = 0)\n",
    "    \n",
    "    2. Choose action: select the arm/action using epsilon-greedy strategy.\n",
    "    \n",
    "    3. Update: update the time steps, Q values for k arms/actions and numbers of selecting each arm/action.\n",
    "    \n",
    "    4. argmax: find the indices of all maximal values in a numpu array.\n",
    "    \n",
    "Please finish the code under \"CODE HERE\""
   ]
  },
  {
   "cell_type": "code",
   "execution_count": 4,
   "metadata": {},
   "outputs": [],
   "source": [
    "class EpsilonGreedyAgent(object):\n",
    "    def __init__(self, k: int, init: int, epsilon: float) -> None:\n",
    "        \"\"\"Epsilon greedy bandit agent\n",
    "\n",
    "        Args:\n",
    "            k (int): number of arms\n",
    "            init (init): initial value of Q-values\n",
    "            epsilon (float): random action probability\n",
    "        \"\"\"\n",
    "        # Number of the arms. For example, k = 10 for 10-armed Bandit problem\n",
    "        self.k = k\n",
    "\n",
    "        # Initial Q value\n",
    "        self.init = init\n",
    "\n",
    "        # Epsilon value\n",
    "        self.epsilon = epsilon\n",
    "\n",
    "        # Q-values for each arm\n",
    "        self.Q = None\n",
    "        # Number of times each arm was pulled\n",
    "        self.N = None\n",
    "        # Current total number of steps\n",
    "        self.t = None\n",
    "\n",
    "        self.action_space = np.arange(self.k)\n",
    "\n",
    "    def reset(self) -> None:\n",
    "        \"\"\"Initialize or reset Q-values and counts\n",
    "\n",
    "        This method should be called after __init__() at least once\n",
    "        \"\"\"\n",
    "        self.Q = self.init * np.ones(self.k, dtype=np.float32)\n",
    "        self.N = np.zeros(self.k, dtype=int)\n",
    "        self.t = 0\n",
    "\n",
    "    def choose_action(self) -> int:\n",
    "        \"\"\"Choose which arm to pull\n",
    "\n",
    "        With probability 1 - epsilon, choose the best action (break ties arbitrarily, use argmax() from above).\n",
    "        \n",
    "        With probability epsilon, choose a random action.\n",
    "        \"\"\"\n",
    "        # CODE HERE: please implement the epsilon-greedy strategy to select the action\n",
    "        val = random.random()\n",
    "        if(val <= self.epsilon):\n",
    "            return np.random.choice(self.action_space)\n",
    "        else:\n",
    "            return self.argmax(self.Q)\n",
    "        # return int \n",
    "\n",
    "    def update(self, action: int, reward: float) -> None:\n",
    "        \"\"\"Update Q-values and N after observing reward.\n",
    "\n",
    "        Args:\n",
    "            action (int): index of pulled arm\n",
    "            reward (float): reward obtained for pulling arm\n",
    "        \"\"\"\n",
    "        # increase the time step\n",
    "        self.t += 1\n",
    "        \n",
    "        # CODE HERE: implement the incremental update\n",
    "        # update the self.N\n",
    "\n",
    "        \n",
    "        # CODE HERE: update self.Q with the incremental update\n",
    "        # Note: please use the sample-average technique in equation 2.1\n",
    "        if self.N[action] == 0:\n",
    "            self.Q[action] = reward\n",
    "        else:\n",
    "            self.Q[action] = self.Q[action] + (1/self.N[action])*(reward - self.Q[action])\n",
    "        self.N[action] = self.N[action] + 1\n",
    "\n",
    "\n",
    "    @staticmethod\n",
    "    def argmax(arr) -> int:\n",
    "        \"\"\"Argmax that breaks ties randomly\n",
    "\n",
    "        Takes in a list of values and returns the index of the item with the highest value, breaking ties randomly.\n",
    "\n",
    "        Note: np.argmax returns the first index that matches the maximum, so we define this method to use in EpsilonGreedy and UCB agents.\n",
    "        Args:\n",
    "            arr: sequence of values\n",
    "        \"\"\"\n",
    "        #CODE HERE: implement argmax_a Q(a) for the greedy action selection, breaking ties randomly.\n",
    "        # Getting the max value\n",
    "        max_val = np.max(arr)\n",
    "\n",
    "        # Getting the indices\n",
    "        indices = np.argwhere(arr == max_val)\n",
    "        return np.random.choice(indices.T[0])\n",
    "\n",
    "        # return int"
   ]
  },
  {
   "cell_type": "code",
   "execution_count": 5,
   "metadata": {},
   "outputs": [],
   "source": [
    "\"\"\" Here is the function to run the epsilon greedy agent. Please complete the missing part under \"CODE HERE\"\n",
    "\"\"\"\n",
    "# run epsilon greedy \n",
    "def run_epsilon_greedy_agent(run_num, time_step, epsilon=0.0, init=0.0):\n",
    "    \"\"\"\n",
    "    Args:\n",
    "        run_num (int): number of runs\n",
    "        time_step (int): number of time steps per run\n",
    "        epsilon (float): epsilon for the agent\n",
    "        init (float): initial value for the Q. (i.e., Q1)\n",
    "    \"\"\"\n",
    "    # DO NOT CHANGE: create the 10-armed Bandit problem\n",
    "    k = 10\n",
    "    env = Bandit(k)\n",
    "    env.reset()\n",
    "\n",
    "    # DO NOT CHANGE: create the agent with proper initial value and epsilon\n",
    "    agent = EpsilonGreedyAgent(k=k, init=init, epsilon=epsilon)\n",
    "    agent.reset()\n",
    "\n",
    "    # DO NOT CHANGE: create a numpy array to store rewards with shape (run_num, time_step)\n",
    "    # For example, results_rewards[r, t] stores the reward for step t in the r-th running trail\n",
    "    results_rewards = np.empty((run_num, time_step))\n",
    "    \n",
    "    # DO NOT CHANGE: create a numpy array to store optimal action proportion with shape (run_num, time_step)\n",
    "    # For example, results_action[r, t] stores 1 if the selected action at step t in the r-th runing trail is optimal\n",
    "    # and 0 otherwise.\n",
    "    results_action = np.empty((run_num, time_step))\n",
    "    \n",
    "    # DO NOT CHANGE: create a numpy array to save upper_bound (only for plotting rewards; it should be 1 for plotting action optimality proportion)\n",
    "    # For example, upper_bound[r] stores the true action value for the r-th running trail.\n",
    "    upper_bound = np.empty(run_num)\n",
    "    \n",
    "\n",
    "    # loop for trails starts\n",
    "    for r in tqdm.tqdm(range(run_num), desc=\"run number\", position=0):\n",
    "        \n",
    "        # CODE HERE: reset the environment to create a new 10-armed bandit problem.\n",
    "        env.reset()\n",
    "\n",
    "        # CODE HERE: reset the agent\n",
    "        agent.reset()\n",
    "        \n",
    "        # CODE HERE: compute the upper bound for each running trial and update upper_bound[r]\n",
    "        upper_bound[r] = env.q_star.max() #* time_step\n",
    "        \n",
    "        # loop for each trail a fixed number of steps\n",
    "        for t in tqdm.tqdm(range(time_step), desc=\"time step\", position=1, leave=False):\n",
    "            \n",
    "            # CODE HERE: get the best action to execute at step t \n",
    "            act = agent.choose_action()\n",
    "            \n",
    "            # CODE HERE: interact with the environment to receive rewards\n",
    "            reward = env.step(act)\n",
    "            \n",
    "            # Code HERE: update the agent based on the observed reward\n",
    "            agent.update(act, reward)\n",
    "                     \n",
    "            \"\"\"DO NOT CHANGE BELOW\"\"\"\n",
    "            # save the reward\n",
    "            results_rewards[r, t] = reward\n",
    "            # check and save whether the action is optimal\n",
    "            if act in env.best_action():\n",
    "                results_action[r, t] = 1\n",
    "            else:\n",
    "                results_action[r, t] = 0\n",
    "            \n",
    "    return results_rewards, results_action, upper_bound"
   ]
  },
  {
   "cell_type": "code",
   "execution_count": 6,
   "metadata": {},
   "outputs": [
    {
     "data": {
      "application/vnd.jupyter.widget-view+json": {
       "model_id": "8dbc71f9892147f0bce3fe77e74ba75c",
       "version_major": 2,
       "version_minor": 0
      },
      "text/plain": [
       "run number:   0%|          | 0/2000 [00:00<?, ?it/s]"
      ]
     },
     "metadata": {},
     "output_type": "display_data"
    },
    {
     "data": {
      "application/vnd.jupyter.widget-view+json": {
       "model_id": "62bcc1606cc54fc6a24cf272bcf8ba87",
       "version_major": 2,
       "version_minor": 0
      },
      "text/plain": [
       "time step:   0%|          | 0/10000 [00:00<?, ?it/s]"
      ]
     },
     "metadata": {},
     "output_type": "display_data"
    },
    {
     "data": {
      "application/vnd.jupyter.widget-view+json": {
       "model_id": "7c730713739d4180960602a661f5aa1e",
       "version_major": 2,
       "version_minor": 0
      },
      "text/plain": [
       "time step:   0%|          | 0/10000 [00:00<?, ?it/s]"
      ]
     },
     "metadata": {},
     "output_type": "display_data"
    },
    {
     "data": {
      "application/vnd.jupyter.widget-view+json": {
       "model_id": "f9607c45cc4740be8bfce4b2bedfba33",
       "version_major": 2,
       "version_minor": 0
      },
      "text/plain": [
       "time step:   0%|          | 0/10000 [00:00<?, ?it/s]"
      ]
     },
     "metadata": {},
     "output_type": "display_data"
    },
    {
     "data": {
      "application/vnd.jupyter.widget-view+json": {
       "model_id": "cf3d3c68466e460ea7a5aa00cbb2a03e",
       "version_major": 2,
       "version_minor": 0
      },
      "text/plain": [
       "time step:   0%|          | 0/10000 [00:00<?, ?it/s]"
      ]
     },
     "metadata": {},
     "output_type": "display_data"
    },
    {
     "data": {
      "application/vnd.jupyter.widget-view+json": {
       "model_id": "9be6095b2ea1414cadf1e2cf13c236a9",
       "version_major": 2,
       "version_minor": 0
      },
      "text/plain": [
       "time step:   0%|          | 0/10000 [00:00<?, ?it/s]"
      ]
     },
     "metadata": {},
     "output_type": "display_data"
    },
    {
     "data": {
      "application/vnd.jupyter.widget-view+json": {
       "model_id": "c8859f990aa545ceb3a97a33bfb367fa",
       "version_major": 2,
       "version_minor": 0
      },
      "text/plain": [
       "time step:   0%|          | 0/10000 [00:00<?, ?it/s]"
      ]
     },
     "metadata": {},
     "output_type": "display_data"
    },
    {
     "data": {
      "application/vnd.jupyter.widget-view+json": {
       "model_id": "7536ac27233e4cf192879c40420bc65f",
       "version_major": 2,
       "version_minor": 0
      },
      "text/plain": [
       "time step:   0%|          | 0/10000 [00:00<?, ?it/s]"
      ]
     },
     "metadata": {},
     "output_type": "display_data"
    },
    {
     "data": {
      "application/vnd.jupyter.widget-view+json": {
       "model_id": "368b84e07347458a8dd514fbd1bd9c77",
       "version_major": 2,
       "version_minor": 0
      },
      "text/plain": [
       "time step:   0%|          | 0/10000 [00:00<?, ?it/s]"
      ]
     },
     "metadata": {},
     "output_type": "display_data"
    },
    {
     "data": {
      "application/vnd.jupyter.widget-view+json": {
       "model_id": "86bd26df0a934d45b171e730fc45e412",
       "version_major": 2,
       "version_minor": 0
      },
      "text/plain": [
       "time step:   0%|          | 0/10000 [00:00<?, ?it/s]"
      ]
     },
     "metadata": {},
     "output_type": "display_data"
    },
    {
     "data": {
      "application/vnd.jupyter.widget-view+json": {
       "model_id": "7c5c820fe543469c8dd7bb093ecfc07e",
       "version_major": 2,
       "version_minor": 0
      },
      "text/plain": [
       "time step:   0%|          | 0/10000 [00:00<?, ?it/s]"
      ]
     },
     "metadata": {},
     "output_type": "display_data"
    },
    {
     "data": {
      "application/vnd.jupyter.widget-view+json": {
       "model_id": "2cbd26313adc4149995f547f91cac203",
       "version_major": 2,
       "version_minor": 0
      },
      "text/plain": [
       "time step:   0%|          | 0/10000 [00:00<?, ?it/s]"
      ]
     },
     "metadata": {},
     "output_type": "display_data"
    },
    {
     "data": {
      "application/vnd.jupyter.widget-view+json": {
       "model_id": "40f369bcfa194b71847113a0c50d355e",
       "version_major": 2,
       "version_minor": 0
      },
      "text/plain": [
       "time step:   0%|          | 0/10000 [00:00<?, ?it/s]"
      ]
     },
     "metadata": {},
     "output_type": "display_data"
    },
    {
     "data": {
      "application/vnd.jupyter.widget-view+json": {
       "model_id": "0d9db9caf2d34aae804a657f52b9107d",
       "version_major": 2,
       "version_minor": 0
      },
      "text/plain": [
       "time step:   0%|          | 0/10000 [00:00<?, ?it/s]"
      ]
     },
     "metadata": {},
     "output_type": "display_data"
    },
    {
     "data": {
      "application/vnd.jupyter.widget-view+json": {
       "model_id": "b2ad90782b194670bdc7d271e6f9744b",
       "version_major": 2,
       "version_minor": 0
      },
      "text/plain": [
       "time step:   0%|          | 0/10000 [00:00<?, ?it/s]"
      ]
     },
     "metadata": {},
     "output_type": "display_data"
    },
    {
     "data": {
      "application/vnd.jupyter.widget-view+json": {
       "model_id": "0a6cd40657da491aba9b38e6a510ace2",
       "version_major": 2,
       "version_minor": 0
      },
      "text/plain": [
       "time step:   0%|          | 0/10000 [00:00<?, ?it/s]"
      ]
     },
     "metadata": {},
     "output_type": "display_data"
    },
    {
     "data": {
      "application/vnd.jupyter.widget-view+json": {
       "model_id": "e1124e366e5c471385912109a810b70e",
       "version_major": 2,
       "version_minor": 0
      },
      "text/plain": [
       "time step:   0%|          | 0/10000 [00:00<?, ?it/s]"
      ]
     },
     "metadata": {},
     "output_type": "display_data"
    },
    {
     "data": {
      "application/vnd.jupyter.widget-view+json": {
       "model_id": "048f01ef8d9649f0b17b278c8b41fce8",
       "version_major": 2,
       "version_minor": 0
      },
      "text/plain": [
       "time step:   0%|          | 0/10000 [00:00<?, ?it/s]"
      ]
     },
     "metadata": {},
     "output_type": "display_data"
    },
    {
     "data": {
      "application/vnd.jupyter.widget-view+json": {
       "model_id": "5fec585f93d84442a044b9d07d678823",
       "version_major": 2,
       "version_minor": 0
      },
      "text/plain": [
       "time step:   0%|          | 0/10000 [00:00<?, ?it/s]"
      ]
     },
     "metadata": {},
     "output_type": "display_data"
    },
    {
     "data": {
      "application/vnd.jupyter.widget-view+json": {
       "model_id": "bc225fe7785b4c73a3636e2800c856eb",
       "version_major": 2,
       "version_minor": 0
      },
      "text/plain": [
       "time step:   0%|          | 0/10000 [00:00<?, ?it/s]"
      ]
     },
     "metadata": {},
     "output_type": "display_data"
    },
    {
     "data": {
      "application/vnd.jupyter.widget-view+json": {
       "model_id": "03fc78ef714b4716b68e16e5788c6271",
       "version_major": 2,
       "version_minor": 0
      },
      "text/plain": [
       "time step:   0%|          | 0/10000 [00:00<?, ?it/s]"
      ]
     },
     "metadata": {},
     "output_type": "display_data"
    },
    {
     "data": {
      "application/vnd.jupyter.widget-view+json": {
       "model_id": "a5754c54ba1d4720af92bbdaec82c950",
       "version_major": 2,
       "version_minor": 0
      },
      "text/plain": [
       "time step:   0%|          | 0/10000 [00:00<?, ?it/s]"
      ]
     },
     "metadata": {},
     "output_type": "display_data"
    },
    {
     "data": {
      "application/vnd.jupyter.widget-view+json": {
       "model_id": "77a65f247edc4c799cd1a7a466306d68",
       "version_major": 2,
       "version_minor": 0
      },
      "text/plain": [
       "time step:   0%|          | 0/10000 [00:00<?, ?it/s]"
      ]
     },
     "metadata": {},
     "output_type": "display_data"
    },
    {
     "data": {
      "application/vnd.jupyter.widget-view+json": {
       "model_id": "21c171d231a74e2da88042dcf49dc274",
       "version_major": 2,
       "version_minor": 0
      },
      "text/plain": [
       "time step:   0%|          | 0/10000 [00:00<?, ?it/s]"
      ]
     },
     "metadata": {},
     "output_type": "display_data"
    },
    {
     "data": {
      "application/vnd.jupyter.widget-view+json": {
       "model_id": "135cd5b4db5748b282f7b3444b0966cf",
       "version_major": 2,
       "version_minor": 0
      },
      "text/plain": [
       "time step:   0%|          | 0/10000 [00:00<?, ?it/s]"
      ]
     },
     "metadata": {},
     "output_type": "display_data"
    },
    {
     "data": {
      "application/vnd.jupyter.widget-view+json": {
       "model_id": "b627fa40a9b44858aac47f1915b3b6f0",
       "version_major": 2,
       "version_minor": 0
      },
      "text/plain": [
       "time step:   0%|          | 0/10000 [00:00<?, ?it/s]"
      ]
     },
     "metadata": {},
     "output_type": "display_data"
    },
    {
     "data": {
      "application/vnd.jupyter.widget-view+json": {
       "model_id": "f276b758270f4ad9ac317435c7b8379e",
       "version_major": 2,
       "version_minor": 0
      },
      "text/plain": [
       "time step:   0%|          | 0/10000 [00:00<?, ?it/s]"
      ]
     },
     "metadata": {},
     "output_type": "display_data"
    },
    {
     "data": {
      "application/vnd.jupyter.widget-view+json": {
       "model_id": "d08f1e645df4410ca6d4192a85b18fa6",
       "version_major": 2,
       "version_minor": 0
      },
      "text/plain": [
       "time step:   0%|          | 0/10000 [00:00<?, ?it/s]"
      ]
     },
     "metadata": {},
     "output_type": "display_data"
    },
    {
     "data": {
      "application/vnd.jupyter.widget-view+json": {
       "model_id": "0cfac3aabdda4f4cad66524ed2f2d305",
       "version_major": 2,
       "version_minor": 0
      },
      "text/plain": [
       "time step:   0%|          | 0/10000 [00:00<?, ?it/s]"
      ]
     },
     "metadata": {},
     "output_type": "display_data"
    },
    {
     "data": {
      "application/vnd.jupyter.widget-view+json": {
       "model_id": "868ef796796d4be1ae7075be68318f88",
       "version_major": 2,
       "version_minor": 0
      },
      "text/plain": [
       "time step:   0%|          | 0/10000 [00:00<?, ?it/s]"
      ]
     },
     "metadata": {},
     "output_type": "display_data"
    },
    {
     "data": {
      "application/vnd.jupyter.widget-view+json": {
       "model_id": "e5d2eae68bef42548688a5f71a39acff",
       "version_major": 2,
       "version_minor": 0
      },
      "text/plain": [
       "time step:   0%|          | 0/10000 [00:00<?, ?it/s]"
      ]
     },
     "metadata": {},
     "output_type": "display_data"
    },
    {
     "data": {
      "application/vnd.jupyter.widget-view+json": {
       "model_id": "3a5107aef3574d35a40dc1d66d69f69d",
       "version_major": 2,
       "version_minor": 0
      },
      "text/plain": [
       "time step:   0%|          | 0/10000 [00:00<?, ?it/s]"
      ]
     },
     "metadata": {},
     "output_type": "display_data"
    },
    {
     "data": {
      "application/vnd.jupyter.widget-view+json": {
       "model_id": "1e9692f019dc44269ea98e388c9e8c1b",
       "version_major": 2,
       "version_minor": 0
      },
      "text/plain": [
       "time step:   0%|          | 0/10000 [00:00<?, ?it/s]"
      ]
     },
     "metadata": {},
     "output_type": "display_data"
    },
    {
     "data": {
      "application/vnd.jupyter.widget-view+json": {
       "model_id": "1d85b4ba702a49e0b89f01807887f631",
       "version_major": 2,
       "version_minor": 0
      },
      "text/plain": [
       "time step:   0%|          | 0/10000 [00:00<?, ?it/s]"
      ]
     },
     "metadata": {},
     "output_type": "display_data"
    },
    {
     "data": {
      "application/vnd.jupyter.widget-view+json": {
       "model_id": "7f3495de6f674bd7b5625ac5ff679d05",
       "version_major": 2,
       "version_minor": 0
      },
      "text/plain": [
       "time step:   0%|          | 0/10000 [00:00<?, ?it/s]"
      ]
     },
     "metadata": {},
     "output_type": "display_data"
    },
    {
     "data": {
      "application/vnd.jupyter.widget-view+json": {
       "model_id": "67c294f00bd54628933377ffb97ef090",
       "version_major": 2,
       "version_minor": 0
      },
      "text/plain": [
       "time step:   0%|          | 0/10000 [00:00<?, ?it/s]"
      ]
     },
     "metadata": {},
     "output_type": "display_data"
    },
    {
     "data": {
      "application/vnd.jupyter.widget-view+json": {
       "model_id": "436c45d4b6ca413f842ca9ac829f59d0",
       "version_major": 2,
       "version_minor": 0
      },
      "text/plain": [
       "time step:   0%|          | 0/10000 [00:00<?, ?it/s]"
      ]
     },
     "metadata": {},
     "output_type": "display_data"
    },
    {
     "data": {
      "application/vnd.jupyter.widget-view+json": {
       "model_id": "1fcb5f824c054a6baa1d48032fb91ff7",
       "version_major": 2,
       "version_minor": 0
      },
      "text/plain": [
       "time step:   0%|          | 0/10000 [00:00<?, ?it/s]"
      ]
     },
     "metadata": {},
     "output_type": "display_data"
    },
    {
     "data": {
      "application/vnd.jupyter.widget-view+json": {
       "model_id": "d690db4b89824929933a8174566d930f",
       "version_major": 2,
       "version_minor": 0
      },
      "text/plain": [
       "time step:   0%|          | 0/10000 [00:00<?, ?it/s]"
      ]
     },
     "metadata": {},
     "output_type": "display_data"
    },
    {
     "data": {
      "application/vnd.jupyter.widget-view+json": {
       "model_id": "d85006ffa34749ae8b46f51048c8befa",
       "version_major": 2,
       "version_minor": 0
      },
      "text/plain": [
       "time step:   0%|          | 0/10000 [00:00<?, ?it/s]"
      ]
     },
     "metadata": {},
     "output_type": "display_data"
    },
    {
     "data": {
      "application/vnd.jupyter.widget-view+json": {
       "model_id": "add3ecfecd7e4908b99d87362410e147",
       "version_major": 2,
       "version_minor": 0
      },
      "text/plain": [
       "time step:   0%|          | 0/10000 [00:00<?, ?it/s]"
      ]
     },
     "metadata": {},
     "output_type": "display_data"
    },
    {
     "data": {
      "application/vnd.jupyter.widget-view+json": {
       "model_id": "bd7097b026ea453e99d1789e09f83d72",
       "version_major": 2,
       "version_minor": 0
      },
      "text/plain": [
       "time step:   0%|          | 0/10000 [00:00<?, ?it/s]"
      ]
     },
     "metadata": {},
     "output_type": "display_data"
    },
    {
     "data": {
      "application/vnd.jupyter.widget-view+json": {
       "model_id": "7650fa329601443988605c0f0e394355",
       "version_major": 2,
       "version_minor": 0
      },
      "text/plain": [
       "time step:   0%|          | 0/10000 [00:00<?, ?it/s]"
      ]
     },
     "metadata": {},
     "output_type": "display_data"
    },
    {
     "data": {
      "application/vnd.jupyter.widget-view+json": {
       "model_id": "cb107b07683045e0a42f621645913618",
       "version_major": 2,
       "version_minor": 0
      },
      "text/plain": [
       "time step:   0%|          | 0/10000 [00:00<?, ?it/s]"
      ]
     },
     "metadata": {},
     "output_type": "display_data"
    },
    {
     "data": {
      "application/vnd.jupyter.widget-view+json": {
       "model_id": "345dc63fe7c946779e87d728fa1a0c61",
       "version_major": 2,
       "version_minor": 0
      },
      "text/plain": [
       "time step:   0%|          | 0/10000 [00:00<?, ?it/s]"
      ]
     },
     "metadata": {},
     "output_type": "display_data"
    },
    {
     "data": {
      "application/vnd.jupyter.widget-view+json": {
       "model_id": "e95f5cd4983c4944987681c2310cfd31",
       "version_major": 2,
       "version_minor": 0
      },
      "text/plain": [
       "time step:   0%|          | 0/10000 [00:00<?, ?it/s]"
      ]
     },
     "metadata": {},
     "output_type": "display_data"
    },
    {
     "data": {
      "application/vnd.jupyter.widget-view+json": {
       "model_id": "9680d8e5a3504a3193ff4696d8925fba",
       "version_major": 2,
       "version_minor": 0
      },
      "text/plain": [
       "time step:   0%|          | 0/10000 [00:00<?, ?it/s]"
      ]
     },
     "metadata": {},
     "output_type": "display_data"
    },
    {
     "data": {
      "application/vnd.jupyter.widget-view+json": {
       "model_id": "df5d6876139c44e1a1c9a6c62bc7d37d",
       "version_major": 2,
       "version_minor": 0
      },
      "text/plain": [
       "time step:   0%|          | 0/10000 [00:00<?, ?it/s]"
      ]
     },
     "metadata": {},
     "output_type": "display_data"
    },
    {
     "data": {
      "application/vnd.jupyter.widget-view+json": {
       "model_id": "6eefaefd85524c8ca78e41a863dd2827",
       "version_major": 2,
       "version_minor": 0
      },
      "text/plain": [
       "time step:   0%|          | 0/10000 [00:00<?, ?it/s]"
      ]
     },
     "metadata": {},
     "output_type": "display_data"
    },
    {
     "data": {
      "application/vnd.jupyter.widget-view+json": {
       "model_id": "f7e8492bbcc245a9b7c7f3c644deb504",
       "version_major": 2,
       "version_minor": 0
      },
      "text/plain": [
       "time step:   0%|          | 0/10000 [00:00<?, ?it/s]"
      ]
     },
     "metadata": {},
     "output_type": "display_data"
    },
    {
     "data": {
      "application/vnd.jupyter.widget-view+json": {
       "model_id": "57ce469b88b54f5682fdef3a1a987e72",
       "version_major": 2,
       "version_minor": 0
      },
      "text/plain": [
       "time step:   0%|          | 0/10000 [00:00<?, ?it/s]"
      ]
     },
     "metadata": {},
     "output_type": "display_data"
    },
    {
     "data": {
      "application/vnd.jupyter.widget-view+json": {
       "model_id": "e233dac253914d17be882077942531b0",
       "version_major": 2,
       "version_minor": 0
      },
      "text/plain": [
       "time step:   0%|          | 0/10000 [00:00<?, ?it/s]"
      ]
     },
     "metadata": {},
     "output_type": "display_data"
    },
    {
     "data": {
      "application/vnd.jupyter.widget-view+json": {
       "model_id": "d0edbac0934844689433bdcac7004efc",
       "version_major": 2,
       "version_minor": 0
      },
      "text/plain": [
       "time step:   0%|          | 0/10000 [00:00<?, ?it/s]"
      ]
     },
     "metadata": {},
     "output_type": "display_data"
    },
    {
     "data": {
      "application/vnd.jupyter.widget-view+json": {
       "model_id": "782b24edded348acbb9d107aa400f231",
       "version_major": 2,
       "version_minor": 0
      },
      "text/plain": [
       "time step:   0%|          | 0/10000 [00:00<?, ?it/s]"
      ]
     },
     "metadata": {},
     "output_type": "display_data"
    },
    {
     "data": {
      "application/vnd.jupyter.widget-view+json": {
       "model_id": "5ba94b8535144747948a76e4616455be",
       "version_major": 2,
       "version_minor": 0
      },
      "text/plain": [
       "time step:   0%|          | 0/10000 [00:00<?, ?it/s]"
      ]
     },
     "metadata": {},
     "output_type": "display_data"
    },
    {
     "data": {
      "application/vnd.jupyter.widget-view+json": {
       "model_id": "217b53a50ef44ecd94aead7318bb0078",
       "version_major": 2,
       "version_minor": 0
      },
      "text/plain": [
       "time step:   0%|          | 0/10000 [00:00<?, ?it/s]"
      ]
     },
     "metadata": {},
     "output_type": "display_data"
    },
    {
     "data": {
      "application/vnd.jupyter.widget-view+json": {
       "model_id": "81f106d996774f2d95e8e2b857ff4ee0",
       "version_major": 2,
       "version_minor": 0
      },
      "text/plain": [
       "time step:   0%|          | 0/10000 [00:00<?, ?it/s]"
      ]
     },
     "metadata": {},
     "output_type": "display_data"
    },
    {
     "data": {
      "application/vnd.jupyter.widget-view+json": {
       "model_id": "d54d59fc0b7c4bfda0230b96ccea21bd",
       "version_major": 2,
       "version_minor": 0
      },
      "text/plain": [
       "time step:   0%|          | 0/10000 [00:00<?, ?it/s]"
      ]
     },
     "metadata": {},
     "output_type": "display_data"
    },
    {
     "data": {
      "application/vnd.jupyter.widget-view+json": {
       "model_id": "407e60f3e3174fb9b50b0ac77984d314",
       "version_major": 2,
       "version_minor": 0
      },
      "text/plain": [
       "time step:   0%|          | 0/10000 [00:00<?, ?it/s]"
      ]
     },
     "metadata": {},
     "output_type": "display_data"
    },
    {
     "data": {
      "application/vnd.jupyter.widget-view+json": {
       "model_id": "5c752e9d179f49058b69f5b778d8938e",
       "version_major": 2,
       "version_minor": 0
      },
      "text/plain": [
       "time step:   0%|          | 0/10000 [00:00<?, ?it/s]"
      ]
     },
     "metadata": {},
     "output_type": "display_data"
    },
    {
     "data": {
      "application/vnd.jupyter.widget-view+json": {
       "model_id": "4efdd79739f94d77a47b051bbd822ae6",
       "version_major": 2,
       "version_minor": 0
      },
      "text/plain": [
       "time step:   0%|          | 0/10000 [00:00<?, ?it/s]"
      ]
     },
     "metadata": {},
     "output_type": "display_data"
    },
    {
     "data": {
      "application/vnd.jupyter.widget-view+json": {
       "model_id": "18bf0accf94b4ab6abef5381a058c89c",
       "version_major": 2,
       "version_minor": 0
      },
      "text/plain": [
       "time step:   0%|          | 0/10000 [00:00<?, ?it/s]"
      ]
     },
     "metadata": {},
     "output_type": "display_data"
    },
    {
     "data": {
      "application/vnd.jupyter.widget-view+json": {
       "model_id": "098ce026f0b146c49bc4b7c0dd21f589",
       "version_major": 2,
       "version_minor": 0
      },
      "text/plain": [
       "time step:   0%|          | 0/10000 [00:00<?, ?it/s]"
      ]
     },
     "metadata": {},
     "output_type": "display_data"
    },
    {
     "data": {
      "application/vnd.jupyter.widget-view+json": {
       "model_id": "4fa4c62ad8634256ae9978e49d041416",
       "version_major": 2,
       "version_minor": 0
      },
      "text/plain": [
       "time step:   0%|          | 0/10000 [00:00<?, ?it/s]"
      ]
     },
     "metadata": {},
     "output_type": "display_data"
    },
    {
     "data": {
      "application/vnd.jupyter.widget-view+json": {
       "model_id": "16d79d7921e94120ad50b2ae7345de20",
       "version_major": 2,
       "version_minor": 0
      },
      "text/plain": [
       "time step:   0%|          | 0/10000 [00:00<?, ?it/s]"
      ]
     },
     "metadata": {},
     "output_type": "display_data"
    },
    {
     "data": {
      "application/vnd.jupyter.widget-view+json": {
       "model_id": "e81d380637da4966b284a17fc1ac65ff",
       "version_major": 2,
       "version_minor": 0
      },
      "text/plain": [
       "time step:   0%|          | 0/10000 [00:00<?, ?it/s]"
      ]
     },
     "metadata": {},
     "output_type": "display_data"
    },
    {
     "data": {
      "application/vnd.jupyter.widget-view+json": {
       "model_id": "229ae677ce314cf7b9f4856e24029a87",
       "version_major": 2,
       "version_minor": 0
      },
      "text/plain": [
       "time step:   0%|          | 0/10000 [00:00<?, ?it/s]"
      ]
     },
     "metadata": {},
     "output_type": "display_data"
    },
    {
     "data": {
      "application/vnd.jupyter.widget-view+json": {
       "model_id": "96ca6b7a5fdd406e9699c156069808ea",
       "version_major": 2,
       "version_minor": 0
      },
      "text/plain": [
       "time step:   0%|          | 0/10000 [00:00<?, ?it/s]"
      ]
     },
     "metadata": {},
     "output_type": "display_data"
    },
    {
     "data": {
      "application/vnd.jupyter.widget-view+json": {
       "model_id": "25675ef6d0944ff18fca58fe80dc27d3",
       "version_major": 2,
       "version_minor": 0
      },
      "text/plain": [
       "time step:   0%|          | 0/10000 [00:00<?, ?it/s]"
      ]
     },
     "metadata": {},
     "output_type": "display_data"
    },
    {
     "data": {
      "application/vnd.jupyter.widget-view+json": {
       "model_id": "d36090f9d4c04b2facbcdcf3a0905c06",
       "version_major": 2,
       "version_minor": 0
      },
      "text/plain": [
       "time step:   0%|          | 0/10000 [00:00<?, ?it/s]"
      ]
     },
     "metadata": {},
     "output_type": "display_data"
    },
    {
     "data": {
      "application/vnd.jupyter.widget-view+json": {
       "model_id": "d8aee870e022492dbfbcd14915b8c333",
       "version_major": 2,
       "version_minor": 0
      },
      "text/plain": [
       "time step:   0%|          | 0/10000 [00:00<?, ?it/s]"
      ]
     },
     "metadata": {},
     "output_type": "display_data"
    },
    {
     "data": {
      "application/vnd.jupyter.widget-view+json": {
       "model_id": "17ce2fb33f3e4c8a8b38e8cb89c1153d",
       "version_major": 2,
       "version_minor": 0
      },
      "text/plain": [
       "time step:   0%|          | 0/10000 [00:00<?, ?it/s]"
      ]
     },
     "metadata": {},
     "output_type": "display_data"
    },
    {
     "data": {
      "application/vnd.jupyter.widget-view+json": {
       "model_id": "87f8878a6cd04a9ea561c730c5cd541e",
       "version_major": 2,
       "version_minor": 0
      },
      "text/plain": [
       "time step:   0%|          | 0/10000 [00:00<?, ?it/s]"
      ]
     },
     "metadata": {},
     "output_type": "display_data"
    },
    {
     "data": {
      "application/vnd.jupyter.widget-view+json": {
       "model_id": "ad82ec094ba24d6f86b1216fab9b0ad4",
       "version_major": 2,
       "version_minor": 0
      },
      "text/plain": [
       "time step:   0%|          | 0/10000 [00:00<?, ?it/s]"
      ]
     },
     "metadata": {},
     "output_type": "display_data"
    },
    {
     "data": {
      "application/vnd.jupyter.widget-view+json": {
       "model_id": "f7b31744aa404492abe6fc50726396ba",
       "version_major": 2,
       "version_minor": 0
      },
      "text/plain": [
       "time step:   0%|          | 0/10000 [00:00<?, ?it/s]"
      ]
     },
     "metadata": {},
     "output_type": "display_data"
    },
    {
     "data": {
      "application/vnd.jupyter.widget-view+json": {
       "model_id": "5fd4bd8287aa465fa6b8e701af40683f",
       "version_major": 2,
       "version_minor": 0
      },
      "text/plain": [
       "time step:   0%|          | 0/10000 [00:00<?, ?it/s]"
      ]
     },
     "metadata": {},
     "output_type": "display_data"
    },
    {
     "data": {
      "application/vnd.jupyter.widget-view+json": {
       "model_id": "c94d6e68ea1a40eaa92a3fd646218633",
       "version_major": 2,
       "version_minor": 0
      },
      "text/plain": [
       "time step:   0%|          | 0/10000 [00:00<?, ?it/s]"
      ]
     },
     "metadata": {},
     "output_type": "display_data"
    },
    {
     "data": {
      "application/vnd.jupyter.widget-view+json": {
       "model_id": "fcf02f72c22f484ca139b6e1fbb8511e",
       "version_major": 2,
       "version_minor": 0
      },
      "text/plain": [
       "time step:   0%|          | 0/10000 [00:00<?, ?it/s]"
      ]
     },
     "metadata": {},
     "output_type": "display_data"
    },
    {
     "data": {
      "application/vnd.jupyter.widget-view+json": {
       "model_id": "d6d2f32792ad480b8ab4a8c2669193c6",
       "version_major": 2,
       "version_minor": 0
      },
      "text/plain": [
       "time step:   0%|          | 0/10000 [00:00<?, ?it/s]"
      ]
     },
     "metadata": {},
     "output_type": "display_data"
    },
    {
     "data": {
      "application/vnd.jupyter.widget-view+json": {
       "model_id": "e8887973eb354cc4bece8b0e48da2731",
       "version_major": 2,
       "version_minor": 0
      },
      "text/plain": [
       "time step:   0%|          | 0/10000 [00:00<?, ?it/s]"
      ]
     },
     "metadata": {},
     "output_type": "display_data"
    },
    {
     "data": {
      "application/vnd.jupyter.widget-view+json": {
       "model_id": "18f1b94c48ae40909f4d92de82c9b971",
       "version_major": 2,
       "version_minor": 0
      },
      "text/plain": [
       "time step:   0%|          | 0/10000 [00:00<?, ?it/s]"
      ]
     },
     "metadata": {},
     "output_type": "display_data"
    },
    {
     "data": {
      "application/vnd.jupyter.widget-view+json": {
       "model_id": "714ae370bba64407a6a21a832a5ca9f3",
       "version_major": 2,
       "version_minor": 0
      },
      "text/plain": [
       "time step:   0%|          | 0/10000 [00:00<?, ?it/s]"
      ]
     },
     "metadata": {},
     "output_type": "display_data"
    },
    {
     "data": {
      "application/vnd.jupyter.widget-view+json": {
       "model_id": "040e46df28424cf7947581187f1f3938",
       "version_major": 2,
       "version_minor": 0
      },
      "text/plain": [
       "time step:   0%|          | 0/10000 [00:00<?, ?it/s]"
      ]
     },
     "metadata": {},
     "output_type": "display_data"
    },
    {
     "data": {
      "application/vnd.jupyter.widget-view+json": {
       "model_id": "37a308f8c93a4425a9992e4d472b895d",
       "version_major": 2,
       "version_minor": 0
      },
      "text/plain": [
       "time step:   0%|          | 0/10000 [00:00<?, ?it/s]"
      ]
     },
     "metadata": {},
     "output_type": "display_data"
    },
    {
     "data": {
      "application/vnd.jupyter.widget-view+json": {
       "model_id": "9226a9dcf4554314976ada8c26085fa7",
       "version_major": 2,
       "version_minor": 0
      },
      "text/plain": [
       "time step:   0%|          | 0/10000 [00:00<?, ?it/s]"
      ]
     },
     "metadata": {},
     "output_type": "display_data"
    },
    {
     "data": {
      "application/vnd.jupyter.widget-view+json": {
       "model_id": "78274f369c66444a85b8e2beee4b78c6",
       "version_major": 2,
       "version_minor": 0
      },
      "text/plain": [
       "time step:   0%|          | 0/10000 [00:00<?, ?it/s]"
      ]
     },
     "metadata": {},
     "output_type": "display_data"
    },
    {
     "data": {
      "application/vnd.jupyter.widget-view+json": {
       "model_id": "9535abfd228a41869da5092add9920cc",
       "version_major": 2,
       "version_minor": 0
      },
      "text/plain": [
       "time step:   0%|          | 0/10000 [00:00<?, ?it/s]"
      ]
     },
     "metadata": {},
     "output_type": "display_data"
    },
    {
     "data": {
      "application/vnd.jupyter.widget-view+json": {
       "model_id": "56cbfe7da937401a8ae1a1e5f609c567",
       "version_major": 2,
       "version_minor": 0
      },
      "text/plain": [
       "time step:   0%|          | 0/10000 [00:00<?, ?it/s]"
      ]
     },
     "metadata": {},
     "output_type": "display_data"
    },
    {
     "data": {
      "application/vnd.jupyter.widget-view+json": {
       "model_id": "bdf2b5de99a74b819291d515ef71bb81",
       "version_major": 2,
       "version_minor": 0
      },
      "text/plain": [
       "time step:   0%|          | 0/10000 [00:00<?, ?it/s]"
      ]
     },
     "metadata": {},
     "output_type": "display_data"
    },
    {
     "data": {
      "application/vnd.jupyter.widget-view+json": {
       "model_id": "31837713edb944cf8343a836cd503ee8",
       "version_major": 2,
       "version_minor": 0
      },
      "text/plain": [
       "time step:   0%|          | 0/10000 [00:00<?, ?it/s]"
      ]
     },
     "metadata": {},
     "output_type": "display_data"
    },
    {
     "data": {
      "application/vnd.jupyter.widget-view+json": {
       "model_id": "8ae1805d53f94d8fba2b77d8a0ae7482",
       "version_major": 2,
       "version_minor": 0
      },
      "text/plain": [
       "time step:   0%|          | 0/10000 [00:00<?, ?it/s]"
      ]
     },
     "metadata": {},
     "output_type": "display_data"
    },
    {
     "data": {
      "application/vnd.jupyter.widget-view+json": {
       "model_id": "6f1f09c8085645858ed97226927ae8f0",
       "version_major": 2,
       "version_minor": 0
      },
      "text/plain": [
       "time step:   0%|          | 0/10000 [00:00<?, ?it/s]"
      ]
     },
     "metadata": {},
     "output_type": "display_data"
    },
    {
     "data": {
      "application/vnd.jupyter.widget-view+json": {
       "model_id": "41a96cc285594c07ac289578fc5ad6bf",
       "version_major": 2,
       "version_minor": 0
      },
      "text/plain": [
       "time step:   0%|          | 0/10000 [00:00<?, ?it/s]"
      ]
     },
     "metadata": {},
     "output_type": "display_data"
    },
    {
     "data": {
      "application/vnd.jupyter.widget-view+json": {
       "model_id": "ec60d121e4da46f3867528f62a0bba2d",
       "version_major": 2,
       "version_minor": 0
      },
      "text/plain": [
       "time step:   0%|          | 0/10000 [00:00<?, ?it/s]"
      ]
     },
     "metadata": {},
     "output_type": "display_data"
    },
    {
     "data": {
      "application/vnd.jupyter.widget-view+json": {
       "model_id": "7124087d0242416b923ecd91a288ec7c",
       "version_major": 2,
       "version_minor": 0
      },
      "text/plain": [
       "time step:   0%|          | 0/10000 [00:00<?, ?it/s]"
      ]
     },
     "metadata": {},
     "output_type": "display_data"
    },
    {
     "data": {
      "application/vnd.jupyter.widget-view+json": {
       "model_id": "5801d3078b7747f99f2c63274be51df8",
       "version_major": 2,
       "version_minor": 0
      },
      "text/plain": [
       "time step:   0%|          | 0/10000 [00:00<?, ?it/s]"
      ]
     },
     "metadata": {},
     "output_type": "display_data"
    },
    {
     "data": {
      "application/vnd.jupyter.widget-view+json": {
       "model_id": "f525575138d24f04b3d9c26a9847c0a5",
       "version_major": 2,
       "version_minor": 0
      },
      "text/plain": [
       "time step:   0%|          | 0/10000 [00:00<?, ?it/s]"
      ]
     },
     "metadata": {},
     "output_type": "display_data"
    },
    {
     "data": {
      "application/vnd.jupyter.widget-view+json": {
       "model_id": "bfcf430ed5454b55953d11ebe66bf3fe",
       "version_major": 2,
       "version_minor": 0
      },
      "text/plain": [
       "time step:   0%|          | 0/10000 [00:00<?, ?it/s]"
      ]
     },
     "metadata": {},
     "output_type": "display_data"
    },
    {
     "data": {
      "application/vnd.jupyter.widget-view+json": {
       "model_id": "c6fd42b533a54d65abfc6c41f43f167b",
       "version_major": 2,
       "version_minor": 0
      },
      "text/plain": [
       "time step:   0%|          | 0/10000 [00:00<?, ?it/s]"
      ]
     },
     "metadata": {},
     "output_type": "display_data"
    },
    {
     "data": {
      "application/vnd.jupyter.widget-view+json": {
       "model_id": "e6f46e6cb50c45d08cba692fb3888922",
       "version_major": 2,
       "version_minor": 0
      },
      "text/plain": [
       "time step:   0%|          | 0/10000 [00:00<?, ?it/s]"
      ]
     },
     "metadata": {},
     "output_type": "display_data"
    },
    {
     "data": {
      "application/vnd.jupyter.widget-view+json": {
       "model_id": "f576fd95b8454a439b6eec0794e8fe83",
       "version_major": 2,
       "version_minor": 0
      },
      "text/plain": [
       "time step:   0%|          | 0/10000 [00:00<?, ?it/s]"
      ]
     },
     "metadata": {},
     "output_type": "display_data"
    },
    {
     "data": {
      "application/vnd.jupyter.widget-view+json": {
       "model_id": "4c459bc4fa294a569a238d1574adc7eb",
       "version_major": 2,
       "version_minor": 0
      },
      "text/plain": [
       "time step:   0%|          | 0/10000 [00:00<?, ?it/s]"
      ]
     },
     "metadata": {},
     "output_type": "display_data"
    },
    {
     "data": {
      "application/vnd.jupyter.widget-view+json": {
       "model_id": "00cc0056e1c845e59332a70290ab8958",
       "version_major": 2,
       "version_minor": 0
      },
      "text/plain": [
       "time step:   0%|          | 0/10000 [00:00<?, ?it/s]"
      ]
     },
     "metadata": {},
     "output_type": "display_data"
    },
    {
     "data": {
      "application/vnd.jupyter.widget-view+json": {
       "model_id": "940c179c912848129d3048c6eb706e5c",
       "version_major": 2,
       "version_minor": 0
      },
      "text/plain": [
       "time step:   0%|          | 0/10000 [00:00<?, ?it/s]"
      ]
     },
     "metadata": {},
     "output_type": "display_data"
    },
    {
     "data": {
      "application/vnd.jupyter.widget-view+json": {
       "model_id": "aac38d1e02e548fdb772df7c8a6a2c2d",
       "version_major": 2,
       "version_minor": 0
      },
      "text/plain": [
       "time step:   0%|          | 0/10000 [00:00<?, ?it/s]"
      ]
     },
     "metadata": {},
     "output_type": "display_data"
    },
    {
     "data": {
      "application/vnd.jupyter.widget-view+json": {
       "model_id": "d0b6b2664e5d4cff98b8d11d5d231b8d",
       "version_major": 2,
       "version_minor": 0
      },
      "text/plain": [
       "time step:   0%|          | 0/10000 [00:00<?, ?it/s]"
      ]
     },
     "metadata": {},
     "output_type": "display_data"
    },
    {
     "data": {
      "application/vnd.jupyter.widget-view+json": {
       "model_id": "4a44cda7fb654b3b916d39ec8c1d732d",
       "version_major": 2,
       "version_minor": 0
      },
      "text/plain": [
       "time step:   0%|          | 0/10000 [00:00<?, ?it/s]"
      ]
     },
     "metadata": {},
     "output_type": "display_data"
    },
    {
     "data": {
      "application/vnd.jupyter.widget-view+json": {
       "model_id": "be17969bd23c4f83bbca3f6b5c6a934e",
       "version_major": 2,
       "version_minor": 0
      },
      "text/plain": [
       "time step:   0%|          | 0/10000 [00:00<?, ?it/s]"
      ]
     },
     "metadata": {},
     "output_type": "display_data"
    },
    {
     "data": {
      "application/vnd.jupyter.widget-view+json": {
       "model_id": "636a6df2a98b49ed9cccce4a8067e270",
       "version_major": 2,
       "version_minor": 0
      },
      "text/plain": [
       "time step:   0%|          | 0/10000 [00:00<?, ?it/s]"
      ]
     },
     "metadata": {},
     "output_type": "display_data"
    },
    {
     "data": {
      "application/vnd.jupyter.widget-view+json": {
       "model_id": "32171be84bb24ca0a22bf24862f68caa",
       "version_major": 2,
       "version_minor": 0
      },
      "text/plain": [
       "time step:   0%|          | 0/10000 [00:00<?, ?it/s]"
      ]
     },
     "metadata": {},
     "output_type": "display_data"
    },
    {
     "data": {
      "application/vnd.jupyter.widget-view+json": {
       "model_id": "259b1fc5e3864a9c9cb489d32f28eea3",
       "version_major": 2,
       "version_minor": 0
      },
      "text/plain": [
       "time step:   0%|          | 0/10000 [00:00<?, ?it/s]"
      ]
     },
     "metadata": {},
     "output_type": "display_data"
    },
    {
     "data": {
      "application/vnd.jupyter.widget-view+json": {
       "model_id": "3863a8677a384c13a9359be8fbd9b321",
       "version_major": 2,
       "version_minor": 0
      },
      "text/plain": [
       "time step:   0%|          | 0/10000 [00:00<?, ?it/s]"
      ]
     },
     "metadata": {},
     "output_type": "display_data"
    },
    {
     "data": {
      "application/vnd.jupyter.widget-view+json": {
       "model_id": "35410be407cd4524ab9ff0682e8f5e4d",
       "version_major": 2,
       "version_minor": 0
      },
      "text/plain": [
       "time step:   0%|          | 0/10000 [00:00<?, ?it/s]"
      ]
     },
     "metadata": {},
     "output_type": "display_data"
    },
    {
     "data": {
      "application/vnd.jupyter.widget-view+json": {
       "model_id": "47ec5d2889aa4900adf094ad66861dc4",
       "version_major": 2,
       "version_minor": 0
      },
      "text/plain": [
       "time step:   0%|          | 0/10000 [00:00<?, ?it/s]"
      ]
     },
     "metadata": {},
     "output_type": "display_data"
    },
    {
     "data": {
      "application/vnd.jupyter.widget-view+json": {
       "model_id": "f88c2fd9bb564eb08834eda499970fd7",
       "version_major": 2,
       "version_minor": 0
      },
      "text/plain": [
       "time step:   0%|          | 0/10000 [00:00<?, ?it/s]"
      ]
     },
     "metadata": {},
     "output_type": "display_data"
    },
    {
     "data": {
      "application/vnd.jupyter.widget-view+json": {
       "model_id": "a641a3720baf421da27d7a127a8e37c8",
       "version_major": 2,
       "version_minor": 0
      },
      "text/plain": [
       "time step:   0%|          | 0/10000 [00:00<?, ?it/s]"
      ]
     },
     "metadata": {},
     "output_type": "display_data"
    },
    {
     "data": {
      "application/vnd.jupyter.widget-view+json": {
       "model_id": "0c53bc18d0d346bcbe156913a31ded7f",
       "version_major": 2,
       "version_minor": 0
      },
      "text/plain": [
       "time step:   0%|          | 0/10000 [00:00<?, ?it/s]"
      ]
     },
     "metadata": {},
     "output_type": "display_data"
    },
    {
     "data": {
      "application/vnd.jupyter.widget-view+json": {
       "model_id": "1b8f0029e3fd42eca9104627e281e034",
       "version_major": 2,
       "version_minor": 0
      },
      "text/plain": [
       "time step:   0%|          | 0/10000 [00:00<?, ?it/s]"
      ]
     },
     "metadata": {},
     "output_type": "display_data"
    },
    {
     "data": {
      "application/vnd.jupyter.widget-view+json": {
       "model_id": "d0f6d55d1e2f439b866588af69d1ea45",
       "version_major": 2,
       "version_minor": 0
      },
      "text/plain": [
       "time step:   0%|          | 0/10000 [00:00<?, ?it/s]"
      ]
     },
     "metadata": {},
     "output_type": "display_data"
    },
    {
     "data": {
      "application/vnd.jupyter.widget-view+json": {
       "model_id": "4e8dfd7963c84f3e853b2a1240cf5491",
       "version_major": 2,
       "version_minor": 0
      },
      "text/plain": [
       "time step:   0%|          | 0/10000 [00:00<?, ?it/s]"
      ]
     },
     "metadata": {},
     "output_type": "display_data"
    },
    {
     "data": {
      "application/vnd.jupyter.widget-view+json": {
       "model_id": "b30def5ef13a49e2b1dec17f1c67a331",
       "version_major": 2,
       "version_minor": 0
      },
      "text/plain": [
       "time step:   0%|          | 0/10000 [00:00<?, ?it/s]"
      ]
     },
     "metadata": {},
     "output_type": "display_data"
    },
    {
     "data": {
      "application/vnd.jupyter.widget-view+json": {
       "model_id": "3beae7c9a3fd49c2864a3c5b3dce89ed",
       "version_major": 2,
       "version_minor": 0
      },
      "text/plain": [
       "time step:   0%|          | 0/10000 [00:00<?, ?it/s]"
      ]
     },
     "metadata": {},
     "output_type": "display_data"
    },
    {
     "data": {
      "application/vnd.jupyter.widget-view+json": {
       "model_id": "310dfe325f764679b19bd828123cf2a4",
       "version_major": 2,
       "version_minor": 0
      },
      "text/plain": [
       "time step:   0%|          | 0/10000 [00:00<?, ?it/s]"
      ]
     },
     "metadata": {},
     "output_type": "display_data"
    },
    {
     "data": {
      "application/vnd.jupyter.widget-view+json": {
       "model_id": "f52569df88e444339f54970a9a3148b2",
       "version_major": 2,
       "version_minor": 0
      },
      "text/plain": [
       "time step:   0%|          | 0/10000 [00:00<?, ?it/s]"
      ]
     },
     "metadata": {},
     "output_type": "display_data"
    },
    {
     "data": {
      "application/vnd.jupyter.widget-view+json": {
       "model_id": "2118cd3f0c4a4b47af157b117f888a78",
       "version_major": 2,
       "version_minor": 0
      },
      "text/plain": [
       "time step:   0%|          | 0/10000 [00:00<?, ?it/s]"
      ]
     },
     "metadata": {},
     "output_type": "display_data"
    },
    {
     "data": {
      "application/vnd.jupyter.widget-view+json": {
       "model_id": "8e1f5c955b2e4e3a8b5ca72bfee55ffc",
       "version_major": 2,
       "version_minor": 0
      },
      "text/plain": [
       "time step:   0%|          | 0/10000 [00:00<?, ?it/s]"
      ]
     },
     "metadata": {},
     "output_type": "display_data"
    },
    {
     "data": {
      "application/vnd.jupyter.widget-view+json": {
       "model_id": "768f41da3d0e49a5985fc4e90aecc7b4",
       "version_major": 2,
       "version_minor": 0
      },
      "text/plain": [
       "time step:   0%|          | 0/10000 [00:00<?, ?it/s]"
      ]
     },
     "metadata": {},
     "output_type": "display_data"
    },
    {
     "data": {
      "application/vnd.jupyter.widget-view+json": {
       "model_id": "003072374d034dd0a055ca185fb968c4",
       "version_major": 2,
       "version_minor": 0
      },
      "text/plain": [
       "time step:   0%|          | 0/10000 [00:00<?, ?it/s]"
      ]
     },
     "metadata": {},
     "output_type": "display_data"
    },
    {
     "data": {
      "application/vnd.jupyter.widget-view+json": {
       "model_id": "58934f57025d4779a1c25cbb9c881788",
       "version_major": 2,
       "version_minor": 0
      },
      "text/plain": [
       "time step:   0%|          | 0/10000 [00:00<?, ?it/s]"
      ]
     },
     "metadata": {},
     "output_type": "display_data"
    },
    {
     "data": {
      "application/vnd.jupyter.widget-view+json": {
       "model_id": "39fc90989b8d4619a1c93fdcb379da78",
       "version_major": 2,
       "version_minor": 0
      },
      "text/plain": [
       "time step:   0%|          | 0/10000 [00:00<?, ?it/s]"
      ]
     },
     "metadata": {},
     "output_type": "display_data"
    },
    {
     "data": {
      "application/vnd.jupyter.widget-view+json": {
       "model_id": "905628b6500243c5beb8fa156581e6da",
       "version_major": 2,
       "version_minor": 0
      },
      "text/plain": [
       "time step:   0%|          | 0/10000 [00:00<?, ?it/s]"
      ]
     },
     "metadata": {},
     "output_type": "display_data"
    },
    {
     "data": {
      "application/vnd.jupyter.widget-view+json": {
       "model_id": "4de8a8aaf7fc4ab281a6f69fe12f8eb1",
       "version_major": 2,
       "version_minor": 0
      },
      "text/plain": [
       "time step:   0%|          | 0/10000 [00:00<?, ?it/s]"
      ]
     },
     "metadata": {},
     "output_type": "display_data"
    },
    {
     "data": {
      "application/vnd.jupyter.widget-view+json": {
       "model_id": "8dbb0cc64be0411e94667803d7e99d1f",
       "version_major": 2,
       "version_minor": 0
      },
      "text/plain": [
       "time step:   0%|          | 0/10000 [00:00<?, ?it/s]"
      ]
     },
     "metadata": {},
     "output_type": "display_data"
    },
    {
     "data": {
      "application/vnd.jupyter.widget-view+json": {
       "model_id": "5a95be1681d74b93b0027c1bd62b2bd5",
       "version_major": 2,
       "version_minor": 0
      },
      "text/plain": [
       "time step:   0%|          | 0/10000 [00:00<?, ?it/s]"
      ]
     },
     "metadata": {},
     "output_type": "display_data"
    },
    {
     "data": {
      "application/vnd.jupyter.widget-view+json": {
       "model_id": "c5bf788a609c49a0a24e5cd56fef52a3",
       "version_major": 2,
       "version_minor": 0
      },
      "text/plain": [
       "time step:   0%|          | 0/10000 [00:00<?, ?it/s]"
      ]
     },
     "metadata": {},
     "output_type": "display_data"
    },
    {
     "data": {
      "application/vnd.jupyter.widget-view+json": {
       "model_id": "cb80931ff1f6463686d036b8dce0faa4",
       "version_major": 2,
       "version_minor": 0
      },
      "text/plain": [
       "time step:   0%|          | 0/10000 [00:00<?, ?it/s]"
      ]
     },
     "metadata": {},
     "output_type": "display_data"
    },
    {
     "data": {
      "application/vnd.jupyter.widget-view+json": {
       "model_id": "03645edb963544a986380eb30b6f35db",
       "version_major": 2,
       "version_minor": 0
      },
      "text/plain": [
       "time step:   0%|          | 0/10000 [00:00<?, ?it/s]"
      ]
     },
     "metadata": {},
     "output_type": "display_data"
    },
    {
     "data": {
      "application/vnd.jupyter.widget-view+json": {
       "model_id": "e368b3a2fb2e40a289d0b9b1fdb9adbf",
       "version_major": 2,
       "version_minor": 0
      },
      "text/plain": [
       "time step:   0%|          | 0/10000 [00:00<?, ?it/s]"
      ]
     },
     "metadata": {},
     "output_type": "display_data"
    },
    {
     "data": {
      "application/vnd.jupyter.widget-view+json": {
       "model_id": "93c68d5e657442d791c8e04ff16e0c23",
       "version_major": 2,
       "version_minor": 0
      },
      "text/plain": [
       "time step:   0%|          | 0/10000 [00:00<?, ?it/s]"
      ]
     },
     "metadata": {},
     "output_type": "display_data"
    },
    {
     "data": {
      "application/vnd.jupyter.widget-view+json": {
       "model_id": "6bbf7b9eb604492ea9c683712c597a86",
       "version_major": 2,
       "version_minor": 0
      },
      "text/plain": [
       "time step:   0%|          | 0/10000 [00:00<?, ?it/s]"
      ]
     },
     "metadata": {},
     "output_type": "display_data"
    },
    {
     "data": {
      "application/vnd.jupyter.widget-view+json": {
       "model_id": "760382c56a5c4146a75c0ad2037ab6a8",
       "version_major": 2,
       "version_minor": 0
      },
      "text/plain": [
       "time step:   0%|          | 0/10000 [00:00<?, ?it/s]"
      ]
     },
     "metadata": {},
     "output_type": "display_data"
    },
    {
     "data": {
      "application/vnd.jupyter.widget-view+json": {
       "model_id": "1c8ab3677b4c41ef94887b62cf70bcd5",
       "version_major": 2,
       "version_minor": 0
      },
      "text/plain": [
       "time step:   0%|          | 0/10000 [00:00<?, ?it/s]"
      ]
     },
     "metadata": {},
     "output_type": "display_data"
    },
    {
     "data": {
      "application/vnd.jupyter.widget-view+json": {
       "model_id": "2a329ebd5a964f2cbe04dad571c1cdea",
       "version_major": 2,
       "version_minor": 0
      },
      "text/plain": [
       "time step:   0%|          | 0/10000 [00:00<?, ?it/s]"
      ]
     },
     "metadata": {},
     "output_type": "display_data"
    },
    {
     "data": {
      "application/vnd.jupyter.widget-view+json": {
       "model_id": "183979bb7f6f40579badc3f2f1fa3286",
       "version_major": 2,
       "version_minor": 0
      },
      "text/plain": [
       "time step:   0%|          | 0/10000 [00:00<?, ?it/s]"
      ]
     },
     "metadata": {},
     "output_type": "display_data"
    },
    {
     "data": {
      "application/vnd.jupyter.widget-view+json": {
       "model_id": "c2e3a3ef67ee441e9a164046dc263696",
       "version_major": 2,
       "version_minor": 0
      },
      "text/plain": [
       "time step:   0%|          | 0/10000 [00:00<?, ?it/s]"
      ]
     },
     "metadata": {},
     "output_type": "display_data"
    },
    {
     "data": {
      "application/vnd.jupyter.widget-view+json": {
       "model_id": "0aaaf9cff0c04d1abbed9cff0da91124",
       "version_major": 2,
       "version_minor": 0
      },
      "text/plain": [
       "time step:   0%|          | 0/10000 [00:00<?, ?it/s]"
      ]
     },
     "metadata": {},
     "output_type": "display_data"
    },
    {
     "data": {
      "application/vnd.jupyter.widget-view+json": {
       "model_id": "913977cbe68d41a6b4578f28b08b0013",
       "version_major": 2,
       "version_minor": 0
      },
      "text/plain": [
       "time step:   0%|          | 0/10000 [00:00<?, ?it/s]"
      ]
     },
     "metadata": {},
     "output_type": "display_data"
    },
    {
     "data": {
      "application/vnd.jupyter.widget-view+json": {
       "model_id": "17646a03db984f10b4bd0b6bbc0a9a71",
       "version_major": 2,
       "version_minor": 0
      },
      "text/plain": [
       "time step:   0%|          | 0/10000 [00:00<?, ?it/s]"
      ]
     },
     "metadata": {},
     "output_type": "display_data"
    },
    {
     "data": {
      "application/vnd.jupyter.widget-view+json": {
       "model_id": "543a892785374c6086435976b1239f00",
       "version_major": 2,
       "version_minor": 0
      },
      "text/plain": [
       "time step:   0%|          | 0/10000 [00:00<?, ?it/s]"
      ]
     },
     "metadata": {},
     "output_type": "display_data"
    },
    {
     "data": {
      "application/vnd.jupyter.widget-view+json": {
       "model_id": "4ec20a3cf19446eba0a9d5a52667fef0",
       "version_major": 2,
       "version_minor": 0
      },
      "text/plain": [
       "time step:   0%|          | 0/10000 [00:00<?, ?it/s]"
      ]
     },
     "metadata": {},
     "output_type": "display_data"
    },
    {
     "data": {
      "application/vnd.jupyter.widget-view+json": {
       "model_id": "d80425d6f09d496e94bd5fd409df4f0a",
       "version_major": 2,
       "version_minor": 0
      },
      "text/plain": [
       "time step:   0%|          | 0/10000 [00:00<?, ?it/s]"
      ]
     },
     "metadata": {},
     "output_type": "display_data"
    },
    {
     "data": {
      "application/vnd.jupyter.widget-view+json": {
       "model_id": "8b5925347c3e4fca9fd4acefa6d21f1b",
       "version_major": 2,
       "version_minor": 0
      },
      "text/plain": [
       "time step:   0%|          | 0/10000 [00:00<?, ?it/s]"
      ]
     },
     "metadata": {},
     "output_type": "display_data"
    },
    {
     "data": {
      "application/vnd.jupyter.widget-view+json": {
       "model_id": "79f174c8ad3242f8b3efac5d5898d978",
       "version_major": 2,
       "version_minor": 0
      },
      "text/plain": [
       "time step:   0%|          | 0/10000 [00:00<?, ?it/s]"
      ]
     },
     "metadata": {},
     "output_type": "display_data"
    },
    {
     "data": {
      "application/vnd.jupyter.widget-view+json": {
       "model_id": "9d7af9ecb0944726bb5285c0a832f58c",
       "version_major": 2,
       "version_minor": 0
      },
      "text/plain": [
       "time step:   0%|          | 0/10000 [00:00<?, ?it/s]"
      ]
     },
     "metadata": {},
     "output_type": "display_data"
    },
    {
     "data": {
      "application/vnd.jupyter.widget-view+json": {
       "model_id": "98484a9e576041f394b950290755b0d3",
       "version_major": 2,
       "version_minor": 0
      },
      "text/plain": [
       "time step:   0%|          | 0/10000 [00:00<?, ?it/s]"
      ]
     },
     "metadata": {},
     "output_type": "display_data"
    },
    {
     "data": {
      "application/vnd.jupyter.widget-view+json": {
       "model_id": "4f8d0088100847d1bdf4dbfa326bf10e",
       "version_major": 2,
       "version_minor": 0
      },
      "text/plain": [
       "time step:   0%|          | 0/10000 [00:00<?, ?it/s]"
      ]
     },
     "metadata": {},
     "output_type": "display_data"
    },
    {
     "data": {
      "application/vnd.jupyter.widget-view+json": {
       "model_id": "f5dc769f9588401a91ce5c426e74a6c2",
       "version_major": 2,
       "version_minor": 0
      },
      "text/plain": [
       "time step:   0%|          | 0/10000 [00:00<?, ?it/s]"
      ]
     },
     "metadata": {},
     "output_type": "display_data"
    },
    {
     "data": {
      "application/vnd.jupyter.widget-view+json": {
       "model_id": "fef4c73fd992462195caa83b0775141e",
       "version_major": 2,
       "version_minor": 0
      },
      "text/plain": [
       "time step:   0%|          | 0/10000 [00:00<?, ?it/s]"
      ]
     },
     "metadata": {},
     "output_type": "display_data"
    },
    {
     "data": {
      "application/vnd.jupyter.widget-view+json": {
       "model_id": "8004bb5bfc5d4dc79af220491573b8b4",
       "version_major": 2,
       "version_minor": 0
      },
      "text/plain": [
       "time step:   0%|          | 0/10000 [00:00<?, ?it/s]"
      ]
     },
     "metadata": {},
     "output_type": "display_data"
    },
    {
     "data": {
      "application/vnd.jupyter.widget-view+json": {
       "model_id": "a71bc221c32e4533b26dab0a960fa978",
       "version_major": 2,
       "version_minor": 0
      },
      "text/plain": [
       "time step:   0%|          | 0/10000 [00:00<?, ?it/s]"
      ]
     },
     "metadata": {},
     "output_type": "display_data"
    },
    {
     "data": {
      "application/vnd.jupyter.widget-view+json": {
       "model_id": "e86dcc7900e448cb92878b2ef52b397e",
       "version_major": 2,
       "version_minor": 0
      },
      "text/plain": [
       "time step:   0%|          | 0/10000 [00:00<?, ?it/s]"
      ]
     },
     "metadata": {},
     "output_type": "display_data"
    },
    {
     "data": {
      "application/vnd.jupyter.widget-view+json": {
       "model_id": "6cc371443dd248c6854d8264623cb813",
       "version_major": 2,
       "version_minor": 0
      },
      "text/plain": [
       "time step:   0%|          | 0/10000 [00:00<?, ?it/s]"
      ]
     },
     "metadata": {},
     "output_type": "display_data"
    },
    {
     "data": {
      "application/vnd.jupyter.widget-view+json": {
       "model_id": "4bbd134545b64c7689d67fea0ac2ecd5",
       "version_major": 2,
       "version_minor": 0
      },
      "text/plain": [
       "time step:   0%|          | 0/10000 [00:00<?, ?it/s]"
      ]
     },
     "metadata": {},
     "output_type": "display_data"
    },
    {
     "data": {
      "application/vnd.jupyter.widget-view+json": {
       "model_id": "c4a388a2326a4bbc80723ce4a0a82f1f",
       "version_major": 2,
       "version_minor": 0
      },
      "text/plain": [
       "time step:   0%|          | 0/10000 [00:00<?, ?it/s]"
      ]
     },
     "metadata": {},
     "output_type": "display_data"
    },
    {
     "data": {
      "application/vnd.jupyter.widget-view+json": {
       "model_id": "ca0df8c4403b47a99d7c7ab988ee9e23",
       "version_major": 2,
       "version_minor": 0
      },
      "text/plain": [
       "time step:   0%|          | 0/10000 [00:00<?, ?it/s]"
      ]
     },
     "metadata": {},
     "output_type": "display_data"
    },
    {
     "data": {
      "application/vnd.jupyter.widget-view+json": {
       "model_id": "9ab26339f47a41409a60259ef086792b",
       "version_major": 2,
       "version_minor": 0
      },
      "text/plain": [
       "time step:   0%|          | 0/10000 [00:00<?, ?it/s]"
      ]
     },
     "metadata": {},
     "output_type": "display_data"
    },
    {
     "data": {
      "application/vnd.jupyter.widget-view+json": {
       "model_id": "d6ff461126784a9ca820362ba23b6214",
       "version_major": 2,
       "version_minor": 0
      },
      "text/plain": [
       "time step:   0%|          | 0/10000 [00:00<?, ?it/s]"
      ]
     },
     "metadata": {},
     "output_type": "display_data"
    },
    {
     "data": {
      "application/vnd.jupyter.widget-view+json": {
       "model_id": "7e8389d3409545d2babbf901948f7b1b",
       "version_major": 2,
       "version_minor": 0
      },
      "text/plain": [
       "time step:   0%|          | 0/10000 [00:00<?, ?it/s]"
      ]
     },
     "metadata": {},
     "output_type": "display_data"
    },
    {
     "data": {
      "application/vnd.jupyter.widget-view+json": {
       "model_id": "d326ea34a5f34a68942b52b798b2e6d3",
       "version_major": 2,
       "version_minor": 0
      },
      "text/plain": [
       "time step:   0%|          | 0/10000 [00:00<?, ?it/s]"
      ]
     },
     "metadata": {},
     "output_type": "display_data"
    },
    {
     "data": {
      "application/vnd.jupyter.widget-view+json": {
       "model_id": "adedd0024a1a4b91b2e6942195e79ecf",
       "version_major": 2,
       "version_minor": 0
      },
      "text/plain": [
       "time step:   0%|          | 0/10000 [00:00<?, ?it/s]"
      ]
     },
     "metadata": {},
     "output_type": "display_data"
    },
    {
     "data": {
      "application/vnd.jupyter.widget-view+json": {
       "model_id": "50757d345de6494a9ae37acc437d4c26",
       "version_major": 2,
       "version_minor": 0
      },
      "text/plain": [
       "time step:   0%|          | 0/10000 [00:00<?, ?it/s]"
      ]
     },
     "metadata": {},
     "output_type": "display_data"
    },
    {
     "data": {
      "application/vnd.jupyter.widget-view+json": {
       "model_id": "00140e055a8441699312089d8d8c10ef",
       "version_major": 2,
       "version_minor": 0
      },
      "text/plain": [
       "time step:   0%|          | 0/10000 [00:00<?, ?it/s]"
      ]
     },
     "metadata": {},
     "output_type": "display_data"
    },
    {
     "data": {
      "application/vnd.jupyter.widget-view+json": {
       "model_id": "4ece257716a94041aa21e794a553c9e8",
       "version_major": 2,
       "version_minor": 0
      },
      "text/plain": [
       "time step:   0%|          | 0/10000 [00:00<?, ?it/s]"
      ]
     },
     "metadata": {},
     "output_type": "display_data"
    },
    {
     "data": {
      "application/vnd.jupyter.widget-view+json": {
       "model_id": "64ac8281abbd4c72bff3069ae7defc81",
       "version_major": 2,
       "version_minor": 0
      },
      "text/plain": [
       "time step:   0%|          | 0/10000 [00:00<?, ?it/s]"
      ]
     },
     "metadata": {},
     "output_type": "display_data"
    },
    {
     "data": {
      "application/vnd.jupyter.widget-view+json": {
       "model_id": "99bc39c26d8e427d86f7764e6f215c60",
       "version_major": 2,
       "version_minor": 0
      },
      "text/plain": [
       "time step:   0%|          | 0/10000 [00:00<?, ?it/s]"
      ]
     },
     "metadata": {},
     "output_type": "display_data"
    },
    {
     "data": {
      "application/vnd.jupyter.widget-view+json": {
       "model_id": "660126dd20724960b34a92e067fc3245",
       "version_major": 2,
       "version_minor": 0
      },
      "text/plain": [
       "time step:   0%|          | 0/10000 [00:00<?, ?it/s]"
      ]
     },
     "metadata": {},
     "output_type": "display_data"
    },
    {
     "data": {
      "application/vnd.jupyter.widget-view+json": {
       "model_id": "d15cc50f5ae4441d8cadd18dc53c1fda",
       "version_major": 2,
       "version_minor": 0
      },
      "text/plain": [
       "time step:   0%|          | 0/10000 [00:00<?, ?it/s]"
      ]
     },
     "metadata": {},
     "output_type": "display_data"
    },
    {
     "data": {
      "application/vnd.jupyter.widget-view+json": {
       "model_id": "b91469fe92044ebaa08b63a5762766d5",
       "version_major": 2,
       "version_minor": 0
      },
      "text/plain": [
       "time step:   0%|          | 0/10000 [00:00<?, ?it/s]"
      ]
     },
     "metadata": {},
     "output_type": "display_data"
    },
    {
     "data": {
      "application/vnd.jupyter.widget-view+json": {
       "model_id": "c06d2a28467d4a758bf6489018a68f98",
       "version_major": 2,
       "version_minor": 0
      },
      "text/plain": [
       "time step:   0%|          | 0/10000 [00:00<?, ?it/s]"
      ]
     },
     "metadata": {},
     "output_type": "display_data"
    },
    {
     "data": {
      "application/vnd.jupyter.widget-view+json": {
       "model_id": "91382ee7422342bcaecec23c85c98cf9",
       "version_major": 2,
       "version_minor": 0
      },
      "text/plain": [
       "time step:   0%|          | 0/10000 [00:00<?, ?it/s]"
      ]
     },
     "metadata": {},
     "output_type": "display_data"
    },
    {
     "data": {
      "application/vnd.jupyter.widget-view+json": {
       "model_id": "b64934bc7bfa43aa9f4513f764c32269",
       "version_major": 2,
       "version_minor": 0
      },
      "text/plain": [
       "time step:   0%|          | 0/10000 [00:00<?, ?it/s]"
      ]
     },
     "metadata": {},
     "output_type": "display_data"
    },
    {
     "data": {
      "application/vnd.jupyter.widget-view+json": {
       "model_id": "efccd8261d5a458ca69b917f47ae638c",
       "version_major": 2,
       "version_minor": 0
      },
      "text/plain": [
       "time step:   0%|          | 0/10000 [00:00<?, ?it/s]"
      ]
     },
     "metadata": {},
     "output_type": "display_data"
    },
    {
     "data": {
      "application/vnd.jupyter.widget-view+json": {
       "model_id": "6cc5e6d2e89142a88af49f5f1bafd26e",
       "version_major": 2,
       "version_minor": 0
      },
      "text/plain": [
       "time step:   0%|          | 0/10000 [00:00<?, ?it/s]"
      ]
     },
     "metadata": {},
     "output_type": "display_data"
    },
    {
     "data": {
      "application/vnd.jupyter.widget-view+json": {
       "model_id": "b351b98e42004d4980b026aed7768322",
       "version_major": 2,
       "version_minor": 0
      },
      "text/plain": [
       "time step:   0%|          | 0/10000 [00:00<?, ?it/s]"
      ]
     },
     "metadata": {},
     "output_type": "display_data"
    },
    {
     "data": {
      "application/vnd.jupyter.widget-view+json": {
       "model_id": "a3cd0a7c49fe435a9d0e21ba2aa3908e",
       "version_major": 2,
       "version_minor": 0
      },
      "text/plain": [
       "time step:   0%|          | 0/10000 [00:00<?, ?it/s]"
      ]
     },
     "metadata": {},
     "output_type": "display_data"
    },
    {
     "data": {
      "application/vnd.jupyter.widget-view+json": {
       "model_id": "98685783cf7a4a9b91b63fae7573214a",
       "version_major": 2,
       "version_minor": 0
      },
      "text/plain": [
       "time step:   0%|          | 0/10000 [00:00<?, ?it/s]"
      ]
     },
     "metadata": {},
     "output_type": "display_data"
    },
    {
     "data": {
      "application/vnd.jupyter.widget-view+json": {
       "model_id": "aba25fdb9b1c42f3bbaf9aa6fb523714",
       "version_major": 2,
       "version_minor": 0
      },
      "text/plain": [
       "time step:   0%|          | 0/10000 [00:00<?, ?it/s]"
      ]
     },
     "metadata": {},
     "output_type": "display_data"
    },
    {
     "data": {
      "application/vnd.jupyter.widget-view+json": {
       "model_id": "b773bd556c8f4a86847ebbfa40fbfce7",
       "version_major": 2,
       "version_minor": 0
      },
      "text/plain": [
       "time step:   0%|          | 0/10000 [00:00<?, ?it/s]"
      ]
     },
     "metadata": {},
     "output_type": "display_data"
    },
    {
     "data": {
      "application/vnd.jupyter.widget-view+json": {
       "model_id": "98226bc836ae41789433f1ef6488fa21",
       "version_major": 2,
       "version_minor": 0
      },
      "text/plain": [
       "time step:   0%|          | 0/10000 [00:00<?, ?it/s]"
      ]
     },
     "metadata": {},
     "output_type": "display_data"
    },
    {
     "data": {
      "application/vnd.jupyter.widget-view+json": {
       "model_id": "b81585d762344ad9ada86023b2687cdc",
       "version_major": 2,
       "version_minor": 0
      },
      "text/plain": [
       "time step:   0%|          | 0/10000 [00:00<?, ?it/s]"
      ]
     },
     "metadata": {},
     "output_type": "display_data"
    },
    {
     "data": {
      "application/vnd.jupyter.widget-view+json": {
       "model_id": "bb30142d7a5f448dbd339d57f1302189",
       "version_major": 2,
       "version_minor": 0
      },
      "text/plain": [
       "time step:   0%|          | 0/10000 [00:00<?, ?it/s]"
      ]
     },
     "metadata": {},
     "output_type": "display_data"
    },
    {
     "data": {
      "application/vnd.jupyter.widget-view+json": {
       "model_id": "ba9474a0e82343a0ac963cf32df83df3",
       "version_major": 2,
       "version_minor": 0
      },
      "text/plain": [
       "time step:   0%|          | 0/10000 [00:00<?, ?it/s]"
      ]
     },
     "metadata": {},
     "output_type": "display_data"
    },
    {
     "data": {
      "application/vnd.jupyter.widget-view+json": {
       "model_id": "27781bd2b7894295b935db5da11dbc32",
       "version_major": 2,
       "version_minor": 0
      },
      "text/plain": [
       "time step:   0%|          | 0/10000 [00:00<?, ?it/s]"
      ]
     },
     "metadata": {},
     "output_type": "display_data"
    },
    {
     "data": {
      "application/vnd.jupyter.widget-view+json": {
       "model_id": "c7d373a947dd45aaace8ac1629fbe0bb",
       "version_major": 2,
       "version_minor": 0
      },
      "text/plain": [
       "time step:   0%|          | 0/10000 [00:00<?, ?it/s]"
      ]
     },
     "metadata": {},
     "output_type": "display_data"
    },
    {
     "data": {
      "application/vnd.jupyter.widget-view+json": {
       "model_id": "1ead4bc7e34440dca47bb30b325349b3",
       "version_major": 2,
       "version_minor": 0
      },
      "text/plain": [
       "time step:   0%|          | 0/10000 [00:00<?, ?it/s]"
      ]
     },
     "metadata": {},
     "output_type": "display_data"
    },
    {
     "data": {
      "application/vnd.jupyter.widget-view+json": {
       "model_id": "4adf5b2a58994842bb2bb0ab75b1125f",
       "version_major": 2,
       "version_minor": 0
      },
      "text/plain": [
       "time step:   0%|          | 0/10000 [00:00<?, ?it/s]"
      ]
     },
     "metadata": {},
     "output_type": "display_data"
    },
    {
     "data": {
      "application/vnd.jupyter.widget-view+json": {
       "model_id": "cbb65e15c14f4b81a0249bdaf84ffce6",
       "version_major": 2,
       "version_minor": 0
      },
      "text/plain": [
       "time step:   0%|          | 0/10000 [00:00<?, ?it/s]"
      ]
     },
     "metadata": {},
     "output_type": "display_data"
    },
    {
     "data": {
      "application/vnd.jupyter.widget-view+json": {
       "model_id": "1d502ce4810d448d9e45cfda18ae58c8",
       "version_major": 2,
       "version_minor": 0
      },
      "text/plain": [
       "time step:   0%|          | 0/10000 [00:00<?, ?it/s]"
      ]
     },
     "metadata": {},
     "output_type": "display_data"
    },
    {
     "data": {
      "application/vnd.jupyter.widget-view+json": {
       "model_id": "a8ec54907ac24ad4b85da86a5b85814f",
       "version_major": 2,
       "version_minor": 0
      },
      "text/plain": [
       "time step:   0%|          | 0/10000 [00:00<?, ?it/s]"
      ]
     },
     "metadata": {},
     "output_type": "display_data"
    },
    {
     "data": {
      "application/vnd.jupyter.widget-view+json": {
       "model_id": "65998c171ee040c3bf6ddd33f8a3f921",
       "version_major": 2,
       "version_minor": 0
      },
      "text/plain": [
       "time step:   0%|          | 0/10000 [00:00<?, ?it/s]"
      ]
     },
     "metadata": {},
     "output_type": "display_data"
    },
    {
     "data": {
      "application/vnd.jupyter.widget-view+json": {
       "model_id": "80a441dc6820474b9cda36772817d30a",
       "version_major": 2,
       "version_minor": 0
      },
      "text/plain": [
       "time step:   0%|          | 0/10000 [00:00<?, ?it/s]"
      ]
     },
     "metadata": {},
     "output_type": "display_data"
    },
    {
     "data": {
      "application/vnd.jupyter.widget-view+json": {
       "model_id": "b1800a41faa542bea49373f43a716a99",
       "version_major": 2,
       "version_minor": 0
      },
      "text/plain": [
       "time step:   0%|          | 0/10000 [00:00<?, ?it/s]"
      ]
     },
     "metadata": {},
     "output_type": "display_data"
    },
    {
     "data": {
      "application/vnd.jupyter.widget-view+json": {
       "model_id": "cac864ee4fd8439ba2060684bfacc086",
       "version_major": 2,
       "version_minor": 0
      },
      "text/plain": [
       "time step:   0%|          | 0/10000 [00:00<?, ?it/s]"
      ]
     },
     "metadata": {},
     "output_type": "display_data"
    },
    {
     "data": {
      "application/vnd.jupyter.widget-view+json": {
       "model_id": "f6150aa8560b484ab19ce2b3e41ff03f",
       "version_major": 2,
       "version_minor": 0
      },
      "text/plain": [
       "time step:   0%|          | 0/10000 [00:00<?, ?it/s]"
      ]
     },
     "metadata": {},
     "output_type": "display_data"
    },
    {
     "data": {
      "application/vnd.jupyter.widget-view+json": {
       "model_id": "dc40954a49284dfe95f421085bccfb67",
       "version_major": 2,
       "version_minor": 0
      },
      "text/plain": [
       "time step:   0%|          | 0/10000 [00:00<?, ?it/s]"
      ]
     },
     "metadata": {},
     "output_type": "display_data"
    },
    {
     "data": {
      "application/vnd.jupyter.widget-view+json": {
       "model_id": "e49cb777ae304c32856d503b9cb4fce3",
       "version_major": 2,
       "version_minor": 0
      },
      "text/plain": [
       "time step:   0%|          | 0/10000 [00:00<?, ?it/s]"
      ]
     },
     "metadata": {},
     "output_type": "display_data"
    },
    {
     "data": {
      "application/vnd.jupyter.widget-view+json": {
       "model_id": "6143937f9c6c48ee8f048da5bd95536b",
       "version_major": 2,
       "version_minor": 0
      },
      "text/plain": [
       "time step:   0%|          | 0/10000 [00:00<?, ?it/s]"
      ]
     },
     "metadata": {},
     "output_type": "display_data"
    },
    {
     "data": {
      "application/vnd.jupyter.widget-view+json": {
       "model_id": "45fb0ee51ecc4475a8573846c2d3561e",
       "version_major": 2,
       "version_minor": 0
      },
      "text/plain": [
       "time step:   0%|          | 0/10000 [00:00<?, ?it/s]"
      ]
     },
     "metadata": {},
     "output_type": "display_data"
    },
    {
     "data": {
      "application/vnd.jupyter.widget-view+json": {
       "model_id": "0999261ab01b4426aacf5be5128b0d87",
       "version_major": 2,
       "version_minor": 0
      },
      "text/plain": [
       "time step:   0%|          | 0/10000 [00:00<?, ?it/s]"
      ]
     },
     "metadata": {},
     "output_type": "display_data"
    },
    {
     "data": {
      "application/vnd.jupyter.widget-view+json": {
       "model_id": "64079890c60244d0ab80a5ea69d41167",
       "version_major": 2,
       "version_minor": 0
      },
      "text/plain": [
       "time step:   0%|          | 0/10000 [00:00<?, ?it/s]"
      ]
     },
     "metadata": {},
     "output_type": "display_data"
    },
    {
     "data": {
      "application/vnd.jupyter.widget-view+json": {
       "model_id": "e5f231ac5868427ca79bafb63002a83d",
       "version_major": 2,
       "version_minor": 0
      },
      "text/plain": [
       "time step:   0%|          | 0/10000 [00:00<?, ?it/s]"
      ]
     },
     "metadata": {},
     "output_type": "display_data"
    },
    {
     "data": {
      "application/vnd.jupyter.widget-view+json": {
       "model_id": "17164124ba10481a93473aca657c71c8",
       "version_major": 2,
       "version_minor": 0
      },
      "text/plain": [
       "time step:   0%|          | 0/10000 [00:00<?, ?it/s]"
      ]
     },
     "metadata": {},
     "output_type": "display_data"
    },
    {
     "data": {
      "application/vnd.jupyter.widget-view+json": {
       "model_id": "5d393ab6c2864279affa7ca4935ee97f",
       "version_major": 2,
       "version_minor": 0
      },
      "text/plain": [
       "time step:   0%|          | 0/10000 [00:00<?, ?it/s]"
      ]
     },
     "metadata": {},
     "output_type": "display_data"
    },
    {
     "data": {
      "application/vnd.jupyter.widget-view+json": {
       "model_id": "db066c517e034b2099c976ce12b51b06",
       "version_major": 2,
       "version_minor": 0
      },
      "text/plain": [
       "time step:   0%|          | 0/10000 [00:00<?, ?it/s]"
      ]
     },
     "metadata": {},
     "output_type": "display_data"
    },
    {
     "data": {
      "application/vnd.jupyter.widget-view+json": {
       "model_id": "be6c37800726471297dd1cf353003035",
       "version_major": 2,
       "version_minor": 0
      },
      "text/plain": [
       "time step:   0%|          | 0/10000 [00:00<?, ?it/s]"
      ]
     },
     "metadata": {},
     "output_type": "display_data"
    },
    {
     "data": {
      "application/vnd.jupyter.widget-view+json": {
       "model_id": "0b2d8f78f8df45b195fa915a957c0d5f",
       "version_major": 2,
       "version_minor": 0
      },
      "text/plain": [
       "time step:   0%|          | 0/10000 [00:00<?, ?it/s]"
      ]
     },
     "metadata": {},
     "output_type": "display_data"
    },
    {
     "data": {
      "application/vnd.jupyter.widget-view+json": {
       "model_id": "84079836da9a4d7291aea0ee954a6aa5",
       "version_major": 2,
       "version_minor": 0
      },
      "text/plain": [
       "time step:   0%|          | 0/10000 [00:00<?, ?it/s]"
      ]
     },
     "metadata": {},
     "output_type": "display_data"
    },
    {
     "data": {
      "application/vnd.jupyter.widget-view+json": {
       "model_id": "ec0b9415ec8f490eaec9499880a045cb",
       "version_major": 2,
       "version_minor": 0
      },
      "text/plain": [
       "time step:   0%|          | 0/10000 [00:00<?, ?it/s]"
      ]
     },
     "metadata": {},
     "output_type": "display_data"
    },
    {
     "data": {
      "application/vnd.jupyter.widget-view+json": {
       "model_id": "f3058a6865064afa97db27c2230c8b41",
       "version_major": 2,
       "version_minor": 0
      },
      "text/plain": [
       "time step:   0%|          | 0/10000 [00:00<?, ?it/s]"
      ]
     },
     "metadata": {},
     "output_type": "display_data"
    },
    {
     "data": {
      "application/vnd.jupyter.widget-view+json": {
       "model_id": "e9df3c4d9f6845398ff36b09d87550ac",
       "version_major": 2,
       "version_minor": 0
      },
      "text/plain": [
       "time step:   0%|          | 0/10000 [00:00<?, ?it/s]"
      ]
     },
     "metadata": {},
     "output_type": "display_data"
    },
    {
     "data": {
      "application/vnd.jupyter.widget-view+json": {
       "model_id": "cd828078e2fd4a839371ad6545c56db4",
       "version_major": 2,
       "version_minor": 0
      },
      "text/plain": [
       "time step:   0%|          | 0/10000 [00:00<?, ?it/s]"
      ]
     },
     "metadata": {},
     "output_type": "display_data"
    },
    {
     "data": {
      "application/vnd.jupyter.widget-view+json": {
       "model_id": "d533c90fac1e4d958a70342c8cd0ce1f",
       "version_major": 2,
       "version_minor": 0
      },
      "text/plain": [
       "time step:   0%|          | 0/10000 [00:00<?, ?it/s]"
      ]
     },
     "metadata": {},
     "output_type": "display_data"
    },
    {
     "data": {
      "application/vnd.jupyter.widget-view+json": {
       "model_id": "12d3d34e51214644ba0fe3a52952c595",
       "version_major": 2,
       "version_minor": 0
      },
      "text/plain": [
       "time step:   0%|          | 0/10000 [00:00<?, ?it/s]"
      ]
     },
     "metadata": {},
     "output_type": "display_data"
    },
    {
     "data": {
      "application/vnd.jupyter.widget-view+json": {
       "model_id": "ed53cf0ad3d1465d91c572e7c7098528",
       "version_major": 2,
       "version_minor": 0
      },
      "text/plain": [
       "time step:   0%|          | 0/10000 [00:00<?, ?it/s]"
      ]
     },
     "metadata": {},
     "output_type": "display_data"
    },
    {
     "data": {
      "application/vnd.jupyter.widget-view+json": {
       "model_id": "61f4fe7bdd2a48fcb353798164fdb7ee",
       "version_major": 2,
       "version_minor": 0
      },
      "text/plain": [
       "time step:   0%|          | 0/10000 [00:00<?, ?it/s]"
      ]
     },
     "metadata": {},
     "output_type": "display_data"
    },
    {
     "data": {
      "application/vnd.jupyter.widget-view+json": {
       "model_id": "2b8ac04782d44cc1bc3baa99988a5c44",
       "version_major": 2,
       "version_minor": 0
      },
      "text/plain": [
       "time step:   0%|          | 0/10000 [00:00<?, ?it/s]"
      ]
     },
     "metadata": {},
     "output_type": "display_data"
    },
    {
     "data": {
      "application/vnd.jupyter.widget-view+json": {
       "model_id": "fe38dacb4a7f4739b3617c89dc88786c",
       "version_major": 2,
       "version_minor": 0
      },
      "text/plain": [
       "time step:   0%|          | 0/10000 [00:00<?, ?it/s]"
      ]
     },
     "metadata": {},
     "output_type": "display_data"
    },
    {
     "data": {
      "application/vnd.jupyter.widget-view+json": {
       "model_id": "a0988b5db29743578620a3c51c5a5537",
       "version_major": 2,
       "version_minor": 0
      },
      "text/plain": [
       "time step:   0%|          | 0/10000 [00:00<?, ?it/s]"
      ]
     },
     "metadata": {},
     "output_type": "display_data"
    },
    {
     "data": {
      "application/vnd.jupyter.widget-view+json": {
       "model_id": "d460f7834447416aa7992d05d5425914",
       "version_major": 2,
       "version_minor": 0
      },
      "text/plain": [
       "time step:   0%|          | 0/10000 [00:00<?, ?it/s]"
      ]
     },
     "metadata": {},
     "output_type": "display_data"
    },
    {
     "data": {
      "application/vnd.jupyter.widget-view+json": {
       "model_id": "833fb60329e64c97862d87a826fc1ff9",
       "version_major": 2,
       "version_minor": 0
      },
      "text/plain": [
       "time step:   0%|          | 0/10000 [00:00<?, ?it/s]"
      ]
     },
     "metadata": {},
     "output_type": "display_data"
    },
    {
     "data": {
      "application/vnd.jupyter.widget-view+json": {
       "model_id": "37e5eddc5208440b9fd9fe82269c4a12",
       "version_major": 2,
       "version_minor": 0
      },
      "text/plain": [
       "time step:   0%|          | 0/10000 [00:00<?, ?it/s]"
      ]
     },
     "metadata": {},
     "output_type": "display_data"
    },
    {
     "data": {
      "application/vnd.jupyter.widget-view+json": {
       "model_id": "515aec1020c14bc8a1e8bde9fb02832e",
       "version_major": 2,
       "version_minor": 0
      },
      "text/plain": [
       "time step:   0%|          | 0/10000 [00:00<?, ?it/s]"
      ]
     },
     "metadata": {},
     "output_type": "display_data"
    },
    {
     "data": {
      "application/vnd.jupyter.widget-view+json": {
       "model_id": "b62689492351430b886478a250ba5999",
       "version_major": 2,
       "version_minor": 0
      },
      "text/plain": [
       "time step:   0%|          | 0/10000 [00:00<?, ?it/s]"
      ]
     },
     "metadata": {},
     "output_type": "display_data"
    },
    {
     "data": {
      "application/vnd.jupyter.widget-view+json": {
       "model_id": "6592d4ddd6f449eead528cf332ae567a",
       "version_major": 2,
       "version_minor": 0
      },
      "text/plain": [
       "time step:   0%|          | 0/10000 [00:00<?, ?it/s]"
      ]
     },
     "metadata": {},
     "output_type": "display_data"
    },
    {
     "data": {
      "application/vnd.jupyter.widget-view+json": {
       "model_id": "b323e774cfa1406ba2fb12903cb5ee3c",
       "version_major": 2,
       "version_minor": 0
      },
      "text/plain": [
       "time step:   0%|          | 0/10000 [00:00<?, ?it/s]"
      ]
     },
     "metadata": {},
     "output_type": "display_data"
    },
    {
     "data": {
      "application/vnd.jupyter.widget-view+json": {
       "model_id": "72f8782cb15145fa8d99db34136c8b5d",
       "version_major": 2,
       "version_minor": 0
      },
      "text/plain": [
       "time step:   0%|          | 0/10000 [00:00<?, ?it/s]"
      ]
     },
     "metadata": {},
     "output_type": "display_data"
    },
    {
     "data": {
      "application/vnd.jupyter.widget-view+json": {
       "model_id": "00f8389c4ed84669a68bc0dadf655f2e",
       "version_major": 2,
       "version_minor": 0
      },
      "text/plain": [
       "time step:   0%|          | 0/10000 [00:00<?, ?it/s]"
      ]
     },
     "metadata": {},
     "output_type": "display_data"
    },
    {
     "data": {
      "application/vnd.jupyter.widget-view+json": {
       "model_id": "ae3aa90d654e41abbf95defb80cba195",
       "version_major": 2,
       "version_minor": 0
      },
      "text/plain": [
       "time step:   0%|          | 0/10000 [00:00<?, ?it/s]"
      ]
     },
     "metadata": {},
     "output_type": "display_data"
    },
    {
     "data": {
      "application/vnd.jupyter.widget-view+json": {
       "model_id": "0b5433fe36d24ea39e4eca18635c7e88",
       "version_major": 2,
       "version_minor": 0
      },
      "text/plain": [
       "time step:   0%|          | 0/10000 [00:00<?, ?it/s]"
      ]
     },
     "metadata": {},
     "output_type": "display_data"
    },
    {
     "data": {
      "application/vnd.jupyter.widget-view+json": {
       "model_id": "ced2731ffe1b454d9ecbda55670cfc8c",
       "version_major": 2,
       "version_minor": 0
      },
      "text/plain": [
       "time step:   0%|          | 0/10000 [00:00<?, ?it/s]"
      ]
     },
     "metadata": {},
     "output_type": "display_data"
    },
    {
     "data": {
      "application/vnd.jupyter.widget-view+json": {
       "model_id": "720cb4ae85504216898c1917b5bf742b",
       "version_major": 2,
       "version_minor": 0
      },
      "text/plain": [
       "time step:   0%|          | 0/10000 [00:00<?, ?it/s]"
      ]
     },
     "metadata": {},
     "output_type": "display_data"
    },
    {
     "data": {
      "application/vnd.jupyter.widget-view+json": {
       "model_id": "4e32295b514a4a7281b28fbeea900513",
       "version_major": 2,
       "version_minor": 0
      },
      "text/plain": [
       "time step:   0%|          | 0/10000 [00:00<?, ?it/s]"
      ]
     },
     "metadata": {},
     "output_type": "display_data"
    },
    {
     "data": {
      "application/vnd.jupyter.widget-view+json": {
       "model_id": "de11e775c14640d1876bbb4fce60eedd",
       "version_major": 2,
       "version_minor": 0
      },
      "text/plain": [
       "time step:   0%|          | 0/10000 [00:00<?, ?it/s]"
      ]
     },
     "metadata": {},
     "output_type": "display_data"
    },
    {
     "data": {
      "application/vnd.jupyter.widget-view+json": {
       "model_id": "c7ac0e1b0f6844aebb0aa4c91acfd812",
       "version_major": 2,
       "version_minor": 0
      },
      "text/plain": [
       "time step:   0%|          | 0/10000 [00:00<?, ?it/s]"
      ]
     },
     "metadata": {},
     "output_type": "display_data"
    },
    {
     "data": {
      "application/vnd.jupyter.widget-view+json": {
       "model_id": "8bda325fe1734f8289096b3fe9c8bcb4",
       "version_major": 2,
       "version_minor": 0
      },
      "text/plain": [
       "time step:   0%|          | 0/10000 [00:00<?, ?it/s]"
      ]
     },
     "metadata": {},
     "output_type": "display_data"
    },
    {
     "data": {
      "application/vnd.jupyter.widget-view+json": {
       "model_id": "5a60f958fe1844ba8266fc4278c13137",
       "version_major": 2,
       "version_minor": 0
      },
      "text/plain": [
       "time step:   0%|          | 0/10000 [00:00<?, ?it/s]"
      ]
     },
     "metadata": {},
     "output_type": "display_data"
    },
    {
     "data": {
      "application/vnd.jupyter.widget-view+json": {
       "model_id": "933db3e3048b4159bab554e4ed5f7665",
       "version_major": 2,
       "version_minor": 0
      },
      "text/plain": [
       "time step:   0%|          | 0/10000 [00:00<?, ?it/s]"
      ]
     },
     "metadata": {},
     "output_type": "display_data"
    },
    {
     "data": {
      "application/vnd.jupyter.widget-view+json": {
       "model_id": "564f6c9e2e0b481b89736480f451cd72",
       "version_major": 2,
       "version_minor": 0
      },
      "text/plain": [
       "time step:   0%|          | 0/10000 [00:00<?, ?it/s]"
      ]
     },
     "metadata": {},
     "output_type": "display_data"
    },
    {
     "data": {
      "application/vnd.jupyter.widget-view+json": {
       "model_id": "568510ca28fd407c8eb87e648359082b",
       "version_major": 2,
       "version_minor": 0
      },
      "text/plain": [
       "time step:   0%|          | 0/10000 [00:00<?, ?it/s]"
      ]
     },
     "metadata": {},
     "output_type": "display_data"
    },
    {
     "data": {
      "application/vnd.jupyter.widget-view+json": {
       "model_id": "5922380ad2af476298c0ce46c265d3f6",
       "version_major": 2,
       "version_minor": 0
      },
      "text/plain": [
       "time step:   0%|          | 0/10000 [00:00<?, ?it/s]"
      ]
     },
     "metadata": {},
     "output_type": "display_data"
    },
    {
     "data": {
      "application/vnd.jupyter.widget-view+json": {
       "model_id": "f386178242ca4d1d9c4474d1e53c1618",
       "version_major": 2,
       "version_minor": 0
      },
      "text/plain": [
       "time step:   0%|          | 0/10000 [00:00<?, ?it/s]"
      ]
     },
     "metadata": {},
     "output_type": "display_data"
    },
    {
     "data": {
      "application/vnd.jupyter.widget-view+json": {
       "model_id": "b125544cc729495aa5536b30412cc347",
       "version_major": 2,
       "version_minor": 0
      },
      "text/plain": [
       "time step:   0%|          | 0/10000 [00:00<?, ?it/s]"
      ]
     },
     "metadata": {},
     "output_type": "display_data"
    },
    {
     "data": {
      "application/vnd.jupyter.widget-view+json": {
       "model_id": "3c69897bbe804c7db91202d9476e5aa4",
       "version_major": 2,
       "version_minor": 0
      },
      "text/plain": [
       "time step:   0%|          | 0/10000 [00:00<?, ?it/s]"
      ]
     },
     "metadata": {},
     "output_type": "display_data"
    },
    {
     "data": {
      "application/vnd.jupyter.widget-view+json": {
       "model_id": "dac3b5d3ce0a4124a19a7c70256a3ef3",
       "version_major": 2,
       "version_minor": 0
      },
      "text/plain": [
       "time step:   0%|          | 0/10000 [00:00<?, ?it/s]"
      ]
     },
     "metadata": {},
     "output_type": "display_data"
    },
    {
     "data": {
      "application/vnd.jupyter.widget-view+json": {
       "model_id": "32432283be264b709f02b9423403c719",
       "version_major": 2,
       "version_minor": 0
      },
      "text/plain": [
       "time step:   0%|          | 0/10000 [00:00<?, ?it/s]"
      ]
     },
     "metadata": {},
     "output_type": "display_data"
    },
    {
     "data": {
      "application/vnd.jupyter.widget-view+json": {
       "model_id": "7ce8bffa43fd4b60b5f7ef90d5e3c12c",
       "version_major": 2,
       "version_minor": 0
      },
      "text/plain": [
       "time step:   0%|          | 0/10000 [00:00<?, ?it/s]"
      ]
     },
     "metadata": {},
     "output_type": "display_data"
    },
    {
     "data": {
      "application/vnd.jupyter.widget-view+json": {
       "model_id": "a11d08eac44e4905ae19ce070dc0b7ab",
       "version_major": 2,
       "version_minor": 0
      },
      "text/plain": [
       "time step:   0%|          | 0/10000 [00:00<?, ?it/s]"
      ]
     },
     "metadata": {},
     "output_type": "display_data"
    },
    {
     "data": {
      "application/vnd.jupyter.widget-view+json": {
       "model_id": "9d599a61fd764d84a55aa60e9435de3a",
       "version_major": 2,
       "version_minor": 0
      },
      "text/plain": [
       "time step:   0%|          | 0/10000 [00:00<?, ?it/s]"
      ]
     },
     "metadata": {},
     "output_type": "display_data"
    },
    {
     "data": {
      "application/vnd.jupyter.widget-view+json": {
       "model_id": "a6d3c7ad4ea74e1ea48b32d04ae6aa6f",
       "version_major": 2,
       "version_minor": 0
      },
      "text/plain": [
       "time step:   0%|          | 0/10000 [00:00<?, ?it/s]"
      ]
     },
     "metadata": {},
     "output_type": "display_data"
    },
    {
     "data": {
      "application/vnd.jupyter.widget-view+json": {
       "model_id": "aa137bf2f1474f6c94d177b1e6a09617",
       "version_major": 2,
       "version_minor": 0
      },
      "text/plain": [
       "time step:   0%|          | 0/10000 [00:00<?, ?it/s]"
      ]
     },
     "metadata": {},
     "output_type": "display_data"
    },
    {
     "data": {
      "application/vnd.jupyter.widget-view+json": {
       "model_id": "3913862536564265ae8928c4e6106f39",
       "version_major": 2,
       "version_minor": 0
      },
      "text/plain": [
       "time step:   0%|          | 0/10000 [00:00<?, ?it/s]"
      ]
     },
     "metadata": {},
     "output_type": "display_data"
    },
    {
     "data": {
      "application/vnd.jupyter.widget-view+json": {
       "model_id": "6a1b21d8371046e98413bc3fa1bc9a15",
       "version_major": 2,
       "version_minor": 0
      },
      "text/plain": [
       "time step:   0%|          | 0/10000 [00:00<?, ?it/s]"
      ]
     },
     "metadata": {},
     "output_type": "display_data"
    },
    {
     "data": {
      "application/vnd.jupyter.widget-view+json": {
       "model_id": "b740435ec467484cb82b3288d3939347",
       "version_major": 2,
       "version_minor": 0
      },
      "text/plain": [
       "time step:   0%|          | 0/10000 [00:00<?, ?it/s]"
      ]
     },
     "metadata": {},
     "output_type": "display_data"
    },
    {
     "data": {
      "application/vnd.jupyter.widget-view+json": {
       "model_id": "c4b633965308481f90a5c01c82e33c0f",
       "version_major": 2,
       "version_minor": 0
      },
      "text/plain": [
       "time step:   0%|          | 0/10000 [00:00<?, ?it/s]"
      ]
     },
     "metadata": {},
     "output_type": "display_data"
    },
    {
     "data": {
      "application/vnd.jupyter.widget-view+json": {
       "model_id": "c33daec945a94877ad75f51500128b4f",
       "version_major": 2,
       "version_minor": 0
      },
      "text/plain": [
       "time step:   0%|          | 0/10000 [00:00<?, ?it/s]"
      ]
     },
     "metadata": {},
     "output_type": "display_data"
    },
    {
     "data": {
      "application/vnd.jupyter.widget-view+json": {
       "model_id": "8ee877cb8750419aabcc78ce94766fcd",
       "version_major": 2,
       "version_minor": 0
      },
      "text/plain": [
       "time step:   0%|          | 0/10000 [00:00<?, ?it/s]"
      ]
     },
     "metadata": {},
     "output_type": "display_data"
    },
    {
     "data": {
      "application/vnd.jupyter.widget-view+json": {
       "model_id": "76e4ad5328ed408b801e947e1ebf6d0c",
       "version_major": 2,
       "version_minor": 0
      },
      "text/plain": [
       "time step:   0%|          | 0/10000 [00:00<?, ?it/s]"
      ]
     },
     "metadata": {},
     "output_type": "display_data"
    },
    {
     "data": {
      "application/vnd.jupyter.widget-view+json": {
       "model_id": "7e18b16a7a844f6082da37d67f6cae2c",
       "version_major": 2,
       "version_minor": 0
      },
      "text/plain": [
       "time step:   0%|          | 0/10000 [00:00<?, ?it/s]"
      ]
     },
     "metadata": {},
     "output_type": "display_data"
    },
    {
     "data": {
      "application/vnd.jupyter.widget-view+json": {
       "model_id": "2093941ffb0d4cf98604d32c9463cd06",
       "version_major": 2,
       "version_minor": 0
      },
      "text/plain": [
       "time step:   0%|          | 0/10000 [00:00<?, ?it/s]"
      ]
     },
     "metadata": {},
     "output_type": "display_data"
    },
    {
     "data": {
      "application/vnd.jupyter.widget-view+json": {
       "model_id": "7413f934ceb14849ac56de9e21fe0e62",
       "version_major": 2,
       "version_minor": 0
      },
      "text/plain": [
       "time step:   0%|          | 0/10000 [00:00<?, ?it/s]"
      ]
     },
     "metadata": {},
     "output_type": "display_data"
    },
    {
     "data": {
      "application/vnd.jupyter.widget-view+json": {
       "model_id": "c2f366e57cff4e09875d88c90f2db29c",
       "version_major": 2,
       "version_minor": 0
      },
      "text/plain": [
       "time step:   0%|          | 0/10000 [00:00<?, ?it/s]"
      ]
     },
     "metadata": {},
     "output_type": "display_data"
    },
    {
     "data": {
      "application/vnd.jupyter.widget-view+json": {
       "model_id": "c49951d1f34d48b0ad2b8b01ee9039d8",
       "version_major": 2,
       "version_minor": 0
      },
      "text/plain": [
       "time step:   0%|          | 0/10000 [00:00<?, ?it/s]"
      ]
     },
     "metadata": {},
     "output_type": "display_data"
    },
    {
     "data": {
      "application/vnd.jupyter.widget-view+json": {
       "model_id": "4266b82c746b4432a575544cf06aa58f",
       "version_major": 2,
       "version_minor": 0
      },
      "text/plain": [
       "time step:   0%|          | 0/10000 [00:00<?, ?it/s]"
      ]
     },
     "metadata": {},
     "output_type": "display_data"
    },
    {
     "data": {
      "application/vnd.jupyter.widget-view+json": {
       "model_id": "a3452fe83a2848519bb3637efb784f99",
       "version_major": 2,
       "version_minor": 0
      },
      "text/plain": [
       "time step:   0%|          | 0/10000 [00:00<?, ?it/s]"
      ]
     },
     "metadata": {},
     "output_type": "display_data"
    },
    {
     "data": {
      "application/vnd.jupyter.widget-view+json": {
       "model_id": "adfddf86571c4bf1ba070e39b0593b43",
       "version_major": 2,
       "version_minor": 0
      },
      "text/plain": [
       "time step:   0%|          | 0/10000 [00:00<?, ?it/s]"
      ]
     },
     "metadata": {},
     "output_type": "display_data"
    },
    {
     "data": {
      "application/vnd.jupyter.widget-view+json": {
       "model_id": "101b315031354f978d933e8ef886d52c",
       "version_major": 2,
       "version_minor": 0
      },
      "text/plain": [
       "time step:   0%|          | 0/10000 [00:00<?, ?it/s]"
      ]
     },
     "metadata": {},
     "output_type": "display_data"
    },
    {
     "data": {
      "application/vnd.jupyter.widget-view+json": {
       "model_id": "2bf2dbf96992489db783fc4d1a58d3bc",
       "version_major": 2,
       "version_minor": 0
      },
      "text/plain": [
       "time step:   0%|          | 0/10000 [00:00<?, ?it/s]"
      ]
     },
     "metadata": {},
     "output_type": "display_data"
    },
    {
     "data": {
      "application/vnd.jupyter.widget-view+json": {
       "model_id": "78b40d7e2052406ca066a690ae6366e6",
       "version_major": 2,
       "version_minor": 0
      },
      "text/plain": [
       "time step:   0%|          | 0/10000 [00:00<?, ?it/s]"
      ]
     },
     "metadata": {},
     "output_type": "display_data"
    },
    {
     "data": {
      "application/vnd.jupyter.widget-view+json": {
       "model_id": "cef337f0eb6d42929d81688c14a98239",
       "version_major": 2,
       "version_minor": 0
      },
      "text/plain": [
       "time step:   0%|          | 0/10000 [00:00<?, ?it/s]"
      ]
     },
     "metadata": {},
     "output_type": "display_data"
    },
    {
     "data": {
      "application/vnd.jupyter.widget-view+json": {
       "model_id": "fa951648cb9744bb8893bc041c978edf",
       "version_major": 2,
       "version_minor": 0
      },
      "text/plain": [
       "time step:   0%|          | 0/10000 [00:00<?, ?it/s]"
      ]
     },
     "metadata": {},
     "output_type": "display_data"
    },
    {
     "data": {
      "application/vnd.jupyter.widget-view+json": {
       "model_id": "c00e3b2ed6a74d85b7954782d11fae74",
       "version_major": 2,
       "version_minor": 0
      },
      "text/plain": [
       "time step:   0%|          | 0/10000 [00:00<?, ?it/s]"
      ]
     },
     "metadata": {},
     "output_type": "display_data"
    },
    {
     "data": {
      "application/vnd.jupyter.widget-view+json": {
       "model_id": "e5c88ee83357474a90a5c1310c534124",
       "version_major": 2,
       "version_minor": 0
      },
      "text/plain": [
       "time step:   0%|          | 0/10000 [00:00<?, ?it/s]"
      ]
     },
     "metadata": {},
     "output_type": "display_data"
    },
    {
     "data": {
      "application/vnd.jupyter.widget-view+json": {
       "model_id": "d392516be2444a75bd3c64eccf790f87",
       "version_major": 2,
       "version_minor": 0
      },
      "text/plain": [
       "time step:   0%|          | 0/10000 [00:00<?, ?it/s]"
      ]
     },
     "metadata": {},
     "output_type": "display_data"
    },
    {
     "data": {
      "application/vnd.jupyter.widget-view+json": {
       "model_id": "ded0732a3c184cf5b026f498981c9770",
       "version_major": 2,
       "version_minor": 0
      },
      "text/plain": [
       "time step:   0%|          | 0/10000 [00:00<?, ?it/s]"
      ]
     },
     "metadata": {},
     "output_type": "display_data"
    },
    {
     "data": {
      "application/vnd.jupyter.widget-view+json": {
       "model_id": "0a7d85ca60834960ac4c7b68837302da",
       "version_major": 2,
       "version_minor": 0
      },
      "text/plain": [
       "time step:   0%|          | 0/10000 [00:00<?, ?it/s]"
      ]
     },
     "metadata": {},
     "output_type": "display_data"
    },
    {
     "data": {
      "application/vnd.jupyter.widget-view+json": {
       "model_id": "bcedefd133de4ad0bcb74837cfaa76cc",
       "version_major": 2,
       "version_minor": 0
      },
      "text/plain": [
       "time step:   0%|          | 0/10000 [00:00<?, ?it/s]"
      ]
     },
     "metadata": {},
     "output_type": "display_data"
    },
    {
     "data": {
      "application/vnd.jupyter.widget-view+json": {
       "model_id": "725e05bd56f64a28b527f9eab38aa8ea",
       "version_major": 2,
       "version_minor": 0
      },
      "text/plain": [
       "time step:   0%|          | 0/10000 [00:00<?, ?it/s]"
      ]
     },
     "metadata": {},
     "output_type": "display_data"
    },
    {
     "data": {
      "application/vnd.jupyter.widget-view+json": {
       "model_id": "ed923e15a65048e9b3369614efaca376",
       "version_major": 2,
       "version_minor": 0
      },
      "text/plain": [
       "time step:   0%|          | 0/10000 [00:00<?, ?it/s]"
      ]
     },
     "metadata": {},
     "output_type": "display_data"
    },
    {
     "data": {
      "application/vnd.jupyter.widget-view+json": {
       "model_id": "a8f3db052ce347e1a5707e5696fba90d",
       "version_major": 2,
       "version_minor": 0
      },
      "text/plain": [
       "time step:   0%|          | 0/10000 [00:00<?, ?it/s]"
      ]
     },
     "metadata": {},
     "output_type": "display_data"
    },
    {
     "data": {
      "application/vnd.jupyter.widget-view+json": {
       "model_id": "767d6da8e82c423b98d80bdaf63d9df6",
       "version_major": 2,
       "version_minor": 0
      },
      "text/plain": [
       "time step:   0%|          | 0/10000 [00:00<?, ?it/s]"
      ]
     },
     "metadata": {},
     "output_type": "display_data"
    },
    {
     "data": {
      "application/vnd.jupyter.widget-view+json": {
       "model_id": "2e811f2ce2a145939dc1f7c8d56442cf",
       "version_major": 2,
       "version_minor": 0
      },
      "text/plain": [
       "time step:   0%|          | 0/10000 [00:00<?, ?it/s]"
      ]
     },
     "metadata": {},
     "output_type": "display_data"
    },
    {
     "data": {
      "application/vnd.jupyter.widget-view+json": {
       "model_id": "bafbb9056ab5409da9a8dcae86d7402c",
       "version_major": 2,
       "version_minor": 0
      },
      "text/plain": [
       "time step:   0%|          | 0/10000 [00:00<?, ?it/s]"
      ]
     },
     "metadata": {},
     "output_type": "display_data"
    },
    {
     "data": {
      "application/vnd.jupyter.widget-view+json": {
       "model_id": "df08e275b2a14a72b97b9f11052e2de1",
       "version_major": 2,
       "version_minor": 0
      },
      "text/plain": [
       "time step:   0%|          | 0/10000 [00:00<?, ?it/s]"
      ]
     },
     "metadata": {},
     "output_type": "display_data"
    },
    {
     "data": {
      "application/vnd.jupyter.widget-view+json": {
       "model_id": "b84ea96e281644b0b9a3410af16e44c5",
       "version_major": 2,
       "version_minor": 0
      },
      "text/plain": [
       "time step:   0%|          | 0/10000 [00:00<?, ?it/s]"
      ]
     },
     "metadata": {},
     "output_type": "display_data"
    },
    {
     "data": {
      "application/vnd.jupyter.widget-view+json": {
       "model_id": "baa22b57bb9b41af9f3beca26c0a6a9e",
       "version_major": 2,
       "version_minor": 0
      },
      "text/plain": [
       "time step:   0%|          | 0/10000 [00:00<?, ?it/s]"
      ]
     },
     "metadata": {},
     "output_type": "display_data"
    },
    {
     "data": {
      "application/vnd.jupyter.widget-view+json": {
       "model_id": "dfa6a365cb1944d0898fee881e74fa98",
       "version_major": 2,
       "version_minor": 0
      },
      "text/plain": [
       "time step:   0%|          | 0/10000 [00:00<?, ?it/s]"
      ]
     },
     "metadata": {},
     "output_type": "display_data"
    },
    {
     "data": {
      "application/vnd.jupyter.widget-view+json": {
       "model_id": "c0db4df3ef1840a5b433438a8aff228d",
       "version_major": 2,
       "version_minor": 0
      },
      "text/plain": [
       "time step:   0%|          | 0/10000 [00:00<?, ?it/s]"
      ]
     },
     "metadata": {},
     "output_type": "display_data"
    },
    {
     "data": {
      "application/vnd.jupyter.widget-view+json": {
       "model_id": "1b9ab8a2c5ac4f6d856d45f9e398b3ba",
       "version_major": 2,
       "version_minor": 0
      },
      "text/plain": [
       "time step:   0%|          | 0/10000 [00:00<?, ?it/s]"
      ]
     },
     "metadata": {},
     "output_type": "display_data"
    },
    {
     "data": {
      "application/vnd.jupyter.widget-view+json": {
       "model_id": "f49cc519c3474de1a8826fd83ca0603b",
       "version_major": 2,
       "version_minor": 0
      },
      "text/plain": [
       "time step:   0%|          | 0/10000 [00:00<?, ?it/s]"
      ]
     },
     "metadata": {},
     "output_type": "display_data"
    },
    {
     "data": {
      "application/vnd.jupyter.widget-view+json": {
       "model_id": "44b14135a0b14d74a329bbc403b4111c",
       "version_major": 2,
       "version_minor": 0
      },
      "text/plain": [
       "time step:   0%|          | 0/10000 [00:00<?, ?it/s]"
      ]
     },
     "metadata": {},
     "output_type": "display_data"
    },
    {
     "data": {
      "application/vnd.jupyter.widget-view+json": {
       "model_id": "23ba74658af845b3818424be751875fc",
       "version_major": 2,
       "version_minor": 0
      },
      "text/plain": [
       "time step:   0%|          | 0/10000 [00:00<?, ?it/s]"
      ]
     },
     "metadata": {},
     "output_type": "display_data"
    },
    {
     "data": {
      "application/vnd.jupyter.widget-view+json": {
       "model_id": "ff40395a9539481ba11d299eeab9ea55",
       "version_major": 2,
       "version_minor": 0
      },
      "text/plain": [
       "time step:   0%|          | 0/10000 [00:00<?, ?it/s]"
      ]
     },
     "metadata": {},
     "output_type": "display_data"
    },
    {
     "data": {
      "application/vnd.jupyter.widget-view+json": {
       "model_id": "df45658f8c434e699917f87078c0ff94",
       "version_major": 2,
       "version_minor": 0
      },
      "text/plain": [
       "time step:   0%|          | 0/10000 [00:00<?, ?it/s]"
      ]
     },
     "metadata": {},
     "output_type": "display_data"
    },
    {
     "data": {
      "application/vnd.jupyter.widget-view+json": {
       "model_id": "bef4ed83eadc4b6a9caf8cd59a15f7b7",
       "version_major": 2,
       "version_minor": 0
      },
      "text/plain": [
       "time step:   0%|          | 0/10000 [00:00<?, ?it/s]"
      ]
     },
     "metadata": {},
     "output_type": "display_data"
    },
    {
     "data": {
      "application/vnd.jupyter.widget-view+json": {
       "model_id": "5f1ce366dd3341ac9dd7f9c39ec04907",
       "version_major": 2,
       "version_minor": 0
      },
      "text/plain": [
       "time step:   0%|          | 0/10000 [00:00<?, ?it/s]"
      ]
     },
     "metadata": {},
     "output_type": "display_data"
    },
    {
     "data": {
      "application/vnd.jupyter.widget-view+json": {
       "model_id": "13afb1537e334646848d0798522e8a63",
       "version_major": 2,
       "version_minor": 0
      },
      "text/plain": [
       "time step:   0%|          | 0/10000 [00:00<?, ?it/s]"
      ]
     },
     "metadata": {},
     "output_type": "display_data"
    },
    {
     "data": {
      "application/vnd.jupyter.widget-view+json": {
       "model_id": "8a6f067194f9431c85c00ac7314f38fe",
       "version_major": 2,
       "version_minor": 0
      },
      "text/plain": [
       "time step:   0%|          | 0/10000 [00:00<?, ?it/s]"
      ]
     },
     "metadata": {},
     "output_type": "display_data"
    },
    {
     "data": {
      "application/vnd.jupyter.widget-view+json": {
       "model_id": "696c0dd4083e4cfb8d96f2e4cdd56160",
       "version_major": 2,
       "version_minor": 0
      },
      "text/plain": [
       "time step:   0%|          | 0/10000 [00:00<?, ?it/s]"
      ]
     },
     "metadata": {},
     "output_type": "display_data"
    },
    {
     "data": {
      "application/vnd.jupyter.widget-view+json": {
       "model_id": "04da8b3b07ec44b6ad9546e407cc884c",
       "version_major": 2,
       "version_minor": 0
      },
      "text/plain": [
       "time step:   0%|          | 0/10000 [00:00<?, ?it/s]"
      ]
     },
     "metadata": {},
     "output_type": "display_data"
    },
    {
     "data": {
      "application/vnd.jupyter.widget-view+json": {
       "model_id": "554865b2f2204eb58e26ddd01785b8b6",
       "version_major": 2,
       "version_minor": 0
      },
      "text/plain": [
       "time step:   0%|          | 0/10000 [00:00<?, ?it/s]"
      ]
     },
     "metadata": {},
     "output_type": "display_data"
    },
    {
     "data": {
      "application/vnd.jupyter.widget-view+json": {
       "model_id": "dcf3722c95ab450884cbd68c957d87ce",
       "version_major": 2,
       "version_minor": 0
      },
      "text/plain": [
       "time step:   0%|          | 0/10000 [00:00<?, ?it/s]"
      ]
     },
     "metadata": {},
     "output_type": "display_data"
    },
    {
     "data": {
      "application/vnd.jupyter.widget-view+json": {
       "model_id": "ace6378479b14a98bbb8e596d7410196",
       "version_major": 2,
       "version_minor": 0
      },
      "text/plain": [
       "time step:   0%|          | 0/10000 [00:00<?, ?it/s]"
      ]
     },
     "metadata": {},
     "output_type": "display_data"
    },
    {
     "data": {
      "application/vnd.jupyter.widget-view+json": {
       "model_id": "9d0180068be8446aa5a4178e9ecefab1",
       "version_major": 2,
       "version_minor": 0
      },
      "text/plain": [
       "time step:   0%|          | 0/10000 [00:00<?, ?it/s]"
      ]
     },
     "metadata": {},
     "output_type": "display_data"
    },
    {
     "data": {
      "application/vnd.jupyter.widget-view+json": {
       "model_id": "9a41e80db4ba49ef80255ae962e6b1b7",
       "version_major": 2,
       "version_minor": 0
      },
      "text/plain": [
       "time step:   0%|          | 0/10000 [00:00<?, ?it/s]"
      ]
     },
     "metadata": {},
     "output_type": "display_data"
    },
    {
     "data": {
      "application/vnd.jupyter.widget-view+json": {
       "model_id": "dc12d030a4eb4e2594a9ab0feebf7db2",
       "version_major": 2,
       "version_minor": 0
      },
      "text/plain": [
       "time step:   0%|          | 0/10000 [00:00<?, ?it/s]"
      ]
     },
     "metadata": {},
     "output_type": "display_data"
    },
    {
     "data": {
      "application/vnd.jupyter.widget-view+json": {
       "model_id": "cc45466dcc6746b2b775fcc8de175763",
       "version_major": 2,
       "version_minor": 0
      },
      "text/plain": [
       "time step:   0%|          | 0/10000 [00:00<?, ?it/s]"
      ]
     },
     "metadata": {},
     "output_type": "display_data"
    },
    {
     "data": {
      "application/vnd.jupyter.widget-view+json": {
       "model_id": "76780e77a2194de386ed504c4856f2c2",
       "version_major": 2,
       "version_minor": 0
      },
      "text/plain": [
       "time step:   0%|          | 0/10000 [00:00<?, ?it/s]"
      ]
     },
     "metadata": {},
     "output_type": "display_data"
    },
    {
     "data": {
      "application/vnd.jupyter.widget-view+json": {
       "model_id": "7e5f98b250d54ae9be11c3414714529c",
       "version_major": 2,
       "version_minor": 0
      },
      "text/plain": [
       "time step:   0%|          | 0/10000 [00:00<?, ?it/s]"
      ]
     },
     "metadata": {},
     "output_type": "display_data"
    },
    {
     "data": {
      "application/vnd.jupyter.widget-view+json": {
       "model_id": "839ada4dbad44fe0896d09bc185c5cd3",
       "version_major": 2,
       "version_minor": 0
      },
      "text/plain": [
       "time step:   0%|          | 0/10000 [00:00<?, ?it/s]"
      ]
     },
     "metadata": {},
     "output_type": "display_data"
    },
    {
     "data": {
      "application/vnd.jupyter.widget-view+json": {
       "model_id": "331f4131592d40a9bc032dafa92db78a",
       "version_major": 2,
       "version_minor": 0
      },
      "text/plain": [
       "time step:   0%|          | 0/10000 [00:00<?, ?it/s]"
      ]
     },
     "metadata": {},
     "output_type": "display_data"
    },
    {
     "data": {
      "application/vnd.jupyter.widget-view+json": {
       "model_id": "6d11fafbd38a457a93488c2fdf0d7e12",
       "version_major": 2,
       "version_minor": 0
      },
      "text/plain": [
       "time step:   0%|          | 0/10000 [00:00<?, ?it/s]"
      ]
     },
     "metadata": {},
     "output_type": "display_data"
    },
    {
     "data": {
      "application/vnd.jupyter.widget-view+json": {
       "model_id": "b830fe82925640118341fb56f26e39c1",
       "version_major": 2,
       "version_minor": 0
      },
      "text/plain": [
       "time step:   0%|          | 0/10000 [00:00<?, ?it/s]"
      ]
     },
     "metadata": {},
     "output_type": "display_data"
    },
    {
     "data": {
      "application/vnd.jupyter.widget-view+json": {
       "model_id": "a821b1c8179d4e8aa700d8ec28a570ec",
       "version_major": 2,
       "version_minor": 0
      },
      "text/plain": [
       "time step:   0%|          | 0/10000 [00:00<?, ?it/s]"
      ]
     },
     "metadata": {},
     "output_type": "display_data"
    },
    {
     "data": {
      "application/vnd.jupyter.widget-view+json": {
       "model_id": "157b27b644454c67bc8e10da4a9dc1e1",
       "version_major": 2,
       "version_minor": 0
      },
      "text/plain": [
       "time step:   0%|          | 0/10000 [00:00<?, ?it/s]"
      ]
     },
     "metadata": {},
     "output_type": "display_data"
    },
    {
     "data": {
      "application/vnd.jupyter.widget-view+json": {
       "model_id": "6ebd2df565fa4b6abb8e21a7a11aa8cb",
       "version_major": 2,
       "version_minor": 0
      },
      "text/plain": [
       "time step:   0%|          | 0/10000 [00:00<?, ?it/s]"
      ]
     },
     "metadata": {},
     "output_type": "display_data"
    },
    {
     "data": {
      "application/vnd.jupyter.widget-view+json": {
       "model_id": "fc4d45b73bce48c8ad93d64fd3e15216",
       "version_major": 2,
       "version_minor": 0
      },
      "text/plain": [
       "time step:   0%|          | 0/10000 [00:00<?, ?it/s]"
      ]
     },
     "metadata": {},
     "output_type": "display_data"
    },
    {
     "data": {
      "application/vnd.jupyter.widget-view+json": {
       "model_id": "8247fbeb6ac94cb69533577097f9fff3",
       "version_major": 2,
       "version_minor": 0
      },
      "text/plain": [
       "time step:   0%|          | 0/10000 [00:00<?, ?it/s]"
      ]
     },
     "metadata": {},
     "output_type": "display_data"
    },
    {
     "data": {
      "application/vnd.jupyter.widget-view+json": {
       "model_id": "3209667d2eb54938bc5c2d6c9f623f44",
       "version_major": 2,
       "version_minor": 0
      },
      "text/plain": [
       "time step:   0%|          | 0/10000 [00:00<?, ?it/s]"
      ]
     },
     "metadata": {},
     "output_type": "display_data"
    },
    {
     "data": {
      "application/vnd.jupyter.widget-view+json": {
       "model_id": "91b8fdf0967249dea7d81a6652435830",
       "version_major": 2,
       "version_minor": 0
      },
      "text/plain": [
       "time step:   0%|          | 0/10000 [00:00<?, ?it/s]"
      ]
     },
     "metadata": {},
     "output_type": "display_data"
    },
    {
     "data": {
      "application/vnd.jupyter.widget-view+json": {
       "model_id": "3d936a8030654011985ab77da065603f",
       "version_major": 2,
       "version_minor": 0
      },
      "text/plain": [
       "time step:   0%|          | 0/10000 [00:00<?, ?it/s]"
      ]
     },
     "metadata": {},
     "output_type": "display_data"
    },
    {
     "data": {
      "application/vnd.jupyter.widget-view+json": {
       "model_id": "7ee996748b774b89af1819134350897b",
       "version_major": 2,
       "version_minor": 0
      },
      "text/plain": [
       "time step:   0%|          | 0/10000 [00:00<?, ?it/s]"
      ]
     },
     "metadata": {},
     "output_type": "display_data"
    },
    {
     "data": {
      "application/vnd.jupyter.widget-view+json": {
       "model_id": "db336acdcbfd443b82bdbac0f0cb816d",
       "version_major": 2,
       "version_minor": 0
      },
      "text/plain": [
       "time step:   0%|          | 0/10000 [00:00<?, ?it/s]"
      ]
     },
     "metadata": {},
     "output_type": "display_data"
    },
    {
     "data": {
      "application/vnd.jupyter.widget-view+json": {
       "model_id": "5abe5a4ca91f48fdab98b3a0e52834e9",
       "version_major": 2,
       "version_minor": 0
      },
      "text/plain": [
       "time step:   0%|          | 0/10000 [00:00<?, ?it/s]"
      ]
     },
     "metadata": {},
     "output_type": "display_data"
    },
    {
     "data": {
      "application/vnd.jupyter.widget-view+json": {
       "model_id": "34e3c5de9245436a8e5ee24f3cf106a9",
       "version_major": 2,
       "version_minor": 0
      },
      "text/plain": [
       "time step:   0%|          | 0/10000 [00:00<?, ?it/s]"
      ]
     },
     "metadata": {},
     "output_type": "display_data"
    },
    {
     "data": {
      "application/vnd.jupyter.widget-view+json": {
       "model_id": "ff9590377b834815938dd99d76366926",
       "version_major": 2,
       "version_minor": 0
      },
      "text/plain": [
       "time step:   0%|          | 0/10000 [00:00<?, ?it/s]"
      ]
     },
     "metadata": {},
     "output_type": "display_data"
    },
    {
     "data": {
      "application/vnd.jupyter.widget-view+json": {
       "model_id": "090c1cb8d8ec4ec6921359783043ac2d",
       "version_major": 2,
       "version_minor": 0
      },
      "text/plain": [
       "time step:   0%|          | 0/10000 [00:00<?, ?it/s]"
      ]
     },
     "metadata": {},
     "output_type": "display_data"
    },
    {
     "data": {
      "application/vnd.jupyter.widget-view+json": {
       "model_id": "0a19158ee716421dad84ad7ecb99725f",
       "version_major": 2,
       "version_minor": 0
      },
      "text/plain": [
       "time step:   0%|          | 0/10000 [00:00<?, ?it/s]"
      ]
     },
     "metadata": {},
     "output_type": "display_data"
    },
    {
     "data": {
      "application/vnd.jupyter.widget-view+json": {
       "model_id": "d8de311511574a69a6911afdb5f130e7",
       "version_major": 2,
       "version_minor": 0
      },
      "text/plain": [
       "time step:   0%|          | 0/10000 [00:00<?, ?it/s]"
      ]
     },
     "metadata": {},
     "output_type": "display_data"
    },
    {
     "data": {
      "application/vnd.jupyter.widget-view+json": {
       "model_id": "49bde51aa0dd435496de21b93c620732",
       "version_major": 2,
       "version_minor": 0
      },
      "text/plain": [
       "time step:   0%|          | 0/10000 [00:00<?, ?it/s]"
      ]
     },
     "metadata": {},
     "output_type": "display_data"
    },
    {
     "data": {
      "application/vnd.jupyter.widget-view+json": {
       "model_id": "f43a6b3f49d44eb0ad1d2d87e91469bc",
       "version_major": 2,
       "version_minor": 0
      },
      "text/plain": [
       "time step:   0%|          | 0/10000 [00:00<?, ?it/s]"
      ]
     },
     "metadata": {},
     "output_type": "display_data"
    },
    {
     "data": {
      "application/vnd.jupyter.widget-view+json": {
       "model_id": "ff34e47a9e12468888ef30ffc3903d3b",
       "version_major": 2,
       "version_minor": 0
      },
      "text/plain": [
       "time step:   0%|          | 0/10000 [00:00<?, ?it/s]"
      ]
     },
     "metadata": {},
     "output_type": "display_data"
    },
    {
     "data": {
      "application/vnd.jupyter.widget-view+json": {
       "model_id": "90e3725ea35d4f698468edfeff62ac99",
       "version_major": 2,
       "version_minor": 0
      },
      "text/plain": [
       "time step:   0%|          | 0/10000 [00:00<?, ?it/s]"
      ]
     },
     "metadata": {},
     "output_type": "display_data"
    },
    {
     "data": {
      "application/vnd.jupyter.widget-view+json": {
       "model_id": "3268a6991c6e457c9495632678069a5c",
       "version_major": 2,
       "version_minor": 0
      },
      "text/plain": [
       "time step:   0%|          | 0/10000 [00:00<?, ?it/s]"
      ]
     },
     "metadata": {},
     "output_type": "display_data"
    },
    {
     "data": {
      "application/vnd.jupyter.widget-view+json": {
       "model_id": "e968fc114bc949b28a194e7a1f976cf5",
       "version_major": 2,
       "version_minor": 0
      },
      "text/plain": [
       "time step:   0%|          | 0/10000 [00:00<?, ?it/s]"
      ]
     },
     "metadata": {},
     "output_type": "display_data"
    },
    {
     "data": {
      "application/vnd.jupyter.widget-view+json": {
       "model_id": "16fac70bd37a4a2b96dcc44d4109db3b",
       "version_major": 2,
       "version_minor": 0
      },
      "text/plain": [
       "time step:   0%|          | 0/10000 [00:00<?, ?it/s]"
      ]
     },
     "metadata": {},
     "output_type": "display_data"
    },
    {
     "data": {
      "application/vnd.jupyter.widget-view+json": {
       "model_id": "11d7b8ff3c0247ae9647beb19e777ff7",
       "version_major": 2,
       "version_minor": 0
      },
      "text/plain": [
       "time step:   0%|          | 0/10000 [00:00<?, ?it/s]"
      ]
     },
     "metadata": {},
     "output_type": "display_data"
    },
    {
     "data": {
      "application/vnd.jupyter.widget-view+json": {
       "model_id": "af1676a08e6e44ce97b52b4224f5ce42",
       "version_major": 2,
       "version_minor": 0
      },
      "text/plain": [
       "time step:   0%|          | 0/10000 [00:00<?, ?it/s]"
      ]
     },
     "metadata": {},
     "output_type": "display_data"
    },
    {
     "data": {
      "application/vnd.jupyter.widget-view+json": {
       "model_id": "fb699f9769d44aa7aed4a1ee4afd8db1",
       "version_major": 2,
       "version_minor": 0
      },
      "text/plain": [
       "time step:   0%|          | 0/10000 [00:00<?, ?it/s]"
      ]
     },
     "metadata": {},
     "output_type": "display_data"
    },
    {
     "data": {
      "application/vnd.jupyter.widget-view+json": {
       "model_id": "f78434b625984fa2aa83ea7bb7c7b6c3",
       "version_major": 2,
       "version_minor": 0
      },
      "text/plain": [
       "time step:   0%|          | 0/10000 [00:00<?, ?it/s]"
      ]
     },
     "metadata": {},
     "output_type": "display_data"
    },
    {
     "data": {
      "application/vnd.jupyter.widget-view+json": {
       "model_id": "385b47a7baad4f5b89872ee008b7e4a9",
       "version_major": 2,
       "version_minor": 0
      },
      "text/plain": [
       "time step:   0%|          | 0/10000 [00:00<?, ?it/s]"
      ]
     },
     "metadata": {},
     "output_type": "display_data"
    },
    {
     "data": {
      "application/vnd.jupyter.widget-view+json": {
       "model_id": "904ddd56811e4bf8b06ffab22098341c",
       "version_major": 2,
       "version_minor": 0
      },
      "text/plain": [
       "time step:   0%|          | 0/10000 [00:00<?, ?it/s]"
      ]
     },
     "metadata": {},
     "output_type": "display_data"
    },
    {
     "data": {
      "application/vnd.jupyter.widget-view+json": {
       "model_id": "afa4ad8fcd3b4fc188df32a66f0347be",
       "version_major": 2,
       "version_minor": 0
      },
      "text/plain": [
       "time step:   0%|          | 0/10000 [00:00<?, ?it/s]"
      ]
     },
     "metadata": {},
     "output_type": "display_data"
    },
    {
     "data": {
      "application/vnd.jupyter.widget-view+json": {
       "model_id": "b1285daa79b941818e217ca7d60a5c52",
       "version_major": 2,
       "version_minor": 0
      },
      "text/plain": [
       "time step:   0%|          | 0/10000 [00:00<?, ?it/s]"
      ]
     },
     "metadata": {},
     "output_type": "display_data"
    },
    {
     "data": {
      "application/vnd.jupyter.widget-view+json": {
       "model_id": "dd2246c83e1c401a8d64ee3216bd89b1",
       "version_major": 2,
       "version_minor": 0
      },
      "text/plain": [
       "time step:   0%|          | 0/10000 [00:00<?, ?it/s]"
      ]
     },
     "metadata": {},
     "output_type": "display_data"
    },
    {
     "data": {
      "application/vnd.jupyter.widget-view+json": {
       "model_id": "62388eb7636843ee84b5acaec6c8078c",
       "version_major": 2,
       "version_minor": 0
      },
      "text/plain": [
       "time step:   0%|          | 0/10000 [00:00<?, ?it/s]"
      ]
     },
     "metadata": {},
     "output_type": "display_data"
    },
    {
     "data": {
      "application/vnd.jupyter.widget-view+json": {
       "model_id": "c3e1518e1eaa407fbbccac2f22cd2a7d",
       "version_major": 2,
       "version_minor": 0
      },
      "text/plain": [
       "time step:   0%|          | 0/10000 [00:00<?, ?it/s]"
      ]
     },
     "metadata": {},
     "output_type": "display_data"
    },
    {
     "data": {
      "application/vnd.jupyter.widget-view+json": {
       "model_id": "97450c6504fd4bdb91215e65283e6d39",
       "version_major": 2,
       "version_minor": 0
      },
      "text/plain": [
       "time step:   0%|          | 0/10000 [00:00<?, ?it/s]"
      ]
     },
     "metadata": {},
     "output_type": "display_data"
    },
    {
     "data": {
      "application/vnd.jupyter.widget-view+json": {
       "model_id": "7bbd4208a94d447bbb68fa878fa7cd8c",
       "version_major": 2,
       "version_minor": 0
      },
      "text/plain": [
       "time step:   0%|          | 0/10000 [00:00<?, ?it/s]"
      ]
     },
     "metadata": {},
     "output_type": "display_data"
    },
    {
     "data": {
      "application/vnd.jupyter.widget-view+json": {
       "model_id": "dc17ced0483d400ca0cb4fe2b1dddcdb",
       "version_major": 2,
       "version_minor": 0
      },
      "text/plain": [
       "time step:   0%|          | 0/10000 [00:00<?, ?it/s]"
      ]
     },
     "metadata": {},
     "output_type": "display_data"
    },
    {
     "data": {
      "application/vnd.jupyter.widget-view+json": {
       "model_id": "3d7578c87b70483f85460ec45665dbf7",
       "version_major": 2,
       "version_minor": 0
      },
      "text/plain": [
       "time step:   0%|          | 0/10000 [00:00<?, ?it/s]"
      ]
     },
     "metadata": {},
     "output_type": "display_data"
    },
    {
     "data": {
      "application/vnd.jupyter.widget-view+json": {
       "model_id": "75bac5b813234412a66a248e767c9ecd",
       "version_major": 2,
       "version_minor": 0
      },
      "text/plain": [
       "time step:   0%|          | 0/10000 [00:00<?, ?it/s]"
      ]
     },
     "metadata": {},
     "output_type": "display_data"
    },
    {
     "data": {
      "application/vnd.jupyter.widget-view+json": {
       "model_id": "37aaafc3a33c4e0ca1d1ba38cbd3dc77",
       "version_major": 2,
       "version_minor": 0
      },
      "text/plain": [
       "time step:   0%|          | 0/10000 [00:00<?, ?it/s]"
      ]
     },
     "metadata": {},
     "output_type": "display_data"
    },
    {
     "data": {
      "application/vnd.jupyter.widget-view+json": {
       "model_id": "fac4f879d74b4eb99384754e24b8304b",
       "version_major": 2,
       "version_minor": 0
      },
      "text/plain": [
       "time step:   0%|          | 0/10000 [00:00<?, ?it/s]"
      ]
     },
     "metadata": {},
     "output_type": "display_data"
    },
    {
     "data": {
      "application/vnd.jupyter.widget-view+json": {
       "model_id": "3f0675c78a214147bec63f6e4f6bbd53",
       "version_major": 2,
       "version_minor": 0
      },
      "text/plain": [
       "time step:   0%|          | 0/10000 [00:00<?, ?it/s]"
      ]
     },
     "metadata": {},
     "output_type": "display_data"
    },
    {
     "data": {
      "application/vnd.jupyter.widget-view+json": {
       "model_id": "ebaa8c1189f34041beb3b4dd4d674f53",
       "version_major": 2,
       "version_minor": 0
      },
      "text/plain": [
       "time step:   0%|          | 0/10000 [00:00<?, ?it/s]"
      ]
     },
     "metadata": {},
     "output_type": "display_data"
    },
    {
     "data": {
      "application/vnd.jupyter.widget-view+json": {
       "model_id": "f77e43d3f00245119d5ba9735e068cd1",
       "version_major": 2,
       "version_minor": 0
      },
      "text/plain": [
       "time step:   0%|          | 0/10000 [00:00<?, ?it/s]"
      ]
     },
     "metadata": {},
     "output_type": "display_data"
    },
    {
     "data": {
      "application/vnd.jupyter.widget-view+json": {
       "model_id": "5fea1508b12248959c12702abb32e51a",
       "version_major": 2,
       "version_minor": 0
      },
      "text/plain": [
       "time step:   0%|          | 0/10000 [00:00<?, ?it/s]"
      ]
     },
     "metadata": {},
     "output_type": "display_data"
    },
    {
     "data": {
      "application/vnd.jupyter.widget-view+json": {
       "model_id": "103e95081cff45eaa3fd502b4fe51304",
       "version_major": 2,
       "version_minor": 0
      },
      "text/plain": [
       "time step:   0%|          | 0/10000 [00:00<?, ?it/s]"
      ]
     },
     "metadata": {},
     "output_type": "display_data"
    },
    {
     "data": {
      "application/vnd.jupyter.widget-view+json": {
       "model_id": "c6e5dd3db3114392ac25fb7b7d64df56",
       "version_major": 2,
       "version_minor": 0
      },
      "text/plain": [
       "time step:   0%|          | 0/10000 [00:00<?, ?it/s]"
      ]
     },
     "metadata": {},
     "output_type": "display_data"
    },
    {
     "data": {
      "application/vnd.jupyter.widget-view+json": {
       "model_id": "70714c2ff0014cd9abfd3519a8c97411",
       "version_major": 2,
       "version_minor": 0
      },
      "text/plain": [
       "time step:   0%|          | 0/10000 [00:00<?, ?it/s]"
      ]
     },
     "metadata": {},
     "output_type": "display_data"
    },
    {
     "data": {
      "application/vnd.jupyter.widget-view+json": {
       "model_id": "81a342ff88e54473a52bb464036efbf1",
       "version_major": 2,
       "version_minor": 0
      },
      "text/plain": [
       "time step:   0%|          | 0/10000 [00:00<?, ?it/s]"
      ]
     },
     "metadata": {},
     "output_type": "display_data"
    },
    {
     "data": {
      "application/vnd.jupyter.widget-view+json": {
       "model_id": "654f904d26d849c9bf184564cbe7b5f8",
       "version_major": 2,
       "version_minor": 0
      },
      "text/plain": [
       "time step:   0%|          | 0/10000 [00:00<?, ?it/s]"
      ]
     },
     "metadata": {},
     "output_type": "display_data"
    },
    {
     "data": {
      "application/vnd.jupyter.widget-view+json": {
       "model_id": "7685cbbbe64d4826855defc96e7a0a6a",
       "version_major": 2,
       "version_minor": 0
      },
      "text/plain": [
       "time step:   0%|          | 0/10000 [00:00<?, ?it/s]"
      ]
     },
     "metadata": {},
     "output_type": "display_data"
    },
    {
     "data": {
      "application/vnd.jupyter.widget-view+json": {
       "model_id": "c9c31633984c4dfdbd7c768e11dd3cef",
       "version_major": 2,
       "version_minor": 0
      },
      "text/plain": [
       "time step:   0%|          | 0/10000 [00:00<?, ?it/s]"
      ]
     },
     "metadata": {},
     "output_type": "display_data"
    },
    {
     "data": {
      "application/vnd.jupyter.widget-view+json": {
       "model_id": "77252c44aa7b43c292fadb210942de41",
       "version_major": 2,
       "version_minor": 0
      },
      "text/plain": [
       "time step:   0%|          | 0/10000 [00:00<?, ?it/s]"
      ]
     },
     "metadata": {},
     "output_type": "display_data"
    },
    {
     "data": {
      "application/vnd.jupyter.widget-view+json": {
       "model_id": "db0503a990fe48bfba5c800e707ceb62",
       "version_major": 2,
       "version_minor": 0
      },
      "text/plain": [
       "time step:   0%|          | 0/10000 [00:00<?, ?it/s]"
      ]
     },
     "metadata": {},
     "output_type": "display_data"
    },
    {
     "data": {
      "application/vnd.jupyter.widget-view+json": {
       "model_id": "461095b2dd64425990f620402b4b7346",
       "version_major": 2,
       "version_minor": 0
      },
      "text/plain": [
       "time step:   0%|          | 0/10000 [00:00<?, ?it/s]"
      ]
     },
     "metadata": {},
     "output_type": "display_data"
    },
    {
     "data": {
      "application/vnd.jupyter.widget-view+json": {
       "model_id": "07a65e93dfc64f8bac3ddc89f6f55561",
       "version_major": 2,
       "version_minor": 0
      },
      "text/plain": [
       "time step:   0%|          | 0/10000 [00:00<?, ?it/s]"
      ]
     },
     "metadata": {},
     "output_type": "display_data"
    },
    {
     "data": {
      "application/vnd.jupyter.widget-view+json": {
       "model_id": "a8264cac2dc543b0b613247593d07aff",
       "version_major": 2,
       "version_minor": 0
      },
      "text/plain": [
       "time step:   0%|          | 0/10000 [00:00<?, ?it/s]"
      ]
     },
     "metadata": {},
     "output_type": "display_data"
    },
    {
     "data": {
      "application/vnd.jupyter.widget-view+json": {
       "model_id": "6a07cc3b7bbf40e6836b451d49e26afb",
       "version_major": 2,
       "version_minor": 0
      },
      "text/plain": [
       "time step:   0%|          | 0/10000 [00:00<?, ?it/s]"
      ]
     },
     "metadata": {},
     "output_type": "display_data"
    },
    {
     "data": {
      "application/vnd.jupyter.widget-view+json": {
       "model_id": "b27e077614c24ec584a72cb55ff29b24",
       "version_major": 2,
       "version_minor": 0
      },
      "text/plain": [
       "time step:   0%|          | 0/10000 [00:00<?, ?it/s]"
      ]
     },
     "metadata": {},
     "output_type": "display_data"
    },
    {
     "data": {
      "application/vnd.jupyter.widget-view+json": {
       "model_id": "3474284cd8af4549bb47eab57a248629",
       "version_major": 2,
       "version_minor": 0
      },
      "text/plain": [
       "time step:   0%|          | 0/10000 [00:00<?, ?it/s]"
      ]
     },
     "metadata": {},
     "output_type": "display_data"
    },
    {
     "data": {
      "application/vnd.jupyter.widget-view+json": {
       "model_id": "91592b51061a43eeac155f60c8ed6cfc",
       "version_major": 2,
       "version_minor": 0
      },
      "text/plain": [
       "time step:   0%|          | 0/10000 [00:00<?, ?it/s]"
      ]
     },
     "metadata": {},
     "output_type": "display_data"
    },
    {
     "data": {
      "application/vnd.jupyter.widget-view+json": {
       "model_id": "f4a762453cb94a25ac819c78184e0c54",
       "version_major": 2,
       "version_minor": 0
      },
      "text/plain": [
       "time step:   0%|          | 0/10000 [00:00<?, ?it/s]"
      ]
     },
     "metadata": {},
     "output_type": "display_data"
    },
    {
     "data": {
      "application/vnd.jupyter.widget-view+json": {
       "model_id": "1b4ded8079c5448797588ef6c27885b7",
       "version_major": 2,
       "version_minor": 0
      },
      "text/plain": [
       "time step:   0%|          | 0/10000 [00:00<?, ?it/s]"
      ]
     },
     "metadata": {},
     "output_type": "display_data"
    },
    {
     "data": {
      "application/vnd.jupyter.widget-view+json": {
       "model_id": "c23c60545ef2446796999e9e8e90ced6",
       "version_major": 2,
       "version_minor": 0
      },
      "text/plain": [
       "time step:   0%|          | 0/10000 [00:00<?, ?it/s]"
      ]
     },
     "metadata": {},
     "output_type": "display_data"
    },
    {
     "data": {
      "application/vnd.jupyter.widget-view+json": {
       "model_id": "a86523ade2bb456aab86c29c07f74089",
       "version_major": 2,
       "version_minor": 0
      },
      "text/plain": [
       "time step:   0%|          | 0/10000 [00:00<?, ?it/s]"
      ]
     },
     "metadata": {},
     "output_type": "display_data"
    },
    {
     "data": {
      "application/vnd.jupyter.widget-view+json": {
       "model_id": "97cfa2450b854326b04f0c770df7a314",
       "version_major": 2,
       "version_minor": 0
      },
      "text/plain": [
       "time step:   0%|          | 0/10000 [00:00<?, ?it/s]"
      ]
     },
     "metadata": {},
     "output_type": "display_data"
    },
    {
     "data": {
      "application/vnd.jupyter.widget-view+json": {
       "model_id": "cdb6958808a24e3288bdd5e25b3db89e",
       "version_major": 2,
       "version_minor": 0
      },
      "text/plain": [
       "time step:   0%|          | 0/10000 [00:00<?, ?it/s]"
      ]
     },
     "metadata": {},
     "output_type": "display_data"
    },
    {
     "data": {
      "application/vnd.jupyter.widget-view+json": {
       "model_id": "a1b8ce8a52054fe0905580b8eea866de",
       "version_major": 2,
       "version_minor": 0
      },
      "text/plain": [
       "time step:   0%|          | 0/10000 [00:00<?, ?it/s]"
      ]
     },
     "metadata": {},
     "output_type": "display_data"
    },
    {
     "data": {
      "application/vnd.jupyter.widget-view+json": {
       "model_id": "fd746f5421744eaf92cac696bfaf5fb8",
       "version_major": 2,
       "version_minor": 0
      },
      "text/plain": [
       "time step:   0%|          | 0/10000 [00:00<?, ?it/s]"
      ]
     },
     "metadata": {},
     "output_type": "display_data"
    },
    {
     "data": {
      "application/vnd.jupyter.widget-view+json": {
       "model_id": "9ad1679f52924f93abd662bed835c6a2",
       "version_major": 2,
       "version_minor": 0
      },
      "text/plain": [
       "time step:   0%|          | 0/10000 [00:00<?, ?it/s]"
      ]
     },
     "metadata": {},
     "output_type": "display_data"
    },
    {
     "data": {
      "application/vnd.jupyter.widget-view+json": {
       "model_id": "1794acda4312445bbb99f97a55cc0915",
       "version_major": 2,
       "version_minor": 0
      },
      "text/plain": [
       "time step:   0%|          | 0/10000 [00:00<?, ?it/s]"
      ]
     },
     "metadata": {},
     "output_type": "display_data"
    },
    {
     "data": {
      "application/vnd.jupyter.widget-view+json": {
       "model_id": "7f485236556b44429a7a4b53b98b290d",
       "version_major": 2,
       "version_minor": 0
      },
      "text/plain": [
       "time step:   0%|          | 0/10000 [00:00<?, ?it/s]"
      ]
     },
     "metadata": {},
     "output_type": "display_data"
    },
    {
     "data": {
      "application/vnd.jupyter.widget-view+json": {
       "model_id": "59677cf481944ee884999e090d1894f8",
       "version_major": 2,
       "version_minor": 0
      },
      "text/plain": [
       "time step:   0%|          | 0/10000 [00:00<?, ?it/s]"
      ]
     },
     "metadata": {},
     "output_type": "display_data"
    },
    {
     "data": {
      "application/vnd.jupyter.widget-view+json": {
       "model_id": "37b683c2243446518e9091c4ca68574a",
       "version_major": 2,
       "version_minor": 0
      },
      "text/plain": [
       "time step:   0%|          | 0/10000 [00:00<?, ?it/s]"
      ]
     },
     "metadata": {},
     "output_type": "display_data"
    },
    {
     "data": {
      "application/vnd.jupyter.widget-view+json": {
       "model_id": "a65834377ea548f286266f1b0f0b9019",
       "version_major": 2,
       "version_minor": 0
      },
      "text/plain": [
       "time step:   0%|          | 0/10000 [00:00<?, ?it/s]"
      ]
     },
     "metadata": {},
     "output_type": "display_data"
    },
    {
     "data": {
      "application/vnd.jupyter.widget-view+json": {
       "model_id": "ecb67da0b7a1440c9b42ddb3e0b6387e",
       "version_major": 2,
       "version_minor": 0
      },
      "text/plain": [
       "time step:   0%|          | 0/10000 [00:00<?, ?it/s]"
      ]
     },
     "metadata": {},
     "output_type": "display_data"
    },
    {
     "data": {
      "application/vnd.jupyter.widget-view+json": {
       "model_id": "ce7b59d55bcf4c93a5212e0a24b25cfb",
       "version_major": 2,
       "version_minor": 0
      },
      "text/plain": [
       "time step:   0%|          | 0/10000 [00:00<?, ?it/s]"
      ]
     },
     "metadata": {},
     "output_type": "display_data"
    },
    {
     "data": {
      "application/vnd.jupyter.widget-view+json": {
       "model_id": "fe049f779de1476fb7b1dbd60a828e1d",
       "version_major": 2,
       "version_minor": 0
      },
      "text/plain": [
       "time step:   0%|          | 0/10000 [00:00<?, ?it/s]"
      ]
     },
     "metadata": {},
     "output_type": "display_data"
    },
    {
     "data": {
      "application/vnd.jupyter.widget-view+json": {
       "model_id": "3e08e563d50e46028386d1c50890992e",
       "version_major": 2,
       "version_minor": 0
      },
      "text/plain": [
       "time step:   0%|          | 0/10000 [00:00<?, ?it/s]"
      ]
     },
     "metadata": {},
     "output_type": "display_data"
    },
    {
     "data": {
      "application/vnd.jupyter.widget-view+json": {
       "model_id": "aa3da71c310545dda9b85c674a7c4385",
       "version_major": 2,
       "version_minor": 0
      },
      "text/plain": [
       "time step:   0%|          | 0/10000 [00:00<?, ?it/s]"
      ]
     },
     "metadata": {},
     "output_type": "display_data"
    },
    {
     "data": {
      "application/vnd.jupyter.widget-view+json": {
       "model_id": "c5babd6febc04740bb61f56cad8fae64",
       "version_major": 2,
       "version_minor": 0
      },
      "text/plain": [
       "time step:   0%|          | 0/10000 [00:00<?, ?it/s]"
      ]
     },
     "metadata": {},
     "output_type": "display_data"
    },
    {
     "data": {
      "application/vnd.jupyter.widget-view+json": {
       "model_id": "37a7a26b5c58414ba0371b0d47c62931",
       "version_major": 2,
       "version_minor": 0
      },
      "text/plain": [
       "time step:   0%|          | 0/10000 [00:00<?, ?it/s]"
      ]
     },
     "metadata": {},
     "output_type": "display_data"
    },
    {
     "data": {
      "application/vnd.jupyter.widget-view+json": {
       "model_id": "d2b77cb7a1d24793855365e0a9c42247",
       "version_major": 2,
       "version_minor": 0
      },
      "text/plain": [
       "time step:   0%|          | 0/10000 [00:00<?, ?it/s]"
      ]
     },
     "metadata": {},
     "output_type": "display_data"
    },
    {
     "data": {
      "application/vnd.jupyter.widget-view+json": {
       "model_id": "3d82e4338b7c4341ac17c74c43f87ff8",
       "version_major": 2,
       "version_minor": 0
      },
      "text/plain": [
       "time step:   0%|          | 0/10000 [00:00<?, ?it/s]"
      ]
     },
     "metadata": {},
     "output_type": "display_data"
    },
    {
     "data": {
      "application/vnd.jupyter.widget-view+json": {
       "model_id": "ddb4f257b2914d72a5c9b2cde43f3883",
       "version_major": 2,
       "version_minor": 0
      },
      "text/plain": [
       "time step:   0%|          | 0/10000 [00:00<?, ?it/s]"
      ]
     },
     "metadata": {},
     "output_type": "display_data"
    },
    {
     "data": {
      "application/vnd.jupyter.widget-view+json": {
       "model_id": "9399b2de68bb4e83b7d8262ab0bf669d",
       "version_major": 2,
       "version_minor": 0
      },
      "text/plain": [
       "time step:   0%|          | 0/10000 [00:00<?, ?it/s]"
      ]
     },
     "metadata": {},
     "output_type": "display_data"
    },
    {
     "data": {
      "application/vnd.jupyter.widget-view+json": {
       "model_id": "d2c0e58249b3420f9e03daa591df91fa",
       "version_major": 2,
       "version_minor": 0
      },
      "text/plain": [
       "time step:   0%|          | 0/10000 [00:00<?, ?it/s]"
      ]
     },
     "metadata": {},
     "output_type": "display_data"
    },
    {
     "data": {
      "application/vnd.jupyter.widget-view+json": {
       "model_id": "cb4420f1aeb54062af1bf71688e5a8ce",
       "version_major": 2,
       "version_minor": 0
      },
      "text/plain": [
       "time step:   0%|          | 0/10000 [00:00<?, ?it/s]"
      ]
     },
     "metadata": {},
     "output_type": "display_data"
    },
    {
     "data": {
      "application/vnd.jupyter.widget-view+json": {
       "model_id": "92f4f547b6b44e5f9adbf5fbca5d05b0",
       "version_major": 2,
       "version_minor": 0
      },
      "text/plain": [
       "time step:   0%|          | 0/10000 [00:00<?, ?it/s]"
      ]
     },
     "metadata": {},
     "output_type": "display_data"
    },
    {
     "data": {
      "application/vnd.jupyter.widget-view+json": {
       "model_id": "379b5d9e5ead4ee9a43c2516371151a0",
       "version_major": 2,
       "version_minor": 0
      },
      "text/plain": [
       "time step:   0%|          | 0/10000 [00:00<?, ?it/s]"
      ]
     },
     "metadata": {},
     "output_type": "display_data"
    },
    {
     "data": {
      "application/vnd.jupyter.widget-view+json": {
       "model_id": "8a3b0725c0a4407687181749357dc5a4",
       "version_major": 2,
       "version_minor": 0
      },
      "text/plain": [
       "time step:   0%|          | 0/10000 [00:00<?, ?it/s]"
      ]
     },
     "metadata": {},
     "output_type": "display_data"
    },
    {
     "data": {
      "application/vnd.jupyter.widget-view+json": {
       "model_id": "a775160db215460bb0194ae7ed86b005",
       "version_major": 2,
       "version_minor": 0
      },
      "text/plain": [
       "time step:   0%|          | 0/10000 [00:00<?, ?it/s]"
      ]
     },
     "metadata": {},
     "output_type": "display_data"
    },
    {
     "data": {
      "application/vnd.jupyter.widget-view+json": {
       "model_id": "7192455f005d469786e93a10d31c472a",
       "version_major": 2,
       "version_minor": 0
      },
      "text/plain": [
       "time step:   0%|          | 0/10000 [00:00<?, ?it/s]"
      ]
     },
     "metadata": {},
     "output_type": "display_data"
    },
    {
     "data": {
      "application/vnd.jupyter.widget-view+json": {
       "model_id": "d2b2f4a741104aeabe2889dc138f1fd4",
       "version_major": 2,
       "version_minor": 0
      },
      "text/plain": [
       "time step:   0%|          | 0/10000 [00:00<?, ?it/s]"
      ]
     },
     "metadata": {},
     "output_type": "display_data"
    },
    {
     "data": {
      "application/vnd.jupyter.widget-view+json": {
       "model_id": "ff4c6dc0231b48bbb12977bc93f23f80",
       "version_major": 2,
       "version_minor": 0
      },
      "text/plain": [
       "time step:   0%|          | 0/10000 [00:00<?, ?it/s]"
      ]
     },
     "metadata": {},
     "output_type": "display_data"
    },
    {
     "data": {
      "application/vnd.jupyter.widget-view+json": {
       "model_id": "09afad1c498f4170af9d0cb3b8dcff70",
       "version_major": 2,
       "version_minor": 0
      },
      "text/plain": [
       "time step:   0%|          | 0/10000 [00:00<?, ?it/s]"
      ]
     },
     "metadata": {},
     "output_type": "display_data"
    },
    {
     "data": {
      "application/vnd.jupyter.widget-view+json": {
       "model_id": "5820e2556231441c9b3096efe398a47e",
       "version_major": 2,
       "version_minor": 0
      },
      "text/plain": [
       "time step:   0%|          | 0/10000 [00:00<?, ?it/s]"
      ]
     },
     "metadata": {},
     "output_type": "display_data"
    },
    {
     "data": {
      "application/vnd.jupyter.widget-view+json": {
       "model_id": "a93c17d5b477417e8fbb6fc2af2954a2",
       "version_major": 2,
       "version_minor": 0
      },
      "text/plain": [
       "time step:   0%|          | 0/10000 [00:00<?, ?it/s]"
      ]
     },
     "metadata": {},
     "output_type": "display_data"
    },
    {
     "data": {
      "application/vnd.jupyter.widget-view+json": {
       "model_id": "acd698793c7540039da6593d3d2db036",
       "version_major": 2,
       "version_minor": 0
      },
      "text/plain": [
       "time step:   0%|          | 0/10000 [00:00<?, ?it/s]"
      ]
     },
     "metadata": {},
     "output_type": "display_data"
    },
    {
     "data": {
      "application/vnd.jupyter.widget-view+json": {
       "model_id": "f1758e4b798e4066bfeba8c81e6b1838",
       "version_major": 2,
       "version_minor": 0
      },
      "text/plain": [
       "time step:   0%|          | 0/10000 [00:00<?, ?it/s]"
      ]
     },
     "metadata": {},
     "output_type": "display_data"
    },
    {
     "data": {
      "application/vnd.jupyter.widget-view+json": {
       "model_id": "708f8a92600645d8b917016dafef5b95",
       "version_major": 2,
       "version_minor": 0
      },
      "text/plain": [
       "time step:   0%|          | 0/10000 [00:00<?, ?it/s]"
      ]
     },
     "metadata": {},
     "output_type": "display_data"
    },
    {
     "data": {
      "application/vnd.jupyter.widget-view+json": {
       "model_id": "65e23acdfc86431888b59f4d59b0f8b6",
       "version_major": 2,
       "version_minor": 0
      },
      "text/plain": [
       "time step:   0%|          | 0/10000 [00:00<?, ?it/s]"
      ]
     },
     "metadata": {},
     "output_type": "display_data"
    },
    {
     "data": {
      "application/vnd.jupyter.widget-view+json": {
       "model_id": "f82e4e0908564b708e478fa65d561ca9",
       "version_major": 2,
       "version_minor": 0
      },
      "text/plain": [
       "time step:   0%|          | 0/10000 [00:00<?, ?it/s]"
      ]
     },
     "metadata": {},
     "output_type": "display_data"
    },
    {
     "data": {
      "application/vnd.jupyter.widget-view+json": {
       "model_id": "0d42efa70a834499b21f157cf9ea21d4",
       "version_major": 2,
       "version_minor": 0
      },
      "text/plain": [
       "time step:   0%|          | 0/10000 [00:00<?, ?it/s]"
      ]
     },
     "metadata": {},
     "output_type": "display_data"
    },
    {
     "data": {
      "application/vnd.jupyter.widget-view+json": {
       "model_id": "54da74f17a9c4aa69a9be9743a3d54ec",
       "version_major": 2,
       "version_minor": 0
      },
      "text/plain": [
       "time step:   0%|          | 0/10000 [00:00<?, ?it/s]"
      ]
     },
     "metadata": {},
     "output_type": "display_data"
    },
    {
     "data": {
      "application/vnd.jupyter.widget-view+json": {
       "model_id": "96d4884bb16743d9a82347734fa9ad7a",
       "version_major": 2,
       "version_minor": 0
      },
      "text/plain": [
       "time step:   0%|          | 0/10000 [00:00<?, ?it/s]"
      ]
     },
     "metadata": {},
     "output_type": "display_data"
    },
    {
     "data": {
      "application/vnd.jupyter.widget-view+json": {
       "model_id": "616f691fcf934ac4b5bbf1bb3addea32",
       "version_major": 2,
       "version_minor": 0
      },
      "text/plain": [
       "time step:   0%|          | 0/10000 [00:00<?, ?it/s]"
      ]
     },
     "metadata": {},
     "output_type": "display_data"
    },
    {
     "data": {
      "application/vnd.jupyter.widget-view+json": {
       "model_id": "9386426e397d4dbd9284ab829ccc7d0d",
       "version_major": 2,
       "version_minor": 0
      },
      "text/plain": [
       "time step:   0%|          | 0/10000 [00:00<?, ?it/s]"
      ]
     },
     "metadata": {},
     "output_type": "display_data"
    },
    {
     "data": {
      "application/vnd.jupyter.widget-view+json": {
       "model_id": "241d2a3b271246aaba64ea4528504e9f",
       "version_major": 2,
       "version_minor": 0
      },
      "text/plain": [
       "time step:   0%|          | 0/10000 [00:00<?, ?it/s]"
      ]
     },
     "metadata": {},
     "output_type": "display_data"
    },
    {
     "data": {
      "application/vnd.jupyter.widget-view+json": {
       "model_id": "0ab52b4eb83840799f8d6961c136f14a",
       "version_major": 2,
       "version_minor": 0
      },
      "text/plain": [
       "time step:   0%|          | 0/10000 [00:00<?, ?it/s]"
      ]
     },
     "metadata": {},
     "output_type": "display_data"
    },
    {
     "data": {
      "application/vnd.jupyter.widget-view+json": {
       "model_id": "8909aca24dc54cabb07ecfad947a6fac",
       "version_major": 2,
       "version_minor": 0
      },
      "text/plain": [
       "time step:   0%|          | 0/10000 [00:00<?, ?it/s]"
      ]
     },
     "metadata": {},
     "output_type": "display_data"
    },
    {
     "data": {
      "application/vnd.jupyter.widget-view+json": {
       "model_id": "25862dceec2841be8a90fcc9a4ddfa45",
       "version_major": 2,
       "version_minor": 0
      },
      "text/plain": [
       "time step:   0%|          | 0/10000 [00:00<?, ?it/s]"
      ]
     },
     "metadata": {},
     "output_type": "display_data"
    },
    {
     "data": {
      "application/vnd.jupyter.widget-view+json": {
       "model_id": "c20f92e29ef94f92871d1c9319213a71",
       "version_major": 2,
       "version_minor": 0
      },
      "text/plain": [
       "time step:   0%|          | 0/10000 [00:00<?, ?it/s]"
      ]
     },
     "metadata": {},
     "output_type": "display_data"
    },
    {
     "data": {
      "application/vnd.jupyter.widget-view+json": {
       "model_id": "bed2e640a1b24e35b311b9353d4787f9",
       "version_major": 2,
       "version_minor": 0
      },
      "text/plain": [
       "time step:   0%|          | 0/10000 [00:00<?, ?it/s]"
      ]
     },
     "metadata": {},
     "output_type": "display_data"
    },
    {
     "data": {
      "application/vnd.jupyter.widget-view+json": {
       "model_id": "78f28dad61de49f5bf26722de71a584f",
       "version_major": 2,
       "version_minor": 0
      },
      "text/plain": [
       "time step:   0%|          | 0/10000 [00:00<?, ?it/s]"
      ]
     },
     "metadata": {},
     "output_type": "display_data"
    },
    {
     "data": {
      "application/vnd.jupyter.widget-view+json": {
       "model_id": "e61223556b8d47ae9b8c6534f24d5e42",
       "version_major": 2,
       "version_minor": 0
      },
      "text/plain": [
       "time step:   0%|          | 0/10000 [00:00<?, ?it/s]"
      ]
     },
     "metadata": {},
     "output_type": "display_data"
    },
    {
     "data": {
      "application/vnd.jupyter.widget-view+json": {
       "model_id": "5dac2c6b98d849299c62f239b1987a0e",
       "version_major": 2,
       "version_minor": 0
      },
      "text/plain": [
       "time step:   0%|          | 0/10000 [00:00<?, ?it/s]"
      ]
     },
     "metadata": {},
     "output_type": "display_data"
    },
    {
     "data": {
      "application/vnd.jupyter.widget-view+json": {
       "model_id": "327ac9a213d54fb6bbebac6aa16f71c2",
       "version_major": 2,
       "version_minor": 0
      },
      "text/plain": [
       "time step:   0%|          | 0/10000 [00:00<?, ?it/s]"
      ]
     },
     "metadata": {},
     "output_type": "display_data"
    },
    {
     "data": {
      "application/vnd.jupyter.widget-view+json": {
       "model_id": "f294eecd261746c1b92e9b71f49fbea1",
       "version_major": 2,
       "version_minor": 0
      },
      "text/plain": [
       "time step:   0%|          | 0/10000 [00:00<?, ?it/s]"
      ]
     },
     "metadata": {},
     "output_type": "display_data"
    },
    {
     "data": {
      "application/vnd.jupyter.widget-view+json": {
       "model_id": "060844c9a6db4535a0147a982c6ba6f9",
       "version_major": 2,
       "version_minor": 0
      },
      "text/plain": [
       "time step:   0%|          | 0/10000 [00:00<?, ?it/s]"
      ]
     },
     "metadata": {},
     "output_type": "display_data"
    },
    {
     "data": {
      "application/vnd.jupyter.widget-view+json": {
       "model_id": "e1e7736415824cd58936be3b539f0e6a",
       "version_major": 2,
       "version_minor": 0
      },
      "text/plain": [
       "time step:   0%|          | 0/10000 [00:00<?, ?it/s]"
      ]
     },
     "metadata": {},
     "output_type": "display_data"
    },
    {
     "data": {
      "application/vnd.jupyter.widget-view+json": {
       "model_id": "925223fac7f94db29535a1ecf3cfd305",
       "version_major": 2,
       "version_minor": 0
      },
      "text/plain": [
       "time step:   0%|          | 0/10000 [00:00<?, ?it/s]"
      ]
     },
     "metadata": {},
     "output_type": "display_data"
    },
    {
     "data": {
      "application/vnd.jupyter.widget-view+json": {
       "model_id": "8020fd888f32449c93c002a016a8093a",
       "version_major": 2,
       "version_minor": 0
      },
      "text/plain": [
       "time step:   0%|          | 0/10000 [00:00<?, ?it/s]"
      ]
     },
     "metadata": {},
     "output_type": "display_data"
    },
    {
     "data": {
      "application/vnd.jupyter.widget-view+json": {
       "model_id": "343c838f1b9747d4b0db928741edebc0",
       "version_major": 2,
       "version_minor": 0
      },
      "text/plain": [
       "time step:   0%|          | 0/10000 [00:00<?, ?it/s]"
      ]
     },
     "metadata": {},
     "output_type": "display_data"
    },
    {
     "data": {
      "application/vnd.jupyter.widget-view+json": {
       "model_id": "7b7f970759e44f2fa1a8d74d33695dc5",
       "version_major": 2,
       "version_minor": 0
      },
      "text/plain": [
       "time step:   0%|          | 0/10000 [00:00<?, ?it/s]"
      ]
     },
     "metadata": {},
     "output_type": "display_data"
    },
    {
     "data": {
      "application/vnd.jupyter.widget-view+json": {
       "model_id": "649c7e9db67a4c35ad93db4ac463ff4b",
       "version_major": 2,
       "version_minor": 0
      },
      "text/plain": [
       "time step:   0%|          | 0/10000 [00:00<?, ?it/s]"
      ]
     },
     "metadata": {},
     "output_type": "display_data"
    },
    {
     "data": {
      "application/vnd.jupyter.widget-view+json": {
       "model_id": "9482284d10ee4393adc923765cb4b0c2",
       "version_major": 2,
       "version_minor": 0
      },
      "text/plain": [
       "time step:   0%|          | 0/10000 [00:00<?, ?it/s]"
      ]
     },
     "metadata": {},
     "output_type": "display_data"
    },
    {
     "data": {
      "application/vnd.jupyter.widget-view+json": {
       "model_id": "6ead7ae152534043a9bee2ea142a6a69",
       "version_major": 2,
       "version_minor": 0
      },
      "text/plain": [
       "time step:   0%|          | 0/10000 [00:00<?, ?it/s]"
      ]
     },
     "metadata": {},
     "output_type": "display_data"
    },
    {
     "data": {
      "application/vnd.jupyter.widget-view+json": {
       "model_id": "23129d39123e412ebf8b922f7f1343ad",
       "version_major": 2,
       "version_minor": 0
      },
      "text/plain": [
       "time step:   0%|          | 0/10000 [00:00<?, ?it/s]"
      ]
     },
     "metadata": {},
     "output_type": "display_data"
    },
    {
     "data": {
      "application/vnd.jupyter.widget-view+json": {
       "model_id": "ab3f66b92ce34fe88d959eac0c023183",
       "version_major": 2,
       "version_minor": 0
      },
      "text/plain": [
       "time step:   0%|          | 0/10000 [00:00<?, ?it/s]"
      ]
     },
     "metadata": {},
     "output_type": "display_data"
    },
    {
     "data": {
      "application/vnd.jupyter.widget-view+json": {
       "model_id": "b79eb03803f6454a9629e9a89a3ae809",
       "version_major": 2,
       "version_minor": 0
      },
      "text/plain": [
       "time step:   0%|          | 0/10000 [00:00<?, ?it/s]"
      ]
     },
     "metadata": {},
     "output_type": "display_data"
    },
    {
     "data": {
      "application/vnd.jupyter.widget-view+json": {
       "model_id": "0a5337a553404d8ca5c95073bda773e6",
       "version_major": 2,
       "version_minor": 0
      },
      "text/plain": [
       "time step:   0%|          | 0/10000 [00:00<?, ?it/s]"
      ]
     },
     "metadata": {},
     "output_type": "display_data"
    },
    {
     "data": {
      "application/vnd.jupyter.widget-view+json": {
       "model_id": "54ca53c4ee614ef9ae9dff57d86f86a9",
       "version_major": 2,
       "version_minor": 0
      },
      "text/plain": [
       "time step:   0%|          | 0/10000 [00:00<?, ?it/s]"
      ]
     },
     "metadata": {},
     "output_type": "display_data"
    },
    {
     "data": {
      "application/vnd.jupyter.widget-view+json": {
       "model_id": "c2d2535355b64ed48b9ed895b91e16f5",
       "version_major": 2,
       "version_minor": 0
      },
      "text/plain": [
       "time step:   0%|          | 0/10000 [00:00<?, ?it/s]"
      ]
     },
     "metadata": {},
     "output_type": "display_data"
    },
    {
     "data": {
      "application/vnd.jupyter.widget-view+json": {
       "model_id": "9907565bac554699b45a5b8794cf68e8",
       "version_major": 2,
       "version_minor": 0
      },
      "text/plain": [
       "time step:   0%|          | 0/10000 [00:00<?, ?it/s]"
      ]
     },
     "metadata": {},
     "output_type": "display_data"
    },
    {
     "data": {
      "application/vnd.jupyter.widget-view+json": {
       "model_id": "7e2862974c1d4df28594638b1458da4a",
       "version_major": 2,
       "version_minor": 0
      },
      "text/plain": [
       "time step:   0%|          | 0/10000 [00:00<?, ?it/s]"
      ]
     },
     "metadata": {},
     "output_type": "display_data"
    },
    {
     "data": {
      "application/vnd.jupyter.widget-view+json": {
       "model_id": "032896ef961041ac9a3f1b41a90878e1",
       "version_major": 2,
       "version_minor": 0
      },
      "text/plain": [
       "time step:   0%|          | 0/10000 [00:00<?, ?it/s]"
      ]
     },
     "metadata": {},
     "output_type": "display_data"
    },
    {
     "data": {
      "application/vnd.jupyter.widget-view+json": {
       "model_id": "3d9fe351aad545eca7778d12f20edc44",
       "version_major": 2,
       "version_minor": 0
      },
      "text/plain": [
       "time step:   0%|          | 0/10000 [00:00<?, ?it/s]"
      ]
     },
     "metadata": {},
     "output_type": "display_data"
    },
    {
     "data": {
      "application/vnd.jupyter.widget-view+json": {
       "model_id": "beab2fc1f4be4b52aba5099ccb84d1a2",
       "version_major": 2,
       "version_minor": 0
      },
      "text/plain": [
       "time step:   0%|          | 0/10000 [00:00<?, ?it/s]"
      ]
     },
     "metadata": {},
     "output_type": "display_data"
    },
    {
     "data": {
      "application/vnd.jupyter.widget-view+json": {
       "model_id": "5923b4efa4f7447d9c72a19112264f24",
       "version_major": 2,
       "version_minor": 0
      },
      "text/plain": [
       "time step:   0%|          | 0/10000 [00:00<?, ?it/s]"
      ]
     },
     "metadata": {},
     "output_type": "display_data"
    },
    {
     "data": {
      "application/vnd.jupyter.widget-view+json": {
       "model_id": "27b4cb9253fb4c1c93aa845dc330aefe",
       "version_major": 2,
       "version_minor": 0
      },
      "text/plain": [
       "time step:   0%|          | 0/10000 [00:00<?, ?it/s]"
      ]
     },
     "metadata": {},
     "output_type": "display_data"
    },
    {
     "data": {
      "application/vnd.jupyter.widget-view+json": {
       "model_id": "245543cbd6d24ea88f0086eb9b9c36cc",
       "version_major": 2,
       "version_minor": 0
      },
      "text/plain": [
       "time step:   0%|          | 0/10000 [00:00<?, ?it/s]"
      ]
     },
     "metadata": {},
     "output_type": "display_data"
    },
    {
     "data": {
      "application/vnd.jupyter.widget-view+json": {
       "model_id": "0f31b6f5d3e4496bb51be7b1949749f9",
       "version_major": 2,
       "version_minor": 0
      },
      "text/plain": [
       "time step:   0%|          | 0/10000 [00:00<?, ?it/s]"
      ]
     },
     "metadata": {},
     "output_type": "display_data"
    },
    {
     "data": {
      "application/vnd.jupyter.widget-view+json": {
       "model_id": "270956a351bc417ea9cfab10d4b0d5d7",
       "version_major": 2,
       "version_minor": 0
      },
      "text/plain": [
       "time step:   0%|          | 0/10000 [00:00<?, ?it/s]"
      ]
     },
     "metadata": {},
     "output_type": "display_data"
    },
    {
     "data": {
      "application/vnd.jupyter.widget-view+json": {
       "model_id": "65d12ef4f16640448de762a86598298a",
       "version_major": 2,
       "version_minor": 0
      },
      "text/plain": [
       "time step:   0%|          | 0/10000 [00:00<?, ?it/s]"
      ]
     },
     "metadata": {},
     "output_type": "display_data"
    },
    {
     "data": {
      "application/vnd.jupyter.widget-view+json": {
       "model_id": "f1823413465242bdb0f19557f0bc9f2d",
       "version_major": 2,
       "version_minor": 0
      },
      "text/plain": [
       "time step:   0%|          | 0/10000 [00:00<?, ?it/s]"
      ]
     },
     "metadata": {},
     "output_type": "display_data"
    },
    {
     "data": {
      "application/vnd.jupyter.widget-view+json": {
       "model_id": "25ae5c75057a4b3caafcf486e47f9e43",
       "version_major": 2,
       "version_minor": 0
      },
      "text/plain": [
       "time step:   0%|          | 0/10000 [00:00<?, ?it/s]"
      ]
     },
     "metadata": {},
     "output_type": "display_data"
    },
    {
     "data": {
      "application/vnd.jupyter.widget-view+json": {
       "model_id": "18903377f6a44604be68330799914ef6",
       "version_major": 2,
       "version_minor": 0
      },
      "text/plain": [
       "time step:   0%|          | 0/10000 [00:00<?, ?it/s]"
      ]
     },
     "metadata": {},
     "output_type": "display_data"
    },
    {
     "data": {
      "application/vnd.jupyter.widget-view+json": {
       "model_id": "996537dd0d8e48b5950e3e04010c4422",
       "version_major": 2,
       "version_minor": 0
      },
      "text/plain": [
       "time step:   0%|          | 0/10000 [00:00<?, ?it/s]"
      ]
     },
     "metadata": {},
     "output_type": "display_data"
    },
    {
     "data": {
      "application/vnd.jupyter.widget-view+json": {
       "model_id": "700b0c1022e84c2abffe452251ab48b5",
       "version_major": 2,
       "version_minor": 0
      },
      "text/plain": [
       "time step:   0%|          | 0/10000 [00:00<?, ?it/s]"
      ]
     },
     "metadata": {},
     "output_type": "display_data"
    },
    {
     "data": {
      "application/vnd.jupyter.widget-view+json": {
       "model_id": "d12250a6ed87467fa8f44def2e0331b7",
       "version_major": 2,
       "version_minor": 0
      },
      "text/plain": [
       "time step:   0%|          | 0/10000 [00:00<?, ?it/s]"
      ]
     },
     "metadata": {},
     "output_type": "display_data"
    },
    {
     "data": {
      "application/vnd.jupyter.widget-view+json": {
       "model_id": "20b7841420804c3083bd3b53742080d2",
       "version_major": 2,
       "version_minor": 0
      },
      "text/plain": [
       "time step:   0%|          | 0/10000 [00:00<?, ?it/s]"
      ]
     },
     "metadata": {},
     "output_type": "display_data"
    },
    {
     "data": {
      "application/vnd.jupyter.widget-view+json": {
       "model_id": "d10a26ae4cd3433eb20780787fafdd3a",
       "version_major": 2,
       "version_minor": 0
      },
      "text/plain": [
       "time step:   0%|          | 0/10000 [00:00<?, ?it/s]"
      ]
     },
     "metadata": {},
     "output_type": "display_data"
    },
    {
     "data": {
      "application/vnd.jupyter.widget-view+json": {
       "model_id": "10fea78742c643d2bd7e279c9f70ddbf",
       "version_major": 2,
       "version_minor": 0
      },
      "text/plain": [
       "time step:   0%|          | 0/10000 [00:00<?, ?it/s]"
      ]
     },
     "metadata": {},
     "output_type": "display_data"
    },
    {
     "data": {
      "application/vnd.jupyter.widget-view+json": {
       "model_id": "bd6f318873db46a8a36dff1ef57245d2",
       "version_major": 2,
       "version_minor": 0
      },
      "text/plain": [
       "time step:   0%|          | 0/10000 [00:00<?, ?it/s]"
      ]
     },
     "metadata": {},
     "output_type": "display_data"
    },
    {
     "data": {
      "application/vnd.jupyter.widget-view+json": {
       "model_id": "336c907fdd864207a5a47da4161fddf7",
       "version_major": 2,
       "version_minor": 0
      },
      "text/plain": [
       "time step:   0%|          | 0/10000 [00:00<?, ?it/s]"
      ]
     },
     "metadata": {},
     "output_type": "display_data"
    },
    {
     "data": {
      "application/vnd.jupyter.widget-view+json": {
       "model_id": "06ec9488dd8e4399818897de34296064",
       "version_major": 2,
       "version_minor": 0
      },
      "text/plain": [
       "time step:   0%|          | 0/10000 [00:00<?, ?it/s]"
      ]
     },
     "metadata": {},
     "output_type": "display_data"
    },
    {
     "data": {
      "application/vnd.jupyter.widget-view+json": {
       "model_id": "82b561d5649e422f9a61c6c338b4f649",
       "version_major": 2,
       "version_minor": 0
      },
      "text/plain": [
       "time step:   0%|          | 0/10000 [00:00<?, ?it/s]"
      ]
     },
     "metadata": {},
     "output_type": "display_data"
    },
    {
     "data": {
      "application/vnd.jupyter.widget-view+json": {
       "model_id": "6464c1d82ad74166be79c8e6f58cccbd",
       "version_major": 2,
       "version_minor": 0
      },
      "text/plain": [
       "time step:   0%|          | 0/10000 [00:00<?, ?it/s]"
      ]
     },
     "metadata": {},
     "output_type": "display_data"
    },
    {
     "data": {
      "application/vnd.jupyter.widget-view+json": {
       "model_id": "84509a5ff77148f5b9bac2a07785412c",
       "version_major": 2,
       "version_minor": 0
      },
      "text/plain": [
       "time step:   0%|          | 0/10000 [00:00<?, ?it/s]"
      ]
     },
     "metadata": {},
     "output_type": "display_data"
    },
    {
     "data": {
      "application/vnd.jupyter.widget-view+json": {
       "model_id": "b6ac9cdafc204f0c87d7b0a20004ad9b",
       "version_major": 2,
       "version_minor": 0
      },
      "text/plain": [
       "time step:   0%|          | 0/10000 [00:00<?, ?it/s]"
      ]
     },
     "metadata": {},
     "output_type": "display_data"
    },
    {
     "data": {
      "application/vnd.jupyter.widget-view+json": {
       "model_id": "6650f3bd07354b129e2a3f5abd8f7dac",
       "version_major": 2,
       "version_minor": 0
      },
      "text/plain": [
       "time step:   0%|          | 0/10000 [00:00<?, ?it/s]"
      ]
     },
     "metadata": {},
     "output_type": "display_data"
    },
    {
     "data": {
      "application/vnd.jupyter.widget-view+json": {
       "model_id": "488dce0dece44006a4990f68e5003dd9",
       "version_major": 2,
       "version_minor": 0
      },
      "text/plain": [
       "time step:   0%|          | 0/10000 [00:00<?, ?it/s]"
      ]
     },
     "metadata": {},
     "output_type": "display_data"
    },
    {
     "data": {
      "application/vnd.jupyter.widget-view+json": {
       "model_id": "b2678830be474a1b90ef704c825aef08",
       "version_major": 2,
       "version_minor": 0
      },
      "text/plain": [
       "time step:   0%|          | 0/10000 [00:00<?, ?it/s]"
      ]
     },
     "metadata": {},
     "output_type": "display_data"
    },
    {
     "data": {
      "application/vnd.jupyter.widget-view+json": {
       "model_id": "aea3ff50e7984da787b84cf9570b462e",
       "version_major": 2,
       "version_minor": 0
      },
      "text/plain": [
       "time step:   0%|          | 0/10000 [00:00<?, ?it/s]"
      ]
     },
     "metadata": {},
     "output_type": "display_data"
    },
    {
     "data": {
      "application/vnd.jupyter.widget-view+json": {
       "model_id": "5d4e50f2f6fa477fa2a7b07a3168cfea",
       "version_major": 2,
       "version_minor": 0
      },
      "text/plain": [
       "time step:   0%|          | 0/10000 [00:00<?, ?it/s]"
      ]
     },
     "metadata": {},
     "output_type": "display_data"
    },
    {
     "data": {
      "application/vnd.jupyter.widget-view+json": {
       "model_id": "7e02e97c12b542bf846e03fea499a4d2",
       "version_major": 2,
       "version_minor": 0
      },
      "text/plain": [
       "time step:   0%|          | 0/10000 [00:00<?, ?it/s]"
      ]
     },
     "metadata": {},
     "output_type": "display_data"
    },
    {
     "data": {
      "application/vnd.jupyter.widget-view+json": {
       "model_id": "4d4d296414ea4573a84e40e6a5834795",
       "version_major": 2,
       "version_minor": 0
      },
      "text/plain": [
       "time step:   0%|          | 0/10000 [00:00<?, ?it/s]"
      ]
     },
     "metadata": {},
     "output_type": "display_data"
    },
    {
     "data": {
      "application/vnd.jupyter.widget-view+json": {
       "model_id": "6e0bcc29f5be43a091cd8e21c542f37b",
       "version_major": 2,
       "version_minor": 0
      },
      "text/plain": [
       "time step:   0%|          | 0/10000 [00:00<?, ?it/s]"
      ]
     },
     "metadata": {},
     "output_type": "display_data"
    },
    {
     "data": {
      "application/vnd.jupyter.widget-view+json": {
       "model_id": "f54c06cd6db640dfbc5d35cb455207f5",
       "version_major": 2,
       "version_minor": 0
      },
      "text/plain": [
       "time step:   0%|          | 0/10000 [00:00<?, ?it/s]"
      ]
     },
     "metadata": {},
     "output_type": "display_data"
    },
    {
     "data": {
      "application/vnd.jupyter.widget-view+json": {
       "model_id": "91cb2af02d2c41c3821552f7b52b9e24",
       "version_major": 2,
       "version_minor": 0
      },
      "text/plain": [
       "time step:   0%|          | 0/10000 [00:00<?, ?it/s]"
      ]
     },
     "metadata": {},
     "output_type": "display_data"
    },
    {
     "data": {
      "application/vnd.jupyter.widget-view+json": {
       "model_id": "0285a7371c9340c9b24e71368127d5c7",
       "version_major": 2,
       "version_minor": 0
      },
      "text/plain": [
       "time step:   0%|          | 0/10000 [00:00<?, ?it/s]"
      ]
     },
     "metadata": {},
     "output_type": "display_data"
    },
    {
     "data": {
      "application/vnd.jupyter.widget-view+json": {
       "model_id": "fc633b3d8f324b4594d6fa684d20be44",
       "version_major": 2,
       "version_minor": 0
      },
      "text/plain": [
       "time step:   0%|          | 0/10000 [00:00<?, ?it/s]"
      ]
     },
     "metadata": {},
     "output_type": "display_data"
    },
    {
     "data": {
      "application/vnd.jupyter.widget-view+json": {
       "model_id": "b944d99500da44f4b621e6747f04c06a",
       "version_major": 2,
       "version_minor": 0
      },
      "text/plain": [
       "time step:   0%|          | 0/10000 [00:00<?, ?it/s]"
      ]
     },
     "metadata": {},
     "output_type": "display_data"
    },
    {
     "data": {
      "application/vnd.jupyter.widget-view+json": {
       "model_id": "0a25f92279134706a1b1804301e61c4e",
       "version_major": 2,
       "version_minor": 0
      },
      "text/plain": [
       "time step:   0%|          | 0/10000 [00:00<?, ?it/s]"
      ]
     },
     "metadata": {},
     "output_type": "display_data"
    },
    {
     "data": {
      "application/vnd.jupyter.widget-view+json": {
       "model_id": "6eeeffac345446118d351bddb67bccf1",
       "version_major": 2,
       "version_minor": 0
      },
      "text/plain": [
       "time step:   0%|          | 0/10000 [00:00<?, ?it/s]"
      ]
     },
     "metadata": {},
     "output_type": "display_data"
    },
    {
     "data": {
      "application/vnd.jupyter.widget-view+json": {
       "model_id": "a5423e8034e94cc781127b25a946e0a2",
       "version_major": 2,
       "version_minor": 0
      },
      "text/plain": [
       "time step:   0%|          | 0/10000 [00:00<?, ?it/s]"
      ]
     },
     "metadata": {},
     "output_type": "display_data"
    },
    {
     "data": {
      "application/vnd.jupyter.widget-view+json": {
       "model_id": "113f4d3b951d45b39d65c473578436aa",
       "version_major": 2,
       "version_minor": 0
      },
      "text/plain": [
       "time step:   0%|          | 0/10000 [00:00<?, ?it/s]"
      ]
     },
     "metadata": {},
     "output_type": "display_data"
    },
    {
     "data": {
      "application/vnd.jupyter.widget-view+json": {
       "model_id": "555d1c9018654f5ba795823785af9443",
       "version_major": 2,
       "version_minor": 0
      },
      "text/plain": [
       "time step:   0%|          | 0/10000 [00:00<?, ?it/s]"
      ]
     },
     "metadata": {},
     "output_type": "display_data"
    },
    {
     "data": {
      "application/vnd.jupyter.widget-view+json": {
       "model_id": "8c933625a7bc4b64ac429c3a52e8df8d",
       "version_major": 2,
       "version_minor": 0
      },
      "text/plain": [
       "time step:   0%|          | 0/10000 [00:00<?, ?it/s]"
      ]
     },
     "metadata": {},
     "output_type": "display_data"
    },
    {
     "data": {
      "application/vnd.jupyter.widget-view+json": {
       "model_id": "6f933e10e0d44d9fb1fb96ce92eda0cb",
       "version_major": 2,
       "version_minor": 0
      },
      "text/plain": [
       "time step:   0%|          | 0/10000 [00:00<?, ?it/s]"
      ]
     },
     "metadata": {},
     "output_type": "display_data"
    },
    {
     "data": {
      "application/vnd.jupyter.widget-view+json": {
       "model_id": "cdf629242eab4917bcb85ba31df671d3",
       "version_major": 2,
       "version_minor": 0
      },
      "text/plain": [
       "time step:   0%|          | 0/10000 [00:00<?, ?it/s]"
      ]
     },
     "metadata": {},
     "output_type": "display_data"
    },
    {
     "data": {
      "application/vnd.jupyter.widget-view+json": {
       "model_id": "c7812436864a46d194cf28441ea46784",
       "version_major": 2,
       "version_minor": 0
      },
      "text/plain": [
       "time step:   0%|          | 0/10000 [00:00<?, ?it/s]"
      ]
     },
     "metadata": {},
     "output_type": "display_data"
    },
    {
     "data": {
      "application/vnd.jupyter.widget-view+json": {
       "model_id": "aeb4c1a7af4244df8e2dbb25ee471e12",
       "version_major": 2,
       "version_minor": 0
      },
      "text/plain": [
       "time step:   0%|          | 0/10000 [00:00<?, ?it/s]"
      ]
     },
     "metadata": {},
     "output_type": "display_data"
    },
    {
     "data": {
      "application/vnd.jupyter.widget-view+json": {
       "model_id": "2be7b7a411c644328acff5e2f80733a5",
       "version_major": 2,
       "version_minor": 0
      },
      "text/plain": [
       "time step:   0%|          | 0/10000 [00:00<?, ?it/s]"
      ]
     },
     "metadata": {},
     "output_type": "display_data"
    },
    {
     "data": {
      "application/vnd.jupyter.widget-view+json": {
       "model_id": "50ac5c1d255d4bfd9a33e0680d31555f",
       "version_major": 2,
       "version_minor": 0
      },
      "text/plain": [
       "time step:   0%|          | 0/10000 [00:00<?, ?it/s]"
      ]
     },
     "metadata": {},
     "output_type": "display_data"
    },
    {
     "data": {
      "application/vnd.jupyter.widget-view+json": {
       "model_id": "b58f2f68c6fd4f029c6d98dfb3e740cc",
       "version_major": 2,
       "version_minor": 0
      },
      "text/plain": [
       "time step:   0%|          | 0/10000 [00:00<?, ?it/s]"
      ]
     },
     "metadata": {},
     "output_type": "display_data"
    },
    {
     "data": {
      "application/vnd.jupyter.widget-view+json": {
       "model_id": "057e55cb7b2f412aa14992109eb5b2e7",
       "version_major": 2,
       "version_minor": 0
      },
      "text/plain": [
       "time step:   0%|          | 0/10000 [00:00<?, ?it/s]"
      ]
     },
     "metadata": {},
     "output_type": "display_data"
    },
    {
     "data": {
      "application/vnd.jupyter.widget-view+json": {
       "model_id": "1a64b9fbe4ac4e3eaa6014da86d0081c",
       "version_major": 2,
       "version_minor": 0
      },
      "text/plain": [
       "time step:   0%|          | 0/10000 [00:00<?, ?it/s]"
      ]
     },
     "metadata": {},
     "output_type": "display_data"
    },
    {
     "data": {
      "application/vnd.jupyter.widget-view+json": {
       "model_id": "a8a28df385804776b64004f37209370f",
       "version_major": 2,
       "version_minor": 0
      },
      "text/plain": [
       "time step:   0%|          | 0/10000 [00:00<?, ?it/s]"
      ]
     },
     "metadata": {},
     "output_type": "display_data"
    },
    {
     "data": {
      "application/vnd.jupyter.widget-view+json": {
       "model_id": "bee52218c96e4bf09f688ba534ad6d55",
       "version_major": 2,
       "version_minor": 0
      },
      "text/plain": [
       "time step:   0%|          | 0/10000 [00:00<?, ?it/s]"
      ]
     },
     "metadata": {},
     "output_type": "display_data"
    },
    {
     "data": {
      "application/vnd.jupyter.widget-view+json": {
       "model_id": "c494e6f1f3564baaacd514d13cc125ae",
       "version_major": 2,
       "version_minor": 0
      },
      "text/plain": [
       "time step:   0%|          | 0/10000 [00:00<?, ?it/s]"
      ]
     },
     "metadata": {},
     "output_type": "display_data"
    },
    {
     "data": {
      "application/vnd.jupyter.widget-view+json": {
       "model_id": "b4423023386b4aafa1fadd4e507fbba9",
       "version_major": 2,
       "version_minor": 0
      },
      "text/plain": [
       "time step:   0%|          | 0/10000 [00:00<?, ?it/s]"
      ]
     },
     "metadata": {},
     "output_type": "display_data"
    },
    {
     "data": {
      "application/vnd.jupyter.widget-view+json": {
       "model_id": "e69e36cc600e4a18bf6440827a5af07e",
       "version_major": 2,
       "version_minor": 0
      },
      "text/plain": [
       "time step:   0%|          | 0/10000 [00:00<?, ?it/s]"
      ]
     },
     "metadata": {},
     "output_type": "display_data"
    },
    {
     "data": {
      "application/vnd.jupyter.widget-view+json": {
       "model_id": "d0437b95cce242cd8767c35830dc39a5",
       "version_major": 2,
       "version_minor": 0
      },
      "text/plain": [
       "time step:   0%|          | 0/10000 [00:00<?, ?it/s]"
      ]
     },
     "metadata": {},
     "output_type": "display_data"
    },
    {
     "data": {
      "application/vnd.jupyter.widget-view+json": {
       "model_id": "2aaaf20631074fa994a6326cbff7bb2c",
       "version_major": 2,
       "version_minor": 0
      },
      "text/plain": [
       "time step:   0%|          | 0/10000 [00:00<?, ?it/s]"
      ]
     },
     "metadata": {},
     "output_type": "display_data"
    },
    {
     "data": {
      "application/vnd.jupyter.widget-view+json": {
       "model_id": "e40ef050231443ea94fadc5e0effb97b",
       "version_major": 2,
       "version_minor": 0
      },
      "text/plain": [
       "time step:   0%|          | 0/10000 [00:00<?, ?it/s]"
      ]
     },
     "metadata": {},
     "output_type": "display_data"
    },
    {
     "data": {
      "application/vnd.jupyter.widget-view+json": {
       "model_id": "f022f518c9a94dae98bcc55cdf406223",
       "version_major": 2,
       "version_minor": 0
      },
      "text/plain": [
       "time step:   0%|          | 0/10000 [00:00<?, ?it/s]"
      ]
     },
     "metadata": {},
     "output_type": "display_data"
    },
    {
     "data": {
      "application/vnd.jupyter.widget-view+json": {
       "model_id": "e2a05ed3ce2a4885aadbd9543567dd1e",
       "version_major": 2,
       "version_minor": 0
      },
      "text/plain": [
       "time step:   0%|          | 0/10000 [00:00<?, ?it/s]"
      ]
     },
     "metadata": {},
     "output_type": "display_data"
    },
    {
     "data": {
      "application/vnd.jupyter.widget-view+json": {
       "model_id": "9da15488db8d41bd8bcbe48ccccd2412",
       "version_major": 2,
       "version_minor": 0
      },
      "text/plain": [
       "time step:   0%|          | 0/10000 [00:00<?, ?it/s]"
      ]
     },
     "metadata": {},
     "output_type": "display_data"
    },
    {
     "data": {
      "application/vnd.jupyter.widget-view+json": {
       "model_id": "3e690699d8bc4365aa32aaa0474b76c1",
       "version_major": 2,
       "version_minor": 0
      },
      "text/plain": [
       "time step:   0%|          | 0/10000 [00:00<?, ?it/s]"
      ]
     },
     "metadata": {},
     "output_type": "display_data"
    },
    {
     "data": {
      "application/vnd.jupyter.widget-view+json": {
       "model_id": "eca6685ba4c94a39a178cd1c8dcfe125",
       "version_major": 2,
       "version_minor": 0
      },
      "text/plain": [
       "time step:   0%|          | 0/10000 [00:00<?, ?it/s]"
      ]
     },
     "metadata": {},
     "output_type": "display_data"
    },
    {
     "data": {
      "application/vnd.jupyter.widget-view+json": {
       "model_id": "7b9e88c81692463ca05c4b1085962b03",
       "version_major": 2,
       "version_minor": 0
      },
      "text/plain": [
       "time step:   0%|          | 0/10000 [00:00<?, ?it/s]"
      ]
     },
     "metadata": {},
     "output_type": "display_data"
    },
    {
     "data": {
      "application/vnd.jupyter.widget-view+json": {
       "model_id": "87455e03c62d49c2bdf8bf65399a4930",
       "version_major": 2,
       "version_minor": 0
      },
      "text/plain": [
       "time step:   0%|          | 0/10000 [00:00<?, ?it/s]"
      ]
     },
     "metadata": {},
     "output_type": "display_data"
    },
    {
     "data": {
      "application/vnd.jupyter.widget-view+json": {
       "model_id": "6cb25d50a23c4ca2ac86cf7d40a2a2c8",
       "version_major": 2,
       "version_minor": 0
      },
      "text/plain": [
       "time step:   0%|          | 0/10000 [00:00<?, ?it/s]"
      ]
     },
     "metadata": {},
     "output_type": "display_data"
    },
    {
     "data": {
      "application/vnd.jupyter.widget-view+json": {
       "model_id": "b3033a0615aa484aab0026e12939e58e",
       "version_major": 2,
       "version_minor": 0
      },
      "text/plain": [
       "time step:   0%|          | 0/10000 [00:00<?, ?it/s]"
      ]
     },
     "metadata": {},
     "output_type": "display_data"
    },
    {
     "data": {
      "application/vnd.jupyter.widget-view+json": {
       "model_id": "b38bf8d5c37c4db78e47da1c167f6a8f",
       "version_major": 2,
       "version_minor": 0
      },
      "text/plain": [
       "time step:   0%|          | 0/10000 [00:00<?, ?it/s]"
      ]
     },
     "metadata": {},
     "output_type": "display_data"
    },
    {
     "data": {
      "application/vnd.jupyter.widget-view+json": {
       "model_id": "d0836d477b5141f2a5947a6b94ba933a",
       "version_major": 2,
       "version_minor": 0
      },
      "text/plain": [
       "time step:   0%|          | 0/10000 [00:00<?, ?it/s]"
      ]
     },
     "metadata": {},
     "output_type": "display_data"
    },
    {
     "data": {
      "application/vnd.jupyter.widget-view+json": {
       "model_id": "92679c17ed0d4a1c821e86ba2d336d07",
       "version_major": 2,
       "version_minor": 0
      },
      "text/plain": [
       "time step:   0%|          | 0/10000 [00:00<?, ?it/s]"
      ]
     },
     "metadata": {},
     "output_type": "display_data"
    },
    {
     "data": {
      "application/vnd.jupyter.widget-view+json": {
       "model_id": "99d5f53226ce46b183865a9fa683b68e",
       "version_major": 2,
       "version_minor": 0
      },
      "text/plain": [
       "time step:   0%|          | 0/10000 [00:00<?, ?it/s]"
      ]
     },
     "metadata": {},
     "output_type": "display_data"
    },
    {
     "data": {
      "application/vnd.jupyter.widget-view+json": {
       "model_id": "056a1abb189e44efa970ae1bb7c49977",
       "version_major": 2,
       "version_minor": 0
      },
      "text/plain": [
       "time step:   0%|          | 0/10000 [00:00<?, ?it/s]"
      ]
     },
     "metadata": {},
     "output_type": "display_data"
    },
    {
     "data": {
      "application/vnd.jupyter.widget-view+json": {
       "model_id": "76267457dbfd440695a485ea8d2c6e3d",
       "version_major": 2,
       "version_minor": 0
      },
      "text/plain": [
       "time step:   0%|          | 0/10000 [00:00<?, ?it/s]"
      ]
     },
     "metadata": {},
     "output_type": "display_data"
    },
    {
     "data": {
      "application/vnd.jupyter.widget-view+json": {
       "model_id": "ff436b584b9349e780db7ac158da9f21",
       "version_major": 2,
       "version_minor": 0
      },
      "text/plain": [
       "time step:   0%|          | 0/10000 [00:00<?, ?it/s]"
      ]
     },
     "metadata": {},
     "output_type": "display_data"
    },
    {
     "data": {
      "application/vnd.jupyter.widget-view+json": {
       "model_id": "a67030bd23fb4102a313cb8393ae427f",
       "version_major": 2,
       "version_minor": 0
      },
      "text/plain": [
       "time step:   0%|          | 0/10000 [00:00<?, ?it/s]"
      ]
     },
     "metadata": {},
     "output_type": "display_data"
    },
    {
     "data": {
      "application/vnd.jupyter.widget-view+json": {
       "model_id": "a80b8187f86b435c8fb1dc1bea961616",
       "version_major": 2,
       "version_minor": 0
      },
      "text/plain": [
       "time step:   0%|          | 0/10000 [00:00<?, ?it/s]"
      ]
     },
     "metadata": {},
     "output_type": "display_data"
    },
    {
     "data": {
      "application/vnd.jupyter.widget-view+json": {
       "model_id": "5ddd54813c21443a97807ecc11aa85c3",
       "version_major": 2,
       "version_minor": 0
      },
      "text/plain": [
       "time step:   0%|          | 0/10000 [00:00<?, ?it/s]"
      ]
     },
     "metadata": {},
     "output_type": "display_data"
    },
    {
     "data": {
      "application/vnd.jupyter.widget-view+json": {
       "model_id": "7b7e33e5480d4df49465329625688c1a",
       "version_major": 2,
       "version_minor": 0
      },
      "text/plain": [
       "time step:   0%|          | 0/10000 [00:00<?, ?it/s]"
      ]
     },
     "metadata": {},
     "output_type": "display_data"
    },
    {
     "data": {
      "application/vnd.jupyter.widget-view+json": {
       "model_id": "a457a0ae61d74951a8de041067ba92af",
       "version_major": 2,
       "version_minor": 0
      },
      "text/plain": [
       "time step:   0%|          | 0/10000 [00:00<?, ?it/s]"
      ]
     },
     "metadata": {},
     "output_type": "display_data"
    },
    {
     "data": {
      "application/vnd.jupyter.widget-view+json": {
       "model_id": "3fe317b65b4d42b0b9e89843da7f1314",
       "version_major": 2,
       "version_minor": 0
      },
      "text/plain": [
       "time step:   0%|          | 0/10000 [00:00<?, ?it/s]"
      ]
     },
     "metadata": {},
     "output_type": "display_data"
    },
    {
     "data": {
      "application/vnd.jupyter.widget-view+json": {
       "model_id": "0587a73482084fccb4953882d4fb3f70",
       "version_major": 2,
       "version_minor": 0
      },
      "text/plain": [
       "time step:   0%|          | 0/10000 [00:00<?, ?it/s]"
      ]
     },
     "metadata": {},
     "output_type": "display_data"
    },
    {
     "data": {
      "application/vnd.jupyter.widget-view+json": {
       "model_id": "32008e95afe34bc39a7e43065858a294",
       "version_major": 2,
       "version_minor": 0
      },
      "text/plain": [
       "time step:   0%|          | 0/10000 [00:00<?, ?it/s]"
      ]
     },
     "metadata": {},
     "output_type": "display_data"
    },
    {
     "data": {
      "application/vnd.jupyter.widget-view+json": {
       "model_id": "07c578a8f12849c19a2dc8fe97f58bf7",
       "version_major": 2,
       "version_minor": 0
      },
      "text/plain": [
       "time step:   0%|          | 0/10000 [00:00<?, ?it/s]"
      ]
     },
     "metadata": {},
     "output_type": "display_data"
    },
    {
     "data": {
      "application/vnd.jupyter.widget-view+json": {
       "model_id": "3a5f0e7f18584de4ad691ada3549fb61",
       "version_major": 2,
       "version_minor": 0
      },
      "text/plain": [
       "time step:   0%|          | 0/10000 [00:00<?, ?it/s]"
      ]
     },
     "metadata": {},
     "output_type": "display_data"
    },
    {
     "data": {
      "application/vnd.jupyter.widget-view+json": {
       "model_id": "56eadc2233814478ab489bd799a7f258",
       "version_major": 2,
       "version_minor": 0
      },
      "text/plain": [
       "time step:   0%|          | 0/10000 [00:00<?, ?it/s]"
      ]
     },
     "metadata": {},
     "output_type": "display_data"
    },
    {
     "data": {
      "application/vnd.jupyter.widget-view+json": {
       "model_id": "c2d6faa44f394eef9645ab3bbeca8438",
       "version_major": 2,
       "version_minor": 0
      },
      "text/plain": [
       "time step:   0%|          | 0/10000 [00:00<?, ?it/s]"
      ]
     },
     "metadata": {},
     "output_type": "display_data"
    },
    {
     "data": {
      "application/vnd.jupyter.widget-view+json": {
       "model_id": "cfa690d02afb46f09122c56dbb8a21ed",
       "version_major": 2,
       "version_minor": 0
      },
      "text/plain": [
       "time step:   0%|          | 0/10000 [00:00<?, ?it/s]"
      ]
     },
     "metadata": {},
     "output_type": "display_data"
    },
    {
     "data": {
      "application/vnd.jupyter.widget-view+json": {
       "model_id": "f5e94ee999444d1b8f74066da7c7ebab",
       "version_major": 2,
       "version_minor": 0
      },
      "text/plain": [
       "time step:   0%|          | 0/10000 [00:00<?, ?it/s]"
      ]
     },
     "metadata": {},
     "output_type": "display_data"
    },
    {
     "data": {
      "application/vnd.jupyter.widget-view+json": {
       "model_id": "67c3fe10bba34465b5ab55ed3e8edd7a",
       "version_major": 2,
       "version_minor": 0
      },
      "text/plain": [
       "time step:   0%|          | 0/10000 [00:00<?, ?it/s]"
      ]
     },
     "metadata": {},
     "output_type": "display_data"
    },
    {
     "data": {
      "application/vnd.jupyter.widget-view+json": {
       "model_id": "50d221c58dc745f6aaea0adff48faff3",
       "version_major": 2,
       "version_minor": 0
      },
      "text/plain": [
       "time step:   0%|          | 0/10000 [00:00<?, ?it/s]"
      ]
     },
     "metadata": {},
     "output_type": "display_data"
    },
    {
     "data": {
      "application/vnd.jupyter.widget-view+json": {
       "model_id": "e1ff791049ac445b8df08ae4e27b3d02",
       "version_major": 2,
       "version_minor": 0
      },
      "text/plain": [
       "time step:   0%|          | 0/10000 [00:00<?, ?it/s]"
      ]
     },
     "metadata": {},
     "output_type": "display_data"
    },
    {
     "data": {
      "application/vnd.jupyter.widget-view+json": {
       "model_id": "8a9c09faa9e74a08971e6be6e3573b51",
       "version_major": 2,
       "version_minor": 0
      },
      "text/plain": [
       "time step:   0%|          | 0/10000 [00:00<?, ?it/s]"
      ]
     },
     "metadata": {},
     "output_type": "display_data"
    },
    {
     "data": {
      "application/vnd.jupyter.widget-view+json": {
       "model_id": "1496eec3e9fc486c9cc15c63cbd65c89",
       "version_major": 2,
       "version_minor": 0
      },
      "text/plain": [
       "time step:   0%|          | 0/10000 [00:00<?, ?it/s]"
      ]
     },
     "metadata": {},
     "output_type": "display_data"
    },
    {
     "data": {
      "application/vnd.jupyter.widget-view+json": {
       "model_id": "0644ab7289f14f2c99517123084fbf16",
       "version_major": 2,
       "version_minor": 0
      },
      "text/plain": [
       "time step:   0%|          | 0/10000 [00:00<?, ?it/s]"
      ]
     },
     "metadata": {},
     "output_type": "display_data"
    },
    {
     "data": {
      "application/vnd.jupyter.widget-view+json": {
       "model_id": "f200e0ad62024578bf7360e1cd00d372",
       "version_major": 2,
       "version_minor": 0
      },
      "text/plain": [
       "time step:   0%|          | 0/10000 [00:00<?, ?it/s]"
      ]
     },
     "metadata": {},
     "output_type": "display_data"
    },
    {
     "data": {
      "application/vnd.jupyter.widget-view+json": {
       "model_id": "4646db6eae954af19c15c4204e47878d",
       "version_major": 2,
       "version_minor": 0
      },
      "text/plain": [
       "time step:   0%|          | 0/10000 [00:00<?, ?it/s]"
      ]
     },
     "metadata": {},
     "output_type": "display_data"
    },
    {
     "data": {
      "application/vnd.jupyter.widget-view+json": {
       "model_id": "00f2c28c45e942d0b5e508cd329e1d2b",
       "version_major": 2,
       "version_minor": 0
      },
      "text/plain": [
       "time step:   0%|          | 0/10000 [00:00<?, ?it/s]"
      ]
     },
     "metadata": {},
     "output_type": "display_data"
    },
    {
     "data": {
      "application/vnd.jupyter.widget-view+json": {
       "model_id": "24e5ced29a0d48a2b5d7ecf5612ebb10",
       "version_major": 2,
       "version_minor": 0
      },
      "text/plain": [
       "time step:   0%|          | 0/10000 [00:00<?, ?it/s]"
      ]
     },
     "metadata": {},
     "output_type": "display_data"
    },
    {
     "data": {
      "application/vnd.jupyter.widget-view+json": {
       "model_id": "98d1795aaf8049319914533320e753cb",
       "version_major": 2,
       "version_minor": 0
      },
      "text/plain": [
       "time step:   0%|          | 0/10000 [00:00<?, ?it/s]"
      ]
     },
     "metadata": {},
     "output_type": "display_data"
    },
    {
     "data": {
      "application/vnd.jupyter.widget-view+json": {
       "model_id": "e24c68fb18d047bc92c1d84b9d051e5b",
       "version_major": 2,
       "version_minor": 0
      },
      "text/plain": [
       "time step:   0%|          | 0/10000 [00:00<?, ?it/s]"
      ]
     },
     "metadata": {},
     "output_type": "display_data"
    },
    {
     "data": {
      "application/vnd.jupyter.widget-view+json": {
       "model_id": "e352538cfbf14cec85e72207926edbd1",
       "version_major": 2,
       "version_minor": 0
      },
      "text/plain": [
       "time step:   0%|          | 0/10000 [00:00<?, ?it/s]"
      ]
     },
     "metadata": {},
     "output_type": "display_data"
    },
    {
     "data": {
      "application/vnd.jupyter.widget-view+json": {
       "model_id": "2b26e42af0544481a6cb60925b1bf270",
       "version_major": 2,
       "version_minor": 0
      },
      "text/plain": [
       "time step:   0%|          | 0/10000 [00:00<?, ?it/s]"
      ]
     },
     "metadata": {},
     "output_type": "display_data"
    },
    {
     "data": {
      "application/vnd.jupyter.widget-view+json": {
       "model_id": "adb599750a6e49e1af98eb9b7d7cfdae",
       "version_major": 2,
       "version_minor": 0
      },
      "text/plain": [
       "time step:   0%|          | 0/10000 [00:00<?, ?it/s]"
      ]
     },
     "metadata": {},
     "output_type": "display_data"
    },
    {
     "data": {
      "application/vnd.jupyter.widget-view+json": {
       "model_id": "6305a93fe94b4763909cd499643c268d",
       "version_major": 2,
       "version_minor": 0
      },
      "text/plain": [
       "time step:   0%|          | 0/10000 [00:00<?, ?it/s]"
      ]
     },
     "metadata": {},
     "output_type": "display_data"
    },
    {
     "data": {
      "application/vnd.jupyter.widget-view+json": {
       "model_id": "c2f24aca3eaf4343a662c12c9ace4a20",
       "version_major": 2,
       "version_minor": 0
      },
      "text/plain": [
       "time step:   0%|          | 0/10000 [00:00<?, ?it/s]"
      ]
     },
     "metadata": {},
     "output_type": "display_data"
    },
    {
     "data": {
      "application/vnd.jupyter.widget-view+json": {
       "model_id": "ae2c191c0984487ebbffa3e01c0e9690",
       "version_major": 2,
       "version_minor": 0
      },
      "text/plain": [
       "time step:   0%|          | 0/10000 [00:00<?, ?it/s]"
      ]
     },
     "metadata": {},
     "output_type": "display_data"
    },
    {
     "data": {
      "application/vnd.jupyter.widget-view+json": {
       "model_id": "a8a7780894304501b1bb1b50c01e7a5c",
       "version_major": 2,
       "version_minor": 0
      },
      "text/plain": [
       "time step:   0%|          | 0/10000 [00:00<?, ?it/s]"
      ]
     },
     "metadata": {},
     "output_type": "display_data"
    },
    {
     "data": {
      "application/vnd.jupyter.widget-view+json": {
       "model_id": "f4cf00d6e67948c4af56a2b024713e0f",
       "version_major": 2,
       "version_minor": 0
      },
      "text/plain": [
       "time step:   0%|          | 0/10000 [00:00<?, ?it/s]"
      ]
     },
     "metadata": {},
     "output_type": "display_data"
    },
    {
     "data": {
      "application/vnd.jupyter.widget-view+json": {
       "model_id": "97e584cb454249c89d405acc397574f2",
       "version_major": 2,
       "version_minor": 0
      },
      "text/plain": [
       "time step:   0%|          | 0/10000 [00:00<?, ?it/s]"
      ]
     },
     "metadata": {},
     "output_type": "display_data"
    },
    {
     "data": {
      "application/vnd.jupyter.widget-view+json": {
       "model_id": "d68e4668b03e4f539ef6b3b5b672732d",
       "version_major": 2,
       "version_minor": 0
      },
      "text/plain": [
       "time step:   0%|          | 0/10000 [00:00<?, ?it/s]"
      ]
     },
     "metadata": {},
     "output_type": "display_data"
    },
    {
     "data": {
      "application/vnd.jupyter.widget-view+json": {
       "model_id": "345de65fc8824bafab8467c33877d554",
       "version_major": 2,
       "version_minor": 0
      },
      "text/plain": [
       "time step:   0%|          | 0/10000 [00:00<?, ?it/s]"
      ]
     },
     "metadata": {},
     "output_type": "display_data"
    },
    {
     "data": {
      "application/vnd.jupyter.widget-view+json": {
       "model_id": "a944a92777d341c3ab83a7cf7fd6ca28",
       "version_major": 2,
       "version_minor": 0
      },
      "text/plain": [
       "time step:   0%|          | 0/10000 [00:00<?, ?it/s]"
      ]
     },
     "metadata": {},
     "output_type": "display_data"
    },
    {
     "data": {
      "application/vnd.jupyter.widget-view+json": {
       "model_id": "05db56cd13044f3c90c470bc79c32147",
       "version_major": 2,
       "version_minor": 0
      },
      "text/plain": [
       "time step:   0%|          | 0/10000 [00:00<?, ?it/s]"
      ]
     },
     "metadata": {},
     "output_type": "display_data"
    },
    {
     "data": {
      "application/vnd.jupyter.widget-view+json": {
       "model_id": "ec3ce180dea147c59014160a13b4e39f",
       "version_major": 2,
       "version_minor": 0
      },
      "text/plain": [
       "time step:   0%|          | 0/10000 [00:00<?, ?it/s]"
      ]
     },
     "metadata": {},
     "output_type": "display_data"
    },
    {
     "data": {
      "application/vnd.jupyter.widget-view+json": {
       "model_id": "40ec91fa00d04552992d05b2e1e17a0f",
       "version_major": 2,
       "version_minor": 0
      },
      "text/plain": [
       "time step:   0%|          | 0/10000 [00:00<?, ?it/s]"
      ]
     },
     "metadata": {},
     "output_type": "display_data"
    },
    {
     "data": {
      "application/vnd.jupyter.widget-view+json": {
       "model_id": "6e89eca1fe8f4d5880597727ccbe89e2",
       "version_major": 2,
       "version_minor": 0
      },
      "text/plain": [
       "time step:   0%|          | 0/10000 [00:00<?, ?it/s]"
      ]
     },
     "metadata": {},
     "output_type": "display_data"
    },
    {
     "data": {
      "application/vnd.jupyter.widget-view+json": {
       "model_id": "3188804efd454af7ab0649480193db2b",
       "version_major": 2,
       "version_minor": 0
      },
      "text/plain": [
       "time step:   0%|          | 0/10000 [00:00<?, ?it/s]"
      ]
     },
     "metadata": {},
     "output_type": "display_data"
    },
    {
     "data": {
      "application/vnd.jupyter.widget-view+json": {
       "model_id": "21e62617be904f6c9db150f5eefbd980",
       "version_major": 2,
       "version_minor": 0
      },
      "text/plain": [
       "time step:   0%|          | 0/10000 [00:00<?, ?it/s]"
      ]
     },
     "metadata": {},
     "output_type": "display_data"
    },
    {
     "data": {
      "application/vnd.jupyter.widget-view+json": {
       "model_id": "27d4f57c220d47028986cab3519a18d0",
       "version_major": 2,
       "version_minor": 0
      },
      "text/plain": [
       "time step:   0%|          | 0/10000 [00:00<?, ?it/s]"
      ]
     },
     "metadata": {},
     "output_type": "display_data"
    },
    {
     "data": {
      "application/vnd.jupyter.widget-view+json": {
       "model_id": "b7ce11b8102946b9bea8e55c7aa451ba",
       "version_major": 2,
       "version_minor": 0
      },
      "text/plain": [
       "time step:   0%|          | 0/10000 [00:00<?, ?it/s]"
      ]
     },
     "metadata": {},
     "output_type": "display_data"
    },
    {
     "data": {
      "application/vnd.jupyter.widget-view+json": {
       "model_id": "47d4cd78e2404d3cbc4a10599f96e7c3",
       "version_major": 2,
       "version_minor": 0
      },
      "text/plain": [
       "time step:   0%|          | 0/10000 [00:00<?, ?it/s]"
      ]
     },
     "metadata": {},
     "output_type": "display_data"
    },
    {
     "data": {
      "application/vnd.jupyter.widget-view+json": {
       "model_id": "ed62bac674584b059152cb811e8ad0d1",
       "version_major": 2,
       "version_minor": 0
      },
      "text/plain": [
       "time step:   0%|          | 0/10000 [00:00<?, ?it/s]"
      ]
     },
     "metadata": {},
     "output_type": "display_data"
    },
    {
     "data": {
      "application/vnd.jupyter.widget-view+json": {
       "model_id": "32843ec08f204dd2bb98749f1195874e",
       "version_major": 2,
       "version_minor": 0
      },
      "text/plain": [
       "time step:   0%|          | 0/10000 [00:00<?, ?it/s]"
      ]
     },
     "metadata": {},
     "output_type": "display_data"
    },
    {
     "data": {
      "application/vnd.jupyter.widget-view+json": {
       "model_id": "a919947e5d3b4bf585e147a93e3ecf77",
       "version_major": 2,
       "version_minor": 0
      },
      "text/plain": [
       "time step:   0%|          | 0/10000 [00:00<?, ?it/s]"
      ]
     },
     "metadata": {},
     "output_type": "display_data"
    },
    {
     "data": {
      "application/vnd.jupyter.widget-view+json": {
       "model_id": "934f172972ab444886a8131f1233222d",
       "version_major": 2,
       "version_minor": 0
      },
      "text/plain": [
       "time step:   0%|          | 0/10000 [00:00<?, ?it/s]"
      ]
     },
     "metadata": {},
     "output_type": "display_data"
    },
    {
     "data": {
      "application/vnd.jupyter.widget-view+json": {
       "model_id": "8194d1082342473d976790bf8113888d",
       "version_major": 2,
       "version_minor": 0
      },
      "text/plain": [
       "time step:   0%|          | 0/10000 [00:00<?, ?it/s]"
      ]
     },
     "metadata": {},
     "output_type": "display_data"
    },
    {
     "data": {
      "application/vnd.jupyter.widget-view+json": {
       "model_id": "56bfb4796cb74a489211a7695f35b963",
       "version_major": 2,
       "version_minor": 0
      },
      "text/plain": [
       "time step:   0%|          | 0/10000 [00:00<?, ?it/s]"
      ]
     },
     "metadata": {},
     "output_type": "display_data"
    },
    {
     "data": {
      "application/vnd.jupyter.widget-view+json": {
       "model_id": "2e27a39c37b54f29a48edad467ced196",
       "version_major": 2,
       "version_minor": 0
      },
      "text/plain": [
       "time step:   0%|          | 0/10000 [00:00<?, ?it/s]"
      ]
     },
     "metadata": {},
     "output_type": "display_data"
    },
    {
     "data": {
      "application/vnd.jupyter.widget-view+json": {
       "model_id": "900c4c5dae13422c81a1dd910954863c",
       "version_major": 2,
       "version_minor": 0
      },
      "text/plain": [
       "time step:   0%|          | 0/10000 [00:00<?, ?it/s]"
      ]
     },
     "metadata": {},
     "output_type": "display_data"
    },
    {
     "data": {
      "application/vnd.jupyter.widget-view+json": {
       "model_id": "52ca31f26e9d4702ba309cf65760d863",
       "version_major": 2,
       "version_minor": 0
      },
      "text/plain": [
       "time step:   0%|          | 0/10000 [00:00<?, ?it/s]"
      ]
     },
     "metadata": {},
     "output_type": "display_data"
    },
    {
     "data": {
      "application/vnd.jupyter.widget-view+json": {
       "model_id": "11d7e15ecdd64699a7b39577954f0da6",
       "version_major": 2,
       "version_minor": 0
      },
      "text/plain": [
       "time step:   0%|          | 0/10000 [00:00<?, ?it/s]"
      ]
     },
     "metadata": {},
     "output_type": "display_data"
    },
    {
     "data": {
      "application/vnd.jupyter.widget-view+json": {
       "model_id": "f76ebe1d949c4de3a99f8fb98782c5d4",
       "version_major": 2,
       "version_minor": 0
      },
      "text/plain": [
       "time step:   0%|          | 0/10000 [00:00<?, ?it/s]"
      ]
     },
     "metadata": {},
     "output_type": "display_data"
    },
    {
     "data": {
      "application/vnd.jupyter.widget-view+json": {
       "model_id": "1dabcc3f9e3a4033b0f7ff83cde1e058",
       "version_major": 2,
       "version_minor": 0
      },
      "text/plain": [
       "time step:   0%|          | 0/10000 [00:00<?, ?it/s]"
      ]
     },
     "metadata": {},
     "output_type": "display_data"
    },
    {
     "data": {
      "application/vnd.jupyter.widget-view+json": {
       "model_id": "e0967e2b4bc048999ce40f3d87d1f1df",
       "version_major": 2,
       "version_minor": 0
      },
      "text/plain": [
       "time step:   0%|          | 0/10000 [00:00<?, ?it/s]"
      ]
     },
     "metadata": {},
     "output_type": "display_data"
    },
    {
     "data": {
      "application/vnd.jupyter.widget-view+json": {
       "model_id": "fc9ccc3e082d477a856490ad1fa04691",
       "version_major": 2,
       "version_minor": 0
      },
      "text/plain": [
       "time step:   0%|          | 0/10000 [00:00<?, ?it/s]"
      ]
     },
     "metadata": {},
     "output_type": "display_data"
    },
    {
     "data": {
      "application/vnd.jupyter.widget-view+json": {
       "model_id": "77d7f6b97a71420396bc49b502dd24a8",
       "version_major": 2,
       "version_minor": 0
      },
      "text/plain": [
       "time step:   0%|          | 0/10000 [00:00<?, ?it/s]"
      ]
     },
     "metadata": {},
     "output_type": "display_data"
    },
    {
     "data": {
      "application/vnd.jupyter.widget-view+json": {
       "model_id": "e226e60191244de990f7e3f01a2546ba",
       "version_major": 2,
       "version_minor": 0
      },
      "text/plain": [
       "time step:   0%|          | 0/10000 [00:00<?, ?it/s]"
      ]
     },
     "metadata": {},
     "output_type": "display_data"
    },
    {
     "data": {
      "application/vnd.jupyter.widget-view+json": {
       "model_id": "d17771b725de4bd79c8a665d57d3d712",
       "version_major": 2,
       "version_minor": 0
      },
      "text/plain": [
       "time step:   0%|          | 0/10000 [00:00<?, ?it/s]"
      ]
     },
     "metadata": {},
     "output_type": "display_data"
    },
    {
     "data": {
      "application/vnd.jupyter.widget-view+json": {
       "model_id": "1a345ad457594a8d8be0f2c56cc89da9",
       "version_major": 2,
       "version_minor": 0
      },
      "text/plain": [
       "time step:   0%|          | 0/10000 [00:00<?, ?it/s]"
      ]
     },
     "metadata": {},
     "output_type": "display_data"
    },
    {
     "data": {
      "application/vnd.jupyter.widget-view+json": {
       "model_id": "af2df38346854c19a7858f2214e79c7d",
       "version_major": 2,
       "version_minor": 0
      },
      "text/plain": [
       "time step:   0%|          | 0/10000 [00:00<?, ?it/s]"
      ]
     },
     "metadata": {},
     "output_type": "display_data"
    },
    {
     "data": {
      "application/vnd.jupyter.widget-view+json": {
       "model_id": "72f5504f7b984bb8bbff2e5bcdb3dbb1",
       "version_major": 2,
       "version_minor": 0
      },
      "text/plain": [
       "time step:   0%|          | 0/10000 [00:00<?, ?it/s]"
      ]
     },
     "metadata": {},
     "output_type": "display_data"
    },
    {
     "data": {
      "application/vnd.jupyter.widget-view+json": {
       "model_id": "fd4d715ee27d483d84c04ac996466180",
       "version_major": 2,
       "version_minor": 0
      },
      "text/plain": [
       "time step:   0%|          | 0/10000 [00:00<?, ?it/s]"
      ]
     },
     "metadata": {},
     "output_type": "display_data"
    },
    {
     "data": {
      "application/vnd.jupyter.widget-view+json": {
       "model_id": "754e8cfe866c4c3e8d2adabe7182e33e",
       "version_major": 2,
       "version_minor": 0
      },
      "text/plain": [
       "time step:   0%|          | 0/10000 [00:00<?, ?it/s]"
      ]
     },
     "metadata": {},
     "output_type": "display_data"
    },
    {
     "data": {
      "application/vnd.jupyter.widget-view+json": {
       "model_id": "ddb9338bfc9548508d9a51859e6e3bc7",
       "version_major": 2,
       "version_minor": 0
      },
      "text/plain": [
       "time step:   0%|          | 0/10000 [00:00<?, ?it/s]"
      ]
     },
     "metadata": {},
     "output_type": "display_data"
    },
    {
     "data": {
      "application/vnd.jupyter.widget-view+json": {
       "model_id": "5d72fb5aefa64189bc285cd842e54943",
       "version_major": 2,
       "version_minor": 0
      },
      "text/plain": [
       "time step:   0%|          | 0/10000 [00:00<?, ?it/s]"
      ]
     },
     "metadata": {},
     "output_type": "display_data"
    },
    {
     "data": {
      "application/vnd.jupyter.widget-view+json": {
       "model_id": "a907af836a6e4894846c533f842df6bf",
       "version_major": 2,
       "version_minor": 0
      },
      "text/plain": [
       "time step:   0%|          | 0/10000 [00:00<?, ?it/s]"
      ]
     },
     "metadata": {},
     "output_type": "display_data"
    },
    {
     "data": {
      "application/vnd.jupyter.widget-view+json": {
       "model_id": "aa9838f9dde245bc81bc9724dc454b64",
       "version_major": 2,
       "version_minor": 0
      },
      "text/plain": [
       "time step:   0%|          | 0/10000 [00:00<?, ?it/s]"
      ]
     },
     "metadata": {},
     "output_type": "display_data"
    },
    {
     "data": {
      "application/vnd.jupyter.widget-view+json": {
       "model_id": "00192888ddd24f2781d234049c606ad6",
       "version_major": 2,
       "version_minor": 0
      },
      "text/plain": [
       "time step:   0%|          | 0/10000 [00:00<?, ?it/s]"
      ]
     },
     "metadata": {},
     "output_type": "display_data"
    },
    {
     "data": {
      "application/vnd.jupyter.widget-view+json": {
       "model_id": "68445480df58491fae94282e1030981d",
       "version_major": 2,
       "version_minor": 0
      },
      "text/plain": [
       "time step:   0%|          | 0/10000 [00:00<?, ?it/s]"
      ]
     },
     "metadata": {},
     "output_type": "display_data"
    },
    {
     "data": {
      "application/vnd.jupyter.widget-view+json": {
       "model_id": "863a7c17dfe14b68b5aba215edb81c33",
       "version_major": 2,
       "version_minor": 0
      },
      "text/plain": [
       "time step:   0%|          | 0/10000 [00:00<?, ?it/s]"
      ]
     },
     "metadata": {},
     "output_type": "display_data"
    },
    {
     "data": {
      "application/vnd.jupyter.widget-view+json": {
       "model_id": "3057ad90afab416abcd08de755361046",
       "version_major": 2,
       "version_minor": 0
      },
      "text/plain": [
       "time step:   0%|          | 0/10000 [00:00<?, ?it/s]"
      ]
     },
     "metadata": {},
     "output_type": "display_data"
    },
    {
     "data": {
      "application/vnd.jupyter.widget-view+json": {
       "model_id": "19015aa18452483ab7dcdb08a7c950e9",
       "version_major": 2,
       "version_minor": 0
      },
      "text/plain": [
       "time step:   0%|          | 0/10000 [00:00<?, ?it/s]"
      ]
     },
     "metadata": {},
     "output_type": "display_data"
    },
    {
     "data": {
      "application/vnd.jupyter.widget-view+json": {
       "model_id": "d1e17c7b3456464caf3138a82f2bd239",
       "version_major": 2,
       "version_minor": 0
      },
      "text/plain": [
       "time step:   0%|          | 0/10000 [00:00<?, ?it/s]"
      ]
     },
     "metadata": {},
     "output_type": "display_data"
    },
    {
     "data": {
      "application/vnd.jupyter.widget-view+json": {
       "model_id": "49e9ff3cde4b4c4f9e5e85d486e27e28",
       "version_major": 2,
       "version_minor": 0
      },
      "text/plain": [
       "time step:   0%|          | 0/10000 [00:00<?, ?it/s]"
      ]
     },
     "metadata": {},
     "output_type": "display_data"
    },
    {
     "data": {
      "application/vnd.jupyter.widget-view+json": {
       "model_id": "a9b01d7b85f74354ab61625667e60a8b",
       "version_major": 2,
       "version_minor": 0
      },
      "text/plain": [
       "time step:   0%|          | 0/10000 [00:00<?, ?it/s]"
      ]
     },
     "metadata": {},
     "output_type": "display_data"
    },
    {
     "data": {
      "application/vnd.jupyter.widget-view+json": {
       "model_id": "b75a133aee224f168908054c3f9656b8",
       "version_major": 2,
       "version_minor": 0
      },
      "text/plain": [
       "time step:   0%|          | 0/10000 [00:00<?, ?it/s]"
      ]
     },
     "metadata": {},
     "output_type": "display_data"
    },
    {
     "data": {
      "application/vnd.jupyter.widget-view+json": {
       "model_id": "ba1a4747ed95411cb554a19866c22359",
       "version_major": 2,
       "version_minor": 0
      },
      "text/plain": [
       "time step:   0%|          | 0/10000 [00:00<?, ?it/s]"
      ]
     },
     "metadata": {},
     "output_type": "display_data"
    },
    {
     "data": {
      "application/vnd.jupyter.widget-view+json": {
       "model_id": "de9261183230499baae8cf449a910ad8",
       "version_major": 2,
       "version_minor": 0
      },
      "text/plain": [
       "time step:   0%|          | 0/10000 [00:00<?, ?it/s]"
      ]
     },
     "metadata": {},
     "output_type": "display_data"
    },
    {
     "data": {
      "application/vnd.jupyter.widget-view+json": {
       "model_id": "b0e1308b442449d2924d436bbbaaf7b3",
       "version_major": 2,
       "version_minor": 0
      },
      "text/plain": [
       "time step:   0%|          | 0/10000 [00:00<?, ?it/s]"
      ]
     },
     "metadata": {},
     "output_type": "display_data"
    },
    {
     "data": {
      "application/vnd.jupyter.widget-view+json": {
       "model_id": "7df894836fb74b7c926977cc1488725a",
       "version_major": 2,
       "version_minor": 0
      },
      "text/plain": [
       "time step:   0%|          | 0/10000 [00:00<?, ?it/s]"
      ]
     },
     "metadata": {},
     "output_type": "display_data"
    },
    {
     "data": {
      "application/vnd.jupyter.widget-view+json": {
       "model_id": "8c3ae72ad09b499c8fe15482902cd3af",
       "version_major": 2,
       "version_minor": 0
      },
      "text/plain": [
       "time step:   0%|          | 0/10000 [00:00<?, ?it/s]"
      ]
     },
     "metadata": {},
     "output_type": "display_data"
    },
    {
     "data": {
      "application/vnd.jupyter.widget-view+json": {
       "model_id": "cb90ed6dd21f496eabc40d8cd3ad2586",
       "version_major": 2,
       "version_minor": 0
      },
      "text/plain": [
       "time step:   0%|          | 0/10000 [00:00<?, ?it/s]"
      ]
     },
     "metadata": {},
     "output_type": "display_data"
    },
    {
     "data": {
      "application/vnd.jupyter.widget-view+json": {
       "model_id": "e165c73d53744cc28dc6097f03d265e3",
       "version_major": 2,
       "version_minor": 0
      },
      "text/plain": [
       "time step:   0%|          | 0/10000 [00:00<?, ?it/s]"
      ]
     },
     "metadata": {},
     "output_type": "display_data"
    },
    {
     "data": {
      "application/vnd.jupyter.widget-view+json": {
       "model_id": "cf4e65e154614464b5e93cda598398ad",
       "version_major": 2,
       "version_minor": 0
      },
      "text/plain": [
       "time step:   0%|          | 0/10000 [00:00<?, ?it/s]"
      ]
     },
     "metadata": {},
     "output_type": "display_data"
    },
    {
     "data": {
      "application/vnd.jupyter.widget-view+json": {
       "model_id": "15f3ea8e30774a2183fee2e03789b023",
       "version_major": 2,
       "version_minor": 0
      },
      "text/plain": [
       "time step:   0%|          | 0/10000 [00:00<?, ?it/s]"
      ]
     },
     "metadata": {},
     "output_type": "display_data"
    },
    {
     "data": {
      "application/vnd.jupyter.widget-view+json": {
       "model_id": "7bb911a07e994675b4fb055878cdffc0",
       "version_major": 2,
       "version_minor": 0
      },
      "text/plain": [
       "time step:   0%|          | 0/10000 [00:00<?, ?it/s]"
      ]
     },
     "metadata": {},
     "output_type": "display_data"
    },
    {
     "data": {
      "application/vnd.jupyter.widget-view+json": {
       "model_id": "7a5647bcc1924a65a456e11970b75ded",
       "version_major": 2,
       "version_minor": 0
      },
      "text/plain": [
       "time step:   0%|          | 0/10000 [00:00<?, ?it/s]"
      ]
     },
     "metadata": {},
     "output_type": "display_data"
    },
    {
     "data": {
      "application/vnd.jupyter.widget-view+json": {
       "model_id": "6d9b496c45ce4c239b91117966a48255",
       "version_major": 2,
       "version_minor": 0
      },
      "text/plain": [
       "time step:   0%|          | 0/10000 [00:00<?, ?it/s]"
      ]
     },
     "metadata": {},
     "output_type": "display_data"
    },
    {
     "data": {
      "application/vnd.jupyter.widget-view+json": {
       "model_id": "fa0c8116df5a499b94ef523101e502f7",
       "version_major": 2,
       "version_minor": 0
      },
      "text/plain": [
       "time step:   0%|          | 0/10000 [00:00<?, ?it/s]"
      ]
     },
     "metadata": {},
     "output_type": "display_data"
    },
    {
     "data": {
      "application/vnd.jupyter.widget-view+json": {
       "model_id": "7ddcb408a3e44fe1a48e6872de96d17d",
       "version_major": 2,
       "version_minor": 0
      },
      "text/plain": [
       "time step:   0%|          | 0/10000 [00:00<?, ?it/s]"
      ]
     },
     "metadata": {},
     "output_type": "display_data"
    },
    {
     "data": {
      "application/vnd.jupyter.widget-view+json": {
       "model_id": "bc82b92e80f740c4b2e896d115519af4",
       "version_major": 2,
       "version_minor": 0
      },
      "text/plain": [
       "time step:   0%|          | 0/10000 [00:00<?, ?it/s]"
      ]
     },
     "metadata": {},
     "output_type": "display_data"
    },
    {
     "data": {
      "application/vnd.jupyter.widget-view+json": {
       "model_id": "3c2e5fb0ae4243fc9e21796e27a8459d",
       "version_major": 2,
       "version_minor": 0
      },
      "text/plain": [
       "time step:   0%|          | 0/10000 [00:00<?, ?it/s]"
      ]
     },
     "metadata": {},
     "output_type": "display_data"
    },
    {
     "data": {
      "application/vnd.jupyter.widget-view+json": {
       "model_id": "14c56d60b673426ba0742bf1db57c345",
       "version_major": 2,
       "version_minor": 0
      },
      "text/plain": [
       "time step:   0%|          | 0/10000 [00:00<?, ?it/s]"
      ]
     },
     "metadata": {},
     "output_type": "display_data"
    },
    {
     "data": {
      "application/vnd.jupyter.widget-view+json": {
       "model_id": "91f407b529b5456aa9330b1d0276a19e",
       "version_major": 2,
       "version_minor": 0
      },
      "text/plain": [
       "time step:   0%|          | 0/10000 [00:00<?, ?it/s]"
      ]
     },
     "metadata": {},
     "output_type": "display_data"
    },
    {
     "data": {
      "application/vnd.jupyter.widget-view+json": {
       "model_id": "91603d747c2545cbb59b616ef5deeef2",
       "version_major": 2,
       "version_minor": 0
      },
      "text/plain": [
       "time step:   0%|          | 0/10000 [00:00<?, ?it/s]"
      ]
     },
     "metadata": {},
     "output_type": "display_data"
    },
    {
     "data": {
      "application/vnd.jupyter.widget-view+json": {
       "model_id": "8ce8f80cf1ae4c30837905e383a63fad",
       "version_major": 2,
       "version_minor": 0
      },
      "text/plain": [
       "time step:   0%|          | 0/10000 [00:00<?, ?it/s]"
      ]
     },
     "metadata": {},
     "output_type": "display_data"
    },
    {
     "data": {
      "application/vnd.jupyter.widget-view+json": {
       "model_id": "9d8955fa4b21489982749a72b3134f0d",
       "version_major": 2,
       "version_minor": 0
      },
      "text/plain": [
       "time step:   0%|          | 0/10000 [00:00<?, ?it/s]"
      ]
     },
     "metadata": {},
     "output_type": "display_data"
    },
    {
     "data": {
      "application/vnd.jupyter.widget-view+json": {
       "model_id": "374b57b4f04c4fd4ab70003916d4d52c",
       "version_major": 2,
       "version_minor": 0
      },
      "text/plain": [
       "time step:   0%|          | 0/10000 [00:00<?, ?it/s]"
      ]
     },
     "metadata": {},
     "output_type": "display_data"
    },
    {
     "data": {
      "application/vnd.jupyter.widget-view+json": {
       "model_id": "321c09149a234b018aad593333d67803",
       "version_major": 2,
       "version_minor": 0
      },
      "text/plain": [
       "time step:   0%|          | 0/10000 [00:00<?, ?it/s]"
      ]
     },
     "metadata": {},
     "output_type": "display_data"
    },
    {
     "data": {
      "application/vnd.jupyter.widget-view+json": {
       "model_id": "ab324d3725244db9b2f77903b9841039",
       "version_major": 2,
       "version_minor": 0
      },
      "text/plain": [
       "time step:   0%|          | 0/10000 [00:00<?, ?it/s]"
      ]
     },
     "metadata": {},
     "output_type": "display_data"
    },
    {
     "data": {
      "application/vnd.jupyter.widget-view+json": {
       "model_id": "e129213579624a60839a2936d776c7cb",
       "version_major": 2,
       "version_minor": 0
      },
      "text/plain": [
       "time step:   0%|          | 0/10000 [00:00<?, ?it/s]"
      ]
     },
     "metadata": {},
     "output_type": "display_data"
    },
    {
     "data": {
      "application/vnd.jupyter.widget-view+json": {
       "model_id": "454f4ed5039a4d2590038dd23f8d316d",
       "version_major": 2,
       "version_minor": 0
      },
      "text/plain": [
       "time step:   0%|          | 0/10000 [00:00<?, ?it/s]"
      ]
     },
     "metadata": {},
     "output_type": "display_data"
    },
    {
     "data": {
      "application/vnd.jupyter.widget-view+json": {
       "model_id": "791f8ad43df64917a4238004063da469",
       "version_major": 2,
       "version_minor": 0
      },
      "text/plain": [
       "time step:   0%|          | 0/10000 [00:00<?, ?it/s]"
      ]
     },
     "metadata": {},
     "output_type": "display_data"
    },
    {
     "data": {
      "application/vnd.jupyter.widget-view+json": {
       "model_id": "cffeb9cae3544963ad01c97d0f649795",
       "version_major": 2,
       "version_minor": 0
      },
      "text/plain": [
       "time step:   0%|          | 0/10000 [00:00<?, ?it/s]"
      ]
     },
     "metadata": {},
     "output_type": "display_data"
    },
    {
     "data": {
      "application/vnd.jupyter.widget-view+json": {
       "model_id": "acd1311aabc0449794077d94185fc1bf",
       "version_major": 2,
       "version_minor": 0
      },
      "text/plain": [
       "time step:   0%|          | 0/10000 [00:00<?, ?it/s]"
      ]
     },
     "metadata": {},
     "output_type": "display_data"
    },
    {
     "data": {
      "application/vnd.jupyter.widget-view+json": {
       "model_id": "990df1cac28b4000a3e3dbbea77cea9f",
       "version_major": 2,
       "version_minor": 0
      },
      "text/plain": [
       "time step:   0%|          | 0/10000 [00:00<?, ?it/s]"
      ]
     },
     "metadata": {},
     "output_type": "display_data"
    },
    {
     "data": {
      "application/vnd.jupyter.widget-view+json": {
       "model_id": "83eeffaf0b114caab3279a40a05898ed",
       "version_major": 2,
       "version_minor": 0
      },
      "text/plain": [
       "time step:   0%|          | 0/10000 [00:00<?, ?it/s]"
      ]
     },
     "metadata": {},
     "output_type": "display_data"
    },
    {
     "data": {
      "application/vnd.jupyter.widget-view+json": {
       "model_id": "1eebbaa859ad4e99b6a651e41a23f708",
       "version_major": 2,
       "version_minor": 0
      },
      "text/plain": [
       "time step:   0%|          | 0/10000 [00:00<?, ?it/s]"
      ]
     },
     "metadata": {},
     "output_type": "display_data"
    },
    {
     "data": {
      "application/vnd.jupyter.widget-view+json": {
       "model_id": "845b7b46c8624e879c09ae68da12de8c",
       "version_major": 2,
       "version_minor": 0
      },
      "text/plain": [
       "time step:   0%|          | 0/10000 [00:00<?, ?it/s]"
      ]
     },
     "metadata": {},
     "output_type": "display_data"
    },
    {
     "data": {
      "application/vnd.jupyter.widget-view+json": {
       "model_id": "831f58c857eb4e7a86d65867d5639eba",
       "version_major": 2,
       "version_minor": 0
      },
      "text/plain": [
       "time step:   0%|          | 0/10000 [00:00<?, ?it/s]"
      ]
     },
     "metadata": {},
     "output_type": "display_data"
    },
    {
     "data": {
      "application/vnd.jupyter.widget-view+json": {
       "model_id": "d1d66236f217468db99250fa1ef07075",
       "version_major": 2,
       "version_minor": 0
      },
      "text/plain": [
       "time step:   0%|          | 0/10000 [00:00<?, ?it/s]"
      ]
     },
     "metadata": {},
     "output_type": "display_data"
    },
    {
     "data": {
      "application/vnd.jupyter.widget-view+json": {
       "model_id": "ec720a6289d34eb9a89deb79842a14bf",
       "version_major": 2,
       "version_minor": 0
      },
      "text/plain": [
       "time step:   0%|          | 0/10000 [00:00<?, ?it/s]"
      ]
     },
     "metadata": {},
     "output_type": "display_data"
    },
    {
     "data": {
      "application/vnd.jupyter.widget-view+json": {
       "model_id": "9093d0ad240644e487d982d22b800791",
       "version_major": 2,
       "version_minor": 0
      },
      "text/plain": [
       "time step:   0%|          | 0/10000 [00:00<?, ?it/s]"
      ]
     },
     "metadata": {},
     "output_type": "display_data"
    },
    {
     "data": {
      "application/vnd.jupyter.widget-view+json": {
       "model_id": "5c53b485310346439eeb7391cee2415a",
       "version_major": 2,
       "version_minor": 0
      },
      "text/plain": [
       "time step:   0%|          | 0/10000 [00:00<?, ?it/s]"
      ]
     },
     "metadata": {},
     "output_type": "display_data"
    },
    {
     "data": {
      "application/vnd.jupyter.widget-view+json": {
       "model_id": "3ece7674e1ba4dc3b5b0402a1698c6d5",
       "version_major": 2,
       "version_minor": 0
      },
      "text/plain": [
       "time step:   0%|          | 0/10000 [00:00<?, ?it/s]"
      ]
     },
     "metadata": {},
     "output_type": "display_data"
    },
    {
     "data": {
      "application/vnd.jupyter.widget-view+json": {
       "model_id": "792263de00ce4cde8221f3175e78666b",
       "version_major": 2,
       "version_minor": 0
      },
      "text/plain": [
       "time step:   0%|          | 0/10000 [00:00<?, ?it/s]"
      ]
     },
     "metadata": {},
     "output_type": "display_data"
    },
    {
     "data": {
      "application/vnd.jupyter.widget-view+json": {
       "model_id": "d2d3218c14e946b58102de2a85434793",
       "version_major": 2,
       "version_minor": 0
      },
      "text/plain": [
       "time step:   0%|          | 0/10000 [00:00<?, ?it/s]"
      ]
     },
     "metadata": {},
     "output_type": "display_data"
    },
    {
     "data": {
      "application/vnd.jupyter.widget-view+json": {
       "model_id": "c0596757d7064dd9837f4572e351894f",
       "version_major": 2,
       "version_minor": 0
      },
      "text/plain": [
       "time step:   0%|          | 0/10000 [00:00<?, ?it/s]"
      ]
     },
     "metadata": {},
     "output_type": "display_data"
    },
    {
     "data": {
      "application/vnd.jupyter.widget-view+json": {
       "model_id": "c548944189074be6984c261f3d9a617d",
       "version_major": 2,
       "version_minor": 0
      },
      "text/plain": [
       "time step:   0%|          | 0/10000 [00:00<?, ?it/s]"
      ]
     },
     "metadata": {},
     "output_type": "display_data"
    },
    {
     "data": {
      "application/vnd.jupyter.widget-view+json": {
       "model_id": "b7b9247211d045868ab862f3b481d58f",
       "version_major": 2,
       "version_minor": 0
      },
      "text/plain": [
       "time step:   0%|          | 0/10000 [00:00<?, ?it/s]"
      ]
     },
     "metadata": {},
     "output_type": "display_data"
    },
    {
     "data": {
      "application/vnd.jupyter.widget-view+json": {
       "model_id": "4b4fd46ebab745309f7622bb67092e23",
       "version_major": 2,
       "version_minor": 0
      },
      "text/plain": [
       "time step:   0%|          | 0/10000 [00:00<?, ?it/s]"
      ]
     },
     "metadata": {},
     "output_type": "display_data"
    },
    {
     "data": {
      "application/vnd.jupyter.widget-view+json": {
       "model_id": "c63ff336edc54da78d310fa25925e5b4",
       "version_major": 2,
       "version_minor": 0
      },
      "text/plain": [
       "time step:   0%|          | 0/10000 [00:00<?, ?it/s]"
      ]
     },
     "metadata": {},
     "output_type": "display_data"
    },
    {
     "data": {
      "application/vnd.jupyter.widget-view+json": {
       "model_id": "d40e8794e132428eb4752501e645a804",
       "version_major": 2,
       "version_minor": 0
      },
      "text/plain": [
       "time step:   0%|          | 0/10000 [00:00<?, ?it/s]"
      ]
     },
     "metadata": {},
     "output_type": "display_data"
    },
    {
     "data": {
      "application/vnd.jupyter.widget-view+json": {
       "model_id": "c9b19d3758fb4e76b2973dc3e78e51f4",
       "version_major": 2,
       "version_minor": 0
      },
      "text/plain": [
       "time step:   0%|          | 0/10000 [00:00<?, ?it/s]"
      ]
     },
     "metadata": {},
     "output_type": "display_data"
    },
    {
     "data": {
      "application/vnd.jupyter.widget-view+json": {
       "model_id": "96b1e2609bbd4e4ebbabb77e537fde0f",
       "version_major": 2,
       "version_minor": 0
      },
      "text/plain": [
       "time step:   0%|          | 0/10000 [00:00<?, ?it/s]"
      ]
     },
     "metadata": {},
     "output_type": "display_data"
    },
    {
     "data": {
      "application/vnd.jupyter.widget-view+json": {
       "model_id": "90328f2c4f5f48638b0c4e67a4cff4ba",
       "version_major": 2,
       "version_minor": 0
      },
      "text/plain": [
       "time step:   0%|          | 0/10000 [00:00<?, ?it/s]"
      ]
     },
     "metadata": {},
     "output_type": "display_data"
    },
    {
     "data": {
      "application/vnd.jupyter.widget-view+json": {
       "model_id": "89940c6e94d946b7a57b65d0be072725",
       "version_major": 2,
       "version_minor": 0
      },
      "text/plain": [
       "time step:   0%|          | 0/10000 [00:00<?, ?it/s]"
      ]
     },
     "metadata": {},
     "output_type": "display_data"
    },
    {
     "data": {
      "application/vnd.jupyter.widget-view+json": {
       "model_id": "5d9415f7a65f4daf87866c52c24947e5",
       "version_major": 2,
       "version_minor": 0
      },
      "text/plain": [
       "time step:   0%|          | 0/10000 [00:00<?, ?it/s]"
      ]
     },
     "metadata": {},
     "output_type": "display_data"
    },
    {
     "data": {
      "application/vnd.jupyter.widget-view+json": {
       "model_id": "d1a898161bf440b1988a73be0f194fbd",
       "version_major": 2,
       "version_minor": 0
      },
      "text/plain": [
       "time step:   0%|          | 0/10000 [00:00<?, ?it/s]"
      ]
     },
     "metadata": {},
     "output_type": "display_data"
    },
    {
     "data": {
      "application/vnd.jupyter.widget-view+json": {
       "model_id": "5a8d9734c4d447ec87727e0d2a20361e",
       "version_major": 2,
       "version_minor": 0
      },
      "text/plain": [
       "time step:   0%|          | 0/10000 [00:00<?, ?it/s]"
      ]
     },
     "metadata": {},
     "output_type": "display_data"
    },
    {
     "data": {
      "application/vnd.jupyter.widget-view+json": {
       "model_id": "2f70aaae289f4d4c90c2c69253fe8256",
       "version_major": 2,
       "version_minor": 0
      },
      "text/plain": [
       "time step:   0%|          | 0/10000 [00:00<?, ?it/s]"
      ]
     },
     "metadata": {},
     "output_type": "display_data"
    },
    {
     "data": {
      "application/vnd.jupyter.widget-view+json": {
       "model_id": "992d70e423764d72a558bdc22cd9d1bc",
       "version_major": 2,
       "version_minor": 0
      },
      "text/plain": [
       "time step:   0%|          | 0/10000 [00:00<?, ?it/s]"
      ]
     },
     "metadata": {},
     "output_type": "display_data"
    },
    {
     "data": {
      "application/vnd.jupyter.widget-view+json": {
       "model_id": "bc0dbb2141af44a89834d05681e86409",
       "version_major": 2,
       "version_minor": 0
      },
      "text/plain": [
       "time step:   0%|          | 0/10000 [00:00<?, ?it/s]"
      ]
     },
     "metadata": {},
     "output_type": "display_data"
    },
    {
     "data": {
      "application/vnd.jupyter.widget-view+json": {
       "model_id": "2966ec6f591e4e08b690881c0d441011",
       "version_major": 2,
       "version_minor": 0
      },
      "text/plain": [
       "time step:   0%|          | 0/10000 [00:00<?, ?it/s]"
      ]
     },
     "metadata": {},
     "output_type": "display_data"
    },
    {
     "data": {
      "application/vnd.jupyter.widget-view+json": {
       "model_id": "8b53d4697e8d4f0494ce13252c7383ae",
       "version_major": 2,
       "version_minor": 0
      },
      "text/plain": [
       "time step:   0%|          | 0/10000 [00:00<?, ?it/s]"
      ]
     },
     "metadata": {},
     "output_type": "display_data"
    },
    {
     "data": {
      "application/vnd.jupyter.widget-view+json": {
       "model_id": "b76824ed91fc4741807dc47603b8dd4e",
       "version_major": 2,
       "version_minor": 0
      },
      "text/plain": [
       "time step:   0%|          | 0/10000 [00:00<?, ?it/s]"
      ]
     },
     "metadata": {},
     "output_type": "display_data"
    },
    {
     "data": {
      "application/vnd.jupyter.widget-view+json": {
       "model_id": "5c97fe1d3ae746ca9942305d5ac6fa4b",
       "version_major": 2,
       "version_minor": 0
      },
      "text/plain": [
       "time step:   0%|          | 0/10000 [00:00<?, ?it/s]"
      ]
     },
     "metadata": {},
     "output_type": "display_data"
    },
    {
     "data": {
      "application/vnd.jupyter.widget-view+json": {
       "model_id": "41419b26add8453ea44a2e3b4fca09e9",
       "version_major": 2,
       "version_minor": 0
      },
      "text/plain": [
       "time step:   0%|          | 0/10000 [00:00<?, ?it/s]"
      ]
     },
     "metadata": {},
     "output_type": "display_data"
    },
    {
     "data": {
      "application/vnd.jupyter.widget-view+json": {
       "model_id": "d1c3952db2344f5e937aed93bdc44d56",
       "version_major": 2,
       "version_minor": 0
      },
      "text/plain": [
       "time step:   0%|          | 0/10000 [00:00<?, ?it/s]"
      ]
     },
     "metadata": {},
     "output_type": "display_data"
    },
    {
     "data": {
      "application/vnd.jupyter.widget-view+json": {
       "model_id": "b59df9cca2fb4f61958933dd3a8e1122",
       "version_major": 2,
       "version_minor": 0
      },
      "text/plain": [
       "time step:   0%|          | 0/10000 [00:00<?, ?it/s]"
      ]
     },
     "metadata": {},
     "output_type": "display_data"
    },
    {
     "data": {
      "application/vnd.jupyter.widget-view+json": {
       "model_id": "ba18652c281b4a3b87a15aad95f6e877",
       "version_major": 2,
       "version_minor": 0
      },
      "text/plain": [
       "time step:   0%|          | 0/10000 [00:00<?, ?it/s]"
      ]
     },
     "metadata": {},
     "output_type": "display_data"
    },
    {
     "data": {
      "application/vnd.jupyter.widget-view+json": {
       "model_id": "8f9d3e78d01342978758c2a48cfd4169",
       "version_major": 2,
       "version_minor": 0
      },
      "text/plain": [
       "time step:   0%|          | 0/10000 [00:00<?, ?it/s]"
      ]
     },
     "metadata": {},
     "output_type": "display_data"
    },
    {
     "data": {
      "application/vnd.jupyter.widget-view+json": {
       "model_id": "f5b4945ae5824ea0ba03dab09bb2dcd9",
       "version_major": 2,
       "version_minor": 0
      },
      "text/plain": [
       "time step:   0%|          | 0/10000 [00:00<?, ?it/s]"
      ]
     },
     "metadata": {},
     "output_type": "display_data"
    },
    {
     "data": {
      "application/vnd.jupyter.widget-view+json": {
       "model_id": "dcc455868b864a61b6ee4c92f84f1f28",
       "version_major": 2,
       "version_minor": 0
      },
      "text/plain": [
       "time step:   0%|          | 0/10000 [00:00<?, ?it/s]"
      ]
     },
     "metadata": {},
     "output_type": "display_data"
    },
    {
     "data": {
      "application/vnd.jupyter.widget-view+json": {
       "model_id": "13dc792b98d1471285f1a43c4fe601bb",
       "version_major": 2,
       "version_minor": 0
      },
      "text/plain": [
       "time step:   0%|          | 0/10000 [00:00<?, ?it/s]"
      ]
     },
     "metadata": {},
     "output_type": "display_data"
    },
    {
     "data": {
      "application/vnd.jupyter.widget-view+json": {
       "model_id": "ccff08d4aae64f13b12bc7083ab4b325",
       "version_major": 2,
       "version_minor": 0
      },
      "text/plain": [
       "time step:   0%|          | 0/10000 [00:00<?, ?it/s]"
      ]
     },
     "metadata": {},
     "output_type": "display_data"
    },
    {
     "data": {
      "application/vnd.jupyter.widget-view+json": {
       "model_id": "93f1de08e7b34a79b09d1c5d3e12583e",
       "version_major": 2,
       "version_minor": 0
      },
      "text/plain": [
       "time step:   0%|          | 0/10000 [00:00<?, ?it/s]"
      ]
     },
     "metadata": {},
     "output_type": "display_data"
    },
    {
     "data": {
      "application/vnd.jupyter.widget-view+json": {
       "model_id": "ebcf76f1ac3e4e1cba3ff68c0ca057ec",
       "version_major": 2,
       "version_minor": 0
      },
      "text/plain": [
       "time step:   0%|          | 0/10000 [00:00<?, ?it/s]"
      ]
     },
     "metadata": {},
     "output_type": "display_data"
    },
    {
     "data": {
      "application/vnd.jupyter.widget-view+json": {
       "model_id": "8e9bf1de71d9479b83c34910c0a20c4e",
       "version_major": 2,
       "version_minor": 0
      },
      "text/plain": [
       "time step:   0%|          | 0/10000 [00:00<?, ?it/s]"
      ]
     },
     "metadata": {},
     "output_type": "display_data"
    },
    {
     "data": {
      "application/vnd.jupyter.widget-view+json": {
       "model_id": "8a4857eca4204a07871fa6436af3788f",
       "version_major": 2,
       "version_minor": 0
      },
      "text/plain": [
       "time step:   0%|          | 0/10000 [00:00<?, ?it/s]"
      ]
     },
     "metadata": {},
     "output_type": "display_data"
    },
    {
     "data": {
      "application/vnd.jupyter.widget-view+json": {
       "model_id": "1f5cc4ea0f2c4767b860f335ebc135db",
       "version_major": 2,
       "version_minor": 0
      },
      "text/plain": [
       "time step:   0%|          | 0/10000 [00:00<?, ?it/s]"
      ]
     },
     "metadata": {},
     "output_type": "display_data"
    },
    {
     "data": {
      "application/vnd.jupyter.widget-view+json": {
       "model_id": "e20a793ccaca4f8d8b84d25901f3ce40",
       "version_major": 2,
       "version_minor": 0
      },
      "text/plain": [
       "time step:   0%|          | 0/10000 [00:00<?, ?it/s]"
      ]
     },
     "metadata": {},
     "output_type": "display_data"
    },
    {
     "data": {
      "application/vnd.jupyter.widget-view+json": {
       "model_id": "211eaaa1bf4a430381fb83f917c8d5de",
       "version_major": 2,
       "version_minor": 0
      },
      "text/plain": [
       "time step:   0%|          | 0/10000 [00:00<?, ?it/s]"
      ]
     },
     "metadata": {},
     "output_type": "display_data"
    },
    {
     "data": {
      "application/vnd.jupyter.widget-view+json": {
       "model_id": "e6a36057a68e4ff8a092ec409fbad250",
       "version_major": 2,
       "version_minor": 0
      },
      "text/plain": [
       "time step:   0%|          | 0/10000 [00:00<?, ?it/s]"
      ]
     },
     "metadata": {},
     "output_type": "display_data"
    },
    {
     "data": {
      "application/vnd.jupyter.widget-view+json": {
       "model_id": "13e0d82435904295a85a0d13aa3b7384",
       "version_major": 2,
       "version_minor": 0
      },
      "text/plain": [
       "time step:   0%|          | 0/10000 [00:00<?, ?it/s]"
      ]
     },
     "metadata": {},
     "output_type": "display_data"
    },
    {
     "data": {
      "application/vnd.jupyter.widget-view+json": {
       "model_id": "a0d23ae089a540ac83c34c95bdb05bd7",
       "version_major": 2,
       "version_minor": 0
      },
      "text/plain": [
       "time step:   0%|          | 0/10000 [00:00<?, ?it/s]"
      ]
     },
     "metadata": {},
     "output_type": "display_data"
    },
    {
     "data": {
      "application/vnd.jupyter.widget-view+json": {
       "model_id": "ab5ccc30b187430d8e6689b5a43405b3",
       "version_major": 2,
       "version_minor": 0
      },
      "text/plain": [
       "time step:   0%|          | 0/10000 [00:00<?, ?it/s]"
      ]
     },
     "metadata": {},
     "output_type": "display_data"
    },
    {
     "data": {
      "application/vnd.jupyter.widget-view+json": {
       "model_id": "42137c5f8b674f38b82797abb88a2fb8",
       "version_major": 2,
       "version_minor": 0
      },
      "text/plain": [
       "time step:   0%|          | 0/10000 [00:00<?, ?it/s]"
      ]
     },
     "metadata": {},
     "output_type": "display_data"
    },
    {
     "data": {
      "application/vnd.jupyter.widget-view+json": {
       "model_id": "4cd824c9c6b64aaea863f75fa2ddae06",
       "version_major": 2,
       "version_minor": 0
      },
      "text/plain": [
       "time step:   0%|          | 0/10000 [00:00<?, ?it/s]"
      ]
     },
     "metadata": {},
     "output_type": "display_data"
    },
    {
     "data": {
      "application/vnd.jupyter.widget-view+json": {
       "model_id": "40ec43899dfa464092ea47226f5fe413",
       "version_major": 2,
       "version_minor": 0
      },
      "text/plain": [
       "time step:   0%|          | 0/10000 [00:00<?, ?it/s]"
      ]
     },
     "metadata": {},
     "output_type": "display_data"
    },
    {
     "data": {
      "application/vnd.jupyter.widget-view+json": {
       "model_id": "9b73b7bce9f94fb98cc557883918bb09",
       "version_major": 2,
       "version_minor": 0
      },
      "text/plain": [
       "time step:   0%|          | 0/10000 [00:00<?, ?it/s]"
      ]
     },
     "metadata": {},
     "output_type": "display_data"
    },
    {
     "data": {
      "application/vnd.jupyter.widget-view+json": {
       "model_id": "e4cb35c4e6974770ad411d6f094b943c",
       "version_major": 2,
       "version_minor": 0
      },
      "text/plain": [
       "time step:   0%|          | 0/10000 [00:00<?, ?it/s]"
      ]
     },
     "metadata": {},
     "output_type": "display_data"
    },
    {
     "data": {
      "application/vnd.jupyter.widget-view+json": {
       "model_id": "fad9ef3da89d4efaba7de9207e88a20e",
       "version_major": 2,
       "version_minor": 0
      },
      "text/plain": [
       "time step:   0%|          | 0/10000 [00:00<?, ?it/s]"
      ]
     },
     "metadata": {},
     "output_type": "display_data"
    },
    {
     "data": {
      "application/vnd.jupyter.widget-view+json": {
       "model_id": "96d53abc0eff449aac14c9acdf0dda5d",
       "version_major": 2,
       "version_minor": 0
      },
      "text/plain": [
       "time step:   0%|          | 0/10000 [00:00<?, ?it/s]"
      ]
     },
     "metadata": {},
     "output_type": "display_data"
    },
    {
     "data": {
      "application/vnd.jupyter.widget-view+json": {
       "model_id": "afb07c804c9f4251ac7fe1916de1f0fd",
       "version_major": 2,
       "version_minor": 0
      },
      "text/plain": [
       "time step:   0%|          | 0/10000 [00:00<?, ?it/s]"
      ]
     },
     "metadata": {},
     "output_type": "display_data"
    },
    {
     "data": {
      "application/vnd.jupyter.widget-view+json": {
       "model_id": "1c9c0dfb933648309ac31714d8b88ec0",
       "version_major": 2,
       "version_minor": 0
      },
      "text/plain": [
       "time step:   0%|          | 0/10000 [00:00<?, ?it/s]"
      ]
     },
     "metadata": {},
     "output_type": "display_data"
    },
    {
     "data": {
      "application/vnd.jupyter.widget-view+json": {
       "model_id": "25544805178b4b89bf76a6a80a792501",
       "version_major": 2,
       "version_minor": 0
      },
      "text/plain": [
       "time step:   0%|          | 0/10000 [00:00<?, ?it/s]"
      ]
     },
     "metadata": {},
     "output_type": "display_data"
    },
    {
     "data": {
      "application/vnd.jupyter.widget-view+json": {
       "model_id": "a57b56c5ad6849098f4fda16927a05fd",
       "version_major": 2,
       "version_minor": 0
      },
      "text/plain": [
       "time step:   0%|          | 0/10000 [00:00<?, ?it/s]"
      ]
     },
     "metadata": {},
     "output_type": "display_data"
    },
    {
     "data": {
      "application/vnd.jupyter.widget-view+json": {
       "model_id": "d2f0f2d6eb93414d8a06b5e59f461058",
       "version_major": 2,
       "version_minor": 0
      },
      "text/plain": [
       "time step:   0%|          | 0/10000 [00:00<?, ?it/s]"
      ]
     },
     "metadata": {},
     "output_type": "display_data"
    },
    {
     "data": {
      "application/vnd.jupyter.widget-view+json": {
       "model_id": "acab7805b2c94e10ba46661e0381144c",
       "version_major": 2,
       "version_minor": 0
      },
      "text/plain": [
       "time step:   0%|          | 0/10000 [00:00<?, ?it/s]"
      ]
     },
     "metadata": {},
     "output_type": "display_data"
    },
    {
     "data": {
      "application/vnd.jupyter.widget-view+json": {
       "model_id": "4ebf3f34a1f243f48022fe79309f4092",
       "version_major": 2,
       "version_minor": 0
      },
      "text/plain": [
       "time step:   0%|          | 0/10000 [00:00<?, ?it/s]"
      ]
     },
     "metadata": {},
     "output_type": "display_data"
    },
    {
     "data": {
      "application/vnd.jupyter.widget-view+json": {
       "model_id": "2b82a0cac3ff4dd695a4afd3608959bc",
       "version_major": 2,
       "version_minor": 0
      },
      "text/plain": [
       "time step:   0%|          | 0/10000 [00:00<?, ?it/s]"
      ]
     },
     "metadata": {},
     "output_type": "display_data"
    },
    {
     "data": {
      "application/vnd.jupyter.widget-view+json": {
       "model_id": "c90aa41bf0a94b88bd712d5eab294a8d",
       "version_major": 2,
       "version_minor": 0
      },
      "text/plain": [
       "time step:   0%|          | 0/10000 [00:00<?, ?it/s]"
      ]
     },
     "metadata": {},
     "output_type": "display_data"
    },
    {
     "data": {
      "application/vnd.jupyter.widget-view+json": {
       "model_id": "a17ebf2828c64c7daf8a072d8dac6b9d",
       "version_major": 2,
       "version_minor": 0
      },
      "text/plain": [
       "time step:   0%|          | 0/10000 [00:00<?, ?it/s]"
      ]
     },
     "metadata": {},
     "output_type": "display_data"
    },
    {
     "data": {
      "application/vnd.jupyter.widget-view+json": {
       "model_id": "2a09c4042f1b4ccda797f7caccb47efc",
       "version_major": 2,
       "version_minor": 0
      },
      "text/plain": [
       "time step:   0%|          | 0/10000 [00:00<?, ?it/s]"
      ]
     },
     "metadata": {},
     "output_type": "display_data"
    },
    {
     "data": {
      "application/vnd.jupyter.widget-view+json": {
       "model_id": "59745de40e0348c1a8a2b0b4b413a2a1",
       "version_major": 2,
       "version_minor": 0
      },
      "text/plain": [
       "time step:   0%|          | 0/10000 [00:00<?, ?it/s]"
      ]
     },
     "metadata": {},
     "output_type": "display_data"
    },
    {
     "data": {
      "application/vnd.jupyter.widget-view+json": {
       "model_id": "13e6e9809037404cad36d066e39af6a1",
       "version_major": 2,
       "version_minor": 0
      },
      "text/plain": [
       "time step:   0%|          | 0/10000 [00:00<?, ?it/s]"
      ]
     },
     "metadata": {},
     "output_type": "display_data"
    },
    {
     "data": {
      "application/vnd.jupyter.widget-view+json": {
       "model_id": "529622d566da42f89176059b9516a690",
       "version_major": 2,
       "version_minor": 0
      },
      "text/plain": [
       "time step:   0%|          | 0/10000 [00:00<?, ?it/s]"
      ]
     },
     "metadata": {},
     "output_type": "display_data"
    },
    {
     "data": {
      "application/vnd.jupyter.widget-view+json": {
       "model_id": "166118bbe8234465aca3e97182f5d86e",
       "version_major": 2,
       "version_minor": 0
      },
      "text/plain": [
       "time step:   0%|          | 0/10000 [00:00<?, ?it/s]"
      ]
     },
     "metadata": {},
     "output_type": "display_data"
    },
    {
     "data": {
      "application/vnd.jupyter.widget-view+json": {
       "model_id": "16995442934d4c188f45e24a5ff30a50",
       "version_major": 2,
       "version_minor": 0
      },
      "text/plain": [
       "time step:   0%|          | 0/10000 [00:00<?, ?it/s]"
      ]
     },
     "metadata": {},
     "output_type": "display_data"
    },
    {
     "data": {
      "application/vnd.jupyter.widget-view+json": {
       "model_id": "314cc8d2ff6f40dbb3ad6cf21c7bd0f3",
       "version_major": 2,
       "version_minor": 0
      },
      "text/plain": [
       "time step:   0%|          | 0/10000 [00:00<?, ?it/s]"
      ]
     },
     "metadata": {},
     "output_type": "display_data"
    },
    {
     "data": {
      "application/vnd.jupyter.widget-view+json": {
       "model_id": "58d61712aee946c3a188c6201eb44102",
       "version_major": 2,
       "version_minor": 0
      },
      "text/plain": [
       "time step:   0%|          | 0/10000 [00:00<?, ?it/s]"
      ]
     },
     "metadata": {},
     "output_type": "display_data"
    },
    {
     "data": {
      "application/vnd.jupyter.widget-view+json": {
       "model_id": "a0dd8760103f40fe922c8fed51a7a628",
       "version_major": 2,
       "version_minor": 0
      },
      "text/plain": [
       "time step:   0%|          | 0/10000 [00:00<?, ?it/s]"
      ]
     },
     "metadata": {},
     "output_type": "display_data"
    },
    {
     "data": {
      "application/vnd.jupyter.widget-view+json": {
       "model_id": "84ac0fc93b364e88a988e2eb279a456e",
       "version_major": 2,
       "version_minor": 0
      },
      "text/plain": [
       "time step:   0%|          | 0/10000 [00:00<?, ?it/s]"
      ]
     },
     "metadata": {},
     "output_type": "display_data"
    },
    {
     "data": {
      "application/vnd.jupyter.widget-view+json": {
       "model_id": "d44735f1fca84613a129551df4b7d410",
       "version_major": 2,
       "version_minor": 0
      },
      "text/plain": [
       "time step:   0%|          | 0/10000 [00:00<?, ?it/s]"
      ]
     },
     "metadata": {},
     "output_type": "display_data"
    },
    {
     "data": {
      "application/vnd.jupyter.widget-view+json": {
       "model_id": "b3863ee69dfd449d89d7e851a08e29aa",
       "version_major": 2,
       "version_minor": 0
      },
      "text/plain": [
       "time step:   0%|          | 0/10000 [00:00<?, ?it/s]"
      ]
     },
     "metadata": {},
     "output_type": "display_data"
    },
    {
     "data": {
      "application/vnd.jupyter.widget-view+json": {
       "model_id": "cc2ffee7407e4ffc85b4edbb9c49d903",
       "version_major": 2,
       "version_minor": 0
      },
      "text/plain": [
       "time step:   0%|          | 0/10000 [00:00<?, ?it/s]"
      ]
     },
     "metadata": {},
     "output_type": "display_data"
    },
    {
     "data": {
      "application/vnd.jupyter.widget-view+json": {
       "model_id": "434bc7b3b9784ec28dedb90e36412b9f",
       "version_major": 2,
       "version_minor": 0
      },
      "text/plain": [
       "time step:   0%|          | 0/10000 [00:00<?, ?it/s]"
      ]
     },
     "metadata": {},
     "output_type": "display_data"
    },
    {
     "data": {
      "application/vnd.jupyter.widget-view+json": {
       "model_id": "b2efb3bc43604017820e86230f4f3917",
       "version_major": 2,
       "version_minor": 0
      },
      "text/plain": [
       "time step:   0%|          | 0/10000 [00:00<?, ?it/s]"
      ]
     },
     "metadata": {},
     "output_type": "display_data"
    },
    {
     "data": {
      "application/vnd.jupyter.widget-view+json": {
       "model_id": "8191072b742b4347b403a9793e289a33",
       "version_major": 2,
       "version_minor": 0
      },
      "text/plain": [
       "time step:   0%|          | 0/10000 [00:00<?, ?it/s]"
      ]
     },
     "metadata": {},
     "output_type": "display_data"
    },
    {
     "data": {
      "application/vnd.jupyter.widget-view+json": {
       "model_id": "2d6c8b47f5b44d3fa48f5bcd65fa1574",
       "version_major": 2,
       "version_minor": 0
      },
      "text/plain": [
       "time step:   0%|          | 0/10000 [00:00<?, ?it/s]"
      ]
     },
     "metadata": {},
     "output_type": "display_data"
    },
    {
     "data": {
      "application/vnd.jupyter.widget-view+json": {
       "model_id": "bad715a7bf474f85ba13ce9bf7e20a5a",
       "version_major": 2,
       "version_minor": 0
      },
      "text/plain": [
       "time step:   0%|          | 0/10000 [00:00<?, ?it/s]"
      ]
     },
     "metadata": {},
     "output_type": "display_data"
    },
    {
     "data": {
      "application/vnd.jupyter.widget-view+json": {
       "model_id": "7cfc58d24fd045b6bf085298ed70dc36",
       "version_major": 2,
       "version_minor": 0
      },
      "text/plain": [
       "time step:   0%|          | 0/10000 [00:00<?, ?it/s]"
      ]
     },
     "metadata": {},
     "output_type": "display_data"
    },
    {
     "data": {
      "application/vnd.jupyter.widget-view+json": {
       "model_id": "a3f52318e3224a9eb2bde0f7ffdc9652",
       "version_major": 2,
       "version_minor": 0
      },
      "text/plain": [
       "time step:   0%|          | 0/10000 [00:00<?, ?it/s]"
      ]
     },
     "metadata": {},
     "output_type": "display_data"
    },
    {
     "data": {
      "application/vnd.jupyter.widget-view+json": {
       "model_id": "437104a0cb0b4c6d8675651441a9f928",
       "version_major": 2,
       "version_minor": 0
      },
      "text/plain": [
       "time step:   0%|          | 0/10000 [00:00<?, ?it/s]"
      ]
     },
     "metadata": {},
     "output_type": "display_data"
    },
    {
     "data": {
      "application/vnd.jupyter.widget-view+json": {
       "model_id": "9c5caebf60dc471ca4435ee1307bde5e",
       "version_major": 2,
       "version_minor": 0
      },
      "text/plain": [
       "time step:   0%|          | 0/10000 [00:00<?, ?it/s]"
      ]
     },
     "metadata": {},
     "output_type": "display_data"
    },
    {
     "data": {
      "application/vnd.jupyter.widget-view+json": {
       "model_id": "b07e1538dd7e4ba5bbea7da99f9403b1",
       "version_major": 2,
       "version_minor": 0
      },
      "text/plain": [
       "time step:   0%|          | 0/10000 [00:00<?, ?it/s]"
      ]
     },
     "metadata": {},
     "output_type": "display_data"
    },
    {
     "data": {
      "application/vnd.jupyter.widget-view+json": {
       "model_id": "2cc3931da5d247f086e6a3e74e9ddc10",
       "version_major": 2,
       "version_minor": 0
      },
      "text/plain": [
       "time step:   0%|          | 0/10000 [00:00<?, ?it/s]"
      ]
     },
     "metadata": {},
     "output_type": "display_data"
    },
    {
     "data": {
      "application/vnd.jupyter.widget-view+json": {
       "model_id": "021f2da06c7d4c85a03eced5ee201c1d",
       "version_major": 2,
       "version_minor": 0
      },
      "text/plain": [
       "time step:   0%|          | 0/10000 [00:00<?, ?it/s]"
      ]
     },
     "metadata": {},
     "output_type": "display_data"
    },
    {
     "data": {
      "application/vnd.jupyter.widget-view+json": {
       "model_id": "9b629eeef58643828fd2669a71e1ef60",
       "version_major": 2,
       "version_minor": 0
      },
      "text/plain": [
       "time step:   0%|          | 0/10000 [00:00<?, ?it/s]"
      ]
     },
     "metadata": {},
     "output_type": "display_data"
    },
    {
     "data": {
      "application/vnd.jupyter.widget-view+json": {
       "model_id": "0c1d6178d75b40888e37ab5ae2c6f494",
       "version_major": 2,
       "version_minor": 0
      },
      "text/plain": [
       "time step:   0%|          | 0/10000 [00:00<?, ?it/s]"
      ]
     },
     "metadata": {},
     "output_type": "display_data"
    },
    {
     "data": {
      "application/vnd.jupyter.widget-view+json": {
       "model_id": "28e300cc96b34157aa260d2ecd01ecef",
       "version_major": 2,
       "version_minor": 0
      },
      "text/plain": [
       "time step:   0%|          | 0/10000 [00:00<?, ?it/s]"
      ]
     },
     "metadata": {},
     "output_type": "display_data"
    },
    {
     "data": {
      "application/vnd.jupyter.widget-view+json": {
       "model_id": "ec698511e7df4ababf321aef1787ff61",
       "version_major": 2,
       "version_minor": 0
      },
      "text/plain": [
       "time step:   0%|          | 0/10000 [00:00<?, ?it/s]"
      ]
     },
     "metadata": {},
     "output_type": "display_data"
    },
    {
     "data": {
      "application/vnd.jupyter.widget-view+json": {
       "model_id": "2c71dc57c5b04224a94ed80e86b87132",
       "version_major": 2,
       "version_minor": 0
      },
      "text/plain": [
       "time step:   0%|          | 0/10000 [00:00<?, ?it/s]"
      ]
     },
     "metadata": {},
     "output_type": "display_data"
    },
    {
     "data": {
      "application/vnd.jupyter.widget-view+json": {
       "model_id": "b37b4a780924473c91ebd9d8beed9ff6",
       "version_major": 2,
       "version_minor": 0
      },
      "text/plain": [
       "time step:   0%|          | 0/10000 [00:00<?, ?it/s]"
      ]
     },
     "metadata": {},
     "output_type": "display_data"
    },
    {
     "data": {
      "application/vnd.jupyter.widget-view+json": {
       "model_id": "570696e2c1184a1ba11c884d8530f8a1",
       "version_major": 2,
       "version_minor": 0
      },
      "text/plain": [
       "time step:   0%|          | 0/10000 [00:00<?, ?it/s]"
      ]
     },
     "metadata": {},
     "output_type": "display_data"
    },
    {
     "data": {
      "application/vnd.jupyter.widget-view+json": {
       "model_id": "fc4ba6d988b845509b5eded80b10680b",
       "version_major": 2,
       "version_minor": 0
      },
      "text/plain": [
       "time step:   0%|          | 0/10000 [00:00<?, ?it/s]"
      ]
     },
     "metadata": {},
     "output_type": "display_data"
    },
    {
     "data": {
      "application/vnd.jupyter.widget-view+json": {
       "model_id": "90ff03fdbd2a4265a351201e51e0fcc4",
       "version_major": 2,
       "version_minor": 0
      },
      "text/plain": [
       "time step:   0%|          | 0/10000 [00:00<?, ?it/s]"
      ]
     },
     "metadata": {},
     "output_type": "display_data"
    },
    {
     "data": {
      "application/vnd.jupyter.widget-view+json": {
       "model_id": "86f04e3d023f4c36ad346acb53857b15",
       "version_major": 2,
       "version_minor": 0
      },
      "text/plain": [
       "time step:   0%|          | 0/10000 [00:00<?, ?it/s]"
      ]
     },
     "metadata": {},
     "output_type": "display_data"
    },
    {
     "data": {
      "application/vnd.jupyter.widget-view+json": {
       "model_id": "dc2f250fd2da4506a8660676df86fa10",
       "version_major": 2,
       "version_minor": 0
      },
      "text/plain": [
       "time step:   0%|          | 0/10000 [00:00<?, ?it/s]"
      ]
     },
     "metadata": {},
     "output_type": "display_data"
    },
    {
     "data": {
      "application/vnd.jupyter.widget-view+json": {
       "model_id": "054d1e8c48a34bab9f3dedf61e74894d",
       "version_major": 2,
       "version_minor": 0
      },
      "text/plain": [
       "time step:   0%|          | 0/10000 [00:00<?, ?it/s]"
      ]
     },
     "metadata": {},
     "output_type": "display_data"
    },
    {
     "data": {
      "application/vnd.jupyter.widget-view+json": {
       "model_id": "eba44c2880ec419f8347c1acbf2775bd",
       "version_major": 2,
       "version_minor": 0
      },
      "text/plain": [
       "time step:   0%|          | 0/10000 [00:00<?, ?it/s]"
      ]
     },
     "metadata": {},
     "output_type": "display_data"
    },
    {
     "data": {
      "application/vnd.jupyter.widget-view+json": {
       "model_id": "36b39e91fc374ba39f4a8ce2da767e62",
       "version_major": 2,
       "version_minor": 0
      },
      "text/plain": [
       "time step:   0%|          | 0/10000 [00:00<?, ?it/s]"
      ]
     },
     "metadata": {},
     "output_type": "display_data"
    },
    {
     "data": {
      "application/vnd.jupyter.widget-view+json": {
       "model_id": "b4025dc2d95147b6a8e012111f8cb0a1",
       "version_major": 2,
       "version_minor": 0
      },
      "text/plain": [
       "time step:   0%|          | 0/10000 [00:00<?, ?it/s]"
      ]
     },
     "metadata": {},
     "output_type": "display_data"
    },
    {
     "data": {
      "application/vnd.jupyter.widget-view+json": {
       "model_id": "9fd2ad89a79546b7af1e7f14c7f06e23",
       "version_major": 2,
       "version_minor": 0
      },
      "text/plain": [
       "time step:   0%|          | 0/10000 [00:00<?, ?it/s]"
      ]
     },
     "metadata": {},
     "output_type": "display_data"
    },
    {
     "data": {
      "application/vnd.jupyter.widget-view+json": {
       "model_id": "1207720eabfd42cfbc9a9e49a9eea5c5",
       "version_major": 2,
       "version_minor": 0
      },
      "text/plain": [
       "time step:   0%|          | 0/10000 [00:00<?, ?it/s]"
      ]
     },
     "metadata": {},
     "output_type": "display_data"
    },
    {
     "data": {
      "application/vnd.jupyter.widget-view+json": {
       "model_id": "e5d8345fcafe4a7aa4122b0409b5cb5b",
       "version_major": 2,
       "version_minor": 0
      },
      "text/plain": [
       "time step:   0%|          | 0/10000 [00:00<?, ?it/s]"
      ]
     },
     "metadata": {},
     "output_type": "display_data"
    },
    {
     "data": {
      "application/vnd.jupyter.widget-view+json": {
       "model_id": "728f110364db439f88a3f23ce2ccb36f",
       "version_major": 2,
       "version_minor": 0
      },
      "text/plain": [
       "time step:   0%|          | 0/10000 [00:00<?, ?it/s]"
      ]
     },
     "metadata": {},
     "output_type": "display_data"
    },
    {
     "data": {
      "application/vnd.jupyter.widget-view+json": {
       "model_id": "da8ffbb894ee4e22b609350331c4b3a0",
       "version_major": 2,
       "version_minor": 0
      },
      "text/plain": [
       "time step:   0%|          | 0/10000 [00:00<?, ?it/s]"
      ]
     },
     "metadata": {},
     "output_type": "display_data"
    },
    {
     "data": {
      "application/vnd.jupyter.widget-view+json": {
       "model_id": "7fa7c8e2d1794c6598d948c670a01c4d",
       "version_major": 2,
       "version_minor": 0
      },
      "text/plain": [
       "time step:   0%|          | 0/10000 [00:00<?, ?it/s]"
      ]
     },
     "metadata": {},
     "output_type": "display_data"
    },
    {
     "data": {
      "application/vnd.jupyter.widget-view+json": {
       "model_id": "52ffc650ed634f089bfc4538c3cab9f9",
       "version_major": 2,
       "version_minor": 0
      },
      "text/plain": [
       "time step:   0%|          | 0/10000 [00:00<?, ?it/s]"
      ]
     },
     "metadata": {},
     "output_type": "display_data"
    },
    {
     "data": {
      "application/vnd.jupyter.widget-view+json": {
       "model_id": "a83f353fe0f447668cfb0e5623e2a9eb",
       "version_major": 2,
       "version_minor": 0
      },
      "text/plain": [
       "time step:   0%|          | 0/10000 [00:00<?, ?it/s]"
      ]
     },
     "metadata": {},
     "output_type": "display_data"
    },
    {
     "data": {
      "application/vnd.jupyter.widget-view+json": {
       "model_id": "db1f035fd5434da983add39c13eee59d",
       "version_major": 2,
       "version_minor": 0
      },
      "text/plain": [
       "time step:   0%|          | 0/10000 [00:00<?, ?it/s]"
      ]
     },
     "metadata": {},
     "output_type": "display_data"
    },
    {
     "data": {
      "application/vnd.jupyter.widget-view+json": {
       "model_id": "5f3a047c9a49425db080429cdb028bb8",
       "version_major": 2,
       "version_minor": 0
      },
      "text/plain": [
       "time step:   0%|          | 0/10000 [00:00<?, ?it/s]"
      ]
     },
     "metadata": {},
     "output_type": "display_data"
    },
    {
     "data": {
      "application/vnd.jupyter.widget-view+json": {
       "model_id": "d523d3eae1e0483d8e6238ea361647f3",
       "version_major": 2,
       "version_minor": 0
      },
      "text/plain": [
       "time step:   0%|          | 0/10000 [00:00<?, ?it/s]"
      ]
     },
     "metadata": {},
     "output_type": "display_data"
    },
    {
     "data": {
      "application/vnd.jupyter.widget-view+json": {
       "model_id": "2c7f8e63124a41d1966ff81adcbe7888",
       "version_major": 2,
       "version_minor": 0
      },
      "text/plain": [
       "time step:   0%|          | 0/10000 [00:00<?, ?it/s]"
      ]
     },
     "metadata": {},
     "output_type": "display_data"
    },
    {
     "data": {
      "application/vnd.jupyter.widget-view+json": {
       "model_id": "a187c9b4b2194d26a1c321dd34e09673",
       "version_major": 2,
       "version_minor": 0
      },
      "text/plain": [
       "time step:   0%|          | 0/10000 [00:00<?, ?it/s]"
      ]
     },
     "metadata": {},
     "output_type": "display_data"
    },
    {
     "data": {
      "application/vnd.jupyter.widget-view+json": {
       "model_id": "defd54dd977746a19adc438da4d47f5f",
       "version_major": 2,
       "version_minor": 0
      },
      "text/plain": [
       "time step:   0%|          | 0/10000 [00:00<?, ?it/s]"
      ]
     },
     "metadata": {},
     "output_type": "display_data"
    },
    {
     "data": {
      "application/vnd.jupyter.widget-view+json": {
       "model_id": "a44d7647d7964c448121e25a5cbb87b5",
       "version_major": 2,
       "version_minor": 0
      },
      "text/plain": [
       "time step:   0%|          | 0/10000 [00:00<?, ?it/s]"
      ]
     },
     "metadata": {},
     "output_type": "display_data"
    },
    {
     "data": {
      "application/vnd.jupyter.widget-view+json": {
       "model_id": "27d7623619204127ad4870b36258f026",
       "version_major": 2,
       "version_minor": 0
      },
      "text/plain": [
       "time step:   0%|          | 0/10000 [00:00<?, ?it/s]"
      ]
     },
     "metadata": {},
     "output_type": "display_data"
    },
    {
     "data": {
      "application/vnd.jupyter.widget-view+json": {
       "model_id": "c3f12e0b0ed1469daed83cb6fc82e65e",
       "version_major": 2,
       "version_minor": 0
      },
      "text/plain": [
       "time step:   0%|          | 0/10000 [00:00<?, ?it/s]"
      ]
     },
     "metadata": {},
     "output_type": "display_data"
    },
    {
     "data": {
      "application/vnd.jupyter.widget-view+json": {
       "model_id": "0863e8a6cb8a4e438768c8f50ff8ce0e",
       "version_major": 2,
       "version_minor": 0
      },
      "text/plain": [
       "time step:   0%|          | 0/10000 [00:00<?, ?it/s]"
      ]
     },
     "metadata": {},
     "output_type": "display_data"
    },
    {
     "data": {
      "application/vnd.jupyter.widget-view+json": {
       "model_id": "e9e59cb1201443a7b27743123077ba2b",
       "version_major": 2,
       "version_minor": 0
      },
      "text/plain": [
       "time step:   0%|          | 0/10000 [00:00<?, ?it/s]"
      ]
     },
     "metadata": {},
     "output_type": "display_data"
    },
    {
     "data": {
      "application/vnd.jupyter.widget-view+json": {
       "model_id": "3a2afa1c75f54b2ea4bbbefb843f7739",
       "version_major": 2,
       "version_minor": 0
      },
      "text/plain": [
       "time step:   0%|          | 0/10000 [00:00<?, ?it/s]"
      ]
     },
     "metadata": {},
     "output_type": "display_data"
    },
    {
     "data": {
      "application/vnd.jupyter.widget-view+json": {
       "model_id": "ba88880229064fe0810cda0ff674485a",
       "version_major": 2,
       "version_minor": 0
      },
      "text/plain": [
       "time step:   0%|          | 0/10000 [00:00<?, ?it/s]"
      ]
     },
     "metadata": {},
     "output_type": "display_data"
    },
    {
     "data": {
      "application/vnd.jupyter.widget-view+json": {
       "model_id": "e7275f7044e345149fd04878eee5f2bb",
       "version_major": 2,
       "version_minor": 0
      },
      "text/plain": [
       "time step:   0%|          | 0/10000 [00:00<?, ?it/s]"
      ]
     },
     "metadata": {},
     "output_type": "display_data"
    },
    {
     "data": {
      "application/vnd.jupyter.widget-view+json": {
       "model_id": "8f345b2e1bc5497f8914b45d6b8a14fc",
       "version_major": 2,
       "version_minor": 0
      },
      "text/plain": [
       "time step:   0%|          | 0/10000 [00:00<?, ?it/s]"
      ]
     },
     "metadata": {},
     "output_type": "display_data"
    },
    {
     "data": {
      "application/vnd.jupyter.widget-view+json": {
       "model_id": "2168173a50c8428993ec6e00f64d6b5d",
       "version_major": 2,
       "version_minor": 0
      },
      "text/plain": [
       "time step:   0%|          | 0/10000 [00:00<?, ?it/s]"
      ]
     },
     "metadata": {},
     "output_type": "display_data"
    },
    {
     "data": {
      "application/vnd.jupyter.widget-view+json": {
       "model_id": "1c05176b0f994506ae5f76d984f31c71",
       "version_major": 2,
       "version_minor": 0
      },
      "text/plain": [
       "time step:   0%|          | 0/10000 [00:00<?, ?it/s]"
      ]
     },
     "metadata": {},
     "output_type": "display_data"
    },
    {
     "data": {
      "application/vnd.jupyter.widget-view+json": {
       "model_id": "3ad3de4e254c40a8a5adf43cf42042d6",
       "version_major": 2,
       "version_minor": 0
      },
      "text/plain": [
       "time step:   0%|          | 0/10000 [00:00<?, ?it/s]"
      ]
     },
     "metadata": {},
     "output_type": "display_data"
    },
    {
     "data": {
      "application/vnd.jupyter.widget-view+json": {
       "model_id": "f52c0eddcc21488684c191580c4bb4aa",
       "version_major": 2,
       "version_minor": 0
      },
      "text/plain": [
       "time step:   0%|          | 0/10000 [00:00<?, ?it/s]"
      ]
     },
     "metadata": {},
     "output_type": "display_data"
    },
    {
     "data": {
      "application/vnd.jupyter.widget-view+json": {
       "model_id": "9bd7d71084854fbbad2b5254940addaa",
       "version_major": 2,
       "version_minor": 0
      },
      "text/plain": [
       "time step:   0%|          | 0/10000 [00:00<?, ?it/s]"
      ]
     },
     "metadata": {},
     "output_type": "display_data"
    },
    {
     "data": {
      "application/vnd.jupyter.widget-view+json": {
       "model_id": "c03e220043f246bcab97caadaf049101",
       "version_major": 2,
       "version_minor": 0
      },
      "text/plain": [
       "time step:   0%|          | 0/10000 [00:00<?, ?it/s]"
      ]
     },
     "metadata": {},
     "output_type": "display_data"
    },
    {
     "data": {
      "application/vnd.jupyter.widget-view+json": {
       "model_id": "6de68d411511478d8911245b99d79186",
       "version_major": 2,
       "version_minor": 0
      },
      "text/plain": [
       "time step:   0%|          | 0/10000 [00:00<?, ?it/s]"
      ]
     },
     "metadata": {},
     "output_type": "display_data"
    },
    {
     "data": {
      "application/vnd.jupyter.widget-view+json": {
       "model_id": "1c065ff9eeba47a0ba745fff03e98a46",
       "version_major": 2,
       "version_minor": 0
      },
      "text/plain": [
       "time step:   0%|          | 0/10000 [00:00<?, ?it/s]"
      ]
     },
     "metadata": {},
     "output_type": "display_data"
    },
    {
     "data": {
      "application/vnd.jupyter.widget-view+json": {
       "model_id": "628635feb0204ab5a9a758b455e44cc4",
       "version_major": 2,
       "version_minor": 0
      },
      "text/plain": [
       "time step:   0%|          | 0/10000 [00:00<?, ?it/s]"
      ]
     },
     "metadata": {},
     "output_type": "display_data"
    },
    {
     "data": {
      "application/vnd.jupyter.widget-view+json": {
       "model_id": "6b41340f5fc8422d9afefba9fb96432f",
       "version_major": 2,
       "version_minor": 0
      },
      "text/plain": [
       "time step:   0%|          | 0/10000 [00:00<?, ?it/s]"
      ]
     },
     "metadata": {},
     "output_type": "display_data"
    },
    {
     "data": {
      "application/vnd.jupyter.widget-view+json": {
       "model_id": "96928e5532a844608cdcbe55912896e4",
       "version_major": 2,
       "version_minor": 0
      },
      "text/plain": [
       "time step:   0%|          | 0/10000 [00:00<?, ?it/s]"
      ]
     },
     "metadata": {},
     "output_type": "display_data"
    },
    {
     "data": {
      "application/vnd.jupyter.widget-view+json": {
       "model_id": "7733f721f34f4870a65d725a22546d7b",
       "version_major": 2,
       "version_minor": 0
      },
      "text/plain": [
       "time step:   0%|          | 0/10000 [00:00<?, ?it/s]"
      ]
     },
     "metadata": {},
     "output_type": "display_data"
    },
    {
     "data": {
      "application/vnd.jupyter.widget-view+json": {
       "model_id": "2dd8c018fd9b40a199a54431e11dad28",
       "version_major": 2,
       "version_minor": 0
      },
      "text/plain": [
       "time step:   0%|          | 0/10000 [00:00<?, ?it/s]"
      ]
     },
     "metadata": {},
     "output_type": "display_data"
    },
    {
     "data": {
      "application/vnd.jupyter.widget-view+json": {
       "model_id": "c8d13cb56dc84c8ca3066e7e6b5fdc37",
       "version_major": 2,
       "version_minor": 0
      },
      "text/plain": [
       "time step:   0%|          | 0/10000 [00:00<?, ?it/s]"
      ]
     },
     "metadata": {},
     "output_type": "display_data"
    },
    {
     "data": {
      "application/vnd.jupyter.widget-view+json": {
       "model_id": "2913525c97544538849bbc1d4ba5547c",
       "version_major": 2,
       "version_minor": 0
      },
      "text/plain": [
       "time step:   0%|          | 0/10000 [00:00<?, ?it/s]"
      ]
     },
     "metadata": {},
     "output_type": "display_data"
    },
    {
     "data": {
      "application/vnd.jupyter.widget-view+json": {
       "model_id": "1cc99e02a4f84c65ab6dd3374eba4bfa",
       "version_major": 2,
       "version_minor": 0
      },
      "text/plain": [
       "time step:   0%|          | 0/10000 [00:00<?, ?it/s]"
      ]
     },
     "metadata": {},
     "output_type": "display_data"
    },
    {
     "data": {
      "application/vnd.jupyter.widget-view+json": {
       "model_id": "6dbc776fc5e54f669d6b58851ce7b8e2",
       "version_major": 2,
       "version_minor": 0
      },
      "text/plain": [
       "time step:   0%|          | 0/10000 [00:00<?, ?it/s]"
      ]
     },
     "metadata": {},
     "output_type": "display_data"
    },
    {
     "data": {
      "application/vnd.jupyter.widget-view+json": {
       "model_id": "bb5f09657a7c4c8f9e14f1540cacb213",
       "version_major": 2,
       "version_minor": 0
      },
      "text/plain": [
       "time step:   0%|          | 0/10000 [00:00<?, ?it/s]"
      ]
     },
     "metadata": {},
     "output_type": "display_data"
    },
    {
     "data": {
      "application/vnd.jupyter.widget-view+json": {
       "model_id": "ae4fb24188bb4e1cb01b911f313bfad9",
       "version_major": 2,
       "version_minor": 0
      },
      "text/plain": [
       "time step:   0%|          | 0/10000 [00:00<?, ?it/s]"
      ]
     },
     "metadata": {},
     "output_type": "display_data"
    },
    {
     "data": {
      "application/vnd.jupyter.widget-view+json": {
       "model_id": "efa002a9dce54e8ba858c23980e5c3c9",
       "version_major": 2,
       "version_minor": 0
      },
      "text/plain": [
       "time step:   0%|          | 0/10000 [00:00<?, ?it/s]"
      ]
     },
     "metadata": {},
     "output_type": "display_data"
    },
    {
     "data": {
      "application/vnd.jupyter.widget-view+json": {
       "model_id": "d475ef2d098c44638edb76f2e1a88e04",
       "version_major": 2,
       "version_minor": 0
      },
      "text/plain": [
       "time step:   0%|          | 0/10000 [00:00<?, ?it/s]"
      ]
     },
     "metadata": {},
     "output_type": "display_data"
    },
    {
     "data": {
      "application/vnd.jupyter.widget-view+json": {
       "model_id": "b9c3c898fdd14e3ea7c7e63406a7af0c",
       "version_major": 2,
       "version_minor": 0
      },
      "text/plain": [
       "time step:   0%|          | 0/10000 [00:00<?, ?it/s]"
      ]
     },
     "metadata": {},
     "output_type": "display_data"
    },
    {
     "data": {
      "application/vnd.jupyter.widget-view+json": {
       "model_id": "4358546ac801437fa7220862edb453b8",
       "version_major": 2,
       "version_minor": 0
      },
      "text/plain": [
       "time step:   0%|          | 0/10000 [00:00<?, ?it/s]"
      ]
     },
     "metadata": {},
     "output_type": "display_data"
    },
    {
     "data": {
      "application/vnd.jupyter.widget-view+json": {
       "model_id": "051805ba09f7448b83b7c48e8a114c8f",
       "version_major": 2,
       "version_minor": 0
      },
      "text/plain": [
       "time step:   0%|          | 0/10000 [00:00<?, ?it/s]"
      ]
     },
     "metadata": {},
     "output_type": "display_data"
    },
    {
     "data": {
      "application/vnd.jupyter.widget-view+json": {
       "model_id": "aa2b7d8d43324f3da1e82046b39f39e2",
       "version_major": 2,
       "version_minor": 0
      },
      "text/plain": [
       "time step:   0%|          | 0/10000 [00:00<?, ?it/s]"
      ]
     },
     "metadata": {},
     "output_type": "display_data"
    },
    {
     "data": {
      "application/vnd.jupyter.widget-view+json": {
       "model_id": "77b347baab2e4df0ac3fbf174414f8f3",
       "version_major": 2,
       "version_minor": 0
      },
      "text/plain": [
       "time step:   0%|          | 0/10000 [00:00<?, ?it/s]"
      ]
     },
     "metadata": {},
     "output_type": "display_data"
    },
    {
     "data": {
      "application/vnd.jupyter.widget-view+json": {
       "model_id": "8eb0109940c94dfe85605ecea6e94e0f",
       "version_major": 2,
       "version_minor": 0
      },
      "text/plain": [
       "time step:   0%|          | 0/10000 [00:00<?, ?it/s]"
      ]
     },
     "metadata": {},
     "output_type": "display_data"
    },
    {
     "data": {
      "application/vnd.jupyter.widget-view+json": {
       "model_id": "1380f7fff6974870804e3feb2680bcda",
       "version_major": 2,
       "version_minor": 0
      },
      "text/plain": [
       "time step:   0%|          | 0/10000 [00:00<?, ?it/s]"
      ]
     },
     "metadata": {},
     "output_type": "display_data"
    },
    {
     "data": {
      "application/vnd.jupyter.widget-view+json": {
       "model_id": "25d0ebf7c1d8408d8f8a08b7296f8acd",
       "version_major": 2,
       "version_minor": 0
      },
      "text/plain": [
       "time step:   0%|          | 0/10000 [00:00<?, ?it/s]"
      ]
     },
     "metadata": {},
     "output_type": "display_data"
    },
    {
     "data": {
      "application/vnd.jupyter.widget-view+json": {
       "model_id": "0e840b9ab38c4a728693217192af7422",
       "version_major": 2,
       "version_minor": 0
      },
      "text/plain": [
       "time step:   0%|          | 0/10000 [00:00<?, ?it/s]"
      ]
     },
     "metadata": {},
     "output_type": "display_data"
    },
    {
     "data": {
      "application/vnd.jupyter.widget-view+json": {
       "model_id": "c731b6377be8459f8a59069158481f78",
       "version_major": 2,
       "version_minor": 0
      },
      "text/plain": [
       "time step:   0%|          | 0/10000 [00:00<?, ?it/s]"
      ]
     },
     "metadata": {},
     "output_type": "display_data"
    },
    {
     "data": {
      "application/vnd.jupyter.widget-view+json": {
       "model_id": "5ac5ac7262ca42669f0381853877f97a",
       "version_major": 2,
       "version_minor": 0
      },
      "text/plain": [
       "time step:   0%|          | 0/10000 [00:00<?, ?it/s]"
      ]
     },
     "metadata": {},
     "output_type": "display_data"
    },
    {
     "data": {
      "application/vnd.jupyter.widget-view+json": {
       "model_id": "8b310d03e7f141f1a4989a07535a2106",
       "version_major": 2,
       "version_minor": 0
      },
      "text/plain": [
       "time step:   0%|          | 0/10000 [00:00<?, ?it/s]"
      ]
     },
     "metadata": {},
     "output_type": "display_data"
    },
    {
     "data": {
      "application/vnd.jupyter.widget-view+json": {
       "model_id": "1349cbc884f046b9a4189994228306da",
       "version_major": 2,
       "version_minor": 0
      },
      "text/plain": [
       "time step:   0%|          | 0/10000 [00:00<?, ?it/s]"
      ]
     },
     "metadata": {},
     "output_type": "display_data"
    },
    {
     "data": {
      "application/vnd.jupyter.widget-view+json": {
       "model_id": "c2900cd036944aec9880366a728719d6",
       "version_major": 2,
       "version_minor": 0
      },
      "text/plain": [
       "time step:   0%|          | 0/10000 [00:00<?, ?it/s]"
      ]
     },
     "metadata": {},
     "output_type": "display_data"
    },
    {
     "data": {
      "application/vnd.jupyter.widget-view+json": {
       "model_id": "bc0519bad39e47ac9334ee64a1255714",
       "version_major": 2,
       "version_minor": 0
      },
      "text/plain": [
       "time step:   0%|          | 0/10000 [00:00<?, ?it/s]"
      ]
     },
     "metadata": {},
     "output_type": "display_data"
    },
    {
     "data": {
      "application/vnd.jupyter.widget-view+json": {
       "model_id": "efdc9f14c2964b8797ed7df6946c4166",
       "version_major": 2,
       "version_minor": 0
      },
      "text/plain": [
       "time step:   0%|          | 0/10000 [00:00<?, ?it/s]"
      ]
     },
     "metadata": {},
     "output_type": "display_data"
    },
    {
     "data": {
      "application/vnd.jupyter.widget-view+json": {
       "model_id": "0701434296fe4400a453498dd8e8a2d3",
       "version_major": 2,
       "version_minor": 0
      },
      "text/plain": [
       "time step:   0%|          | 0/10000 [00:00<?, ?it/s]"
      ]
     },
     "metadata": {},
     "output_type": "display_data"
    },
    {
     "data": {
      "application/vnd.jupyter.widget-view+json": {
       "model_id": "fa0b77c1f06946a8922c0dabdd931222",
       "version_major": 2,
       "version_minor": 0
      },
      "text/plain": [
       "time step:   0%|          | 0/10000 [00:00<?, ?it/s]"
      ]
     },
     "metadata": {},
     "output_type": "display_data"
    },
    {
     "data": {
      "application/vnd.jupyter.widget-view+json": {
       "model_id": "8c33648b8df14081b575eab75c648fe3",
       "version_major": 2,
       "version_minor": 0
      },
      "text/plain": [
       "time step:   0%|          | 0/10000 [00:00<?, ?it/s]"
      ]
     },
     "metadata": {},
     "output_type": "display_data"
    },
    {
     "data": {
      "application/vnd.jupyter.widget-view+json": {
       "model_id": "dbb6d20201f84e02b1a609b4e940266e",
       "version_major": 2,
       "version_minor": 0
      },
      "text/plain": [
       "time step:   0%|          | 0/10000 [00:00<?, ?it/s]"
      ]
     },
     "metadata": {},
     "output_type": "display_data"
    },
    {
     "data": {
      "application/vnd.jupyter.widget-view+json": {
       "model_id": "8331f7ca67ea428aac9bbd85b4cc5a3d",
       "version_major": 2,
       "version_minor": 0
      },
      "text/plain": [
       "time step:   0%|          | 0/10000 [00:00<?, ?it/s]"
      ]
     },
     "metadata": {},
     "output_type": "display_data"
    },
    {
     "data": {
      "application/vnd.jupyter.widget-view+json": {
       "model_id": "4e4ecce377844889963e5c7dbba17bc1",
       "version_major": 2,
       "version_minor": 0
      },
      "text/plain": [
       "time step:   0%|          | 0/10000 [00:00<?, ?it/s]"
      ]
     },
     "metadata": {},
     "output_type": "display_data"
    },
    {
     "data": {
      "application/vnd.jupyter.widget-view+json": {
       "model_id": "c3a305bbcd60404daccae5a4cdbc35e1",
       "version_major": 2,
       "version_minor": 0
      },
      "text/plain": [
       "time step:   0%|          | 0/10000 [00:00<?, ?it/s]"
      ]
     },
     "metadata": {},
     "output_type": "display_data"
    },
    {
     "data": {
      "application/vnd.jupyter.widget-view+json": {
       "model_id": "6064e6e008764fa39cb091fb42d60ef0",
       "version_major": 2,
       "version_minor": 0
      },
      "text/plain": [
       "time step:   0%|          | 0/10000 [00:00<?, ?it/s]"
      ]
     },
     "metadata": {},
     "output_type": "display_data"
    },
    {
     "data": {
      "application/vnd.jupyter.widget-view+json": {
       "model_id": "4d59f92a8856465897a3d26a022e7e0a",
       "version_major": 2,
       "version_minor": 0
      },
      "text/plain": [
       "time step:   0%|          | 0/10000 [00:00<?, ?it/s]"
      ]
     },
     "metadata": {},
     "output_type": "display_data"
    },
    {
     "data": {
      "application/vnd.jupyter.widget-view+json": {
       "model_id": "1d1364a7807743c5a6ba3e9e6931931a",
       "version_major": 2,
       "version_minor": 0
      },
      "text/plain": [
       "time step:   0%|          | 0/10000 [00:00<?, ?it/s]"
      ]
     },
     "metadata": {},
     "output_type": "display_data"
    },
    {
     "data": {
      "application/vnd.jupyter.widget-view+json": {
       "model_id": "1ca022e840f047478aca82e096154ff8",
       "version_major": 2,
       "version_minor": 0
      },
      "text/plain": [
       "time step:   0%|          | 0/10000 [00:00<?, ?it/s]"
      ]
     },
     "metadata": {},
     "output_type": "display_data"
    },
    {
     "data": {
      "application/vnd.jupyter.widget-view+json": {
       "model_id": "20717face6e54296b31c293c00ec5d90",
       "version_major": 2,
       "version_minor": 0
      },
      "text/plain": [
       "time step:   0%|          | 0/10000 [00:00<?, ?it/s]"
      ]
     },
     "metadata": {},
     "output_type": "display_data"
    },
    {
     "data": {
      "application/vnd.jupyter.widget-view+json": {
       "model_id": "1b27c86e118f492fb10238034a0587d8",
       "version_major": 2,
       "version_minor": 0
      },
      "text/plain": [
       "time step:   0%|          | 0/10000 [00:00<?, ?it/s]"
      ]
     },
     "metadata": {},
     "output_type": "display_data"
    },
    {
     "data": {
      "application/vnd.jupyter.widget-view+json": {
       "model_id": "d4b06d2e392f4e8bb7b57558ea0d0530",
       "version_major": 2,
       "version_minor": 0
      },
      "text/plain": [
       "time step:   0%|          | 0/10000 [00:00<?, ?it/s]"
      ]
     },
     "metadata": {},
     "output_type": "display_data"
    },
    {
     "data": {
      "application/vnd.jupyter.widget-view+json": {
       "model_id": "c464357165ed453d92e50dc51d35c5b9",
       "version_major": 2,
       "version_minor": 0
      },
      "text/plain": [
       "time step:   0%|          | 0/10000 [00:00<?, ?it/s]"
      ]
     },
     "metadata": {},
     "output_type": "display_data"
    },
    {
     "data": {
      "application/vnd.jupyter.widget-view+json": {
       "model_id": "8aaec5e5f7fa41abad1a10065af8540d",
       "version_major": 2,
       "version_minor": 0
      },
      "text/plain": [
       "time step:   0%|          | 0/10000 [00:00<?, ?it/s]"
      ]
     },
     "metadata": {},
     "output_type": "display_data"
    },
    {
     "data": {
      "application/vnd.jupyter.widget-view+json": {
       "model_id": "b87ab80914854f89bb049e7dbd9bee3f",
       "version_major": 2,
       "version_minor": 0
      },
      "text/plain": [
       "time step:   0%|          | 0/10000 [00:00<?, ?it/s]"
      ]
     },
     "metadata": {},
     "output_type": "display_data"
    },
    {
     "data": {
      "application/vnd.jupyter.widget-view+json": {
       "model_id": "2b4f2b7de0c842f088201922076cb945",
       "version_major": 2,
       "version_minor": 0
      },
      "text/plain": [
       "time step:   0%|          | 0/10000 [00:00<?, ?it/s]"
      ]
     },
     "metadata": {},
     "output_type": "display_data"
    },
    {
     "data": {
      "application/vnd.jupyter.widget-view+json": {
       "model_id": "27df388e38944c08a519859e7d83d73d",
       "version_major": 2,
       "version_minor": 0
      },
      "text/plain": [
       "time step:   0%|          | 0/10000 [00:00<?, ?it/s]"
      ]
     },
     "metadata": {},
     "output_type": "display_data"
    },
    {
     "data": {
      "application/vnd.jupyter.widget-view+json": {
       "model_id": "bd653201a5f14ed689520f85a37d5405",
       "version_major": 2,
       "version_minor": 0
      },
      "text/plain": [
       "time step:   0%|          | 0/10000 [00:00<?, ?it/s]"
      ]
     },
     "metadata": {},
     "output_type": "display_data"
    },
    {
     "data": {
      "application/vnd.jupyter.widget-view+json": {
       "model_id": "0010fe51bd51450b9cdcc894f979f446",
       "version_major": 2,
       "version_minor": 0
      },
      "text/plain": [
       "time step:   0%|          | 0/10000 [00:00<?, ?it/s]"
      ]
     },
     "metadata": {},
     "output_type": "display_data"
    },
    {
     "data": {
      "application/vnd.jupyter.widget-view+json": {
       "model_id": "6b7258acc4f84e5ba6f54b3397396840",
       "version_major": 2,
       "version_minor": 0
      },
      "text/plain": [
       "time step:   0%|          | 0/10000 [00:00<?, ?it/s]"
      ]
     },
     "metadata": {},
     "output_type": "display_data"
    },
    {
     "data": {
      "application/vnd.jupyter.widget-view+json": {
       "model_id": "7456c45838b14baaa4f29c750cb617b3",
       "version_major": 2,
       "version_minor": 0
      },
      "text/plain": [
       "time step:   0%|          | 0/10000 [00:00<?, ?it/s]"
      ]
     },
     "metadata": {},
     "output_type": "display_data"
    },
    {
     "data": {
      "application/vnd.jupyter.widget-view+json": {
       "model_id": "cfde3cc33a8d4412847ccb0cbc269e31",
       "version_major": 2,
       "version_minor": 0
      },
      "text/plain": [
       "time step:   0%|          | 0/10000 [00:00<?, ?it/s]"
      ]
     },
     "metadata": {},
     "output_type": "display_data"
    },
    {
     "data": {
      "application/vnd.jupyter.widget-view+json": {
       "model_id": "43b232e776b34fe7aff1e1192ecd8501",
       "version_major": 2,
       "version_minor": 0
      },
      "text/plain": [
       "time step:   0%|          | 0/10000 [00:00<?, ?it/s]"
      ]
     },
     "metadata": {},
     "output_type": "display_data"
    },
    {
     "data": {
      "application/vnd.jupyter.widget-view+json": {
       "model_id": "8780c0309b2e43b78bae634d588633d5",
       "version_major": 2,
       "version_minor": 0
      },
      "text/plain": [
       "time step:   0%|          | 0/10000 [00:00<?, ?it/s]"
      ]
     },
     "metadata": {},
     "output_type": "display_data"
    },
    {
     "data": {
      "application/vnd.jupyter.widget-view+json": {
       "model_id": "e0ae55d139044d2e9247d7bc5e4bc1ba",
       "version_major": 2,
       "version_minor": 0
      },
      "text/plain": [
       "time step:   0%|          | 0/10000 [00:00<?, ?it/s]"
      ]
     },
     "metadata": {},
     "output_type": "display_data"
    },
    {
     "data": {
      "application/vnd.jupyter.widget-view+json": {
       "model_id": "77aa9f0072a24190b942abd04d68d8c9",
       "version_major": 2,
       "version_minor": 0
      },
      "text/plain": [
       "time step:   0%|          | 0/10000 [00:00<?, ?it/s]"
      ]
     },
     "metadata": {},
     "output_type": "display_data"
    },
    {
     "data": {
      "application/vnd.jupyter.widget-view+json": {
       "model_id": "1656ac40e4f846409fff2e7f998077ba",
       "version_major": 2,
       "version_minor": 0
      },
      "text/plain": [
       "time step:   0%|          | 0/10000 [00:00<?, ?it/s]"
      ]
     },
     "metadata": {},
     "output_type": "display_data"
    },
    {
     "data": {
      "application/vnd.jupyter.widget-view+json": {
       "model_id": "457bab2b67fb4df6b45755c6105a50a7",
       "version_major": 2,
       "version_minor": 0
      },
      "text/plain": [
       "time step:   0%|          | 0/10000 [00:00<?, ?it/s]"
      ]
     },
     "metadata": {},
     "output_type": "display_data"
    },
    {
     "data": {
      "application/vnd.jupyter.widget-view+json": {
       "model_id": "27c603cdcc1f481d80f3fb147c797bdd",
       "version_major": 2,
       "version_minor": 0
      },
      "text/plain": [
       "time step:   0%|          | 0/10000 [00:00<?, ?it/s]"
      ]
     },
     "metadata": {},
     "output_type": "display_data"
    },
    {
     "data": {
      "application/vnd.jupyter.widget-view+json": {
       "model_id": "3110149ecc1049018b5a109ab7c87abd",
       "version_major": 2,
       "version_minor": 0
      },
      "text/plain": [
       "time step:   0%|          | 0/10000 [00:00<?, ?it/s]"
      ]
     },
     "metadata": {},
     "output_type": "display_data"
    },
    {
     "data": {
      "application/vnd.jupyter.widget-view+json": {
       "model_id": "589c8f1d1bb94be19ccee5954a352ca0",
       "version_major": 2,
       "version_minor": 0
      },
      "text/plain": [
       "time step:   0%|          | 0/10000 [00:00<?, ?it/s]"
      ]
     },
     "metadata": {},
     "output_type": "display_data"
    },
    {
     "data": {
      "application/vnd.jupyter.widget-view+json": {
       "model_id": "17f372e3b10e417d94a011e6101b02d0",
       "version_major": 2,
       "version_minor": 0
      },
      "text/plain": [
       "time step:   0%|          | 0/10000 [00:00<?, ?it/s]"
      ]
     },
     "metadata": {},
     "output_type": "display_data"
    },
    {
     "data": {
      "application/vnd.jupyter.widget-view+json": {
       "model_id": "90a3bcff33e34590b1456bd23d13cf80",
       "version_major": 2,
       "version_minor": 0
      },
      "text/plain": [
       "time step:   0%|          | 0/10000 [00:00<?, ?it/s]"
      ]
     },
     "metadata": {},
     "output_type": "display_data"
    },
    {
     "data": {
      "application/vnd.jupyter.widget-view+json": {
       "model_id": "c63dc682f1c94ddaa8bd6e46b7425522",
       "version_major": 2,
       "version_minor": 0
      },
      "text/plain": [
       "time step:   0%|          | 0/10000 [00:00<?, ?it/s]"
      ]
     },
     "metadata": {},
     "output_type": "display_data"
    },
    {
     "data": {
      "application/vnd.jupyter.widget-view+json": {
       "model_id": "8bc1dec2a1d9473ba51b173abf2a5f83",
       "version_major": 2,
       "version_minor": 0
      },
      "text/plain": [
       "time step:   0%|          | 0/10000 [00:00<?, ?it/s]"
      ]
     },
     "metadata": {},
     "output_type": "display_data"
    },
    {
     "data": {
      "application/vnd.jupyter.widget-view+json": {
       "model_id": "d334a1eb735d44f9beb0a4f67c0e8961",
       "version_major": 2,
       "version_minor": 0
      },
      "text/plain": [
       "time step:   0%|          | 0/10000 [00:00<?, ?it/s]"
      ]
     },
     "metadata": {},
     "output_type": "display_data"
    },
    {
     "data": {
      "application/vnd.jupyter.widget-view+json": {
       "model_id": "201005e26d8041aa9a908a15fa56e7bd",
       "version_major": 2,
       "version_minor": 0
      },
      "text/plain": [
       "time step:   0%|          | 0/10000 [00:00<?, ?it/s]"
      ]
     },
     "metadata": {},
     "output_type": "display_data"
    },
    {
     "data": {
      "application/vnd.jupyter.widget-view+json": {
       "model_id": "af088a4eef0f4fa5b04842b6d9e20960",
       "version_major": 2,
       "version_minor": 0
      },
      "text/plain": [
       "time step:   0%|          | 0/10000 [00:00<?, ?it/s]"
      ]
     },
     "metadata": {},
     "output_type": "display_data"
    },
    {
     "data": {
      "application/vnd.jupyter.widget-view+json": {
       "model_id": "270e91900f854a22af26b4878d7da4ce",
       "version_major": 2,
       "version_minor": 0
      },
      "text/plain": [
       "time step:   0%|          | 0/10000 [00:00<?, ?it/s]"
      ]
     },
     "metadata": {},
     "output_type": "display_data"
    },
    {
     "data": {
      "application/vnd.jupyter.widget-view+json": {
       "model_id": "414c40d83efc44c69899f817f9aac338",
       "version_major": 2,
       "version_minor": 0
      },
      "text/plain": [
       "time step:   0%|          | 0/10000 [00:00<?, ?it/s]"
      ]
     },
     "metadata": {},
     "output_type": "display_data"
    },
    {
     "data": {
      "application/vnd.jupyter.widget-view+json": {
       "model_id": "3e5afeef9d164394861a3b14a12c8ae0",
       "version_major": 2,
       "version_minor": 0
      },
      "text/plain": [
       "time step:   0%|          | 0/10000 [00:00<?, ?it/s]"
      ]
     },
     "metadata": {},
     "output_type": "display_data"
    },
    {
     "data": {
      "application/vnd.jupyter.widget-view+json": {
       "model_id": "b0ad413d5d964af08cdf73c28d595f39",
       "version_major": 2,
       "version_minor": 0
      },
      "text/plain": [
       "time step:   0%|          | 0/10000 [00:00<?, ?it/s]"
      ]
     },
     "metadata": {},
     "output_type": "display_data"
    },
    {
     "data": {
      "application/vnd.jupyter.widget-view+json": {
       "model_id": "44526145298b4b31b5854bc39326fd03",
       "version_major": 2,
       "version_minor": 0
      },
      "text/plain": [
       "time step:   0%|          | 0/10000 [00:00<?, ?it/s]"
      ]
     },
     "metadata": {},
     "output_type": "display_data"
    },
    {
     "data": {
      "application/vnd.jupyter.widget-view+json": {
       "model_id": "c6d300b336ea485eb7697a03ba2dd746",
       "version_major": 2,
       "version_minor": 0
      },
      "text/plain": [
       "time step:   0%|          | 0/10000 [00:00<?, ?it/s]"
      ]
     },
     "metadata": {},
     "output_type": "display_data"
    },
    {
     "data": {
      "application/vnd.jupyter.widget-view+json": {
       "model_id": "12ca9cab68fd4821be50e1b7a09ac38a",
       "version_major": 2,
       "version_minor": 0
      },
      "text/plain": [
       "time step:   0%|          | 0/10000 [00:00<?, ?it/s]"
      ]
     },
     "metadata": {},
     "output_type": "display_data"
    },
    {
     "data": {
      "application/vnd.jupyter.widget-view+json": {
       "model_id": "67011cd485b1443d89b531e5b4a52459",
       "version_major": 2,
       "version_minor": 0
      },
      "text/plain": [
       "time step:   0%|          | 0/10000 [00:00<?, ?it/s]"
      ]
     },
     "metadata": {},
     "output_type": "display_data"
    },
    {
     "data": {
      "application/vnd.jupyter.widget-view+json": {
       "model_id": "a23754b37f3c40159374bb689c15953e",
       "version_major": 2,
       "version_minor": 0
      },
      "text/plain": [
       "time step:   0%|          | 0/10000 [00:00<?, ?it/s]"
      ]
     },
     "metadata": {},
     "output_type": "display_data"
    },
    {
     "data": {
      "application/vnd.jupyter.widget-view+json": {
       "model_id": "95160c4f306a40bfb48d864ee457a4fa",
       "version_major": 2,
       "version_minor": 0
      },
      "text/plain": [
       "time step:   0%|          | 0/10000 [00:00<?, ?it/s]"
      ]
     },
     "metadata": {},
     "output_type": "display_data"
    },
    {
     "data": {
      "application/vnd.jupyter.widget-view+json": {
       "model_id": "2a19513c91e64560a6ab6d5e08de1d73",
       "version_major": 2,
       "version_minor": 0
      },
      "text/plain": [
       "time step:   0%|          | 0/10000 [00:00<?, ?it/s]"
      ]
     },
     "metadata": {},
     "output_type": "display_data"
    },
    {
     "data": {
      "application/vnd.jupyter.widget-view+json": {
       "model_id": "99121d1ee7824a7e8bad36813e195b95",
       "version_major": 2,
       "version_minor": 0
      },
      "text/plain": [
       "time step:   0%|          | 0/10000 [00:00<?, ?it/s]"
      ]
     },
     "metadata": {},
     "output_type": "display_data"
    },
    {
     "data": {
      "application/vnd.jupyter.widget-view+json": {
       "model_id": "4452d4177fb449b09f0b295ba0c37e78",
       "version_major": 2,
       "version_minor": 0
      },
      "text/plain": [
       "time step:   0%|          | 0/10000 [00:00<?, ?it/s]"
      ]
     },
     "metadata": {},
     "output_type": "display_data"
    },
    {
     "data": {
      "application/vnd.jupyter.widget-view+json": {
       "model_id": "00a43407b51b47ccb28713123b8f158a",
       "version_major": 2,
       "version_minor": 0
      },
      "text/plain": [
       "time step:   0%|          | 0/10000 [00:00<?, ?it/s]"
      ]
     },
     "metadata": {},
     "output_type": "display_data"
    },
    {
     "data": {
      "application/vnd.jupyter.widget-view+json": {
       "model_id": "8d045c95578a49d5a55a3696808193db",
       "version_major": 2,
       "version_minor": 0
      },
      "text/plain": [
       "time step:   0%|          | 0/10000 [00:00<?, ?it/s]"
      ]
     },
     "metadata": {},
     "output_type": "display_data"
    },
    {
     "data": {
      "application/vnd.jupyter.widget-view+json": {
       "model_id": "d7d9f8d9c92a485e9d952eae18fc5bed",
       "version_major": 2,
       "version_minor": 0
      },
      "text/plain": [
       "time step:   0%|          | 0/10000 [00:00<?, ?it/s]"
      ]
     },
     "metadata": {},
     "output_type": "display_data"
    },
    {
     "data": {
      "application/vnd.jupyter.widget-view+json": {
       "model_id": "4504c79d909e4a2685bf67fa3909dce7",
       "version_major": 2,
       "version_minor": 0
      },
      "text/plain": [
       "time step:   0%|          | 0/10000 [00:00<?, ?it/s]"
      ]
     },
     "metadata": {},
     "output_type": "display_data"
    },
    {
     "data": {
      "application/vnd.jupyter.widget-view+json": {
       "model_id": "99ce13bfe8f94e60923b4a339a64f851",
       "version_major": 2,
       "version_minor": 0
      },
      "text/plain": [
       "time step:   0%|          | 0/10000 [00:00<?, ?it/s]"
      ]
     },
     "metadata": {},
     "output_type": "display_data"
    },
    {
     "data": {
      "application/vnd.jupyter.widget-view+json": {
       "model_id": "0eca386c24bf4c8da403e4117a2968d8",
       "version_major": 2,
       "version_minor": 0
      },
      "text/plain": [
       "time step:   0%|          | 0/10000 [00:00<?, ?it/s]"
      ]
     },
     "metadata": {},
     "output_type": "display_data"
    },
    {
     "data": {
      "application/vnd.jupyter.widget-view+json": {
       "model_id": "7df4cbb788c04418b0ea0ba6faec0913",
       "version_major": 2,
       "version_minor": 0
      },
      "text/plain": [
       "time step:   0%|          | 0/10000 [00:00<?, ?it/s]"
      ]
     },
     "metadata": {},
     "output_type": "display_data"
    },
    {
     "data": {
      "application/vnd.jupyter.widget-view+json": {
       "model_id": "361ebb34f0f34b928d4ba9ae777e63c1",
       "version_major": 2,
       "version_minor": 0
      },
      "text/plain": [
       "time step:   0%|          | 0/10000 [00:00<?, ?it/s]"
      ]
     },
     "metadata": {},
     "output_type": "display_data"
    },
    {
     "data": {
      "application/vnd.jupyter.widget-view+json": {
       "model_id": "ec6d85b32b73474d9bee4377c8d8f186",
       "version_major": 2,
       "version_minor": 0
      },
      "text/plain": [
       "time step:   0%|          | 0/10000 [00:00<?, ?it/s]"
      ]
     },
     "metadata": {},
     "output_type": "display_data"
    },
    {
     "data": {
      "application/vnd.jupyter.widget-view+json": {
       "model_id": "64a8ecb809804e41b756ec35c03d25b0",
       "version_major": 2,
       "version_minor": 0
      },
      "text/plain": [
       "time step:   0%|          | 0/10000 [00:00<?, ?it/s]"
      ]
     },
     "metadata": {},
     "output_type": "display_data"
    },
    {
     "data": {
      "application/vnd.jupyter.widget-view+json": {
       "model_id": "b60621d30ca84b90bd91fc5c82fa467c",
       "version_major": 2,
       "version_minor": 0
      },
      "text/plain": [
       "time step:   0%|          | 0/10000 [00:00<?, ?it/s]"
      ]
     },
     "metadata": {},
     "output_type": "display_data"
    },
    {
     "data": {
      "application/vnd.jupyter.widget-view+json": {
       "model_id": "7cf1ea3a93a342598e22e93e94f69555",
       "version_major": 2,
       "version_minor": 0
      },
      "text/plain": [
       "time step:   0%|          | 0/10000 [00:00<?, ?it/s]"
      ]
     },
     "metadata": {},
     "output_type": "display_data"
    },
    {
     "data": {
      "application/vnd.jupyter.widget-view+json": {
       "model_id": "0a98050ab0a745b39ea2ab0b2309704d",
       "version_major": 2,
       "version_minor": 0
      },
      "text/plain": [
       "time step:   0%|          | 0/10000 [00:00<?, ?it/s]"
      ]
     },
     "metadata": {},
     "output_type": "display_data"
    },
    {
     "data": {
      "application/vnd.jupyter.widget-view+json": {
       "model_id": "9fee4317a6ed4e24bad4098fee35fff8",
       "version_major": 2,
       "version_minor": 0
      },
      "text/plain": [
       "time step:   0%|          | 0/10000 [00:00<?, ?it/s]"
      ]
     },
     "metadata": {},
     "output_type": "display_data"
    },
    {
     "data": {
      "application/vnd.jupyter.widget-view+json": {
       "model_id": "b7ac6a4433524c5fbd42e75fba288317",
       "version_major": 2,
       "version_minor": 0
      },
      "text/plain": [
       "time step:   0%|          | 0/10000 [00:00<?, ?it/s]"
      ]
     },
     "metadata": {},
     "output_type": "display_data"
    },
    {
     "data": {
      "application/vnd.jupyter.widget-view+json": {
       "model_id": "e27c58e3825f4a4f96be5913bb26bf6d",
       "version_major": 2,
       "version_minor": 0
      },
      "text/plain": [
       "time step:   0%|          | 0/10000 [00:00<?, ?it/s]"
      ]
     },
     "metadata": {},
     "output_type": "display_data"
    },
    {
     "data": {
      "application/vnd.jupyter.widget-view+json": {
       "model_id": "5fdeb5f1865643358015f354c2b54800",
       "version_major": 2,
       "version_minor": 0
      },
      "text/plain": [
       "time step:   0%|          | 0/10000 [00:00<?, ?it/s]"
      ]
     },
     "metadata": {},
     "output_type": "display_data"
    },
    {
     "data": {
      "application/vnd.jupyter.widget-view+json": {
       "model_id": "1231a0bd5ac940f69755fa3d60a7abef",
       "version_major": 2,
       "version_minor": 0
      },
      "text/plain": [
       "time step:   0%|          | 0/10000 [00:00<?, ?it/s]"
      ]
     },
     "metadata": {},
     "output_type": "display_data"
    },
    {
     "data": {
      "application/vnd.jupyter.widget-view+json": {
       "model_id": "d99ce67137664eee8cffbe38e4e66932",
       "version_major": 2,
       "version_minor": 0
      },
      "text/plain": [
       "time step:   0%|          | 0/10000 [00:00<?, ?it/s]"
      ]
     },
     "metadata": {},
     "output_type": "display_data"
    },
    {
     "data": {
      "application/vnd.jupyter.widget-view+json": {
       "model_id": "37b89cecaed2441a8bf4f0c1673bde33",
       "version_major": 2,
       "version_minor": 0
      },
      "text/plain": [
       "time step:   0%|          | 0/10000 [00:00<?, ?it/s]"
      ]
     },
     "metadata": {},
     "output_type": "display_data"
    },
    {
     "data": {
      "application/vnd.jupyter.widget-view+json": {
       "model_id": "d63df5ed93934c1abdeb5bffc763a993",
       "version_major": 2,
       "version_minor": 0
      },
      "text/plain": [
       "time step:   0%|          | 0/10000 [00:00<?, ?it/s]"
      ]
     },
     "metadata": {},
     "output_type": "display_data"
    },
    {
     "data": {
      "application/vnd.jupyter.widget-view+json": {
       "model_id": "aef1ec60b5c248bc9731c99aba604f4f",
       "version_major": 2,
       "version_minor": 0
      },
      "text/plain": [
       "time step:   0%|          | 0/10000 [00:00<?, ?it/s]"
      ]
     },
     "metadata": {},
     "output_type": "display_data"
    },
    {
     "data": {
      "application/vnd.jupyter.widget-view+json": {
       "model_id": "4b905783b1a54196ac27b2c9ec0542b5",
       "version_major": 2,
       "version_minor": 0
      },
      "text/plain": [
       "time step:   0%|          | 0/10000 [00:00<?, ?it/s]"
      ]
     },
     "metadata": {},
     "output_type": "display_data"
    },
    {
     "data": {
      "application/vnd.jupyter.widget-view+json": {
       "model_id": "35b765cd11dc4bd1a70b0e776a5955fe",
       "version_major": 2,
       "version_minor": 0
      },
      "text/plain": [
       "time step:   0%|          | 0/10000 [00:00<?, ?it/s]"
      ]
     },
     "metadata": {},
     "output_type": "display_data"
    },
    {
     "data": {
      "application/vnd.jupyter.widget-view+json": {
       "model_id": "2d5f7493e8ad4b438ef0ce1ffc5cac33",
       "version_major": 2,
       "version_minor": 0
      },
      "text/plain": [
       "time step:   0%|          | 0/10000 [00:00<?, ?it/s]"
      ]
     },
     "metadata": {},
     "output_type": "display_data"
    },
    {
     "data": {
      "application/vnd.jupyter.widget-view+json": {
       "model_id": "cc88934626da4edba0b244b49d432f04",
       "version_major": 2,
       "version_minor": 0
      },
      "text/plain": [
       "time step:   0%|          | 0/10000 [00:00<?, ?it/s]"
      ]
     },
     "metadata": {},
     "output_type": "display_data"
    },
    {
     "data": {
      "application/vnd.jupyter.widget-view+json": {
       "model_id": "3847eb940fb0415e939a6a0befa48ca9",
       "version_major": 2,
       "version_minor": 0
      },
      "text/plain": [
       "time step:   0%|          | 0/10000 [00:00<?, ?it/s]"
      ]
     },
     "metadata": {},
     "output_type": "display_data"
    },
    {
     "data": {
      "application/vnd.jupyter.widget-view+json": {
       "model_id": "eb083d0674dd4065b8394abd0f77fe12",
       "version_major": 2,
       "version_minor": 0
      },
      "text/plain": [
       "time step:   0%|          | 0/10000 [00:00<?, ?it/s]"
      ]
     },
     "metadata": {},
     "output_type": "display_data"
    },
    {
     "data": {
      "application/vnd.jupyter.widget-view+json": {
       "model_id": "cdc46a0e38a44458bc0c1e36af4b5ae4",
       "version_major": 2,
       "version_minor": 0
      },
      "text/plain": [
       "time step:   0%|          | 0/10000 [00:00<?, ?it/s]"
      ]
     },
     "metadata": {},
     "output_type": "display_data"
    },
    {
     "data": {
      "application/vnd.jupyter.widget-view+json": {
       "model_id": "f07975da31984cfba2c0d85b4bd327c0",
       "version_major": 2,
       "version_minor": 0
      },
      "text/plain": [
       "time step:   0%|          | 0/10000 [00:00<?, ?it/s]"
      ]
     },
     "metadata": {},
     "output_type": "display_data"
    },
    {
     "data": {
      "application/vnd.jupyter.widget-view+json": {
       "model_id": "e118fa7d23784cc1807c004013290f99",
       "version_major": 2,
       "version_minor": 0
      },
      "text/plain": [
       "time step:   0%|          | 0/10000 [00:00<?, ?it/s]"
      ]
     },
     "metadata": {},
     "output_type": "display_data"
    },
    {
     "data": {
      "application/vnd.jupyter.widget-view+json": {
       "model_id": "98ea2853bb9f49f2928572d7ae5e593c",
       "version_major": 2,
       "version_minor": 0
      },
      "text/plain": [
       "time step:   0%|          | 0/10000 [00:00<?, ?it/s]"
      ]
     },
     "metadata": {},
     "output_type": "display_data"
    },
    {
     "data": {
      "application/vnd.jupyter.widget-view+json": {
       "model_id": "9820a592c6c2498786b3553fd8925c2e",
       "version_major": 2,
       "version_minor": 0
      },
      "text/plain": [
       "time step:   0%|          | 0/10000 [00:00<?, ?it/s]"
      ]
     },
     "metadata": {},
     "output_type": "display_data"
    },
    {
     "data": {
      "application/vnd.jupyter.widget-view+json": {
       "model_id": "1fd16c34393742a984de4f5ed2823d17",
       "version_major": 2,
       "version_minor": 0
      },
      "text/plain": [
       "time step:   0%|          | 0/10000 [00:00<?, ?it/s]"
      ]
     },
     "metadata": {},
     "output_type": "display_data"
    },
    {
     "data": {
      "application/vnd.jupyter.widget-view+json": {
       "model_id": "738d90c911a24996944dfeec185d03f1",
       "version_major": 2,
       "version_minor": 0
      },
      "text/plain": [
       "time step:   0%|          | 0/10000 [00:00<?, ?it/s]"
      ]
     },
     "metadata": {},
     "output_type": "display_data"
    },
    {
     "data": {
      "application/vnd.jupyter.widget-view+json": {
       "model_id": "b5565c3a737048f8856d4a6952405dad",
       "version_major": 2,
       "version_minor": 0
      },
      "text/plain": [
       "time step:   0%|          | 0/10000 [00:00<?, ?it/s]"
      ]
     },
     "metadata": {},
     "output_type": "display_data"
    },
    {
     "data": {
      "application/vnd.jupyter.widget-view+json": {
       "model_id": "041bbcdae51245beb4d56f341dd204c3",
       "version_major": 2,
       "version_minor": 0
      },
      "text/plain": [
       "time step:   0%|          | 0/10000 [00:00<?, ?it/s]"
      ]
     },
     "metadata": {},
     "output_type": "display_data"
    },
    {
     "data": {
      "application/vnd.jupyter.widget-view+json": {
       "model_id": "e98c8a3ed8e74c098e20dfbec457a3a9",
       "version_major": 2,
       "version_minor": 0
      },
      "text/plain": [
       "time step:   0%|          | 0/10000 [00:00<?, ?it/s]"
      ]
     },
     "metadata": {},
     "output_type": "display_data"
    },
    {
     "data": {
      "application/vnd.jupyter.widget-view+json": {
       "model_id": "0fa3d1883ad04f39ba2abd737a16321c",
       "version_major": 2,
       "version_minor": 0
      },
      "text/plain": [
       "time step:   0%|          | 0/10000 [00:00<?, ?it/s]"
      ]
     },
     "metadata": {},
     "output_type": "display_data"
    },
    {
     "data": {
      "application/vnd.jupyter.widget-view+json": {
       "model_id": "512f0833be1845ef9be267360f5f9b84",
       "version_major": 2,
       "version_minor": 0
      },
      "text/plain": [
       "time step:   0%|          | 0/10000 [00:00<?, ?it/s]"
      ]
     },
     "metadata": {},
     "output_type": "display_data"
    },
    {
     "data": {
      "application/vnd.jupyter.widget-view+json": {
       "model_id": "fca6c27202234e41820eb5fb7ad49b8e",
       "version_major": 2,
       "version_minor": 0
      },
      "text/plain": [
       "time step:   0%|          | 0/10000 [00:00<?, ?it/s]"
      ]
     },
     "metadata": {},
     "output_type": "display_data"
    },
    {
     "data": {
      "application/vnd.jupyter.widget-view+json": {
       "model_id": "8699252e93274248a229b89d60049452",
       "version_major": 2,
       "version_minor": 0
      },
      "text/plain": [
       "time step:   0%|          | 0/10000 [00:00<?, ?it/s]"
      ]
     },
     "metadata": {},
     "output_type": "display_data"
    },
    {
     "data": {
      "application/vnd.jupyter.widget-view+json": {
       "model_id": "fb8a8cfa5ac34a3f9c242ab80d8007a9",
       "version_major": 2,
       "version_minor": 0
      },
      "text/plain": [
       "time step:   0%|          | 0/10000 [00:00<?, ?it/s]"
      ]
     },
     "metadata": {},
     "output_type": "display_data"
    },
    {
     "data": {
      "application/vnd.jupyter.widget-view+json": {
       "model_id": "b3e4f6095f194c2e9b7878f85fa9bf24",
       "version_major": 2,
       "version_minor": 0
      },
      "text/plain": [
       "time step:   0%|          | 0/10000 [00:00<?, ?it/s]"
      ]
     },
     "metadata": {},
     "output_type": "display_data"
    },
    {
     "data": {
      "application/vnd.jupyter.widget-view+json": {
       "model_id": "53ef8c4fcab9494eb04f20da4c2ecaf2",
       "version_major": 2,
       "version_minor": 0
      },
      "text/plain": [
       "time step:   0%|          | 0/10000 [00:00<?, ?it/s]"
      ]
     },
     "metadata": {},
     "output_type": "display_data"
    },
    {
     "data": {
      "application/vnd.jupyter.widget-view+json": {
       "model_id": "6358f568e7a34a2b9266c252a5ddf71d",
       "version_major": 2,
       "version_minor": 0
      },
      "text/plain": [
       "time step:   0%|          | 0/10000 [00:00<?, ?it/s]"
      ]
     },
     "metadata": {},
     "output_type": "display_data"
    },
    {
     "data": {
      "application/vnd.jupyter.widget-view+json": {
       "model_id": "f48eb1f2c85e4a7cb7a67f255a953fef",
       "version_major": 2,
       "version_minor": 0
      },
      "text/plain": [
       "time step:   0%|          | 0/10000 [00:00<?, ?it/s]"
      ]
     },
     "metadata": {},
     "output_type": "display_data"
    },
    {
     "data": {
      "application/vnd.jupyter.widget-view+json": {
       "model_id": "144c8c232e0948588adb61517c4c09b3",
       "version_major": 2,
       "version_minor": 0
      },
      "text/plain": [
       "time step:   0%|          | 0/10000 [00:00<?, ?it/s]"
      ]
     },
     "metadata": {},
     "output_type": "display_data"
    },
    {
     "data": {
      "application/vnd.jupyter.widget-view+json": {
       "model_id": "e3ca31955c9f4cbf859d281239960472",
       "version_major": 2,
       "version_minor": 0
      },
      "text/plain": [
       "time step:   0%|          | 0/10000 [00:00<?, ?it/s]"
      ]
     },
     "metadata": {},
     "output_type": "display_data"
    },
    {
     "data": {
      "application/vnd.jupyter.widget-view+json": {
       "model_id": "9d86d1a7713c4593ae6ee61855712688",
       "version_major": 2,
       "version_minor": 0
      },
      "text/plain": [
       "time step:   0%|          | 0/10000 [00:00<?, ?it/s]"
      ]
     },
     "metadata": {},
     "output_type": "display_data"
    },
    {
     "data": {
      "application/vnd.jupyter.widget-view+json": {
       "model_id": "cbc25e8e299c4d64995fa26ece660dbb",
       "version_major": 2,
       "version_minor": 0
      },
      "text/plain": [
       "time step:   0%|          | 0/10000 [00:00<?, ?it/s]"
      ]
     },
     "metadata": {},
     "output_type": "display_data"
    },
    {
     "data": {
      "application/vnd.jupyter.widget-view+json": {
       "model_id": "fc9737c0c44f477395bd01fba88188e3",
       "version_major": 2,
       "version_minor": 0
      },
      "text/plain": [
       "time step:   0%|          | 0/10000 [00:00<?, ?it/s]"
      ]
     },
     "metadata": {},
     "output_type": "display_data"
    },
    {
     "data": {
      "application/vnd.jupyter.widget-view+json": {
       "model_id": "96bc70163c2d45fab9fcf8dc3ecac1ef",
       "version_major": 2,
       "version_minor": 0
      },
      "text/plain": [
       "time step:   0%|          | 0/10000 [00:00<?, ?it/s]"
      ]
     },
     "metadata": {},
     "output_type": "display_data"
    },
    {
     "data": {
      "application/vnd.jupyter.widget-view+json": {
       "model_id": "67b31489f5e14265b1f4f67619966275",
       "version_major": 2,
       "version_minor": 0
      },
      "text/plain": [
       "time step:   0%|          | 0/10000 [00:00<?, ?it/s]"
      ]
     },
     "metadata": {},
     "output_type": "display_data"
    },
    {
     "data": {
      "application/vnd.jupyter.widget-view+json": {
       "model_id": "1faa1b844d7446c29467f1c019425c1f",
       "version_major": 2,
       "version_minor": 0
      },
      "text/plain": [
       "time step:   0%|          | 0/10000 [00:00<?, ?it/s]"
      ]
     },
     "metadata": {},
     "output_type": "display_data"
    },
    {
     "data": {
      "application/vnd.jupyter.widget-view+json": {
       "model_id": "f879995886c54885a09fb3721feb2666",
       "version_major": 2,
       "version_minor": 0
      },
      "text/plain": [
       "time step:   0%|          | 0/10000 [00:00<?, ?it/s]"
      ]
     },
     "metadata": {},
     "output_type": "display_data"
    },
    {
     "data": {
      "application/vnd.jupyter.widget-view+json": {
       "model_id": "2847bf17976f4c0587d845ce37c1d028",
       "version_major": 2,
       "version_minor": 0
      },
      "text/plain": [
       "time step:   0%|          | 0/10000 [00:00<?, ?it/s]"
      ]
     },
     "metadata": {},
     "output_type": "display_data"
    },
    {
     "data": {
      "application/vnd.jupyter.widget-view+json": {
       "model_id": "ba136c3d78224282a7d5f06139d0db0a",
       "version_major": 2,
       "version_minor": 0
      },
      "text/plain": [
       "time step:   0%|          | 0/10000 [00:00<?, ?it/s]"
      ]
     },
     "metadata": {},
     "output_type": "display_data"
    },
    {
     "data": {
      "application/vnd.jupyter.widget-view+json": {
       "model_id": "d77aacddad5f487494816a57c886abc5",
       "version_major": 2,
       "version_minor": 0
      },
      "text/plain": [
       "time step:   0%|          | 0/10000 [00:00<?, ?it/s]"
      ]
     },
     "metadata": {},
     "output_type": "display_data"
    },
    {
     "data": {
      "application/vnd.jupyter.widget-view+json": {
       "model_id": "15e259020c0f489796df8742ff51c16e",
       "version_major": 2,
       "version_minor": 0
      },
      "text/plain": [
       "time step:   0%|          | 0/10000 [00:00<?, ?it/s]"
      ]
     },
     "metadata": {},
     "output_type": "display_data"
    },
    {
     "data": {
      "application/vnd.jupyter.widget-view+json": {
       "model_id": "ff95b05230f34f7cae1b84dd0e9b066a",
       "version_major": 2,
       "version_minor": 0
      },
      "text/plain": [
       "time step:   0%|          | 0/10000 [00:00<?, ?it/s]"
      ]
     },
     "metadata": {},
     "output_type": "display_data"
    },
    {
     "data": {
      "application/vnd.jupyter.widget-view+json": {
       "model_id": "a68c4169f498431e8b5142828670a7cf",
       "version_major": 2,
       "version_minor": 0
      },
      "text/plain": [
       "time step:   0%|          | 0/10000 [00:00<?, ?it/s]"
      ]
     },
     "metadata": {},
     "output_type": "display_data"
    },
    {
     "data": {
      "application/vnd.jupyter.widget-view+json": {
       "model_id": "fadf191d43374d1db8271e3c2fd2514c",
       "version_major": 2,
       "version_minor": 0
      },
      "text/plain": [
       "time step:   0%|          | 0/10000 [00:00<?, ?it/s]"
      ]
     },
     "metadata": {},
     "output_type": "display_data"
    },
    {
     "data": {
      "application/vnd.jupyter.widget-view+json": {
       "model_id": "82058872f47740b092b47aeae79de290",
       "version_major": 2,
       "version_minor": 0
      },
      "text/plain": [
       "time step:   0%|          | 0/10000 [00:00<?, ?it/s]"
      ]
     },
     "metadata": {},
     "output_type": "display_data"
    },
    {
     "data": {
      "application/vnd.jupyter.widget-view+json": {
       "model_id": "c590a8a9f428438b9b79897c7edb2aad",
       "version_major": 2,
       "version_minor": 0
      },
      "text/plain": [
       "time step:   0%|          | 0/10000 [00:00<?, ?it/s]"
      ]
     },
     "metadata": {},
     "output_type": "display_data"
    },
    {
     "data": {
      "application/vnd.jupyter.widget-view+json": {
       "model_id": "54063768440641178bcfc63dc3b9d42e",
       "version_major": 2,
       "version_minor": 0
      },
      "text/plain": [
       "time step:   0%|          | 0/10000 [00:00<?, ?it/s]"
      ]
     },
     "metadata": {},
     "output_type": "display_data"
    },
    {
     "data": {
      "application/vnd.jupyter.widget-view+json": {
       "model_id": "f1757157f12249399b7731ce973f417b",
       "version_major": 2,
       "version_minor": 0
      },
      "text/plain": [
       "time step:   0%|          | 0/10000 [00:00<?, ?it/s]"
      ]
     },
     "metadata": {},
     "output_type": "display_data"
    },
    {
     "data": {
      "application/vnd.jupyter.widget-view+json": {
       "model_id": "cf61ac8e7ccf432d82a9cd691692f14c",
       "version_major": 2,
       "version_minor": 0
      },
      "text/plain": [
       "time step:   0%|          | 0/10000 [00:00<?, ?it/s]"
      ]
     },
     "metadata": {},
     "output_type": "display_data"
    },
    {
     "data": {
      "application/vnd.jupyter.widget-view+json": {
       "model_id": "f3f62890823f42acb55987d7b5de0a27",
       "version_major": 2,
       "version_minor": 0
      },
      "text/plain": [
       "time step:   0%|          | 0/10000 [00:00<?, ?it/s]"
      ]
     },
     "metadata": {},
     "output_type": "display_data"
    },
    {
     "data": {
      "application/vnd.jupyter.widget-view+json": {
       "model_id": "6a0e074d464e4dbdaf59a0b49621db35",
       "version_major": 2,
       "version_minor": 0
      },
      "text/plain": [
       "time step:   0%|          | 0/10000 [00:00<?, ?it/s]"
      ]
     },
     "metadata": {},
     "output_type": "display_data"
    },
    {
     "data": {
      "application/vnd.jupyter.widget-view+json": {
       "model_id": "d4cef6ca067c42a08a89640226cab0da",
       "version_major": 2,
       "version_minor": 0
      },
      "text/plain": [
       "time step:   0%|          | 0/10000 [00:00<?, ?it/s]"
      ]
     },
     "metadata": {},
     "output_type": "display_data"
    },
    {
     "data": {
      "application/vnd.jupyter.widget-view+json": {
       "model_id": "4284499c54d4414280c11fb2cc7f264c",
       "version_major": 2,
       "version_minor": 0
      },
      "text/plain": [
       "time step:   0%|          | 0/10000 [00:00<?, ?it/s]"
      ]
     },
     "metadata": {},
     "output_type": "display_data"
    },
    {
     "data": {
      "application/vnd.jupyter.widget-view+json": {
       "model_id": "b21fe9be37d74025bd1fd1e809633e7f",
       "version_major": 2,
       "version_minor": 0
      },
      "text/plain": [
       "time step:   0%|          | 0/10000 [00:00<?, ?it/s]"
      ]
     },
     "metadata": {},
     "output_type": "display_data"
    },
    {
     "data": {
      "application/vnd.jupyter.widget-view+json": {
       "model_id": "1b3df9402f064dafb396dff24bf0c3fe",
       "version_major": 2,
       "version_minor": 0
      },
      "text/plain": [
       "time step:   0%|          | 0/10000 [00:00<?, ?it/s]"
      ]
     },
     "metadata": {},
     "output_type": "display_data"
    },
    {
     "data": {
      "application/vnd.jupyter.widget-view+json": {
       "model_id": "feea89febe2843a6ae365bd0e6171585",
       "version_major": 2,
       "version_minor": 0
      },
      "text/plain": [
       "time step:   0%|          | 0/10000 [00:00<?, ?it/s]"
      ]
     },
     "metadata": {},
     "output_type": "display_data"
    },
    {
     "data": {
      "application/vnd.jupyter.widget-view+json": {
       "model_id": "728d77b0ed81497896e845924b109448",
       "version_major": 2,
       "version_minor": 0
      },
      "text/plain": [
       "time step:   0%|          | 0/10000 [00:00<?, ?it/s]"
      ]
     },
     "metadata": {},
     "output_type": "display_data"
    },
    {
     "data": {
      "application/vnd.jupyter.widget-view+json": {
       "model_id": "3ff5e98376b8432b94220e9118cc9681",
       "version_major": 2,
       "version_minor": 0
      },
      "text/plain": [
       "time step:   0%|          | 0/10000 [00:00<?, ?it/s]"
      ]
     },
     "metadata": {},
     "output_type": "display_data"
    },
    {
     "data": {
      "application/vnd.jupyter.widget-view+json": {
       "model_id": "d446eb7efb294e669dc56e619e6e3d0c",
       "version_major": 2,
       "version_minor": 0
      },
      "text/plain": [
       "time step:   0%|          | 0/10000 [00:00<?, ?it/s]"
      ]
     },
     "metadata": {},
     "output_type": "display_data"
    },
    {
     "data": {
      "application/vnd.jupyter.widget-view+json": {
       "model_id": "001bdb62abd343d3800d373c02313032",
       "version_major": 2,
       "version_minor": 0
      },
      "text/plain": [
       "time step:   0%|          | 0/10000 [00:00<?, ?it/s]"
      ]
     },
     "metadata": {},
     "output_type": "display_data"
    },
    {
     "data": {
      "application/vnd.jupyter.widget-view+json": {
       "model_id": "52e8b54c685247a9b3238ee1d16cb1fa",
       "version_major": 2,
       "version_minor": 0
      },
      "text/plain": [
       "time step:   0%|          | 0/10000 [00:00<?, ?it/s]"
      ]
     },
     "metadata": {},
     "output_type": "display_data"
    },
    {
     "data": {
      "application/vnd.jupyter.widget-view+json": {
       "model_id": "80f6d5f181b4415588573c63fbd37956",
       "version_major": 2,
       "version_minor": 0
      },
      "text/plain": [
       "time step:   0%|          | 0/10000 [00:00<?, ?it/s]"
      ]
     },
     "metadata": {},
     "output_type": "display_data"
    },
    {
     "data": {
      "application/vnd.jupyter.widget-view+json": {
       "model_id": "38cb1218b5cb4ad98adc6e95c8a5a7f9",
       "version_major": 2,
       "version_minor": 0
      },
      "text/plain": [
       "time step:   0%|          | 0/10000 [00:00<?, ?it/s]"
      ]
     },
     "metadata": {},
     "output_type": "display_data"
    },
    {
     "data": {
      "application/vnd.jupyter.widget-view+json": {
       "model_id": "b3f7bef70aaf47fcb75538a1c62ddf39",
       "version_major": 2,
       "version_minor": 0
      },
      "text/plain": [
       "time step:   0%|          | 0/10000 [00:00<?, ?it/s]"
      ]
     },
     "metadata": {},
     "output_type": "display_data"
    },
    {
     "data": {
      "application/vnd.jupyter.widget-view+json": {
       "model_id": "cec82bea658b46bd9d3faac6db222d18",
       "version_major": 2,
       "version_minor": 0
      },
      "text/plain": [
       "time step:   0%|          | 0/10000 [00:00<?, ?it/s]"
      ]
     },
     "metadata": {},
     "output_type": "display_data"
    },
    {
     "data": {
      "application/vnd.jupyter.widget-view+json": {
       "model_id": "97f2846360bc4f8b90e162d80c1b73e9",
       "version_major": 2,
       "version_minor": 0
      },
      "text/plain": [
       "time step:   0%|          | 0/10000 [00:00<?, ?it/s]"
      ]
     },
     "metadata": {},
     "output_type": "display_data"
    },
    {
     "data": {
      "application/vnd.jupyter.widget-view+json": {
       "model_id": "7a2d8c3bfc6143168723aad755c24d84",
       "version_major": 2,
       "version_minor": 0
      },
      "text/plain": [
       "time step:   0%|          | 0/10000 [00:00<?, ?it/s]"
      ]
     },
     "metadata": {},
     "output_type": "display_data"
    },
    {
     "data": {
      "application/vnd.jupyter.widget-view+json": {
       "model_id": "c3fa5d1b5da44ae5baacd66b0cd36139",
       "version_major": 2,
       "version_minor": 0
      },
      "text/plain": [
       "time step:   0%|          | 0/10000 [00:00<?, ?it/s]"
      ]
     },
     "metadata": {},
     "output_type": "display_data"
    },
    {
     "data": {
      "application/vnd.jupyter.widget-view+json": {
       "model_id": "564326df6be0450f9db79e176358069a",
       "version_major": 2,
       "version_minor": 0
      },
      "text/plain": [
       "time step:   0%|          | 0/10000 [00:00<?, ?it/s]"
      ]
     },
     "metadata": {},
     "output_type": "display_data"
    },
    {
     "data": {
      "application/vnd.jupyter.widget-view+json": {
       "model_id": "c3fffb6f02324bce8de1dda6b187ccd9",
       "version_major": 2,
       "version_minor": 0
      },
      "text/plain": [
       "time step:   0%|          | 0/10000 [00:00<?, ?it/s]"
      ]
     },
     "metadata": {},
     "output_type": "display_data"
    },
    {
     "data": {
      "application/vnd.jupyter.widget-view+json": {
       "model_id": "3b86659835a44189b3bf9fb48cd0783c",
       "version_major": 2,
       "version_minor": 0
      },
      "text/plain": [
       "time step:   0%|          | 0/10000 [00:00<?, ?it/s]"
      ]
     },
     "metadata": {},
     "output_type": "display_data"
    },
    {
     "data": {
      "application/vnd.jupyter.widget-view+json": {
       "model_id": "d13328459b2f42c9b30eee77a2405f6e",
       "version_major": 2,
       "version_minor": 0
      },
      "text/plain": [
       "time step:   0%|          | 0/10000 [00:00<?, ?it/s]"
      ]
     },
     "metadata": {},
     "output_type": "display_data"
    },
    {
     "data": {
      "application/vnd.jupyter.widget-view+json": {
       "model_id": "bf309126cae24195a7be6827e2f1df0e",
       "version_major": 2,
       "version_minor": 0
      },
      "text/plain": [
       "time step:   0%|          | 0/10000 [00:00<?, ?it/s]"
      ]
     },
     "metadata": {},
     "output_type": "display_data"
    },
    {
     "data": {
      "application/vnd.jupyter.widget-view+json": {
       "model_id": "2c9ff076450349928ffb2061339230c1",
       "version_major": 2,
       "version_minor": 0
      },
      "text/plain": [
       "time step:   0%|          | 0/10000 [00:00<?, ?it/s]"
      ]
     },
     "metadata": {},
     "output_type": "display_data"
    },
    {
     "data": {
      "application/vnd.jupyter.widget-view+json": {
       "model_id": "04cb30524d97416e97cc028d086af76c",
       "version_major": 2,
       "version_minor": 0
      },
      "text/plain": [
       "time step:   0%|          | 0/10000 [00:00<?, ?it/s]"
      ]
     },
     "metadata": {},
     "output_type": "display_data"
    },
    {
     "data": {
      "application/vnd.jupyter.widget-view+json": {
       "model_id": "f809d9af681c4bb3b7190aad6b31c43c",
       "version_major": 2,
       "version_minor": 0
      },
      "text/plain": [
       "time step:   0%|          | 0/10000 [00:00<?, ?it/s]"
      ]
     },
     "metadata": {},
     "output_type": "display_data"
    },
    {
     "data": {
      "application/vnd.jupyter.widget-view+json": {
       "model_id": "28ae2d77988044a1a653683e952efa1b",
       "version_major": 2,
       "version_minor": 0
      },
      "text/plain": [
       "time step:   0%|          | 0/10000 [00:00<?, ?it/s]"
      ]
     },
     "metadata": {},
     "output_type": "display_data"
    },
    {
     "data": {
      "application/vnd.jupyter.widget-view+json": {
       "model_id": "81c637c448fd48ec823f9ec23c423609",
       "version_major": 2,
       "version_minor": 0
      },
      "text/plain": [
       "time step:   0%|          | 0/10000 [00:00<?, ?it/s]"
      ]
     },
     "metadata": {},
     "output_type": "display_data"
    },
    {
     "data": {
      "application/vnd.jupyter.widget-view+json": {
       "model_id": "0a1a677819394138b60c6386c2c40d24",
       "version_major": 2,
       "version_minor": 0
      },
      "text/plain": [
       "time step:   0%|          | 0/10000 [00:00<?, ?it/s]"
      ]
     },
     "metadata": {},
     "output_type": "display_data"
    },
    {
     "data": {
      "application/vnd.jupyter.widget-view+json": {
       "model_id": "9c301781424d45f5826d18d84c8080f8",
       "version_major": 2,
       "version_minor": 0
      },
      "text/plain": [
       "time step:   0%|          | 0/10000 [00:00<?, ?it/s]"
      ]
     },
     "metadata": {},
     "output_type": "display_data"
    },
    {
     "data": {
      "application/vnd.jupyter.widget-view+json": {
       "model_id": "e62af06fb7104deaa5f097f6dd35937a",
       "version_major": 2,
       "version_minor": 0
      },
      "text/plain": [
       "time step:   0%|          | 0/10000 [00:00<?, ?it/s]"
      ]
     },
     "metadata": {},
     "output_type": "display_data"
    },
    {
     "data": {
      "application/vnd.jupyter.widget-view+json": {
       "model_id": "276baae5856049b5996f3ad3cd8f6d55",
       "version_major": 2,
       "version_minor": 0
      },
      "text/plain": [
       "time step:   0%|          | 0/10000 [00:00<?, ?it/s]"
      ]
     },
     "metadata": {},
     "output_type": "display_data"
    },
    {
     "data": {
      "application/vnd.jupyter.widget-view+json": {
       "model_id": "75cd35afc1804cbbb3b3c9efc6ee887c",
       "version_major": 2,
       "version_minor": 0
      },
      "text/plain": [
       "time step:   0%|          | 0/10000 [00:00<?, ?it/s]"
      ]
     },
     "metadata": {},
     "output_type": "display_data"
    },
    {
     "data": {
      "application/vnd.jupyter.widget-view+json": {
       "model_id": "91dedd9eb93e4eb2af7ba007e2c26c23",
       "version_major": 2,
       "version_minor": 0
      },
      "text/plain": [
       "time step:   0%|          | 0/10000 [00:00<?, ?it/s]"
      ]
     },
     "metadata": {},
     "output_type": "display_data"
    },
    {
     "data": {
      "application/vnd.jupyter.widget-view+json": {
       "model_id": "e5c0cbf69efd46dd9e3c56fa9bba1d50",
       "version_major": 2,
       "version_minor": 0
      },
      "text/plain": [
       "time step:   0%|          | 0/10000 [00:00<?, ?it/s]"
      ]
     },
     "metadata": {},
     "output_type": "display_data"
    },
    {
     "data": {
      "application/vnd.jupyter.widget-view+json": {
       "model_id": "aec0b6bf1785463a844b96042d108856",
       "version_major": 2,
       "version_minor": 0
      },
      "text/plain": [
       "time step:   0%|          | 0/10000 [00:00<?, ?it/s]"
      ]
     },
     "metadata": {},
     "output_type": "display_data"
    },
    {
     "data": {
      "application/vnd.jupyter.widget-view+json": {
       "model_id": "9ec7d3b27fa94107b1242758fa49f074",
       "version_major": 2,
       "version_minor": 0
      },
      "text/plain": [
       "time step:   0%|          | 0/10000 [00:00<?, ?it/s]"
      ]
     },
     "metadata": {},
     "output_type": "display_data"
    },
    {
     "data": {
      "application/vnd.jupyter.widget-view+json": {
       "model_id": "a1f3966b53314625a068e1e6a88287ac",
       "version_major": 2,
       "version_minor": 0
      },
      "text/plain": [
       "time step:   0%|          | 0/10000 [00:00<?, ?it/s]"
      ]
     },
     "metadata": {},
     "output_type": "display_data"
    },
    {
     "data": {
      "application/vnd.jupyter.widget-view+json": {
       "model_id": "32ab6a705a0c433b9044a2b27370edde",
       "version_major": 2,
       "version_minor": 0
      },
      "text/plain": [
       "time step:   0%|          | 0/10000 [00:00<?, ?it/s]"
      ]
     },
     "metadata": {},
     "output_type": "display_data"
    },
    {
     "data": {
      "application/vnd.jupyter.widget-view+json": {
       "model_id": "d322c2acdd5446ca892fc05e0b804265",
       "version_major": 2,
       "version_minor": 0
      },
      "text/plain": [
       "time step:   0%|          | 0/10000 [00:00<?, ?it/s]"
      ]
     },
     "metadata": {},
     "output_type": "display_data"
    },
    {
     "data": {
      "application/vnd.jupyter.widget-view+json": {
       "model_id": "e03f718ae67549d285db3a78ac48e70b",
       "version_major": 2,
       "version_minor": 0
      },
      "text/plain": [
       "time step:   0%|          | 0/10000 [00:00<?, ?it/s]"
      ]
     },
     "metadata": {},
     "output_type": "display_data"
    },
    {
     "data": {
      "application/vnd.jupyter.widget-view+json": {
       "model_id": "73c3a05cfc904a9f922fbc4b1339adf1",
       "version_major": 2,
       "version_minor": 0
      },
      "text/plain": [
       "time step:   0%|          | 0/10000 [00:00<?, ?it/s]"
      ]
     },
     "metadata": {},
     "output_type": "display_data"
    },
    {
     "data": {
      "application/vnd.jupyter.widget-view+json": {
       "model_id": "79ed4977c2474a139bf63fe1b8841f63",
       "version_major": 2,
       "version_minor": 0
      },
      "text/plain": [
       "time step:   0%|          | 0/10000 [00:00<?, ?it/s]"
      ]
     },
     "metadata": {},
     "output_type": "display_data"
    },
    {
     "data": {
      "application/vnd.jupyter.widget-view+json": {
       "model_id": "20a8cb2e9a0f46e3973c77c2d2857971",
       "version_major": 2,
       "version_minor": 0
      },
      "text/plain": [
       "time step:   0%|          | 0/10000 [00:00<?, ?it/s]"
      ]
     },
     "metadata": {},
     "output_type": "display_data"
    },
    {
     "data": {
      "application/vnd.jupyter.widget-view+json": {
       "model_id": "25db9546b1be4eab98da9541c3b354f6",
       "version_major": 2,
       "version_minor": 0
      },
      "text/plain": [
       "time step:   0%|          | 0/10000 [00:00<?, ?it/s]"
      ]
     },
     "metadata": {},
     "output_type": "display_data"
    },
    {
     "data": {
      "application/vnd.jupyter.widget-view+json": {
       "model_id": "bcd20563c746465a80e316285276794e",
       "version_major": 2,
       "version_minor": 0
      },
      "text/plain": [
       "time step:   0%|          | 0/10000 [00:00<?, ?it/s]"
      ]
     },
     "metadata": {},
     "output_type": "display_data"
    },
    {
     "data": {
      "application/vnd.jupyter.widget-view+json": {
       "model_id": "79e3b271c7824ba682cd1f208eafe06d",
       "version_major": 2,
       "version_minor": 0
      },
      "text/plain": [
       "time step:   0%|          | 0/10000 [00:00<?, ?it/s]"
      ]
     },
     "metadata": {},
     "output_type": "display_data"
    },
    {
     "data": {
      "application/vnd.jupyter.widget-view+json": {
       "model_id": "379d507efea94c62888b9a96ee89b881",
       "version_major": 2,
       "version_minor": 0
      },
      "text/plain": [
       "time step:   0%|          | 0/10000 [00:00<?, ?it/s]"
      ]
     },
     "metadata": {},
     "output_type": "display_data"
    },
    {
     "data": {
      "application/vnd.jupyter.widget-view+json": {
       "model_id": "1288133077f346af8b2aee03c7ff6d87",
       "version_major": 2,
       "version_minor": 0
      },
      "text/plain": [
       "time step:   0%|          | 0/10000 [00:00<?, ?it/s]"
      ]
     },
     "metadata": {},
     "output_type": "display_data"
    },
    {
     "data": {
      "application/vnd.jupyter.widget-view+json": {
       "model_id": "cb285f86578641d9ae73da181e8f81b2",
       "version_major": 2,
       "version_minor": 0
      },
      "text/plain": [
       "time step:   0%|          | 0/10000 [00:00<?, ?it/s]"
      ]
     },
     "metadata": {},
     "output_type": "display_data"
    },
    {
     "data": {
      "application/vnd.jupyter.widget-view+json": {
       "model_id": "de55ff46b953461ba02648d37c89e013",
       "version_major": 2,
       "version_minor": 0
      },
      "text/plain": [
       "time step:   0%|          | 0/10000 [00:00<?, ?it/s]"
      ]
     },
     "metadata": {},
     "output_type": "display_data"
    },
    {
     "data": {
      "application/vnd.jupyter.widget-view+json": {
       "model_id": "bada6fdd21af4630a4ade76f24e37304",
       "version_major": 2,
       "version_minor": 0
      },
      "text/plain": [
       "time step:   0%|          | 0/10000 [00:00<?, ?it/s]"
      ]
     },
     "metadata": {},
     "output_type": "display_data"
    },
    {
     "data": {
      "application/vnd.jupyter.widget-view+json": {
       "model_id": "5d6d92f59c774fce8e08420d35f6d50a",
       "version_major": 2,
       "version_minor": 0
      },
      "text/plain": [
       "time step:   0%|          | 0/10000 [00:00<?, ?it/s]"
      ]
     },
     "metadata": {},
     "output_type": "display_data"
    },
    {
     "data": {
      "application/vnd.jupyter.widget-view+json": {
       "model_id": "db12c3ed120e490f8ccdc655ec2fcdf0",
       "version_major": 2,
       "version_minor": 0
      },
      "text/plain": [
       "time step:   0%|          | 0/10000 [00:00<?, ?it/s]"
      ]
     },
     "metadata": {},
     "output_type": "display_data"
    },
    {
     "data": {
      "application/vnd.jupyter.widget-view+json": {
       "model_id": "5b3e84c66962466a8dd7513a06a9bbdb",
       "version_major": 2,
       "version_minor": 0
      },
      "text/plain": [
       "time step:   0%|          | 0/10000 [00:00<?, ?it/s]"
      ]
     },
     "metadata": {},
     "output_type": "display_data"
    },
    {
     "data": {
      "application/vnd.jupyter.widget-view+json": {
       "model_id": "fd7d8fdf54f441f7824948e9458d37db",
       "version_major": 2,
       "version_minor": 0
      },
      "text/plain": [
       "time step:   0%|          | 0/10000 [00:00<?, ?it/s]"
      ]
     },
     "metadata": {},
     "output_type": "display_data"
    },
    {
     "data": {
      "application/vnd.jupyter.widget-view+json": {
       "model_id": "f59a7a5372dd4dbe93de8c3f56d79356",
       "version_major": 2,
       "version_minor": 0
      },
      "text/plain": [
       "time step:   0%|          | 0/10000 [00:00<?, ?it/s]"
      ]
     },
     "metadata": {},
     "output_type": "display_data"
    },
    {
     "data": {
      "application/vnd.jupyter.widget-view+json": {
       "model_id": "9e3d5df6305e4c1ca3024ee6eee150b0",
       "version_major": 2,
       "version_minor": 0
      },
      "text/plain": [
       "time step:   0%|          | 0/10000 [00:00<?, ?it/s]"
      ]
     },
     "metadata": {},
     "output_type": "display_data"
    },
    {
     "data": {
      "application/vnd.jupyter.widget-view+json": {
       "model_id": "67c86ba890484124b19c27e1b6c85e17",
       "version_major": 2,
       "version_minor": 0
      },
      "text/plain": [
       "time step:   0%|          | 0/10000 [00:00<?, ?it/s]"
      ]
     },
     "metadata": {},
     "output_type": "display_data"
    },
    {
     "data": {
      "application/vnd.jupyter.widget-view+json": {
       "model_id": "d67c30428ef4438fa7335d6a700cc109",
       "version_major": 2,
       "version_minor": 0
      },
      "text/plain": [
       "time step:   0%|          | 0/10000 [00:00<?, ?it/s]"
      ]
     },
     "metadata": {},
     "output_type": "display_data"
    },
    {
     "data": {
      "application/vnd.jupyter.widget-view+json": {
       "model_id": "9f168db86d094f34a5b71ae1e2114773",
       "version_major": 2,
       "version_minor": 0
      },
      "text/plain": [
       "time step:   0%|          | 0/10000 [00:00<?, ?it/s]"
      ]
     },
     "metadata": {},
     "output_type": "display_data"
    },
    {
     "data": {
      "application/vnd.jupyter.widget-view+json": {
       "model_id": "c66f92bbaa894141af75409eb4a82d24",
       "version_major": 2,
       "version_minor": 0
      },
      "text/plain": [
       "time step:   0%|          | 0/10000 [00:00<?, ?it/s]"
      ]
     },
     "metadata": {},
     "output_type": "display_data"
    },
    {
     "data": {
      "application/vnd.jupyter.widget-view+json": {
       "model_id": "cf9cbf6b007842d3b92995ed5e1694d9",
       "version_major": 2,
       "version_minor": 0
      },
      "text/plain": [
       "time step:   0%|          | 0/10000 [00:00<?, ?it/s]"
      ]
     },
     "metadata": {},
     "output_type": "display_data"
    },
    {
     "data": {
      "application/vnd.jupyter.widget-view+json": {
       "model_id": "b2c9021eef2b420284687715ecb22ad4",
       "version_major": 2,
       "version_minor": 0
      },
      "text/plain": [
       "time step:   0%|          | 0/10000 [00:00<?, ?it/s]"
      ]
     },
     "metadata": {},
     "output_type": "display_data"
    },
    {
     "data": {
      "application/vnd.jupyter.widget-view+json": {
       "model_id": "3107e36033f54d4ea2fd305ce662c7de",
       "version_major": 2,
       "version_minor": 0
      },
      "text/plain": [
       "time step:   0%|          | 0/10000 [00:00<?, ?it/s]"
      ]
     },
     "metadata": {},
     "output_type": "display_data"
    },
    {
     "data": {
      "application/vnd.jupyter.widget-view+json": {
       "model_id": "34cdcdaf03554f49826b91d9c236b507",
       "version_major": 2,
       "version_minor": 0
      },
      "text/plain": [
       "time step:   0%|          | 0/10000 [00:00<?, ?it/s]"
      ]
     },
     "metadata": {},
     "output_type": "display_data"
    },
    {
     "data": {
      "application/vnd.jupyter.widget-view+json": {
       "model_id": "6f1e65a57bfb48b89adf7fd08967d97f",
       "version_major": 2,
       "version_minor": 0
      },
      "text/plain": [
       "time step:   0%|          | 0/10000 [00:00<?, ?it/s]"
      ]
     },
     "metadata": {},
     "output_type": "display_data"
    },
    {
     "data": {
      "application/vnd.jupyter.widget-view+json": {
       "model_id": "8e67742d130d41948ae3127e265456a3",
       "version_major": 2,
       "version_minor": 0
      },
      "text/plain": [
       "time step:   0%|          | 0/10000 [00:00<?, ?it/s]"
      ]
     },
     "metadata": {},
     "output_type": "display_data"
    },
    {
     "data": {
      "application/vnd.jupyter.widget-view+json": {
       "model_id": "28785da6f2fc4989b19196beb6cc1b6a",
       "version_major": 2,
       "version_minor": 0
      },
      "text/plain": [
       "time step:   0%|          | 0/10000 [00:00<?, ?it/s]"
      ]
     },
     "metadata": {},
     "output_type": "display_data"
    },
    {
     "data": {
      "application/vnd.jupyter.widget-view+json": {
       "model_id": "5cb3b2d391504594994a775d65c9ec3b",
       "version_major": 2,
       "version_minor": 0
      },
      "text/plain": [
       "time step:   0%|          | 0/10000 [00:00<?, ?it/s]"
      ]
     },
     "metadata": {},
     "output_type": "display_data"
    },
    {
     "data": {
      "application/vnd.jupyter.widget-view+json": {
       "model_id": "ade670183b174de9adc522eda7748067",
       "version_major": 2,
       "version_minor": 0
      },
      "text/plain": [
       "time step:   0%|          | 0/10000 [00:00<?, ?it/s]"
      ]
     },
     "metadata": {},
     "output_type": "display_data"
    },
    {
     "data": {
      "application/vnd.jupyter.widget-view+json": {
       "model_id": "630def69de984d58a6b918c95a7f7e9f",
       "version_major": 2,
       "version_minor": 0
      },
      "text/plain": [
       "time step:   0%|          | 0/10000 [00:00<?, ?it/s]"
      ]
     },
     "metadata": {},
     "output_type": "display_data"
    },
    {
     "data": {
      "application/vnd.jupyter.widget-view+json": {
       "model_id": "f1db7109f77849e4a6042a00444bfa69",
       "version_major": 2,
       "version_minor": 0
      },
      "text/plain": [
       "time step:   0%|          | 0/10000 [00:00<?, ?it/s]"
      ]
     },
     "metadata": {},
     "output_type": "display_data"
    },
    {
     "data": {
      "application/vnd.jupyter.widget-view+json": {
       "model_id": "3b566ace97d24f49a0e40fe8be107f62",
       "version_major": 2,
       "version_minor": 0
      },
      "text/plain": [
       "time step:   0%|          | 0/10000 [00:00<?, ?it/s]"
      ]
     },
     "metadata": {},
     "output_type": "display_data"
    },
    {
     "data": {
      "application/vnd.jupyter.widget-view+json": {
       "model_id": "e9ba7aae06e44ad589451b01107bb0d7",
       "version_major": 2,
       "version_minor": 0
      },
      "text/plain": [
       "time step:   0%|          | 0/10000 [00:00<?, ?it/s]"
      ]
     },
     "metadata": {},
     "output_type": "display_data"
    },
    {
     "data": {
      "application/vnd.jupyter.widget-view+json": {
       "model_id": "6dd75269c864427dbf06323caa409b4f",
       "version_major": 2,
       "version_minor": 0
      },
      "text/plain": [
       "time step:   0%|          | 0/10000 [00:00<?, ?it/s]"
      ]
     },
     "metadata": {},
     "output_type": "display_data"
    },
    {
     "data": {
      "application/vnd.jupyter.widget-view+json": {
       "model_id": "bba27427fbeb4bc0ad51f7429f6d03ca",
       "version_major": 2,
       "version_minor": 0
      },
      "text/plain": [
       "time step:   0%|          | 0/10000 [00:00<?, ?it/s]"
      ]
     },
     "metadata": {},
     "output_type": "display_data"
    },
    {
     "data": {
      "application/vnd.jupyter.widget-view+json": {
       "model_id": "d78708f7e03248059a168f5a8c184b22",
       "version_major": 2,
       "version_minor": 0
      },
      "text/plain": [
       "time step:   0%|          | 0/10000 [00:00<?, ?it/s]"
      ]
     },
     "metadata": {},
     "output_type": "display_data"
    },
    {
     "data": {
      "application/vnd.jupyter.widget-view+json": {
       "model_id": "66f7c479d4c5491a881fbcd55d6b47cb",
       "version_major": 2,
       "version_minor": 0
      },
      "text/plain": [
       "time step:   0%|          | 0/10000 [00:00<?, ?it/s]"
      ]
     },
     "metadata": {},
     "output_type": "display_data"
    },
    {
     "data": {
      "application/vnd.jupyter.widget-view+json": {
       "model_id": "8f9fe673e85146b38e8ace19d082e065",
       "version_major": 2,
       "version_minor": 0
      },
      "text/plain": [
       "time step:   0%|          | 0/10000 [00:00<?, ?it/s]"
      ]
     },
     "metadata": {},
     "output_type": "display_data"
    },
    {
     "data": {
      "application/vnd.jupyter.widget-view+json": {
       "model_id": "df5d7a514bb0488ab006deae00cf2b6d",
       "version_major": 2,
       "version_minor": 0
      },
      "text/plain": [
       "time step:   0%|          | 0/10000 [00:00<?, ?it/s]"
      ]
     },
     "metadata": {},
     "output_type": "display_data"
    },
    {
     "data": {
      "application/vnd.jupyter.widget-view+json": {
       "model_id": "c5eb4eb318844bb79abb103a696805e2",
       "version_major": 2,
       "version_minor": 0
      },
      "text/plain": [
       "time step:   0%|          | 0/10000 [00:00<?, ?it/s]"
      ]
     },
     "metadata": {},
     "output_type": "display_data"
    },
    {
     "data": {
      "application/vnd.jupyter.widget-view+json": {
       "model_id": "3d25fa06c4374ca29662521f8229ba64",
       "version_major": 2,
       "version_minor": 0
      },
      "text/plain": [
       "time step:   0%|          | 0/10000 [00:00<?, ?it/s]"
      ]
     },
     "metadata": {},
     "output_type": "display_data"
    },
    {
     "data": {
      "application/vnd.jupyter.widget-view+json": {
       "model_id": "9f3f7e3b978444099363262d06fa5a20",
       "version_major": 2,
       "version_minor": 0
      },
      "text/plain": [
       "time step:   0%|          | 0/10000 [00:00<?, ?it/s]"
      ]
     },
     "metadata": {},
     "output_type": "display_data"
    },
    {
     "data": {
      "application/vnd.jupyter.widget-view+json": {
       "model_id": "31c41649285442e998469135db3dfa17",
       "version_major": 2,
       "version_minor": 0
      },
      "text/plain": [
       "time step:   0%|          | 0/10000 [00:00<?, ?it/s]"
      ]
     },
     "metadata": {},
     "output_type": "display_data"
    },
    {
     "data": {
      "application/vnd.jupyter.widget-view+json": {
       "model_id": "54aca20491c74dc595ae2633e96e042b",
       "version_major": 2,
       "version_minor": 0
      },
      "text/plain": [
       "time step:   0%|          | 0/10000 [00:00<?, ?it/s]"
      ]
     },
     "metadata": {},
     "output_type": "display_data"
    },
    {
     "data": {
      "application/vnd.jupyter.widget-view+json": {
       "model_id": "bbb460195dae480081784fd11919dbe0",
       "version_major": 2,
       "version_minor": 0
      },
      "text/plain": [
       "time step:   0%|          | 0/10000 [00:00<?, ?it/s]"
      ]
     },
     "metadata": {},
     "output_type": "display_data"
    },
    {
     "data": {
      "application/vnd.jupyter.widget-view+json": {
       "model_id": "d01f9bb6ddd8402eb6172aca28337471",
       "version_major": 2,
       "version_minor": 0
      },
      "text/plain": [
       "time step:   0%|          | 0/10000 [00:00<?, ?it/s]"
      ]
     },
     "metadata": {},
     "output_type": "display_data"
    },
    {
     "data": {
      "application/vnd.jupyter.widget-view+json": {
       "model_id": "ea1d20ca435a4da89fad383c2211fa16",
       "version_major": 2,
       "version_minor": 0
      },
      "text/plain": [
       "time step:   0%|          | 0/10000 [00:00<?, ?it/s]"
      ]
     },
     "metadata": {},
     "output_type": "display_data"
    },
    {
     "data": {
      "application/vnd.jupyter.widget-view+json": {
       "model_id": "50cbfcacd8da446aa1e523545ac61a50",
       "version_major": 2,
       "version_minor": 0
      },
      "text/plain": [
       "time step:   0%|          | 0/10000 [00:00<?, ?it/s]"
      ]
     },
     "metadata": {},
     "output_type": "display_data"
    },
    {
     "data": {
      "application/vnd.jupyter.widget-view+json": {
       "model_id": "64c0711717ed468b8b21da2875796975",
       "version_major": 2,
       "version_minor": 0
      },
      "text/plain": [
       "time step:   0%|          | 0/10000 [00:00<?, ?it/s]"
      ]
     },
     "metadata": {},
     "output_type": "display_data"
    },
    {
     "data": {
      "application/vnd.jupyter.widget-view+json": {
       "model_id": "8a0f125bb2344605b63b77c218ebfb8b",
       "version_major": 2,
       "version_minor": 0
      },
      "text/plain": [
       "time step:   0%|          | 0/10000 [00:00<?, ?it/s]"
      ]
     },
     "metadata": {},
     "output_type": "display_data"
    },
    {
     "data": {
      "application/vnd.jupyter.widget-view+json": {
       "model_id": "e100f99455b94ae3ae4420fb6eca52bf",
       "version_major": 2,
       "version_minor": 0
      },
      "text/plain": [
       "time step:   0%|          | 0/10000 [00:00<?, ?it/s]"
      ]
     },
     "metadata": {},
     "output_type": "display_data"
    },
    {
     "data": {
      "application/vnd.jupyter.widget-view+json": {
       "model_id": "375d333ec3674539a941316d51f88b61",
       "version_major": 2,
       "version_minor": 0
      },
      "text/plain": [
       "time step:   0%|          | 0/10000 [00:00<?, ?it/s]"
      ]
     },
     "metadata": {},
     "output_type": "display_data"
    },
    {
     "data": {
      "application/vnd.jupyter.widget-view+json": {
       "model_id": "0bcfb0347fc54356a0e03c384afc9332",
       "version_major": 2,
       "version_minor": 0
      },
      "text/plain": [
       "time step:   0%|          | 0/10000 [00:00<?, ?it/s]"
      ]
     },
     "metadata": {},
     "output_type": "display_data"
    },
    {
     "data": {
      "application/vnd.jupyter.widget-view+json": {
       "model_id": "3be4bd7cc52940cc8244ebe81c261795",
       "version_major": 2,
       "version_minor": 0
      },
      "text/plain": [
       "time step:   0%|          | 0/10000 [00:00<?, ?it/s]"
      ]
     },
     "metadata": {},
     "output_type": "display_data"
    },
    {
     "data": {
      "application/vnd.jupyter.widget-view+json": {
       "model_id": "4c0a0cb1a1084148aa02d5a18552a91f",
       "version_major": 2,
       "version_minor": 0
      },
      "text/plain": [
       "time step:   0%|          | 0/10000 [00:00<?, ?it/s]"
      ]
     },
     "metadata": {},
     "output_type": "display_data"
    },
    {
     "data": {
      "application/vnd.jupyter.widget-view+json": {
       "model_id": "c34a27674a54452383dd0285f8c4be86",
       "version_major": 2,
       "version_minor": 0
      },
      "text/plain": [
       "time step:   0%|          | 0/10000 [00:00<?, ?it/s]"
      ]
     },
     "metadata": {},
     "output_type": "display_data"
    },
    {
     "data": {
      "application/vnd.jupyter.widget-view+json": {
       "model_id": "ccd1379ca59244558357c67c6012e215",
       "version_major": 2,
       "version_minor": 0
      },
      "text/plain": [
       "time step:   0%|          | 0/10000 [00:00<?, ?it/s]"
      ]
     },
     "metadata": {},
     "output_type": "display_data"
    },
    {
     "data": {
      "application/vnd.jupyter.widget-view+json": {
       "model_id": "ee2efc3c0e014b1a89571d7f2b9ef713",
       "version_major": 2,
       "version_minor": 0
      },
      "text/plain": [
       "time step:   0%|          | 0/10000 [00:00<?, ?it/s]"
      ]
     },
     "metadata": {},
     "output_type": "display_data"
    },
    {
     "data": {
      "application/vnd.jupyter.widget-view+json": {
       "model_id": "5299a6a2393942309bb10676f146fbff",
       "version_major": 2,
       "version_minor": 0
      },
      "text/plain": [
       "time step:   0%|          | 0/10000 [00:00<?, ?it/s]"
      ]
     },
     "metadata": {},
     "output_type": "display_data"
    },
    {
     "data": {
      "application/vnd.jupyter.widget-view+json": {
       "model_id": "10b8c3970951420db749c37d96101eaf",
       "version_major": 2,
       "version_minor": 0
      },
      "text/plain": [
       "time step:   0%|          | 0/10000 [00:00<?, ?it/s]"
      ]
     },
     "metadata": {},
     "output_type": "display_data"
    },
    {
     "data": {
      "application/vnd.jupyter.widget-view+json": {
       "model_id": "fb7821c8a9654918b05edd2eb18f8f10",
       "version_major": 2,
       "version_minor": 0
      },
      "text/plain": [
       "time step:   0%|          | 0/10000 [00:00<?, ?it/s]"
      ]
     },
     "metadata": {},
     "output_type": "display_data"
    },
    {
     "data": {
      "application/vnd.jupyter.widget-view+json": {
       "model_id": "25009d786d1d4e90a7aa43a4442a1b81",
       "version_major": 2,
       "version_minor": 0
      },
      "text/plain": [
       "time step:   0%|          | 0/10000 [00:00<?, ?it/s]"
      ]
     },
     "metadata": {},
     "output_type": "display_data"
    },
    {
     "data": {
      "application/vnd.jupyter.widget-view+json": {
       "model_id": "700343be4cef476d9ccf960bc7699dde",
       "version_major": 2,
       "version_minor": 0
      },
      "text/plain": [
       "time step:   0%|          | 0/10000 [00:00<?, ?it/s]"
      ]
     },
     "metadata": {},
     "output_type": "display_data"
    },
    {
     "data": {
      "application/vnd.jupyter.widget-view+json": {
       "model_id": "efbb2c526d0d469882bb5b3cd29c9137",
       "version_major": 2,
       "version_minor": 0
      },
      "text/plain": [
       "time step:   0%|          | 0/10000 [00:00<?, ?it/s]"
      ]
     },
     "metadata": {},
     "output_type": "display_data"
    },
    {
     "data": {
      "application/vnd.jupyter.widget-view+json": {
       "model_id": "9d0204cc7b144be3a4287dc1fe986b4a",
       "version_major": 2,
       "version_minor": 0
      },
      "text/plain": [
       "time step:   0%|          | 0/10000 [00:00<?, ?it/s]"
      ]
     },
     "metadata": {},
     "output_type": "display_data"
    },
    {
     "data": {
      "application/vnd.jupyter.widget-view+json": {
       "model_id": "e1e3f0bdb5794e76b5a6db28fe06c5cd",
       "version_major": 2,
       "version_minor": 0
      },
      "text/plain": [
       "time step:   0%|          | 0/10000 [00:00<?, ?it/s]"
      ]
     },
     "metadata": {},
     "output_type": "display_data"
    },
    {
     "data": {
      "application/vnd.jupyter.widget-view+json": {
       "model_id": "6ef643bba30145198889472b516fad4c",
       "version_major": 2,
       "version_minor": 0
      },
      "text/plain": [
       "time step:   0%|          | 0/10000 [00:00<?, ?it/s]"
      ]
     },
     "metadata": {},
     "output_type": "display_data"
    },
    {
     "data": {
      "application/vnd.jupyter.widget-view+json": {
       "model_id": "c6067163c4df4dc08fc088161a289f90",
       "version_major": 2,
       "version_minor": 0
      },
      "text/plain": [
       "time step:   0%|          | 0/10000 [00:00<?, ?it/s]"
      ]
     },
     "metadata": {},
     "output_type": "display_data"
    },
    {
     "data": {
      "application/vnd.jupyter.widget-view+json": {
       "model_id": "c8dd5d9fd0b147ae824f410a665dbcc5",
       "version_major": 2,
       "version_minor": 0
      },
      "text/plain": [
       "time step:   0%|          | 0/10000 [00:00<?, ?it/s]"
      ]
     },
     "metadata": {},
     "output_type": "display_data"
    },
    {
     "data": {
      "application/vnd.jupyter.widget-view+json": {
       "model_id": "64d9e5f81f0643489c3f8d9f38bb7b45",
       "version_major": 2,
       "version_minor": 0
      },
      "text/plain": [
       "time step:   0%|          | 0/10000 [00:00<?, ?it/s]"
      ]
     },
     "metadata": {},
     "output_type": "display_data"
    },
    {
     "data": {
      "application/vnd.jupyter.widget-view+json": {
       "model_id": "203e8b0f843f426d807255a4e052e86f",
       "version_major": 2,
       "version_minor": 0
      },
      "text/plain": [
       "time step:   0%|          | 0/10000 [00:00<?, ?it/s]"
      ]
     },
     "metadata": {},
     "output_type": "display_data"
    },
    {
     "data": {
      "application/vnd.jupyter.widget-view+json": {
       "model_id": "27a48342acd245899f5877f87750b7e0",
       "version_major": 2,
       "version_minor": 0
      },
      "text/plain": [
       "time step:   0%|          | 0/10000 [00:00<?, ?it/s]"
      ]
     },
     "metadata": {},
     "output_type": "display_data"
    },
    {
     "data": {
      "application/vnd.jupyter.widget-view+json": {
       "model_id": "62c1f088c2ff473783acd3c843cc4b07",
       "version_major": 2,
       "version_minor": 0
      },
      "text/plain": [
       "time step:   0%|          | 0/10000 [00:00<?, ?it/s]"
      ]
     },
     "metadata": {},
     "output_type": "display_data"
    },
    {
     "data": {
      "application/vnd.jupyter.widget-view+json": {
       "model_id": "0b55fac04fbe436a95398153ab3f8937",
       "version_major": 2,
       "version_minor": 0
      },
      "text/plain": [
       "time step:   0%|          | 0/10000 [00:00<?, ?it/s]"
      ]
     },
     "metadata": {},
     "output_type": "display_data"
    },
    {
     "data": {
      "application/vnd.jupyter.widget-view+json": {
       "model_id": "54a6ed695ec543f3a02df340f58f77af",
       "version_major": 2,
       "version_minor": 0
      },
      "text/plain": [
       "time step:   0%|          | 0/10000 [00:00<?, ?it/s]"
      ]
     },
     "metadata": {},
     "output_type": "display_data"
    },
    {
     "data": {
      "application/vnd.jupyter.widget-view+json": {
       "model_id": "89f6e49dd1fe494b96589eb01ee6f636",
       "version_major": 2,
       "version_minor": 0
      },
      "text/plain": [
       "time step:   0%|          | 0/10000 [00:00<?, ?it/s]"
      ]
     },
     "metadata": {},
     "output_type": "display_data"
    },
    {
     "data": {
      "application/vnd.jupyter.widget-view+json": {
       "model_id": "cb3798a67ce144f9b86f07e049ee05fe",
       "version_major": 2,
       "version_minor": 0
      },
      "text/plain": [
       "time step:   0%|          | 0/10000 [00:00<?, ?it/s]"
      ]
     },
     "metadata": {},
     "output_type": "display_data"
    },
    {
     "data": {
      "application/vnd.jupyter.widget-view+json": {
       "model_id": "608203b467414f939939073fce7e9674",
       "version_major": 2,
       "version_minor": 0
      },
      "text/plain": [
       "time step:   0%|          | 0/10000 [00:00<?, ?it/s]"
      ]
     },
     "metadata": {},
     "output_type": "display_data"
    },
    {
     "data": {
      "application/vnd.jupyter.widget-view+json": {
       "model_id": "1b99b8c9451846fb9f7fa7abb30eabdc",
       "version_major": 2,
       "version_minor": 0
      },
      "text/plain": [
       "time step:   0%|          | 0/10000 [00:00<?, ?it/s]"
      ]
     },
     "metadata": {},
     "output_type": "display_data"
    },
    {
     "data": {
      "application/vnd.jupyter.widget-view+json": {
       "model_id": "1c0826dfb7fd46de969dfe58c2a42f82",
       "version_major": 2,
       "version_minor": 0
      },
      "text/plain": [
       "time step:   0%|          | 0/10000 [00:00<?, ?it/s]"
      ]
     },
     "metadata": {},
     "output_type": "display_data"
    },
    {
     "data": {
      "application/vnd.jupyter.widget-view+json": {
       "model_id": "a51d78fbbaaa43b6b0e749246e15fcc7",
       "version_major": 2,
       "version_minor": 0
      },
      "text/plain": [
       "time step:   0%|          | 0/10000 [00:00<?, ?it/s]"
      ]
     },
     "metadata": {},
     "output_type": "display_data"
    },
    {
     "data": {
      "application/vnd.jupyter.widget-view+json": {
       "model_id": "cb4d99677fa2423cb1d5de4c96554d62",
       "version_major": 2,
       "version_minor": 0
      },
      "text/plain": [
       "time step:   0%|          | 0/10000 [00:00<?, ?it/s]"
      ]
     },
     "metadata": {},
     "output_type": "display_data"
    },
    {
     "data": {
      "application/vnd.jupyter.widget-view+json": {
       "model_id": "49746e21dd5544deacb50633690d9e17",
       "version_major": 2,
       "version_minor": 0
      },
      "text/plain": [
       "time step:   0%|          | 0/10000 [00:00<?, ?it/s]"
      ]
     },
     "metadata": {},
     "output_type": "display_data"
    },
    {
     "data": {
      "application/vnd.jupyter.widget-view+json": {
       "model_id": "e7150f231a5a4c23951d85ca70d65bc0",
       "version_major": 2,
       "version_minor": 0
      },
      "text/plain": [
       "time step:   0%|          | 0/10000 [00:00<?, ?it/s]"
      ]
     },
     "metadata": {},
     "output_type": "display_data"
    },
    {
     "data": {
      "application/vnd.jupyter.widget-view+json": {
       "model_id": "b6d98b22588a4371a42202dc633d2293",
       "version_major": 2,
       "version_minor": 0
      },
      "text/plain": [
       "time step:   0%|          | 0/10000 [00:00<?, ?it/s]"
      ]
     },
     "metadata": {},
     "output_type": "display_data"
    },
    {
     "data": {
      "application/vnd.jupyter.widget-view+json": {
       "model_id": "a685dad183e841ab89659bd019116f3d",
       "version_major": 2,
       "version_minor": 0
      },
      "text/plain": [
       "time step:   0%|          | 0/10000 [00:00<?, ?it/s]"
      ]
     },
     "metadata": {},
     "output_type": "display_data"
    },
    {
     "data": {
      "application/vnd.jupyter.widget-view+json": {
       "model_id": "88ca2b1a3fc745ad98a7218d5b445ca4",
       "version_major": 2,
       "version_minor": 0
      },
      "text/plain": [
       "time step:   0%|          | 0/10000 [00:00<?, ?it/s]"
      ]
     },
     "metadata": {},
     "output_type": "display_data"
    },
    {
     "data": {
      "application/vnd.jupyter.widget-view+json": {
       "model_id": "6884e124615c4e49841820daca3169c4",
       "version_major": 2,
       "version_minor": 0
      },
      "text/plain": [
       "time step:   0%|          | 0/10000 [00:00<?, ?it/s]"
      ]
     },
     "metadata": {},
     "output_type": "display_data"
    },
    {
     "data": {
      "application/vnd.jupyter.widget-view+json": {
       "model_id": "7f6c76e7e3b541e68cc7b0e1445437ed",
       "version_major": 2,
       "version_minor": 0
      },
      "text/plain": [
       "time step:   0%|          | 0/10000 [00:00<?, ?it/s]"
      ]
     },
     "metadata": {},
     "output_type": "display_data"
    },
    {
     "data": {
      "application/vnd.jupyter.widget-view+json": {
       "model_id": "fef9caa7614948f19a9d2f0becc9aa4e",
       "version_major": 2,
       "version_minor": 0
      },
      "text/plain": [
       "time step:   0%|          | 0/10000 [00:00<?, ?it/s]"
      ]
     },
     "metadata": {},
     "output_type": "display_data"
    },
    {
     "data": {
      "application/vnd.jupyter.widget-view+json": {
       "model_id": "3019dc568b1e4ce3982d704a78a09946",
       "version_major": 2,
       "version_minor": 0
      },
      "text/plain": [
       "time step:   0%|          | 0/10000 [00:00<?, ?it/s]"
      ]
     },
     "metadata": {},
     "output_type": "display_data"
    },
    {
     "data": {
      "application/vnd.jupyter.widget-view+json": {
       "model_id": "ea7e1f1e9cc944b5866fc1ffae918c2a",
       "version_major": 2,
       "version_minor": 0
      },
      "text/plain": [
       "time step:   0%|          | 0/10000 [00:00<?, ?it/s]"
      ]
     },
     "metadata": {},
     "output_type": "display_data"
    },
    {
     "data": {
      "application/vnd.jupyter.widget-view+json": {
       "model_id": "7c8728d8a1a349a59b09378a99f127e8",
       "version_major": 2,
       "version_minor": 0
      },
      "text/plain": [
       "time step:   0%|          | 0/10000 [00:00<?, ?it/s]"
      ]
     },
     "metadata": {},
     "output_type": "display_data"
    },
    {
     "data": {
      "application/vnd.jupyter.widget-view+json": {
       "model_id": "3aba92aa6ed846e4b2546c83dbd7cc47",
       "version_major": 2,
       "version_minor": 0
      },
      "text/plain": [
       "time step:   0%|          | 0/10000 [00:00<?, ?it/s]"
      ]
     },
     "metadata": {},
     "output_type": "display_data"
    },
    {
     "data": {
      "application/vnd.jupyter.widget-view+json": {
       "model_id": "a4565d75dbaa4e1791ece9647d53a06a",
       "version_major": 2,
       "version_minor": 0
      },
      "text/plain": [
       "time step:   0%|          | 0/10000 [00:00<?, ?it/s]"
      ]
     },
     "metadata": {},
     "output_type": "display_data"
    },
    {
     "data": {
      "application/vnd.jupyter.widget-view+json": {
       "model_id": "90f08dcd53654ed6bb757dd24d825058",
       "version_major": 2,
       "version_minor": 0
      },
      "text/plain": [
       "time step:   0%|          | 0/10000 [00:00<?, ?it/s]"
      ]
     },
     "metadata": {},
     "output_type": "display_data"
    },
    {
     "data": {
      "application/vnd.jupyter.widget-view+json": {
       "model_id": "bf7c805a43d244a5b1d5e7533b0c5e6c",
       "version_major": 2,
       "version_minor": 0
      },
      "text/plain": [
       "time step:   0%|          | 0/10000 [00:00<?, ?it/s]"
      ]
     },
     "metadata": {},
     "output_type": "display_data"
    },
    {
     "data": {
      "application/vnd.jupyter.widget-view+json": {
       "model_id": "0e8993c394614d1e86e61d381780bffa",
       "version_major": 2,
       "version_minor": 0
      },
      "text/plain": [
       "time step:   0%|          | 0/10000 [00:00<?, ?it/s]"
      ]
     },
     "metadata": {},
     "output_type": "display_data"
    },
    {
     "data": {
      "application/vnd.jupyter.widget-view+json": {
       "model_id": "0e014d489f144f5b8a1f5796779f483e",
       "version_major": 2,
       "version_minor": 0
      },
      "text/plain": [
       "time step:   0%|          | 0/10000 [00:00<?, ?it/s]"
      ]
     },
     "metadata": {},
     "output_type": "display_data"
    },
    {
     "data": {
      "application/vnd.jupyter.widget-view+json": {
       "model_id": "b953d90cd8264334ba5f15cd8631cd64",
       "version_major": 2,
       "version_minor": 0
      },
      "text/plain": [
       "time step:   0%|          | 0/10000 [00:00<?, ?it/s]"
      ]
     },
     "metadata": {},
     "output_type": "display_data"
    },
    {
     "data": {
      "application/vnd.jupyter.widget-view+json": {
       "model_id": "1a8f1e0ef0314a0baefb4a68699b3aff",
       "version_major": 2,
       "version_minor": 0
      },
      "text/plain": [
       "time step:   0%|          | 0/10000 [00:00<?, ?it/s]"
      ]
     },
     "metadata": {},
     "output_type": "display_data"
    },
    {
     "data": {
      "application/vnd.jupyter.widget-view+json": {
       "model_id": "0cbd193cfb40430195e5d5157fa1f2dc",
       "version_major": 2,
       "version_minor": 0
      },
      "text/plain": [
       "time step:   0%|          | 0/10000 [00:00<?, ?it/s]"
      ]
     },
     "metadata": {},
     "output_type": "display_data"
    },
    {
     "data": {
      "application/vnd.jupyter.widget-view+json": {
       "model_id": "b7f3dafd3a764a57814889c1afe80abb",
       "version_major": 2,
       "version_minor": 0
      },
      "text/plain": [
       "time step:   0%|          | 0/10000 [00:00<?, ?it/s]"
      ]
     },
     "metadata": {},
     "output_type": "display_data"
    },
    {
     "data": {
      "application/vnd.jupyter.widget-view+json": {
       "model_id": "b103e6b2700647d39ab66fca08cb61a1",
       "version_major": 2,
       "version_minor": 0
      },
      "text/plain": [
       "time step:   0%|          | 0/10000 [00:00<?, ?it/s]"
      ]
     },
     "metadata": {},
     "output_type": "display_data"
    },
    {
     "data": {
      "application/vnd.jupyter.widget-view+json": {
       "model_id": "2bd6eb355d4745c1abad61c5c686864b",
       "version_major": 2,
       "version_minor": 0
      },
      "text/plain": [
       "time step:   0%|          | 0/10000 [00:00<?, ?it/s]"
      ]
     },
     "metadata": {},
     "output_type": "display_data"
    },
    {
     "data": {
      "application/vnd.jupyter.widget-view+json": {
       "model_id": "69050d609d674452b6e2d97f933e1b83",
       "version_major": 2,
       "version_minor": 0
      },
      "text/plain": [
       "time step:   0%|          | 0/10000 [00:00<?, ?it/s]"
      ]
     },
     "metadata": {},
     "output_type": "display_data"
    },
    {
     "data": {
      "application/vnd.jupyter.widget-view+json": {
       "model_id": "176af44c3472426bb360b0133fed2601",
       "version_major": 2,
       "version_minor": 0
      },
      "text/plain": [
       "time step:   0%|          | 0/10000 [00:00<?, ?it/s]"
      ]
     },
     "metadata": {},
     "output_type": "display_data"
    },
    {
     "data": {
      "application/vnd.jupyter.widget-view+json": {
       "model_id": "0eaa92e92fe2471c82b7564f89b88a48",
       "version_major": 2,
       "version_minor": 0
      },
      "text/plain": [
       "time step:   0%|          | 0/10000 [00:00<?, ?it/s]"
      ]
     },
     "metadata": {},
     "output_type": "display_data"
    },
    {
     "data": {
      "application/vnd.jupyter.widget-view+json": {
       "model_id": "960c9cb9ef624cae979f68d98f99796e",
       "version_major": 2,
       "version_minor": 0
      },
      "text/plain": [
       "time step:   0%|          | 0/10000 [00:00<?, ?it/s]"
      ]
     },
     "metadata": {},
     "output_type": "display_data"
    },
    {
     "data": {
      "application/vnd.jupyter.widget-view+json": {
       "model_id": "bfeb5448b08c486c8e80b1a44fd0468e",
       "version_major": 2,
       "version_minor": 0
      },
      "text/plain": [
       "time step:   0%|          | 0/10000 [00:00<?, ?it/s]"
      ]
     },
     "metadata": {},
     "output_type": "display_data"
    },
    {
     "data": {
      "application/vnd.jupyter.widget-view+json": {
       "model_id": "ad4eed15cbb245f5b328889af3fce5a4",
       "version_major": 2,
       "version_minor": 0
      },
      "text/plain": [
       "time step:   0%|          | 0/10000 [00:00<?, ?it/s]"
      ]
     },
     "metadata": {},
     "output_type": "display_data"
    },
    {
     "data": {
      "application/vnd.jupyter.widget-view+json": {
       "model_id": "97730bbaa4c145acbe4d1eaaa3c8fd3c",
       "version_major": 2,
       "version_minor": 0
      },
      "text/plain": [
       "time step:   0%|          | 0/10000 [00:00<?, ?it/s]"
      ]
     },
     "metadata": {},
     "output_type": "display_data"
    },
    {
     "data": {
      "application/vnd.jupyter.widget-view+json": {
       "model_id": "3a66a56f75074880b08d631f1f6ad054",
       "version_major": 2,
       "version_minor": 0
      },
      "text/plain": [
       "time step:   0%|          | 0/10000 [00:00<?, ?it/s]"
      ]
     },
     "metadata": {},
     "output_type": "display_data"
    },
    {
     "data": {
      "application/vnd.jupyter.widget-view+json": {
       "model_id": "536a26eef35f4460be9650c54b22f62f",
       "version_major": 2,
       "version_minor": 0
      },
      "text/plain": [
       "time step:   0%|          | 0/10000 [00:00<?, ?it/s]"
      ]
     },
     "metadata": {},
     "output_type": "display_data"
    },
    {
     "data": {
      "application/vnd.jupyter.widget-view+json": {
       "model_id": "6be7d2cbdcf0453f837ed158f0de02bf",
       "version_major": 2,
       "version_minor": 0
      },
      "text/plain": [
       "time step:   0%|          | 0/10000 [00:00<?, ?it/s]"
      ]
     },
     "metadata": {},
     "output_type": "display_data"
    },
    {
     "data": {
      "application/vnd.jupyter.widget-view+json": {
       "model_id": "5d6b4ce9c46b4f2fb0c48af192b80574",
       "version_major": 2,
       "version_minor": 0
      },
      "text/plain": [
       "time step:   0%|          | 0/10000 [00:00<?, ?it/s]"
      ]
     },
     "metadata": {},
     "output_type": "display_data"
    },
    {
     "data": {
      "application/vnd.jupyter.widget-view+json": {
       "model_id": "71bd102fb4734e37bbad4e363da2641d",
       "version_major": 2,
       "version_minor": 0
      },
      "text/plain": [
       "time step:   0%|          | 0/10000 [00:00<?, ?it/s]"
      ]
     },
     "metadata": {},
     "output_type": "display_data"
    },
    {
     "data": {
      "application/vnd.jupyter.widget-view+json": {
       "model_id": "88a1c5a8dd894b45a3125b268b5dda96",
       "version_major": 2,
       "version_minor": 0
      },
      "text/plain": [
       "time step:   0%|          | 0/10000 [00:00<?, ?it/s]"
      ]
     },
     "metadata": {},
     "output_type": "display_data"
    },
    {
     "data": {
      "application/vnd.jupyter.widget-view+json": {
       "model_id": "8a2f3de60eca4e90911dac0bd2cac190",
       "version_major": 2,
       "version_minor": 0
      },
      "text/plain": [
       "time step:   0%|          | 0/10000 [00:00<?, ?it/s]"
      ]
     },
     "metadata": {},
     "output_type": "display_data"
    },
    {
     "data": {
      "application/vnd.jupyter.widget-view+json": {
       "model_id": "3ca53ab99fa24b318d6af8e8fc5f8ef0",
       "version_major": 2,
       "version_minor": 0
      },
      "text/plain": [
       "time step:   0%|          | 0/10000 [00:00<?, ?it/s]"
      ]
     },
     "metadata": {},
     "output_type": "display_data"
    },
    {
     "data": {
      "application/vnd.jupyter.widget-view+json": {
       "model_id": "86e3b804df1749898ea8d9cc0f80b6c8",
       "version_major": 2,
       "version_minor": 0
      },
      "text/plain": [
       "time step:   0%|          | 0/10000 [00:00<?, ?it/s]"
      ]
     },
     "metadata": {},
     "output_type": "display_data"
    },
    {
     "data": {
      "application/vnd.jupyter.widget-view+json": {
       "model_id": "27a1e43eaaaf4aee9709cad81206d47c",
       "version_major": 2,
       "version_minor": 0
      },
      "text/plain": [
       "time step:   0%|          | 0/10000 [00:00<?, ?it/s]"
      ]
     },
     "metadata": {},
     "output_type": "display_data"
    },
    {
     "data": {
      "application/vnd.jupyter.widget-view+json": {
       "model_id": "ac866fc64ae84bc2b327bb51f3a38352",
       "version_major": 2,
       "version_minor": 0
      },
      "text/plain": [
       "time step:   0%|          | 0/10000 [00:00<?, ?it/s]"
      ]
     },
     "metadata": {},
     "output_type": "display_data"
    },
    {
     "data": {
      "application/vnd.jupyter.widget-view+json": {
       "model_id": "12e59e305ad34dbf957bfa8bf2ddf4e7",
       "version_major": 2,
       "version_minor": 0
      },
      "text/plain": [
       "time step:   0%|          | 0/10000 [00:00<?, ?it/s]"
      ]
     },
     "metadata": {},
     "output_type": "display_data"
    },
    {
     "data": {
      "application/vnd.jupyter.widget-view+json": {
       "model_id": "d1d9fe95760342c69e22bde913aaf3b2",
       "version_major": 2,
       "version_minor": 0
      },
      "text/plain": [
       "time step:   0%|          | 0/10000 [00:00<?, ?it/s]"
      ]
     },
     "metadata": {},
     "output_type": "display_data"
    },
    {
     "data": {
      "application/vnd.jupyter.widget-view+json": {
       "model_id": "d812bcc1f2c2454abdf3d1f744874a79",
       "version_major": 2,
       "version_minor": 0
      },
      "text/plain": [
       "time step:   0%|          | 0/10000 [00:00<?, ?it/s]"
      ]
     },
     "metadata": {},
     "output_type": "display_data"
    },
    {
     "data": {
      "application/vnd.jupyter.widget-view+json": {
       "model_id": "d34879a80d144066a22ec2be555feb96",
       "version_major": 2,
       "version_minor": 0
      },
      "text/plain": [
       "time step:   0%|          | 0/10000 [00:00<?, ?it/s]"
      ]
     },
     "metadata": {},
     "output_type": "display_data"
    },
    {
     "data": {
      "application/vnd.jupyter.widget-view+json": {
       "model_id": "d33264c65f3a4244a1ac22b4362b4988",
       "version_major": 2,
       "version_minor": 0
      },
      "text/plain": [
       "time step:   0%|          | 0/10000 [00:00<?, ?it/s]"
      ]
     },
     "metadata": {},
     "output_type": "display_data"
    },
    {
     "data": {
      "application/vnd.jupyter.widget-view+json": {
       "model_id": "0a8a683c6ffa4e9981840097a974127f",
       "version_major": 2,
       "version_minor": 0
      },
      "text/plain": [
       "time step:   0%|          | 0/10000 [00:00<?, ?it/s]"
      ]
     },
     "metadata": {},
     "output_type": "display_data"
    },
    {
     "data": {
      "application/vnd.jupyter.widget-view+json": {
       "model_id": "d1ba8b093ca54a54943b613181cd6909",
       "version_major": 2,
       "version_minor": 0
      },
      "text/plain": [
       "time step:   0%|          | 0/10000 [00:00<?, ?it/s]"
      ]
     },
     "metadata": {},
     "output_type": "display_data"
    },
    {
     "data": {
      "application/vnd.jupyter.widget-view+json": {
       "model_id": "210f4d5bd9b14070bb40b4653302c923",
       "version_major": 2,
       "version_minor": 0
      },
      "text/plain": [
       "time step:   0%|          | 0/10000 [00:00<?, ?it/s]"
      ]
     },
     "metadata": {},
     "output_type": "display_data"
    },
    {
     "data": {
      "application/vnd.jupyter.widget-view+json": {
       "model_id": "7789a7d5145e4c97a0a28033d01dd5ca",
       "version_major": 2,
       "version_minor": 0
      },
      "text/plain": [
       "time step:   0%|          | 0/10000 [00:00<?, ?it/s]"
      ]
     },
     "metadata": {},
     "output_type": "display_data"
    },
    {
     "data": {
      "application/vnd.jupyter.widget-view+json": {
       "model_id": "53aee5fe432145818ae5da1fde5adc43",
       "version_major": 2,
       "version_minor": 0
      },
      "text/plain": [
       "time step:   0%|          | 0/10000 [00:00<?, ?it/s]"
      ]
     },
     "metadata": {},
     "output_type": "display_data"
    },
    {
     "data": {
      "application/vnd.jupyter.widget-view+json": {
       "model_id": "c0c8339936cb4506a896afd6a07517cb",
       "version_major": 2,
       "version_minor": 0
      },
      "text/plain": [
       "time step:   0%|          | 0/10000 [00:00<?, ?it/s]"
      ]
     },
     "metadata": {},
     "output_type": "display_data"
    },
    {
     "data": {
      "application/vnd.jupyter.widget-view+json": {
       "model_id": "c19cfc26340f44b8b9b20fa26d29ac30",
       "version_major": 2,
       "version_minor": 0
      },
      "text/plain": [
       "time step:   0%|          | 0/10000 [00:00<?, ?it/s]"
      ]
     },
     "metadata": {},
     "output_type": "display_data"
    },
    {
     "data": {
      "application/vnd.jupyter.widget-view+json": {
       "model_id": "6c2c7356e2d54e1da4c8854ebc6d51d4",
       "version_major": 2,
       "version_minor": 0
      },
      "text/plain": [
       "time step:   0%|          | 0/10000 [00:00<?, ?it/s]"
      ]
     },
     "metadata": {},
     "output_type": "display_data"
    },
    {
     "data": {
      "application/vnd.jupyter.widget-view+json": {
       "model_id": "febfd9c1ba734c54bc22467a30a9a624",
       "version_major": 2,
       "version_minor": 0
      },
      "text/plain": [
       "time step:   0%|          | 0/10000 [00:00<?, ?it/s]"
      ]
     },
     "metadata": {},
     "output_type": "display_data"
    },
    {
     "data": {
      "application/vnd.jupyter.widget-view+json": {
       "model_id": "18efe43ea61d40f88d0cb2cb6932c288",
       "version_major": 2,
       "version_minor": 0
      },
      "text/plain": [
       "time step:   0%|          | 0/10000 [00:00<?, ?it/s]"
      ]
     },
     "metadata": {},
     "output_type": "display_data"
    },
    {
     "data": {
      "application/vnd.jupyter.widget-view+json": {
       "model_id": "6191da30f9954952ad2617aff1ad3c13",
       "version_major": 2,
       "version_minor": 0
      },
      "text/plain": [
       "time step:   0%|          | 0/10000 [00:00<?, ?it/s]"
      ]
     },
     "metadata": {},
     "output_type": "display_data"
    },
    {
     "data": {
      "application/vnd.jupyter.widget-view+json": {
       "model_id": "2d256c325b0c4f92bb186a2d590018c2",
       "version_major": 2,
       "version_minor": 0
      },
      "text/plain": [
       "time step:   0%|          | 0/10000 [00:00<?, ?it/s]"
      ]
     },
     "metadata": {},
     "output_type": "display_data"
    },
    {
     "data": {
      "application/vnd.jupyter.widget-view+json": {
       "model_id": "0219e8698fbd48fbb0709002c6a6dc87",
       "version_major": 2,
       "version_minor": 0
      },
      "text/plain": [
       "time step:   0%|          | 0/10000 [00:00<?, ?it/s]"
      ]
     },
     "metadata": {},
     "output_type": "display_data"
    },
    {
     "data": {
      "application/vnd.jupyter.widget-view+json": {
       "model_id": "4ed7e215e557421e89d93eb4204f42ab",
       "version_major": 2,
       "version_minor": 0
      },
      "text/plain": [
       "time step:   0%|          | 0/10000 [00:00<?, ?it/s]"
      ]
     },
     "metadata": {},
     "output_type": "display_data"
    },
    {
     "data": {
      "application/vnd.jupyter.widget-view+json": {
       "model_id": "a98e1bb9f9894baba5dfbf6333d2ef15",
       "version_major": 2,
       "version_minor": 0
      },
      "text/plain": [
       "time step:   0%|          | 0/10000 [00:00<?, ?it/s]"
      ]
     },
     "metadata": {},
     "output_type": "display_data"
    },
    {
     "data": {
      "application/vnd.jupyter.widget-view+json": {
       "model_id": "51102a5504ea4f10a5a5cfda93e2d5ba",
       "version_major": 2,
       "version_minor": 0
      },
      "text/plain": [
       "time step:   0%|          | 0/10000 [00:00<?, ?it/s]"
      ]
     },
     "metadata": {},
     "output_type": "display_data"
    },
    {
     "data": {
      "application/vnd.jupyter.widget-view+json": {
       "model_id": "d54b739191d74f80bc65f186a8c40d62",
       "version_major": 2,
       "version_minor": 0
      },
      "text/plain": [
       "time step:   0%|          | 0/10000 [00:00<?, ?it/s]"
      ]
     },
     "metadata": {},
     "output_type": "display_data"
    },
    {
     "data": {
      "application/vnd.jupyter.widget-view+json": {
       "model_id": "703cdf77dfd546c08b78c8b0ead9970d",
       "version_major": 2,
       "version_minor": 0
      },
      "text/plain": [
       "time step:   0%|          | 0/10000 [00:00<?, ?it/s]"
      ]
     },
     "metadata": {},
     "output_type": "display_data"
    },
    {
     "data": {
      "application/vnd.jupyter.widget-view+json": {
       "model_id": "346947b448e34cb9a03c3b3ade8aba04",
       "version_major": 2,
       "version_minor": 0
      },
      "text/plain": [
       "time step:   0%|          | 0/10000 [00:00<?, ?it/s]"
      ]
     },
     "metadata": {},
     "output_type": "display_data"
    },
    {
     "data": {
      "application/vnd.jupyter.widget-view+json": {
       "model_id": "f7993ebeb4264ede8dc7c67aab192889",
       "version_major": 2,
       "version_minor": 0
      },
      "text/plain": [
       "time step:   0%|          | 0/10000 [00:00<?, ?it/s]"
      ]
     },
     "metadata": {},
     "output_type": "display_data"
    },
    {
     "data": {
      "application/vnd.jupyter.widget-view+json": {
       "model_id": "1d4d4d03f5c54011beb9e6e673d993ea",
       "version_major": 2,
       "version_minor": 0
      },
      "text/plain": [
       "time step:   0%|          | 0/10000 [00:00<?, ?it/s]"
      ]
     },
     "metadata": {},
     "output_type": "display_data"
    },
    {
     "data": {
      "application/vnd.jupyter.widget-view+json": {
       "model_id": "6dc5600a811b4e78b795ce82a07113f3",
       "version_major": 2,
       "version_minor": 0
      },
      "text/plain": [
       "time step:   0%|          | 0/10000 [00:00<?, ?it/s]"
      ]
     },
     "metadata": {},
     "output_type": "display_data"
    },
    {
     "data": {
      "application/vnd.jupyter.widget-view+json": {
       "model_id": "13bfd5fd9b10483ea49f65f65a8cddf9",
       "version_major": 2,
       "version_minor": 0
      },
      "text/plain": [
       "time step:   0%|          | 0/10000 [00:00<?, ?it/s]"
      ]
     },
     "metadata": {},
     "output_type": "display_data"
    },
    {
     "data": {
      "application/vnd.jupyter.widget-view+json": {
       "model_id": "3ac10528c6bf4161ba837d608df5730c",
       "version_major": 2,
       "version_minor": 0
      },
      "text/plain": [
       "time step:   0%|          | 0/10000 [00:00<?, ?it/s]"
      ]
     },
     "metadata": {},
     "output_type": "display_data"
    },
    {
     "data": {
      "application/vnd.jupyter.widget-view+json": {
       "model_id": "979027a10ebf44738624756d74e9e059",
       "version_major": 2,
       "version_minor": 0
      },
      "text/plain": [
       "time step:   0%|          | 0/10000 [00:00<?, ?it/s]"
      ]
     },
     "metadata": {},
     "output_type": "display_data"
    },
    {
     "data": {
      "application/vnd.jupyter.widget-view+json": {
       "model_id": "dc685c64ad014caa8326a7cd1df2639b",
       "version_major": 2,
       "version_minor": 0
      },
      "text/plain": [
       "time step:   0%|          | 0/10000 [00:00<?, ?it/s]"
      ]
     },
     "metadata": {},
     "output_type": "display_data"
    },
    {
     "data": {
      "application/vnd.jupyter.widget-view+json": {
       "model_id": "8bcd38af737b42d8afabd83320acd3f7",
       "version_major": 2,
       "version_minor": 0
      },
      "text/plain": [
       "time step:   0%|          | 0/10000 [00:00<?, ?it/s]"
      ]
     },
     "metadata": {},
     "output_type": "display_data"
    },
    {
     "data": {
      "application/vnd.jupyter.widget-view+json": {
       "model_id": "de3fbb5b6f4f41929015d5244f2558d0",
       "version_major": 2,
       "version_minor": 0
      },
      "text/plain": [
       "time step:   0%|          | 0/10000 [00:00<?, ?it/s]"
      ]
     },
     "metadata": {},
     "output_type": "display_data"
    },
    {
     "data": {
      "application/vnd.jupyter.widget-view+json": {
       "model_id": "41e972531ebb4786acc008ed0845ec98",
       "version_major": 2,
       "version_minor": 0
      },
      "text/plain": [
       "time step:   0%|          | 0/10000 [00:00<?, ?it/s]"
      ]
     },
     "metadata": {},
     "output_type": "display_data"
    },
    {
     "data": {
      "application/vnd.jupyter.widget-view+json": {
       "model_id": "a28e0d580911442b9d1cfed59600cb2b",
       "version_major": 2,
       "version_minor": 0
      },
      "text/plain": [
       "time step:   0%|          | 0/10000 [00:00<?, ?it/s]"
      ]
     },
     "metadata": {},
     "output_type": "display_data"
    },
    {
     "data": {
      "application/vnd.jupyter.widget-view+json": {
       "model_id": "d850d2f20e82467595fc6ca19186238a",
       "version_major": 2,
       "version_minor": 0
      },
      "text/plain": [
       "time step:   0%|          | 0/10000 [00:00<?, ?it/s]"
      ]
     },
     "metadata": {},
     "output_type": "display_data"
    },
    {
     "data": {
      "application/vnd.jupyter.widget-view+json": {
       "model_id": "68e5e551db9a43f8b8ee7e4d546ee01d",
       "version_major": 2,
       "version_minor": 0
      },
      "text/plain": [
       "time step:   0%|          | 0/10000 [00:00<?, ?it/s]"
      ]
     },
     "metadata": {},
     "output_type": "display_data"
    },
    {
     "data": {
      "application/vnd.jupyter.widget-view+json": {
       "model_id": "52d2a3ae820943d987c2bcda117a682d",
       "version_major": 2,
       "version_minor": 0
      },
      "text/plain": [
       "time step:   0%|          | 0/10000 [00:00<?, ?it/s]"
      ]
     },
     "metadata": {},
     "output_type": "display_data"
    },
    {
     "data": {
      "application/vnd.jupyter.widget-view+json": {
       "model_id": "d514ce2f86be475d8a90d80b431f7bb8",
       "version_major": 2,
       "version_minor": 0
      },
      "text/plain": [
       "time step:   0%|          | 0/10000 [00:00<?, ?it/s]"
      ]
     },
     "metadata": {},
     "output_type": "display_data"
    },
    {
     "data": {
      "application/vnd.jupyter.widget-view+json": {
       "model_id": "f722250694bc4bf4975d0eac6de91624",
       "version_major": 2,
       "version_minor": 0
      },
      "text/plain": [
       "time step:   0%|          | 0/10000 [00:00<?, ?it/s]"
      ]
     },
     "metadata": {},
     "output_type": "display_data"
    },
    {
     "data": {
      "application/vnd.jupyter.widget-view+json": {
       "model_id": "57a0be98908c4e2fb0e7f3f1f2d4c4e8",
       "version_major": 2,
       "version_minor": 0
      },
      "text/plain": [
       "time step:   0%|          | 0/10000 [00:00<?, ?it/s]"
      ]
     },
     "metadata": {},
     "output_type": "display_data"
    },
    {
     "data": {
      "application/vnd.jupyter.widget-view+json": {
       "model_id": "a7e9a7f39a844b43bab3d04729361603",
       "version_major": 2,
       "version_minor": 0
      },
      "text/plain": [
       "time step:   0%|          | 0/10000 [00:00<?, ?it/s]"
      ]
     },
     "metadata": {},
     "output_type": "display_data"
    },
    {
     "data": {
      "application/vnd.jupyter.widget-view+json": {
       "model_id": "c9eb4a624a714b17839ebffda8aa4525",
       "version_major": 2,
       "version_minor": 0
      },
      "text/plain": [
       "time step:   0%|          | 0/10000 [00:00<?, ?it/s]"
      ]
     },
     "metadata": {},
     "output_type": "display_data"
    },
    {
     "data": {
      "application/vnd.jupyter.widget-view+json": {
       "model_id": "cba3e38880774b958842c43a9362726e",
       "version_major": 2,
       "version_minor": 0
      },
      "text/plain": [
       "time step:   0%|          | 0/10000 [00:00<?, ?it/s]"
      ]
     },
     "metadata": {},
     "output_type": "display_data"
    },
    {
     "data": {
      "application/vnd.jupyter.widget-view+json": {
       "model_id": "476cbfb8e15e4c1da51fea0e1604fdb7",
       "version_major": 2,
       "version_minor": 0
      },
      "text/plain": [
       "time step:   0%|          | 0/10000 [00:00<?, ?it/s]"
      ]
     },
     "metadata": {},
     "output_type": "display_data"
    },
    {
     "data": {
      "application/vnd.jupyter.widget-view+json": {
       "model_id": "c92a13139037414db84ce76dd48937d4",
       "version_major": 2,
       "version_minor": 0
      },
      "text/plain": [
       "time step:   0%|          | 0/10000 [00:00<?, ?it/s]"
      ]
     },
     "metadata": {},
     "output_type": "display_data"
    },
    {
     "data": {
      "application/vnd.jupyter.widget-view+json": {
       "model_id": "909328af6fec4370af56ef78c7284a4c",
       "version_major": 2,
       "version_minor": 0
      },
      "text/plain": [
       "time step:   0%|          | 0/10000 [00:00<?, ?it/s]"
      ]
     },
     "metadata": {},
     "output_type": "display_data"
    },
    {
     "data": {
      "application/vnd.jupyter.widget-view+json": {
       "model_id": "6692d29f5d52403f9163b9094b43409a",
       "version_major": 2,
       "version_minor": 0
      },
      "text/plain": [
       "time step:   0%|          | 0/10000 [00:00<?, ?it/s]"
      ]
     },
     "metadata": {},
     "output_type": "display_data"
    },
    {
     "data": {
      "application/vnd.jupyter.widget-view+json": {
       "model_id": "23e61ff034284611b173d3b5ff53ea71",
       "version_major": 2,
       "version_minor": 0
      },
      "text/plain": [
       "time step:   0%|          | 0/10000 [00:00<?, ?it/s]"
      ]
     },
     "metadata": {},
     "output_type": "display_data"
    },
    {
     "data": {
      "application/vnd.jupyter.widget-view+json": {
       "model_id": "fddc1b306eec4538aa116f8f47376bf1",
       "version_major": 2,
       "version_minor": 0
      },
      "text/plain": [
       "time step:   0%|          | 0/10000 [00:00<?, ?it/s]"
      ]
     },
     "metadata": {},
     "output_type": "display_data"
    },
    {
     "data": {
      "application/vnd.jupyter.widget-view+json": {
       "model_id": "41094066679b4c5282c99a68e0f21237",
       "version_major": 2,
       "version_minor": 0
      },
      "text/plain": [
       "time step:   0%|          | 0/10000 [00:00<?, ?it/s]"
      ]
     },
     "metadata": {},
     "output_type": "display_data"
    },
    {
     "data": {
      "application/vnd.jupyter.widget-view+json": {
       "model_id": "dd3b2ffcb7bf411eb7802f7bf24657dd",
       "version_major": 2,
       "version_minor": 0
      },
      "text/plain": [
       "time step:   0%|          | 0/10000 [00:00<?, ?it/s]"
      ]
     },
     "metadata": {},
     "output_type": "display_data"
    },
    {
     "data": {
      "application/vnd.jupyter.widget-view+json": {
       "model_id": "2e1d18c5739e46b4ad003d2e498c9b94",
       "version_major": 2,
       "version_minor": 0
      },
      "text/plain": [
       "time step:   0%|          | 0/10000 [00:00<?, ?it/s]"
      ]
     },
     "metadata": {},
     "output_type": "display_data"
    },
    {
     "data": {
      "application/vnd.jupyter.widget-view+json": {
       "model_id": "81d9993e926840c2b423bf3d56d9d8dd",
       "version_major": 2,
       "version_minor": 0
      },
      "text/plain": [
       "time step:   0%|          | 0/10000 [00:00<?, ?it/s]"
      ]
     },
     "metadata": {},
     "output_type": "display_data"
    },
    {
     "data": {
      "application/vnd.jupyter.widget-view+json": {
       "model_id": "e28375d717ce4979acb4f22428a57f3f",
       "version_major": 2,
       "version_minor": 0
      },
      "text/plain": [
       "time step:   0%|          | 0/10000 [00:00<?, ?it/s]"
      ]
     },
     "metadata": {},
     "output_type": "display_data"
    },
    {
     "data": {
      "application/vnd.jupyter.widget-view+json": {
       "model_id": "4f8bb7022c5f434fb9adf21b14f1b0eb",
       "version_major": 2,
       "version_minor": 0
      },
      "text/plain": [
       "time step:   0%|          | 0/10000 [00:00<?, ?it/s]"
      ]
     },
     "metadata": {},
     "output_type": "display_data"
    },
    {
     "data": {
      "application/vnd.jupyter.widget-view+json": {
       "model_id": "ca0713575c394eac98d71b12c5f0936d",
       "version_major": 2,
       "version_minor": 0
      },
      "text/plain": [
       "time step:   0%|          | 0/10000 [00:00<?, ?it/s]"
      ]
     },
     "metadata": {},
     "output_type": "display_data"
    },
    {
     "data": {
      "application/vnd.jupyter.widget-view+json": {
       "model_id": "3ad2a2ec07d44a71af7ed634c4506a27",
       "version_major": 2,
       "version_minor": 0
      },
      "text/plain": [
       "time step:   0%|          | 0/10000 [00:00<?, ?it/s]"
      ]
     },
     "metadata": {},
     "output_type": "display_data"
    },
    {
     "data": {
      "application/vnd.jupyter.widget-view+json": {
       "model_id": "8d5c7dc8e4364d9290b5f2d5d7e19c4d",
       "version_major": 2,
       "version_minor": 0
      },
      "text/plain": [
       "time step:   0%|          | 0/10000 [00:00<?, ?it/s]"
      ]
     },
     "metadata": {},
     "output_type": "display_data"
    },
    {
     "data": {
      "application/vnd.jupyter.widget-view+json": {
       "model_id": "2d6bb5e8dd9a42a5a5f18c866c85c2a0",
       "version_major": 2,
       "version_minor": 0
      },
      "text/plain": [
       "time step:   0%|          | 0/10000 [00:00<?, ?it/s]"
      ]
     },
     "metadata": {},
     "output_type": "display_data"
    },
    {
     "data": {
      "application/vnd.jupyter.widget-view+json": {
       "model_id": "ebd6933ec8f34000bc6477a90d71a0aa",
       "version_major": 2,
       "version_minor": 0
      },
      "text/plain": [
       "time step:   0%|          | 0/10000 [00:00<?, ?it/s]"
      ]
     },
     "metadata": {},
     "output_type": "display_data"
    },
    {
     "data": {
      "application/vnd.jupyter.widget-view+json": {
       "model_id": "d67a640da63344589ba97bfdaf44ee43",
       "version_major": 2,
       "version_minor": 0
      },
      "text/plain": [
       "time step:   0%|          | 0/10000 [00:00<?, ?it/s]"
      ]
     },
     "metadata": {},
     "output_type": "display_data"
    },
    {
     "data": {
      "application/vnd.jupyter.widget-view+json": {
       "model_id": "30e1828f45d944acbda2960631744125",
       "version_major": 2,
       "version_minor": 0
      },
      "text/plain": [
       "time step:   0%|          | 0/10000 [00:00<?, ?it/s]"
      ]
     },
     "metadata": {},
     "output_type": "display_data"
    },
    {
     "data": {
      "application/vnd.jupyter.widget-view+json": {
       "model_id": "a6cc4926909f4aafbf02c33f10d5b152",
       "version_major": 2,
       "version_minor": 0
      },
      "text/plain": [
       "time step:   0%|          | 0/10000 [00:00<?, ?it/s]"
      ]
     },
     "metadata": {},
     "output_type": "display_data"
    },
    {
     "data": {
      "application/vnd.jupyter.widget-view+json": {
       "model_id": "35b83aeb98cd44228346f1c35624a6db",
       "version_major": 2,
       "version_minor": 0
      },
      "text/plain": [
       "time step:   0%|          | 0/10000 [00:00<?, ?it/s]"
      ]
     },
     "metadata": {},
     "output_type": "display_data"
    },
    {
     "data": {
      "application/vnd.jupyter.widget-view+json": {
       "model_id": "5432372947ce4c43b356c314d48c560c",
       "version_major": 2,
       "version_minor": 0
      },
      "text/plain": [
       "time step:   0%|          | 0/10000 [00:00<?, ?it/s]"
      ]
     },
     "metadata": {},
     "output_type": "display_data"
    },
    {
     "data": {
      "application/vnd.jupyter.widget-view+json": {
       "model_id": "a7433f176f7a40ccaf5993a0d603d42c",
       "version_major": 2,
       "version_minor": 0
      },
      "text/plain": [
       "time step:   0%|          | 0/10000 [00:00<?, ?it/s]"
      ]
     },
     "metadata": {},
     "output_type": "display_data"
    },
    {
     "data": {
      "application/vnd.jupyter.widget-view+json": {
       "model_id": "74306c01b32441cebc0d3aa2445363ba",
       "version_major": 2,
       "version_minor": 0
      },
      "text/plain": [
       "time step:   0%|          | 0/10000 [00:00<?, ?it/s]"
      ]
     },
     "metadata": {},
     "output_type": "display_data"
    },
    {
     "data": {
      "application/vnd.jupyter.widget-view+json": {
       "model_id": "3ea3ce92ba2748e0adb27dde940c0282",
       "version_major": 2,
       "version_minor": 0
      },
      "text/plain": [
       "time step:   0%|          | 0/10000 [00:00<?, ?it/s]"
      ]
     },
     "metadata": {},
     "output_type": "display_data"
    },
    {
     "data": {
      "application/vnd.jupyter.widget-view+json": {
       "model_id": "76fa454bea3241d9ae6f852793ded9d6",
       "version_major": 2,
       "version_minor": 0
      },
      "text/plain": [
       "time step:   0%|          | 0/10000 [00:00<?, ?it/s]"
      ]
     },
     "metadata": {},
     "output_type": "display_data"
    },
    {
     "data": {
      "application/vnd.jupyter.widget-view+json": {
       "model_id": "3b985384ef1a48a0be226e46678f4c80",
       "version_major": 2,
       "version_minor": 0
      },
      "text/plain": [
       "time step:   0%|          | 0/10000 [00:00<?, ?it/s]"
      ]
     },
     "metadata": {},
     "output_type": "display_data"
    },
    {
     "data": {
      "application/vnd.jupyter.widget-view+json": {
       "model_id": "15393c6b1d7d491680d09625354048c1",
       "version_major": 2,
       "version_minor": 0
      },
      "text/plain": [
       "time step:   0%|          | 0/10000 [00:00<?, ?it/s]"
      ]
     },
     "metadata": {},
     "output_type": "display_data"
    },
    {
     "data": {
      "application/vnd.jupyter.widget-view+json": {
       "model_id": "22da6799abd34a9da982eec7f5ce1e8d",
       "version_major": 2,
       "version_minor": 0
      },
      "text/plain": [
       "time step:   0%|          | 0/10000 [00:00<?, ?it/s]"
      ]
     },
     "metadata": {},
     "output_type": "display_data"
    },
    {
     "data": {
      "application/vnd.jupyter.widget-view+json": {
       "model_id": "007aed40b18d48ce91ac05810c6a9b2a",
       "version_major": 2,
       "version_minor": 0
      },
      "text/plain": [
       "time step:   0%|          | 0/10000 [00:00<?, ?it/s]"
      ]
     },
     "metadata": {},
     "output_type": "display_data"
    },
    {
     "data": {
      "application/vnd.jupyter.widget-view+json": {
       "model_id": "3e3cdc71665e4bdb9c66f9a1e6dcd91e",
       "version_major": 2,
       "version_minor": 0
      },
      "text/plain": [
       "time step:   0%|          | 0/10000 [00:00<?, ?it/s]"
      ]
     },
     "metadata": {},
     "output_type": "display_data"
    },
    {
     "data": {
      "application/vnd.jupyter.widget-view+json": {
       "model_id": "38437faa749244a0a384d5e6cf49c833",
       "version_major": 2,
       "version_minor": 0
      },
      "text/plain": [
       "time step:   0%|          | 0/10000 [00:00<?, ?it/s]"
      ]
     },
     "metadata": {},
     "output_type": "display_data"
    },
    {
     "data": {
      "application/vnd.jupyter.widget-view+json": {
       "model_id": "283321be5ffe4d97b15f321753ff8b95",
       "version_major": 2,
       "version_minor": 0
      },
      "text/plain": [
       "time step:   0%|          | 0/10000 [00:00<?, ?it/s]"
      ]
     },
     "metadata": {},
     "output_type": "display_data"
    },
    {
     "data": {
      "application/vnd.jupyter.widget-view+json": {
       "model_id": "eefbc7f9f54648da9b599ccd94c16b01",
       "version_major": 2,
       "version_minor": 0
      },
      "text/plain": [
       "time step:   0%|          | 0/10000 [00:00<?, ?it/s]"
      ]
     },
     "metadata": {},
     "output_type": "display_data"
    },
    {
     "data": {
      "application/vnd.jupyter.widget-view+json": {
       "model_id": "65911f2145e641bfa095fc5ee5bf3f15",
       "version_major": 2,
       "version_minor": 0
      },
      "text/plain": [
       "time step:   0%|          | 0/10000 [00:00<?, ?it/s]"
      ]
     },
     "metadata": {},
     "output_type": "display_data"
    },
    {
     "data": {
      "application/vnd.jupyter.widget-view+json": {
       "model_id": "40aeb19dac1f4747acb0b17e7f07c414",
       "version_major": 2,
       "version_minor": 0
      },
      "text/plain": [
       "time step:   0%|          | 0/10000 [00:00<?, ?it/s]"
      ]
     },
     "metadata": {},
     "output_type": "display_data"
    },
    {
     "data": {
      "application/vnd.jupyter.widget-view+json": {
       "model_id": "2a4a3ccbc23c498fb7d82fa756b17554",
       "version_major": 2,
       "version_minor": 0
      },
      "text/plain": [
       "time step:   0%|          | 0/10000 [00:00<?, ?it/s]"
      ]
     },
     "metadata": {},
     "output_type": "display_data"
    },
    {
     "data": {
      "application/vnd.jupyter.widget-view+json": {
       "model_id": "463e353feb05495489cbafd853c9686a",
       "version_major": 2,
       "version_minor": 0
      },
      "text/plain": [
       "time step:   0%|          | 0/10000 [00:00<?, ?it/s]"
      ]
     },
     "metadata": {},
     "output_type": "display_data"
    },
    {
     "data": {
      "application/vnd.jupyter.widget-view+json": {
       "model_id": "e07f1ce5c3024c3cbd32614f9eb13786",
       "version_major": 2,
       "version_minor": 0
      },
      "text/plain": [
       "time step:   0%|          | 0/10000 [00:00<?, ?it/s]"
      ]
     },
     "metadata": {},
     "output_type": "display_data"
    },
    {
     "data": {
      "application/vnd.jupyter.widget-view+json": {
       "model_id": "0d23f073fa1e4c08a37cafc7f32cd0d0",
       "version_major": 2,
       "version_minor": 0
      },
      "text/plain": [
       "time step:   0%|          | 0/10000 [00:00<?, ?it/s]"
      ]
     },
     "metadata": {},
     "output_type": "display_data"
    },
    {
     "data": {
      "application/vnd.jupyter.widget-view+json": {
       "model_id": "47be100feb6d4c48bb78a0170142c62a",
       "version_major": 2,
       "version_minor": 0
      },
      "text/plain": [
       "time step:   0%|          | 0/10000 [00:00<?, ?it/s]"
      ]
     },
     "metadata": {},
     "output_type": "display_data"
    },
    {
     "data": {
      "application/vnd.jupyter.widget-view+json": {
       "model_id": "6530ba4afd4d46e7a3d9b5e699d86504",
       "version_major": 2,
       "version_minor": 0
      },
      "text/plain": [
       "time step:   0%|          | 0/10000 [00:00<?, ?it/s]"
      ]
     },
     "metadata": {},
     "output_type": "display_data"
    },
    {
     "data": {
      "application/vnd.jupyter.widget-view+json": {
       "model_id": "724dd45f3eab496590cba93301731cec",
       "version_major": 2,
       "version_minor": 0
      },
      "text/plain": [
       "time step:   0%|          | 0/10000 [00:00<?, ?it/s]"
      ]
     },
     "metadata": {},
     "output_type": "display_data"
    },
    {
     "data": {
      "application/vnd.jupyter.widget-view+json": {
       "model_id": "32a3e75783d34374809d3c2a356f3efb",
       "version_major": 2,
       "version_minor": 0
      },
      "text/plain": [
       "time step:   0%|          | 0/10000 [00:00<?, ?it/s]"
      ]
     },
     "metadata": {},
     "output_type": "display_data"
    },
    {
     "data": {
      "application/vnd.jupyter.widget-view+json": {
       "model_id": "9b21daa644894e4b847275eef51cc325",
       "version_major": 2,
       "version_minor": 0
      },
      "text/plain": [
       "time step:   0%|          | 0/10000 [00:00<?, ?it/s]"
      ]
     },
     "metadata": {},
     "output_type": "display_data"
    },
    {
     "data": {
      "application/vnd.jupyter.widget-view+json": {
       "model_id": "2842f9165ce842cd95df0adbb2fce17a",
       "version_major": 2,
       "version_minor": 0
      },
      "text/plain": [
       "time step:   0%|          | 0/10000 [00:00<?, ?it/s]"
      ]
     },
     "metadata": {},
     "output_type": "display_data"
    },
    {
     "data": {
      "application/vnd.jupyter.widget-view+json": {
       "model_id": "8e90e8b7dcf648a5beb5324c712cb906",
       "version_major": 2,
       "version_minor": 0
      },
      "text/plain": [
       "time step:   0%|          | 0/10000 [00:00<?, ?it/s]"
      ]
     },
     "metadata": {},
     "output_type": "display_data"
    },
    {
     "data": {
      "application/vnd.jupyter.widget-view+json": {
       "model_id": "b7a25b06bce34d569a0e693ff97b06f0",
       "version_major": 2,
       "version_minor": 0
      },
      "text/plain": [
       "time step:   0%|          | 0/10000 [00:00<?, ?it/s]"
      ]
     },
     "metadata": {},
     "output_type": "display_data"
    },
    {
     "data": {
      "application/vnd.jupyter.widget-view+json": {
       "model_id": "7d1f789e670f4b4db665a4ec5ff7746f",
       "version_major": 2,
       "version_minor": 0
      },
      "text/plain": [
       "time step:   0%|          | 0/10000 [00:00<?, ?it/s]"
      ]
     },
     "metadata": {},
     "output_type": "display_data"
    },
    {
     "data": {
      "application/vnd.jupyter.widget-view+json": {
       "model_id": "4cf69a54950943f0aae7138932f41a4e",
       "version_major": 2,
       "version_minor": 0
      },
      "text/plain": [
       "time step:   0%|          | 0/10000 [00:00<?, ?it/s]"
      ]
     },
     "metadata": {},
     "output_type": "display_data"
    },
    {
     "data": {
      "application/vnd.jupyter.widget-view+json": {
       "model_id": "d40813a7257c40acb5a6d38d9d643b85",
       "version_major": 2,
       "version_minor": 0
      },
      "text/plain": [
       "time step:   0%|          | 0/10000 [00:00<?, ?it/s]"
      ]
     },
     "metadata": {},
     "output_type": "display_data"
    },
    {
     "data": {
      "application/vnd.jupyter.widget-view+json": {
       "model_id": "18bae9b2775346e4a018fc40c2b18db3",
       "version_major": 2,
       "version_minor": 0
      },
      "text/plain": [
       "time step:   0%|          | 0/10000 [00:00<?, ?it/s]"
      ]
     },
     "metadata": {},
     "output_type": "display_data"
    },
    {
     "data": {
      "application/vnd.jupyter.widget-view+json": {
       "model_id": "74d5859cdac848a39d458493cf4567b9",
       "version_major": 2,
       "version_minor": 0
      },
      "text/plain": [
       "time step:   0%|          | 0/10000 [00:00<?, ?it/s]"
      ]
     },
     "metadata": {},
     "output_type": "display_data"
    },
    {
     "data": {
      "application/vnd.jupyter.widget-view+json": {
       "model_id": "3c34b1318eb043eca03a59dae459b227",
       "version_major": 2,
       "version_minor": 0
      },
      "text/plain": [
       "time step:   0%|          | 0/10000 [00:00<?, ?it/s]"
      ]
     },
     "metadata": {},
     "output_type": "display_data"
    },
    {
     "data": {
      "application/vnd.jupyter.widget-view+json": {
       "model_id": "ea45b4ff162e496fb9dd79e2d3b794c7",
       "version_major": 2,
       "version_minor": 0
      },
      "text/plain": [
       "time step:   0%|          | 0/10000 [00:00<?, ?it/s]"
      ]
     },
     "metadata": {},
     "output_type": "display_data"
    },
    {
     "data": {
      "application/vnd.jupyter.widget-view+json": {
       "model_id": "48aba6a67e634888883113fb58fb41f1",
       "version_major": 2,
       "version_minor": 0
      },
      "text/plain": [
       "time step:   0%|          | 0/10000 [00:00<?, ?it/s]"
      ]
     },
     "metadata": {},
     "output_type": "display_data"
    },
    {
     "data": {
      "application/vnd.jupyter.widget-view+json": {
       "model_id": "e0ce0addc8084211a9dd8be9f94590f6",
       "version_major": 2,
       "version_minor": 0
      },
      "text/plain": [
       "time step:   0%|          | 0/10000 [00:00<?, ?it/s]"
      ]
     },
     "metadata": {},
     "output_type": "display_data"
    },
    {
     "data": {
      "application/vnd.jupyter.widget-view+json": {
       "model_id": "1319d0ae969b437b9a445777c3522571",
       "version_major": 2,
       "version_minor": 0
      },
      "text/plain": [
       "time step:   0%|          | 0/10000 [00:00<?, ?it/s]"
      ]
     },
     "metadata": {},
     "output_type": "display_data"
    },
    {
     "data": {
      "application/vnd.jupyter.widget-view+json": {
       "model_id": "0788c5d935cc40a08e951e638ae5d92d",
       "version_major": 2,
       "version_minor": 0
      },
      "text/plain": [
       "time step:   0%|          | 0/10000 [00:00<?, ?it/s]"
      ]
     },
     "metadata": {},
     "output_type": "display_data"
    },
    {
     "data": {
      "application/vnd.jupyter.widget-view+json": {
       "model_id": "8f9626f570884048999b0c30c3523dd7",
       "version_major": 2,
       "version_minor": 0
      },
      "text/plain": [
       "time step:   0%|          | 0/10000 [00:00<?, ?it/s]"
      ]
     },
     "metadata": {},
     "output_type": "display_data"
    },
    {
     "data": {
      "application/vnd.jupyter.widget-view+json": {
       "model_id": "71ba5a4dbec7494b8891688d8c6e9a12",
       "version_major": 2,
       "version_minor": 0
      },
      "text/plain": [
       "time step:   0%|          | 0/10000 [00:00<?, ?it/s]"
      ]
     },
     "metadata": {},
     "output_type": "display_data"
    },
    {
     "data": {
      "application/vnd.jupyter.widget-view+json": {
       "model_id": "428477074c0e4bef8160d23e215f6dca",
       "version_major": 2,
       "version_minor": 0
      },
      "text/plain": [
       "time step:   0%|          | 0/10000 [00:00<?, ?it/s]"
      ]
     },
     "metadata": {},
     "output_type": "display_data"
    },
    {
     "data": {
      "application/vnd.jupyter.widget-view+json": {
       "model_id": "63c13fdd009b427a97b6204902d87b15",
       "version_major": 2,
       "version_minor": 0
      },
      "text/plain": [
       "time step:   0%|          | 0/10000 [00:00<?, ?it/s]"
      ]
     },
     "metadata": {},
     "output_type": "display_data"
    },
    {
     "data": {
      "application/vnd.jupyter.widget-view+json": {
       "model_id": "c79d021251b147118c2f303e0b87a588",
       "version_major": 2,
       "version_minor": 0
      },
      "text/plain": [
       "time step:   0%|          | 0/10000 [00:00<?, ?it/s]"
      ]
     },
     "metadata": {},
     "output_type": "display_data"
    },
    {
     "data": {
      "application/vnd.jupyter.widget-view+json": {
       "model_id": "8835ef6edb344bd79377967ce98ab33b",
       "version_major": 2,
       "version_minor": 0
      },
      "text/plain": [
       "time step:   0%|          | 0/10000 [00:00<?, ?it/s]"
      ]
     },
     "metadata": {},
     "output_type": "display_data"
    },
    {
     "data": {
      "application/vnd.jupyter.widget-view+json": {
       "model_id": "b42005f0a9ea44138426d069692dc7fc",
       "version_major": 2,
       "version_minor": 0
      },
      "text/plain": [
       "time step:   0%|          | 0/10000 [00:00<?, ?it/s]"
      ]
     },
     "metadata": {},
     "output_type": "display_data"
    },
    {
     "data": {
      "application/vnd.jupyter.widget-view+json": {
       "model_id": "5fd6bf7438a7464d8e3a21f1abe4324e",
       "version_major": 2,
       "version_minor": 0
      },
      "text/plain": [
       "time step:   0%|          | 0/10000 [00:00<?, ?it/s]"
      ]
     },
     "metadata": {},
     "output_type": "display_data"
    },
    {
     "data": {
      "application/vnd.jupyter.widget-view+json": {
       "model_id": "6334ddfc42d64bcc8616138d3317931b",
       "version_major": 2,
       "version_minor": 0
      },
      "text/plain": [
       "time step:   0%|          | 0/10000 [00:00<?, ?it/s]"
      ]
     },
     "metadata": {},
     "output_type": "display_data"
    },
    {
     "data": {
      "application/vnd.jupyter.widget-view+json": {
       "model_id": "69dfb248ccaf4d3e8bd897c15fe7a224",
       "version_major": 2,
       "version_minor": 0
      },
      "text/plain": [
       "time step:   0%|          | 0/10000 [00:00<?, ?it/s]"
      ]
     },
     "metadata": {},
     "output_type": "display_data"
    },
    {
     "data": {
      "application/vnd.jupyter.widget-view+json": {
       "model_id": "eedfc343c7134a789f923b7634459882",
       "version_major": 2,
       "version_minor": 0
      },
      "text/plain": [
       "time step:   0%|          | 0/10000 [00:00<?, ?it/s]"
      ]
     },
     "metadata": {},
     "output_type": "display_data"
    },
    {
     "data": {
      "application/vnd.jupyter.widget-view+json": {
       "model_id": "7e031f1ffb584a4091cd676ea8c062a3",
       "version_major": 2,
       "version_minor": 0
      },
      "text/plain": [
       "time step:   0%|          | 0/10000 [00:00<?, ?it/s]"
      ]
     },
     "metadata": {},
     "output_type": "display_data"
    },
    {
     "data": {
      "application/vnd.jupyter.widget-view+json": {
       "model_id": "f35f26935bc2418d89f6175a7b5c999b",
       "version_major": 2,
       "version_minor": 0
      },
      "text/plain": [
       "time step:   0%|          | 0/10000 [00:00<?, ?it/s]"
      ]
     },
     "metadata": {},
     "output_type": "display_data"
    },
    {
     "data": {
      "application/vnd.jupyter.widget-view+json": {
       "model_id": "ab78ae1f2a4a414fb99f4ad885df1629",
       "version_major": 2,
       "version_minor": 0
      },
      "text/plain": [
       "time step:   0%|          | 0/10000 [00:00<?, ?it/s]"
      ]
     },
     "metadata": {},
     "output_type": "display_data"
    },
    {
     "data": {
      "application/vnd.jupyter.widget-view+json": {
       "model_id": "1b10e2a456024bc38a60edd1c3df4d01",
       "version_major": 2,
       "version_minor": 0
      },
      "text/plain": [
       "time step:   0%|          | 0/10000 [00:00<?, ?it/s]"
      ]
     },
     "metadata": {},
     "output_type": "display_data"
    },
    {
     "data": {
      "application/vnd.jupyter.widget-view+json": {
       "model_id": "1ac4459c31144ca694e5e765dc1effac",
       "version_major": 2,
       "version_minor": 0
      },
      "text/plain": [
       "time step:   0%|          | 0/10000 [00:00<?, ?it/s]"
      ]
     },
     "metadata": {},
     "output_type": "display_data"
    },
    {
     "data": {
      "application/vnd.jupyter.widget-view+json": {
       "model_id": "9a41f2c30a9349d197132be197e6b257",
       "version_major": 2,
       "version_minor": 0
      },
      "text/plain": [
       "time step:   0%|          | 0/10000 [00:00<?, ?it/s]"
      ]
     },
     "metadata": {},
     "output_type": "display_data"
    },
    {
     "data": {
      "application/vnd.jupyter.widget-view+json": {
       "model_id": "99f8b40509cc4845b8106cbc8d26da91",
       "version_major": 2,
       "version_minor": 0
      },
      "text/plain": [
       "time step:   0%|          | 0/10000 [00:00<?, ?it/s]"
      ]
     },
     "metadata": {},
     "output_type": "display_data"
    },
    {
     "data": {
      "application/vnd.jupyter.widget-view+json": {
       "model_id": "a7eba7def0cd4b088c17ee72f248efee",
       "version_major": 2,
       "version_minor": 0
      },
      "text/plain": [
       "time step:   0%|          | 0/10000 [00:00<?, ?it/s]"
      ]
     },
     "metadata": {},
     "output_type": "display_data"
    },
    {
     "data": {
      "application/vnd.jupyter.widget-view+json": {
       "model_id": "b7e5d81cdbc54a309b3490058f2d2da2",
       "version_major": 2,
       "version_minor": 0
      },
      "text/plain": [
       "time step:   0%|          | 0/10000 [00:00<?, ?it/s]"
      ]
     },
     "metadata": {},
     "output_type": "display_data"
    },
    {
     "data": {
      "application/vnd.jupyter.widget-view+json": {
       "model_id": "1e783606f46c4b56b89cdff320104c63",
       "version_major": 2,
       "version_minor": 0
      },
      "text/plain": [
       "time step:   0%|          | 0/10000 [00:00<?, ?it/s]"
      ]
     },
     "metadata": {},
     "output_type": "display_data"
    },
    {
     "data": {
      "application/vnd.jupyter.widget-view+json": {
       "model_id": "7ee209c6239a4c22a7e02d2f0e7a6c19",
       "version_major": 2,
       "version_minor": 0
      },
      "text/plain": [
       "time step:   0%|          | 0/10000 [00:00<?, ?it/s]"
      ]
     },
     "metadata": {},
     "output_type": "display_data"
    },
    {
     "data": {
      "application/vnd.jupyter.widget-view+json": {
       "model_id": "68b43c31339f42118221e5322d076e29",
       "version_major": 2,
       "version_minor": 0
      },
      "text/plain": [
       "time step:   0%|          | 0/10000 [00:00<?, ?it/s]"
      ]
     },
     "metadata": {},
     "output_type": "display_data"
    },
    {
     "data": {
      "application/vnd.jupyter.widget-view+json": {
       "model_id": "808f200814e44cad9560a680746005dc",
       "version_major": 2,
       "version_minor": 0
      },
      "text/plain": [
       "time step:   0%|          | 0/10000 [00:00<?, ?it/s]"
      ]
     },
     "metadata": {},
     "output_type": "display_data"
    },
    {
     "data": {
      "application/vnd.jupyter.widget-view+json": {
       "model_id": "a85482fd42d54c358f4b95eee9d82440",
       "version_major": 2,
       "version_minor": 0
      },
      "text/plain": [
       "time step:   0%|          | 0/10000 [00:00<?, ?it/s]"
      ]
     },
     "metadata": {},
     "output_type": "display_data"
    },
    {
     "data": {
      "application/vnd.jupyter.widget-view+json": {
       "model_id": "ddc711e0bd3e42818b0d36f7267ec2ae",
       "version_major": 2,
       "version_minor": 0
      },
      "text/plain": [
       "time step:   0%|          | 0/10000 [00:00<?, ?it/s]"
      ]
     },
     "metadata": {},
     "output_type": "display_data"
    },
    {
     "data": {
      "application/vnd.jupyter.widget-view+json": {
       "model_id": "7a3fadd07edb4930875664528789dce1",
       "version_major": 2,
       "version_minor": 0
      },
      "text/plain": [
       "time step:   0%|          | 0/10000 [00:00<?, ?it/s]"
      ]
     },
     "metadata": {},
     "output_type": "display_data"
    },
    {
     "data": {
      "application/vnd.jupyter.widget-view+json": {
       "model_id": "9d88e087f89b4146ba2ebc46fe9d4488",
       "version_major": 2,
       "version_minor": 0
      },
      "text/plain": [
       "time step:   0%|          | 0/10000 [00:00<?, ?it/s]"
      ]
     },
     "metadata": {},
     "output_type": "display_data"
    },
    {
     "data": {
      "application/vnd.jupyter.widget-view+json": {
       "model_id": "e9bb9a8d935f4f8d95d3b73c0d767616",
       "version_major": 2,
       "version_minor": 0
      },
      "text/plain": [
       "time step:   0%|          | 0/10000 [00:00<?, ?it/s]"
      ]
     },
     "metadata": {},
     "output_type": "display_data"
    },
    {
     "data": {
      "application/vnd.jupyter.widget-view+json": {
       "model_id": "362d3c0b559941439685ea3993f3fbb1",
       "version_major": 2,
       "version_minor": 0
      },
      "text/plain": [
       "time step:   0%|          | 0/10000 [00:00<?, ?it/s]"
      ]
     },
     "metadata": {},
     "output_type": "display_data"
    },
    {
     "data": {
      "application/vnd.jupyter.widget-view+json": {
       "model_id": "45eeba59e00f4224832168877b6f18d6",
       "version_major": 2,
       "version_minor": 0
      },
      "text/plain": [
       "time step:   0%|          | 0/10000 [00:00<?, ?it/s]"
      ]
     },
     "metadata": {},
     "output_type": "display_data"
    },
    {
     "data": {
      "application/vnd.jupyter.widget-view+json": {
       "model_id": "30d7b596bbef48dabe9ac4768deb3118",
       "version_major": 2,
       "version_minor": 0
      },
      "text/plain": [
       "time step:   0%|          | 0/10000 [00:00<?, ?it/s]"
      ]
     },
     "metadata": {},
     "output_type": "display_data"
    },
    {
     "data": {
      "application/vnd.jupyter.widget-view+json": {
       "model_id": "b3836a8049534f9696f0b877d35aea18",
       "version_major": 2,
       "version_minor": 0
      },
      "text/plain": [
       "time step:   0%|          | 0/10000 [00:00<?, ?it/s]"
      ]
     },
     "metadata": {},
     "output_type": "display_data"
    },
    {
     "data": {
      "application/vnd.jupyter.widget-view+json": {
       "model_id": "799f52f922554603b4e83e48762c8528",
       "version_major": 2,
       "version_minor": 0
      },
      "text/plain": [
       "time step:   0%|          | 0/10000 [00:00<?, ?it/s]"
      ]
     },
     "metadata": {},
     "output_type": "display_data"
    },
    {
     "data": {
      "application/vnd.jupyter.widget-view+json": {
       "model_id": "ecae75ea43ba4e6684a2c33b890a075d",
       "version_major": 2,
       "version_minor": 0
      },
      "text/plain": [
       "time step:   0%|          | 0/10000 [00:00<?, ?it/s]"
      ]
     },
     "metadata": {},
     "output_type": "display_data"
    },
    {
     "data": {
      "application/vnd.jupyter.widget-view+json": {
       "model_id": "6a7ea53e302246a5b5dd466c0ae9ad88",
       "version_major": 2,
       "version_minor": 0
      },
      "text/plain": [
       "time step:   0%|          | 0/10000 [00:00<?, ?it/s]"
      ]
     },
     "metadata": {},
     "output_type": "display_data"
    },
    {
     "data": {
      "application/vnd.jupyter.widget-view+json": {
       "model_id": "bbd231b3bc5d4a43a738b6151aa9aa9c",
       "version_major": 2,
       "version_minor": 0
      },
      "text/plain": [
       "time step:   0%|          | 0/10000 [00:00<?, ?it/s]"
      ]
     },
     "metadata": {},
     "output_type": "display_data"
    },
    {
     "data": {
      "application/vnd.jupyter.widget-view+json": {
       "model_id": "c39651a6ac13446b856e9411b1485b45",
       "version_major": 2,
       "version_minor": 0
      },
      "text/plain": [
       "time step:   0%|          | 0/10000 [00:00<?, ?it/s]"
      ]
     },
     "metadata": {},
     "output_type": "display_data"
    },
    {
     "data": {
      "application/vnd.jupyter.widget-view+json": {
       "model_id": "86f7a485cc714788be933ea31e23d76b",
       "version_major": 2,
       "version_minor": 0
      },
      "text/plain": [
       "time step:   0%|          | 0/10000 [00:00<?, ?it/s]"
      ]
     },
     "metadata": {},
     "output_type": "display_data"
    },
    {
     "data": {
      "application/vnd.jupyter.widget-view+json": {
       "model_id": "0e16d5ad1d94449db8c55000b65c7baa",
       "version_major": 2,
       "version_minor": 0
      },
      "text/plain": [
       "time step:   0%|          | 0/10000 [00:00<?, ?it/s]"
      ]
     },
     "metadata": {},
     "output_type": "display_data"
    },
    {
     "data": {
      "application/vnd.jupyter.widget-view+json": {
       "model_id": "5261d22ede02463fafc23d50cfb230d7",
       "version_major": 2,
       "version_minor": 0
      },
      "text/plain": [
       "time step:   0%|          | 0/10000 [00:00<?, ?it/s]"
      ]
     },
     "metadata": {},
     "output_type": "display_data"
    },
    {
     "data": {
      "application/vnd.jupyter.widget-view+json": {
       "model_id": "38ff78279b884441ba30618d32949021",
       "version_major": 2,
       "version_minor": 0
      },
      "text/plain": [
       "time step:   0%|          | 0/10000 [00:00<?, ?it/s]"
      ]
     },
     "metadata": {},
     "output_type": "display_data"
    },
    {
     "data": {
      "application/vnd.jupyter.widget-view+json": {
       "model_id": "62cc3806987646399c2d3347a8985a6b",
       "version_major": 2,
       "version_minor": 0
      },
      "text/plain": [
       "time step:   0%|          | 0/10000 [00:00<?, ?it/s]"
      ]
     },
     "metadata": {},
     "output_type": "display_data"
    },
    {
     "data": {
      "application/vnd.jupyter.widget-view+json": {
       "model_id": "3dde96770a1a4e30ba48a4e5d7e13ee2",
       "version_major": 2,
       "version_minor": 0
      },
      "text/plain": [
       "time step:   0%|          | 0/10000 [00:00<?, ?it/s]"
      ]
     },
     "metadata": {},
     "output_type": "display_data"
    },
    {
     "data": {
      "application/vnd.jupyter.widget-view+json": {
       "model_id": "92db4d9fd31e43b880091d9b2a3f34d8",
       "version_major": 2,
       "version_minor": 0
      },
      "text/plain": [
       "time step:   0%|          | 0/10000 [00:00<?, ?it/s]"
      ]
     },
     "metadata": {},
     "output_type": "display_data"
    },
    {
     "data": {
      "application/vnd.jupyter.widget-view+json": {
       "model_id": "2824be5069cb45e7a94f2a296c49b679",
       "version_major": 2,
       "version_minor": 0
      },
      "text/plain": [
       "time step:   0%|          | 0/10000 [00:00<?, ?it/s]"
      ]
     },
     "metadata": {},
     "output_type": "display_data"
    },
    {
     "data": {
      "application/vnd.jupyter.widget-view+json": {
       "model_id": "75b7d39d20fa46c3860daf582ea7a6b4",
       "version_major": 2,
       "version_minor": 0
      },
      "text/plain": [
       "time step:   0%|          | 0/10000 [00:00<?, ?it/s]"
      ]
     },
     "metadata": {},
     "output_type": "display_data"
    },
    {
     "data": {
      "application/vnd.jupyter.widget-view+json": {
       "model_id": "e1539729a3d84f69b7cf119fa28a962a",
       "version_major": 2,
       "version_minor": 0
      },
      "text/plain": [
       "time step:   0%|          | 0/10000 [00:00<?, ?it/s]"
      ]
     },
     "metadata": {},
     "output_type": "display_data"
    },
    {
     "data": {
      "application/vnd.jupyter.widget-view+json": {
       "model_id": "dd14e438e7e14824a1e9d4e945743270",
       "version_major": 2,
       "version_minor": 0
      },
      "text/plain": [
       "time step:   0%|          | 0/10000 [00:00<?, ?it/s]"
      ]
     },
     "metadata": {},
     "output_type": "display_data"
    },
    {
     "data": {
      "application/vnd.jupyter.widget-view+json": {
       "model_id": "0d46ca586ffe417db95e4a5e558ef5da",
       "version_major": 2,
       "version_minor": 0
      },
      "text/plain": [
       "time step:   0%|          | 0/10000 [00:00<?, ?it/s]"
      ]
     },
     "metadata": {},
     "output_type": "display_data"
    },
    {
     "data": {
      "application/vnd.jupyter.widget-view+json": {
       "model_id": "0e3672c509af4e939eabc6d95d6b239f",
       "version_major": 2,
       "version_minor": 0
      },
      "text/plain": [
       "time step:   0%|          | 0/10000 [00:00<?, ?it/s]"
      ]
     },
     "metadata": {},
     "output_type": "display_data"
    },
    {
     "data": {
      "application/vnd.jupyter.widget-view+json": {
       "model_id": "566fb6050c0f48dd9feec40bc9804361",
       "version_major": 2,
       "version_minor": 0
      },
      "text/plain": [
       "time step:   0%|          | 0/10000 [00:00<?, ?it/s]"
      ]
     },
     "metadata": {},
     "output_type": "display_data"
    },
    {
     "data": {
      "application/vnd.jupyter.widget-view+json": {
       "model_id": "50dc735097384d45af051fdad9be0c62",
       "version_major": 2,
       "version_minor": 0
      },
      "text/plain": [
       "time step:   0%|          | 0/10000 [00:00<?, ?it/s]"
      ]
     },
     "metadata": {},
     "output_type": "display_data"
    },
    {
     "data": {
      "application/vnd.jupyter.widget-view+json": {
       "model_id": "b79b922ba73d4e0ab3c57dc58fedce70",
       "version_major": 2,
       "version_minor": 0
      },
      "text/plain": [
       "time step:   0%|          | 0/10000 [00:00<?, ?it/s]"
      ]
     },
     "metadata": {},
     "output_type": "display_data"
    },
    {
     "data": {
      "application/vnd.jupyter.widget-view+json": {
       "model_id": "8ab874b5c5fe4a5db00abe0a6ca9a847",
       "version_major": 2,
       "version_minor": 0
      },
      "text/plain": [
       "time step:   0%|          | 0/10000 [00:00<?, ?it/s]"
      ]
     },
     "metadata": {},
     "output_type": "display_data"
    },
    {
     "data": {
      "application/vnd.jupyter.widget-view+json": {
       "model_id": "29d925f24c224242b41ff9e4c0dbde3f",
       "version_major": 2,
       "version_minor": 0
      },
      "text/plain": [
       "time step:   0%|          | 0/10000 [00:00<?, ?it/s]"
      ]
     },
     "metadata": {},
     "output_type": "display_data"
    },
    {
     "data": {
      "application/vnd.jupyter.widget-view+json": {
       "model_id": "8f7fce47e70747eb9228a9cd3723b75e",
       "version_major": 2,
       "version_minor": 0
      },
      "text/plain": [
       "time step:   0%|          | 0/10000 [00:00<?, ?it/s]"
      ]
     },
     "metadata": {},
     "output_type": "display_data"
    },
    {
     "data": {
      "application/vnd.jupyter.widget-view+json": {
       "model_id": "230128531509464a87e1bde19c55fa8a",
       "version_major": 2,
       "version_minor": 0
      },
      "text/plain": [
       "time step:   0%|          | 0/10000 [00:00<?, ?it/s]"
      ]
     },
     "metadata": {},
     "output_type": "display_data"
    },
    {
     "data": {
      "application/vnd.jupyter.widget-view+json": {
       "model_id": "289c62d0ff394a848456e2f26c2c7ca8",
       "version_major": 2,
       "version_minor": 0
      },
      "text/plain": [
       "time step:   0%|          | 0/10000 [00:00<?, ?it/s]"
      ]
     },
     "metadata": {},
     "output_type": "display_data"
    },
    {
     "data": {
      "application/vnd.jupyter.widget-view+json": {
       "model_id": "de0d57d0479849e7856dae4b2a74fc56",
       "version_major": 2,
       "version_minor": 0
      },
      "text/plain": [
       "time step:   0%|          | 0/10000 [00:00<?, ?it/s]"
      ]
     },
     "metadata": {},
     "output_type": "display_data"
    },
    {
     "data": {
      "application/vnd.jupyter.widget-view+json": {
       "model_id": "384c1b2b9da54509948534378fb3c21a",
       "version_major": 2,
       "version_minor": 0
      },
      "text/plain": [
       "time step:   0%|          | 0/10000 [00:00<?, ?it/s]"
      ]
     },
     "metadata": {},
     "output_type": "display_data"
    },
    {
     "data": {
      "application/vnd.jupyter.widget-view+json": {
       "model_id": "b14a73d3f7e0474989e6f05a42685e84",
       "version_major": 2,
       "version_minor": 0
      },
      "text/plain": [
       "time step:   0%|          | 0/10000 [00:00<?, ?it/s]"
      ]
     },
     "metadata": {},
     "output_type": "display_data"
    },
    {
     "data": {
      "application/vnd.jupyter.widget-view+json": {
       "model_id": "fcb2e733081e433db9ea28e24cdda973",
       "version_major": 2,
       "version_minor": 0
      },
      "text/plain": [
       "time step:   0%|          | 0/10000 [00:00<?, ?it/s]"
      ]
     },
     "metadata": {},
     "output_type": "display_data"
    },
    {
     "data": {
      "application/vnd.jupyter.widget-view+json": {
       "model_id": "81e50dc683f64f55966d17537f039f31",
       "version_major": 2,
       "version_minor": 0
      },
      "text/plain": [
       "time step:   0%|          | 0/10000 [00:00<?, ?it/s]"
      ]
     },
     "metadata": {},
     "output_type": "display_data"
    },
    {
     "data": {
      "application/vnd.jupyter.widget-view+json": {
       "model_id": "c34a8ff39bb744b2b9a42da0b4ae8158",
       "version_major": 2,
       "version_minor": 0
      },
      "text/plain": [
       "time step:   0%|          | 0/10000 [00:00<?, ?it/s]"
      ]
     },
     "metadata": {},
     "output_type": "display_data"
    },
    {
     "data": {
      "application/vnd.jupyter.widget-view+json": {
       "model_id": "b0232f92b224480a9c86737b40e0d938",
       "version_major": 2,
       "version_minor": 0
      },
      "text/plain": [
       "time step:   0%|          | 0/10000 [00:00<?, ?it/s]"
      ]
     },
     "metadata": {},
     "output_type": "display_data"
    },
    {
     "data": {
      "application/vnd.jupyter.widget-view+json": {
       "model_id": "962bc8cd2c974783adb389dfc1c92b36",
       "version_major": 2,
       "version_minor": 0
      },
      "text/plain": [
       "time step:   0%|          | 0/10000 [00:00<?, ?it/s]"
      ]
     },
     "metadata": {},
     "output_type": "display_data"
    },
    {
     "data": {
      "application/vnd.jupyter.widget-view+json": {
       "model_id": "0681edb75c88430998c905bf9434b136",
       "version_major": 2,
       "version_minor": 0
      },
      "text/plain": [
       "time step:   0%|          | 0/10000 [00:00<?, ?it/s]"
      ]
     },
     "metadata": {},
     "output_type": "display_data"
    },
    {
     "data": {
      "application/vnd.jupyter.widget-view+json": {
       "model_id": "03204908fd8e43c889ac92f24fc89f69",
       "version_major": 2,
       "version_minor": 0
      },
      "text/plain": [
       "time step:   0%|          | 0/10000 [00:00<?, ?it/s]"
      ]
     },
     "metadata": {},
     "output_type": "display_data"
    },
    {
     "data": {
      "application/vnd.jupyter.widget-view+json": {
       "model_id": "47b93dbd7e304d0f9ef10230f5d015cb",
       "version_major": 2,
       "version_minor": 0
      },
      "text/plain": [
       "time step:   0%|          | 0/10000 [00:00<?, ?it/s]"
      ]
     },
     "metadata": {},
     "output_type": "display_data"
    },
    {
     "data": {
      "application/vnd.jupyter.widget-view+json": {
       "model_id": "99ac780f1fd141b886c6f9b8ddd482d7",
       "version_major": 2,
       "version_minor": 0
      },
      "text/plain": [
       "time step:   0%|          | 0/10000 [00:00<?, ?it/s]"
      ]
     },
     "metadata": {},
     "output_type": "display_data"
    },
    {
     "data": {
      "application/vnd.jupyter.widget-view+json": {
       "model_id": "e8e40e325c1842899a56cace58531248",
       "version_major": 2,
       "version_minor": 0
      },
      "text/plain": [
       "time step:   0%|          | 0/10000 [00:00<?, ?it/s]"
      ]
     },
     "metadata": {},
     "output_type": "display_data"
    },
    {
     "data": {
      "application/vnd.jupyter.widget-view+json": {
       "model_id": "42680378302e49d5a3624d62038ff7b0",
       "version_major": 2,
       "version_minor": 0
      },
      "text/plain": [
       "time step:   0%|          | 0/10000 [00:00<?, ?it/s]"
      ]
     },
     "metadata": {},
     "output_type": "display_data"
    },
    {
     "data": {
      "application/vnd.jupyter.widget-view+json": {
       "model_id": "0bd27d6dd26648fc8fc3cc2969d013d2",
       "version_major": 2,
       "version_minor": 0
      },
      "text/plain": [
       "time step:   0%|          | 0/10000 [00:00<?, ?it/s]"
      ]
     },
     "metadata": {},
     "output_type": "display_data"
    },
    {
     "data": {
      "application/vnd.jupyter.widget-view+json": {
       "model_id": "c85e9477333a4ad59ea43713539212f5",
       "version_major": 2,
       "version_minor": 0
      },
      "text/plain": [
       "time step:   0%|          | 0/10000 [00:00<?, ?it/s]"
      ]
     },
     "metadata": {},
     "output_type": "display_data"
    },
    {
     "data": {
      "application/vnd.jupyter.widget-view+json": {
       "model_id": "2f9527ecd99e4efdb511bd8d1b45bcfb",
       "version_major": 2,
       "version_minor": 0
      },
      "text/plain": [
       "time step:   0%|          | 0/10000 [00:00<?, ?it/s]"
      ]
     },
     "metadata": {},
     "output_type": "display_data"
    },
    {
     "data": {
      "application/vnd.jupyter.widget-view+json": {
       "model_id": "e68d2f71a3c8431299a9d329cdb34cad",
       "version_major": 2,
       "version_minor": 0
      },
      "text/plain": [
       "time step:   0%|          | 0/10000 [00:00<?, ?it/s]"
      ]
     },
     "metadata": {},
     "output_type": "display_data"
    },
    {
     "data": {
      "application/vnd.jupyter.widget-view+json": {
       "model_id": "041e95ff5e5c47bf821eb55be0944d07",
       "version_major": 2,
       "version_minor": 0
      },
      "text/plain": [
       "time step:   0%|          | 0/10000 [00:00<?, ?it/s]"
      ]
     },
     "metadata": {},
     "output_type": "display_data"
    },
    {
     "data": {
      "application/vnd.jupyter.widget-view+json": {
       "model_id": "a989246727914bb481e61469c6fc03a0",
       "version_major": 2,
       "version_minor": 0
      },
      "text/plain": [
       "time step:   0%|          | 0/10000 [00:00<?, ?it/s]"
      ]
     },
     "metadata": {},
     "output_type": "display_data"
    },
    {
     "data": {
      "application/vnd.jupyter.widget-view+json": {
       "model_id": "11da579b44834bff9298ffac80c43998",
       "version_major": 2,
       "version_minor": 0
      },
      "text/plain": [
       "time step:   0%|          | 0/10000 [00:00<?, ?it/s]"
      ]
     },
     "metadata": {},
     "output_type": "display_data"
    },
    {
     "data": {
      "application/vnd.jupyter.widget-view+json": {
       "model_id": "57381572939c4bdaad276a9488bdb88c",
       "version_major": 2,
       "version_minor": 0
      },
      "text/plain": [
       "time step:   0%|          | 0/10000 [00:00<?, ?it/s]"
      ]
     },
     "metadata": {},
     "output_type": "display_data"
    },
    {
     "data": {
      "application/vnd.jupyter.widget-view+json": {
       "model_id": "099bb31f173940dab5712220c2c11ea2",
       "version_major": 2,
       "version_minor": 0
      },
      "text/plain": [
       "time step:   0%|          | 0/10000 [00:00<?, ?it/s]"
      ]
     },
     "metadata": {},
     "output_type": "display_data"
    },
    {
     "data": {
      "application/vnd.jupyter.widget-view+json": {
       "model_id": "0e5867bcd33945d099531089a8de5cdf",
       "version_major": 2,
       "version_minor": 0
      },
      "text/plain": [
       "time step:   0%|          | 0/10000 [00:00<?, ?it/s]"
      ]
     },
     "metadata": {},
     "output_type": "display_data"
    },
    {
     "data": {
      "application/vnd.jupyter.widget-view+json": {
       "model_id": "91fbaeba75f44c9bbd4ca099bc348515",
       "version_major": 2,
       "version_minor": 0
      },
      "text/plain": [
       "time step:   0%|          | 0/10000 [00:00<?, ?it/s]"
      ]
     },
     "metadata": {},
     "output_type": "display_data"
    },
    {
     "data": {
      "application/vnd.jupyter.widget-view+json": {
       "model_id": "04fe5ea8f4ef4555a2b349e6332b39ec",
       "version_major": 2,
       "version_minor": 0
      },
      "text/plain": [
       "time step:   0%|          | 0/10000 [00:00<?, ?it/s]"
      ]
     },
     "metadata": {},
     "output_type": "display_data"
    },
    {
     "data": {
      "application/vnd.jupyter.widget-view+json": {
       "model_id": "04ffc52f519145d8ba177b0fc8634bfa",
       "version_major": 2,
       "version_minor": 0
      },
      "text/plain": [
       "time step:   0%|          | 0/10000 [00:00<?, ?it/s]"
      ]
     },
     "metadata": {},
     "output_type": "display_data"
    },
    {
     "data": {
      "application/vnd.jupyter.widget-view+json": {
       "model_id": "c56cc72b22d4449a91a42e86777f2f3a",
       "version_major": 2,
       "version_minor": 0
      },
      "text/plain": [
       "time step:   0%|          | 0/10000 [00:00<?, ?it/s]"
      ]
     },
     "metadata": {},
     "output_type": "display_data"
    },
    {
     "data": {
      "application/vnd.jupyter.widget-view+json": {
       "model_id": "c61f7115562d476f8690d390c12b902a",
       "version_major": 2,
       "version_minor": 0
      },
      "text/plain": [
       "time step:   0%|          | 0/10000 [00:00<?, ?it/s]"
      ]
     },
     "metadata": {},
     "output_type": "display_data"
    },
    {
     "data": {
      "application/vnd.jupyter.widget-view+json": {
       "model_id": "8f752d57f5a14e42ab6a9140a72e2833",
       "version_major": 2,
       "version_minor": 0
      },
      "text/plain": [
       "time step:   0%|          | 0/10000 [00:00<?, ?it/s]"
      ]
     },
     "metadata": {},
     "output_type": "display_data"
    },
    {
     "data": {
      "application/vnd.jupyter.widget-view+json": {
       "model_id": "d6b3d2f9fc534345b0a9bccd40f1830c",
       "version_major": 2,
       "version_minor": 0
      },
      "text/plain": [
       "time step:   0%|          | 0/10000 [00:00<?, ?it/s]"
      ]
     },
     "metadata": {},
     "output_type": "display_data"
    },
    {
     "data": {
      "application/vnd.jupyter.widget-view+json": {
       "model_id": "ccd3e239d383468ebe36813a576babd3",
       "version_major": 2,
       "version_minor": 0
      },
      "text/plain": [
       "time step:   0%|          | 0/10000 [00:00<?, ?it/s]"
      ]
     },
     "metadata": {},
     "output_type": "display_data"
    },
    {
     "data": {
      "application/vnd.jupyter.widget-view+json": {
       "model_id": "4b8f7eaaff5749fb9f8dcc7ee655f6f6",
       "version_major": 2,
       "version_minor": 0
      },
      "text/plain": [
       "time step:   0%|          | 0/10000 [00:00<?, ?it/s]"
      ]
     },
     "metadata": {},
     "output_type": "display_data"
    },
    {
     "data": {
      "application/vnd.jupyter.widget-view+json": {
       "model_id": "5c295032bb304a59b62313e94eec5b2b",
       "version_major": 2,
       "version_minor": 0
      },
      "text/plain": [
       "time step:   0%|          | 0/10000 [00:00<?, ?it/s]"
      ]
     },
     "metadata": {},
     "output_type": "display_data"
    },
    {
     "data": {
      "application/vnd.jupyter.widget-view+json": {
       "model_id": "6c7d8a70140a4f01b04f34c83e06df7e",
       "version_major": 2,
       "version_minor": 0
      },
      "text/plain": [
       "time step:   0%|          | 0/10000 [00:00<?, ?it/s]"
      ]
     },
     "metadata": {},
     "output_type": "display_data"
    },
    {
     "data": {
      "application/vnd.jupyter.widget-view+json": {
       "model_id": "f3f63ddd4b634b2581d5dd482a4d3f22",
       "version_major": 2,
       "version_minor": 0
      },
      "text/plain": [
       "time step:   0%|          | 0/10000 [00:00<?, ?it/s]"
      ]
     },
     "metadata": {},
     "output_type": "display_data"
    },
    {
     "data": {
      "application/vnd.jupyter.widget-view+json": {
       "model_id": "2e870678b13242e6ba79f0339a2838de",
       "version_major": 2,
       "version_minor": 0
      },
      "text/plain": [
       "time step:   0%|          | 0/10000 [00:00<?, ?it/s]"
      ]
     },
     "metadata": {},
     "output_type": "display_data"
    },
    {
     "data": {
      "application/vnd.jupyter.widget-view+json": {
       "model_id": "1f0f72061ad34438b034a13ae2f62dfd",
       "version_major": 2,
       "version_minor": 0
      },
      "text/plain": [
       "time step:   0%|          | 0/10000 [00:00<?, ?it/s]"
      ]
     },
     "metadata": {},
     "output_type": "display_data"
    },
    {
     "data": {
      "application/vnd.jupyter.widget-view+json": {
       "model_id": "2d5a2e2f3b5b4ce8a9b482e0262094c7",
       "version_major": 2,
       "version_minor": 0
      },
      "text/plain": [
       "time step:   0%|          | 0/10000 [00:00<?, ?it/s]"
      ]
     },
     "metadata": {},
     "output_type": "display_data"
    },
    {
     "data": {
      "application/vnd.jupyter.widget-view+json": {
       "model_id": "a5891dd64710404d89de5705732b470e",
       "version_major": 2,
       "version_minor": 0
      },
      "text/plain": [
       "time step:   0%|          | 0/10000 [00:00<?, ?it/s]"
      ]
     },
     "metadata": {},
     "output_type": "display_data"
    },
    {
     "data": {
      "application/vnd.jupyter.widget-view+json": {
       "model_id": "6b7246def2f04450a3321860bacb418a",
       "version_major": 2,
       "version_minor": 0
      },
      "text/plain": [
       "time step:   0%|          | 0/10000 [00:00<?, ?it/s]"
      ]
     },
     "metadata": {},
     "output_type": "display_data"
    },
    {
     "data": {
      "application/vnd.jupyter.widget-view+json": {
       "model_id": "979860714c014ebba7bc238053984501",
       "version_major": 2,
       "version_minor": 0
      },
      "text/plain": [
       "time step:   0%|          | 0/10000 [00:00<?, ?it/s]"
      ]
     },
     "metadata": {},
     "output_type": "display_data"
    },
    {
     "data": {
      "application/vnd.jupyter.widget-view+json": {
       "model_id": "5d0c9b10a25d43e1b3486aef0b8033c7",
       "version_major": 2,
       "version_minor": 0
      },
      "text/plain": [
       "time step:   0%|          | 0/10000 [00:00<?, ?it/s]"
      ]
     },
     "metadata": {},
     "output_type": "display_data"
    },
    {
     "data": {
      "application/vnd.jupyter.widget-view+json": {
       "model_id": "491bcb9018834026b00618187cf6861c",
       "version_major": 2,
       "version_minor": 0
      },
      "text/plain": [
       "time step:   0%|          | 0/10000 [00:00<?, ?it/s]"
      ]
     },
     "metadata": {},
     "output_type": "display_data"
    },
    {
     "data": {
      "application/vnd.jupyter.widget-view+json": {
       "model_id": "ef3ad72f138a4f4e96aa527d08ea5f75",
       "version_major": 2,
       "version_minor": 0
      },
      "text/plain": [
       "time step:   0%|          | 0/10000 [00:00<?, ?it/s]"
      ]
     },
     "metadata": {},
     "output_type": "display_data"
    },
    {
     "data": {
      "application/vnd.jupyter.widget-view+json": {
       "model_id": "89ceaf3748ca407eb2b699679d07205c",
       "version_major": 2,
       "version_minor": 0
      },
      "text/plain": [
       "time step:   0%|          | 0/10000 [00:00<?, ?it/s]"
      ]
     },
     "metadata": {},
     "output_type": "display_data"
    },
    {
     "data": {
      "application/vnd.jupyter.widget-view+json": {
       "model_id": "b609f1954bd7465f97239d07441a2c97",
       "version_major": 2,
       "version_minor": 0
      },
      "text/plain": [
       "time step:   0%|          | 0/10000 [00:00<?, ?it/s]"
      ]
     },
     "metadata": {},
     "output_type": "display_data"
    },
    {
     "data": {
      "application/vnd.jupyter.widget-view+json": {
       "model_id": "d8789d3a703e4445b2ed3ea2f7c28da9",
       "version_major": 2,
       "version_minor": 0
      },
      "text/plain": [
       "time step:   0%|          | 0/10000 [00:00<?, ?it/s]"
      ]
     },
     "metadata": {},
     "output_type": "display_data"
    },
    {
     "data": {
      "application/vnd.jupyter.widget-view+json": {
       "model_id": "2324e914da5b45a5a38bd786f93501e9",
       "version_major": 2,
       "version_minor": 0
      },
      "text/plain": [
       "time step:   0%|          | 0/10000 [00:00<?, ?it/s]"
      ]
     },
     "metadata": {},
     "output_type": "display_data"
    },
    {
     "data": {
      "application/vnd.jupyter.widget-view+json": {
       "model_id": "cff0650f71a44a0788f769bb39a32570",
       "version_major": 2,
       "version_minor": 0
      },
      "text/plain": [
       "time step:   0%|          | 0/10000 [00:00<?, ?it/s]"
      ]
     },
     "metadata": {},
     "output_type": "display_data"
    },
    {
     "data": {
      "application/vnd.jupyter.widget-view+json": {
       "model_id": "56a2c8b2a423459880f72381e783357f",
       "version_major": 2,
       "version_minor": 0
      },
      "text/plain": [
       "time step:   0%|          | 0/10000 [00:00<?, ?it/s]"
      ]
     },
     "metadata": {},
     "output_type": "display_data"
    },
    {
     "data": {
      "application/vnd.jupyter.widget-view+json": {
       "model_id": "31e9e590281b46f3841468e1d1c46f0e",
       "version_major": 2,
       "version_minor": 0
      },
      "text/plain": [
       "time step:   0%|          | 0/10000 [00:00<?, ?it/s]"
      ]
     },
     "metadata": {},
     "output_type": "display_data"
    },
    {
     "data": {
      "application/vnd.jupyter.widget-view+json": {
       "model_id": "f3c67c2d53b74b6a8cecf66e9a1d1738",
       "version_major": 2,
       "version_minor": 0
      },
      "text/plain": [
       "time step:   0%|          | 0/10000 [00:00<?, ?it/s]"
      ]
     },
     "metadata": {},
     "output_type": "display_data"
    },
    {
     "data": {
      "application/vnd.jupyter.widget-view+json": {
       "model_id": "0147e85fa7c54b4a89558678c5253b71",
       "version_major": 2,
       "version_minor": 0
      },
      "text/plain": [
       "time step:   0%|          | 0/10000 [00:00<?, ?it/s]"
      ]
     },
     "metadata": {},
     "output_type": "display_data"
    },
    {
     "data": {
      "application/vnd.jupyter.widget-view+json": {
       "model_id": "b8cb85538a58445091e25f9fddb7d304",
       "version_major": 2,
       "version_minor": 0
      },
      "text/plain": [
       "time step:   0%|          | 0/10000 [00:00<?, ?it/s]"
      ]
     },
     "metadata": {},
     "output_type": "display_data"
    },
    {
     "data": {
      "application/vnd.jupyter.widget-view+json": {
       "model_id": "14d5e3c0d5bf4c359cca2b6bf922dc6e",
       "version_major": 2,
       "version_minor": 0
      },
      "text/plain": [
       "time step:   0%|          | 0/10000 [00:00<?, ?it/s]"
      ]
     },
     "metadata": {},
     "output_type": "display_data"
    },
    {
     "data": {
      "application/vnd.jupyter.widget-view+json": {
       "model_id": "0f5ead690508405b9888af56db7640bd",
       "version_major": 2,
       "version_minor": 0
      },
      "text/plain": [
       "time step:   0%|          | 0/10000 [00:00<?, ?it/s]"
      ]
     },
     "metadata": {},
     "output_type": "display_data"
    },
    {
     "data": {
      "application/vnd.jupyter.widget-view+json": {
       "model_id": "f9f005e5c1ca4cc9956412d38f90fc18",
       "version_major": 2,
       "version_minor": 0
      },
      "text/plain": [
       "time step:   0%|          | 0/10000 [00:00<?, ?it/s]"
      ]
     },
     "metadata": {},
     "output_type": "display_data"
    },
    {
     "data": {
      "application/vnd.jupyter.widget-view+json": {
       "model_id": "a2de3f4128f14a619011898318f5b93a",
       "version_major": 2,
       "version_minor": 0
      },
      "text/plain": [
       "time step:   0%|          | 0/10000 [00:00<?, ?it/s]"
      ]
     },
     "metadata": {},
     "output_type": "display_data"
    },
    {
     "data": {
      "application/vnd.jupyter.widget-view+json": {
       "model_id": "d4c31b95966d45f1b807b5f386e3790f",
       "version_major": 2,
       "version_minor": 0
      },
      "text/plain": [
       "time step:   0%|          | 0/10000 [00:00<?, ?it/s]"
      ]
     },
     "metadata": {},
     "output_type": "display_data"
    },
    {
     "data": {
      "application/vnd.jupyter.widget-view+json": {
       "model_id": "1c5f4e782ae94d5d877bfc7e6e30247b",
       "version_major": 2,
       "version_minor": 0
      },
      "text/plain": [
       "time step:   0%|          | 0/10000 [00:00<?, ?it/s]"
      ]
     },
     "metadata": {},
     "output_type": "display_data"
    },
    {
     "data": {
      "application/vnd.jupyter.widget-view+json": {
       "model_id": "e29a23f22f6d4c22bdfdfe26112c2bdd",
       "version_major": 2,
       "version_minor": 0
      },
      "text/plain": [
       "time step:   0%|          | 0/10000 [00:00<?, ?it/s]"
      ]
     },
     "metadata": {},
     "output_type": "display_data"
    },
    {
     "data": {
      "application/vnd.jupyter.widget-view+json": {
       "model_id": "85825b4a38f849c7bbc6a99aad93399e",
       "version_major": 2,
       "version_minor": 0
      },
      "text/plain": [
       "time step:   0%|          | 0/10000 [00:00<?, ?it/s]"
      ]
     },
     "metadata": {},
     "output_type": "display_data"
    },
    {
     "data": {
      "application/vnd.jupyter.widget-view+json": {
       "model_id": "c9caf4c459c648148ae7d5d53496e545",
       "version_major": 2,
       "version_minor": 0
      },
      "text/plain": [
       "time step:   0%|          | 0/10000 [00:00<?, ?it/s]"
      ]
     },
     "metadata": {},
     "output_type": "display_data"
    },
    {
     "data": {
      "application/vnd.jupyter.widget-view+json": {
       "model_id": "05538295a4014e57896d9e340e0a0e64",
       "version_major": 2,
       "version_minor": 0
      },
      "text/plain": [
       "time step:   0%|          | 0/10000 [00:00<?, ?it/s]"
      ]
     },
     "metadata": {},
     "output_type": "display_data"
    },
    {
     "data": {
      "application/vnd.jupyter.widget-view+json": {
       "model_id": "0795678e2e9a4b52bd2d666d41a9ee8a",
       "version_major": 2,
       "version_minor": 0
      },
      "text/plain": [
       "time step:   0%|          | 0/10000 [00:00<?, ?it/s]"
      ]
     },
     "metadata": {},
     "output_type": "display_data"
    },
    {
     "data": {
      "application/vnd.jupyter.widget-view+json": {
       "model_id": "140ced7e125a428d9747b29cb186956d",
       "version_major": 2,
       "version_minor": 0
      },
      "text/plain": [
       "time step:   0%|          | 0/10000 [00:00<?, ?it/s]"
      ]
     },
     "metadata": {},
     "output_type": "display_data"
    },
    {
     "data": {
      "application/vnd.jupyter.widget-view+json": {
       "model_id": "40bf67c1c0324eda92640c566ec697df",
       "version_major": 2,
       "version_minor": 0
      },
      "text/plain": [
       "time step:   0%|          | 0/10000 [00:00<?, ?it/s]"
      ]
     },
     "metadata": {},
     "output_type": "display_data"
    },
    {
     "data": {
      "application/vnd.jupyter.widget-view+json": {
       "model_id": "fb09cd4967ab47588581507d81774023",
       "version_major": 2,
       "version_minor": 0
      },
      "text/plain": [
       "time step:   0%|          | 0/10000 [00:00<?, ?it/s]"
      ]
     },
     "metadata": {},
     "output_type": "display_data"
    },
    {
     "data": {
      "application/vnd.jupyter.widget-view+json": {
       "model_id": "0ebdcf87c360454eb72c105dbf113638",
       "version_major": 2,
       "version_minor": 0
      },
      "text/plain": [
       "time step:   0%|          | 0/10000 [00:00<?, ?it/s]"
      ]
     },
     "metadata": {},
     "output_type": "display_data"
    },
    {
     "data": {
      "application/vnd.jupyter.widget-view+json": {
       "model_id": "3cfb59b5b4c6499c8518a8b6cde91359",
       "version_major": 2,
       "version_minor": 0
      },
      "text/plain": [
       "time step:   0%|          | 0/10000 [00:00<?, ?it/s]"
      ]
     },
     "metadata": {},
     "output_type": "display_data"
    },
    {
     "data": {
      "application/vnd.jupyter.widget-view+json": {
       "model_id": "f96d440342e54c15a0faf1c25ea8ca2b",
       "version_major": 2,
       "version_minor": 0
      },
      "text/plain": [
       "time step:   0%|          | 0/10000 [00:00<?, ?it/s]"
      ]
     },
     "metadata": {},
     "output_type": "display_data"
    },
    {
     "data": {
      "application/vnd.jupyter.widget-view+json": {
       "model_id": "b67cc8f1cf1d416899d8e313f1dae89d",
       "version_major": 2,
       "version_minor": 0
      },
      "text/plain": [
       "time step:   0%|          | 0/10000 [00:00<?, ?it/s]"
      ]
     },
     "metadata": {},
     "output_type": "display_data"
    },
    {
     "data": {
      "application/vnd.jupyter.widget-view+json": {
       "model_id": "8e58ba731c224e0e9e9205d65f52dc42",
       "version_major": 2,
       "version_minor": 0
      },
      "text/plain": [
       "time step:   0%|          | 0/10000 [00:00<?, ?it/s]"
      ]
     },
     "metadata": {},
     "output_type": "display_data"
    },
    {
     "data": {
      "application/vnd.jupyter.widget-view+json": {
       "model_id": "9bf442a43a9d47399fdb47a51e1ae5b1",
       "version_major": 2,
       "version_minor": 0
      },
      "text/plain": [
       "time step:   0%|          | 0/10000 [00:00<?, ?it/s]"
      ]
     },
     "metadata": {},
     "output_type": "display_data"
    },
    {
     "data": {
      "application/vnd.jupyter.widget-view+json": {
       "model_id": "e60ba9d8f4d747e6a7459aacaaa5651b",
       "version_major": 2,
       "version_minor": 0
      },
      "text/plain": [
       "time step:   0%|          | 0/10000 [00:00<?, ?it/s]"
      ]
     },
     "metadata": {},
     "output_type": "display_data"
    },
    {
     "data": {
      "application/vnd.jupyter.widget-view+json": {
       "model_id": "460c3241f78a478cb178520c3f23604a",
       "version_major": 2,
       "version_minor": 0
      },
      "text/plain": [
       "time step:   0%|          | 0/10000 [00:00<?, ?it/s]"
      ]
     },
     "metadata": {},
     "output_type": "display_data"
    },
    {
     "data": {
      "application/vnd.jupyter.widget-view+json": {
       "model_id": "56c7e8e31fb842c782ef7f8dde0f7230",
       "version_major": 2,
       "version_minor": 0
      },
      "text/plain": [
       "time step:   0%|          | 0/10000 [00:00<?, ?it/s]"
      ]
     },
     "metadata": {},
     "output_type": "display_data"
    },
    {
     "data": {
      "application/vnd.jupyter.widget-view+json": {
       "model_id": "87d4e232bbd9435ba6fae1fc2b0609ad",
       "version_major": 2,
       "version_minor": 0
      },
      "text/plain": [
       "time step:   0%|          | 0/10000 [00:00<?, ?it/s]"
      ]
     },
     "metadata": {},
     "output_type": "display_data"
    },
    {
     "data": {
      "application/vnd.jupyter.widget-view+json": {
       "model_id": "452c7f0bd8234ad7878a1732977ff1cc",
       "version_major": 2,
       "version_minor": 0
      },
      "text/plain": [
       "time step:   0%|          | 0/10000 [00:00<?, ?it/s]"
      ]
     },
     "metadata": {},
     "output_type": "display_data"
    },
    {
     "data": {
      "application/vnd.jupyter.widget-view+json": {
       "model_id": "22a0c11c18b949dab8ef6053b537b631",
       "version_major": 2,
       "version_minor": 0
      },
      "text/plain": [
       "time step:   0%|          | 0/10000 [00:00<?, ?it/s]"
      ]
     },
     "metadata": {},
     "output_type": "display_data"
    },
    {
     "data": {
      "application/vnd.jupyter.widget-view+json": {
       "model_id": "88d3ada31e5f4cf382aa8ad0e2c1f256",
       "version_major": 2,
       "version_minor": 0
      },
      "text/plain": [
       "time step:   0%|          | 0/10000 [00:00<?, ?it/s]"
      ]
     },
     "metadata": {},
     "output_type": "display_data"
    },
    {
     "data": {
      "application/vnd.jupyter.widget-view+json": {
       "model_id": "40bbd6d2469c4176b3be2380e0fb8181",
       "version_major": 2,
       "version_minor": 0
      },
      "text/plain": [
       "time step:   0%|          | 0/10000 [00:00<?, ?it/s]"
      ]
     },
     "metadata": {},
     "output_type": "display_data"
    },
    {
     "data": {
      "application/vnd.jupyter.widget-view+json": {
       "model_id": "d5c748218d234889b0a8ead7214839f5",
       "version_major": 2,
       "version_minor": 0
      },
      "text/plain": [
       "time step:   0%|          | 0/10000 [00:00<?, ?it/s]"
      ]
     },
     "metadata": {},
     "output_type": "display_data"
    },
    {
     "data": {
      "application/vnd.jupyter.widget-view+json": {
       "model_id": "e38fa384d5ba4e70b10d9af9ec53c49d",
       "version_major": 2,
       "version_minor": 0
      },
      "text/plain": [
       "time step:   0%|          | 0/10000 [00:00<?, ?it/s]"
      ]
     },
     "metadata": {},
     "output_type": "display_data"
    },
    {
     "data": {
      "application/vnd.jupyter.widget-view+json": {
       "model_id": "7ca02c7379344d7fa2f660252c6b58c6",
       "version_major": 2,
       "version_minor": 0
      },
      "text/plain": [
       "time step:   0%|          | 0/10000 [00:00<?, ?it/s]"
      ]
     },
     "metadata": {},
     "output_type": "display_data"
    },
    {
     "data": {
      "application/vnd.jupyter.widget-view+json": {
       "model_id": "559defb4904e451c80e966c7f223688b",
       "version_major": 2,
       "version_minor": 0
      },
      "text/plain": [
       "time step:   0%|          | 0/10000 [00:00<?, ?it/s]"
      ]
     },
     "metadata": {},
     "output_type": "display_data"
    },
    {
     "data": {
      "application/vnd.jupyter.widget-view+json": {
       "model_id": "6522605a5229439b8be17d967a2786e3",
       "version_major": 2,
       "version_minor": 0
      },
      "text/plain": [
       "time step:   0%|          | 0/10000 [00:00<?, ?it/s]"
      ]
     },
     "metadata": {},
     "output_type": "display_data"
    },
    {
     "data": {
      "application/vnd.jupyter.widget-view+json": {
       "model_id": "381478769f1344828c959524218f6ea9",
       "version_major": 2,
       "version_minor": 0
      },
      "text/plain": [
       "time step:   0%|          | 0/10000 [00:00<?, ?it/s]"
      ]
     },
     "metadata": {},
     "output_type": "display_data"
    },
    {
     "data": {
      "application/vnd.jupyter.widget-view+json": {
       "model_id": "7ebbf9016ccd4499bbf988ca88fe46dc",
       "version_major": 2,
       "version_minor": 0
      },
      "text/plain": [
       "time step:   0%|          | 0/10000 [00:00<?, ?it/s]"
      ]
     },
     "metadata": {},
     "output_type": "display_data"
    },
    {
     "data": {
      "application/vnd.jupyter.widget-view+json": {
       "model_id": "3b19af8fa6834241827a9c73da101c88",
       "version_major": 2,
       "version_minor": 0
      },
      "text/plain": [
       "time step:   0%|          | 0/10000 [00:00<?, ?it/s]"
      ]
     },
     "metadata": {},
     "output_type": "display_data"
    },
    {
     "data": {
      "application/vnd.jupyter.widget-view+json": {
       "model_id": "9305077ce62643658399cba5672bd023",
       "version_major": 2,
       "version_minor": 0
      },
      "text/plain": [
       "time step:   0%|          | 0/10000 [00:00<?, ?it/s]"
      ]
     },
     "metadata": {},
     "output_type": "display_data"
    },
    {
     "data": {
      "application/vnd.jupyter.widget-view+json": {
       "model_id": "716e2f2abf3a4ea6ba341b87646dbaf5",
       "version_major": 2,
       "version_minor": 0
      },
      "text/plain": [
       "time step:   0%|          | 0/10000 [00:00<?, ?it/s]"
      ]
     },
     "metadata": {},
     "output_type": "display_data"
    },
    {
     "data": {
      "application/vnd.jupyter.widget-view+json": {
       "model_id": "bee3bc615e2a4318acc6507c7ab14383",
       "version_major": 2,
       "version_minor": 0
      },
      "text/plain": [
       "time step:   0%|          | 0/10000 [00:00<?, ?it/s]"
      ]
     },
     "metadata": {},
     "output_type": "display_data"
    },
    {
     "data": {
      "application/vnd.jupyter.widget-view+json": {
       "model_id": "dff73d19e60841e8a5eee7a488f3bfe5",
       "version_major": 2,
       "version_minor": 0
      },
      "text/plain": [
       "time step:   0%|          | 0/10000 [00:00<?, ?it/s]"
      ]
     },
     "metadata": {},
     "output_type": "display_data"
    },
    {
     "data": {
      "application/vnd.jupyter.widget-view+json": {
       "model_id": "52f8d78e79f1471683c786975c797c3b",
       "version_major": 2,
       "version_minor": 0
      },
      "text/plain": [
       "time step:   0%|          | 0/10000 [00:00<?, ?it/s]"
      ]
     },
     "metadata": {},
     "output_type": "display_data"
    },
    {
     "data": {
      "application/vnd.jupyter.widget-view+json": {
       "model_id": "7078e439881e401eaad4ed4b46d1db34",
       "version_major": 2,
       "version_minor": 0
      },
      "text/plain": [
       "time step:   0%|          | 0/10000 [00:00<?, ?it/s]"
      ]
     },
     "metadata": {},
     "output_type": "display_data"
    },
    {
     "data": {
      "application/vnd.jupyter.widget-view+json": {
       "model_id": "f1aa26dbd44241889c008930e2a791fc",
       "version_major": 2,
       "version_minor": 0
      },
      "text/plain": [
       "time step:   0%|          | 0/10000 [00:00<?, ?it/s]"
      ]
     },
     "metadata": {},
     "output_type": "display_data"
    },
    {
     "data": {
      "application/vnd.jupyter.widget-view+json": {
       "model_id": "48482729f9734e84b3ce43fb8faa51e9",
       "version_major": 2,
       "version_minor": 0
      },
      "text/plain": [
       "time step:   0%|          | 0/10000 [00:00<?, ?it/s]"
      ]
     },
     "metadata": {},
     "output_type": "display_data"
    },
    {
     "data": {
      "application/vnd.jupyter.widget-view+json": {
       "model_id": "f1c51a51b151474f8bb41dcfbaab890b",
       "version_major": 2,
       "version_minor": 0
      },
      "text/plain": [
       "time step:   0%|          | 0/10000 [00:00<?, ?it/s]"
      ]
     },
     "metadata": {},
     "output_type": "display_data"
    },
    {
     "data": {
      "application/vnd.jupyter.widget-view+json": {
       "model_id": "756a2daa9066402f8a5b3141c56e7301",
       "version_major": 2,
       "version_minor": 0
      },
      "text/plain": [
       "time step:   0%|          | 0/10000 [00:00<?, ?it/s]"
      ]
     },
     "metadata": {},
     "output_type": "display_data"
    },
    {
     "data": {
      "application/vnd.jupyter.widget-view+json": {
       "model_id": "b65bcfcc49d649c180a6f208750988d5",
       "version_major": 2,
       "version_minor": 0
      },
      "text/plain": [
       "time step:   0%|          | 0/10000 [00:00<?, ?it/s]"
      ]
     },
     "metadata": {},
     "output_type": "display_data"
    },
    {
     "data": {
      "application/vnd.jupyter.widget-view+json": {
       "model_id": "82bf7ca19bb34fcaac72e791f73b45ce",
       "version_major": 2,
       "version_minor": 0
      },
      "text/plain": [
       "time step:   0%|          | 0/10000 [00:00<?, ?it/s]"
      ]
     },
     "metadata": {},
     "output_type": "display_data"
    },
    {
     "data": {
      "application/vnd.jupyter.widget-view+json": {
       "model_id": "b1066bb85dae4ad1b02acd65c75a9072",
       "version_major": 2,
       "version_minor": 0
      },
      "text/plain": [
       "time step:   0%|          | 0/10000 [00:00<?, ?it/s]"
      ]
     },
     "metadata": {},
     "output_type": "display_data"
    },
    {
     "data": {
      "application/vnd.jupyter.widget-view+json": {
       "model_id": "d00fae9e449f4935bfbb0805b5fe898a",
       "version_major": 2,
       "version_minor": 0
      },
      "text/plain": [
       "time step:   0%|          | 0/10000 [00:00<?, ?it/s]"
      ]
     },
     "metadata": {},
     "output_type": "display_data"
    },
    {
     "data": {
      "application/vnd.jupyter.widget-view+json": {
       "model_id": "178e358866434144a0b4c6a2c435e212",
       "version_major": 2,
       "version_minor": 0
      },
      "text/plain": [
       "time step:   0%|          | 0/10000 [00:00<?, ?it/s]"
      ]
     },
     "metadata": {},
     "output_type": "display_data"
    },
    {
     "data": {
      "application/vnd.jupyter.widget-view+json": {
       "model_id": "7b00f8ee4f614fd4a209f009faf55be6",
       "version_major": 2,
       "version_minor": 0
      },
      "text/plain": [
       "time step:   0%|          | 0/10000 [00:00<?, ?it/s]"
      ]
     },
     "metadata": {},
     "output_type": "display_data"
    },
    {
     "data": {
      "application/vnd.jupyter.widget-view+json": {
       "model_id": "e74d6f7369be47b6b05e5a9f687a5959",
       "version_major": 2,
       "version_minor": 0
      },
      "text/plain": [
       "time step:   0%|          | 0/10000 [00:00<?, ?it/s]"
      ]
     },
     "metadata": {},
     "output_type": "display_data"
    },
    {
     "data": {
      "application/vnd.jupyter.widget-view+json": {
       "model_id": "a2696e8d2faa4fabb550d5d5e94d38ae",
       "version_major": 2,
       "version_minor": 0
      },
      "text/plain": [
       "time step:   0%|          | 0/10000 [00:00<?, ?it/s]"
      ]
     },
     "metadata": {},
     "output_type": "display_data"
    },
    {
     "data": {
      "application/vnd.jupyter.widget-view+json": {
       "model_id": "da56d6196ec14f0b9d67f7e48fc8fa16",
       "version_major": 2,
       "version_minor": 0
      },
      "text/plain": [
       "time step:   0%|          | 0/10000 [00:00<?, ?it/s]"
      ]
     },
     "metadata": {},
     "output_type": "display_data"
    },
    {
     "data": {
      "application/vnd.jupyter.widget-view+json": {
       "model_id": "140b8d8e38a244cc994b9c4b30aae4c7",
       "version_major": 2,
       "version_minor": 0
      },
      "text/plain": [
       "time step:   0%|          | 0/10000 [00:00<?, ?it/s]"
      ]
     },
     "metadata": {},
     "output_type": "display_data"
    },
    {
     "data": {
      "application/vnd.jupyter.widget-view+json": {
       "model_id": "db931c1a27704cf58a6418fc10b16e75",
       "version_major": 2,
       "version_minor": 0
      },
      "text/plain": [
       "time step:   0%|          | 0/10000 [00:00<?, ?it/s]"
      ]
     },
     "metadata": {},
     "output_type": "display_data"
    },
    {
     "data": {
      "application/vnd.jupyter.widget-view+json": {
       "model_id": "25d43b9f66904cc3acb4fe622ae9301e",
       "version_major": 2,
       "version_minor": 0
      },
      "text/plain": [
       "time step:   0%|          | 0/10000 [00:00<?, ?it/s]"
      ]
     },
     "metadata": {},
     "output_type": "display_data"
    },
    {
     "data": {
      "application/vnd.jupyter.widget-view+json": {
       "model_id": "6accad0871aa4312a6e6cc648ac2c4a5",
       "version_major": 2,
       "version_minor": 0
      },
      "text/plain": [
       "time step:   0%|          | 0/10000 [00:00<?, ?it/s]"
      ]
     },
     "metadata": {},
     "output_type": "display_data"
    },
    {
     "data": {
      "application/vnd.jupyter.widget-view+json": {
       "model_id": "b1a832a730e84d37aeb6eb2d4f0d854a",
       "version_major": 2,
       "version_minor": 0
      },
      "text/plain": [
       "time step:   0%|          | 0/10000 [00:00<?, ?it/s]"
      ]
     },
     "metadata": {},
     "output_type": "display_data"
    },
    {
     "data": {
      "application/vnd.jupyter.widget-view+json": {
       "model_id": "ec8952c0f5a5490784124c49439f4fb9",
       "version_major": 2,
       "version_minor": 0
      },
      "text/plain": [
       "time step:   0%|          | 0/10000 [00:00<?, ?it/s]"
      ]
     },
     "metadata": {},
     "output_type": "display_data"
    },
    {
     "data": {
      "application/vnd.jupyter.widget-view+json": {
       "model_id": "d700ee3ad03c451788bea8e8805e1627",
       "version_major": 2,
       "version_minor": 0
      },
      "text/plain": [
       "time step:   0%|          | 0/10000 [00:00<?, ?it/s]"
      ]
     },
     "metadata": {},
     "output_type": "display_data"
    },
    {
     "data": {
      "application/vnd.jupyter.widget-view+json": {
       "model_id": "a751ca82987a46aab1b27c5ad9ce5df3",
       "version_major": 2,
       "version_minor": 0
      },
      "text/plain": [
       "time step:   0%|          | 0/10000 [00:00<?, ?it/s]"
      ]
     },
     "metadata": {},
     "output_type": "display_data"
    },
    {
     "data": {
      "application/vnd.jupyter.widget-view+json": {
       "model_id": "27ae2f26bb6f4af188ca663304a186b3",
       "version_major": 2,
       "version_minor": 0
      },
      "text/plain": [
       "time step:   0%|          | 0/10000 [00:00<?, ?it/s]"
      ]
     },
     "metadata": {},
     "output_type": "display_data"
    },
    {
     "data": {
      "application/vnd.jupyter.widget-view+json": {
       "model_id": "cc64b098643c49579a63a95511865ce0",
       "version_major": 2,
       "version_minor": 0
      },
      "text/plain": [
       "time step:   0%|          | 0/10000 [00:00<?, ?it/s]"
      ]
     },
     "metadata": {},
     "output_type": "display_data"
    },
    {
     "data": {
      "application/vnd.jupyter.widget-view+json": {
       "model_id": "08bc430506674084a1170074c5149308",
       "version_major": 2,
       "version_minor": 0
      },
      "text/plain": [
       "time step:   0%|          | 0/10000 [00:00<?, ?it/s]"
      ]
     },
     "metadata": {},
     "output_type": "display_data"
    },
    {
     "data": {
      "application/vnd.jupyter.widget-view+json": {
       "model_id": "b685db31b120492c8ac9f4a9206ec1b5",
       "version_major": 2,
       "version_minor": 0
      },
      "text/plain": [
       "time step:   0%|          | 0/10000 [00:00<?, ?it/s]"
      ]
     },
     "metadata": {},
     "output_type": "display_data"
    },
    {
     "data": {
      "application/vnd.jupyter.widget-view+json": {
       "model_id": "7958c9e182734391ab3597746b0cfdf2",
       "version_major": 2,
       "version_minor": 0
      },
      "text/plain": [
       "time step:   0%|          | 0/10000 [00:00<?, ?it/s]"
      ]
     },
     "metadata": {},
     "output_type": "display_data"
    },
    {
     "data": {
      "application/vnd.jupyter.widget-view+json": {
       "model_id": "92031cf3f07e426c85ca7ca0f52445b5",
       "version_major": 2,
       "version_minor": 0
      },
      "text/plain": [
       "time step:   0%|          | 0/10000 [00:00<?, ?it/s]"
      ]
     },
     "metadata": {},
     "output_type": "display_data"
    },
    {
     "data": {
      "application/vnd.jupyter.widget-view+json": {
       "model_id": "2ac97720aad04b8ca11f6b5d8e62da25",
       "version_major": 2,
       "version_minor": 0
      },
      "text/plain": [
       "time step:   0%|          | 0/10000 [00:00<?, ?it/s]"
      ]
     },
     "metadata": {},
     "output_type": "display_data"
    },
    {
     "data": {
      "application/vnd.jupyter.widget-view+json": {
       "model_id": "07202133f97c4cb896911c7059bbc793",
       "version_major": 2,
       "version_minor": 0
      },
      "text/plain": [
       "time step:   0%|          | 0/10000 [00:00<?, ?it/s]"
      ]
     },
     "metadata": {},
     "output_type": "display_data"
    },
    {
     "data": {
      "application/vnd.jupyter.widget-view+json": {
       "model_id": "92e7bcb5ceef4c0b9d3f87e89727f536",
       "version_major": 2,
       "version_minor": 0
      },
      "text/plain": [
       "time step:   0%|          | 0/10000 [00:00<?, ?it/s]"
      ]
     },
     "metadata": {},
     "output_type": "display_data"
    },
    {
     "data": {
      "application/vnd.jupyter.widget-view+json": {
       "model_id": "b01462d828d3456b883284edcf620275",
       "version_major": 2,
       "version_minor": 0
      },
      "text/plain": [
       "time step:   0%|          | 0/10000 [00:00<?, ?it/s]"
      ]
     },
     "metadata": {},
     "output_type": "display_data"
    },
    {
     "data": {
      "application/vnd.jupyter.widget-view+json": {
       "model_id": "1505fd7f1dcc4b23a08f99c6093d2ba3",
       "version_major": 2,
       "version_minor": 0
      },
      "text/plain": [
       "time step:   0%|          | 0/10000 [00:00<?, ?it/s]"
      ]
     },
     "metadata": {},
     "output_type": "display_data"
    },
    {
     "data": {
      "application/vnd.jupyter.widget-view+json": {
       "model_id": "6766c3cbea1f4c2388a63c4d4b07c690",
       "version_major": 2,
       "version_minor": 0
      },
      "text/plain": [
       "time step:   0%|          | 0/10000 [00:00<?, ?it/s]"
      ]
     },
     "metadata": {},
     "output_type": "display_data"
    },
    {
     "data": {
      "application/vnd.jupyter.widget-view+json": {
       "model_id": "7a745386f5bd4d6ca342046aa5da7976",
       "version_major": 2,
       "version_minor": 0
      },
      "text/plain": [
       "time step:   0%|          | 0/10000 [00:00<?, ?it/s]"
      ]
     },
     "metadata": {},
     "output_type": "display_data"
    },
    {
     "data": {
      "application/vnd.jupyter.widget-view+json": {
       "model_id": "40e49e6334f749c3b4a1dd7f4d28ffd9",
       "version_major": 2,
       "version_minor": 0
      },
      "text/plain": [
       "time step:   0%|          | 0/10000 [00:00<?, ?it/s]"
      ]
     },
     "metadata": {},
     "output_type": "display_data"
    },
    {
     "data": {
      "application/vnd.jupyter.widget-view+json": {
       "model_id": "68841d303ced4d1fbdcf2262511e65ec",
       "version_major": 2,
       "version_minor": 0
      },
      "text/plain": [
       "time step:   0%|          | 0/10000 [00:00<?, ?it/s]"
      ]
     },
     "metadata": {},
     "output_type": "display_data"
    },
    {
     "data": {
      "application/vnd.jupyter.widget-view+json": {
       "model_id": "b8f8c55ae6114d0eb8aa06a3dd1af67a",
       "version_major": 2,
       "version_minor": 0
      },
      "text/plain": [
       "time step:   0%|          | 0/10000 [00:00<?, ?it/s]"
      ]
     },
     "metadata": {},
     "output_type": "display_data"
    },
    {
     "data": {
      "application/vnd.jupyter.widget-view+json": {
       "model_id": "f2035ebcd7924c4dbee632f5f99204f3",
       "version_major": 2,
       "version_minor": 0
      },
      "text/plain": [
       "time step:   0%|          | 0/10000 [00:00<?, ?it/s]"
      ]
     },
     "metadata": {},
     "output_type": "display_data"
    },
    {
     "data": {
      "application/vnd.jupyter.widget-view+json": {
       "model_id": "390bfe54b23d43ae8d1907865bf644c3",
       "version_major": 2,
       "version_minor": 0
      },
      "text/plain": [
       "time step:   0%|          | 0/10000 [00:00<?, ?it/s]"
      ]
     },
     "metadata": {},
     "output_type": "display_data"
    },
    {
     "data": {
      "application/vnd.jupyter.widget-view+json": {
       "model_id": "64f2ad9b2fe543eba4aaf42c7e553507",
       "version_major": 2,
       "version_minor": 0
      },
      "text/plain": [
       "time step:   0%|          | 0/10000 [00:00<?, ?it/s]"
      ]
     },
     "metadata": {},
     "output_type": "display_data"
    },
    {
     "data": {
      "application/vnd.jupyter.widget-view+json": {
       "model_id": "6b6f81db5fdc41e6b286635e33f6cce8",
       "version_major": 2,
       "version_minor": 0
      },
      "text/plain": [
       "time step:   0%|          | 0/10000 [00:00<?, ?it/s]"
      ]
     },
     "metadata": {},
     "output_type": "display_data"
    },
    {
     "data": {
      "application/vnd.jupyter.widget-view+json": {
       "model_id": "fc823601266942e59b2a7a1a1dc001e6",
       "version_major": 2,
       "version_minor": 0
      },
      "text/plain": [
       "time step:   0%|          | 0/10000 [00:00<?, ?it/s]"
      ]
     },
     "metadata": {},
     "output_type": "display_data"
    },
    {
     "data": {
      "application/vnd.jupyter.widget-view+json": {
       "model_id": "be9ceccd75114dffbf6597bab61649d6",
       "version_major": 2,
       "version_minor": 0
      },
      "text/plain": [
       "time step:   0%|          | 0/10000 [00:00<?, ?it/s]"
      ]
     },
     "metadata": {},
     "output_type": "display_data"
    },
    {
     "data": {
      "application/vnd.jupyter.widget-view+json": {
       "model_id": "57900e3826ca4b2a84325da3c046572a",
       "version_major": 2,
       "version_minor": 0
      },
      "text/plain": [
       "time step:   0%|          | 0/10000 [00:00<?, ?it/s]"
      ]
     },
     "metadata": {},
     "output_type": "display_data"
    },
    {
     "data": {
      "application/vnd.jupyter.widget-view+json": {
       "model_id": "b39f6e76dcb3453b83fefed6d59187f1",
       "version_major": 2,
       "version_minor": 0
      },
      "text/plain": [
       "time step:   0%|          | 0/10000 [00:00<?, ?it/s]"
      ]
     },
     "metadata": {},
     "output_type": "display_data"
    },
    {
     "data": {
      "application/vnd.jupyter.widget-view+json": {
       "model_id": "7e5858595b384926b352bf867025ac1b",
       "version_major": 2,
       "version_minor": 0
      },
      "text/plain": [
       "time step:   0%|          | 0/10000 [00:00<?, ?it/s]"
      ]
     },
     "metadata": {},
     "output_type": "display_data"
    },
    {
     "data": {
      "application/vnd.jupyter.widget-view+json": {
       "model_id": "39738d3f74494baebdd97c7a72cd1bd6",
       "version_major": 2,
       "version_minor": 0
      },
      "text/plain": [
       "time step:   0%|          | 0/10000 [00:00<?, ?it/s]"
      ]
     },
     "metadata": {},
     "output_type": "display_data"
    },
    {
     "data": {
      "application/vnd.jupyter.widget-view+json": {
       "model_id": "f77ec6ad1ab34dc4a248e156ee52f5b4",
       "version_major": 2,
       "version_minor": 0
      },
      "text/plain": [
       "time step:   0%|          | 0/10000 [00:00<?, ?it/s]"
      ]
     },
     "metadata": {},
     "output_type": "display_data"
    },
    {
     "data": {
      "application/vnd.jupyter.widget-view+json": {
       "model_id": "68a08d710bdb4f4eac27958dc764ac81",
       "version_major": 2,
       "version_minor": 0
      },
      "text/plain": [
       "time step:   0%|          | 0/10000 [00:00<?, ?it/s]"
      ]
     },
     "metadata": {},
     "output_type": "display_data"
    },
    {
     "data": {
      "application/vnd.jupyter.widget-view+json": {
       "model_id": "4bb0ba6e8f2a4903b90065852d0f17db",
       "version_major": 2,
       "version_minor": 0
      },
      "text/plain": [
       "time step:   0%|          | 0/10000 [00:00<?, ?it/s]"
      ]
     },
     "metadata": {},
     "output_type": "display_data"
    },
    {
     "data": {
      "application/vnd.jupyter.widget-view+json": {
       "model_id": "0aaa672ae3854d64b771d29c75b7cd2e",
       "version_major": 2,
       "version_minor": 0
      },
      "text/plain": [
       "time step:   0%|          | 0/10000 [00:00<?, ?it/s]"
      ]
     },
     "metadata": {},
     "output_type": "display_data"
    },
    {
     "data": {
      "application/vnd.jupyter.widget-view+json": {
       "model_id": "2a8997c9681042ff90460550ded89ffa",
       "version_major": 2,
       "version_minor": 0
      },
      "text/plain": [
       "time step:   0%|          | 0/10000 [00:00<?, ?it/s]"
      ]
     },
     "metadata": {},
     "output_type": "display_data"
    },
    {
     "data": {
      "application/vnd.jupyter.widget-view+json": {
       "model_id": "05f9d1023e4848e6a4a7c062b38d30cf",
       "version_major": 2,
       "version_minor": 0
      },
      "text/plain": [
       "time step:   0%|          | 0/10000 [00:00<?, ?it/s]"
      ]
     },
     "metadata": {},
     "output_type": "display_data"
    },
    {
     "data": {
      "application/vnd.jupyter.widget-view+json": {
       "model_id": "5e91ed1733864f64a38769d137b55f42",
       "version_major": 2,
       "version_minor": 0
      },
      "text/plain": [
       "time step:   0%|          | 0/10000 [00:00<?, ?it/s]"
      ]
     },
     "metadata": {},
     "output_type": "display_data"
    },
    {
     "data": {
      "application/vnd.jupyter.widget-view+json": {
       "model_id": "52216ffa176d45cbaa5b335c0f7fb86e",
       "version_major": 2,
       "version_minor": 0
      },
      "text/plain": [
       "time step:   0%|          | 0/10000 [00:00<?, ?it/s]"
      ]
     },
     "metadata": {},
     "output_type": "display_data"
    },
    {
     "data": {
      "application/vnd.jupyter.widget-view+json": {
       "model_id": "8f0a1b9919b044d3a32446c506e5280a",
       "version_major": 2,
       "version_minor": 0
      },
      "text/plain": [
       "time step:   0%|          | 0/10000 [00:00<?, ?it/s]"
      ]
     },
     "metadata": {},
     "output_type": "display_data"
    },
    {
     "data": {
      "application/vnd.jupyter.widget-view+json": {
       "model_id": "1a062ee8c54e4807b97822830cde4707",
       "version_major": 2,
       "version_minor": 0
      },
      "text/plain": [
       "time step:   0%|          | 0/10000 [00:00<?, ?it/s]"
      ]
     },
     "metadata": {},
     "output_type": "display_data"
    },
    {
     "data": {
      "application/vnd.jupyter.widget-view+json": {
       "model_id": "6bb6add76a824f71886ade177d00f857",
       "version_major": 2,
       "version_minor": 0
      },
      "text/plain": [
       "time step:   0%|          | 0/10000 [00:00<?, ?it/s]"
      ]
     },
     "metadata": {},
     "output_type": "display_data"
    },
    {
     "data": {
      "application/vnd.jupyter.widget-view+json": {
       "model_id": "dd7bdd9474624571a7cbcbca73c19e76",
       "version_major": 2,
       "version_minor": 0
      },
      "text/plain": [
       "time step:   0%|          | 0/10000 [00:00<?, ?it/s]"
      ]
     },
     "metadata": {},
     "output_type": "display_data"
    },
    {
     "data": {
      "application/vnd.jupyter.widget-view+json": {
       "model_id": "b8bc4e1cc57947778fbe6ed7e9587609",
       "version_major": 2,
       "version_minor": 0
      },
      "text/plain": [
       "time step:   0%|          | 0/10000 [00:00<?, ?it/s]"
      ]
     },
     "metadata": {},
     "output_type": "display_data"
    },
    {
     "data": {
      "application/vnd.jupyter.widget-view+json": {
       "model_id": "40b3c3e939f44b9da43ff7be71b3f532",
       "version_major": 2,
       "version_minor": 0
      },
      "text/plain": [
       "time step:   0%|          | 0/10000 [00:00<?, ?it/s]"
      ]
     },
     "metadata": {},
     "output_type": "display_data"
    },
    {
     "data": {
      "application/vnd.jupyter.widget-view+json": {
       "model_id": "d9211410e4de43a188d62ad359068e2a",
       "version_major": 2,
       "version_minor": 0
      },
      "text/plain": [
       "time step:   0%|          | 0/10000 [00:00<?, ?it/s]"
      ]
     },
     "metadata": {},
     "output_type": "display_data"
    },
    {
     "data": {
      "application/vnd.jupyter.widget-view+json": {
       "model_id": "34d8dbfcc31d459fbc442dbb7ef3bc4f",
       "version_major": 2,
       "version_minor": 0
      },
      "text/plain": [
       "time step:   0%|          | 0/10000 [00:00<?, ?it/s]"
      ]
     },
     "metadata": {},
     "output_type": "display_data"
    },
    {
     "data": {
      "application/vnd.jupyter.widget-view+json": {
       "model_id": "b26f263be592445ebdc2499be11a9e7e",
       "version_major": 2,
       "version_minor": 0
      },
      "text/plain": [
       "time step:   0%|          | 0/10000 [00:00<?, ?it/s]"
      ]
     },
     "metadata": {},
     "output_type": "display_data"
    },
    {
     "data": {
      "application/vnd.jupyter.widget-view+json": {
       "model_id": "0ca8376f6e204501b18bc94971362062",
       "version_major": 2,
       "version_minor": 0
      },
      "text/plain": [
       "time step:   0%|          | 0/10000 [00:00<?, ?it/s]"
      ]
     },
     "metadata": {},
     "output_type": "display_data"
    },
    {
     "data": {
      "application/vnd.jupyter.widget-view+json": {
       "model_id": "0b72e72c3ecf47babb14084d88db5694",
       "version_major": 2,
       "version_minor": 0
      },
      "text/plain": [
       "time step:   0%|          | 0/10000 [00:00<?, ?it/s]"
      ]
     },
     "metadata": {},
     "output_type": "display_data"
    },
    {
     "data": {
      "application/vnd.jupyter.widget-view+json": {
       "model_id": "a14e03cd30c34569a67068b0f8b97a02",
       "version_major": 2,
       "version_minor": 0
      },
      "text/plain": [
       "time step:   0%|          | 0/10000 [00:00<?, ?it/s]"
      ]
     },
     "metadata": {},
     "output_type": "display_data"
    },
    {
     "data": {
      "application/vnd.jupyter.widget-view+json": {
       "model_id": "ab2f0d9d2f644853b845a66166b5fb3e",
       "version_major": 2,
       "version_minor": 0
      },
      "text/plain": [
       "time step:   0%|          | 0/10000 [00:00<?, ?it/s]"
      ]
     },
     "metadata": {},
     "output_type": "display_data"
    },
    {
     "data": {
      "application/vnd.jupyter.widget-view+json": {
       "model_id": "018ff372002f4a87bd058652ca098f17",
       "version_major": 2,
       "version_minor": 0
      },
      "text/plain": [
       "time step:   0%|          | 0/10000 [00:00<?, ?it/s]"
      ]
     },
     "metadata": {},
     "output_type": "display_data"
    },
    {
     "data": {
      "application/vnd.jupyter.widget-view+json": {
       "model_id": "2981128ed3e1493aa129a9cade7c5478",
       "version_major": 2,
       "version_minor": 0
      },
      "text/plain": [
       "time step:   0%|          | 0/10000 [00:00<?, ?it/s]"
      ]
     },
     "metadata": {},
     "output_type": "display_data"
    },
    {
     "data": {
      "application/vnd.jupyter.widget-view+json": {
       "model_id": "c1327b08be6548ecb811d1ab99c4375a",
       "version_major": 2,
       "version_minor": 0
      },
      "text/plain": [
       "time step:   0%|          | 0/10000 [00:00<?, ?it/s]"
      ]
     },
     "metadata": {},
     "output_type": "display_data"
    },
    {
     "data": {
      "application/vnd.jupyter.widget-view+json": {
       "model_id": "3954135df7654fd38ba0772109559456",
       "version_major": 2,
       "version_minor": 0
      },
      "text/plain": [
       "time step:   0%|          | 0/10000 [00:00<?, ?it/s]"
      ]
     },
     "metadata": {},
     "output_type": "display_data"
    },
    {
     "data": {
      "application/vnd.jupyter.widget-view+json": {
       "model_id": "00e2bc04e2b441d4a32e2d30ce4aa2d6",
       "version_major": 2,
       "version_minor": 0
      },
      "text/plain": [
       "time step:   0%|          | 0/10000 [00:00<?, ?it/s]"
      ]
     },
     "metadata": {},
     "output_type": "display_data"
    },
    {
     "data": {
      "application/vnd.jupyter.widget-view+json": {
       "model_id": "10103dee22e4423e94c6fb7de3848787",
       "version_major": 2,
       "version_minor": 0
      },
      "text/plain": [
       "time step:   0%|          | 0/10000 [00:00<?, ?it/s]"
      ]
     },
     "metadata": {},
     "output_type": "display_data"
    },
    {
     "data": {
      "application/vnd.jupyter.widget-view+json": {
       "model_id": "40effd91b684494986442a1ad4984d29",
       "version_major": 2,
       "version_minor": 0
      },
      "text/plain": [
       "time step:   0%|          | 0/10000 [00:00<?, ?it/s]"
      ]
     },
     "metadata": {},
     "output_type": "display_data"
    },
    {
     "data": {
      "application/vnd.jupyter.widget-view+json": {
       "model_id": "3d0f05c602fc4aa6ba32736c6ef7e609",
       "version_major": 2,
       "version_minor": 0
      },
      "text/plain": [
       "time step:   0%|          | 0/10000 [00:00<?, ?it/s]"
      ]
     },
     "metadata": {},
     "output_type": "display_data"
    },
    {
     "data": {
      "application/vnd.jupyter.widget-view+json": {
       "model_id": "7010fe38fcab4f7c9d50c6d9e79df5d4",
       "version_major": 2,
       "version_minor": 0
      },
      "text/plain": [
       "time step:   0%|          | 0/10000 [00:00<?, ?it/s]"
      ]
     },
     "metadata": {},
     "output_type": "display_data"
    },
    {
     "data": {
      "application/vnd.jupyter.widget-view+json": {
       "model_id": "821e9a6623b245bfb48b7413e088e477",
       "version_major": 2,
       "version_minor": 0
      },
      "text/plain": [
       "time step:   0%|          | 0/10000 [00:00<?, ?it/s]"
      ]
     },
     "metadata": {},
     "output_type": "display_data"
    },
    {
     "data": {
      "application/vnd.jupyter.widget-view+json": {
       "model_id": "ce76986ec1c5465b92de30047cd81dbd",
       "version_major": 2,
       "version_minor": 0
      },
      "text/plain": [
       "time step:   0%|          | 0/10000 [00:00<?, ?it/s]"
      ]
     },
     "metadata": {},
     "output_type": "display_data"
    },
    {
     "data": {
      "application/vnd.jupyter.widget-view+json": {
       "model_id": "f45780b9aed048fd818fc402c8d0a036",
       "version_major": 2,
       "version_minor": 0
      },
      "text/plain": [
       "time step:   0%|          | 0/10000 [00:00<?, ?it/s]"
      ]
     },
     "metadata": {},
     "output_type": "display_data"
    },
    {
     "data": {
      "application/vnd.jupyter.widget-view+json": {
       "model_id": "e4a300f1d69e4629b2ecc699c3fc1ed7",
       "version_major": 2,
       "version_minor": 0
      },
      "text/plain": [
       "time step:   0%|          | 0/10000 [00:00<?, ?it/s]"
      ]
     },
     "metadata": {},
     "output_type": "display_data"
    },
    {
     "data": {
      "application/vnd.jupyter.widget-view+json": {
       "model_id": "e65231808e424fb4a2680429e3f9cde9",
       "version_major": 2,
       "version_minor": 0
      },
      "text/plain": [
       "time step:   0%|          | 0/10000 [00:00<?, ?it/s]"
      ]
     },
     "metadata": {},
     "output_type": "display_data"
    },
    {
     "data": {
      "application/vnd.jupyter.widget-view+json": {
       "model_id": "5bcf8fd19f104d5685d07e50e74da892",
       "version_major": 2,
       "version_minor": 0
      },
      "text/plain": [
       "time step:   0%|          | 0/10000 [00:00<?, ?it/s]"
      ]
     },
     "metadata": {},
     "output_type": "display_data"
    },
    {
     "data": {
      "application/vnd.jupyter.widget-view+json": {
       "model_id": "47d7aac0ccf84301b780301cc90c50a3",
       "version_major": 2,
       "version_minor": 0
      },
      "text/plain": [
       "time step:   0%|          | 0/10000 [00:00<?, ?it/s]"
      ]
     },
     "metadata": {},
     "output_type": "display_data"
    },
    {
     "data": {
      "application/vnd.jupyter.widget-view+json": {
       "model_id": "ef5abc74a47344409e24f79f0a34a06f",
       "version_major": 2,
       "version_minor": 0
      },
      "text/plain": [
       "time step:   0%|          | 0/10000 [00:00<?, ?it/s]"
      ]
     },
     "metadata": {},
     "output_type": "display_data"
    },
    {
     "data": {
      "application/vnd.jupyter.widget-view+json": {
       "model_id": "1060e8af2c89469e97d71f20bde5ab53",
       "version_major": 2,
       "version_minor": 0
      },
      "text/plain": [
       "time step:   0%|          | 0/10000 [00:00<?, ?it/s]"
      ]
     },
     "metadata": {},
     "output_type": "display_data"
    },
    {
     "data": {
      "application/vnd.jupyter.widget-view+json": {
       "model_id": "6308c78033fd42f09a269a7e42640688",
       "version_major": 2,
       "version_minor": 0
      },
      "text/plain": [
       "time step:   0%|          | 0/10000 [00:00<?, ?it/s]"
      ]
     },
     "metadata": {},
     "output_type": "display_data"
    },
    {
     "data": {
      "application/vnd.jupyter.widget-view+json": {
       "model_id": "2ca98e5a6ed145a79f97ce33a96c63d3",
       "version_major": 2,
       "version_minor": 0
      },
      "text/plain": [
       "time step:   0%|          | 0/10000 [00:00<?, ?it/s]"
      ]
     },
     "metadata": {},
     "output_type": "display_data"
    },
    {
     "data": {
      "application/vnd.jupyter.widget-view+json": {
       "model_id": "593f9563202e442da01f4b35623a9ec8",
       "version_major": 2,
       "version_minor": 0
      },
      "text/plain": [
       "time step:   0%|          | 0/10000 [00:00<?, ?it/s]"
      ]
     },
     "metadata": {},
     "output_type": "display_data"
    },
    {
     "data": {
      "application/vnd.jupyter.widget-view+json": {
       "model_id": "62ab4d2cfcf44e9d94e00f06f4b9f658",
       "version_major": 2,
       "version_minor": 0
      },
      "text/plain": [
       "time step:   0%|          | 0/10000 [00:00<?, ?it/s]"
      ]
     },
     "metadata": {},
     "output_type": "display_data"
    },
    {
     "data": {
      "application/vnd.jupyter.widget-view+json": {
       "model_id": "ef11b6f91ddf4bda951067ca4bd74ed6",
       "version_major": 2,
       "version_minor": 0
      },
      "text/plain": [
       "time step:   0%|          | 0/10000 [00:00<?, ?it/s]"
      ]
     },
     "metadata": {},
     "output_type": "display_data"
    },
    {
     "data": {
      "application/vnd.jupyter.widget-view+json": {
       "model_id": "077c4ce4efab4ad9819abd2024f7d2f8",
       "version_major": 2,
       "version_minor": 0
      },
      "text/plain": [
       "time step:   0%|          | 0/10000 [00:00<?, ?it/s]"
      ]
     },
     "metadata": {},
     "output_type": "display_data"
    },
    {
     "data": {
      "application/vnd.jupyter.widget-view+json": {
       "model_id": "f1e382b51c634bb2bcba70a86306222e",
       "version_major": 2,
       "version_minor": 0
      },
      "text/plain": [
       "time step:   0%|          | 0/10000 [00:00<?, ?it/s]"
      ]
     },
     "metadata": {},
     "output_type": "display_data"
    },
    {
     "data": {
      "application/vnd.jupyter.widget-view+json": {
       "model_id": "9ab39a08516b49b496a4731f43ed57d8",
       "version_major": 2,
       "version_minor": 0
      },
      "text/plain": [
       "time step:   0%|          | 0/10000 [00:00<?, ?it/s]"
      ]
     },
     "metadata": {},
     "output_type": "display_data"
    },
    {
     "data": {
      "application/vnd.jupyter.widget-view+json": {
       "model_id": "45c1a7e5db0644098b0e7fa5ec4f9c3f",
       "version_major": 2,
       "version_minor": 0
      },
      "text/plain": [
       "time step:   0%|          | 0/10000 [00:00<?, ?it/s]"
      ]
     },
     "metadata": {},
     "output_type": "display_data"
    },
    {
     "data": {
      "application/vnd.jupyter.widget-view+json": {
       "model_id": "0d487394b1ee497f93fcca75fb5153f6",
       "version_major": 2,
       "version_minor": 0
      },
      "text/plain": [
       "time step:   0%|          | 0/10000 [00:00<?, ?it/s]"
      ]
     },
     "metadata": {},
     "output_type": "display_data"
    },
    {
     "data": {
      "application/vnd.jupyter.widget-view+json": {
       "model_id": "365491c4c3d246169daa9f9629beb7e9",
       "version_major": 2,
       "version_minor": 0
      },
      "text/plain": [
       "time step:   0%|          | 0/10000 [00:00<?, ?it/s]"
      ]
     },
     "metadata": {},
     "output_type": "display_data"
    },
    {
     "data": {
      "application/vnd.jupyter.widget-view+json": {
       "model_id": "6d63a395da754a608c4328ba9d8a9292",
       "version_major": 2,
       "version_minor": 0
      },
      "text/plain": [
       "time step:   0%|          | 0/10000 [00:00<?, ?it/s]"
      ]
     },
     "metadata": {},
     "output_type": "display_data"
    },
    {
     "data": {
      "application/vnd.jupyter.widget-view+json": {
       "model_id": "e83ff32918264c1b95dad657795ae137",
       "version_major": 2,
       "version_minor": 0
      },
      "text/plain": [
       "time step:   0%|          | 0/10000 [00:00<?, ?it/s]"
      ]
     },
     "metadata": {},
     "output_type": "display_data"
    },
    {
     "data": {
      "application/vnd.jupyter.widget-view+json": {
       "model_id": "468a47f66a5c49b89b0b9d8639ae2578",
       "version_major": 2,
       "version_minor": 0
      },
      "text/plain": [
       "time step:   0%|          | 0/10000 [00:00<?, ?it/s]"
      ]
     },
     "metadata": {},
     "output_type": "display_data"
    },
    {
     "data": {
      "application/vnd.jupyter.widget-view+json": {
       "model_id": "68b59daa51004456a498315dd8eb7583",
       "version_major": 2,
       "version_minor": 0
      },
      "text/plain": [
       "time step:   0%|          | 0/10000 [00:00<?, ?it/s]"
      ]
     },
     "metadata": {},
     "output_type": "display_data"
    },
    {
     "data": {
      "application/vnd.jupyter.widget-view+json": {
       "model_id": "47a206c784dc4c198ac4a01a0e758dc3",
       "version_major": 2,
       "version_minor": 0
      },
      "text/plain": [
       "time step:   0%|          | 0/10000 [00:00<?, ?it/s]"
      ]
     },
     "metadata": {},
     "output_type": "display_data"
    },
    {
     "data": {
      "application/vnd.jupyter.widget-view+json": {
       "model_id": "e2fd401c52834528b72e18ed3109b173",
       "version_major": 2,
       "version_minor": 0
      },
      "text/plain": [
       "time step:   0%|          | 0/10000 [00:00<?, ?it/s]"
      ]
     },
     "metadata": {},
     "output_type": "display_data"
    },
    {
     "data": {
      "application/vnd.jupyter.widget-view+json": {
       "model_id": "74ec5b5bcdb2493f9c520c110aa0a0f0",
       "version_major": 2,
       "version_minor": 0
      },
      "text/plain": [
       "time step:   0%|          | 0/10000 [00:00<?, ?it/s]"
      ]
     },
     "metadata": {},
     "output_type": "display_data"
    },
    {
     "data": {
      "application/vnd.jupyter.widget-view+json": {
       "model_id": "8785761b7d51421abbc2f2e7204ba872",
       "version_major": 2,
       "version_minor": 0
      },
      "text/plain": [
       "time step:   0%|          | 0/10000 [00:00<?, ?it/s]"
      ]
     },
     "metadata": {},
     "output_type": "display_data"
    },
    {
     "data": {
      "application/vnd.jupyter.widget-view+json": {
       "model_id": "68de08ecaa514be8a6ed99c20842797c",
       "version_major": 2,
       "version_minor": 0
      },
      "text/plain": [
       "time step:   0%|          | 0/10000 [00:00<?, ?it/s]"
      ]
     },
     "metadata": {},
     "output_type": "display_data"
    },
    {
     "data": {
      "application/vnd.jupyter.widget-view+json": {
       "model_id": "032767ec12184c96a5182d2c2ebc6a56",
       "version_major": 2,
       "version_minor": 0
      },
      "text/plain": [
       "time step:   0%|          | 0/10000 [00:00<?, ?it/s]"
      ]
     },
     "metadata": {},
     "output_type": "display_data"
    },
    {
     "data": {
      "application/vnd.jupyter.widget-view+json": {
       "model_id": "adf37685e6014082a1317d3554249d38",
       "version_major": 2,
       "version_minor": 0
      },
      "text/plain": [
       "time step:   0%|          | 0/10000 [00:00<?, ?it/s]"
      ]
     },
     "metadata": {},
     "output_type": "display_data"
    },
    {
     "data": {
      "application/vnd.jupyter.widget-view+json": {
       "model_id": "d7c4a7ff3e1d4661b6a880384d65ea5e",
       "version_major": 2,
       "version_minor": 0
      },
      "text/plain": [
       "time step:   0%|          | 0/10000 [00:00<?, ?it/s]"
      ]
     },
     "metadata": {},
     "output_type": "display_data"
    },
    {
     "data": {
      "application/vnd.jupyter.widget-view+json": {
       "model_id": "36cd790c4c4344c7a0f3189f180d5b21",
       "version_major": 2,
       "version_minor": 0
      },
      "text/plain": [
       "time step:   0%|          | 0/10000 [00:00<?, ?it/s]"
      ]
     },
     "metadata": {},
     "output_type": "display_data"
    },
    {
     "data": {
      "application/vnd.jupyter.widget-view+json": {
       "model_id": "53baf0137e68456e94813ada28b8a16b",
       "version_major": 2,
       "version_minor": 0
      },
      "text/plain": [
       "time step:   0%|          | 0/10000 [00:00<?, ?it/s]"
      ]
     },
     "metadata": {},
     "output_type": "display_data"
    },
    {
     "data": {
      "application/vnd.jupyter.widget-view+json": {
       "model_id": "194a69e8a48d406298aa035acc2f0a40",
       "version_major": 2,
       "version_minor": 0
      },
      "text/plain": [
       "time step:   0%|          | 0/10000 [00:00<?, ?it/s]"
      ]
     },
     "metadata": {},
     "output_type": "display_data"
    },
    {
     "data": {
      "application/vnd.jupyter.widget-view+json": {
       "model_id": "b2f4c8ea87f74e7ea438b3572b503315",
       "version_major": 2,
       "version_minor": 0
      },
      "text/plain": [
       "time step:   0%|          | 0/10000 [00:00<?, ?it/s]"
      ]
     },
     "metadata": {},
     "output_type": "display_data"
    },
    {
     "data": {
      "application/vnd.jupyter.widget-view+json": {
       "model_id": "1ab0b9d4f32c403aa8052a3b3f97ee10",
       "version_major": 2,
       "version_minor": 0
      },
      "text/plain": [
       "time step:   0%|          | 0/10000 [00:00<?, ?it/s]"
      ]
     },
     "metadata": {},
     "output_type": "display_data"
    },
    {
     "data": {
      "application/vnd.jupyter.widget-view+json": {
       "model_id": "d2cc07c9559b4960b09082c5578c8395",
       "version_major": 2,
       "version_minor": 0
      },
      "text/plain": [
       "time step:   0%|          | 0/10000 [00:00<?, ?it/s]"
      ]
     },
     "metadata": {},
     "output_type": "display_data"
    },
    {
     "data": {
      "application/vnd.jupyter.widget-view+json": {
       "model_id": "9357307c730c4bb59707b991d99e6c80",
       "version_major": 2,
       "version_minor": 0
      },
      "text/plain": [
       "time step:   0%|          | 0/10000 [00:00<?, ?it/s]"
      ]
     },
     "metadata": {},
     "output_type": "display_data"
    },
    {
     "data": {
      "application/vnd.jupyter.widget-view+json": {
       "model_id": "35f7656388ad407cb1f06da7e8ee899b",
       "version_major": 2,
       "version_minor": 0
      },
      "text/plain": [
       "time step:   0%|          | 0/10000 [00:00<?, ?it/s]"
      ]
     },
     "metadata": {},
     "output_type": "display_data"
    },
    {
     "data": {
      "application/vnd.jupyter.widget-view+json": {
       "model_id": "5a7628e810f6401198f910d0e7be31bd",
       "version_major": 2,
       "version_minor": 0
      },
      "text/plain": [
       "time step:   0%|          | 0/10000 [00:00<?, ?it/s]"
      ]
     },
     "metadata": {},
     "output_type": "display_data"
    },
    {
     "data": {
      "application/vnd.jupyter.widget-view+json": {
       "model_id": "0afbf8ef717540d4960ffcbe3f2344df",
       "version_major": 2,
       "version_minor": 0
      },
      "text/plain": [
       "time step:   0%|          | 0/10000 [00:00<?, ?it/s]"
      ]
     },
     "metadata": {},
     "output_type": "display_data"
    },
    {
     "data": {
      "application/vnd.jupyter.widget-view+json": {
       "model_id": "21be725a50e042b69c080b20d6a25ebf",
       "version_major": 2,
       "version_minor": 0
      },
      "text/plain": [
       "time step:   0%|          | 0/10000 [00:00<?, ?it/s]"
      ]
     },
     "metadata": {},
     "output_type": "display_data"
    },
    {
     "data": {
      "application/vnd.jupyter.widget-view+json": {
       "model_id": "470a0fa0aaed47eea1867381ae48fd77",
       "version_major": 2,
       "version_minor": 0
      },
      "text/plain": [
       "time step:   0%|          | 0/10000 [00:00<?, ?it/s]"
      ]
     },
     "metadata": {},
     "output_type": "display_data"
    },
    {
     "data": {
      "application/vnd.jupyter.widget-view+json": {
       "model_id": "5a973dacf5d74aa680ba21750dec8417",
       "version_major": 2,
       "version_minor": 0
      },
      "text/plain": [
       "time step:   0%|          | 0/10000 [00:00<?, ?it/s]"
      ]
     },
     "metadata": {},
     "output_type": "display_data"
    },
    {
     "data": {
      "application/vnd.jupyter.widget-view+json": {
       "model_id": "cc3fd4b59b2949faba2716ecf368d36c",
       "version_major": 2,
       "version_minor": 0
      },
      "text/plain": [
       "time step:   0%|          | 0/10000 [00:00<?, ?it/s]"
      ]
     },
     "metadata": {},
     "output_type": "display_data"
    },
    {
     "data": {
      "application/vnd.jupyter.widget-view+json": {
       "model_id": "1127e79b3e67442b8e3e7bec0c0af5e4",
       "version_major": 2,
       "version_minor": 0
      },
      "text/plain": [
       "time step:   0%|          | 0/10000 [00:00<?, ?it/s]"
      ]
     },
     "metadata": {},
     "output_type": "display_data"
    },
    {
     "data": {
      "application/vnd.jupyter.widget-view+json": {
       "model_id": "e7b5bf8c71ca45d4a09b636a24e7a3bf",
       "version_major": 2,
       "version_minor": 0
      },
      "text/plain": [
       "time step:   0%|          | 0/10000 [00:00<?, ?it/s]"
      ]
     },
     "metadata": {},
     "output_type": "display_data"
    },
    {
     "data": {
      "application/vnd.jupyter.widget-view+json": {
       "model_id": "4e7cf2e5a0824938999134f0defc9da6",
       "version_major": 2,
       "version_minor": 0
      },
      "text/plain": [
       "time step:   0%|          | 0/10000 [00:00<?, ?it/s]"
      ]
     },
     "metadata": {},
     "output_type": "display_data"
    },
    {
     "data": {
      "application/vnd.jupyter.widget-view+json": {
       "model_id": "e25adf705abd4c7bb3b62b8c27d5dac0",
       "version_major": 2,
       "version_minor": 0
      },
      "text/plain": [
       "time step:   0%|          | 0/10000 [00:00<?, ?it/s]"
      ]
     },
     "metadata": {},
     "output_type": "display_data"
    },
    {
     "data": {
      "application/vnd.jupyter.widget-view+json": {
       "model_id": "b176bc5508f343a89bd9cd735f318b74",
       "version_major": 2,
       "version_minor": 0
      },
      "text/plain": [
       "time step:   0%|          | 0/10000 [00:00<?, ?it/s]"
      ]
     },
     "metadata": {},
     "output_type": "display_data"
    },
    {
     "data": {
      "application/vnd.jupyter.widget-view+json": {
       "model_id": "827912e428b24911b2ab93db7708c19f",
       "version_major": 2,
       "version_minor": 0
      },
      "text/plain": [
       "time step:   0%|          | 0/10000 [00:00<?, ?it/s]"
      ]
     },
     "metadata": {},
     "output_type": "display_data"
    },
    {
     "data": {
      "application/vnd.jupyter.widget-view+json": {
       "model_id": "debe15cec3a0412da8f9a5427b9f5576",
       "version_major": 2,
       "version_minor": 0
      },
      "text/plain": [
       "time step:   0%|          | 0/10000 [00:00<?, ?it/s]"
      ]
     },
     "metadata": {},
     "output_type": "display_data"
    },
    {
     "data": {
      "application/vnd.jupyter.widget-view+json": {
       "model_id": "ba25528d55ac4daa9c0695b8b2d71f4f",
       "version_major": 2,
       "version_minor": 0
      },
      "text/plain": [
       "time step:   0%|          | 0/10000 [00:00<?, ?it/s]"
      ]
     },
     "metadata": {},
     "output_type": "display_data"
    },
    {
     "data": {
      "application/vnd.jupyter.widget-view+json": {
       "model_id": "f7d2092b66ae430fac80438ab16533e7",
       "version_major": 2,
       "version_minor": 0
      },
      "text/plain": [
       "time step:   0%|          | 0/10000 [00:00<?, ?it/s]"
      ]
     },
     "metadata": {},
     "output_type": "display_data"
    },
    {
     "data": {
      "application/vnd.jupyter.widget-view+json": {
       "model_id": "7b16ef4ae7c34b28b1db5f26e482cc07",
       "version_major": 2,
       "version_minor": 0
      },
      "text/plain": [
       "time step:   0%|          | 0/10000 [00:00<?, ?it/s]"
      ]
     },
     "metadata": {},
     "output_type": "display_data"
    },
    {
     "data": {
      "application/vnd.jupyter.widget-view+json": {
       "model_id": "c80e99d96d4842fc932748f304199e8b",
       "version_major": 2,
       "version_minor": 0
      },
      "text/plain": [
       "time step:   0%|          | 0/10000 [00:00<?, ?it/s]"
      ]
     },
     "metadata": {},
     "output_type": "display_data"
    },
    {
     "data": {
      "application/vnd.jupyter.widget-view+json": {
       "model_id": "ff0fef45c70748c092baf154aaf7e605",
       "version_major": 2,
       "version_minor": 0
      },
      "text/plain": [
       "time step:   0%|          | 0/10000 [00:00<?, ?it/s]"
      ]
     },
     "metadata": {},
     "output_type": "display_data"
    },
    {
     "data": {
      "application/vnd.jupyter.widget-view+json": {
       "model_id": "af70618ffa0e480781249df61366093f",
       "version_major": 2,
       "version_minor": 0
      },
      "text/plain": [
       "time step:   0%|          | 0/10000 [00:00<?, ?it/s]"
      ]
     },
     "metadata": {},
     "output_type": "display_data"
    },
    {
     "data": {
      "application/vnd.jupyter.widget-view+json": {
       "model_id": "4eead173ca2a4e7cace68d5187a5a472",
       "version_major": 2,
       "version_minor": 0
      },
      "text/plain": [
       "time step:   0%|          | 0/10000 [00:00<?, ?it/s]"
      ]
     },
     "metadata": {},
     "output_type": "display_data"
    },
    {
     "data": {
      "application/vnd.jupyter.widget-view+json": {
       "model_id": "7d856bc674eb4bcb818f5191386245ef",
       "version_major": 2,
       "version_minor": 0
      },
      "text/plain": [
       "time step:   0%|          | 0/10000 [00:00<?, ?it/s]"
      ]
     },
     "metadata": {},
     "output_type": "display_data"
    },
    {
     "data": {
      "application/vnd.jupyter.widget-view+json": {
       "model_id": "85fcc222cf404d2db418a378b9065d62",
       "version_major": 2,
       "version_minor": 0
      },
      "text/plain": [
       "time step:   0%|          | 0/10000 [00:00<?, ?it/s]"
      ]
     },
     "metadata": {},
     "output_type": "display_data"
    },
    {
     "data": {
      "application/vnd.jupyter.widget-view+json": {
       "model_id": "c0b546e132a842a788b9f9921ab8a3af",
       "version_major": 2,
       "version_minor": 0
      },
      "text/plain": [
       "time step:   0%|          | 0/10000 [00:00<?, ?it/s]"
      ]
     },
     "metadata": {},
     "output_type": "display_data"
    },
    {
     "data": {
      "application/vnd.jupyter.widget-view+json": {
       "model_id": "d04c45e3f4b14adc81e7ef7dbb673fc9",
       "version_major": 2,
       "version_minor": 0
      },
      "text/plain": [
       "time step:   0%|          | 0/10000 [00:00<?, ?it/s]"
      ]
     },
     "metadata": {},
     "output_type": "display_data"
    },
    {
     "data": {
      "application/vnd.jupyter.widget-view+json": {
       "model_id": "3b3ac8758867478ca1dd002bc48ab821",
       "version_major": 2,
       "version_minor": 0
      },
      "text/plain": [
       "time step:   0%|          | 0/10000 [00:00<?, ?it/s]"
      ]
     },
     "metadata": {},
     "output_type": "display_data"
    },
    {
     "data": {
      "application/vnd.jupyter.widget-view+json": {
       "model_id": "79f88a02bd614ce7a9bed065082d6a74",
       "version_major": 2,
       "version_minor": 0
      },
      "text/plain": [
       "time step:   0%|          | 0/10000 [00:00<?, ?it/s]"
      ]
     },
     "metadata": {},
     "output_type": "display_data"
    },
    {
     "data": {
      "application/vnd.jupyter.widget-view+json": {
       "model_id": "21f23bab3681461ca3d4340e937d1256",
       "version_major": 2,
       "version_minor": 0
      },
      "text/plain": [
       "time step:   0%|          | 0/10000 [00:00<?, ?it/s]"
      ]
     },
     "metadata": {},
     "output_type": "display_data"
    },
    {
     "data": {
      "application/vnd.jupyter.widget-view+json": {
       "model_id": "0d9846a1720c4c449c4e859f27a2cda6",
       "version_major": 2,
       "version_minor": 0
      },
      "text/plain": [
       "time step:   0%|          | 0/10000 [00:00<?, ?it/s]"
      ]
     },
     "metadata": {},
     "output_type": "display_data"
    },
    {
     "data": {
      "application/vnd.jupyter.widget-view+json": {
       "model_id": "70b03f82b70641009ff50819985b2406",
       "version_major": 2,
       "version_minor": 0
      },
      "text/plain": [
       "time step:   0%|          | 0/10000 [00:00<?, ?it/s]"
      ]
     },
     "metadata": {},
     "output_type": "display_data"
    },
    {
     "data": {
      "application/vnd.jupyter.widget-view+json": {
       "model_id": "30aed63373bf457fb12fecd2f011b7e5",
       "version_major": 2,
       "version_minor": 0
      },
      "text/plain": [
       "time step:   0%|          | 0/10000 [00:00<?, ?it/s]"
      ]
     },
     "metadata": {},
     "output_type": "display_data"
    },
    {
     "data": {
      "application/vnd.jupyter.widget-view+json": {
       "model_id": "a8bf043be1124429b0ae3e6471c7504a",
       "version_major": 2,
       "version_minor": 0
      },
      "text/plain": [
       "time step:   0%|          | 0/10000 [00:00<?, ?it/s]"
      ]
     },
     "metadata": {},
     "output_type": "display_data"
    },
    {
     "data": {
      "application/vnd.jupyter.widget-view+json": {
       "model_id": "f540ca4e20b440839364541b1ae12bc4",
       "version_major": 2,
       "version_minor": 0
      },
      "text/plain": [
       "time step:   0%|          | 0/10000 [00:00<?, ?it/s]"
      ]
     },
     "metadata": {},
     "output_type": "display_data"
    },
    {
     "data": {
      "application/vnd.jupyter.widget-view+json": {
       "model_id": "f40fe16121954d5d84c1ad463dae41e4",
       "version_major": 2,
       "version_minor": 0
      },
      "text/plain": [
       "time step:   0%|          | 0/10000 [00:00<?, ?it/s]"
      ]
     },
     "metadata": {},
     "output_type": "display_data"
    },
    {
     "data": {
      "application/vnd.jupyter.widget-view+json": {
       "model_id": "e4364f23ccff491ab9ab1db8eaa422a9",
       "version_major": 2,
       "version_minor": 0
      },
      "text/plain": [
       "time step:   0%|          | 0/10000 [00:00<?, ?it/s]"
      ]
     },
     "metadata": {},
     "output_type": "display_data"
    },
    {
     "data": {
      "application/vnd.jupyter.widget-view+json": {
       "model_id": "26b90c29d2744050bfe8ad2e00124c20",
       "version_major": 2,
       "version_minor": 0
      },
      "text/plain": [
       "time step:   0%|          | 0/10000 [00:00<?, ?it/s]"
      ]
     },
     "metadata": {},
     "output_type": "display_data"
    },
    {
     "data": {
      "application/vnd.jupyter.widget-view+json": {
       "model_id": "fbd6a1d0aa134ac281e344b4e4a1aae9",
       "version_major": 2,
       "version_minor": 0
      },
      "text/plain": [
       "time step:   0%|          | 0/10000 [00:00<?, ?it/s]"
      ]
     },
     "metadata": {},
     "output_type": "display_data"
    },
    {
     "data": {
      "application/vnd.jupyter.widget-view+json": {
       "model_id": "d8891189a8b248ea9c34c8140074b2f8",
       "version_major": 2,
       "version_minor": 0
      },
      "text/plain": [
       "time step:   0%|          | 0/10000 [00:00<?, ?it/s]"
      ]
     },
     "metadata": {},
     "output_type": "display_data"
    },
    {
     "data": {
      "application/vnd.jupyter.widget-view+json": {
       "model_id": "4182c2db84cf431486b82486ecb97e86",
       "version_major": 2,
       "version_minor": 0
      },
      "text/plain": [
       "time step:   0%|          | 0/10000 [00:00<?, ?it/s]"
      ]
     },
     "metadata": {},
     "output_type": "display_data"
    },
    {
     "data": {
      "application/vnd.jupyter.widget-view+json": {
       "model_id": "627aed90ada14251928f4d48bb5dd8a7",
       "version_major": 2,
       "version_minor": 0
      },
      "text/plain": [
       "time step:   0%|          | 0/10000 [00:00<?, ?it/s]"
      ]
     },
     "metadata": {},
     "output_type": "display_data"
    },
    {
     "data": {
      "application/vnd.jupyter.widget-view+json": {
       "model_id": "9943a66d04f847f083bbf4bde5ff9dfe",
       "version_major": 2,
       "version_minor": 0
      },
      "text/plain": [
       "time step:   0%|          | 0/10000 [00:00<?, ?it/s]"
      ]
     },
     "metadata": {},
     "output_type": "display_data"
    },
    {
     "data": {
      "application/vnd.jupyter.widget-view+json": {
       "model_id": "cff2762195e2466f9a7c9a45ec5192dd",
       "version_major": 2,
       "version_minor": 0
      },
      "text/plain": [
       "time step:   0%|          | 0/10000 [00:00<?, ?it/s]"
      ]
     },
     "metadata": {},
     "output_type": "display_data"
    },
    {
     "data": {
      "application/vnd.jupyter.widget-view+json": {
       "model_id": "ad75a0c7833f44a3a4e2cbe387e03a14",
       "version_major": 2,
       "version_minor": 0
      },
      "text/plain": [
       "time step:   0%|          | 0/10000 [00:00<?, ?it/s]"
      ]
     },
     "metadata": {},
     "output_type": "display_data"
    },
    {
     "data": {
      "application/vnd.jupyter.widget-view+json": {
       "model_id": "b81fa8a4c5694bc0a69a3c768153be82",
       "version_major": 2,
       "version_minor": 0
      },
      "text/plain": [
       "time step:   0%|          | 0/10000 [00:00<?, ?it/s]"
      ]
     },
     "metadata": {},
     "output_type": "display_data"
    },
    {
     "data": {
      "application/vnd.jupyter.widget-view+json": {
       "model_id": "90d8da13720f4d2594f3a503c1d11334",
       "version_major": 2,
       "version_minor": 0
      },
      "text/plain": [
       "time step:   0%|          | 0/10000 [00:00<?, ?it/s]"
      ]
     },
     "metadata": {},
     "output_type": "display_data"
    },
    {
     "data": {
      "application/vnd.jupyter.widget-view+json": {
       "model_id": "3e7db7e933b64853824bb16baca7217f",
       "version_major": 2,
       "version_minor": 0
      },
      "text/plain": [
       "time step:   0%|          | 0/10000 [00:00<?, ?it/s]"
      ]
     },
     "metadata": {},
     "output_type": "display_data"
    },
    {
     "data": {
      "application/vnd.jupyter.widget-view+json": {
       "model_id": "31024cd5400048aeae51db32c97a9a77",
       "version_major": 2,
       "version_minor": 0
      },
      "text/plain": [
       "time step:   0%|          | 0/10000 [00:00<?, ?it/s]"
      ]
     },
     "metadata": {},
     "output_type": "display_data"
    },
    {
     "data": {
      "application/vnd.jupyter.widget-view+json": {
       "model_id": "969ba81330e1403c92f6d9c1762d1f9b",
       "version_major": 2,
       "version_minor": 0
      },
      "text/plain": [
       "time step:   0%|          | 0/10000 [00:00<?, ?it/s]"
      ]
     },
     "metadata": {},
     "output_type": "display_data"
    },
    {
     "data": {
      "application/vnd.jupyter.widget-view+json": {
       "model_id": "cc66a078824646c2878144389ae54e72",
       "version_major": 2,
       "version_minor": 0
      },
      "text/plain": [
       "time step:   0%|          | 0/10000 [00:00<?, ?it/s]"
      ]
     },
     "metadata": {},
     "output_type": "display_data"
    },
    {
     "data": {
      "application/vnd.jupyter.widget-view+json": {
       "model_id": "d5c181499cd54900a5b868cf1353f5fb",
       "version_major": 2,
       "version_minor": 0
      },
      "text/plain": [
       "time step:   0%|          | 0/10000 [00:00<?, ?it/s]"
      ]
     },
     "metadata": {},
     "output_type": "display_data"
    },
    {
     "data": {
      "application/vnd.jupyter.widget-view+json": {
       "model_id": "c3284806c761401d8c4871ce3641530b",
       "version_major": 2,
       "version_minor": 0
      },
      "text/plain": [
       "time step:   0%|          | 0/10000 [00:00<?, ?it/s]"
      ]
     },
     "metadata": {},
     "output_type": "display_data"
    },
    {
     "data": {
      "application/vnd.jupyter.widget-view+json": {
       "model_id": "43ef827d18034144a72ceda650735577",
       "version_major": 2,
       "version_minor": 0
      },
      "text/plain": [
       "time step:   0%|          | 0/10000 [00:00<?, ?it/s]"
      ]
     },
     "metadata": {},
     "output_type": "display_data"
    },
    {
     "data": {
      "application/vnd.jupyter.widget-view+json": {
       "model_id": "984b76497cda45109686c2328a3a2dbc",
       "version_major": 2,
       "version_minor": 0
      },
      "text/plain": [
       "time step:   0%|          | 0/10000 [00:00<?, ?it/s]"
      ]
     },
     "metadata": {},
     "output_type": "display_data"
    },
    {
     "data": {
      "application/vnd.jupyter.widget-view+json": {
       "model_id": "c5b18136b4b5487db5aa065ba60c1d97",
       "version_major": 2,
       "version_minor": 0
      },
      "text/plain": [
       "time step:   0%|          | 0/10000 [00:00<?, ?it/s]"
      ]
     },
     "metadata": {},
     "output_type": "display_data"
    },
    {
     "data": {
      "application/vnd.jupyter.widget-view+json": {
       "model_id": "955e37abb62740e58a9a1a7f863e3445",
       "version_major": 2,
       "version_minor": 0
      },
      "text/plain": [
       "time step:   0%|          | 0/10000 [00:00<?, ?it/s]"
      ]
     },
     "metadata": {},
     "output_type": "display_data"
    },
    {
     "data": {
      "application/vnd.jupyter.widget-view+json": {
       "model_id": "c4033ed18c684da5a67bddca78b9953e",
       "version_major": 2,
       "version_minor": 0
      },
      "text/plain": [
       "time step:   0%|          | 0/10000 [00:00<?, ?it/s]"
      ]
     },
     "metadata": {},
     "output_type": "display_data"
    },
    {
     "data": {
      "application/vnd.jupyter.widget-view+json": {
       "model_id": "45b4109af6534ca69d4e18784a5a17b1",
       "version_major": 2,
       "version_minor": 0
      },
      "text/plain": [
       "time step:   0%|          | 0/10000 [00:00<?, ?it/s]"
      ]
     },
     "metadata": {},
     "output_type": "display_data"
    },
    {
     "data": {
      "application/vnd.jupyter.widget-view+json": {
       "model_id": "c01f203527fd47d086e50153fabb62e3",
       "version_major": 2,
       "version_minor": 0
      },
      "text/plain": [
       "time step:   0%|          | 0/10000 [00:00<?, ?it/s]"
      ]
     },
     "metadata": {},
     "output_type": "display_data"
    },
    {
     "data": {
      "application/vnd.jupyter.widget-view+json": {
       "model_id": "44d0be9b479049809c06c0de1e5bee01",
       "version_major": 2,
       "version_minor": 0
      },
      "text/plain": [
       "time step:   0%|          | 0/10000 [00:00<?, ?it/s]"
      ]
     },
     "metadata": {},
     "output_type": "display_data"
    },
    {
     "data": {
      "application/vnd.jupyter.widget-view+json": {
       "model_id": "d612c9a158ac4d2caa79220257bbbb49",
       "version_major": 2,
       "version_minor": 0
      },
      "text/plain": [
       "time step:   0%|          | 0/10000 [00:00<?, ?it/s]"
      ]
     },
     "metadata": {},
     "output_type": "display_data"
    },
    {
     "data": {
      "application/vnd.jupyter.widget-view+json": {
       "model_id": "2cbcf91986e0405489483f3f7fb45ee8",
       "version_major": 2,
       "version_minor": 0
      },
      "text/plain": [
       "time step:   0%|          | 0/10000 [00:00<?, ?it/s]"
      ]
     },
     "metadata": {},
     "output_type": "display_data"
    },
    {
     "data": {
      "application/vnd.jupyter.widget-view+json": {
       "model_id": "b3c32edc8c7e4ade9697df0c181dbe51",
       "version_major": 2,
       "version_minor": 0
      },
      "text/plain": [
       "time step:   0%|          | 0/10000 [00:00<?, ?it/s]"
      ]
     },
     "metadata": {},
     "output_type": "display_data"
    },
    {
     "data": {
      "application/vnd.jupyter.widget-view+json": {
       "model_id": "db81d07fd8684723986fd6625c71bd2f",
       "version_major": 2,
       "version_minor": 0
      },
      "text/plain": [
       "time step:   0%|          | 0/10000 [00:00<?, ?it/s]"
      ]
     },
     "metadata": {},
     "output_type": "display_data"
    },
    {
     "data": {
      "application/vnd.jupyter.widget-view+json": {
       "model_id": "4dda0215d8634563beb76e49410ae8da",
       "version_major": 2,
       "version_minor": 0
      },
      "text/plain": [
       "time step:   0%|          | 0/10000 [00:00<?, ?it/s]"
      ]
     },
     "metadata": {},
     "output_type": "display_data"
    },
    {
     "data": {
      "application/vnd.jupyter.widget-view+json": {
       "model_id": "a1ea52ebd72b48f594965a5922f3ffd9",
       "version_major": 2,
       "version_minor": 0
      },
      "text/plain": [
       "time step:   0%|          | 0/10000 [00:00<?, ?it/s]"
      ]
     },
     "metadata": {},
     "output_type": "display_data"
    },
    {
     "data": {
      "application/vnd.jupyter.widget-view+json": {
       "model_id": "e41b1cf9b4e94f1682807fabb97207bf",
       "version_major": 2,
       "version_minor": 0
      },
      "text/plain": [
       "time step:   0%|          | 0/10000 [00:00<?, ?it/s]"
      ]
     },
     "metadata": {},
     "output_type": "display_data"
    },
    {
     "data": {
      "application/vnd.jupyter.widget-view+json": {
       "model_id": "036fbbd590a64bf3b3d3e326e5c46145",
       "version_major": 2,
       "version_minor": 0
      },
      "text/plain": [
       "time step:   0%|          | 0/10000 [00:00<?, ?it/s]"
      ]
     },
     "metadata": {},
     "output_type": "display_data"
    },
    {
     "data": {
      "application/vnd.jupyter.widget-view+json": {
       "model_id": "f88ec47615324371958315f24e4dfcc5",
       "version_major": 2,
       "version_minor": 0
      },
      "text/plain": [
       "time step:   0%|          | 0/10000 [00:00<?, ?it/s]"
      ]
     },
     "metadata": {},
     "output_type": "display_data"
    },
    {
     "data": {
      "application/vnd.jupyter.widget-view+json": {
       "model_id": "2ccb0dc6397a43d5aed263f0f1ab3c3a",
       "version_major": 2,
       "version_minor": 0
      },
      "text/plain": [
       "time step:   0%|          | 0/10000 [00:00<?, ?it/s]"
      ]
     },
     "metadata": {},
     "output_type": "display_data"
    },
    {
     "data": {
      "application/vnd.jupyter.widget-view+json": {
       "model_id": "7f99ae10d06c49ecbf7400256b8a0163",
       "version_major": 2,
       "version_minor": 0
      },
      "text/plain": [
       "time step:   0%|          | 0/10000 [00:00<?, ?it/s]"
      ]
     },
     "metadata": {},
     "output_type": "display_data"
    },
    {
     "data": {
      "application/vnd.jupyter.widget-view+json": {
       "model_id": "50f71ac260da4bc49ca68d668136a74d",
       "version_major": 2,
       "version_minor": 0
      },
      "text/plain": [
       "time step:   0%|          | 0/10000 [00:00<?, ?it/s]"
      ]
     },
     "metadata": {},
     "output_type": "display_data"
    },
    {
     "data": {
      "application/vnd.jupyter.widget-view+json": {
       "model_id": "37056d9eabfc4a30852efcc641317b0f",
       "version_major": 2,
       "version_minor": 0
      },
      "text/plain": [
       "time step:   0%|          | 0/10000 [00:00<?, ?it/s]"
      ]
     },
     "metadata": {},
     "output_type": "display_data"
    },
    {
     "data": {
      "application/vnd.jupyter.widget-view+json": {
       "model_id": "c8ee078ef01542ce8171ff02513dc0d3",
       "version_major": 2,
       "version_minor": 0
      },
      "text/plain": [
       "time step:   0%|          | 0/10000 [00:00<?, ?it/s]"
      ]
     },
     "metadata": {},
     "output_type": "display_data"
    },
    {
     "data": {
      "application/vnd.jupyter.widget-view+json": {
       "model_id": "4ad3dcb8db7345f39863ab7e1865ad8c",
       "version_major": 2,
       "version_minor": 0
      },
      "text/plain": [
       "time step:   0%|          | 0/10000 [00:00<?, ?it/s]"
      ]
     },
     "metadata": {},
     "output_type": "display_data"
    },
    {
     "data": {
      "application/vnd.jupyter.widget-view+json": {
       "model_id": "a7ba2a359a6e4558b374acc12f1aa37c",
       "version_major": 2,
       "version_minor": 0
      },
      "text/plain": [
       "time step:   0%|          | 0/10000 [00:00<?, ?it/s]"
      ]
     },
     "metadata": {},
     "output_type": "display_data"
    },
    {
     "data": {
      "application/vnd.jupyter.widget-view+json": {
       "model_id": "ac0062f8a3594291b3484293b194a875",
       "version_major": 2,
       "version_minor": 0
      },
      "text/plain": [
       "time step:   0%|          | 0/10000 [00:00<?, ?it/s]"
      ]
     },
     "metadata": {},
     "output_type": "display_data"
    },
    {
     "data": {
      "application/vnd.jupyter.widget-view+json": {
       "model_id": "4eb665cff78c4d4c9bd2e673a1af9e1f",
       "version_major": 2,
       "version_minor": 0
      },
      "text/plain": [
       "time step:   0%|          | 0/10000 [00:00<?, ?it/s]"
      ]
     },
     "metadata": {},
     "output_type": "display_data"
    },
    {
     "data": {
      "application/vnd.jupyter.widget-view+json": {
       "model_id": "80a17eb57b404fb397b8d9b92cf6a712",
       "version_major": 2,
       "version_minor": 0
      },
      "text/plain": [
       "time step:   0%|          | 0/10000 [00:00<?, ?it/s]"
      ]
     },
     "metadata": {},
     "output_type": "display_data"
    },
    {
     "data": {
      "application/vnd.jupyter.widget-view+json": {
       "model_id": "1c9bd3f60df54d61a89d74459ea5c07d",
       "version_major": 2,
       "version_minor": 0
      },
      "text/plain": [
       "time step:   0%|          | 0/10000 [00:00<?, ?it/s]"
      ]
     },
     "metadata": {},
     "output_type": "display_data"
    },
    {
     "data": {
      "application/vnd.jupyter.widget-view+json": {
       "model_id": "7489e8cd0f2f43d18acdc27d6ab7031c",
       "version_major": 2,
       "version_minor": 0
      },
      "text/plain": [
       "time step:   0%|          | 0/10000 [00:00<?, ?it/s]"
      ]
     },
     "metadata": {},
     "output_type": "display_data"
    },
    {
     "data": {
      "application/vnd.jupyter.widget-view+json": {
       "model_id": "af19f1b767534ca89f98fdfc6ffe2d57",
       "version_major": 2,
       "version_minor": 0
      },
      "text/plain": [
       "time step:   0%|          | 0/10000 [00:00<?, ?it/s]"
      ]
     },
     "metadata": {},
     "output_type": "display_data"
    },
    {
     "data": {
      "application/vnd.jupyter.widget-view+json": {
       "model_id": "0434738a110a4c02a3317081d303be1b",
       "version_major": 2,
       "version_minor": 0
      },
      "text/plain": [
       "time step:   0%|          | 0/10000 [00:00<?, ?it/s]"
      ]
     },
     "metadata": {},
     "output_type": "display_data"
    },
    {
     "data": {
      "application/vnd.jupyter.widget-view+json": {
       "model_id": "c7dded7f740b4f1889ba5cb50cf3ec9a",
       "version_major": 2,
       "version_minor": 0
      },
      "text/plain": [
       "time step:   0%|          | 0/10000 [00:00<?, ?it/s]"
      ]
     },
     "metadata": {},
     "output_type": "display_data"
    },
    {
     "data": {
      "application/vnd.jupyter.widget-view+json": {
       "model_id": "6f438f0cffec49c0b7af026d0797929f",
       "version_major": 2,
       "version_minor": 0
      },
      "text/plain": [
       "time step:   0%|          | 0/10000 [00:00<?, ?it/s]"
      ]
     },
     "metadata": {},
     "output_type": "display_data"
    },
    {
     "data": {
      "application/vnd.jupyter.widget-view+json": {
       "model_id": "1b40f5fc937d48cb91afd6de1daea59a",
       "version_major": 2,
       "version_minor": 0
      },
      "text/plain": [
       "time step:   0%|          | 0/10000 [00:00<?, ?it/s]"
      ]
     },
     "metadata": {},
     "output_type": "display_data"
    },
    {
     "data": {
      "application/vnd.jupyter.widget-view+json": {
       "model_id": "1bfb710b42c34a9a917c170098234f15",
       "version_major": 2,
       "version_minor": 0
      },
      "text/plain": [
       "time step:   0%|          | 0/10000 [00:00<?, ?it/s]"
      ]
     },
     "metadata": {},
     "output_type": "display_data"
    },
    {
     "data": {
      "application/vnd.jupyter.widget-view+json": {
       "model_id": "91a9efe2ff0b43e6a9718d70a389416f",
       "version_major": 2,
       "version_minor": 0
      },
      "text/plain": [
       "time step:   0%|          | 0/10000 [00:00<?, ?it/s]"
      ]
     },
     "metadata": {},
     "output_type": "display_data"
    },
    {
     "data": {
      "application/vnd.jupyter.widget-view+json": {
       "model_id": "0f0e902d294840b4a16a190e56e8c30c",
       "version_major": 2,
       "version_minor": 0
      },
      "text/plain": [
       "time step:   0%|          | 0/10000 [00:00<?, ?it/s]"
      ]
     },
     "metadata": {},
     "output_type": "display_data"
    },
    {
     "data": {
      "application/vnd.jupyter.widget-view+json": {
       "model_id": "edb3a7a39ecc4a28994100dda241f191",
       "version_major": 2,
       "version_minor": 0
      },
      "text/plain": [
       "time step:   0%|          | 0/10000 [00:00<?, ?it/s]"
      ]
     },
     "metadata": {},
     "output_type": "display_data"
    },
    {
     "data": {
      "application/vnd.jupyter.widget-view+json": {
       "model_id": "9a36b7e4c4404a039b439f47e6d5bb69",
       "version_major": 2,
       "version_minor": 0
      },
      "text/plain": [
       "time step:   0%|          | 0/10000 [00:00<?, ?it/s]"
      ]
     },
     "metadata": {},
     "output_type": "display_data"
    },
    {
     "data": {
      "application/vnd.jupyter.widget-view+json": {
       "model_id": "15c88f6d6749471c9c1e03943efa09d8",
       "version_major": 2,
       "version_minor": 0
      },
      "text/plain": [
       "time step:   0%|          | 0/10000 [00:00<?, ?it/s]"
      ]
     },
     "metadata": {},
     "output_type": "display_data"
    },
    {
     "data": {
      "application/vnd.jupyter.widget-view+json": {
       "model_id": "f68dfc7e4ce340b5ae1afc2e558ee64c",
       "version_major": 2,
       "version_minor": 0
      },
      "text/plain": [
       "time step:   0%|          | 0/10000 [00:00<?, ?it/s]"
      ]
     },
     "metadata": {},
     "output_type": "display_data"
    },
    {
     "data": {
      "application/vnd.jupyter.widget-view+json": {
       "model_id": "fefe867d6cb9430fba51b4d24a47c158",
       "version_major": 2,
       "version_minor": 0
      },
      "text/plain": [
       "time step:   0%|          | 0/10000 [00:00<?, ?it/s]"
      ]
     },
     "metadata": {},
     "output_type": "display_data"
    },
    {
     "data": {
      "application/vnd.jupyter.widget-view+json": {
       "model_id": "e63a7ec84ca84d158ffb37df8d48f3a6",
       "version_major": 2,
       "version_minor": 0
      },
      "text/plain": [
       "time step:   0%|          | 0/10000 [00:00<?, ?it/s]"
      ]
     },
     "metadata": {},
     "output_type": "display_data"
    },
    {
     "data": {
      "application/vnd.jupyter.widget-view+json": {
       "model_id": "b6282e290bbb4c20a7d00bd5d59e33dc",
       "version_major": 2,
       "version_minor": 0
      },
      "text/plain": [
       "time step:   0%|          | 0/10000 [00:00<?, ?it/s]"
      ]
     },
     "metadata": {},
     "output_type": "display_data"
    },
    {
     "data": {
      "application/vnd.jupyter.widget-view+json": {
       "model_id": "9d913f51b1de4c98ac7ac239e395a716",
       "version_major": 2,
       "version_minor": 0
      },
      "text/plain": [
       "time step:   0%|          | 0/10000 [00:00<?, ?it/s]"
      ]
     },
     "metadata": {},
     "output_type": "display_data"
    },
    {
     "data": {
      "application/vnd.jupyter.widget-view+json": {
       "model_id": "2f085809c4c64735ac5f5dd0e1a99642",
       "version_major": 2,
       "version_minor": 0
      },
      "text/plain": [
       "time step:   0%|          | 0/10000 [00:00<?, ?it/s]"
      ]
     },
     "metadata": {},
     "output_type": "display_data"
    },
    {
     "data": {
      "application/vnd.jupyter.widget-view+json": {
       "model_id": "2a3005aada6548508060721d8f44d908",
       "version_major": 2,
       "version_minor": 0
      },
      "text/plain": [
       "time step:   0%|          | 0/10000 [00:00<?, ?it/s]"
      ]
     },
     "metadata": {},
     "output_type": "display_data"
    },
    {
     "data": {
      "application/vnd.jupyter.widget-view+json": {
       "model_id": "66539ff4f2bf406392684775f2f6fd22",
       "version_major": 2,
       "version_minor": 0
      },
      "text/plain": [
       "time step:   0%|          | 0/10000 [00:00<?, ?it/s]"
      ]
     },
     "metadata": {},
     "output_type": "display_data"
    },
    {
     "data": {
      "application/vnd.jupyter.widget-view+json": {
       "model_id": "f87782a720244497820f6e5b26e2cc01",
       "version_major": 2,
       "version_minor": 0
      },
      "text/plain": [
       "time step:   0%|          | 0/10000 [00:00<?, ?it/s]"
      ]
     },
     "metadata": {},
     "output_type": "display_data"
    },
    {
     "data": {
      "application/vnd.jupyter.widget-view+json": {
       "model_id": "59c23dfed4884836bdfcab08077b3552",
       "version_major": 2,
       "version_minor": 0
      },
      "text/plain": [
       "time step:   0%|          | 0/10000 [00:00<?, ?it/s]"
      ]
     },
     "metadata": {},
     "output_type": "display_data"
    },
    {
     "data": {
      "application/vnd.jupyter.widget-view+json": {
       "model_id": "3c4a0771506d4afaae3d13a8b6853e8a",
       "version_major": 2,
       "version_minor": 0
      },
      "text/plain": [
       "time step:   0%|          | 0/10000 [00:00<?, ?it/s]"
      ]
     },
     "metadata": {},
     "output_type": "display_data"
    },
    {
     "data": {
      "application/vnd.jupyter.widget-view+json": {
       "model_id": "cb558eb02a2a4c55a639caab60228056",
       "version_major": 2,
       "version_minor": 0
      },
      "text/plain": [
       "time step:   0%|          | 0/10000 [00:00<?, ?it/s]"
      ]
     },
     "metadata": {},
     "output_type": "display_data"
    },
    {
     "data": {
      "application/vnd.jupyter.widget-view+json": {
       "model_id": "97a3649f41ac49ada979f28e2098e4cc",
       "version_major": 2,
       "version_minor": 0
      },
      "text/plain": [
       "time step:   0%|          | 0/10000 [00:00<?, ?it/s]"
      ]
     },
     "metadata": {},
     "output_type": "display_data"
    },
    {
     "data": {
      "application/vnd.jupyter.widget-view+json": {
       "model_id": "f15792782bc34a6785ee98a29a8d1827",
       "version_major": 2,
       "version_minor": 0
      },
      "text/plain": [
       "time step:   0%|          | 0/10000 [00:00<?, ?it/s]"
      ]
     },
     "metadata": {},
     "output_type": "display_data"
    },
    {
     "data": {
      "application/vnd.jupyter.widget-view+json": {
       "model_id": "1140fb23dce8481aa4ec63995568fd2b",
       "version_major": 2,
       "version_minor": 0
      },
      "text/plain": [
       "time step:   0%|          | 0/10000 [00:00<?, ?it/s]"
      ]
     },
     "metadata": {},
     "output_type": "display_data"
    },
    {
     "data": {
      "application/vnd.jupyter.widget-view+json": {
       "model_id": "8826021ac6bd4c7bbb556966d5362c78",
       "version_major": 2,
       "version_minor": 0
      },
      "text/plain": [
       "time step:   0%|          | 0/10000 [00:00<?, ?it/s]"
      ]
     },
     "metadata": {},
     "output_type": "display_data"
    },
    {
     "data": {
      "application/vnd.jupyter.widget-view+json": {
       "model_id": "3cf50fbf82f147ff8b8bd57d0fcb482c",
       "version_major": 2,
       "version_minor": 0
      },
      "text/plain": [
       "time step:   0%|          | 0/10000 [00:00<?, ?it/s]"
      ]
     },
     "metadata": {},
     "output_type": "display_data"
    },
    {
     "data": {
      "application/vnd.jupyter.widget-view+json": {
       "model_id": "bc08ddf1e7654bc99db0f01d9867a1d3",
       "version_major": 2,
       "version_minor": 0
      },
      "text/plain": [
       "time step:   0%|          | 0/10000 [00:00<?, ?it/s]"
      ]
     },
     "metadata": {},
     "output_type": "display_data"
    },
    {
     "data": {
      "application/vnd.jupyter.widget-view+json": {
       "model_id": "71b6933144724e3488b4d8c04db0b546",
       "version_major": 2,
       "version_minor": 0
      },
      "text/plain": [
       "time step:   0%|          | 0/10000 [00:00<?, ?it/s]"
      ]
     },
     "metadata": {},
     "output_type": "display_data"
    },
    {
     "data": {
      "application/vnd.jupyter.widget-view+json": {
       "model_id": "0c4de2ae14d04c9388788465d4701dba",
       "version_major": 2,
       "version_minor": 0
      },
      "text/plain": [
       "time step:   0%|          | 0/10000 [00:00<?, ?it/s]"
      ]
     },
     "metadata": {},
     "output_type": "display_data"
    },
    {
     "data": {
      "application/vnd.jupyter.widget-view+json": {
       "model_id": "93544c962ee14ba3abe314813b089e96",
       "version_major": 2,
       "version_minor": 0
      },
      "text/plain": [
       "time step:   0%|          | 0/10000 [00:00<?, ?it/s]"
      ]
     },
     "metadata": {},
     "output_type": "display_data"
    },
    {
     "data": {
      "application/vnd.jupyter.widget-view+json": {
       "model_id": "348ec5ef1f6346cb8f1d0d6edf63a4df",
       "version_major": 2,
       "version_minor": 0
      },
      "text/plain": [
       "time step:   0%|          | 0/10000 [00:00<?, ?it/s]"
      ]
     },
     "metadata": {},
     "output_type": "display_data"
    },
    {
     "data": {
      "application/vnd.jupyter.widget-view+json": {
       "model_id": "6f05e012636e480f8089a0f7c3fd9d2c",
       "version_major": 2,
       "version_minor": 0
      },
      "text/plain": [
       "time step:   0%|          | 0/10000 [00:00<?, ?it/s]"
      ]
     },
     "metadata": {},
     "output_type": "display_data"
    },
    {
     "data": {
      "application/vnd.jupyter.widget-view+json": {
       "model_id": "61db5a438de64fc28b9447b4cad65971",
       "version_major": 2,
       "version_minor": 0
      },
      "text/plain": [
       "time step:   0%|          | 0/10000 [00:00<?, ?it/s]"
      ]
     },
     "metadata": {},
     "output_type": "display_data"
    },
    {
     "data": {
      "application/vnd.jupyter.widget-view+json": {
       "model_id": "b4f8e6003d6542349a570764b8649418",
       "version_major": 2,
       "version_minor": 0
      },
      "text/plain": [
       "time step:   0%|          | 0/10000 [00:00<?, ?it/s]"
      ]
     },
     "metadata": {},
     "output_type": "display_data"
    },
    {
     "data": {
      "application/vnd.jupyter.widget-view+json": {
       "model_id": "f32b03e328244f17bc13e5ceb4a6a27e",
       "version_major": 2,
       "version_minor": 0
      },
      "text/plain": [
       "time step:   0%|          | 0/10000 [00:00<?, ?it/s]"
      ]
     },
     "metadata": {},
     "output_type": "display_data"
    },
    {
     "data": {
      "application/vnd.jupyter.widget-view+json": {
       "model_id": "58458b16d0f04d9a964a2fe88aaf1423",
       "version_major": 2,
       "version_minor": 0
      },
      "text/plain": [
       "time step:   0%|          | 0/10000 [00:00<?, ?it/s]"
      ]
     },
     "metadata": {},
     "output_type": "display_data"
    },
    {
     "data": {
      "application/vnd.jupyter.widget-view+json": {
       "model_id": "1b539fa2f3434c5a9a31edf888e17009",
       "version_major": 2,
       "version_minor": 0
      },
      "text/plain": [
       "time step:   0%|          | 0/10000 [00:00<?, ?it/s]"
      ]
     },
     "metadata": {},
     "output_type": "display_data"
    },
    {
     "data": {
      "application/vnd.jupyter.widget-view+json": {
       "model_id": "84a8ad4fc2d446b396edd1c779f075da",
       "version_major": 2,
       "version_minor": 0
      },
      "text/plain": [
       "time step:   0%|          | 0/10000 [00:00<?, ?it/s]"
      ]
     },
     "metadata": {},
     "output_type": "display_data"
    },
    {
     "data": {
      "application/vnd.jupyter.widget-view+json": {
       "model_id": "a0014197be9744b5a5b37a8b5119c81f",
       "version_major": 2,
       "version_minor": 0
      },
      "text/plain": [
       "time step:   0%|          | 0/10000 [00:00<?, ?it/s]"
      ]
     },
     "metadata": {},
     "output_type": "display_data"
    },
    {
     "data": {
      "application/vnd.jupyter.widget-view+json": {
       "model_id": "dafdff7ca9bc4d6aa74608a7d0d04a89",
       "version_major": 2,
       "version_minor": 0
      },
      "text/plain": [
       "time step:   0%|          | 0/10000 [00:00<?, ?it/s]"
      ]
     },
     "metadata": {},
     "output_type": "display_data"
    },
    {
     "data": {
      "application/vnd.jupyter.widget-view+json": {
       "model_id": "6c61eb4c38da4e65a548d2ffb415def2",
       "version_major": 2,
       "version_minor": 0
      },
      "text/plain": [
       "time step:   0%|          | 0/10000 [00:00<?, ?it/s]"
      ]
     },
     "metadata": {},
     "output_type": "display_data"
    },
    {
     "data": {
      "application/vnd.jupyter.widget-view+json": {
       "model_id": "ed72302ed1aa41e69eec1dab37698cfb",
       "version_major": 2,
       "version_minor": 0
      },
      "text/plain": [
       "time step:   0%|          | 0/10000 [00:00<?, ?it/s]"
      ]
     },
     "metadata": {},
     "output_type": "display_data"
    },
    {
     "data": {
      "application/vnd.jupyter.widget-view+json": {
       "model_id": "c4cc294101ed4cd3833085fecf02a73a",
       "version_major": 2,
       "version_minor": 0
      },
      "text/plain": [
       "time step:   0%|          | 0/10000 [00:00<?, ?it/s]"
      ]
     },
     "metadata": {},
     "output_type": "display_data"
    },
    {
     "data": {
      "application/vnd.jupyter.widget-view+json": {
       "model_id": "2dbad94203814143874497972f871e40",
       "version_major": 2,
       "version_minor": 0
      },
      "text/plain": [
       "time step:   0%|          | 0/10000 [00:00<?, ?it/s]"
      ]
     },
     "metadata": {},
     "output_type": "display_data"
    },
    {
     "data": {
      "application/vnd.jupyter.widget-view+json": {
       "model_id": "af6ba58434274737b00826ed53950053",
       "version_major": 2,
       "version_minor": 0
      },
      "text/plain": [
       "time step:   0%|          | 0/10000 [00:00<?, ?it/s]"
      ]
     },
     "metadata": {},
     "output_type": "display_data"
    },
    {
     "data": {
      "application/vnd.jupyter.widget-view+json": {
       "model_id": "d78e44c419d7408ab3783f62ba899d5d",
       "version_major": 2,
       "version_minor": 0
      },
      "text/plain": [
       "time step:   0%|          | 0/10000 [00:00<?, ?it/s]"
      ]
     },
     "metadata": {},
     "output_type": "display_data"
    },
    {
     "data": {
      "application/vnd.jupyter.widget-view+json": {
       "model_id": "8fa21e8d0bdd4a3eb848be92af0b0067",
       "version_major": 2,
       "version_minor": 0
      },
      "text/plain": [
       "time step:   0%|          | 0/10000 [00:00<?, ?it/s]"
      ]
     },
     "metadata": {},
     "output_type": "display_data"
    },
    {
     "data": {
      "application/vnd.jupyter.widget-view+json": {
       "model_id": "1be5c077bdde4b8591afb1993a2cb05c",
       "version_major": 2,
       "version_minor": 0
      },
      "text/plain": [
       "time step:   0%|          | 0/10000 [00:00<?, ?it/s]"
      ]
     },
     "metadata": {},
     "output_type": "display_data"
    },
    {
     "data": {
      "application/vnd.jupyter.widget-view+json": {
       "model_id": "9110b3d9821e440a810bce5c56b3e2f9",
       "version_major": 2,
       "version_minor": 0
      },
      "text/plain": [
       "time step:   0%|          | 0/10000 [00:00<?, ?it/s]"
      ]
     },
     "metadata": {},
     "output_type": "display_data"
    },
    {
     "data": {
      "application/vnd.jupyter.widget-view+json": {
       "model_id": "7b29f831fe5b4db7b81c667a14dd6b06",
       "version_major": 2,
       "version_minor": 0
      },
      "text/plain": [
       "time step:   0%|          | 0/10000 [00:00<?, ?it/s]"
      ]
     },
     "metadata": {},
     "output_type": "display_data"
    },
    {
     "data": {
      "application/vnd.jupyter.widget-view+json": {
       "model_id": "095a765cac3847a7b4ed16fa05d9ddb7",
       "version_major": 2,
       "version_minor": 0
      },
      "text/plain": [
       "time step:   0%|          | 0/10000 [00:00<?, ?it/s]"
      ]
     },
     "metadata": {},
     "output_type": "display_data"
    },
    {
     "data": {
      "application/vnd.jupyter.widget-view+json": {
       "model_id": "f4a0736be4e5429c877c72a25c1177c6",
       "version_major": 2,
       "version_minor": 0
      },
      "text/plain": [
       "time step:   0%|          | 0/10000 [00:00<?, ?it/s]"
      ]
     },
     "metadata": {},
     "output_type": "display_data"
    },
    {
     "data": {
      "application/vnd.jupyter.widget-view+json": {
       "model_id": "9a9ceeb52b844c3a934c91f85276d26e",
       "version_major": 2,
       "version_minor": 0
      },
      "text/plain": [
       "time step:   0%|          | 0/10000 [00:00<?, ?it/s]"
      ]
     },
     "metadata": {},
     "output_type": "display_data"
    },
    {
     "data": {
      "application/vnd.jupyter.widget-view+json": {
       "model_id": "1d9b974f1fb8441b8ba44e6f091a0e16",
       "version_major": 2,
       "version_minor": 0
      },
      "text/plain": [
       "time step:   0%|          | 0/10000 [00:00<?, ?it/s]"
      ]
     },
     "metadata": {},
     "output_type": "display_data"
    },
    {
     "data": {
      "application/vnd.jupyter.widget-view+json": {
       "model_id": "4e0873e863b6455e838a96a4e09794ad",
       "version_major": 2,
       "version_minor": 0
      },
      "text/plain": [
       "time step:   0%|          | 0/10000 [00:00<?, ?it/s]"
      ]
     },
     "metadata": {},
     "output_type": "display_data"
    },
    {
     "data": {
      "application/vnd.jupyter.widget-view+json": {
       "model_id": "c18d2b9d4c0c44389af06b4183b698bd",
       "version_major": 2,
       "version_minor": 0
      },
      "text/plain": [
       "time step:   0%|          | 0/10000 [00:00<?, ?it/s]"
      ]
     },
     "metadata": {},
     "output_type": "display_data"
    },
    {
     "data": {
      "application/vnd.jupyter.widget-view+json": {
       "model_id": "c0d01098a1e0476e8c908aa7968db554",
       "version_major": 2,
       "version_minor": 0
      },
      "text/plain": [
       "time step:   0%|          | 0/10000 [00:00<?, ?it/s]"
      ]
     },
     "metadata": {},
     "output_type": "display_data"
    },
    {
     "data": {
      "application/vnd.jupyter.widget-view+json": {
       "model_id": "60735065b20c476790a323dd166cfab6",
       "version_major": 2,
       "version_minor": 0
      },
      "text/plain": [
       "time step:   0%|          | 0/10000 [00:00<?, ?it/s]"
      ]
     },
     "metadata": {},
     "output_type": "display_data"
    },
    {
     "data": {
      "application/vnd.jupyter.widget-view+json": {
       "model_id": "9c42ba58db8d4518bd8240a092b592ba",
       "version_major": 2,
       "version_minor": 0
      },
      "text/plain": [
       "time step:   0%|          | 0/10000 [00:00<?, ?it/s]"
      ]
     },
     "metadata": {},
     "output_type": "display_data"
    },
    {
     "data": {
      "application/vnd.jupyter.widget-view+json": {
       "model_id": "3a7247e8f0ad4c89897b26d572f0d415",
       "version_major": 2,
       "version_minor": 0
      },
      "text/plain": [
       "time step:   0%|          | 0/10000 [00:00<?, ?it/s]"
      ]
     },
     "metadata": {},
     "output_type": "display_data"
    },
    {
     "data": {
      "application/vnd.jupyter.widget-view+json": {
       "model_id": "de5b8ec6ab384375a4ba3eb35843018f",
       "version_major": 2,
       "version_minor": 0
      },
      "text/plain": [
       "time step:   0%|          | 0/10000 [00:00<?, ?it/s]"
      ]
     },
     "metadata": {},
     "output_type": "display_data"
    },
    {
     "data": {
      "application/vnd.jupyter.widget-view+json": {
       "model_id": "c3b92c7dd1304775a12a01ca2cd7e300",
       "version_major": 2,
       "version_minor": 0
      },
      "text/plain": [
       "time step:   0%|          | 0/10000 [00:00<?, ?it/s]"
      ]
     },
     "metadata": {},
     "output_type": "display_data"
    },
    {
     "data": {
      "application/vnd.jupyter.widget-view+json": {
       "model_id": "c0d2f1a5002543558da8dcff33163954",
       "version_major": 2,
       "version_minor": 0
      },
      "text/plain": [
       "time step:   0%|          | 0/10000 [00:00<?, ?it/s]"
      ]
     },
     "metadata": {},
     "output_type": "display_data"
    },
    {
     "data": {
      "application/vnd.jupyter.widget-view+json": {
       "model_id": "894f6ea65da74450a00de919a353ff6c",
       "version_major": 2,
       "version_minor": 0
      },
      "text/plain": [
       "time step:   0%|          | 0/10000 [00:00<?, ?it/s]"
      ]
     },
     "metadata": {},
     "output_type": "display_data"
    },
    {
     "data": {
      "application/vnd.jupyter.widget-view+json": {
       "model_id": "80a90ebd071f4f8b8dbe650ff00568d7",
       "version_major": 2,
       "version_minor": 0
      },
      "text/plain": [
       "time step:   0%|          | 0/10000 [00:00<?, ?it/s]"
      ]
     },
     "metadata": {},
     "output_type": "display_data"
    },
    {
     "data": {
      "application/vnd.jupyter.widget-view+json": {
       "model_id": "99a4ba894cd04359acbc97b404276753",
       "version_major": 2,
       "version_minor": 0
      },
      "text/plain": [
       "time step:   0%|          | 0/10000 [00:00<?, ?it/s]"
      ]
     },
     "metadata": {},
     "output_type": "display_data"
    },
    {
     "data": {
      "application/vnd.jupyter.widget-view+json": {
       "model_id": "bac9d94b7c9845d79d20165a8b2233cf",
       "version_major": 2,
       "version_minor": 0
      },
      "text/plain": [
       "time step:   0%|          | 0/10000 [00:00<?, ?it/s]"
      ]
     },
     "metadata": {},
     "output_type": "display_data"
    },
    {
     "data": {
      "application/vnd.jupyter.widget-view+json": {
       "model_id": "fa7907c9960b42989f5640b6887e9d98",
       "version_major": 2,
       "version_minor": 0
      },
      "text/plain": [
       "time step:   0%|          | 0/10000 [00:00<?, ?it/s]"
      ]
     },
     "metadata": {},
     "output_type": "display_data"
    },
    {
     "data": {
      "application/vnd.jupyter.widget-view+json": {
       "model_id": "32480a4b629a46e2a79b1b0fb6716f6b",
       "version_major": 2,
       "version_minor": 0
      },
      "text/plain": [
       "time step:   0%|          | 0/10000 [00:00<?, ?it/s]"
      ]
     },
     "metadata": {},
     "output_type": "display_data"
    },
    {
     "data": {
      "application/vnd.jupyter.widget-view+json": {
       "model_id": "99cce93b165847ddb58fef1b16042b41",
       "version_major": 2,
       "version_minor": 0
      },
      "text/plain": [
       "time step:   0%|          | 0/10000 [00:00<?, ?it/s]"
      ]
     },
     "metadata": {},
     "output_type": "display_data"
    },
    {
     "data": {
      "application/vnd.jupyter.widget-view+json": {
       "model_id": "28e61292603a432fa241e7c9b393203f",
       "version_major": 2,
       "version_minor": 0
      },
      "text/plain": [
       "time step:   0%|          | 0/10000 [00:00<?, ?it/s]"
      ]
     },
     "metadata": {},
     "output_type": "display_data"
    },
    {
     "data": {
      "application/vnd.jupyter.widget-view+json": {
       "model_id": "628f201b92e24923aceba6e38f12f230",
       "version_major": 2,
       "version_minor": 0
      },
      "text/plain": [
       "time step:   0%|          | 0/10000 [00:00<?, ?it/s]"
      ]
     },
     "metadata": {},
     "output_type": "display_data"
    },
    {
     "data": {
      "application/vnd.jupyter.widget-view+json": {
       "model_id": "1c729fed6019412eaa9f66e7aa1aad75",
       "version_major": 2,
       "version_minor": 0
      },
      "text/plain": [
       "time step:   0%|          | 0/10000 [00:00<?, ?it/s]"
      ]
     },
     "metadata": {},
     "output_type": "display_data"
    },
    {
     "data": {
      "application/vnd.jupyter.widget-view+json": {
       "model_id": "e74e42c1555943ffb8c763e7a1890d45",
       "version_major": 2,
       "version_minor": 0
      },
      "text/plain": [
       "time step:   0%|          | 0/10000 [00:00<?, ?it/s]"
      ]
     },
     "metadata": {},
     "output_type": "display_data"
    },
    {
     "data": {
      "application/vnd.jupyter.widget-view+json": {
       "model_id": "ba6a8f621c134748af800a4dd872128d",
       "version_major": 2,
       "version_minor": 0
      },
      "text/plain": [
       "time step:   0%|          | 0/10000 [00:00<?, ?it/s]"
      ]
     },
     "metadata": {},
     "output_type": "display_data"
    },
    {
     "data": {
      "application/vnd.jupyter.widget-view+json": {
       "model_id": "f1639b4be83649f88a2ee8fae51fcf84",
       "version_major": 2,
       "version_minor": 0
      },
      "text/plain": [
       "time step:   0%|          | 0/10000 [00:00<?, ?it/s]"
      ]
     },
     "metadata": {},
     "output_type": "display_data"
    },
    {
     "data": {
      "application/vnd.jupyter.widget-view+json": {
       "model_id": "db4b220c47244f26b36066242beb62e7",
       "version_major": 2,
       "version_minor": 0
      },
      "text/plain": [
       "time step:   0%|          | 0/10000 [00:00<?, ?it/s]"
      ]
     },
     "metadata": {},
     "output_type": "display_data"
    },
    {
     "data": {
      "application/vnd.jupyter.widget-view+json": {
       "model_id": "1e965d659b75454492fb2d92dd57ef4c",
       "version_major": 2,
       "version_minor": 0
      },
      "text/plain": [
       "time step:   0%|          | 0/10000 [00:00<?, ?it/s]"
      ]
     },
     "metadata": {},
     "output_type": "display_data"
    },
    {
     "data": {
      "application/vnd.jupyter.widget-view+json": {
       "model_id": "91061662183945d5915d022c80f06167",
       "version_major": 2,
       "version_minor": 0
      },
      "text/plain": [
       "time step:   0%|          | 0/10000 [00:00<?, ?it/s]"
      ]
     },
     "metadata": {},
     "output_type": "display_data"
    },
    {
     "data": {
      "application/vnd.jupyter.widget-view+json": {
       "model_id": "cb58136cd7904c06909db676ed6e34a7",
       "version_major": 2,
       "version_minor": 0
      },
      "text/plain": [
       "time step:   0%|          | 0/10000 [00:00<?, ?it/s]"
      ]
     },
     "metadata": {},
     "output_type": "display_data"
    },
    {
     "data": {
      "application/vnd.jupyter.widget-view+json": {
       "model_id": "7be03c8391fc41ac8db42dacf6077e67",
       "version_major": 2,
       "version_minor": 0
      },
      "text/plain": [
       "time step:   0%|          | 0/10000 [00:00<?, ?it/s]"
      ]
     },
     "metadata": {},
     "output_type": "display_data"
    },
    {
     "data": {
      "application/vnd.jupyter.widget-view+json": {
       "model_id": "078db62119174440aa7b90ce3e161794",
       "version_major": 2,
       "version_minor": 0
      },
      "text/plain": [
       "time step:   0%|          | 0/10000 [00:00<?, ?it/s]"
      ]
     },
     "metadata": {},
     "output_type": "display_data"
    },
    {
     "data": {
      "application/vnd.jupyter.widget-view+json": {
       "model_id": "35255f96cf9e4900a416f21bb94966d1",
       "version_major": 2,
       "version_minor": 0
      },
      "text/plain": [
       "time step:   0%|          | 0/10000 [00:00<?, ?it/s]"
      ]
     },
     "metadata": {},
     "output_type": "display_data"
    },
    {
     "data": {
      "application/vnd.jupyter.widget-view+json": {
       "model_id": "5039b82fb26e4ddbb87f0653f14d4b87",
       "version_major": 2,
       "version_minor": 0
      },
      "text/plain": [
       "time step:   0%|          | 0/10000 [00:00<?, ?it/s]"
      ]
     },
     "metadata": {},
     "output_type": "display_data"
    },
    {
     "data": {
      "application/vnd.jupyter.widget-view+json": {
       "model_id": "1a69480b0b004d16ab0ae1f68f1c2f12",
       "version_major": 2,
       "version_minor": 0
      },
      "text/plain": [
       "time step:   0%|          | 0/10000 [00:00<?, ?it/s]"
      ]
     },
     "metadata": {},
     "output_type": "display_data"
    },
    {
     "data": {
      "application/vnd.jupyter.widget-view+json": {
       "model_id": "c4009398c5524ebca30642a70e46374e",
       "version_major": 2,
       "version_minor": 0
      },
      "text/plain": [
       "time step:   0%|          | 0/10000 [00:00<?, ?it/s]"
      ]
     },
     "metadata": {},
     "output_type": "display_data"
    },
    {
     "data": {
      "application/vnd.jupyter.widget-view+json": {
       "model_id": "2212530315a84fdc9d5fce89309ebe29",
       "version_major": 2,
       "version_minor": 0
      },
      "text/plain": [
       "time step:   0%|          | 0/10000 [00:00<?, ?it/s]"
      ]
     },
     "metadata": {},
     "output_type": "display_data"
    },
    {
     "data": {
      "application/vnd.jupyter.widget-view+json": {
       "model_id": "caee0504cdda43f2adcb011321cb4a69",
       "version_major": 2,
       "version_minor": 0
      },
      "text/plain": [
       "time step:   0%|          | 0/10000 [00:00<?, ?it/s]"
      ]
     },
     "metadata": {},
     "output_type": "display_data"
    },
    {
     "data": {
      "application/vnd.jupyter.widget-view+json": {
       "model_id": "b7e1102fece6406193d72f3538c1dbe7",
       "version_major": 2,
       "version_minor": 0
      },
      "text/plain": [
       "time step:   0%|          | 0/10000 [00:00<?, ?it/s]"
      ]
     },
     "metadata": {},
     "output_type": "display_data"
    },
    {
     "data": {
      "application/vnd.jupyter.widget-view+json": {
       "model_id": "d79dedca1f074d1d8d364d2c1431f2e0",
       "version_major": 2,
       "version_minor": 0
      },
      "text/plain": [
       "time step:   0%|          | 0/10000 [00:00<?, ?it/s]"
      ]
     },
     "metadata": {},
     "output_type": "display_data"
    },
    {
     "data": {
      "application/vnd.jupyter.widget-view+json": {
       "model_id": "64db12898794402c9db1c13499f5dcfa",
       "version_major": 2,
       "version_minor": 0
      },
      "text/plain": [
       "time step:   0%|          | 0/10000 [00:00<?, ?it/s]"
      ]
     },
     "metadata": {},
     "output_type": "display_data"
    },
    {
     "data": {
      "application/vnd.jupyter.widget-view+json": {
       "model_id": "6203832792964573aab20ea35ffbf410",
       "version_major": 2,
       "version_minor": 0
      },
      "text/plain": [
       "time step:   0%|          | 0/10000 [00:00<?, ?it/s]"
      ]
     },
     "metadata": {},
     "output_type": "display_data"
    },
    {
     "data": {
      "application/vnd.jupyter.widget-view+json": {
       "model_id": "b21475e42c924a3d803f4f62464d0470",
       "version_major": 2,
       "version_minor": 0
      },
      "text/plain": [
       "time step:   0%|          | 0/10000 [00:00<?, ?it/s]"
      ]
     },
     "metadata": {},
     "output_type": "display_data"
    },
    {
     "data": {
      "application/vnd.jupyter.widget-view+json": {
       "model_id": "568d37b612c6452190651e4af33c32d0",
       "version_major": 2,
       "version_minor": 0
      },
      "text/plain": [
       "time step:   0%|          | 0/10000 [00:00<?, ?it/s]"
      ]
     },
     "metadata": {},
     "output_type": "display_data"
    },
    {
     "data": {
      "application/vnd.jupyter.widget-view+json": {
       "model_id": "db9e18c95b68454da460989e690c16d7",
       "version_major": 2,
       "version_minor": 0
      },
      "text/plain": [
       "time step:   0%|          | 0/10000 [00:00<?, ?it/s]"
      ]
     },
     "metadata": {},
     "output_type": "display_data"
    },
    {
     "data": {
      "application/vnd.jupyter.widget-view+json": {
       "model_id": "15f5502dfc0e4368b9ae2c22c5f39ff0",
       "version_major": 2,
       "version_minor": 0
      },
      "text/plain": [
       "time step:   0%|          | 0/10000 [00:00<?, ?it/s]"
      ]
     },
     "metadata": {},
     "output_type": "display_data"
    },
    {
     "data": {
      "application/vnd.jupyter.widget-view+json": {
       "model_id": "baa0ee6a890e4835996bcb4b3fb20ab5",
       "version_major": 2,
       "version_minor": 0
      },
      "text/plain": [
       "time step:   0%|          | 0/10000 [00:00<?, ?it/s]"
      ]
     },
     "metadata": {},
     "output_type": "display_data"
    },
    {
     "data": {
      "application/vnd.jupyter.widget-view+json": {
       "model_id": "f70a58e9842e4619bf42656c8485a6ba",
       "version_major": 2,
       "version_minor": 0
      },
      "text/plain": [
       "time step:   0%|          | 0/10000 [00:00<?, ?it/s]"
      ]
     },
     "metadata": {},
     "output_type": "display_data"
    },
    {
     "data": {
      "application/vnd.jupyter.widget-view+json": {
       "model_id": "5dae481468d645608fc0ba44bdc7028a",
       "version_major": 2,
       "version_minor": 0
      },
      "text/plain": [
       "time step:   0%|          | 0/10000 [00:00<?, ?it/s]"
      ]
     },
     "metadata": {},
     "output_type": "display_data"
    },
    {
     "data": {
      "application/vnd.jupyter.widget-view+json": {
       "model_id": "e06be7eef70f4c0d9c2d1b78ecf3bbde",
       "version_major": 2,
       "version_minor": 0
      },
      "text/plain": [
       "time step:   0%|          | 0/10000 [00:00<?, ?it/s]"
      ]
     },
     "metadata": {},
     "output_type": "display_data"
    },
    {
     "data": {
      "application/vnd.jupyter.widget-view+json": {
       "model_id": "07dccf8d90d1466b84e295ff866c86e3",
       "version_major": 2,
       "version_minor": 0
      },
      "text/plain": [
       "time step:   0%|          | 0/10000 [00:00<?, ?it/s]"
      ]
     },
     "metadata": {},
     "output_type": "display_data"
    },
    {
     "data": {
      "application/vnd.jupyter.widget-view+json": {
       "model_id": "55f6cc3b7d2d4ec4a74f01ff064e3c7d",
       "version_major": 2,
       "version_minor": 0
      },
      "text/plain": [
       "time step:   0%|          | 0/10000 [00:00<?, ?it/s]"
      ]
     },
     "metadata": {},
     "output_type": "display_data"
    },
    {
     "data": {
      "application/vnd.jupyter.widget-view+json": {
       "model_id": "27d7877024aa4877835da027f81f58e5",
       "version_major": 2,
       "version_minor": 0
      },
      "text/plain": [
       "time step:   0%|          | 0/10000 [00:00<?, ?it/s]"
      ]
     },
     "metadata": {},
     "output_type": "display_data"
    },
    {
     "data": {
      "application/vnd.jupyter.widget-view+json": {
       "model_id": "9ecd3f09a0b147f99525b1153f694767",
       "version_major": 2,
       "version_minor": 0
      },
      "text/plain": [
       "time step:   0%|          | 0/10000 [00:00<?, ?it/s]"
      ]
     },
     "metadata": {},
     "output_type": "display_data"
    },
    {
     "data": {
      "application/vnd.jupyter.widget-view+json": {
       "model_id": "c7e71f5b3f5a499ca3e4cfd8d014b522",
       "version_major": 2,
       "version_minor": 0
      },
      "text/plain": [
       "time step:   0%|          | 0/10000 [00:00<?, ?it/s]"
      ]
     },
     "metadata": {},
     "output_type": "display_data"
    },
    {
     "data": {
      "application/vnd.jupyter.widget-view+json": {
       "model_id": "71d0ed4bbbdd4c17a84710b09cd1faf6",
       "version_major": 2,
       "version_minor": 0
      },
      "text/plain": [
       "time step:   0%|          | 0/10000 [00:00<?, ?it/s]"
      ]
     },
     "metadata": {},
     "output_type": "display_data"
    },
    {
     "data": {
      "application/vnd.jupyter.widget-view+json": {
       "model_id": "38c0a0e962b842dfa1788c00f16e11ce",
       "version_major": 2,
       "version_minor": 0
      },
      "text/plain": [
       "time step:   0%|          | 0/10000 [00:00<?, ?it/s]"
      ]
     },
     "metadata": {},
     "output_type": "display_data"
    },
    {
     "data": {
      "application/vnd.jupyter.widget-view+json": {
       "model_id": "a1c76c9e59d14e6db28f741bf90dc533",
       "version_major": 2,
       "version_minor": 0
      },
      "text/plain": [
       "time step:   0%|          | 0/10000 [00:00<?, ?it/s]"
      ]
     },
     "metadata": {},
     "output_type": "display_data"
    },
    {
     "data": {
      "application/vnd.jupyter.widget-view+json": {
       "model_id": "a828890b5b544c8c9cfaebfda9866099",
       "version_major": 2,
       "version_minor": 0
      },
      "text/plain": [
       "time step:   0%|          | 0/10000 [00:00<?, ?it/s]"
      ]
     },
     "metadata": {},
     "output_type": "display_data"
    },
    {
     "data": {
      "application/vnd.jupyter.widget-view+json": {
       "model_id": "e5eb7f90298e4caea7e7596fcdbeaf88",
       "version_major": 2,
       "version_minor": 0
      },
      "text/plain": [
       "time step:   0%|          | 0/10000 [00:00<?, ?it/s]"
      ]
     },
     "metadata": {},
     "output_type": "display_data"
    },
    {
     "data": {
      "application/vnd.jupyter.widget-view+json": {
       "model_id": "cea100a807614fd0affcdbcd3d68e8e3",
       "version_major": 2,
       "version_minor": 0
      },
      "text/plain": [
       "time step:   0%|          | 0/10000 [00:00<?, ?it/s]"
      ]
     },
     "metadata": {},
     "output_type": "display_data"
    },
    {
     "data": {
      "application/vnd.jupyter.widget-view+json": {
       "model_id": "33e0599db3174b9c9d325df5a8010287",
       "version_major": 2,
       "version_minor": 0
      },
      "text/plain": [
       "time step:   0%|          | 0/10000 [00:00<?, ?it/s]"
      ]
     },
     "metadata": {},
     "output_type": "display_data"
    },
    {
     "data": {
      "application/vnd.jupyter.widget-view+json": {
       "model_id": "8f8f317a2fd84c3796a584a71383259b",
       "version_major": 2,
       "version_minor": 0
      },
      "text/plain": [
       "time step:   0%|          | 0/10000 [00:00<?, ?it/s]"
      ]
     },
     "metadata": {},
     "output_type": "display_data"
    },
    {
     "data": {
      "application/vnd.jupyter.widget-view+json": {
       "model_id": "dee0bdca9ccd41d6b6efb12ebcfce8cb",
       "version_major": 2,
       "version_minor": 0
      },
      "text/plain": [
       "time step:   0%|          | 0/10000 [00:00<?, ?it/s]"
      ]
     },
     "metadata": {},
     "output_type": "display_data"
    },
    {
     "data": {
      "application/vnd.jupyter.widget-view+json": {
       "model_id": "60039c4074d7444581718cb908f1bea6",
       "version_major": 2,
       "version_minor": 0
      },
      "text/plain": [
       "time step:   0%|          | 0/10000 [00:00<?, ?it/s]"
      ]
     },
     "metadata": {},
     "output_type": "display_data"
    },
    {
     "data": {
      "application/vnd.jupyter.widget-view+json": {
       "model_id": "a3991544271e4a5c878b07f782fc4b1b",
       "version_major": 2,
       "version_minor": 0
      },
      "text/plain": [
       "time step:   0%|          | 0/10000 [00:00<?, ?it/s]"
      ]
     },
     "metadata": {},
     "output_type": "display_data"
    },
    {
     "data": {
      "application/vnd.jupyter.widget-view+json": {
       "model_id": "4b4a6727b6b44848a75a963c279f1d57",
       "version_major": 2,
       "version_minor": 0
      },
      "text/plain": [
       "time step:   0%|          | 0/10000 [00:00<?, ?it/s]"
      ]
     },
     "metadata": {},
     "output_type": "display_data"
    },
    {
     "data": {
      "application/vnd.jupyter.widget-view+json": {
       "model_id": "1ec0a991f28e4af2aa6d7a9e800b14f9",
       "version_major": 2,
       "version_minor": 0
      },
      "text/plain": [
       "time step:   0%|          | 0/10000 [00:00<?, ?it/s]"
      ]
     },
     "metadata": {},
     "output_type": "display_data"
    },
    {
     "data": {
      "application/vnd.jupyter.widget-view+json": {
       "model_id": "3039761c7742458f80c345f6e31158f0",
       "version_major": 2,
       "version_minor": 0
      },
      "text/plain": [
       "time step:   0%|          | 0/10000 [00:00<?, ?it/s]"
      ]
     },
     "metadata": {},
     "output_type": "display_data"
    },
    {
     "data": {
      "application/vnd.jupyter.widget-view+json": {
       "model_id": "a035b348c3b24708b6989e37e4d26283",
       "version_major": 2,
       "version_minor": 0
      },
      "text/plain": [
       "time step:   0%|          | 0/10000 [00:00<?, ?it/s]"
      ]
     },
     "metadata": {},
     "output_type": "display_data"
    },
    {
     "data": {
      "application/vnd.jupyter.widget-view+json": {
       "model_id": "5e8a2003c58c477da71fa9d580d3916c",
       "version_major": 2,
       "version_minor": 0
      },
      "text/plain": [
       "time step:   0%|          | 0/10000 [00:00<?, ?it/s]"
      ]
     },
     "metadata": {},
     "output_type": "display_data"
    },
    {
     "data": {
      "application/vnd.jupyter.widget-view+json": {
       "model_id": "cf5e5bd431d148a3923956ed47b5b5a1",
       "version_major": 2,
       "version_minor": 0
      },
      "text/plain": [
       "time step:   0%|          | 0/10000 [00:00<?, ?it/s]"
      ]
     },
     "metadata": {},
     "output_type": "display_data"
    },
    {
     "data": {
      "application/vnd.jupyter.widget-view+json": {
       "model_id": "024ef13f68d5409eb74751e9da0654bb",
       "version_major": 2,
       "version_minor": 0
      },
      "text/plain": [
       "time step:   0%|          | 0/10000 [00:00<?, ?it/s]"
      ]
     },
     "metadata": {},
     "output_type": "display_data"
    },
    {
     "data": {
      "application/vnd.jupyter.widget-view+json": {
       "model_id": "3b162400668f409a816c5bd75a23cdec",
       "version_major": 2,
       "version_minor": 0
      },
      "text/plain": [
       "time step:   0%|          | 0/10000 [00:00<?, ?it/s]"
      ]
     },
     "metadata": {},
     "output_type": "display_data"
    },
    {
     "data": {
      "application/vnd.jupyter.widget-view+json": {
       "model_id": "15c9082cbfc14183a087cd2e1ed979ff",
       "version_major": 2,
       "version_minor": 0
      },
      "text/plain": [
       "time step:   0%|          | 0/10000 [00:00<?, ?it/s]"
      ]
     },
     "metadata": {},
     "output_type": "display_data"
    },
    {
     "data": {
      "application/vnd.jupyter.widget-view+json": {
       "model_id": "87793317562c4ace9497e998ed968fb7",
       "version_major": 2,
       "version_minor": 0
      },
      "text/plain": [
       "time step:   0%|          | 0/10000 [00:00<?, ?it/s]"
      ]
     },
     "metadata": {},
     "output_type": "display_data"
    },
    {
     "data": {
      "application/vnd.jupyter.widget-view+json": {
       "model_id": "45851f8d35cd40c584a4a69a82d7463a",
       "version_major": 2,
       "version_minor": 0
      },
      "text/plain": [
       "time step:   0%|          | 0/10000 [00:00<?, ?it/s]"
      ]
     },
     "metadata": {},
     "output_type": "display_data"
    },
    {
     "data": {
      "application/vnd.jupyter.widget-view+json": {
       "model_id": "f07288ff58f44950b4b4a997ef9043d6",
       "version_major": 2,
       "version_minor": 0
      },
      "text/plain": [
       "time step:   0%|          | 0/10000 [00:00<?, ?it/s]"
      ]
     },
     "metadata": {},
     "output_type": "display_data"
    },
    {
     "data": {
      "application/vnd.jupyter.widget-view+json": {
       "model_id": "5a033e119e4644bc8082f07e2b698e07",
       "version_major": 2,
       "version_minor": 0
      },
      "text/plain": [
       "time step:   0%|          | 0/10000 [00:00<?, ?it/s]"
      ]
     },
     "metadata": {},
     "output_type": "display_data"
    },
    {
     "data": {
      "application/vnd.jupyter.widget-view+json": {
       "model_id": "6ee8b5ad63cc4fe68876f0ea2e4964b8",
       "version_major": 2,
       "version_minor": 0
      },
      "text/plain": [
       "time step:   0%|          | 0/10000 [00:00<?, ?it/s]"
      ]
     },
     "metadata": {},
     "output_type": "display_data"
    },
    {
     "data": {
      "application/vnd.jupyter.widget-view+json": {
       "model_id": "e8d625aafa73465e8acb4b079ea0f079",
       "version_major": 2,
       "version_minor": 0
      },
      "text/plain": [
       "time step:   0%|          | 0/10000 [00:00<?, ?it/s]"
      ]
     },
     "metadata": {},
     "output_type": "display_data"
    },
    {
     "data": {
      "application/vnd.jupyter.widget-view+json": {
       "model_id": "91fe7ded8924434b8a4ede074fbdea19",
       "version_major": 2,
       "version_minor": 0
      },
      "text/plain": [
       "time step:   0%|          | 0/10000 [00:00<?, ?it/s]"
      ]
     },
     "metadata": {},
     "output_type": "display_data"
    },
    {
     "data": {
      "application/vnd.jupyter.widget-view+json": {
       "model_id": "0ac3c964058a474080a62859882ac789",
       "version_major": 2,
       "version_minor": 0
      },
      "text/plain": [
       "time step:   0%|          | 0/10000 [00:00<?, ?it/s]"
      ]
     },
     "metadata": {},
     "output_type": "display_data"
    },
    {
     "data": {
      "application/vnd.jupyter.widget-view+json": {
       "model_id": "25c1dead15784d25b15f3d88a52008b1",
       "version_major": 2,
       "version_minor": 0
      },
      "text/plain": [
       "time step:   0%|          | 0/10000 [00:00<?, ?it/s]"
      ]
     },
     "metadata": {},
     "output_type": "display_data"
    },
    {
     "data": {
      "application/vnd.jupyter.widget-view+json": {
       "model_id": "bcf3190db9ec48c98b0e5ac2b18ec579",
       "version_major": 2,
       "version_minor": 0
      },
      "text/plain": [
       "time step:   0%|          | 0/10000 [00:00<?, ?it/s]"
      ]
     },
     "metadata": {},
     "output_type": "display_data"
    },
    {
     "data": {
      "application/vnd.jupyter.widget-view+json": {
       "model_id": "e1690089ca984d32835ff651c9596413",
       "version_major": 2,
       "version_minor": 0
      },
      "text/plain": [
       "time step:   0%|          | 0/10000 [00:00<?, ?it/s]"
      ]
     },
     "metadata": {},
     "output_type": "display_data"
    },
    {
     "data": {
      "application/vnd.jupyter.widget-view+json": {
       "model_id": "b6b91c1143ee4df183e6add43bab8315",
       "version_major": 2,
       "version_minor": 0
      },
      "text/plain": [
       "time step:   0%|          | 0/10000 [00:00<?, ?it/s]"
      ]
     },
     "metadata": {},
     "output_type": "display_data"
    },
    {
     "data": {
      "application/vnd.jupyter.widget-view+json": {
       "model_id": "9ee63717746144278ace4352929270a1",
       "version_major": 2,
       "version_minor": 0
      },
      "text/plain": [
       "time step:   0%|          | 0/10000 [00:00<?, ?it/s]"
      ]
     },
     "metadata": {},
     "output_type": "display_data"
    },
    {
     "data": {
      "application/vnd.jupyter.widget-view+json": {
       "model_id": "182dc28b1a1842dc820b9bc493ccaa36",
       "version_major": 2,
       "version_minor": 0
      },
      "text/plain": [
       "time step:   0%|          | 0/10000 [00:00<?, ?it/s]"
      ]
     },
     "metadata": {},
     "output_type": "display_data"
    },
    {
     "data": {
      "application/vnd.jupyter.widget-view+json": {
       "model_id": "62d89a90b5744078a75f759639c742db",
       "version_major": 2,
       "version_minor": 0
      },
      "text/plain": [
       "time step:   0%|          | 0/10000 [00:00<?, ?it/s]"
      ]
     },
     "metadata": {},
     "output_type": "display_data"
    },
    {
     "data": {
      "application/vnd.jupyter.widget-view+json": {
       "model_id": "63dfe10781a3405b971a38a114aaa071",
       "version_major": 2,
       "version_minor": 0
      },
      "text/plain": [
       "time step:   0%|          | 0/10000 [00:00<?, ?it/s]"
      ]
     },
     "metadata": {},
     "output_type": "display_data"
    },
    {
     "data": {
      "application/vnd.jupyter.widget-view+json": {
       "model_id": "701dbdc64a474557ae678c427902b8f1",
       "version_major": 2,
       "version_minor": 0
      },
      "text/plain": [
       "time step:   0%|          | 0/10000 [00:00<?, ?it/s]"
      ]
     },
     "metadata": {},
     "output_type": "display_data"
    },
    {
     "data": {
      "application/vnd.jupyter.widget-view+json": {
       "model_id": "f3b13984d04241288b20fee8b13c87df",
       "version_major": 2,
       "version_minor": 0
      },
      "text/plain": [
       "time step:   0%|          | 0/10000 [00:00<?, ?it/s]"
      ]
     },
     "metadata": {},
     "output_type": "display_data"
    },
    {
     "data": {
      "application/vnd.jupyter.widget-view+json": {
       "model_id": "14d326405dae461680b929808bdfe6b6",
       "version_major": 2,
       "version_minor": 0
      },
      "text/plain": [
       "time step:   0%|          | 0/10000 [00:00<?, ?it/s]"
      ]
     },
     "metadata": {},
     "output_type": "display_data"
    },
    {
     "data": {
      "application/vnd.jupyter.widget-view+json": {
       "model_id": "2eaae6ee1a8d417fb13d819ba7d9c609",
       "version_major": 2,
       "version_minor": 0
      },
      "text/plain": [
       "time step:   0%|          | 0/10000 [00:00<?, ?it/s]"
      ]
     },
     "metadata": {},
     "output_type": "display_data"
    },
    {
     "data": {
      "application/vnd.jupyter.widget-view+json": {
       "model_id": "8f5d2da8d89d4e01ac9c78c29d1234eb",
       "version_major": 2,
       "version_minor": 0
      },
      "text/plain": [
       "time step:   0%|          | 0/10000 [00:00<?, ?it/s]"
      ]
     },
     "metadata": {},
     "output_type": "display_data"
    },
    {
     "data": {
      "application/vnd.jupyter.widget-view+json": {
       "model_id": "da4a7b0ed341412fa7520b92d76dbb53",
       "version_major": 2,
       "version_minor": 0
      },
      "text/plain": [
       "time step:   0%|          | 0/10000 [00:00<?, ?it/s]"
      ]
     },
     "metadata": {},
     "output_type": "display_data"
    },
    {
     "data": {
      "application/vnd.jupyter.widget-view+json": {
       "model_id": "0ac17f6336374ca88fa45f53eee3c617",
       "version_major": 2,
       "version_minor": 0
      },
      "text/plain": [
       "time step:   0%|          | 0/10000 [00:00<?, ?it/s]"
      ]
     },
     "metadata": {},
     "output_type": "display_data"
    },
    {
     "data": {
      "application/vnd.jupyter.widget-view+json": {
       "model_id": "2be488b112db4ca8a7b473a4b85338b4",
       "version_major": 2,
       "version_minor": 0
      },
      "text/plain": [
       "time step:   0%|          | 0/10000 [00:00<?, ?it/s]"
      ]
     },
     "metadata": {},
     "output_type": "display_data"
    },
    {
     "data": {
      "application/vnd.jupyter.widget-view+json": {
       "model_id": "f553bcc8bffc40fdbf52bf6333b54900",
       "version_major": 2,
       "version_minor": 0
      },
      "text/plain": [
       "time step:   0%|          | 0/10000 [00:00<?, ?it/s]"
      ]
     },
     "metadata": {},
     "output_type": "display_data"
    },
    {
     "data": {
      "application/vnd.jupyter.widget-view+json": {
       "model_id": "58b1a28ee5ac45debce85ea0de045ad2",
       "version_major": 2,
       "version_minor": 0
      },
      "text/plain": [
       "time step:   0%|          | 0/10000 [00:00<?, ?it/s]"
      ]
     },
     "metadata": {},
     "output_type": "display_data"
    },
    {
     "data": {
      "application/vnd.jupyter.widget-view+json": {
       "model_id": "95711e50c5b446bca00865f81aa42d46",
       "version_major": 2,
       "version_minor": 0
      },
      "text/plain": [
       "time step:   0%|          | 0/10000 [00:00<?, ?it/s]"
      ]
     },
     "metadata": {},
     "output_type": "display_data"
    },
    {
     "data": {
      "application/vnd.jupyter.widget-view+json": {
       "model_id": "93dc6c49fbf249f383b3fe287121fd44",
       "version_major": 2,
       "version_minor": 0
      },
      "text/plain": [
       "time step:   0%|          | 0/10000 [00:00<?, ?it/s]"
      ]
     },
     "metadata": {},
     "output_type": "display_data"
    },
    {
     "data": {
      "application/vnd.jupyter.widget-view+json": {
       "model_id": "db905d439d9c4da98fed4614a8f3e795",
       "version_major": 2,
       "version_minor": 0
      },
      "text/plain": [
       "time step:   0%|          | 0/10000 [00:00<?, ?it/s]"
      ]
     },
     "metadata": {},
     "output_type": "display_data"
    },
    {
     "data": {
      "application/vnd.jupyter.widget-view+json": {
       "model_id": "72d23fb0ca9341bf9bdf14ef83a9da02",
       "version_major": 2,
       "version_minor": 0
      },
      "text/plain": [
       "time step:   0%|          | 0/10000 [00:00<?, ?it/s]"
      ]
     },
     "metadata": {},
     "output_type": "display_data"
    },
    {
     "data": {
      "application/vnd.jupyter.widget-view+json": {
       "model_id": "a9345b8a7899495f844fffdcdb4f5768",
       "version_major": 2,
       "version_minor": 0
      },
      "text/plain": [
       "time step:   0%|          | 0/10000 [00:00<?, ?it/s]"
      ]
     },
     "metadata": {},
     "output_type": "display_data"
    },
    {
     "data": {
      "application/vnd.jupyter.widget-view+json": {
       "model_id": "cbafcc0da6a84c3b9ef1eb57a89c6c8d",
       "version_major": 2,
       "version_minor": 0
      },
      "text/plain": [
       "time step:   0%|          | 0/10000 [00:00<?, ?it/s]"
      ]
     },
     "metadata": {},
     "output_type": "display_data"
    },
    {
     "data": {
      "application/vnd.jupyter.widget-view+json": {
       "model_id": "db928e271a594972886a31da2555aeaf",
       "version_major": 2,
       "version_minor": 0
      },
      "text/plain": [
       "time step:   0%|          | 0/10000 [00:00<?, ?it/s]"
      ]
     },
     "metadata": {},
     "output_type": "display_data"
    },
    {
     "data": {
      "application/vnd.jupyter.widget-view+json": {
       "model_id": "17f99ab34d334a9e936636b095b74632",
       "version_major": 2,
       "version_minor": 0
      },
      "text/plain": [
       "time step:   0%|          | 0/10000 [00:00<?, ?it/s]"
      ]
     },
     "metadata": {},
     "output_type": "display_data"
    },
    {
     "data": {
      "application/vnd.jupyter.widget-view+json": {
       "model_id": "c53b8124af014e609db731137b3c9ac9",
       "version_major": 2,
       "version_minor": 0
      },
      "text/plain": [
       "time step:   0%|          | 0/10000 [00:00<?, ?it/s]"
      ]
     },
     "metadata": {},
     "output_type": "display_data"
    },
    {
     "data": {
      "application/vnd.jupyter.widget-view+json": {
       "model_id": "96e7d8ffe78e42d1bff3bf7843d45c99",
       "version_major": 2,
       "version_minor": 0
      },
      "text/plain": [
       "time step:   0%|          | 0/10000 [00:00<?, ?it/s]"
      ]
     },
     "metadata": {},
     "output_type": "display_data"
    },
    {
     "data": {
      "application/vnd.jupyter.widget-view+json": {
       "model_id": "145f389bf1124a18a95f3363978d9e1a",
       "version_major": 2,
       "version_minor": 0
      },
      "text/plain": [
       "time step:   0%|          | 0/10000 [00:00<?, ?it/s]"
      ]
     },
     "metadata": {},
     "output_type": "display_data"
    },
    {
     "data": {
      "application/vnd.jupyter.widget-view+json": {
       "model_id": "05de08482fdb4c4695d98cfafed6441b",
       "version_major": 2,
       "version_minor": 0
      },
      "text/plain": [
       "time step:   0%|          | 0/10000 [00:00<?, ?it/s]"
      ]
     },
     "metadata": {},
     "output_type": "display_data"
    },
    {
     "data": {
      "application/vnd.jupyter.widget-view+json": {
       "model_id": "51f8ba684b2d47909156907c03d02bbb",
       "version_major": 2,
       "version_minor": 0
      },
      "text/plain": [
       "time step:   0%|          | 0/10000 [00:00<?, ?it/s]"
      ]
     },
     "metadata": {},
     "output_type": "display_data"
    },
    {
     "data": {
      "application/vnd.jupyter.widget-view+json": {
       "model_id": "f81d075f210447859d88e51b98934a3c",
       "version_major": 2,
       "version_minor": 0
      },
      "text/plain": [
       "time step:   0%|          | 0/10000 [00:00<?, ?it/s]"
      ]
     },
     "metadata": {},
     "output_type": "display_data"
    },
    {
     "data": {
      "application/vnd.jupyter.widget-view+json": {
       "model_id": "03bc3aad2b324876be374ef159205236",
       "version_major": 2,
       "version_minor": 0
      },
      "text/plain": [
       "time step:   0%|          | 0/10000 [00:00<?, ?it/s]"
      ]
     },
     "metadata": {},
     "output_type": "display_data"
    },
    {
     "data": {
      "application/vnd.jupyter.widget-view+json": {
       "model_id": "12edd7222b384ff698ea2e8cc789f9d6",
       "version_major": 2,
       "version_minor": 0
      },
      "text/plain": [
       "time step:   0%|          | 0/10000 [00:00<?, ?it/s]"
      ]
     },
     "metadata": {},
     "output_type": "display_data"
    },
    {
     "data": {
      "application/vnd.jupyter.widget-view+json": {
       "model_id": "dca6d5f4b9ec461d8f2f0fcecec4a53e",
       "version_major": 2,
       "version_minor": 0
      },
      "text/plain": [
       "time step:   0%|          | 0/10000 [00:00<?, ?it/s]"
      ]
     },
     "metadata": {},
     "output_type": "display_data"
    },
    {
     "data": {
      "application/vnd.jupyter.widget-view+json": {
       "model_id": "b6fd8e4d4bbc473590a94522f0fe2766",
       "version_major": 2,
       "version_minor": 0
      },
      "text/plain": [
       "time step:   0%|          | 0/10000 [00:00<?, ?it/s]"
      ]
     },
     "metadata": {},
     "output_type": "display_data"
    },
    {
     "data": {
      "application/vnd.jupyter.widget-view+json": {
       "model_id": "24784dfff77145bfaf3f6b7ffe6c5288",
       "version_major": 2,
       "version_minor": 0
      },
      "text/plain": [
       "time step:   0%|          | 0/10000 [00:00<?, ?it/s]"
      ]
     },
     "metadata": {},
     "output_type": "display_data"
    },
    {
     "data": {
      "application/vnd.jupyter.widget-view+json": {
       "model_id": "982424825f8c41b3bf374dbd8f56748d",
       "version_major": 2,
       "version_minor": 0
      },
      "text/plain": [
       "time step:   0%|          | 0/10000 [00:00<?, ?it/s]"
      ]
     },
     "metadata": {},
     "output_type": "display_data"
    },
    {
     "data": {
      "application/vnd.jupyter.widget-view+json": {
       "model_id": "d97e4575d61d46f987ff4b0788e4934e",
       "version_major": 2,
       "version_minor": 0
      },
      "text/plain": [
       "time step:   0%|          | 0/10000 [00:00<?, ?it/s]"
      ]
     },
     "metadata": {},
     "output_type": "display_data"
    },
    {
     "data": {
      "application/vnd.jupyter.widget-view+json": {
       "model_id": "df412cdd205143b9a4e6984fba9fcbdc",
       "version_major": 2,
       "version_minor": 0
      },
      "text/plain": [
       "time step:   0%|          | 0/10000 [00:00<?, ?it/s]"
      ]
     },
     "metadata": {},
     "output_type": "display_data"
    },
    {
     "data": {
      "application/vnd.jupyter.widget-view+json": {
       "model_id": "756e408ee2374a0c8721884ac657495c",
       "version_major": 2,
       "version_minor": 0
      },
      "text/plain": [
       "time step:   0%|          | 0/10000 [00:00<?, ?it/s]"
      ]
     },
     "metadata": {},
     "output_type": "display_data"
    },
    {
     "data": {
      "application/vnd.jupyter.widget-view+json": {
       "model_id": "978dbaa10c184bcab8977854fb1bea25",
       "version_major": 2,
       "version_minor": 0
      },
      "text/plain": [
       "time step:   0%|          | 0/10000 [00:00<?, ?it/s]"
      ]
     },
     "metadata": {},
     "output_type": "display_data"
    },
    {
     "data": {
      "application/vnd.jupyter.widget-view+json": {
       "model_id": "b50dd11221dc46c28ae636e22286f9ff",
       "version_major": 2,
       "version_minor": 0
      },
      "text/plain": [
       "time step:   0%|          | 0/10000 [00:00<?, ?it/s]"
      ]
     },
     "metadata": {},
     "output_type": "display_data"
    },
    {
     "data": {
      "application/vnd.jupyter.widget-view+json": {
       "model_id": "70723f1aeca04ef1baf905789f1d3121",
       "version_major": 2,
       "version_minor": 0
      },
      "text/plain": [
       "time step:   0%|          | 0/10000 [00:00<?, ?it/s]"
      ]
     },
     "metadata": {},
     "output_type": "display_data"
    },
    {
     "data": {
      "application/vnd.jupyter.widget-view+json": {
       "model_id": "6dfd2d81d597419f901f2f905b2f5e0b",
       "version_major": 2,
       "version_minor": 0
      },
      "text/plain": [
       "time step:   0%|          | 0/10000 [00:00<?, ?it/s]"
      ]
     },
     "metadata": {},
     "output_type": "display_data"
    },
    {
     "data": {
      "application/vnd.jupyter.widget-view+json": {
       "model_id": "544be3f6dcd44deb9876a588d211fb71",
       "version_major": 2,
       "version_minor": 0
      },
      "text/plain": [
       "time step:   0%|          | 0/10000 [00:00<?, ?it/s]"
      ]
     },
     "metadata": {},
     "output_type": "display_data"
    },
    {
     "data": {
      "application/vnd.jupyter.widget-view+json": {
       "model_id": "e06c45b9e79a40699b62f2add605b69e",
       "version_major": 2,
       "version_minor": 0
      },
      "text/plain": [
       "time step:   0%|          | 0/10000 [00:00<?, ?it/s]"
      ]
     },
     "metadata": {},
     "output_type": "display_data"
    },
    {
     "data": {
      "application/vnd.jupyter.widget-view+json": {
       "model_id": "5a51d9b957bc44209a0f7a9e71ad26d1",
       "version_major": 2,
       "version_minor": 0
      },
      "text/plain": [
       "time step:   0%|          | 0/10000 [00:00<?, ?it/s]"
      ]
     },
     "metadata": {},
     "output_type": "display_data"
    },
    {
     "data": {
      "application/vnd.jupyter.widget-view+json": {
       "model_id": "c5637c83e51941c099695037b5c18291",
       "version_major": 2,
       "version_minor": 0
      },
      "text/plain": [
       "time step:   0%|          | 0/10000 [00:00<?, ?it/s]"
      ]
     },
     "metadata": {},
     "output_type": "display_data"
    },
    {
     "data": {
      "application/vnd.jupyter.widget-view+json": {
       "model_id": "ef1db63f925d422ea564988c7f0e0ad6",
       "version_major": 2,
       "version_minor": 0
      },
      "text/plain": [
       "time step:   0%|          | 0/10000 [00:00<?, ?it/s]"
      ]
     },
     "metadata": {},
     "output_type": "display_data"
    },
    {
     "data": {
      "application/vnd.jupyter.widget-view+json": {
       "model_id": "f1a3e51e45e04a4b939e8fb1ffd08ca6",
       "version_major": 2,
       "version_minor": 0
      },
      "text/plain": [
       "time step:   0%|          | 0/10000 [00:00<?, ?it/s]"
      ]
     },
     "metadata": {},
     "output_type": "display_data"
    },
    {
     "data": {
      "application/vnd.jupyter.widget-view+json": {
       "model_id": "b0a453d0b99c4d96b5ff71d8ca66a5e7",
       "version_major": 2,
       "version_minor": 0
      },
      "text/plain": [
       "time step:   0%|          | 0/10000 [00:00<?, ?it/s]"
      ]
     },
     "metadata": {},
     "output_type": "display_data"
    },
    {
     "data": {
      "application/vnd.jupyter.widget-view+json": {
       "model_id": "92a43142bf60478babbb7eee01ff9d50",
       "version_major": 2,
       "version_minor": 0
      },
      "text/plain": [
       "time step:   0%|          | 0/10000 [00:00<?, ?it/s]"
      ]
     },
     "metadata": {},
     "output_type": "display_data"
    },
    {
     "data": {
      "application/vnd.jupyter.widget-view+json": {
       "model_id": "64baf5536e3e44c68b3dcad41a24c9ea",
       "version_major": 2,
       "version_minor": 0
      },
      "text/plain": [
       "time step:   0%|          | 0/10000 [00:00<?, ?it/s]"
      ]
     },
     "metadata": {},
     "output_type": "display_data"
    },
    {
     "data": {
      "application/vnd.jupyter.widget-view+json": {
       "model_id": "1589488777c14054aac6cd477a4146ee",
       "version_major": 2,
       "version_minor": 0
      },
      "text/plain": [
       "time step:   0%|          | 0/10000 [00:00<?, ?it/s]"
      ]
     },
     "metadata": {},
     "output_type": "display_data"
    },
    {
     "data": {
      "application/vnd.jupyter.widget-view+json": {
       "model_id": "fb593a9acf804e418b059412821ee8e6",
       "version_major": 2,
       "version_minor": 0
      },
      "text/plain": [
       "time step:   0%|          | 0/10000 [00:00<?, ?it/s]"
      ]
     },
     "metadata": {},
     "output_type": "display_data"
    },
    {
     "data": {
      "application/vnd.jupyter.widget-view+json": {
       "model_id": "f2ea185faebe47e392f3ca609bde6765",
       "version_major": 2,
       "version_minor": 0
      },
      "text/plain": [
       "time step:   0%|          | 0/10000 [00:00<?, ?it/s]"
      ]
     },
     "metadata": {},
     "output_type": "display_data"
    },
    {
     "data": {
      "application/vnd.jupyter.widget-view+json": {
       "model_id": "22959ecf74ac41398f55f103702f0b9b",
       "version_major": 2,
       "version_minor": 0
      },
      "text/plain": [
       "time step:   0%|          | 0/10000 [00:00<?, ?it/s]"
      ]
     },
     "metadata": {},
     "output_type": "display_data"
    },
    {
     "data": {
      "application/vnd.jupyter.widget-view+json": {
       "model_id": "2f12ad23df8d49af8fd8572d8aea4209",
       "version_major": 2,
       "version_minor": 0
      },
      "text/plain": [
       "time step:   0%|          | 0/10000 [00:00<?, ?it/s]"
      ]
     },
     "metadata": {},
     "output_type": "display_data"
    },
    {
     "data": {
      "application/vnd.jupyter.widget-view+json": {
       "model_id": "cbc3626e0fcc4f6da6f63519f9e5fca0",
       "version_major": 2,
       "version_minor": 0
      },
      "text/plain": [
       "time step:   0%|          | 0/10000 [00:00<?, ?it/s]"
      ]
     },
     "metadata": {},
     "output_type": "display_data"
    },
    {
     "data": {
      "application/vnd.jupyter.widget-view+json": {
       "model_id": "294d670af43c4646bffb01830637ce4b",
       "version_major": 2,
       "version_minor": 0
      },
      "text/plain": [
       "time step:   0%|          | 0/10000 [00:00<?, ?it/s]"
      ]
     },
     "metadata": {},
     "output_type": "display_data"
    },
    {
     "data": {
      "application/vnd.jupyter.widget-view+json": {
       "model_id": "531f43d37fc6459f857212fb6aeabd66",
       "version_major": 2,
       "version_minor": 0
      },
      "text/plain": [
       "time step:   0%|          | 0/10000 [00:00<?, ?it/s]"
      ]
     },
     "metadata": {},
     "output_type": "display_data"
    },
    {
     "data": {
      "application/vnd.jupyter.widget-view+json": {
       "model_id": "5d35cb26bd7242c4996e0b70dd74c604",
       "version_major": 2,
       "version_minor": 0
      },
      "text/plain": [
       "time step:   0%|          | 0/10000 [00:00<?, ?it/s]"
      ]
     },
     "metadata": {},
     "output_type": "display_data"
    },
    {
     "data": {
      "application/vnd.jupyter.widget-view+json": {
       "model_id": "3edd278527dd4514862f3da3c4cb7604",
       "version_major": 2,
       "version_minor": 0
      },
      "text/plain": [
       "time step:   0%|          | 0/10000 [00:00<?, ?it/s]"
      ]
     },
     "metadata": {},
     "output_type": "display_data"
    },
    {
     "data": {
      "application/vnd.jupyter.widget-view+json": {
       "model_id": "5bdbd9f3f94143d488061234f92e2f0d",
       "version_major": 2,
       "version_minor": 0
      },
      "text/plain": [
       "time step:   0%|          | 0/10000 [00:00<?, ?it/s]"
      ]
     },
     "metadata": {},
     "output_type": "display_data"
    },
    {
     "data": {
      "application/vnd.jupyter.widget-view+json": {
       "model_id": "c268b00edff149c7bde6d24cb77294b8",
       "version_major": 2,
       "version_minor": 0
      },
      "text/plain": [
       "time step:   0%|          | 0/10000 [00:00<?, ?it/s]"
      ]
     },
     "metadata": {},
     "output_type": "display_data"
    },
    {
     "data": {
      "application/vnd.jupyter.widget-view+json": {
       "model_id": "d734df889d024c46b668a390be42dab5",
       "version_major": 2,
       "version_minor": 0
      },
      "text/plain": [
       "time step:   0%|          | 0/10000 [00:00<?, ?it/s]"
      ]
     },
     "metadata": {},
     "output_type": "display_data"
    },
    {
     "data": {
      "application/vnd.jupyter.widget-view+json": {
       "model_id": "ccd6062a60f54e66a4b1d0c32207c862",
       "version_major": 2,
       "version_minor": 0
      },
      "text/plain": [
       "time step:   0%|          | 0/10000 [00:00<?, ?it/s]"
      ]
     },
     "metadata": {},
     "output_type": "display_data"
    },
    {
     "data": {
      "application/vnd.jupyter.widget-view+json": {
       "model_id": "26a6c754d7ce46fbb7f01cc84dc8abe4",
       "version_major": 2,
       "version_minor": 0
      },
      "text/plain": [
       "time step:   0%|          | 0/10000 [00:00<?, ?it/s]"
      ]
     },
     "metadata": {},
     "output_type": "display_data"
    },
    {
     "data": {
      "application/vnd.jupyter.widget-view+json": {
       "model_id": "355fae312b274464929724afa24ea1e0",
       "version_major": 2,
       "version_minor": 0
      },
      "text/plain": [
       "time step:   0%|          | 0/10000 [00:00<?, ?it/s]"
      ]
     },
     "metadata": {},
     "output_type": "display_data"
    },
    {
     "data": {
      "application/vnd.jupyter.widget-view+json": {
       "model_id": "09e7ab2e7a3f41c8a993fd3bf8eb4214",
       "version_major": 2,
       "version_minor": 0
      },
      "text/plain": [
       "time step:   0%|          | 0/10000 [00:00<?, ?it/s]"
      ]
     },
     "metadata": {},
     "output_type": "display_data"
    },
    {
     "data": {
      "application/vnd.jupyter.widget-view+json": {
       "model_id": "fe67d4b85a124c6384b333947a4daa9a",
       "version_major": 2,
       "version_minor": 0
      },
      "text/plain": [
       "time step:   0%|          | 0/10000 [00:00<?, ?it/s]"
      ]
     },
     "metadata": {},
     "output_type": "display_data"
    },
    {
     "data": {
      "application/vnd.jupyter.widget-view+json": {
       "model_id": "e1c7486469f342929f2d06a74ef34a4c",
       "version_major": 2,
       "version_minor": 0
      },
      "text/plain": [
       "time step:   0%|          | 0/10000 [00:00<?, ?it/s]"
      ]
     },
     "metadata": {},
     "output_type": "display_data"
    },
    {
     "data": {
      "application/vnd.jupyter.widget-view+json": {
       "model_id": "2d0f47a9bd42457a850fa6ee3c622d8e",
       "version_major": 2,
       "version_minor": 0
      },
      "text/plain": [
       "time step:   0%|          | 0/10000 [00:00<?, ?it/s]"
      ]
     },
     "metadata": {},
     "output_type": "display_data"
    },
    {
     "data": {
      "application/vnd.jupyter.widget-view+json": {
       "model_id": "a430de7a1c9b48ee809ce4210147f3cf",
       "version_major": 2,
       "version_minor": 0
      },
      "text/plain": [
       "time step:   0%|          | 0/10000 [00:00<?, ?it/s]"
      ]
     },
     "metadata": {},
     "output_type": "display_data"
    },
    {
     "data": {
      "application/vnd.jupyter.widget-view+json": {
       "model_id": "99d343a84de54bc49874fa1d9079485d",
       "version_major": 2,
       "version_minor": 0
      },
      "text/plain": [
       "time step:   0%|          | 0/10000 [00:00<?, ?it/s]"
      ]
     },
     "metadata": {},
     "output_type": "display_data"
    },
    {
     "data": {
      "application/vnd.jupyter.widget-view+json": {
       "model_id": "ddabba57de404930abd98b5ee2e1b638",
       "version_major": 2,
       "version_minor": 0
      },
      "text/plain": [
       "time step:   0%|          | 0/10000 [00:00<?, ?it/s]"
      ]
     },
     "metadata": {},
     "output_type": "display_data"
    },
    {
     "data": {
      "application/vnd.jupyter.widget-view+json": {
       "model_id": "1fd23d49415f4be3a2d0de0f564d7550",
       "version_major": 2,
       "version_minor": 0
      },
      "text/plain": [
       "time step:   0%|          | 0/10000 [00:00<?, ?it/s]"
      ]
     },
     "metadata": {},
     "output_type": "display_data"
    },
    {
     "data": {
      "application/vnd.jupyter.widget-view+json": {
       "model_id": "4972d1d2216d4affb4e5bfc2a28ff41e",
       "version_major": 2,
       "version_minor": 0
      },
      "text/plain": [
       "time step:   0%|          | 0/10000 [00:00<?, ?it/s]"
      ]
     },
     "metadata": {},
     "output_type": "display_data"
    },
    {
     "data": {
      "application/vnd.jupyter.widget-view+json": {
       "model_id": "894f35f2a92540a184a5923cded7d95b",
       "version_major": 2,
       "version_minor": 0
      },
      "text/plain": [
       "time step:   0%|          | 0/10000 [00:00<?, ?it/s]"
      ]
     },
     "metadata": {},
     "output_type": "display_data"
    },
    {
     "data": {
      "application/vnd.jupyter.widget-view+json": {
       "model_id": "0447b4ec033443389975638c05641101",
       "version_major": 2,
       "version_minor": 0
      },
      "text/plain": [
       "time step:   0%|          | 0/10000 [00:00<?, ?it/s]"
      ]
     },
     "metadata": {},
     "output_type": "display_data"
    },
    {
     "data": {
      "application/vnd.jupyter.widget-view+json": {
       "model_id": "641a5d5e86b947a895fde9f6fdafd7ab",
       "version_major": 2,
       "version_minor": 0
      },
      "text/plain": [
       "time step:   0%|          | 0/10000 [00:00<?, ?it/s]"
      ]
     },
     "metadata": {},
     "output_type": "display_data"
    },
    {
     "data": {
      "application/vnd.jupyter.widget-view+json": {
       "model_id": "e3c0a5edcdd7422cbe964781c7630295",
       "version_major": 2,
       "version_minor": 0
      },
      "text/plain": [
       "time step:   0%|          | 0/10000 [00:00<?, ?it/s]"
      ]
     },
     "metadata": {},
     "output_type": "display_data"
    },
    {
     "data": {
      "application/vnd.jupyter.widget-view+json": {
       "model_id": "7d99993546c44511a0b38d800caf29bd",
       "version_major": 2,
       "version_minor": 0
      },
      "text/plain": [
       "time step:   0%|          | 0/10000 [00:00<?, ?it/s]"
      ]
     },
     "metadata": {},
     "output_type": "display_data"
    },
    {
     "data": {
      "application/vnd.jupyter.widget-view+json": {
       "model_id": "3506b6986d5044da9e81113bf348189e",
       "version_major": 2,
       "version_minor": 0
      },
      "text/plain": [
       "time step:   0%|          | 0/10000 [00:00<?, ?it/s]"
      ]
     },
     "metadata": {},
     "output_type": "display_data"
    },
    {
     "data": {
      "application/vnd.jupyter.widget-view+json": {
       "model_id": "398439a693b043f8ba0a504849d94526",
       "version_major": 2,
       "version_minor": 0
      },
      "text/plain": [
       "time step:   0%|          | 0/10000 [00:00<?, ?it/s]"
      ]
     },
     "metadata": {},
     "output_type": "display_data"
    },
    {
     "data": {
      "application/vnd.jupyter.widget-view+json": {
       "model_id": "8e7aed8d9065484ea307f4480bf9e9b5",
       "version_major": 2,
       "version_minor": 0
      },
      "text/plain": [
       "time step:   0%|          | 0/10000 [00:00<?, ?it/s]"
      ]
     },
     "metadata": {},
     "output_type": "display_data"
    },
    {
     "data": {
      "application/vnd.jupyter.widget-view+json": {
       "model_id": "aedb8d4179b14c8ba07bc43d073e6a3b",
       "version_major": 2,
       "version_minor": 0
      },
      "text/plain": [
       "time step:   0%|          | 0/10000 [00:00<?, ?it/s]"
      ]
     },
     "metadata": {},
     "output_type": "display_data"
    },
    {
     "data": {
      "application/vnd.jupyter.widget-view+json": {
       "model_id": "bc111c22c01448b799294516a50b9cb0",
       "version_major": 2,
       "version_minor": 0
      },
      "text/plain": [
       "time step:   0%|          | 0/10000 [00:00<?, ?it/s]"
      ]
     },
     "metadata": {},
     "output_type": "display_data"
    },
    {
     "data": {
      "application/vnd.jupyter.widget-view+json": {
       "model_id": "af69bb55af2445348623ea9386adcd9f",
       "version_major": 2,
       "version_minor": 0
      },
      "text/plain": [
       "time step:   0%|          | 0/10000 [00:00<?, ?it/s]"
      ]
     },
     "metadata": {},
     "output_type": "display_data"
    },
    {
     "data": {
      "application/vnd.jupyter.widget-view+json": {
       "model_id": "bea49aa9336e4d818c5e7ebf558dd720",
       "version_major": 2,
       "version_minor": 0
      },
      "text/plain": [
       "time step:   0%|          | 0/10000 [00:00<?, ?it/s]"
      ]
     },
     "metadata": {},
     "output_type": "display_data"
    },
    {
     "data": {
      "application/vnd.jupyter.widget-view+json": {
       "model_id": "d3938ebc9c3144b3b0859b5a51c0a4ff",
       "version_major": 2,
       "version_minor": 0
      },
      "text/plain": [
       "time step:   0%|          | 0/10000 [00:00<?, ?it/s]"
      ]
     },
     "metadata": {},
     "output_type": "display_data"
    },
    {
     "data": {
      "application/vnd.jupyter.widget-view+json": {
       "model_id": "51f477038b3c4821be3ac2ab7a966e34",
       "version_major": 2,
       "version_minor": 0
      },
      "text/plain": [
       "time step:   0%|          | 0/10000 [00:00<?, ?it/s]"
      ]
     },
     "metadata": {},
     "output_type": "display_data"
    },
    {
     "data": {
      "application/vnd.jupyter.widget-view+json": {
       "model_id": "61576026afb14875a962cbf89c44ec01",
       "version_major": 2,
       "version_minor": 0
      },
      "text/plain": [
       "time step:   0%|          | 0/10000 [00:00<?, ?it/s]"
      ]
     },
     "metadata": {},
     "output_type": "display_data"
    },
    {
     "data": {
      "application/vnd.jupyter.widget-view+json": {
       "model_id": "b5be21665c1f417b953d84d6a11847b8",
       "version_major": 2,
       "version_minor": 0
      },
      "text/plain": [
       "time step:   0%|          | 0/10000 [00:00<?, ?it/s]"
      ]
     },
     "metadata": {},
     "output_type": "display_data"
    },
    {
     "data": {
      "application/vnd.jupyter.widget-view+json": {
       "model_id": "b80965879a4c4535a77a7e8da6e5f085",
       "version_major": 2,
       "version_minor": 0
      },
      "text/plain": [
       "time step:   0%|          | 0/10000 [00:00<?, ?it/s]"
      ]
     },
     "metadata": {},
     "output_type": "display_data"
    },
    {
     "data": {
      "application/vnd.jupyter.widget-view+json": {
       "model_id": "de3d620f39194ba7b187a74c677407f7",
       "version_major": 2,
       "version_minor": 0
      },
      "text/plain": [
       "time step:   0%|          | 0/10000 [00:00<?, ?it/s]"
      ]
     },
     "metadata": {},
     "output_type": "display_data"
    },
    {
     "data": {
      "application/vnd.jupyter.widget-view+json": {
       "model_id": "e833a15f4e4d4712ae0f2e5124e2f7f7",
       "version_major": 2,
       "version_minor": 0
      },
      "text/plain": [
       "time step:   0%|          | 0/10000 [00:00<?, ?it/s]"
      ]
     },
     "metadata": {},
     "output_type": "display_data"
    },
    {
     "data": {
      "application/vnd.jupyter.widget-view+json": {
       "model_id": "48b7c971978a4e98a693cfeaf232a436",
       "version_major": 2,
       "version_minor": 0
      },
      "text/plain": [
       "time step:   0%|          | 0/10000 [00:00<?, ?it/s]"
      ]
     },
     "metadata": {},
     "output_type": "display_data"
    },
    {
     "data": {
      "application/vnd.jupyter.widget-view+json": {
       "model_id": "01567d64c8334ff899429368830dc7b5",
       "version_major": 2,
       "version_minor": 0
      },
      "text/plain": [
       "time step:   0%|          | 0/10000 [00:00<?, ?it/s]"
      ]
     },
     "metadata": {},
     "output_type": "display_data"
    },
    {
     "data": {
      "application/vnd.jupyter.widget-view+json": {
       "model_id": "e8afc6435d7c4334a5415ec7f82a0856",
       "version_major": 2,
       "version_minor": 0
      },
      "text/plain": [
       "time step:   0%|          | 0/10000 [00:00<?, ?it/s]"
      ]
     },
     "metadata": {},
     "output_type": "display_data"
    },
    {
     "data": {
      "application/vnd.jupyter.widget-view+json": {
       "model_id": "c20599c621db47028d3bce045bf8f2c6",
       "version_major": 2,
       "version_minor": 0
      },
      "text/plain": [
       "time step:   0%|          | 0/10000 [00:00<?, ?it/s]"
      ]
     },
     "metadata": {},
     "output_type": "display_data"
    },
    {
     "data": {
      "application/vnd.jupyter.widget-view+json": {
       "model_id": "f52fd21da30d4d1ea7b7a6071c5b0cd3",
       "version_major": 2,
       "version_minor": 0
      },
      "text/plain": [
       "time step:   0%|          | 0/10000 [00:00<?, ?it/s]"
      ]
     },
     "metadata": {},
     "output_type": "display_data"
    },
    {
     "data": {
      "application/vnd.jupyter.widget-view+json": {
       "model_id": "ed74b49acccb47e69d4d1fd56a7540b3",
       "version_major": 2,
       "version_minor": 0
      },
      "text/plain": [
       "time step:   0%|          | 0/10000 [00:00<?, ?it/s]"
      ]
     },
     "metadata": {},
     "output_type": "display_data"
    },
    {
     "data": {
      "application/vnd.jupyter.widget-view+json": {
       "model_id": "145f2377cf0b40ee96bddcc76686f94d",
       "version_major": 2,
       "version_minor": 0
      },
      "text/plain": [
       "time step:   0%|          | 0/10000 [00:00<?, ?it/s]"
      ]
     },
     "metadata": {},
     "output_type": "display_data"
    },
    {
     "data": {
      "application/vnd.jupyter.widget-view+json": {
       "model_id": "c3aef12b48214e3ebf7a1c3bcf448b94",
       "version_major": 2,
       "version_minor": 0
      },
      "text/plain": [
       "time step:   0%|          | 0/10000 [00:00<?, ?it/s]"
      ]
     },
     "metadata": {},
     "output_type": "display_data"
    },
    {
     "data": {
      "application/vnd.jupyter.widget-view+json": {
       "model_id": "071280e8a2fa45e9b88b82cf75fe7478",
       "version_major": 2,
       "version_minor": 0
      },
      "text/plain": [
       "time step:   0%|          | 0/10000 [00:00<?, ?it/s]"
      ]
     },
     "metadata": {},
     "output_type": "display_data"
    },
    {
     "data": {
      "application/vnd.jupyter.widget-view+json": {
       "model_id": "5c67f90798d74faeb54e40bd223aadee",
       "version_major": 2,
       "version_minor": 0
      },
      "text/plain": [
       "time step:   0%|          | 0/10000 [00:00<?, ?it/s]"
      ]
     },
     "metadata": {},
     "output_type": "display_data"
    },
    {
     "data": {
      "application/vnd.jupyter.widget-view+json": {
       "model_id": "21b6caaade5a4cfd8e04d3c7a4fb5bd7",
       "version_major": 2,
       "version_minor": 0
      },
      "text/plain": [
       "time step:   0%|          | 0/10000 [00:00<?, ?it/s]"
      ]
     },
     "metadata": {},
     "output_type": "display_data"
    },
    {
     "data": {
      "application/vnd.jupyter.widget-view+json": {
       "model_id": "3244f874a56248d5904d8804b988db1b",
       "version_major": 2,
       "version_minor": 0
      },
      "text/plain": [
       "time step:   0%|          | 0/10000 [00:00<?, ?it/s]"
      ]
     },
     "metadata": {},
     "output_type": "display_data"
    },
    {
     "data": {
      "application/vnd.jupyter.widget-view+json": {
       "model_id": "20bbeddb71cb4fc5bb533b63248d7848",
       "version_major": 2,
       "version_minor": 0
      },
      "text/plain": [
       "time step:   0%|          | 0/10000 [00:00<?, ?it/s]"
      ]
     },
     "metadata": {},
     "output_type": "display_data"
    },
    {
     "data": {
      "application/vnd.jupyter.widget-view+json": {
       "model_id": "6962ac169d3447dc9f3ef107c0c52571",
       "version_major": 2,
       "version_minor": 0
      },
      "text/plain": [
       "time step:   0%|          | 0/10000 [00:00<?, ?it/s]"
      ]
     },
     "metadata": {},
     "output_type": "display_data"
    },
    {
     "data": {
      "application/vnd.jupyter.widget-view+json": {
       "model_id": "e9fc93b5b9df400e9099ef9ec8b2780d",
       "version_major": 2,
       "version_minor": 0
      },
      "text/plain": [
       "time step:   0%|          | 0/10000 [00:00<?, ?it/s]"
      ]
     },
     "metadata": {},
     "output_type": "display_data"
    },
    {
     "data": {
      "application/vnd.jupyter.widget-view+json": {
       "model_id": "8bf19e51ef214cacb238d2b012a0c19a",
       "version_major": 2,
       "version_minor": 0
      },
      "text/plain": [
       "time step:   0%|          | 0/10000 [00:00<?, ?it/s]"
      ]
     },
     "metadata": {},
     "output_type": "display_data"
    },
    {
     "data": {
      "application/vnd.jupyter.widget-view+json": {
       "model_id": "588187d753c9491283edf09cd502d9bc",
       "version_major": 2,
       "version_minor": 0
      },
      "text/plain": [
       "time step:   0%|          | 0/10000 [00:00<?, ?it/s]"
      ]
     },
     "metadata": {},
     "output_type": "display_data"
    },
    {
     "data": {
      "application/vnd.jupyter.widget-view+json": {
       "model_id": "ad2c437a6b134ecba3b9fad5cb265f98",
       "version_major": 2,
       "version_minor": 0
      },
      "text/plain": [
       "time step:   0%|          | 0/10000 [00:00<?, ?it/s]"
      ]
     },
     "metadata": {},
     "output_type": "display_data"
    },
    {
     "data": {
      "application/vnd.jupyter.widget-view+json": {
       "model_id": "a436535f9637423e84aae65ce22b0250",
       "version_major": 2,
       "version_minor": 0
      },
      "text/plain": [
       "time step:   0%|          | 0/10000 [00:00<?, ?it/s]"
      ]
     },
     "metadata": {},
     "output_type": "display_data"
    },
    {
     "data": {
      "application/vnd.jupyter.widget-view+json": {
       "model_id": "377ebe51c42e4fb9a7133977f6b0d527",
       "version_major": 2,
       "version_minor": 0
      },
      "text/plain": [
       "time step:   0%|          | 0/10000 [00:00<?, ?it/s]"
      ]
     },
     "metadata": {},
     "output_type": "display_data"
    },
    {
     "data": {
      "application/vnd.jupyter.widget-view+json": {
       "model_id": "6eae5c2a2a764a479a3a1553edbc8300",
       "version_major": 2,
       "version_minor": 0
      },
      "text/plain": [
       "time step:   0%|          | 0/10000 [00:00<?, ?it/s]"
      ]
     },
     "metadata": {},
     "output_type": "display_data"
    },
    {
     "data": {
      "application/vnd.jupyter.widget-view+json": {
       "model_id": "163a38fb3b7d41278866a97dda8f73c6",
       "version_major": 2,
       "version_minor": 0
      },
      "text/plain": [
       "time step:   0%|          | 0/10000 [00:00<?, ?it/s]"
      ]
     },
     "metadata": {},
     "output_type": "display_data"
    },
    {
     "data": {
      "application/vnd.jupyter.widget-view+json": {
       "model_id": "71737b935d44482d89e60034cb90d033",
       "version_major": 2,
       "version_minor": 0
      },
      "text/plain": [
       "time step:   0%|          | 0/10000 [00:00<?, ?it/s]"
      ]
     },
     "metadata": {},
     "output_type": "display_data"
    },
    {
     "data": {
      "application/vnd.jupyter.widget-view+json": {
       "model_id": "d0ae83258273448e9bef488261bf6d08",
       "version_major": 2,
       "version_minor": 0
      },
      "text/plain": [
       "time step:   0%|          | 0/10000 [00:00<?, ?it/s]"
      ]
     },
     "metadata": {},
     "output_type": "display_data"
    },
    {
     "data": {
      "application/vnd.jupyter.widget-view+json": {
       "model_id": "d552be8160654d538733200e8a34e3aa",
       "version_major": 2,
       "version_minor": 0
      },
      "text/plain": [
       "time step:   0%|          | 0/10000 [00:00<?, ?it/s]"
      ]
     },
     "metadata": {},
     "output_type": "display_data"
    },
    {
     "data": {
      "application/vnd.jupyter.widget-view+json": {
       "model_id": "94e8a487c9b74d708bf5dc1bf876dd6c",
       "version_major": 2,
       "version_minor": 0
      },
      "text/plain": [
       "time step:   0%|          | 0/10000 [00:00<?, ?it/s]"
      ]
     },
     "metadata": {},
     "output_type": "display_data"
    },
    {
     "data": {
      "application/vnd.jupyter.widget-view+json": {
       "model_id": "f146ebd66df4430da808716246157322",
       "version_major": 2,
       "version_minor": 0
      },
      "text/plain": [
       "time step:   0%|          | 0/10000 [00:00<?, ?it/s]"
      ]
     },
     "metadata": {},
     "output_type": "display_data"
    },
    {
     "data": {
      "application/vnd.jupyter.widget-view+json": {
       "model_id": "c6429a2ca32e49c58572a0c587c39a7c",
       "version_major": 2,
       "version_minor": 0
      },
      "text/plain": [
       "time step:   0%|          | 0/10000 [00:00<?, ?it/s]"
      ]
     },
     "metadata": {},
     "output_type": "display_data"
    },
    {
     "data": {
      "application/vnd.jupyter.widget-view+json": {
       "model_id": "d2e3df9a74b24f899438c2a05b533007",
       "version_major": 2,
       "version_minor": 0
      },
      "text/plain": [
       "time step:   0%|          | 0/10000 [00:00<?, ?it/s]"
      ]
     },
     "metadata": {},
     "output_type": "display_data"
    },
    {
     "data": {
      "application/vnd.jupyter.widget-view+json": {
       "model_id": "f1e04ab4531d4217bfa33d455b3d61d3",
       "version_major": 2,
       "version_minor": 0
      },
      "text/plain": [
       "time step:   0%|          | 0/10000 [00:00<?, ?it/s]"
      ]
     },
     "metadata": {},
     "output_type": "display_data"
    },
    {
     "data": {
      "application/vnd.jupyter.widget-view+json": {
       "model_id": "2e88e244cd8d4407a81f7f54899e225a",
       "version_major": 2,
       "version_minor": 0
      },
      "text/plain": [
       "time step:   0%|          | 0/10000 [00:00<?, ?it/s]"
      ]
     },
     "metadata": {},
     "output_type": "display_data"
    },
    {
     "data": {
      "application/vnd.jupyter.widget-view+json": {
       "model_id": "d51f562602cc4dd99bc7168de730a5a1",
       "version_major": 2,
       "version_minor": 0
      },
      "text/plain": [
       "time step:   0%|          | 0/10000 [00:00<?, ?it/s]"
      ]
     },
     "metadata": {},
     "output_type": "display_data"
    },
    {
     "data": {
      "application/vnd.jupyter.widget-view+json": {
       "model_id": "8f13ca27600543a9acf8a6fc77c91d25",
       "version_major": 2,
       "version_minor": 0
      },
      "text/plain": [
       "time step:   0%|          | 0/10000 [00:00<?, ?it/s]"
      ]
     },
     "metadata": {},
     "output_type": "display_data"
    },
    {
     "data": {
      "application/vnd.jupyter.widget-view+json": {
       "model_id": "127118434e3e457792dff3a550bd9f5a",
       "version_major": 2,
       "version_minor": 0
      },
      "text/plain": [
       "time step:   0%|          | 0/10000 [00:00<?, ?it/s]"
      ]
     },
     "metadata": {},
     "output_type": "display_data"
    },
    {
     "data": {
      "application/vnd.jupyter.widget-view+json": {
       "model_id": "a2d6a803e9f54c4c97f6a2da35c10791",
       "version_major": 2,
       "version_minor": 0
      },
      "text/plain": [
       "time step:   0%|          | 0/10000 [00:00<?, ?it/s]"
      ]
     },
     "metadata": {},
     "output_type": "display_data"
    },
    {
     "data": {
      "application/vnd.jupyter.widget-view+json": {
       "model_id": "055963adbbe84f2b82584aec641bb2b9",
       "version_major": 2,
       "version_minor": 0
      },
      "text/plain": [
       "time step:   0%|          | 0/10000 [00:00<?, ?it/s]"
      ]
     },
     "metadata": {},
     "output_type": "display_data"
    },
    {
     "data": {
      "application/vnd.jupyter.widget-view+json": {
       "model_id": "a9bb5d42a28f46cabf3a409e042b9134",
       "version_major": 2,
       "version_minor": 0
      },
      "text/plain": [
       "time step:   0%|          | 0/10000 [00:00<?, ?it/s]"
      ]
     },
     "metadata": {},
     "output_type": "display_data"
    },
    {
     "data": {
      "application/vnd.jupyter.widget-view+json": {
       "model_id": "88d4155bf7ba4533930f837e06b4dd5f",
       "version_major": 2,
       "version_minor": 0
      },
      "text/plain": [
       "time step:   0%|          | 0/10000 [00:00<?, ?it/s]"
      ]
     },
     "metadata": {},
     "output_type": "display_data"
    },
    {
     "data": {
      "application/vnd.jupyter.widget-view+json": {
       "model_id": "14782aa75bbb41d9a2dcd30475554538",
       "version_major": 2,
       "version_minor": 0
      },
      "text/plain": [
       "time step:   0%|          | 0/10000 [00:00<?, ?it/s]"
      ]
     },
     "metadata": {},
     "output_type": "display_data"
    },
    {
     "data": {
      "application/vnd.jupyter.widget-view+json": {
       "model_id": "e48943f711fa4e5d8fbf322080986564",
       "version_major": 2,
       "version_minor": 0
      },
      "text/plain": [
       "time step:   0%|          | 0/10000 [00:00<?, ?it/s]"
      ]
     },
     "metadata": {},
     "output_type": "display_data"
    },
    {
     "data": {
      "application/vnd.jupyter.widget-view+json": {
       "model_id": "dfc929ce34364ca3a7edc8887d90756c",
       "version_major": 2,
       "version_minor": 0
      },
      "text/plain": [
       "time step:   0%|          | 0/10000 [00:00<?, ?it/s]"
      ]
     },
     "metadata": {},
     "output_type": "display_data"
    },
    {
     "data": {
      "application/vnd.jupyter.widget-view+json": {
       "model_id": "24e9a2383ebf46aaa1c49ef1cdb6bb1a",
       "version_major": 2,
       "version_minor": 0
      },
      "text/plain": [
       "time step:   0%|          | 0/10000 [00:00<?, ?it/s]"
      ]
     },
     "metadata": {},
     "output_type": "display_data"
    },
    {
     "data": {
      "application/vnd.jupyter.widget-view+json": {
       "model_id": "cec8be8d33ac4a3596cc2d99b5c7750a",
       "version_major": 2,
       "version_minor": 0
      },
      "text/plain": [
       "time step:   0%|          | 0/10000 [00:00<?, ?it/s]"
      ]
     },
     "metadata": {},
     "output_type": "display_data"
    },
    {
     "data": {
      "application/vnd.jupyter.widget-view+json": {
       "model_id": "97c637c073a14678ad7d8ad139fdd21a",
       "version_major": 2,
       "version_minor": 0
      },
      "text/plain": [
       "time step:   0%|          | 0/10000 [00:00<?, ?it/s]"
      ]
     },
     "metadata": {},
     "output_type": "display_data"
    },
    {
     "data": {
      "application/vnd.jupyter.widget-view+json": {
       "model_id": "7adc48144f19499b8421a40ae92afc22",
       "version_major": 2,
       "version_minor": 0
      },
      "text/plain": [
       "time step:   0%|          | 0/10000 [00:00<?, ?it/s]"
      ]
     },
     "metadata": {},
     "output_type": "display_data"
    },
    {
     "data": {
      "application/vnd.jupyter.widget-view+json": {
       "model_id": "506f20a7f3364dcf8ef95d552ce56c34",
       "version_major": 2,
       "version_minor": 0
      },
      "text/plain": [
       "time step:   0%|          | 0/10000 [00:00<?, ?it/s]"
      ]
     },
     "metadata": {},
     "output_type": "display_data"
    },
    {
     "data": {
      "application/vnd.jupyter.widget-view+json": {
       "model_id": "35938245ec8d420dbc2f7f0d3fc75aca",
       "version_major": 2,
       "version_minor": 0
      },
      "text/plain": [
       "time step:   0%|          | 0/10000 [00:00<?, ?it/s]"
      ]
     },
     "metadata": {},
     "output_type": "display_data"
    },
    {
     "data": {
      "application/vnd.jupyter.widget-view+json": {
       "model_id": "4fc251f716974fe898ce64087de60ec0",
       "version_major": 2,
       "version_minor": 0
      },
      "text/plain": [
       "time step:   0%|          | 0/10000 [00:00<?, ?it/s]"
      ]
     },
     "metadata": {},
     "output_type": "display_data"
    },
    {
     "data": {
      "application/vnd.jupyter.widget-view+json": {
       "model_id": "1836f7ee7d434aee8d4734792ec5a777",
       "version_major": 2,
       "version_minor": 0
      },
      "text/plain": [
       "time step:   0%|          | 0/10000 [00:00<?, ?it/s]"
      ]
     },
     "metadata": {},
     "output_type": "display_data"
    },
    {
     "data": {
      "application/vnd.jupyter.widget-view+json": {
       "model_id": "0cd0f420f33c4fbdab45d61535c08184",
       "version_major": 2,
       "version_minor": 0
      },
      "text/plain": [
       "time step:   0%|          | 0/10000 [00:00<?, ?it/s]"
      ]
     },
     "metadata": {},
     "output_type": "display_data"
    },
    {
     "data": {
      "application/vnd.jupyter.widget-view+json": {
       "model_id": "df8929fdaea4472286c500fb63718090",
       "version_major": 2,
       "version_minor": 0
      },
      "text/plain": [
       "time step:   0%|          | 0/10000 [00:00<?, ?it/s]"
      ]
     },
     "metadata": {},
     "output_type": "display_data"
    },
    {
     "data": {
      "application/vnd.jupyter.widget-view+json": {
       "model_id": "55f46ea0f37a4ad297c8453f335b2b28",
       "version_major": 2,
       "version_minor": 0
      },
      "text/plain": [
       "time step:   0%|          | 0/10000 [00:00<?, ?it/s]"
      ]
     },
     "metadata": {},
     "output_type": "display_data"
    },
    {
     "data": {
      "application/vnd.jupyter.widget-view+json": {
       "model_id": "b335424f76144e2ca54ce0a3a444d8aa",
       "version_major": 2,
       "version_minor": 0
      },
      "text/plain": [
       "time step:   0%|          | 0/10000 [00:00<?, ?it/s]"
      ]
     },
     "metadata": {},
     "output_type": "display_data"
    },
    {
     "data": {
      "application/vnd.jupyter.widget-view+json": {
       "model_id": "9314384067414bf5afbeae4c2c846b2e",
       "version_major": 2,
       "version_minor": 0
      },
      "text/plain": [
       "time step:   0%|          | 0/10000 [00:00<?, ?it/s]"
      ]
     },
     "metadata": {},
     "output_type": "display_data"
    },
    {
     "data": {
      "application/vnd.jupyter.widget-view+json": {
       "model_id": "05c9bc6f5a774bf697441bb8bb57ffa9",
       "version_major": 2,
       "version_minor": 0
      },
      "text/plain": [
       "time step:   0%|          | 0/10000 [00:00<?, ?it/s]"
      ]
     },
     "metadata": {},
     "output_type": "display_data"
    },
    {
     "data": {
      "application/vnd.jupyter.widget-view+json": {
       "model_id": "03dbfd4e75dd4712956ce9b69ac29ce1",
       "version_major": 2,
       "version_minor": 0
      },
      "text/plain": [
       "time step:   0%|          | 0/10000 [00:00<?, ?it/s]"
      ]
     },
     "metadata": {},
     "output_type": "display_data"
    },
    {
     "data": {
      "application/vnd.jupyter.widget-view+json": {
       "model_id": "79a1a0f2373841dea96028ad7532b9b2",
       "version_major": 2,
       "version_minor": 0
      },
      "text/plain": [
       "time step:   0%|          | 0/10000 [00:00<?, ?it/s]"
      ]
     },
     "metadata": {},
     "output_type": "display_data"
    },
    {
     "data": {
      "application/vnd.jupyter.widget-view+json": {
       "model_id": "0c8d7b2ccf134dff9bbc44db67e55868",
       "version_major": 2,
       "version_minor": 0
      },
      "text/plain": [
       "time step:   0%|          | 0/10000 [00:00<?, ?it/s]"
      ]
     },
     "metadata": {},
     "output_type": "display_data"
    },
    {
     "data": {
      "application/vnd.jupyter.widget-view+json": {
       "model_id": "007498790757409c838b85f67a679657",
       "version_major": 2,
       "version_minor": 0
      },
      "text/plain": [
       "time step:   0%|          | 0/10000 [00:00<?, ?it/s]"
      ]
     },
     "metadata": {},
     "output_type": "display_data"
    },
    {
     "data": {
      "application/vnd.jupyter.widget-view+json": {
       "model_id": "513f5301636a403894734e75f55b5b99",
       "version_major": 2,
       "version_minor": 0
      },
      "text/plain": [
       "time step:   0%|          | 0/10000 [00:00<?, ?it/s]"
      ]
     },
     "metadata": {},
     "output_type": "display_data"
    },
    {
     "data": {
      "application/vnd.jupyter.widget-view+json": {
       "model_id": "abf3a416390540fdb65d2e57c87a5a5a",
       "version_major": 2,
       "version_minor": 0
      },
      "text/plain": [
       "time step:   0%|          | 0/10000 [00:00<?, ?it/s]"
      ]
     },
     "metadata": {},
     "output_type": "display_data"
    },
    {
     "data": {
      "application/vnd.jupyter.widget-view+json": {
       "model_id": "45025b7eb86f482cabe41a93bb061863",
       "version_major": 2,
       "version_minor": 0
      },
      "text/plain": [
       "time step:   0%|          | 0/10000 [00:00<?, ?it/s]"
      ]
     },
     "metadata": {},
     "output_type": "display_data"
    },
    {
     "data": {
      "application/vnd.jupyter.widget-view+json": {
       "model_id": "68145f72c95d49a2950478d4a4c5a923",
       "version_major": 2,
       "version_minor": 0
      },
      "text/plain": [
       "time step:   0%|          | 0/10000 [00:00<?, ?it/s]"
      ]
     },
     "metadata": {},
     "output_type": "display_data"
    },
    {
     "data": {
      "application/vnd.jupyter.widget-view+json": {
       "model_id": "fe30a214e5004052aece4d892d40ae41",
       "version_major": 2,
       "version_minor": 0
      },
      "text/plain": [
       "time step:   0%|          | 0/10000 [00:00<?, ?it/s]"
      ]
     },
     "metadata": {},
     "output_type": "display_data"
    },
    {
     "data": {
      "application/vnd.jupyter.widget-view+json": {
       "model_id": "21226a86d8164f0f8b370228e95c937b",
       "version_major": 2,
       "version_minor": 0
      },
      "text/plain": [
       "time step:   0%|          | 0/10000 [00:00<?, ?it/s]"
      ]
     },
     "metadata": {},
     "output_type": "display_data"
    },
    {
     "data": {
      "application/vnd.jupyter.widget-view+json": {
       "model_id": "fa048c1e9ad3424f822083679ddfe2d7",
       "version_major": 2,
       "version_minor": 0
      },
      "text/plain": [
       "time step:   0%|          | 0/10000 [00:00<?, ?it/s]"
      ]
     },
     "metadata": {},
     "output_type": "display_data"
    },
    {
     "data": {
      "application/vnd.jupyter.widget-view+json": {
       "model_id": "3e364bf4a96147469f43603db8d05e5e",
       "version_major": 2,
       "version_minor": 0
      },
      "text/plain": [
       "time step:   0%|          | 0/10000 [00:00<?, ?it/s]"
      ]
     },
     "metadata": {},
     "output_type": "display_data"
    },
    {
     "data": {
      "application/vnd.jupyter.widget-view+json": {
       "model_id": "a9448abd75494da1af74624d5a2d2664",
       "version_major": 2,
       "version_minor": 0
      },
      "text/plain": [
       "time step:   0%|          | 0/10000 [00:00<?, ?it/s]"
      ]
     },
     "metadata": {},
     "output_type": "display_data"
    },
    {
     "data": {
      "application/vnd.jupyter.widget-view+json": {
       "model_id": "6c912e4bf2044afdb4939b37c159182f",
       "version_major": 2,
       "version_minor": 0
      },
      "text/plain": [
       "time step:   0%|          | 0/10000 [00:00<?, ?it/s]"
      ]
     },
     "metadata": {},
     "output_type": "display_data"
    },
    {
     "data": {
      "application/vnd.jupyter.widget-view+json": {
       "model_id": "0beb944d5c644df3912586504fee7dde",
       "version_major": 2,
       "version_minor": 0
      },
      "text/plain": [
       "time step:   0%|          | 0/10000 [00:00<?, ?it/s]"
      ]
     },
     "metadata": {},
     "output_type": "display_data"
    },
    {
     "data": {
      "application/vnd.jupyter.widget-view+json": {
       "model_id": "f332d851bc9f49c6bf2c84768d795b6b",
       "version_major": 2,
       "version_minor": 0
      },
      "text/plain": [
       "time step:   0%|          | 0/10000 [00:00<?, ?it/s]"
      ]
     },
     "metadata": {},
     "output_type": "display_data"
    },
    {
     "data": {
      "application/vnd.jupyter.widget-view+json": {
       "model_id": "f7d4c7820d3d43a0b499c2f66a5e3bae",
       "version_major": 2,
       "version_minor": 0
      },
      "text/plain": [
       "time step:   0%|          | 0/10000 [00:00<?, ?it/s]"
      ]
     },
     "metadata": {},
     "output_type": "display_data"
    },
    {
     "data": {
      "application/vnd.jupyter.widget-view+json": {
       "model_id": "6fd1ad69b0a54da8b31cc8dea060f286",
       "version_major": 2,
       "version_minor": 0
      },
      "text/plain": [
       "time step:   0%|          | 0/10000 [00:00<?, ?it/s]"
      ]
     },
     "metadata": {},
     "output_type": "display_data"
    },
    {
     "data": {
      "application/vnd.jupyter.widget-view+json": {
       "model_id": "0206b341bd974aa39766a7776d770656",
       "version_major": 2,
       "version_minor": 0
      },
      "text/plain": [
       "time step:   0%|          | 0/10000 [00:00<?, ?it/s]"
      ]
     },
     "metadata": {},
     "output_type": "display_data"
    },
    {
     "data": {
      "application/vnd.jupyter.widget-view+json": {
       "model_id": "db72519066844fae9027a49857d0486b",
       "version_major": 2,
       "version_minor": 0
      },
      "text/plain": [
       "time step:   0%|          | 0/10000 [00:00<?, ?it/s]"
      ]
     },
     "metadata": {},
     "output_type": "display_data"
    },
    {
     "data": {
      "application/vnd.jupyter.widget-view+json": {
       "model_id": "2c3423f2a74a454088396d4354b3ef68",
       "version_major": 2,
       "version_minor": 0
      },
      "text/plain": [
       "time step:   0%|          | 0/10000 [00:00<?, ?it/s]"
      ]
     },
     "metadata": {},
     "output_type": "display_data"
    },
    {
     "data": {
      "application/vnd.jupyter.widget-view+json": {
       "model_id": "ca6a78100cec4b57be266d90512e080b",
       "version_major": 2,
       "version_minor": 0
      },
      "text/plain": [
       "time step:   0%|          | 0/10000 [00:00<?, ?it/s]"
      ]
     },
     "metadata": {},
     "output_type": "display_data"
    },
    {
     "data": {
      "application/vnd.jupyter.widget-view+json": {
       "model_id": "8b309053c1e946249a6f0c2aa744a67e",
       "version_major": 2,
       "version_minor": 0
      },
      "text/plain": [
       "time step:   0%|          | 0/10000 [00:00<?, ?it/s]"
      ]
     },
     "metadata": {},
     "output_type": "display_data"
    },
    {
     "data": {
      "application/vnd.jupyter.widget-view+json": {
       "model_id": "d4582aa0bb404bbfbcb2de15f20e0916",
       "version_major": 2,
       "version_minor": 0
      },
      "text/plain": [
       "time step:   0%|          | 0/10000 [00:00<?, ?it/s]"
      ]
     },
     "metadata": {},
     "output_type": "display_data"
    },
    {
     "data": {
      "application/vnd.jupyter.widget-view+json": {
       "model_id": "20eca01c77484f959381d0c24b8598cc",
       "version_major": 2,
       "version_minor": 0
      },
      "text/plain": [
       "time step:   0%|          | 0/10000 [00:00<?, ?it/s]"
      ]
     },
     "metadata": {},
     "output_type": "display_data"
    },
    {
     "data": {
      "application/vnd.jupyter.widget-view+json": {
       "model_id": "7e42a7397721488ea700c401e4b706f9",
       "version_major": 2,
       "version_minor": 0
      },
      "text/plain": [
       "time step:   0%|          | 0/10000 [00:00<?, ?it/s]"
      ]
     },
     "metadata": {},
     "output_type": "display_data"
    },
    {
     "data": {
      "application/vnd.jupyter.widget-view+json": {
       "model_id": "656d1057733a4be088ba1b763c07edd7",
       "version_major": 2,
       "version_minor": 0
      },
      "text/plain": [
       "time step:   0%|          | 0/10000 [00:00<?, ?it/s]"
      ]
     },
     "metadata": {},
     "output_type": "display_data"
    },
    {
     "data": {
      "application/vnd.jupyter.widget-view+json": {
       "model_id": "0adb9d7b36f24fa19f22c60fce8bfbb4",
       "version_major": 2,
       "version_minor": 0
      },
      "text/plain": [
       "time step:   0%|          | 0/10000 [00:00<?, ?it/s]"
      ]
     },
     "metadata": {},
     "output_type": "display_data"
    },
    {
     "data": {
      "application/vnd.jupyter.widget-view+json": {
       "model_id": "63ed84613c6543a6bb444585238aa8fe",
       "version_major": 2,
       "version_minor": 0
      },
      "text/plain": [
       "time step:   0%|          | 0/10000 [00:00<?, ?it/s]"
      ]
     },
     "metadata": {},
     "output_type": "display_data"
    },
    {
     "data": {
      "application/vnd.jupyter.widget-view+json": {
       "model_id": "553ee9f9be9749d4bc981d5f15b33c16",
       "version_major": 2,
       "version_minor": 0
      },
      "text/plain": [
       "time step:   0%|          | 0/10000 [00:00<?, ?it/s]"
      ]
     },
     "metadata": {},
     "output_type": "display_data"
    },
    {
     "data": {
      "application/vnd.jupyter.widget-view+json": {
       "model_id": "afdfb00c72b04084bedadd7215c57c42",
       "version_major": 2,
       "version_minor": 0
      },
      "text/plain": [
       "time step:   0%|          | 0/10000 [00:00<?, ?it/s]"
      ]
     },
     "metadata": {},
     "output_type": "display_data"
    },
    {
     "data": {
      "application/vnd.jupyter.widget-view+json": {
       "model_id": "1885d39b5dd043c18794c23cf1e9e34e",
       "version_major": 2,
       "version_minor": 0
      },
      "text/plain": [
       "time step:   0%|          | 0/10000 [00:00<?, ?it/s]"
      ]
     },
     "metadata": {},
     "output_type": "display_data"
    },
    {
     "data": {
      "application/vnd.jupyter.widget-view+json": {
       "model_id": "819e509e05424025a6df97e06df53ab1",
       "version_major": 2,
       "version_minor": 0
      },
      "text/plain": [
       "time step:   0%|          | 0/10000 [00:00<?, ?it/s]"
      ]
     },
     "metadata": {},
     "output_type": "display_data"
    },
    {
     "data": {
      "application/vnd.jupyter.widget-view+json": {
       "model_id": "b8fa8855ed5d448597a07fd9b8cc7a86",
       "version_major": 2,
       "version_minor": 0
      },
      "text/plain": [
       "time step:   0%|          | 0/10000 [00:00<?, ?it/s]"
      ]
     },
     "metadata": {},
     "output_type": "display_data"
    },
    {
     "data": {
      "application/vnd.jupyter.widget-view+json": {
       "model_id": "34dd623d9cd5421a8480adabb9682d04",
       "version_major": 2,
       "version_minor": 0
      },
      "text/plain": [
       "time step:   0%|          | 0/10000 [00:00<?, ?it/s]"
      ]
     },
     "metadata": {},
     "output_type": "display_data"
    },
    {
     "data": {
      "application/vnd.jupyter.widget-view+json": {
       "model_id": "18441fba9ae74a549460ffac77c4f7c7",
       "version_major": 2,
       "version_minor": 0
      },
      "text/plain": [
       "time step:   0%|          | 0/10000 [00:00<?, ?it/s]"
      ]
     },
     "metadata": {},
     "output_type": "display_data"
    },
    {
     "data": {
      "application/vnd.jupyter.widget-view+json": {
       "model_id": "c77409b8e5cb4d5c905bd3138a31250c",
       "version_major": 2,
       "version_minor": 0
      },
      "text/plain": [
       "time step:   0%|          | 0/10000 [00:00<?, ?it/s]"
      ]
     },
     "metadata": {},
     "output_type": "display_data"
    },
    {
     "data": {
      "application/vnd.jupyter.widget-view+json": {
       "model_id": "d46d7cd50eb1469bbcc3ef62cc67aba1",
       "version_major": 2,
       "version_minor": 0
      },
      "text/plain": [
       "time step:   0%|          | 0/10000 [00:00<?, ?it/s]"
      ]
     },
     "metadata": {},
     "output_type": "display_data"
    },
    {
     "data": {
      "application/vnd.jupyter.widget-view+json": {
       "model_id": "c12c257018444331abb685a2d9a20074",
       "version_major": 2,
       "version_minor": 0
      },
      "text/plain": [
       "time step:   0%|          | 0/10000 [00:00<?, ?it/s]"
      ]
     },
     "metadata": {},
     "output_type": "display_data"
    },
    {
     "data": {
      "application/vnd.jupyter.widget-view+json": {
       "model_id": "d9f603cd41e549cb8386d80b85a45559",
       "version_major": 2,
       "version_minor": 0
      },
      "text/plain": [
       "time step:   0%|          | 0/10000 [00:00<?, ?it/s]"
      ]
     },
     "metadata": {},
     "output_type": "display_data"
    },
    {
     "data": {
      "application/vnd.jupyter.widget-view+json": {
       "model_id": "5d5445587e874a04992e95cfe8e44aa9",
       "version_major": 2,
       "version_minor": 0
      },
      "text/plain": [
       "time step:   0%|          | 0/10000 [00:00<?, ?it/s]"
      ]
     },
     "metadata": {},
     "output_type": "display_data"
    },
    {
     "data": {
      "application/vnd.jupyter.widget-view+json": {
       "model_id": "4ee46a0b5bcb4bd98c26cdda11d5bb6b",
       "version_major": 2,
       "version_minor": 0
      },
      "text/plain": [
       "time step:   0%|          | 0/10000 [00:00<?, ?it/s]"
      ]
     },
     "metadata": {},
     "output_type": "display_data"
    },
    {
     "data": {
      "application/vnd.jupyter.widget-view+json": {
       "model_id": "827eb066c83444bda2fb34bf0cdb6f09",
       "version_major": 2,
       "version_minor": 0
      },
      "text/plain": [
       "time step:   0%|          | 0/10000 [00:00<?, ?it/s]"
      ]
     },
     "metadata": {},
     "output_type": "display_data"
    },
    {
     "data": {
      "application/vnd.jupyter.widget-view+json": {
       "model_id": "41fbfc0061b246cca22d1e558f532f3f",
       "version_major": 2,
       "version_minor": 0
      },
      "text/plain": [
       "time step:   0%|          | 0/10000 [00:00<?, ?it/s]"
      ]
     },
     "metadata": {},
     "output_type": "display_data"
    },
    {
     "data": {
      "application/vnd.jupyter.widget-view+json": {
       "model_id": "f255cc223a8746f69dbf1c167873703f",
       "version_major": 2,
       "version_minor": 0
      },
      "text/plain": [
       "time step:   0%|          | 0/10000 [00:00<?, ?it/s]"
      ]
     },
     "metadata": {},
     "output_type": "display_data"
    },
    {
     "data": {
      "application/vnd.jupyter.widget-view+json": {
       "model_id": "f2a7f55aa211455ea8f4ec9b5484b1b3",
       "version_major": 2,
       "version_minor": 0
      },
      "text/plain": [
       "time step:   0%|          | 0/10000 [00:00<?, ?it/s]"
      ]
     },
     "metadata": {},
     "output_type": "display_data"
    },
    {
     "data": {
      "application/vnd.jupyter.widget-view+json": {
       "model_id": "3f723df8dd8d4ab2ba1711a63806a575",
       "version_major": 2,
       "version_minor": 0
      },
      "text/plain": [
       "time step:   0%|          | 0/10000 [00:00<?, ?it/s]"
      ]
     },
     "metadata": {},
     "output_type": "display_data"
    },
    {
     "data": {
      "application/vnd.jupyter.widget-view+json": {
       "model_id": "600f25b94e6f412f8a48d86305e946bc",
       "version_major": 2,
       "version_minor": 0
      },
      "text/plain": [
       "time step:   0%|          | 0/10000 [00:00<?, ?it/s]"
      ]
     },
     "metadata": {},
     "output_type": "display_data"
    },
    {
     "data": {
      "application/vnd.jupyter.widget-view+json": {
       "model_id": "41c480f81ef647078bc27f183a393277",
       "version_major": 2,
       "version_minor": 0
      },
      "text/plain": [
       "time step:   0%|          | 0/10000 [00:00<?, ?it/s]"
      ]
     },
     "metadata": {},
     "output_type": "display_data"
    },
    {
     "data": {
      "application/vnd.jupyter.widget-view+json": {
       "model_id": "5279c6f79660402c8f250e3d361bb2e3",
       "version_major": 2,
       "version_minor": 0
      },
      "text/plain": [
       "time step:   0%|          | 0/10000 [00:00<?, ?it/s]"
      ]
     },
     "metadata": {},
     "output_type": "display_data"
    },
    {
     "data": {
      "application/vnd.jupyter.widget-view+json": {
       "model_id": "dca47899adb942deb775fe7ea627ae31",
       "version_major": 2,
       "version_minor": 0
      },
      "text/plain": [
       "time step:   0%|          | 0/10000 [00:00<?, ?it/s]"
      ]
     },
     "metadata": {},
     "output_type": "display_data"
    },
    {
     "data": {
      "application/vnd.jupyter.widget-view+json": {
       "model_id": "38420bc452b243d1a023107a8801a17c",
       "version_major": 2,
       "version_minor": 0
      },
      "text/plain": [
       "time step:   0%|          | 0/10000 [00:00<?, ?it/s]"
      ]
     },
     "metadata": {},
     "output_type": "display_data"
    },
    {
     "data": {
      "application/vnd.jupyter.widget-view+json": {
       "model_id": "bed090efde004654b456e0683614af3b",
       "version_major": 2,
       "version_minor": 0
      },
      "text/plain": [
       "time step:   0%|          | 0/10000 [00:00<?, ?it/s]"
      ]
     },
     "metadata": {},
     "output_type": "display_data"
    },
    {
     "data": {
      "application/vnd.jupyter.widget-view+json": {
       "model_id": "635bf074ebbf489d8a594647d07b752e",
       "version_major": 2,
       "version_minor": 0
      },
      "text/plain": [
       "time step:   0%|          | 0/10000 [00:00<?, ?it/s]"
      ]
     },
     "metadata": {},
     "output_type": "display_data"
    },
    {
     "data": {
      "application/vnd.jupyter.widget-view+json": {
       "model_id": "3d358fd5cb644ac3b218bc6e85066c26",
       "version_major": 2,
       "version_minor": 0
      },
      "text/plain": [
       "time step:   0%|          | 0/10000 [00:00<?, ?it/s]"
      ]
     },
     "metadata": {},
     "output_type": "display_data"
    },
    {
     "data": {
      "application/vnd.jupyter.widget-view+json": {
       "model_id": "4ed7262adb4d4867b172f298ae928d67",
       "version_major": 2,
       "version_minor": 0
      },
      "text/plain": [
       "time step:   0%|          | 0/10000 [00:00<?, ?it/s]"
      ]
     },
     "metadata": {},
     "output_type": "display_data"
    },
    {
     "data": {
      "application/vnd.jupyter.widget-view+json": {
       "model_id": "117a42609a474d439977cddaea5107ba",
       "version_major": 2,
       "version_minor": 0
      },
      "text/plain": [
       "time step:   0%|          | 0/10000 [00:00<?, ?it/s]"
      ]
     },
     "metadata": {},
     "output_type": "display_data"
    },
    {
     "data": {
      "application/vnd.jupyter.widget-view+json": {
       "model_id": "27a228adb8ce46dba7c6a4e9f533a90f",
       "version_major": 2,
       "version_minor": 0
      },
      "text/plain": [
       "time step:   0%|          | 0/10000 [00:00<?, ?it/s]"
      ]
     },
     "metadata": {},
     "output_type": "display_data"
    },
    {
     "data": {
      "application/vnd.jupyter.widget-view+json": {
       "model_id": "7f42151c52f240b991c3465c495abd8a",
       "version_major": 2,
       "version_minor": 0
      },
      "text/plain": [
       "time step:   0%|          | 0/10000 [00:00<?, ?it/s]"
      ]
     },
     "metadata": {},
     "output_type": "display_data"
    },
    {
     "data": {
      "application/vnd.jupyter.widget-view+json": {
       "model_id": "fea1eeb5404b459ca95d52632bd03da6",
       "version_major": 2,
       "version_minor": 0
      },
      "text/plain": [
       "time step:   0%|          | 0/10000 [00:00<?, ?it/s]"
      ]
     },
     "metadata": {},
     "output_type": "display_data"
    },
    {
     "data": {
      "application/vnd.jupyter.widget-view+json": {
       "model_id": "05289228682e4e969c945238d46d8602",
       "version_major": 2,
       "version_minor": 0
      },
      "text/plain": [
       "time step:   0%|          | 0/10000 [00:00<?, ?it/s]"
      ]
     },
     "metadata": {},
     "output_type": "display_data"
    },
    {
     "data": {
      "application/vnd.jupyter.widget-view+json": {
       "model_id": "7e9106785699499c9a5e0ebd2c4b9280",
       "version_major": 2,
       "version_minor": 0
      },
      "text/plain": [
       "time step:   0%|          | 0/10000 [00:00<?, ?it/s]"
      ]
     },
     "metadata": {},
     "output_type": "display_data"
    },
    {
     "data": {
      "application/vnd.jupyter.widget-view+json": {
       "model_id": "7b6dded75f7c4f04b01383f244bdbf18",
       "version_major": 2,
       "version_minor": 0
      },
      "text/plain": [
       "time step:   0%|          | 0/10000 [00:00<?, ?it/s]"
      ]
     },
     "metadata": {},
     "output_type": "display_data"
    },
    {
     "data": {
      "application/vnd.jupyter.widget-view+json": {
       "model_id": "5e2511006a5e40d09e73ea6afd4379c7",
       "version_major": 2,
       "version_minor": 0
      },
      "text/plain": [
       "time step:   0%|          | 0/10000 [00:00<?, ?it/s]"
      ]
     },
     "metadata": {},
     "output_type": "display_data"
    },
    {
     "data": {
      "application/vnd.jupyter.widget-view+json": {
       "model_id": "a8b7785ea14242339ddae1f3db9cc324",
       "version_major": 2,
       "version_minor": 0
      },
      "text/plain": [
       "time step:   0%|          | 0/10000 [00:00<?, ?it/s]"
      ]
     },
     "metadata": {},
     "output_type": "display_data"
    },
    {
     "data": {
      "application/vnd.jupyter.widget-view+json": {
       "model_id": "4d33fa7979e84112ac9491f970f9af02",
       "version_major": 2,
       "version_minor": 0
      },
      "text/plain": [
       "time step:   0%|          | 0/10000 [00:00<?, ?it/s]"
      ]
     },
     "metadata": {},
     "output_type": "display_data"
    },
    {
     "data": {
      "application/vnd.jupyter.widget-view+json": {
       "model_id": "5459f3c7573f45ea9c4164af8c59c7d5",
       "version_major": 2,
       "version_minor": 0
      },
      "text/plain": [
       "time step:   0%|          | 0/10000 [00:00<?, ?it/s]"
      ]
     },
     "metadata": {},
     "output_type": "display_data"
    },
    {
     "data": {
      "application/vnd.jupyter.widget-view+json": {
       "model_id": "9e71012ad84041d59e9036ab285e0f73",
       "version_major": 2,
       "version_minor": 0
      },
      "text/plain": [
       "time step:   0%|          | 0/10000 [00:00<?, ?it/s]"
      ]
     },
     "metadata": {},
     "output_type": "display_data"
    },
    {
     "data": {
      "application/vnd.jupyter.widget-view+json": {
       "model_id": "67dccc0b03a24878bab06d3e013fda78",
       "version_major": 2,
       "version_minor": 0
      },
      "text/plain": [
       "time step:   0%|          | 0/10000 [00:00<?, ?it/s]"
      ]
     },
     "metadata": {},
     "output_type": "display_data"
    },
    {
     "data": {
      "application/vnd.jupyter.widget-view+json": {
       "model_id": "dae62572da9b473391dda230cd12120c",
       "version_major": 2,
       "version_minor": 0
      },
      "text/plain": [
       "time step:   0%|          | 0/10000 [00:00<?, ?it/s]"
      ]
     },
     "metadata": {},
     "output_type": "display_data"
    },
    {
     "data": {
      "application/vnd.jupyter.widget-view+json": {
       "model_id": "341da63d27d14361ac618c358807fc22",
       "version_major": 2,
       "version_minor": 0
      },
      "text/plain": [
       "time step:   0%|          | 0/10000 [00:00<?, ?it/s]"
      ]
     },
     "metadata": {},
     "output_type": "display_data"
    },
    {
     "data": {
      "application/vnd.jupyter.widget-view+json": {
       "model_id": "2356f7fafcbc4f02a55451a610dfe705",
       "version_major": 2,
       "version_minor": 0
      },
      "text/plain": [
       "time step:   0%|          | 0/10000 [00:00<?, ?it/s]"
      ]
     },
     "metadata": {},
     "output_type": "display_data"
    },
    {
     "data": {
      "application/vnd.jupyter.widget-view+json": {
       "model_id": "1bfac99158bb4b3c989801f659a4570c",
       "version_major": 2,
       "version_minor": 0
      },
      "text/plain": [
       "time step:   0%|          | 0/10000 [00:00<?, ?it/s]"
      ]
     },
     "metadata": {},
     "output_type": "display_data"
    },
    {
     "data": {
      "application/vnd.jupyter.widget-view+json": {
       "model_id": "7086e3d7b6c04631b972eaef0e8370f9",
       "version_major": 2,
       "version_minor": 0
      },
      "text/plain": [
       "time step:   0%|          | 0/10000 [00:00<?, ?it/s]"
      ]
     },
     "metadata": {},
     "output_type": "display_data"
    },
    {
     "data": {
      "application/vnd.jupyter.widget-view+json": {
       "model_id": "c9383eca9e034e5f882172ef76319f53",
       "version_major": 2,
       "version_minor": 0
      },
      "text/plain": [
       "time step:   0%|          | 0/10000 [00:00<?, ?it/s]"
      ]
     },
     "metadata": {},
     "output_type": "display_data"
    },
    {
     "data": {
      "application/vnd.jupyter.widget-view+json": {
       "model_id": "a65e163ba84d472fb5378bb246dbc698",
       "version_major": 2,
       "version_minor": 0
      },
      "text/plain": [
       "time step:   0%|          | 0/10000 [00:00<?, ?it/s]"
      ]
     },
     "metadata": {},
     "output_type": "display_data"
    },
    {
     "data": {
      "application/vnd.jupyter.widget-view+json": {
       "model_id": "98d3eab66bea4e3daa22c319030db6a2",
       "version_major": 2,
       "version_minor": 0
      },
      "text/plain": [
       "time step:   0%|          | 0/10000 [00:00<?, ?it/s]"
      ]
     },
     "metadata": {},
     "output_type": "display_data"
    },
    {
     "data": {
      "application/vnd.jupyter.widget-view+json": {
       "model_id": "af9785ed58f14f84afb4f9be37574135",
       "version_major": 2,
       "version_minor": 0
      },
      "text/plain": [
       "time step:   0%|          | 0/10000 [00:00<?, ?it/s]"
      ]
     },
     "metadata": {},
     "output_type": "display_data"
    },
    {
     "data": {
      "application/vnd.jupyter.widget-view+json": {
       "model_id": "4687eee8aa744bcba3a5b593686e07c7",
       "version_major": 2,
       "version_minor": 0
      },
      "text/plain": [
       "time step:   0%|          | 0/10000 [00:00<?, ?it/s]"
      ]
     },
     "metadata": {},
     "output_type": "display_data"
    },
    {
     "data": {
      "application/vnd.jupyter.widget-view+json": {
       "model_id": "6a0753e625184306aa9b35ddee6eee5a",
       "version_major": 2,
       "version_minor": 0
      },
      "text/plain": [
       "time step:   0%|          | 0/10000 [00:00<?, ?it/s]"
      ]
     },
     "metadata": {},
     "output_type": "display_data"
    },
    {
     "data": {
      "application/vnd.jupyter.widget-view+json": {
       "model_id": "113a84bb0e1b4e3bb23234acc508ad99",
       "version_major": 2,
       "version_minor": 0
      },
      "text/plain": [
       "time step:   0%|          | 0/10000 [00:00<?, ?it/s]"
      ]
     },
     "metadata": {},
     "output_type": "display_data"
    },
    {
     "data": {
      "application/vnd.jupyter.widget-view+json": {
       "model_id": "a86893e0c57d4ec88fa33a633cc758cc",
       "version_major": 2,
       "version_minor": 0
      },
      "text/plain": [
       "time step:   0%|          | 0/10000 [00:00<?, ?it/s]"
      ]
     },
     "metadata": {},
     "output_type": "display_data"
    },
    {
     "data": {
      "application/vnd.jupyter.widget-view+json": {
       "model_id": "ef48d1f8182a4c0587e172b52dbb85a1",
       "version_major": 2,
       "version_minor": 0
      },
      "text/plain": [
       "time step:   0%|          | 0/10000 [00:00<?, ?it/s]"
      ]
     },
     "metadata": {},
     "output_type": "display_data"
    },
    {
     "data": {
      "application/vnd.jupyter.widget-view+json": {
       "model_id": "888a86d25e94475493e57ea3a2143ea3",
       "version_major": 2,
       "version_minor": 0
      },
      "text/plain": [
       "time step:   0%|          | 0/10000 [00:00<?, ?it/s]"
      ]
     },
     "metadata": {},
     "output_type": "display_data"
    },
    {
     "data": {
      "application/vnd.jupyter.widget-view+json": {
       "model_id": "a67e7d17305d4171895b4be49f0f8186",
       "version_major": 2,
       "version_minor": 0
      },
      "text/plain": [
       "time step:   0%|          | 0/10000 [00:00<?, ?it/s]"
      ]
     },
     "metadata": {},
     "output_type": "display_data"
    },
    {
     "data": {
      "application/vnd.jupyter.widget-view+json": {
       "model_id": "ae7ac57c72db48d782fc63cfb12aaab0",
       "version_major": 2,
       "version_minor": 0
      },
      "text/plain": [
       "time step:   0%|          | 0/10000 [00:00<?, ?it/s]"
      ]
     },
     "metadata": {},
     "output_type": "display_data"
    },
    {
     "data": {
      "application/vnd.jupyter.widget-view+json": {
       "model_id": "8e1772b877ea48fa83b27cf4ab73ef39",
       "version_major": 2,
       "version_minor": 0
      },
      "text/plain": [
       "time step:   0%|          | 0/10000 [00:00<?, ?it/s]"
      ]
     },
     "metadata": {},
     "output_type": "display_data"
    },
    {
     "data": {
      "application/vnd.jupyter.widget-view+json": {
       "model_id": "24bcd426279f42e899ea0bcebe7914d3",
       "version_major": 2,
       "version_minor": 0
      },
      "text/plain": [
       "time step:   0%|          | 0/10000 [00:00<?, ?it/s]"
      ]
     },
     "metadata": {},
     "output_type": "display_data"
    },
    {
     "data": {
      "application/vnd.jupyter.widget-view+json": {
       "model_id": "85aaf60a27254439b73ba1597a70b109",
       "version_major": 2,
       "version_minor": 0
      },
      "text/plain": [
       "time step:   0%|          | 0/10000 [00:00<?, ?it/s]"
      ]
     },
     "metadata": {},
     "output_type": "display_data"
    },
    {
     "data": {
      "application/vnd.jupyter.widget-view+json": {
       "model_id": "99531c2ca6834d9ba79619553fbd3707",
       "version_major": 2,
       "version_minor": 0
      },
      "text/plain": [
       "time step:   0%|          | 0/10000 [00:00<?, ?it/s]"
      ]
     },
     "metadata": {},
     "output_type": "display_data"
    },
    {
     "data": {
      "application/vnd.jupyter.widget-view+json": {
       "model_id": "fee0803423ec4ef1b172619712ec3fe9",
       "version_major": 2,
       "version_minor": 0
      },
      "text/plain": [
       "time step:   0%|          | 0/10000 [00:00<?, ?it/s]"
      ]
     },
     "metadata": {},
     "output_type": "display_data"
    },
    {
     "data": {
      "application/vnd.jupyter.widget-view+json": {
       "model_id": "80c03b1c569c46e3b0534cef4fa66b8b",
       "version_major": 2,
       "version_minor": 0
      },
      "text/plain": [
       "time step:   0%|          | 0/10000 [00:00<?, ?it/s]"
      ]
     },
     "metadata": {},
     "output_type": "display_data"
    },
    {
     "data": {
      "application/vnd.jupyter.widget-view+json": {
       "model_id": "de461e67a1b24816b554398ee23c565f",
       "version_major": 2,
       "version_minor": 0
      },
      "text/plain": [
       "time step:   0%|          | 0/10000 [00:00<?, ?it/s]"
      ]
     },
     "metadata": {},
     "output_type": "display_data"
    },
    {
     "data": {
      "application/vnd.jupyter.widget-view+json": {
       "model_id": "33ee2859f6a94c08b09687c3da22f328",
       "version_major": 2,
       "version_minor": 0
      },
      "text/plain": [
       "time step:   0%|          | 0/10000 [00:00<?, ?it/s]"
      ]
     },
     "metadata": {},
     "output_type": "display_data"
    },
    {
     "data": {
      "application/vnd.jupyter.widget-view+json": {
       "model_id": "16927826adde4d8a839b36cde49ace04",
       "version_major": 2,
       "version_minor": 0
      },
      "text/plain": [
       "time step:   0%|          | 0/10000 [00:00<?, ?it/s]"
      ]
     },
     "metadata": {},
     "output_type": "display_data"
    },
    {
     "data": {
      "application/vnd.jupyter.widget-view+json": {
       "model_id": "557a10baea184d8cbf43e221cb042cb8",
       "version_major": 2,
       "version_minor": 0
      },
      "text/plain": [
       "time step:   0%|          | 0/10000 [00:00<?, ?it/s]"
      ]
     },
     "metadata": {},
     "output_type": "display_data"
    },
    {
     "data": {
      "application/vnd.jupyter.widget-view+json": {
       "model_id": "c995235d1fb740379265fa611b49d59c",
       "version_major": 2,
       "version_minor": 0
      },
      "text/plain": [
       "time step:   0%|          | 0/10000 [00:00<?, ?it/s]"
      ]
     },
     "metadata": {},
     "output_type": "display_data"
    },
    {
     "data": {
      "application/vnd.jupyter.widget-view+json": {
       "model_id": "31695130c22d421da4259056eef3318b",
       "version_major": 2,
       "version_minor": 0
      },
      "text/plain": [
       "time step:   0%|          | 0/10000 [00:00<?, ?it/s]"
      ]
     },
     "metadata": {},
     "output_type": "display_data"
    },
    {
     "data": {
      "application/vnd.jupyter.widget-view+json": {
       "model_id": "40bfe013ec644c23b4a3de84aaffd980",
       "version_major": 2,
       "version_minor": 0
      },
      "text/plain": [
       "time step:   0%|          | 0/10000 [00:00<?, ?it/s]"
      ]
     },
     "metadata": {},
     "output_type": "display_data"
    },
    {
     "data": {
      "application/vnd.jupyter.widget-view+json": {
       "model_id": "32a8710709b1496aaebc2f61f8cec4c2",
       "version_major": 2,
       "version_minor": 0
      },
      "text/plain": [
       "time step:   0%|          | 0/10000 [00:00<?, ?it/s]"
      ]
     },
     "metadata": {},
     "output_type": "display_data"
    },
    {
     "data": {
      "application/vnd.jupyter.widget-view+json": {
       "model_id": "c1ba44d7d8a2496a9aa38e64ac844cf7",
       "version_major": 2,
       "version_minor": 0
      },
      "text/plain": [
       "time step:   0%|          | 0/10000 [00:00<?, ?it/s]"
      ]
     },
     "metadata": {},
     "output_type": "display_data"
    },
    {
     "data": {
      "application/vnd.jupyter.widget-view+json": {
       "model_id": "81ec8bbc229a4513819d16c53e456bfc",
       "version_major": 2,
       "version_minor": 0
      },
      "text/plain": [
       "time step:   0%|          | 0/10000 [00:00<?, ?it/s]"
      ]
     },
     "metadata": {},
     "output_type": "display_data"
    },
    {
     "data": {
      "application/vnd.jupyter.widget-view+json": {
       "model_id": "bb0510ffc2c8466f81e3d1646bfcec9a",
       "version_major": 2,
       "version_minor": 0
      },
      "text/plain": [
       "time step:   0%|          | 0/10000 [00:00<?, ?it/s]"
      ]
     },
     "metadata": {},
     "output_type": "display_data"
    },
    {
     "data": {
      "application/vnd.jupyter.widget-view+json": {
       "model_id": "265a9d33a0b5482fb69f2c3f640a69b9",
       "version_major": 2,
       "version_minor": 0
      },
      "text/plain": [
       "time step:   0%|          | 0/10000 [00:00<?, ?it/s]"
      ]
     },
     "metadata": {},
     "output_type": "display_data"
    },
    {
     "data": {
      "application/vnd.jupyter.widget-view+json": {
       "model_id": "0fc8592511494c2aad42a633e9d55cfb",
       "version_major": 2,
       "version_minor": 0
      },
      "text/plain": [
       "time step:   0%|          | 0/10000 [00:00<?, ?it/s]"
      ]
     },
     "metadata": {},
     "output_type": "display_data"
    },
    {
     "data": {
      "application/vnd.jupyter.widget-view+json": {
       "model_id": "24296f8a1bf34f038c169a40a8cfdeb9",
       "version_major": 2,
       "version_minor": 0
      },
      "text/plain": [
       "time step:   0%|          | 0/10000 [00:00<?, ?it/s]"
      ]
     },
     "metadata": {},
     "output_type": "display_data"
    },
    {
     "data": {
      "application/vnd.jupyter.widget-view+json": {
       "model_id": "e989c22ee020450aac556ecf6515a5c4",
       "version_major": 2,
       "version_minor": 0
      },
      "text/plain": [
       "time step:   0%|          | 0/10000 [00:00<?, ?it/s]"
      ]
     },
     "metadata": {},
     "output_type": "display_data"
    },
    {
     "data": {
      "application/vnd.jupyter.widget-view+json": {
       "model_id": "1dc97154076e4e8ca2e40afc648cd6be",
       "version_major": 2,
       "version_minor": 0
      },
      "text/plain": [
       "time step:   0%|          | 0/10000 [00:00<?, ?it/s]"
      ]
     },
     "metadata": {},
     "output_type": "display_data"
    },
    {
     "data": {
      "application/vnd.jupyter.widget-view+json": {
       "model_id": "b9dafd05b5d04909bd79e88277116cce",
       "version_major": 2,
       "version_minor": 0
      },
      "text/plain": [
       "time step:   0%|          | 0/10000 [00:00<?, ?it/s]"
      ]
     },
     "metadata": {},
     "output_type": "display_data"
    },
    {
     "data": {
      "application/vnd.jupyter.widget-view+json": {
       "model_id": "6ff6b79d07904e268dbd6ab934c4fc9c",
       "version_major": 2,
       "version_minor": 0
      },
      "text/plain": [
       "time step:   0%|          | 0/10000 [00:00<?, ?it/s]"
      ]
     },
     "metadata": {},
     "output_type": "display_data"
    },
    {
     "data": {
      "application/vnd.jupyter.widget-view+json": {
       "model_id": "639bdfb202794a9293df9d947229c026",
       "version_major": 2,
       "version_minor": 0
      },
      "text/plain": [
       "time step:   0%|          | 0/10000 [00:00<?, ?it/s]"
      ]
     },
     "metadata": {},
     "output_type": "display_data"
    },
    {
     "data": {
      "application/vnd.jupyter.widget-view+json": {
       "model_id": "acdfb45736d3486497fa2cbb4c0a3f17",
       "version_major": 2,
       "version_minor": 0
      },
      "text/plain": [
       "time step:   0%|          | 0/10000 [00:00<?, ?it/s]"
      ]
     },
     "metadata": {},
     "output_type": "display_data"
    },
    {
     "data": {
      "application/vnd.jupyter.widget-view+json": {
       "model_id": "96f59dc7e2f947b1a48432a7ec574634",
       "version_major": 2,
       "version_minor": 0
      },
      "text/plain": [
       "time step:   0%|          | 0/10000 [00:00<?, ?it/s]"
      ]
     },
     "metadata": {},
     "output_type": "display_data"
    },
    {
     "data": {
      "application/vnd.jupyter.widget-view+json": {
       "model_id": "a7182d5ec5e24937af15821ff37919c1",
       "version_major": 2,
       "version_minor": 0
      },
      "text/plain": [
       "time step:   0%|          | 0/10000 [00:00<?, ?it/s]"
      ]
     },
     "metadata": {},
     "output_type": "display_data"
    },
    {
     "data": {
      "application/vnd.jupyter.widget-view+json": {
       "model_id": "c19d4041f9564508ad61f84e36753491",
       "version_major": 2,
       "version_minor": 0
      },
      "text/plain": [
       "time step:   0%|          | 0/10000 [00:00<?, ?it/s]"
      ]
     },
     "metadata": {},
     "output_type": "display_data"
    },
    {
     "data": {
      "application/vnd.jupyter.widget-view+json": {
       "model_id": "e91536e861a74048bb73810f4446da4b",
       "version_major": 2,
       "version_minor": 0
      },
      "text/plain": [
       "time step:   0%|          | 0/10000 [00:00<?, ?it/s]"
      ]
     },
     "metadata": {},
     "output_type": "display_data"
    },
    {
     "data": {
      "application/vnd.jupyter.widget-view+json": {
       "model_id": "5cab9d1fa43d47f0b7135fa9b89040b4",
       "version_major": 2,
       "version_minor": 0
      },
      "text/plain": [
       "time step:   0%|          | 0/10000 [00:00<?, ?it/s]"
      ]
     },
     "metadata": {},
     "output_type": "display_data"
    },
    {
     "data": {
      "application/vnd.jupyter.widget-view+json": {
       "model_id": "298dd49639b34c9b9aface6c81438f0a",
       "version_major": 2,
       "version_minor": 0
      },
      "text/plain": [
       "time step:   0%|          | 0/10000 [00:00<?, ?it/s]"
      ]
     },
     "metadata": {},
     "output_type": "display_data"
    },
    {
     "data": {
      "application/vnd.jupyter.widget-view+json": {
       "model_id": "19542dd6755e44b0bf4b5eb8d4ddfc11",
       "version_major": 2,
       "version_minor": 0
      },
      "text/plain": [
       "time step:   0%|          | 0/10000 [00:00<?, ?it/s]"
      ]
     },
     "metadata": {},
     "output_type": "display_data"
    },
    {
     "data": {
      "application/vnd.jupyter.widget-view+json": {
       "model_id": "2d63e103cc4749cba0848e93284d55e0",
       "version_major": 2,
       "version_minor": 0
      },
      "text/plain": [
       "time step:   0%|          | 0/10000 [00:00<?, ?it/s]"
      ]
     },
     "metadata": {},
     "output_type": "display_data"
    },
    {
     "data": {
      "application/vnd.jupyter.widget-view+json": {
       "model_id": "79b75ab4236443b79f5ddeb75569bd2b",
       "version_major": 2,
       "version_minor": 0
      },
      "text/plain": [
       "time step:   0%|          | 0/10000 [00:00<?, ?it/s]"
      ]
     },
     "metadata": {},
     "output_type": "display_data"
    },
    {
     "data": {
      "application/vnd.jupyter.widget-view+json": {
       "model_id": "57cc4ec0e6ec42caa3fb1f9350b1c9f0",
       "version_major": 2,
       "version_minor": 0
      },
      "text/plain": [
       "time step:   0%|          | 0/10000 [00:00<?, ?it/s]"
      ]
     },
     "metadata": {},
     "output_type": "display_data"
    },
    {
     "data": {
      "application/vnd.jupyter.widget-view+json": {
       "model_id": "53b17659787a417197a4dcf4db43a7e7",
       "version_major": 2,
       "version_minor": 0
      },
      "text/plain": [
       "time step:   0%|          | 0/10000 [00:00<?, ?it/s]"
      ]
     },
     "metadata": {},
     "output_type": "display_data"
    },
    {
     "data": {
      "application/vnd.jupyter.widget-view+json": {
       "model_id": "2bb7c2c3e35749c98d9cabf512577747",
       "version_major": 2,
       "version_minor": 0
      },
      "text/plain": [
       "time step:   0%|          | 0/10000 [00:00<?, ?it/s]"
      ]
     },
     "metadata": {},
     "output_type": "display_data"
    },
    {
     "data": {
      "application/vnd.jupyter.widget-view+json": {
       "model_id": "46702a8bdb0e41809c4ee088858287c7",
       "version_major": 2,
       "version_minor": 0
      },
      "text/plain": [
       "time step:   0%|          | 0/10000 [00:00<?, ?it/s]"
      ]
     },
     "metadata": {},
     "output_type": "display_data"
    },
    {
     "data": {
      "application/vnd.jupyter.widget-view+json": {
       "model_id": "6ce2ea5fb24843b9ad2606225067ca1e",
       "version_major": 2,
       "version_minor": 0
      },
      "text/plain": [
       "time step:   0%|          | 0/10000 [00:00<?, ?it/s]"
      ]
     },
     "metadata": {},
     "output_type": "display_data"
    },
    {
     "data": {
      "application/vnd.jupyter.widget-view+json": {
       "model_id": "3ecec96765604651910c2eb6c52db823",
       "version_major": 2,
       "version_minor": 0
      },
      "text/plain": [
       "time step:   0%|          | 0/10000 [00:00<?, ?it/s]"
      ]
     },
     "metadata": {},
     "output_type": "display_data"
    },
    {
     "data": {
      "application/vnd.jupyter.widget-view+json": {
       "model_id": "160e621cc262471bb79b0ab43b6a38dc",
       "version_major": 2,
       "version_minor": 0
      },
      "text/plain": [
       "time step:   0%|          | 0/10000 [00:00<?, ?it/s]"
      ]
     },
     "metadata": {},
     "output_type": "display_data"
    },
    {
     "data": {
      "application/vnd.jupyter.widget-view+json": {
       "model_id": "896d48b13b0f46aa90b994b55d3fab30",
       "version_major": 2,
       "version_minor": 0
      },
      "text/plain": [
       "time step:   0%|          | 0/10000 [00:00<?, ?it/s]"
      ]
     },
     "metadata": {},
     "output_type": "display_data"
    },
    {
     "data": {
      "application/vnd.jupyter.widget-view+json": {
       "model_id": "47b2855a5bbe4d7eb89a09095bf38c78",
       "version_major": 2,
       "version_minor": 0
      },
      "text/plain": [
       "time step:   0%|          | 0/10000 [00:00<?, ?it/s]"
      ]
     },
     "metadata": {},
     "output_type": "display_data"
    },
    {
     "data": {
      "application/vnd.jupyter.widget-view+json": {
       "model_id": "0329654c6934469cb777d10d2f390d34",
       "version_major": 2,
       "version_minor": 0
      },
      "text/plain": [
       "time step:   0%|          | 0/10000 [00:00<?, ?it/s]"
      ]
     },
     "metadata": {},
     "output_type": "display_data"
    },
    {
     "data": {
      "application/vnd.jupyter.widget-view+json": {
       "model_id": "a335fe0dbf68446aa80f54ca3997b7c4",
       "version_major": 2,
       "version_minor": 0
      },
      "text/plain": [
       "time step:   0%|          | 0/10000 [00:00<?, ?it/s]"
      ]
     },
     "metadata": {},
     "output_type": "display_data"
    },
    {
     "data": {
      "application/vnd.jupyter.widget-view+json": {
       "model_id": "01dbe4009c7940cc9c7b2b59c9cf0a67",
       "version_major": 2,
       "version_minor": 0
      },
      "text/plain": [
       "time step:   0%|          | 0/10000 [00:00<?, ?it/s]"
      ]
     },
     "metadata": {},
     "output_type": "display_data"
    },
    {
     "data": {
      "application/vnd.jupyter.widget-view+json": {
       "model_id": "f5002d2865754f10b42943d75302fc45",
       "version_major": 2,
       "version_minor": 0
      },
      "text/plain": [
       "time step:   0%|          | 0/10000 [00:00<?, ?it/s]"
      ]
     },
     "metadata": {},
     "output_type": "display_data"
    },
    {
     "data": {
      "application/vnd.jupyter.widget-view+json": {
       "model_id": "dd4f2c079d5940888723605225adc9c8",
       "version_major": 2,
       "version_minor": 0
      },
      "text/plain": [
       "time step:   0%|          | 0/10000 [00:00<?, ?it/s]"
      ]
     },
     "metadata": {},
     "output_type": "display_data"
    },
    {
     "data": {
      "application/vnd.jupyter.widget-view+json": {
       "model_id": "d0f665238dd54f35af90b52dafcccbdc",
       "version_major": 2,
       "version_minor": 0
      },
      "text/plain": [
       "time step:   0%|          | 0/10000 [00:00<?, ?it/s]"
      ]
     },
     "metadata": {},
     "output_type": "display_data"
    },
    {
     "data": {
      "application/vnd.jupyter.widget-view+json": {
       "model_id": "c994919724bd45b79934592501885197",
       "version_major": 2,
       "version_minor": 0
      },
      "text/plain": [
       "time step:   0%|          | 0/10000 [00:00<?, ?it/s]"
      ]
     },
     "metadata": {},
     "output_type": "display_data"
    },
    {
     "data": {
      "application/vnd.jupyter.widget-view+json": {
       "model_id": "bde3f27e414d4da58ab9ca5cb9c4e3d8",
       "version_major": 2,
       "version_minor": 0
      },
      "text/plain": [
       "time step:   0%|          | 0/10000 [00:00<?, ?it/s]"
      ]
     },
     "metadata": {},
     "output_type": "display_data"
    },
    {
     "data": {
      "application/vnd.jupyter.widget-view+json": {
       "model_id": "5ce82fa1e498464a8673acc6bfe449eb",
       "version_major": 2,
       "version_minor": 0
      },
      "text/plain": [
       "time step:   0%|          | 0/10000 [00:00<?, ?it/s]"
      ]
     },
     "metadata": {},
     "output_type": "display_data"
    },
    {
     "data": {
      "application/vnd.jupyter.widget-view+json": {
       "model_id": "257eee0850814532b3881e308b78431f",
       "version_major": 2,
       "version_minor": 0
      },
      "text/plain": [
       "time step:   0%|          | 0/10000 [00:00<?, ?it/s]"
      ]
     },
     "metadata": {},
     "output_type": "display_data"
    },
    {
     "data": {
      "application/vnd.jupyter.widget-view+json": {
       "model_id": "ccc484cfa2614b569de947930f98cd6d",
       "version_major": 2,
       "version_minor": 0
      },
      "text/plain": [
       "time step:   0%|          | 0/10000 [00:00<?, ?it/s]"
      ]
     },
     "metadata": {},
     "output_type": "display_data"
    },
    {
     "data": {
      "application/vnd.jupyter.widget-view+json": {
       "model_id": "144e055527aa4f1f949dc7a3a0de2488",
       "version_major": 2,
       "version_minor": 0
      },
      "text/plain": [
       "time step:   0%|          | 0/10000 [00:00<?, ?it/s]"
      ]
     },
     "metadata": {},
     "output_type": "display_data"
    },
    {
     "data": {
      "application/vnd.jupyter.widget-view+json": {
       "model_id": "4305ca62ad784a71bc1770ba44d81031",
       "version_major": 2,
       "version_minor": 0
      },
      "text/plain": [
       "time step:   0%|          | 0/10000 [00:00<?, ?it/s]"
      ]
     },
     "metadata": {},
     "output_type": "display_data"
    },
    {
     "data": {
      "application/vnd.jupyter.widget-view+json": {
       "model_id": "79f0026d656d46c9992e81b0b5f3589b",
       "version_major": 2,
       "version_minor": 0
      },
      "text/plain": [
       "time step:   0%|          | 0/10000 [00:00<?, ?it/s]"
      ]
     },
     "metadata": {},
     "output_type": "display_data"
    },
    {
     "data": {
      "application/vnd.jupyter.widget-view+json": {
       "model_id": "2a91d43d695a4d11a4d7c8d359232b7a",
       "version_major": 2,
       "version_minor": 0
      },
      "text/plain": [
       "time step:   0%|          | 0/10000 [00:00<?, ?it/s]"
      ]
     },
     "metadata": {},
     "output_type": "display_data"
    },
    {
     "data": {
      "application/vnd.jupyter.widget-view+json": {
       "model_id": "144484b642594c188ec4083c54bbb186",
       "version_major": 2,
       "version_minor": 0
      },
      "text/plain": [
       "time step:   0%|          | 0/10000 [00:00<?, ?it/s]"
      ]
     },
     "metadata": {},
     "output_type": "display_data"
    },
    {
     "data": {
      "application/vnd.jupyter.widget-view+json": {
       "model_id": "ebfa524f311c48f18a214e0b8b5ce69c",
       "version_major": 2,
       "version_minor": 0
      },
      "text/plain": [
       "time step:   0%|          | 0/10000 [00:00<?, ?it/s]"
      ]
     },
     "metadata": {},
     "output_type": "display_data"
    },
    {
     "data": {
      "application/vnd.jupyter.widget-view+json": {
       "model_id": "4693d10fedcc415598f015112e10d40b",
       "version_major": 2,
       "version_minor": 0
      },
      "text/plain": [
       "time step:   0%|          | 0/10000 [00:00<?, ?it/s]"
      ]
     },
     "metadata": {},
     "output_type": "display_data"
    },
    {
     "data": {
      "application/vnd.jupyter.widget-view+json": {
       "model_id": "6e60d57e2924477e81630e95a977203f",
       "version_major": 2,
       "version_minor": 0
      },
      "text/plain": [
       "time step:   0%|          | 0/10000 [00:00<?, ?it/s]"
      ]
     },
     "metadata": {},
     "output_type": "display_data"
    },
    {
     "data": {
      "application/vnd.jupyter.widget-view+json": {
       "model_id": "ca45d8905aae46138a4ae030b243eaac",
       "version_major": 2,
       "version_minor": 0
      },
      "text/plain": [
       "time step:   0%|          | 0/10000 [00:00<?, ?it/s]"
      ]
     },
     "metadata": {},
     "output_type": "display_data"
    },
    {
     "data": {
      "application/vnd.jupyter.widget-view+json": {
       "model_id": "995cac63027044a89776738afd82056b",
       "version_major": 2,
       "version_minor": 0
      },
      "text/plain": [
       "time step:   0%|          | 0/10000 [00:00<?, ?it/s]"
      ]
     },
     "metadata": {},
     "output_type": "display_data"
    },
    {
     "data": {
      "application/vnd.jupyter.widget-view+json": {
       "model_id": "e727119035e343b395b0e78c4c8b5b63",
       "version_major": 2,
       "version_minor": 0
      },
      "text/plain": [
       "time step:   0%|          | 0/10000 [00:00<?, ?it/s]"
      ]
     },
     "metadata": {},
     "output_type": "display_data"
    },
    {
     "data": {
      "application/vnd.jupyter.widget-view+json": {
       "model_id": "3e7f71f81a9346318c3021673986f0a7",
       "version_major": 2,
       "version_minor": 0
      },
      "text/plain": [
       "time step:   0%|          | 0/10000 [00:00<?, ?it/s]"
      ]
     },
     "metadata": {},
     "output_type": "display_data"
    },
    {
     "data": {
      "application/vnd.jupyter.widget-view+json": {
       "model_id": "826c6f914cc64347bdcd446f89c9383b",
       "version_major": 2,
       "version_minor": 0
      },
      "text/plain": [
       "time step:   0%|          | 0/10000 [00:00<?, ?it/s]"
      ]
     },
     "metadata": {},
     "output_type": "display_data"
    },
    {
     "data": {
      "application/vnd.jupyter.widget-view+json": {
       "model_id": "39bddaae3323444a800872ff26f42767",
       "version_major": 2,
       "version_minor": 0
      },
      "text/plain": [
       "time step:   0%|          | 0/10000 [00:00<?, ?it/s]"
      ]
     },
     "metadata": {},
     "output_type": "display_data"
    },
    {
     "data": {
      "application/vnd.jupyter.widget-view+json": {
       "model_id": "bb74b316ccd9455399c80d751ec57a49",
       "version_major": 2,
       "version_minor": 0
      },
      "text/plain": [
       "time step:   0%|          | 0/10000 [00:00<?, ?it/s]"
      ]
     },
     "metadata": {},
     "output_type": "display_data"
    }
   ],
   "source": [
    "\"\"\"Here is the implementation for running the experiment. You have to run the \"run_epsilon_greedy_agent\" function\n",
    "   for multiple times for different parameter combination. Please use smaller run_num and time_step for Debug only.\n",
    "   For example, run_num = 100, time_step = 100\n",
    "\"\"\"\n",
    "# always set the random seed for results reproduction\n",
    "np.random.seed(1234)\n",
    "random.seed(1234)\n",
    "    \n",
    "# set the running parameters (Use 2000 runs and 1000 steps for final report)\n",
    "run_num = 2000\n",
    "time_step = 10000\n",
    "    \n",
    "# CODE HERE: \n",
    "# 1. run the epsilon-greedy agent experiment for initial value = 0.0, epsilon = 0.0\n",
    "# rewards1, results_action1, upper_bound1 = run_epsilon_greedy_agent(run_num, time_step, epsilon=0.0, init=0)\n",
    "\n",
    "# 2. run the epsilon-greedy agent experiment for initial value = 0.0, epsilon = 0.01\n",
    "# rewards2, results_action2, upper_bound2 = run_epsilon_greedy_agent(run_num, time_step, epsilon=0.01, init=0)\n",
    "\n",
    "# 3. run the epsilon-greedy agent experiment for initial value = 0.0, epsilon = 0.1\n",
    "rewards3, results_action3, upper_bound3 = run_epsilon_greedy_agent(run_num, time_step, epsilon=0.1, init=0)"
   ]
  },
  {
   "cell_type": "code",
   "execution_count": 7,
   "metadata": {},
   "outputs": [
    {
     "data": {
      "text/plain": [
       "<Figure size 640x480 with 0 Axes>"
      ]
     },
     "metadata": {},
     "output_type": "display_data"
    },
    {
     "data": {
      "image/png": "[encoded data removed]",
      "text/plain": [
       "<Figure size 1200x800 with 1 Axes>"
      ]
     },
     "metadata": {},
     "output_type": "display_data"
    }
   ],
   "source": [
    "# Plot the \"Average reward\" figure\n",
    "plot_curves([rewards3],\n",
    "            [\"curve legend name for first method\"],\n",
    "            [\"blue\"],\n",
    "            upper_bound3,\n",
    "            \"y axis label\")"
   ]
  },
  {
   "cell_type": "code",
   "execution_count": 10,
   "metadata": {},
   "outputs": [
    {
     "data": {
      "text/plain": [
       "<Figure size 640x480 with 0 Axes>"
      ]
     },
     "metadata": {},
     "output_type": "display_data"
    },
    {
     "data": {
      "image/png": "[encoded data removed]",
      "text/plain": [
       "<Figure size 1200x800 with 1 Axes>"
      ]
     },
     "metadata": {},
     "output_type": "display_data"
    }
   ],
   "source": [
    "# Plot the \"% Optimal action\" figure\n",
    "plot_curves([results_action3],\n",
    "            [\"curve legend name for first method\"],\n",
    "            [\"blue\"],\n",
    "            upper_bound3/upper_bound3, # should be 100%\n",
    "            \"y axis label\")"
   ]
  },
  {
   "cell_type": "markdown",
   "metadata": {},
   "source": [
    "# Q6: Implement the ε-greedy algorithm with optimistic initial values, and the bandit algorithm with UCB action selection"
   ]
  },
  {
   "cell_type": "code",
   "execution_count": 11,
   "metadata": {},
   "outputs": [],
   "source": [
    "\"\"\" Reproducing the Figure 2.3.\n",
    "Please note, instead of using the sample-average technique,\n",
    "Use equation 2.5 to update the Q values with \\alpha=0.1\n",
    "\"\"\"\n",
    "class AlphaEpsilonGreedyAgent(object):\n",
    "    def __init__(self, k: int, init: int, epsilon: float) -> None:\n",
    "        \"\"\"Epsilon greedy bandit agent\n",
    "\n",
    "        Args:\n",
    "            k (int): number of arms\n",
    "            init (init): initial value of Q-values\n",
    "            epsilon (float): random action probability\n",
    "        \"\"\"\n",
    "        # Number of the arms. For example, k = 10 for 10-armed Bandit problem\n",
    "        self.k = k\n",
    "\n",
    "        # Initial Q value\n",
    "        self.init = init\n",
    "\n",
    "        # Epsilon value\n",
    "        self.epsilon = epsilon\n",
    "\n",
    "        # Q-values for each arm\n",
    "        self.Q = None\n",
    "        # Number of times each arm was pulled\n",
    "        self.N = None\n",
    "        # Current total number of steps\n",
    "        self.t = None\n",
    "\n",
    "        self.action_space = np.arange(self.k)\n",
    "        self.alpha = 0.5\n",
    "\n",
    "    def reset(self) -> None:\n",
    "        \"\"\"Initialize or reset Q-values and counts\n",
    "\n",
    "        This method should be called after __init__() at least once\n",
    "        \"\"\"\n",
    "        self.Q = self.init * np.ones(self.k, dtype=np.float32)\n",
    "        self.N = np.zeros(self.k, dtype=int)\n",
    "        self.t = 0\n",
    "\n",
    "    def choose_action(self) -> int:\n",
    "        \"\"\"Choose which arm to pull\n",
    "\n",
    "        With probability 1 - epsilon, choose the best action (break ties arbitrarily, use argmax() from above).\n",
    "        \n",
    "        With probability epsilon, choose a random action.\n",
    "        \"\"\"\n",
    "        # CODE HERE: please implement the epsilon-greedy strategy to select the action\n",
    "        val = random.random()\n",
    "        if(val <= self.epsilon):\n",
    "            return np.random.choice(self.action_space)\n",
    "        else:\n",
    "            return self.argmax(self.Q)\n",
    "        # return int\n",
    "\n",
    "    def update(self, action: int, reward: float) -> None:\n",
    "        \"\"\"Update Q-values and N after observing reward.\n",
    "\n",
    "        Args:\n",
    "            action (int): index of pulled arm\n",
    "            reward (float): reward obtained for pulling arm\n",
    "        \"\"\"\n",
    "        # increase the time step\n",
    "        self.t += 1\n",
    "        \n",
    "        # CODE HERE: implement the incremental update\n",
    "        # update the self.N\n",
    "        \n",
    "        # CODE HERE: update self.Q with the incremental update\n",
    "        # Note: For reproducing Figure 2.3, implement the exponential average (equation 2.5)\n",
    "        # Note: For reproducing Figure 2.4, implement the sample average (equation 2.1)\n",
    "        self.Q[action] = self.Q[action] + (self.alpha)*(reward - self.Q[action])\n",
    "        self.N[action] = self.N[action] + 1\n",
    "\n",
    "    @staticmethod\n",
    "    def argmax(arr) -> int:\n",
    "        \"\"\"Argmax that breaks ties randomly\n",
    "\n",
    "        Takes in a list of values and returns the index of the item with the highest value, breaking ties randomly.\n",
    "\n",
    "        Note: np.argmax returns the first index that matches the maximum, so we define this method to use in EpsilonGreedy and UCB agents.\n",
    "        Args:\n",
    "            arr: sequence of values\n",
    "        \"\"\"\n",
    "        #CODE HERE: implement argmax_a Q(a) for the greedy action selection, breaking ties randomly.\n",
    "        max_val = np.max(arr)\n",
    "\n",
    "        # Getting the indices\n",
    "        indices = np.argwhere(arr == max_val)\n",
    "        return np.random.choice(indices.T[0])"
   ]
  },
  {
   "cell_type": "code",
   "execution_count": 12,
   "metadata": {},
   "outputs": [],
   "source": [
    "\"\"\" Here is the function to run the epsilon greedy agent. Please complete the missing part under \"CODE HERE\"\n",
    "\"\"\"\n",
    "# run epsilon greedy \n",
    "def run_alpha_epsilon_greedy_agent(run_num, time_step, epsilon=0.0, init=0.0):\n",
    "    \"\"\"\n",
    "    Args:\n",
    "        run_num (int): number of runs\n",
    "        time_step (int): number of time steps per run\n",
    "        epsilon (float): epsilon for the agent\n",
    "        init (float): initial value for the Q. (i.e., Q1)\n",
    "    \"\"\"\n",
    "    # DO NOT CHANGE: create the 10-armed Bandit problem\n",
    "    k = 10\n",
    "    env = Bandit(k)\n",
    "    env.reset()\n",
    "\n",
    "    # DO NOT CHANGE: create the agent with proper initial value and epsilon\n",
    "    agent = AlphaEpsilonGreedyAgent(k=k, init=init, epsilon=epsilon)\n",
    "    agent.reset()\n",
    "\n",
    "    # DO NOT CHANGE: create a numpy array to store rewards with shape (run_num, time_step)\n",
    "    # For example, results_rewards[r, t] stores the reward for step t in the r-th running trail\n",
    "    results_rewards = np.empty((run_num, time_step))\n",
    "    \n",
    "    # DO NOT CHANGE: create a numpy array to store optimal action proportion with shape (run_num, time_step)\n",
    "    # For example, results_action[r, t] stores 1 if the selected action at step t in the r-th runing trail is optimal\n",
    "    # and 0 otherwise.\n",
    "    results_action = np.empty((run_num, time_step))\n",
    "    \n",
    "    # DO NOT CHANGE: create a numpy array to save upper_bound (only for plotting rewards; it should be 1 for plotting action optimality proportion)\n",
    "    # For example, upper_bound[r] stores the true action value for the r-th running trail.\n",
    "    upper_bound = np.empty(run_num)\n",
    "    \n",
    "\n",
    "    # loop for trails starts\n",
    "    for r in tqdm.tqdm(range(run_num), desc=\"run number\", position=0):\n",
    "        \n",
    "        # CODE HERE: reset the environment to create a new 10-armed bandit problem.\n",
    "        env.reset()\n",
    "\n",
    "        # CODE HERE: reset the agent\n",
    "        agent.reset()\n",
    "        \n",
    "        # CODE HERE: compute the upper bound for each running trial and update upper_bound[r]\n",
    "        upper_bound[r] = env.q_star.max() #* time_step\n",
    "        \n",
    "        # loop for each trail a fixed number of steps\n",
    "        for t in tqdm.tqdm(range(time_step), desc=\"time step\", position=1, leave=False):\n",
    "            \n",
    "            # CODE HERE: get the best action to execute at step t \n",
    "            act = agent.choose_action()\n",
    "            \n",
    "            # CODE HERE: interact with the environment to receive rewards\n",
    "            reward = env.step(act)\n",
    "            \n",
    "            # Code HERE: update the agent based on the observed reward\n",
    "            agent.update(act, reward)\n",
    "                     \n",
    "            \"\"\"DO NOT CHANGE BELOW\"\"\"\n",
    "            # save the reward\n",
    "            results_rewards[r, t] = reward\n",
    "            # check and save whether the action is optimal\n",
    "            if act in env.best_action():\n",
    "                results_action[r, t] = 1\n",
    "            else:\n",
    "                results_action[r, t] = 0\n",
    "            \n",
    "    return results_rewards, results_action, upper_bound"
   ]
  },
  {
   "cell_type": "code",
   "execution_count": 35,
   "metadata": {},
   "outputs": [],
   "source": [
    "\"\"\" Here is the implementation of the UCB agent. Please complete the missing part.\n",
    "\"\"\"\n",
    "class UCBAgent(object):\n",
    "    def __init__(self, k: int, init: int, c: float) -> None:\n",
    "        \"\"\"Epsilon greedy bandit agent\n",
    "\n",
    "        Args:\n",
    "            k (int): number of arms\n",
    "            init (init): initial value of Q-values\n",
    "            c (float): UCB constant that controls degree of exploration\n",
    "        \"\"\"\n",
    "        # Number of the arms. For example, k = 10 for 10-armed Bandit problem\n",
    "        self.k = k\n",
    "\n",
    "        # Initial Q value\n",
    "        self.init = init\n",
    "\n",
    "        # Epsilon value\n",
    "        self.c = c\n",
    "\n",
    "        # Q-values for each arm\n",
    "        self.Q = None\n",
    "        # Number of times each arm was pulled\n",
    "        self.N = None\n",
    "        # Current total number of steps\n",
    "        self.t = None\n",
    "\n",
    "        self.action_space = np.arange(self.k)\n",
    "        self.action_pref = np.zeros(self.k)\n",
    "        self.alpha = 0.5\n",
    "\n",
    "    def reset(self) -> None:\n",
    "        \"\"\"Initialize or reset Q-values and counts\n",
    "\n",
    "        This method should be called after __init__() at least once\n",
    "        \"\"\"\n",
    "        self.Q = self.init * np.ones(self.k, dtype=np.float32)\n",
    "        self.N = np.zeros(self.k, dtype=int)\n",
    "        self.t = 0\n",
    "\n",
    "    def choose_action(self):\n",
    "        \"\"\"Choose which arm to pull\n",
    "\n",
    "        Use UCB action selection. Be sure to consider the case when N_t = 0 and break ties randomly (use argmax() from above)\n",
    "        \"\"\"\n",
    "        # CODE HERE: use UCB to select the action. Be sure to consider the case when N_t = 0\n",
    "        # and break ties randomly (use argmax() from above). The return should be an integer\n",
    "        # index of the action.\n",
    "        \n",
    "        # Checking for 0's\n",
    "        N_zeros = np.argwhere(self.N == 0)\n",
    "        if(N_zeros.shape[0] != 0):\n",
    "            return np.random.choice(N_zeros.T[0])\n",
    "        \n",
    "        for i in range(self.k):    \n",
    "            self.action_pref[i] = self.Q[i] + (self.c * np.sqrt(np.log(self.t) / self.N[i]))\n",
    "        \n",
    "        return self.argmax(self.action_pref)\n",
    "        # return int\n",
    "\n",
    "\n",
    "    def update(self, action: int, reward: float) -> None:\n",
    "        \"\"\"Update Q-values and N after observing reward.\n",
    "\n",
    "        Args:\n",
    "            action (int): index of pulled arm\n",
    "            reward (float): reward obtained for pulling arm\n",
    "        \"\"\"\n",
    "        # increase the time step\n",
    "        self.t += 1\n",
    "\n",
    "        # CODE HERE: implement the incremental update\n",
    "        # update the self.N\n",
    "\n",
    "        # CODE HERER: update self.\n",
    "        # Note: For reproducing Figure 2.3, implement the exponential average (equation 2.5)\n",
    "        # Note: For reproducing Figure 2.4, implement the sample average (equation 2.1)\n",
    "        self.Q[action] = self.Q[action] + (self.alpha)*(reward - self.Q[action])\n",
    "        self.N[action] = self.N[action] + 1\n",
    "\n",
    "    @staticmethod\n",
    "    def argmax(arr) -> int:\n",
    "        \"\"\"Argmax that breaks ties randomly\n",
    "\n",
    "        Takes in a list of values and returns the index of the item with the highest value, breaking ties randomly.\n",
    "\n",
    "        Note: np.argmax returns the first index that matches the maximum, so we define this method to use in EpsilonGreedy and UCB agents.\n",
    "        Args:\n",
    "            arr: sequence of values\n",
    "        \"\"\"\n",
    "        #CODE HERE: implement argmax_a Q(a) for the greedy action selection, breaking ties randomly.\n",
    "        # Getting the max value\n",
    "        max_val = np.max(arr)\n",
    "\n",
    "        # Getting the indices\n",
    "        indices = np.argwhere(arr == max_val)\n",
    "        return np.random.choice(indices.T[0])\n",
    "\n",
    "        # return int\n"
   ]
  },
  {
   "cell_type": "code",
   "execution_count": 23,
   "metadata": {},
   "outputs": [],
   "source": [
    "\"\"\"Here is the implementation of running the UCB agent. Please complete the missing part.\n",
    "\"\"\"\n",
    "# run epsilon greedy \n",
    "def run_ucb_agent(run_num, time_step, c):\n",
    "    # create the 10-armed Bandit problem\n",
    "    k = 10\n",
    "    env = Bandit(k)\n",
    "    env.reset()\n",
    "\n",
    "    # create the agent\n",
    "    my_agent = UCBAgent(k=k, init=0.0, c=c)\n",
    "    my_agent.reset()\n",
    "\n",
    "    # create a numpy array\n",
    "    results_rewards = np.empty((run_num, time_step))\n",
    "    \n",
    "    # create a numpy array\n",
    "    results_action = np.empty((run_num, time_step))\n",
    "\n",
    "    # loop starts\n",
    "    upper_bound = np.empty(run_num)\n",
    "    for r in tqdm.tqdm(range(run_num), desc=\"run number\", position=0):\n",
    "       \n",
    "        # CODE HERE: reset the environment and the agent\n",
    "        # create a new 10-armed bandit problem\n",
    "        env.reset()\n",
    "        \n",
    "        # CODE HERE: create a new agent\n",
    "        my_agent.reset()\n",
    "\n",
    "        # CODE HERE: update upper_bound[r]\n",
    "        upper_bound[r] = env.q_star.max() #* time_step\n",
    "\n",
    "        for t in tqdm.tqdm(range(time_step), desc=\"time step\", position=1, leave=False):\n",
    "            # CODE HERE: choose action for time step t\n",
    "            # act = int\n",
    "            act = my_agent.choose_action()\n",
    "\n",
    "            # CODE HERE: interact with the environment\n",
    "            # reward = float\n",
    "            reward = env.step(act)\n",
    "            \n",
    "            # CODE HERE: update the bandit agent with the observed reward\n",
    "            my_agent.update(act, reward)\n",
    "            \n",
    "            # save the reward\n",
    "            results_rewards[r, t] = reward\n",
    "            # compute the optimality\n",
    "            if act in env.best_action():\n",
    "                results_action[r, t] = 1\n",
    "            else:\n",
    "                results_action[r, t] = 0\n",
    "            \n",
    "    return results_rewards, results_action, upper_bound"
   ]
  },
  {
   "cell_type": "markdown",
   "metadata": {},
   "source": [
    "# Reproduce Figure 2.3 using exponential average (equation 2.5 with alpha = 0.1)"
   ]
  },
  {
   "cell_type": "code",
   "execution_count": null,
   "metadata": {},
   "outputs": [],
   "source": [
    "\"\"\"Here is the implementation for running the experiment. You have to run the \"run_ucb_agent\" function\n",
    "   for multiple times for different parameter combination. Please use smaller run_num and time_step for Debug only.\n",
    "   For example, run_num = 100, time_step = 1000\n",
    "\"\"\"\n",
    "# set the running parameters\n",
    "run_num = 200\n",
    "time_step = 100\n",
    "    \n",
    "# CODE HERE: \n",
    "# 1. Run the epsilon-greedy agent experiment for initial value = 0.0, epsilon = 0.0\n",
    "rewards, results_action, upper_bound = run_ucb_agent(run_num, time_step, c=2)\n",
    "# 2. Run the epsilon-greedy agent experiment for initial value = 5.0, epsilon = 0.0 \n",
    "# 3. Run the epsilon-greedy agent experiment for initial value = 0.0, epsilon = 0.1 \n",
    "# 4. Run the epsilon-greedy agent experiment for initial value = 5.0, epsilon = 0.1 \n",
    "# 5. Run the UCB agent experiment for c=2"
   ]
  },
  {
   "cell_type": "code",
   "execution_count": null,
   "metadata": {},
   "outputs": [],
   "source": [
    "# Plot the \"% Optimal action\" figure\n",
    "plot_curves([results_action],\n",
    "            [\"curve legend name for first method\"],\n",
    "            [\"blue\"],\n",
    "            upper_bound, # should be 100%\n",
    "            \"y axis label\")"
   ]
  },
  {
   "cell_type": "markdown",
   "metadata": {},
   "source": [
    "# Reproduce Figure 2.4 using sample average (equation 2.1)"
   ]
  },
  {
   "cell_type": "code",
   "execution_count": null,
   "metadata": {},
   "outputs": [],
   "source": [
    "\"\"\"Here is the implementation for running the experiment. You have to run the \"run_ucb_agent\" function\n",
    "   for multiple times for different parameter combination. Please use smaller run_num and time_step for Debug only.\n",
    "   For example, run_num = 100, time_step = 1000\n",
    "\"\"\"\n",
    "# always set the random seed for results reproduction\n",
    "np.random.seed(1234)\n",
    "random.seed(1234)\n",
    "\n",
    "# set the number of run\n",
    "run_num = 2000\n",
    "# set the number of time steps\n",
    "time_step = 1000\n",
    "\n",
    "# CODE HERE: \n",
    "# 1. Run the epsilon-greedy agent experiment for initial value = 0.0, epsilon = 0.0\n",
    "# 2. Run the epsilon-greedy agent experiment for initial value = 5.0, epsilon = 0.0 \n",
    "# 3. Run the epsilon-greedy agent experiment for initial value = 0.0, epsilon = 0.1 \n",
    "# 4. Run the epsilon-greedy agent experiment for initial value = 5.0, epsilon = 0.1 \n",
    "# 5. Run the UCB agent experiment for c=2"
   ]
  },
  {
   "cell_type": "code",
   "execution_count": null,
   "metadata": {},
   "outputs": [],
   "source": [
    "# Plot the \"Average reward\" figure\n",
    "plot_curves([rewards_array_for_first_method],\n",
    "            [\"curve legend name for first method\"],\n",
    "            [\"curve color for first method\"],\n",
    "            upper_bound_for_first_method,\n",
    "            \"y axis label\")"
   ]
  },
  {
   "cell_type": "markdown",
   "metadata": {},
   "source": [
    "## Q7 Investigating nonstationary environments."
   ]
  },
  {
   "cell_type": "code",
   "execution_count": null,
   "metadata": {},
   "outputs": [],
   "source": [
    "def generate_bandits(arms = 10):\n",
    "    # CODE HERE: Generate a k-armed bandit using the procedure described in Section 2.3\n",
    "    \n",
    "\n",
    "def generate_reward(bandits, arm):\n",
    "    # CODE HERE: Generate a random reward using the specified arm of the bandit, \n",
    "    # with reward distribution as described in Section 2.3\n",
    "\n",
    "    \n",
    "def gen_argmax(l, return_all = False):\n",
    "    # CODE HERE: Generalized argmax that finds all maximal elements and breaks ties \n",
    "    # If return_all is true, returns all maximal indices;\n",
    "    # otherwise, tie is broken randomly and some element is returned\n",
    "\n",
    "def plot_avg_se(data, num_se = 1.96, linestyle = 'k-'):\n",
    "    means = []\n",
    "    lowers = []\n",
    "    uppers = []\n",
    "    N = len(data)\n",
    "    T = len(data[0])\n",
    "    for t in range(T):\n",
    "        data_t = [d[t] for d in data]\n",
    "        mean = np.mean(data_t)\n",
    "        se = np.std(data_t) / np.sqrt(N)\n",
    "        means += [mean]\n",
    "        lowers += [mean - num_se * se]\n",
    "        uppers += [mean + num_se * se]\n",
    "    h, = plt.plot(range(1,T+1), means, linestyle)\n",
    "    plt.fill_between(range(1,T+1), lowers, uppers, color = linestyle[0], alpha = 0.2)\n",
    "    return h\n",
    "\n",
    "\n",
    "def q7(arms = 10, steps = 10000, trials = 2000, epsilon = 0.1, alpha = 0.1):\n",
    "    rewards = [[] for _ in range(2)]\n",
    "    optimals = [[] for _ in range(2)]\n",
    "    upper_bound = []\n",
    "    for trial in range(trials):\n",
    "        if (trial + 1) % 10 == 0:\n",
    "            print(trial + 1)\n",
    "            \n",
    "        # Initialize the bandit (all q* = 0)\n",
    "        # Implement epsilon-greedy in the loop;\n",
    "        # keep track of Q, N estimates and rewards, optimal actions, upper bounds\n",
    "        # for both alpha = None and alpha = 0.1\n",
    "        \n",
    "        # CODE HERE: Initilization        \n",
    "\n",
    "        \n",
    "        # CODE HERE: LOOP        \n",
    "        for t in range(steps):\n",
    "            # Hint: you should determine best action at time t and its value, do the Epsilon-greedy action selection            \n",
    "            # And explore both alpha = None and alpha = 0.1 at the same time \n",
    "            # Please use the variable name of: rs_none  rs_alpha to store the rewards and opts_none opts_alpha to store the optimal actions\n",
    "            # and use upper to represent the upper bound value.\n",
    "             \n",
    "            \n",
    "        # Store rewards and whether chosen actions were optimal\n",
    "        rewards[0] += [rs_none]\n",
    "        rewards[1] += [rs_alpha]\n",
    "        optimals[0] += [opts_none]\n",
    "        optimals[1] += [opts_alpha]\n",
    "        upper_bound += [upper]\n",
    "\n",
    "\n",
    "    # Plot average reward\n",
    "    plt.figure()\n",
    "    hs = []\n",
    "    hs += [plot_avg_se(rewards[0], linestyle = 'b-')]\n",
    "    hs += [plot_avg_se(rewards[1], linestyle = 'k-')]\n",
    "    hs += [plot_avg_se(upper_bound, linestyle = 'k--')]\n",
    "    plt.gca().set_xlim(0, steps)\n",
    "    plt.gca().set_ylim(0, 2)\n",
    "    plt.xlabel(\"Steps\")\n",
    "    plt.ylabel(\"Average reward\")\n",
    "    plt.legend(hs, [\"Sample average\", r\"Exponential average, $\\alpha = 0.1$\", \"Upper bound\"])\n",
    "    plt.show()\n",
    "\n",
    "\n",
    "    # Plot proportion of time optimal action was chosen\n",
    "    plt.figure()\n",
    "    hs = []\n",
    "    hs += [plot_avg_se(optimals[0], linestyle = 'b-')]\n",
    "    hs += [plot_avg_se(optimals[1], linestyle = 'k-')]\n",
    "    hs += [plt.hlines(1, 1, steps, linestyles = 'dashed')]\n",
    "    plt.gca().set_xlim(0, steps)\n",
    "    plt.gca().set_ylim(0, 1.05)\n",
    "    plt.xlabel(\"Steps\")\n",
    "    plt.ylabel(\"Proportion optimal action\")\n",
    "    plt.legend(hs, [\"Sample average\", r\"Exponential average, $\\alpha = 0.1$\", \"Upper bound\"])\n",
    "    plt.show()"
   ]
  },
  {
   "cell_type": "code",
   "execution_count": null,
   "metadata": {},
   "outputs": [],
   "source": [
    "q7(steps = 10000, trials = 2000)"
   ]
  }
 ],
 "metadata": {
  "kernelspec": {
   "display_name": "Python 3 (ipykernel)",
   "language": "python",
   "name": "python3"
  },
  "language_info": {
   "codemirror_mode": {
    "name": "ipython",
    "version": 3
   },
   "file_extension": ".py",
   "mimetype": "text/x-python",
   "name": "python",
   "nbconvert_exporter": "python",
   "pygments_lexer": "ipython3",
   "version": "3.11.9"
  }
 },
 "nbformat": 4,
 "nbformat_minor": 4
}
