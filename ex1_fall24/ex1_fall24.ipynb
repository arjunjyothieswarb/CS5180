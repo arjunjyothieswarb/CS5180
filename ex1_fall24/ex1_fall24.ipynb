{
 "cells": [
  {
   "cell_type": "markdown",
   "metadata": {},
   "source": [
    "# Please install the following python libraries\n",
    "- python3: https://www.python.org/\n",
    "- numpy: https://numpy.org/install/\n",
    "- tqdm: https://github.com/tqdm/tqdm#installation\n",
    "- matplotlib: https://matplotlib.org/stable/users/installing/index.html\n",
    "- Starter Code was tested on Python 3.11.5\n",
    "\n",
    "If you encounter the error: \"IProgress not found. Please update jupyter & ipywidgets\"\n",
    "    \n",
    "Please install the ipywidgets as follows:\n",
    "\n",
    "    with pip, do\n",
    "    - pip install ipywidgets\n",
    "    \n",
    "    with conda, do\n",
    "    - conda install -c conda-forge ipywidgets\n",
    "    \n",
    "Restart your notebook "
   ]
  },
  {
   "cell_type": "code",
   "execution_count": 1,
   "metadata": {},
   "outputs": [
    {
     "name": "stdout",
     "output_type": "stream",
     "text": [
      "Requirement already satisfied: ipywidgets in c:\\users\\ajbbh\\appdata\\local\\packages\\pythonsoftwarefoundation.python.3.11_qbz5n2kfra8p0\\localcache\\local-packages\\python311\\site-packages (8.1.5)\n",
      "Requirement already satisfied: comm>=0.1.3 in c:\\users\\ajbbh\\appdata\\local\\packages\\pythonsoftwarefoundation.python.3.11_qbz5n2kfra8p0\\localcache\\local-packages\\python311\\site-packages (from ipywidgets) (0.2.2)\n",
      "Requirement already satisfied: ipython>=6.1.0 in c:\\users\\ajbbh\\appdata\\local\\packages\\pythonsoftwarefoundation.python.3.11_qbz5n2kfra8p0\\localcache\\local-packages\\python311\\site-packages (from ipywidgets) (8.27.0)\n",
      "Requirement already satisfied: traitlets>=4.3.1 in c:\\users\\ajbbh\\appdata\\local\\packages\\pythonsoftwarefoundation.python.3.11_qbz5n2kfra8p0\\localcache\\local-packages\\python311\\site-packages (from ipywidgets) (5.14.3)\n",
      "Requirement already satisfied: widgetsnbextension~=4.0.12 in c:\\users\\ajbbh\\appdata\\local\\packages\\pythonsoftwarefoundation.python.3.11_qbz5n2kfra8p0\\localcache\\local-packages\\python311\\site-packages (from ipywidgets) (4.0.13)\n",
      "Requirement already satisfied: jupyterlab-widgets~=3.0.12 in c:\\users\\ajbbh\\appdata\\local\\packages\\pythonsoftwarefoundation.python.3.11_qbz5n2kfra8p0\\localcache\\local-packages\\python311\\site-packages (from ipywidgets) (3.0.13)\n",
      "Requirement already satisfied: decorator in c:\\users\\ajbbh\\appdata\\local\\packages\\pythonsoftwarefoundation.python.3.11_qbz5n2kfra8p0\\localcache\\local-packages\\python311\\site-packages (from ipython>=6.1.0->ipywidgets) (5.1.1)\n",
      "Requirement already satisfied: jedi>=0.16 in c:\\users\\ajbbh\\appdata\\local\\packages\\pythonsoftwarefoundation.python.3.11_qbz5n2kfra8p0\\localcache\\local-packages\\python311\\site-packages (from ipython>=6.1.0->ipywidgets) (0.19.1)\n",
      "Requirement already satisfied: matplotlib-inline in c:\\users\\ajbbh\\appdata\\local\\packages\\pythonsoftwarefoundation.python.3.11_qbz5n2kfra8p0\\localcache\\local-packages\\python311\\site-packages (from ipython>=6.1.0->ipywidgets) (0.1.7)\n",
      "Requirement already satisfied: prompt-toolkit<3.1.0,>=3.0.41 in c:\\users\\ajbbh\\appdata\\local\\packages\\pythonsoftwarefoundation.python.3.11_qbz5n2kfra8p0\\localcache\\local-packages\\python311\\site-packages (from ipython>=6.1.0->ipywidgets) (3.0.47)\n",
      "Requirement already satisfied: pygments>=2.4.0 in c:\\users\\ajbbh\\appdata\\local\\packages\\pythonsoftwarefoundation.python.3.11_qbz5n2kfra8p0\\localcache\\local-packages\\python311\\site-packages (from ipython>=6.1.0->ipywidgets) (2.18.0)\n",
      "Requirement already satisfied: stack-data in c:\\users\\ajbbh\\appdata\\local\\packages\\pythonsoftwarefoundation.python.3.11_qbz5n2kfra8p0\\localcache\\local-packages\\python311\\site-packages (from ipython>=6.1.0->ipywidgets) (0.6.3)\n",
      "Requirement already satisfied: typing-extensions>=4.6 in c:\\users\\ajbbh\\appdata\\local\\packages\\pythonsoftwarefoundation.python.3.11_qbz5n2kfra8p0\\localcache\\local-packages\\python311\\site-packages (from ipython>=6.1.0->ipywidgets) (4.12.2)\n",
      "Requirement already satisfied: colorama in c:\\users\\ajbbh\\appdata\\local\\packages\\pythonsoftwarefoundation.python.3.11_qbz5n2kfra8p0\\localcache\\local-packages\\python311\\site-packages (from ipython>=6.1.0->ipywidgets) (0.4.6)\n",
      "Requirement already satisfied: parso<0.9.0,>=0.8.3 in c:\\users\\ajbbh\\appdata\\local\\packages\\pythonsoftwarefoundation.python.3.11_qbz5n2kfra8p0\\localcache\\local-packages\\python311\\site-packages (from jedi>=0.16->ipython>=6.1.0->ipywidgets) (0.8.4)\n",
      "Requirement already satisfied: wcwidth in c:\\users\\ajbbh\\appdata\\local\\packages\\pythonsoftwarefoundation.python.3.11_qbz5n2kfra8p0\\localcache\\local-packages\\python311\\site-packages (from prompt-toolkit<3.1.0,>=3.0.41->ipython>=6.1.0->ipywidgets) (0.2.13)\n",
      "Requirement already satisfied: executing>=1.2.0 in c:\\users\\ajbbh\\appdata\\local\\packages\\pythonsoftwarefoundation.python.3.11_qbz5n2kfra8p0\\localcache\\local-packages\\python311\\site-packages (from stack-data->ipython>=6.1.0->ipywidgets) (2.1.0)\n",
      "Requirement already satisfied: asttokens>=2.1.0 in c:\\users\\ajbbh\\appdata\\local\\packages\\pythonsoftwarefoundation.python.3.11_qbz5n2kfra8p0\\localcache\\local-packages\\python311\\site-packages (from stack-data->ipython>=6.1.0->ipywidgets) (2.4.1)\n",
      "Requirement already satisfied: pure-eval in c:\\users\\ajbbh\\appdata\\local\\packages\\pythonsoftwarefoundation.python.3.11_qbz5n2kfra8p0\\localcache\\local-packages\\python311\\site-packages (from stack-data->ipython>=6.1.0->ipywidgets) (0.2.3)\n",
      "Requirement already satisfied: six>=1.12.0 in c:\\users\\ajbbh\\appdata\\local\\packages\\pythonsoftwarefoundation.python.3.11_qbz5n2kfra8p0\\localcache\\local-packages\\python311\\site-packages (from asttokens>=2.1.0->stack-data->ipython>=6.1.0->ipywidgets) (1.16.0)\n"
     ]
    },
    {
     "name": "stderr",
     "output_type": "stream",
     "text": [
      "\n",
      "[notice] A new release of pip is available: 24.0 -> 24.2\n",
      "[notice] To update, run: C:\\Users\\ajbbh\\AppData\\Local\\Microsoft\\WindowsApps\\PythonSoftwareFoundation.Python.3.11_qbz5n2kfra8p0\\python.exe -m pip install --upgrade pip\n"
     ]
    }
   ],
   "source": [
    "!pip install ipywidgets"
   ]
  },
  {
   "cell_type": "code",
   "execution_count": 2,
   "metadata": {},
   "outputs": [],
   "source": [
    "import numpy as np\n",
    "import random\n",
    "import tqdm.notebook as tqdm\n",
    "import matplotlib.pyplot as plt"
   ]
  },
  {
   "cell_type": "code",
   "execution_count": 3,
   "metadata": {},
   "outputs": [],
   "source": [
    "\"\"\"Here is the implementation of the 10-armed Bandit problem/testbed. DO NOT CHANGE \n",
    "   Note that:\n",
    "       - call the reset function whenever you want to generate a new 10-armed Bandit problem\n",
    "\"\"\"\n",
    "class Bandit(object):\n",
    "    def __init__(self, k=10):\n",
    "        # Number of the actions\n",
    "        self.k = k\n",
    "\n",
    "        # Numpy array to store the true action value the k arms/actions\n",
    "        self.q_star = np.empty(self.k)\n",
    "\n",
    "    def reset(self):\n",
    "        # Reset the true action values to generate a new k-armed bandit problem\n",
    "        # Value for each arm is randomly sampled from a normal distribution \n",
    "        # with mean = 0, variance = 1.0. \n",
    "        self.q_star = np.random.normal(loc=0, scale=1, size=self.k)\n",
    "        \n",
    "    def best_action(self):\n",
    "        \"\"\"Return the indices of all best actions/arms in a list variable\n",
    "        \"\"\"\n",
    "        return np.where(self.q_star == self.q_star.max())[0].tolist()  \n",
    "\n",
    "    def step(self, act):\n",
    "        \"\"\"\n",
    "        Args:\n",
    "            act (int): index of the action\n",
    "        \"\"\"\n",
    "        # Compute the reward for each action\n",
    "        # The reward for each action at time step t is sampled from a Gaussian distribution\n",
    "        # For the k-th arm, the mean = q_star[k] (true value) and variance = 1\n",
    "        rewards = np.random.normal(loc=self.q_star, scale=np.ones(10), size=self.k)\n",
    "        return rewards[act]"
   ]
  },
  {
   "cell_type": "code",
   "execution_count": 4,
   "metadata": {},
   "outputs": [],
   "source": [
    "\"\"\"Here is the plotting function you can directly use to plot the figures needed for Q5 and Q6\n",
    "\"\"\"\n",
    "\n",
    "# plot function\n",
    "def plot_curves(arr_list, legend_list, color_list, upper_bound, ylabel):\n",
    "    \"\"\"\n",
    "    Args:\n",
    "        arr_list (list): list of results arrays to plot\n",
    "        legend_list (list): list of legends corresponding to each result array\n",
    "        color_list (list): list of color corresponding to each result array\n",
    "        upper_bound (numpy array): array contains the best possible rewards for 2000 runs. the shape should be (2000,)\n",
    "        ylabel (string): label of the Y axis\n",
    "        \n",
    "        Note that, make sure the elements in the arr_list, legend_list and color_list are associated with each other correctly. \n",
    "        Do not forget to change the ylabel for different plots.\n",
    "        \n",
    "        To plot the upper bound for % Optimal action figure, set upper_bound = np.ones(num_step), where num_step is the number of steps.\n",
    "    \"\"\"\n",
    "    # set the figure type\n",
    "    plt.clf()\n",
    "    fig, ax = plt.subplots(figsize=(12, 8))\n",
    "    \n",
    "    # PLEASE NOTE: Change the labels for different plots\n",
    "    ax.set_ylabel(ylabel)\n",
    "    ax.set_xlabel(\"Steps\")\n",
    "    ax.set_ylim(-0.1, upper_bound.mean() + 0.1)\n",
    "    \n",
    "    # ploth results\n",
    "    h_list = []\n",
    "    for arr, legend, color in zip(arr_list, legend_list, color_list):\n",
    "        # compute the standard error\n",
    "        arr_err = arr.std(axis=0) / np.sqrt(arr.shape[0])\n",
    "        # plot the mean\n",
    "        h, = ax.plot(range(arr.shape[1]), arr.mean(axis=0), color=color, label=legend)\n",
    "        # plot the confidence band\n",
    "        arr_err = 1.96 * arr_err\n",
    "        ax.fill_between(range(arr.shape[1]), arr.mean(axis=0) - arr_err, arr.mean(axis=0) + arr_err, alpha=0.3, color=color)\n",
    "        # save the plot handle\n",
    "        h_list.append(h) \n",
    "    \n",
    "    # plot the upper bound\n",
    "    h = plt.axhline(y=upper_bound.mean(), color='k', linestyle='--', label=\"upper bound\")\n",
    "    h_list.append(h)\n",
    "    \n",
    "    # plot legends\n",
    "    ax.legend(handles=h_list)  \n",
    "    plt.show()"
   ]
  },
  {
   "cell_type": "markdown",
   "metadata": {},
   "source": [
    "# Q5: Implement the ε-greedy algorithm with incremental update"
   ]
  },
  {
   "cell_type": "markdown",
   "metadata": {},
   "source": [
    "The following is the scaffolding code for the epsilon-greedy agent. \n",
    "\n",
    "    1. Reset function: reset the Q value for each arm/action to be self.init. (e.g., self.init = 0)\n",
    "    \n",
    "    2. Choose action: select the arm/action using epsilon-greedy strategy.\n",
    "    \n",
    "    3. Update: update the time steps, Q values for k arms/actions and numbers of selecting each arm/action.\n",
    "    \n",
    "    4. argmax: find the indices of all maximal values in a numpu array.\n",
    "    \n",
    "Please finish the code under \"CODE HERE\""
   ]
  },
  {
   "cell_type": "code",
   "execution_count": 5,
   "metadata": {},
   "outputs": [],
   "source": [
    "class EpsilonGreedyAgent(object):\n",
    "    def __init__(self, k: int, init: int, epsilon: float) -> None:\n",
    "        \"\"\"Epsilon greedy bandit agent\n",
    "\n",
    "        Args:\n",
    "            k (int): number of arms\n",
    "            init (init): initial value of Q-values\n",
    "            epsilon (float): random action probability\n",
    "        \"\"\"\n",
    "        # Number of the arms. For example, k = 10 for 10-armed Bandit problem\n",
    "        self.k = k\n",
    "\n",
    "        # Initial Q value\n",
    "        self.init = init\n",
    "\n",
    "        # Epsilon value\n",
    "        self.epsilon = epsilon\n",
    "\n",
    "        # Q-values for each arm\n",
    "        self.Q = None\n",
    "        # Number of times each arm was pulled\n",
    "        self.N = None\n",
    "        # Current total number of steps\n",
    "        self.t = None\n",
    "\n",
    "        self.action_space = np.arange(self.k)\n",
    "\n",
    "    def reset(self) -> None:\n",
    "        \"\"\"Initialize or reset Q-values and counts\n",
    "\n",
    "        This method should be called after __init__() at least once\n",
    "        \"\"\"\n",
    "        self.Q = self.init * np.ones(self.k, dtype=np.float32)\n",
    "        self.N = np.zeros(self.k, dtype=int)\n",
    "        self.t = 0\n",
    "\n",
    "    def choose_action(self) -> int:\n",
    "        \"\"\"Choose which arm to pull\n",
    "\n",
    "        With probability 1 - epsilon, choose the best action (break ties arbitrarily, use argmax() from above).\n",
    "        \n",
    "        With probability epsilon, choose a random action.\n",
    "        \"\"\"\n",
    "        # CODE HERE: please implement the epsilon-greedy strategy to select the action\n",
    "        val = random.random()\n",
    "        if(val <= self.epsilon):\n",
    "            return np.random.choice(self.action_space)\n",
    "        else:\n",
    "            return self.argmax(self.Q)\n",
    "        # return int \n",
    "\n",
    "    def update(self, action: int, reward: float) -> None:\n",
    "        \"\"\"Update Q-values and N after observing reward.\n",
    "\n",
    "        Args:\n",
    "            action (int): index of pulled arm\n",
    "            reward (float): reward obtained for pulling arm\n",
    "        \"\"\"\n",
    "        # increase the time step\n",
    "        self.t += 1\n",
    "        \n",
    "        # CODE HERE: implement the incremental update\n",
    "        # update the self.N\n",
    "\n",
    "        \n",
    "        # CODE HERE: update self.Q with the incremental update\n",
    "        # Note: please use the sample-average technique in equation 2.1\n",
    "        if self.N[action] == 0:\n",
    "            self.Q[action] = reward\n",
    "        else:\n",
    "            self.Q[action] = self.Q[action] + (1/self.N[action])*(reward - self.Q[action])\n",
    "        self.N[action] = self.N[action] + 1\n",
    "\n",
    "\n",
    "    @staticmethod\n",
    "    def argmax(arr) -> int:\n",
    "        \"\"\"Argmax that breaks ties randomly\n",
    "\n",
    "        Takes in a list of values and returns the index of the item with the highest value, breaking ties randomly.\n",
    "\n",
    "        Note: np.argmax returns the first index that matches the maximum, so we define this method to use in EpsilonGreedy and UCB agents.\n",
    "        Args:\n",
    "            arr: sequence of values\n",
    "        \"\"\"\n",
    "        #CODE HERE: implement argmax_a Q(a) for the greedy action selection, breaking ties randomly.\n",
    "        # Getting the max value\n",
    "        max_val = np.max(arr)\n",
    "\n",
    "        # Getting the indices\n",
    "        indices = np.argwhere(arr == max_val)\n",
    "        return np.random.choice(indices.T[0])\n",
    "\n",
    "        # return int"
   ]
  },
  {
   "cell_type": "code",
   "execution_count": 6,
   "metadata": {},
   "outputs": [],
   "source": [
    "\"\"\" Here is the function to run the epsilon greedy agent. Please complete the missing part under \"CODE HERE\"\n",
    "\"\"\"\n",
    "# run epsilon greedy \n",
    "def run_epsilon_greedy_agent(run_num, time_step, epsilon=0.0, init=0.0):\n",
    "    \"\"\"\n",
    "    Args:\n",
    "        run_num (int): number of runs\n",
    "        time_step (int): number of time steps per run\n",
    "        epsilon (float): epsilon for the agent\n",
    "        init (float): initial value for the Q. (i.e., Q1)\n",
    "    \"\"\"\n",
    "    # DO NOT CHANGE: create the 10-armed Bandit problem\n",
    "    k = 10\n",
    "    env = Bandit(k)\n",
    "    env.reset()\n",
    "\n",
    "    # DO NOT CHANGE: create the agent with proper initial value and epsilon\n",
    "    agent = EpsilonGreedyAgent(k=k, init=init, epsilon=epsilon)\n",
    "    agent.reset()\n",
    "\n",
    "    # DO NOT CHANGE: create a numpy array to store rewards with shape (run_num, time_step)\n",
    "    # For example, results_rewards[r, t] stores the reward for step t in the r-th running trail\n",
    "    results_rewards = np.empty((run_num, time_step))\n",
    "    \n",
    "    # DO NOT CHANGE: create a numpy array to store optimal action proportion with shape (run_num, time_step)\n",
    "    # For example, results_action[r, t] stores 1 if the selected action at step t in the r-th runing trail is optimal\n",
    "    # and 0 otherwise.\n",
    "    results_action = np.empty((run_num, time_step))\n",
    "    \n",
    "    # DO NOT CHANGE: create a numpy array to save upper_bound (only for plotting rewards; it should be 1 for plotting action optimality proportion)\n",
    "    # For example, upper_bound[r] stores the true action value for the r-th running trail.\n",
    "    upper_bound = np.empty(run_num)\n",
    "    \n",
    "\n",
    "    # loop for trails starts\n",
    "    for r in tqdm.tqdm(range(run_num), desc=\"run number\", position=0):\n",
    "        \n",
    "        # CODE HERE: reset the environment to create a new 10-armed bandit problem.\n",
    "        env.reset()\n",
    "\n",
    "        # CODE HERE: reset the agent\n",
    "        agent.reset()\n",
    "        \n",
    "        # CODE HERE: compute the upper bound for each running trial and update upper_bound[r]\n",
    "        upper_bound[r] = env.q_star.max() #* time_step\n",
    "        \n",
    "        # loop for each trail a fixed number of steps\n",
    "        for t in tqdm.tqdm(range(time_step), desc=\"time step\", position=1, leave=False):\n",
    "            \n",
    "            # CODE HERE: get the best action to execute at step t \n",
    "            act = agent.choose_action()\n",
    "            \n",
    "            # CODE HERE: interact with the environment to receive rewards\n",
    "            reward = env.step(act)\n",
    "            \n",
    "            # Code HERE: update the agent based on the observed reward\n",
    "            agent.update(act, reward)\n",
    "                     \n",
    "            \"\"\"DO NOT CHANGE BELOW\"\"\"\n",
    "            # save the reward\n",
    "            results_rewards[r, t] = reward\n",
    "            # check and save whether the action is optimal\n",
    "            if act in env.best_action():\n",
    "                results_action[r, t] = 1\n",
    "            else:\n",
    "                results_action[r, t] = 0\n",
    "            \n",
    "    return results_rewards, results_action, upper_bound"
   ]
  },
  {
   "cell_type": "code",
   "execution_count": 7,
   "metadata": {},
   "outputs": [
    {
     "data": {
      "application/vnd.jupyter.widget-view+json": {
       "model_id": "696d4df8b5be45cfa9c13c503812e14d",
       "version_major": 2,
       "version_minor": 0
      },
      "text/plain": [
       "run number:   0%|          | 0/200 [00:00<?, ?it/s]"
      ]
     },
     "metadata": {},
     "output_type": "display_data"
    },
    {
     "data": {
      "application/vnd.jupyter.widget-view+json": {
       "model_id": "b622f18f768b4a17a7cc89a7b70ef7f4",
       "version_major": 2,
       "version_minor": 0
      },
      "text/plain": [
       "time step:   0%|          | 0/100 [00:00<?, ?it/s]"
      ]
     },
     "metadata": {},
     "output_type": "display_data"
    },
    {
     "data": {
      "application/vnd.jupyter.widget-view+json": {
       "model_id": "cabc67b402de40d3a451806b9f7e78e8",
       "version_major": 2,
       "version_minor": 0
      },
      "text/plain": [
       "time step:   0%|          | 0/100 [00:00<?, ?it/s]"
      ]
     },
     "metadata": {},
     "output_type": "display_data"
    },
    {
     "data": {
      "application/vnd.jupyter.widget-view+json": {
       "model_id": "9eb6e4657a7d4cf2b71de15188ec24ae",
       "version_major": 2,
       "version_minor": 0
      },
      "text/plain": [
       "time step:   0%|          | 0/100 [00:00<?, ?it/s]"
      ]
     },
     "metadata": {},
     "output_type": "display_data"
    },
    {
     "data": {
      "application/vnd.jupyter.widget-view+json": {
       "model_id": "f7766efdaf0148eba74317c022a0bb58",
       "version_major": 2,
       "version_minor": 0
      },
      "text/plain": [
       "time step:   0%|          | 0/100 [00:00<?, ?it/s]"
      ]
     },
     "metadata": {},
     "output_type": "display_data"
    },
    {
     "data": {
      "application/vnd.jupyter.widget-view+json": {
       "model_id": "860f3254954d48df9eede14d0d7ff43a",
       "version_major": 2,
       "version_minor": 0
      },
      "text/plain": [
       "time step:   0%|          | 0/100 [00:00<?, ?it/s]"
      ]
     },
     "metadata": {},
     "output_type": "display_data"
    },
    {
     "data": {
      "application/vnd.jupyter.widget-view+json": {
       "model_id": "020ff229c78445de95787cff1abe9f1b",
       "version_major": 2,
       "version_minor": 0
      },
      "text/plain": [
       "time step:   0%|          | 0/100 [00:00<?, ?it/s]"
      ]
     },
     "metadata": {},
     "output_type": "display_data"
    },
    {
     "data": {
      "application/vnd.jupyter.widget-view+json": {
       "model_id": "6f1dd6ae88a84ed99295d33d3cbebda3",
       "version_major": 2,
       "version_minor": 0
      },
      "text/plain": [
       "time step:   0%|          | 0/100 [00:00<?, ?it/s]"
      ]
     },
     "metadata": {},
     "output_type": "display_data"
    },
    {
     "data": {
      "application/vnd.jupyter.widget-view+json": {
       "model_id": "0e4371524fa349c785472a28dcde93bb",
       "version_major": 2,
       "version_minor": 0
      },
      "text/plain": [
       "time step:   0%|          | 0/100 [00:00<?, ?it/s]"
      ]
     },
     "metadata": {},
     "output_type": "display_data"
    },
    {
     "data": {
      "application/vnd.jupyter.widget-view+json": {
       "model_id": "86b39fad1eee4c4794fb256f201ac345",
       "version_major": 2,
       "version_minor": 0
      },
      "text/plain": [
       "time step:   0%|          | 0/100 [00:00<?, ?it/s]"
      ]
     },
     "metadata": {},
     "output_type": "display_data"
    },
    {
     "data": {
      "application/vnd.jupyter.widget-view+json": {
       "model_id": "d622c313f287495ca399edf8d8f571fe",
       "version_major": 2,
       "version_minor": 0
      },
      "text/plain": [
       "time step:   0%|          | 0/100 [00:00<?, ?it/s]"
      ]
     },
     "metadata": {},
     "output_type": "display_data"
    },
    {
     "data": {
      "application/vnd.jupyter.widget-view+json": {
       "model_id": "d276f0edf7754c749af7c5840fe1514b",
       "version_major": 2,
       "version_minor": 0
      },
      "text/plain": [
       "time step:   0%|          | 0/100 [00:00<?, ?it/s]"
      ]
     },
     "metadata": {},
     "output_type": "display_data"
    },
    {
     "data": {
      "application/vnd.jupyter.widget-view+json": {
       "model_id": "33258e5bb22749a09961afb5d2b1820c",
       "version_major": 2,
       "version_minor": 0
      },
      "text/plain": [
       "time step:   0%|          | 0/100 [00:00<?, ?it/s]"
      ]
     },
     "metadata": {},
     "output_type": "display_data"
    },
    {
     "data": {
      "application/vnd.jupyter.widget-view+json": {
       "model_id": "79198cdbd4864284a2eed5a83479f874",
       "version_major": 2,
       "version_minor": 0
      },
      "text/plain": [
       "time step:   0%|          | 0/100 [00:00<?, ?it/s]"
      ]
     },
     "metadata": {},
     "output_type": "display_data"
    },
    {
     "data": {
      "application/vnd.jupyter.widget-view+json": {
       "model_id": "a3f20eb726d249e3b501db36e98a123c",
       "version_major": 2,
       "version_minor": 0
      },
      "text/plain": [
       "time step:   0%|          | 0/100 [00:00<?, ?it/s]"
      ]
     },
     "metadata": {},
     "output_type": "display_data"
    },
    {
     "data": {
      "application/vnd.jupyter.widget-view+json": {
       "model_id": "9c97c2f7511c48fa8370094feb0fef45",
       "version_major": 2,
       "version_minor": 0
      },
      "text/plain": [
       "time step:   0%|          | 0/100 [00:00<?, ?it/s]"
      ]
     },
     "metadata": {},
     "output_type": "display_data"
    },
    {
     "data": {
      "application/vnd.jupyter.widget-view+json": {
       "model_id": "27b84c27365d4d818a348c4d62eb7f33",
       "version_major": 2,
       "version_minor": 0
      },
      "text/plain": [
       "time step:   0%|          | 0/100 [00:00<?, ?it/s]"
      ]
     },
     "metadata": {},
     "output_type": "display_data"
    },
    {
     "data": {
      "application/vnd.jupyter.widget-view+json": {
       "model_id": "2bb0fa890bb54784bdae4ff3ce0843e1",
       "version_major": 2,
       "version_minor": 0
      },
      "text/plain": [
       "time step:   0%|          | 0/100 [00:00<?, ?it/s]"
      ]
     },
     "metadata": {},
     "output_type": "display_data"
    },
    {
     "data": {
      "application/vnd.jupyter.widget-view+json": {
       "model_id": "49932768c9534929b5971fd7a461feb2",
       "version_major": 2,
       "version_minor": 0
      },
      "text/plain": [
       "time step:   0%|          | 0/100 [00:00<?, ?it/s]"
      ]
     },
     "metadata": {},
     "output_type": "display_data"
    },
    {
     "data": {
      "application/vnd.jupyter.widget-view+json": {
       "model_id": "314d53cd77d34c2a873dcdd27e8ac4ec",
       "version_major": 2,
       "version_minor": 0
      },
      "text/plain": [
       "time step:   0%|          | 0/100 [00:00<?, ?it/s]"
      ]
     },
     "metadata": {},
     "output_type": "display_data"
    },
    {
     "data": {
      "application/vnd.jupyter.widget-view+json": {
       "model_id": "b72c18ceccf449eeb21e9ece7f3359b9",
       "version_major": 2,
       "version_minor": 0
      },
      "text/plain": [
       "time step:   0%|          | 0/100 [00:00<?, ?it/s]"
      ]
     },
     "metadata": {},
     "output_type": "display_data"
    },
    {
     "data": {
      "application/vnd.jupyter.widget-view+json": {
       "model_id": "f6642e289e3e44cead70b1884adabf78",
       "version_major": 2,
       "version_minor": 0
      },
      "text/plain": [
       "time step:   0%|          | 0/100 [00:00<?, ?it/s]"
      ]
     },
     "metadata": {},
     "output_type": "display_data"
    },
    {
     "data": {
      "application/vnd.jupyter.widget-view+json": {
       "model_id": "8e784fd4599545429f61e523eec2962f",
       "version_major": 2,
       "version_minor": 0
      },
      "text/plain": [
       "time step:   0%|          | 0/100 [00:00<?, ?it/s]"
      ]
     },
     "metadata": {},
     "output_type": "display_data"
    },
    {
     "data": {
      "application/vnd.jupyter.widget-view+json": {
       "model_id": "417e2bfaf00c4c6b8360b95bb78d09a7",
       "version_major": 2,
       "version_minor": 0
      },
      "text/plain": [
       "time step:   0%|          | 0/100 [00:00<?, ?it/s]"
      ]
     },
     "metadata": {},
     "output_type": "display_data"
    },
    {
     "data": {
      "application/vnd.jupyter.widget-view+json": {
       "model_id": "7bec463edb794c3fb23387f5b296329d",
       "version_major": 2,
       "version_minor": 0
      },
      "text/plain": [
       "time step:   0%|          | 0/100 [00:00<?, ?it/s]"
      ]
     },
     "metadata": {},
     "output_type": "display_data"
    },
    {
     "data": {
      "application/vnd.jupyter.widget-view+json": {
       "model_id": "f86c544e507b40c0a71a212c89379eca",
       "version_major": 2,
       "version_minor": 0
      },
      "text/plain": [
       "time step:   0%|          | 0/100 [00:00<?, ?it/s]"
      ]
     },
     "metadata": {},
     "output_type": "display_data"
    },
    {
     "data": {
      "application/vnd.jupyter.widget-view+json": {
       "model_id": "d9b093aacd9c4fc4a20c34b0c45f5ef8",
       "version_major": 2,
       "version_minor": 0
      },
      "text/plain": [
       "time step:   0%|          | 0/100 [00:00<?, ?it/s]"
      ]
     },
     "metadata": {},
     "output_type": "display_data"
    },
    {
     "data": {
      "application/vnd.jupyter.widget-view+json": {
       "model_id": "e276c486266242e1b32e56deb1c4924f",
       "version_major": 2,
       "version_minor": 0
      },
      "text/plain": [
       "time step:   0%|          | 0/100 [00:00<?, ?it/s]"
      ]
     },
     "metadata": {},
     "output_type": "display_data"
    },
    {
     "data": {
      "application/vnd.jupyter.widget-view+json": {
       "model_id": "24723d010e4d42eb969b4880f86c4b6d",
       "version_major": 2,
       "version_minor": 0
      },
      "text/plain": [
       "time step:   0%|          | 0/100 [00:00<?, ?it/s]"
      ]
     },
     "metadata": {},
     "output_type": "display_data"
    },
    {
     "data": {
      "application/vnd.jupyter.widget-view+json": {
       "model_id": "85b75f897aa741c2b790f31116005c5e",
       "version_major": 2,
       "version_minor": 0
      },
      "text/plain": [
       "time step:   0%|          | 0/100 [00:00<?, ?it/s]"
      ]
     },
     "metadata": {},
     "output_type": "display_data"
    },
    {
     "data": {
      "application/vnd.jupyter.widget-view+json": {
       "model_id": "edb4d95bfa9b437ca22a5c020c25c939",
       "version_major": 2,
       "version_minor": 0
      },
      "text/plain": [
       "time step:   0%|          | 0/100 [00:00<?, ?it/s]"
      ]
     },
     "metadata": {},
     "output_type": "display_data"
    },
    {
     "data": {
      "application/vnd.jupyter.widget-view+json": {
       "model_id": "08125cb8f1c24635a6055c84a1ccb4ba",
       "version_major": 2,
       "version_minor": 0
      },
      "text/plain": [
       "time step:   0%|          | 0/100 [00:00<?, ?it/s]"
      ]
     },
     "metadata": {},
     "output_type": "display_data"
    },
    {
     "data": {
      "application/vnd.jupyter.widget-view+json": {
       "model_id": "d16468499c934be3b6fee5385739d980",
       "version_major": 2,
       "version_minor": 0
      },
      "text/plain": [
       "time step:   0%|          | 0/100 [00:00<?, ?it/s]"
      ]
     },
     "metadata": {},
     "output_type": "display_data"
    },
    {
     "data": {
      "application/vnd.jupyter.widget-view+json": {
       "model_id": "d98a3a3eb2d94773b4f52bcf64274c49",
       "version_major": 2,
       "version_minor": 0
      },
      "text/plain": [
       "time step:   0%|          | 0/100 [00:00<?, ?it/s]"
      ]
     },
     "metadata": {},
     "output_type": "display_data"
    },
    {
     "data": {
      "application/vnd.jupyter.widget-view+json": {
       "model_id": "1fd9f4f6078d4c5cb48d3979d2d30238",
       "version_major": 2,
       "version_minor": 0
      },
      "text/plain": [
       "time step:   0%|          | 0/100 [00:00<?, ?it/s]"
      ]
     },
     "metadata": {},
     "output_type": "display_data"
    },
    {
     "data": {
      "application/vnd.jupyter.widget-view+json": {
       "model_id": "c43f0ef2880c4cdabe960f3cade4d2aa",
       "version_major": 2,
       "version_minor": 0
      },
      "text/plain": [
       "time step:   0%|          | 0/100 [00:00<?, ?it/s]"
      ]
     },
     "metadata": {},
     "output_type": "display_data"
    },
    {
     "data": {
      "application/vnd.jupyter.widget-view+json": {
       "model_id": "1911e003286d4bc99cb3719eaa1766bc",
       "version_major": 2,
       "version_minor": 0
      },
      "text/plain": [
       "time step:   0%|          | 0/100 [00:00<?, ?it/s]"
      ]
     },
     "metadata": {},
     "output_type": "display_data"
    },
    {
     "data": {
      "application/vnd.jupyter.widget-view+json": {
       "model_id": "78fbc9078e13478582b97a96ce59f106",
       "version_major": 2,
       "version_minor": 0
      },
      "text/plain": [
       "time step:   0%|          | 0/100 [00:00<?, ?it/s]"
      ]
     },
     "metadata": {},
     "output_type": "display_data"
    },
    {
     "data": {
      "application/vnd.jupyter.widget-view+json": {
       "model_id": "a6336e2b62ed479c992df155dd90d1f7",
       "version_major": 2,
       "version_minor": 0
      },
      "text/plain": [
       "time step:   0%|          | 0/100 [00:00<?, ?it/s]"
      ]
     },
     "metadata": {},
     "output_type": "display_data"
    },
    {
     "data": {
      "application/vnd.jupyter.widget-view+json": {
       "model_id": "96a3614cc64443ec9e10e4f13590c2e2",
       "version_major": 2,
       "version_minor": 0
      },
      "text/plain": [
       "time step:   0%|          | 0/100 [00:00<?, ?it/s]"
      ]
     },
     "metadata": {},
     "output_type": "display_data"
    },
    {
     "data": {
      "application/vnd.jupyter.widget-view+json": {
       "model_id": "6bdf1123dca54b438e20279f74cddad6",
       "version_major": 2,
       "version_minor": 0
      },
      "text/plain": [
       "time step:   0%|          | 0/100 [00:00<?, ?it/s]"
      ]
     },
     "metadata": {},
     "output_type": "display_data"
    },
    {
     "data": {
      "application/vnd.jupyter.widget-view+json": {
       "model_id": "57624b25e8754be49268ffb321000e22",
       "version_major": 2,
       "version_minor": 0
      },
      "text/plain": [
       "time step:   0%|          | 0/100 [00:00<?, ?it/s]"
      ]
     },
     "metadata": {},
     "output_type": "display_data"
    },
    {
     "data": {
      "application/vnd.jupyter.widget-view+json": {
       "model_id": "214b3e5dbce54c149400c609a0ae9399",
       "version_major": 2,
       "version_minor": 0
      },
      "text/plain": [
       "time step:   0%|          | 0/100 [00:00<?, ?it/s]"
      ]
     },
     "metadata": {},
     "output_type": "display_data"
    },
    {
     "data": {
      "application/vnd.jupyter.widget-view+json": {
       "model_id": "0ff5827ac62b42478495929620d01a83",
       "version_major": 2,
       "version_minor": 0
      },
      "text/plain": [
       "time step:   0%|          | 0/100 [00:00<?, ?it/s]"
      ]
     },
     "metadata": {},
     "output_type": "display_data"
    },
    {
     "data": {
      "application/vnd.jupyter.widget-view+json": {
       "model_id": "54160dbf20cd4ed5b2974420b560b4d0",
       "version_major": 2,
       "version_minor": 0
      },
      "text/plain": [
       "time step:   0%|          | 0/100 [00:00<?, ?it/s]"
      ]
     },
     "metadata": {},
     "output_type": "display_data"
    },
    {
     "data": {
      "application/vnd.jupyter.widget-view+json": {
       "model_id": "69a5767f91f14499ad708bb6b71830ec",
       "version_major": 2,
       "version_minor": 0
      },
      "text/plain": [
       "time step:   0%|          | 0/100 [00:00<?, ?it/s]"
      ]
     },
     "metadata": {},
     "output_type": "display_data"
    },
    {
     "data": {
      "application/vnd.jupyter.widget-view+json": {
       "model_id": "d1a622abf9d24664b1a09cd81aa47282",
       "version_major": 2,
       "version_minor": 0
      },
      "text/plain": [
       "time step:   0%|          | 0/100 [00:00<?, ?it/s]"
      ]
     },
     "metadata": {},
     "output_type": "display_data"
    },
    {
     "data": {
      "application/vnd.jupyter.widget-view+json": {
       "model_id": "8c61ee2aa31a41a8af1482feeb72c32c",
       "version_major": 2,
       "version_minor": 0
      },
      "text/plain": [
       "time step:   0%|          | 0/100 [00:00<?, ?it/s]"
      ]
     },
     "metadata": {},
     "output_type": "display_data"
    },
    {
     "data": {
      "application/vnd.jupyter.widget-view+json": {
       "model_id": "88384d73eeb040c0899e5780b7a7f29a",
       "version_major": 2,
       "version_minor": 0
      },
      "text/plain": [
       "time step:   0%|          | 0/100 [00:00<?, ?it/s]"
      ]
     },
     "metadata": {},
     "output_type": "display_data"
    },
    {
     "data": {
      "application/vnd.jupyter.widget-view+json": {
       "model_id": "5c216ffdab7346dba054ee334a18b552",
       "version_major": 2,
       "version_minor": 0
      },
      "text/plain": [
       "time step:   0%|          | 0/100 [00:00<?, ?it/s]"
      ]
     },
     "metadata": {},
     "output_type": "display_data"
    },
    {
     "data": {
      "application/vnd.jupyter.widget-view+json": {
       "model_id": "a2ed970a63664814bfcd37cc4308a8bb",
       "version_major": 2,
       "version_minor": 0
      },
      "text/plain": [
       "time step:   0%|          | 0/100 [00:00<?, ?it/s]"
      ]
     },
     "metadata": {},
     "output_type": "display_data"
    },
    {
     "data": {
      "application/vnd.jupyter.widget-view+json": {
       "model_id": "2ae718e7c7184ab5a13ba123b3366aec",
       "version_major": 2,
       "version_minor": 0
      },
      "text/plain": [
       "time step:   0%|          | 0/100 [00:00<?, ?it/s]"
      ]
     },
     "metadata": {},
     "output_type": "display_data"
    },
    {
     "data": {
      "application/vnd.jupyter.widget-view+json": {
       "model_id": "36978551873e48a5a20b8148a7d794e2",
       "version_major": 2,
       "version_minor": 0
      },
      "text/plain": [
       "time step:   0%|          | 0/100 [00:00<?, ?it/s]"
      ]
     },
     "metadata": {},
     "output_type": "display_data"
    },
    {
     "data": {
      "application/vnd.jupyter.widget-view+json": {
       "model_id": "cb49bb1d390c4eadb0fae0dcf8999ca4",
       "version_major": 2,
       "version_minor": 0
      },
      "text/plain": [
       "time step:   0%|          | 0/100 [00:00<?, ?it/s]"
      ]
     },
     "metadata": {},
     "output_type": "display_data"
    },
    {
     "data": {
      "application/vnd.jupyter.widget-view+json": {
       "model_id": "63d916e12f204f93ba9502ba01cfc46f",
       "version_major": 2,
       "version_minor": 0
      },
      "text/plain": [
       "time step:   0%|          | 0/100 [00:00<?, ?it/s]"
      ]
     },
     "metadata": {},
     "output_type": "display_data"
    },
    {
     "data": {
      "application/vnd.jupyter.widget-view+json": {
       "model_id": "a8964cf558fa46a7afce2f307fb2ef5e",
       "version_major": 2,
       "version_minor": 0
      },
      "text/plain": [
       "time step:   0%|          | 0/100 [00:00<?, ?it/s]"
      ]
     },
     "metadata": {},
     "output_type": "display_data"
    },
    {
     "data": {
      "application/vnd.jupyter.widget-view+json": {
       "model_id": "c9a72bb0b91c4db6a3a9054e9367046a",
       "version_major": 2,
       "version_minor": 0
      },
      "text/plain": [
       "time step:   0%|          | 0/100 [00:00<?, ?it/s]"
      ]
     },
     "metadata": {},
     "output_type": "display_data"
    },
    {
     "data": {
      "application/vnd.jupyter.widget-view+json": {
       "model_id": "7b61ae88011a484ab1531d409277a16e",
       "version_major": 2,
       "version_minor": 0
      },
      "text/plain": [
       "time step:   0%|          | 0/100 [00:00<?, ?it/s]"
      ]
     },
     "metadata": {},
     "output_type": "display_data"
    },
    {
     "data": {
      "application/vnd.jupyter.widget-view+json": {
       "model_id": "da06a05c4d3c428a86cde196f2c3390c",
       "version_major": 2,
       "version_minor": 0
      },
      "text/plain": [
       "time step:   0%|          | 0/100 [00:00<?, ?it/s]"
      ]
     },
     "metadata": {},
     "output_type": "display_data"
    },
    {
     "data": {
      "application/vnd.jupyter.widget-view+json": {
       "model_id": "b8335e8d235a4754ad314a42a0f75f23",
       "version_major": 2,
       "version_minor": 0
      },
      "text/plain": [
       "time step:   0%|          | 0/100 [00:00<?, ?it/s]"
      ]
     },
     "metadata": {},
     "output_type": "display_data"
    },
    {
     "data": {
      "application/vnd.jupyter.widget-view+json": {
       "model_id": "e9edae199ec64381bce8c7a9047d443d",
       "version_major": 2,
       "version_minor": 0
      },
      "text/plain": [
       "time step:   0%|          | 0/100 [00:00<?, ?it/s]"
      ]
     },
     "metadata": {},
     "output_type": "display_data"
    },
    {
     "data": {
      "application/vnd.jupyter.widget-view+json": {
       "model_id": "3d1da8ee17c44e3389d4ec79cb63b98e",
       "version_major": 2,
       "version_minor": 0
      },
      "text/plain": [
       "time step:   0%|          | 0/100 [00:00<?, ?it/s]"
      ]
     },
     "metadata": {},
     "output_type": "display_data"
    },
    {
     "data": {
      "application/vnd.jupyter.widget-view+json": {
       "model_id": "dd097080c89e4739bb55b106dbf28015",
       "version_major": 2,
       "version_minor": 0
      },
      "text/plain": [
       "time step:   0%|          | 0/100 [00:00<?, ?it/s]"
      ]
     },
     "metadata": {},
     "output_type": "display_data"
    },
    {
     "data": {
      "application/vnd.jupyter.widget-view+json": {
       "model_id": "09f374b9bca748e9841e138831266555",
       "version_major": 2,
       "version_minor": 0
      },
      "text/plain": [
       "time step:   0%|          | 0/100 [00:00<?, ?it/s]"
      ]
     },
     "metadata": {},
     "output_type": "display_data"
    },
    {
     "data": {
      "application/vnd.jupyter.widget-view+json": {
       "model_id": "001170f3a2884df09291b29a8c00448f",
       "version_major": 2,
       "version_minor": 0
      },
      "text/plain": [
       "time step:   0%|          | 0/100 [00:00<?, ?it/s]"
      ]
     },
     "metadata": {},
     "output_type": "display_data"
    },
    {
     "data": {
      "application/vnd.jupyter.widget-view+json": {
       "model_id": "3c840007a8614de1985ea4e53eadb7b3",
       "version_major": 2,
       "version_minor": 0
      },
      "text/plain": [
       "time step:   0%|          | 0/100 [00:00<?, ?it/s]"
      ]
     },
     "metadata": {},
     "output_type": "display_data"
    },
    {
     "data": {
      "application/vnd.jupyter.widget-view+json": {
       "model_id": "81450d6a8b5e4352b005ef38821a76cb",
       "version_major": 2,
       "version_minor": 0
      },
      "text/plain": [
       "time step:   0%|          | 0/100 [00:00<?, ?it/s]"
      ]
     },
     "metadata": {},
     "output_type": "display_data"
    },
    {
     "data": {
      "application/vnd.jupyter.widget-view+json": {
       "model_id": "844ce3558b654189be8962f872b637ee",
       "version_major": 2,
       "version_minor": 0
      },
      "text/plain": [
       "time step:   0%|          | 0/100 [00:00<?, ?it/s]"
      ]
     },
     "metadata": {},
     "output_type": "display_data"
    },
    {
     "data": {
      "application/vnd.jupyter.widget-view+json": {
       "model_id": "a453d4bc97d94a37a4eea569e6722e00",
       "version_major": 2,
       "version_minor": 0
      },
      "text/plain": [
       "time step:   0%|          | 0/100 [00:00<?, ?it/s]"
      ]
     },
     "metadata": {},
     "output_type": "display_data"
    },
    {
     "data": {
      "application/vnd.jupyter.widget-view+json": {
       "model_id": "45c80b55da5d4ba2b1ad50be37e63359",
       "version_major": 2,
       "version_minor": 0
      },
      "text/plain": [
       "time step:   0%|          | 0/100 [00:00<?, ?it/s]"
      ]
     },
     "metadata": {},
     "output_type": "display_data"
    },
    {
     "data": {
      "application/vnd.jupyter.widget-view+json": {
       "model_id": "52cdc099ce55431f939e9e405a073bb7",
       "version_major": 2,
       "version_minor": 0
      },
      "text/plain": [
       "time step:   0%|          | 0/100 [00:00<?, ?it/s]"
      ]
     },
     "metadata": {},
     "output_type": "display_data"
    },
    {
     "data": {
      "application/vnd.jupyter.widget-view+json": {
       "model_id": "3cb53e2ca2074f87a256b4393a27c42e",
       "version_major": 2,
       "version_minor": 0
      },
      "text/plain": [
       "time step:   0%|          | 0/100 [00:00<?, ?it/s]"
      ]
     },
     "metadata": {},
     "output_type": "display_data"
    },
    {
     "data": {
      "application/vnd.jupyter.widget-view+json": {
       "model_id": "c9df3d2dfc2841df8c33192384d0a4e8",
       "version_major": 2,
       "version_minor": 0
      },
      "text/plain": [
       "time step:   0%|          | 0/100 [00:00<?, ?it/s]"
      ]
     },
     "metadata": {},
     "output_type": "display_data"
    },
    {
     "data": {
      "application/vnd.jupyter.widget-view+json": {
       "model_id": "2834ffedc24d411d95dffc2a3ab69348",
       "version_major": 2,
       "version_minor": 0
      },
      "text/plain": [
       "time step:   0%|          | 0/100 [00:00<?, ?it/s]"
      ]
     },
     "metadata": {},
     "output_type": "display_data"
    },
    {
     "data": {
      "application/vnd.jupyter.widget-view+json": {
       "model_id": "796a144c2c214dca80f113101f9a82c9",
       "version_major": 2,
       "version_minor": 0
      },
      "text/plain": [
       "time step:   0%|          | 0/100 [00:00<?, ?it/s]"
      ]
     },
     "metadata": {},
     "output_type": "display_data"
    },
    {
     "data": {
      "application/vnd.jupyter.widget-view+json": {
       "model_id": "ad16174d67c14bb980fb966d6683e973",
       "version_major": 2,
       "version_minor": 0
      },
      "text/plain": [
       "time step:   0%|          | 0/100 [00:00<?, ?it/s]"
      ]
     },
     "metadata": {},
     "output_type": "display_data"
    },
    {
     "data": {
      "application/vnd.jupyter.widget-view+json": {
       "model_id": "2583117797394c4da1faa9a615e68e85",
       "version_major": 2,
       "version_minor": 0
      },
      "text/plain": [
       "time step:   0%|          | 0/100 [00:00<?, ?it/s]"
      ]
     },
     "metadata": {},
     "output_type": "display_data"
    },
    {
     "data": {
      "application/vnd.jupyter.widget-view+json": {
       "model_id": "854a3cf2e6d94dea8bb7328cd6379404",
       "version_major": 2,
       "version_minor": 0
      },
      "text/plain": [
       "time step:   0%|          | 0/100 [00:00<?, ?it/s]"
      ]
     },
     "metadata": {},
     "output_type": "display_data"
    },
    {
     "data": {
      "application/vnd.jupyter.widget-view+json": {
       "model_id": "2314875505a44b8797e60547c6e09db3",
       "version_major": 2,
       "version_minor": 0
      },
      "text/plain": [
       "time step:   0%|          | 0/100 [00:00<?, ?it/s]"
      ]
     },
     "metadata": {},
     "output_type": "display_data"
    },
    {
     "data": {
      "application/vnd.jupyter.widget-view+json": {
       "model_id": "92dce30b0e7b429aa9285f38519c041b",
       "version_major": 2,
       "version_minor": 0
      },
      "text/plain": [
       "time step:   0%|          | 0/100 [00:00<?, ?it/s]"
      ]
     },
     "metadata": {},
     "output_type": "display_data"
    },
    {
     "data": {
      "application/vnd.jupyter.widget-view+json": {
       "model_id": "0ba2895a15964665a0532f8c5283b23e",
       "version_major": 2,
       "version_minor": 0
      },
      "text/plain": [
       "time step:   0%|          | 0/100 [00:00<?, ?it/s]"
      ]
     },
     "metadata": {},
     "output_type": "display_data"
    },
    {
     "data": {
      "application/vnd.jupyter.widget-view+json": {
       "model_id": "a0efec6e6f284ac7b0f003d465325e13",
       "version_major": 2,
       "version_minor": 0
      },
      "text/plain": [
       "time step:   0%|          | 0/100 [00:00<?, ?it/s]"
      ]
     },
     "metadata": {},
     "output_type": "display_data"
    },
    {
     "data": {
      "application/vnd.jupyter.widget-view+json": {
       "model_id": "bad54ec2c7944c88938353dc5ceb20ae",
       "version_major": 2,
       "version_minor": 0
      },
      "text/plain": [
       "time step:   0%|          | 0/100 [00:00<?, ?it/s]"
      ]
     },
     "metadata": {},
     "output_type": "display_data"
    },
    {
     "data": {
      "application/vnd.jupyter.widget-view+json": {
       "model_id": "4a148e5b1b8342c2b8c57f4637f58cab",
       "version_major": 2,
       "version_minor": 0
      },
      "text/plain": [
       "time step:   0%|          | 0/100 [00:00<?, ?it/s]"
      ]
     },
     "metadata": {},
     "output_type": "display_data"
    },
    {
     "data": {
      "application/vnd.jupyter.widget-view+json": {
       "model_id": "f244b2c58d7b424e8e2e567c5b2c7ff7",
       "version_major": 2,
       "version_minor": 0
      },
      "text/plain": [
       "time step:   0%|          | 0/100 [00:00<?, ?it/s]"
      ]
     },
     "metadata": {},
     "output_type": "display_data"
    },
    {
     "data": {
      "application/vnd.jupyter.widget-view+json": {
       "model_id": "ba60631c34fe4845a048df1cb0708ff6",
       "version_major": 2,
       "version_minor": 0
      },
      "text/plain": [
       "time step:   0%|          | 0/100 [00:00<?, ?it/s]"
      ]
     },
     "metadata": {},
     "output_type": "display_data"
    },
    {
     "data": {
      "application/vnd.jupyter.widget-view+json": {
       "model_id": "7444badddd2e4126bf62b91c7947e91d",
       "version_major": 2,
       "version_minor": 0
      },
      "text/plain": [
       "time step:   0%|          | 0/100 [00:00<?, ?it/s]"
      ]
     },
     "metadata": {},
     "output_type": "display_data"
    },
    {
     "data": {
      "application/vnd.jupyter.widget-view+json": {
       "model_id": "031019ebb828402ebb836f021ae13990",
       "version_major": 2,
       "version_minor": 0
      },
      "text/plain": [
       "time step:   0%|          | 0/100 [00:00<?, ?it/s]"
      ]
     },
     "metadata": {},
     "output_type": "display_data"
    },
    {
     "data": {
      "application/vnd.jupyter.widget-view+json": {
       "model_id": "7b028835c26844529e87b332e199d81a",
       "version_major": 2,
       "version_minor": 0
      },
      "text/plain": [
       "time step:   0%|          | 0/100 [00:00<?, ?it/s]"
      ]
     },
     "metadata": {},
     "output_type": "display_data"
    },
    {
     "data": {
      "application/vnd.jupyter.widget-view+json": {
       "model_id": "4e81086d107e4c97bda9aaf88949a85e",
       "version_major": 2,
       "version_minor": 0
      },
      "text/plain": [
       "time step:   0%|          | 0/100 [00:00<?, ?it/s]"
      ]
     },
     "metadata": {},
     "output_type": "display_data"
    },
    {
     "data": {
      "application/vnd.jupyter.widget-view+json": {
       "model_id": "8a297841ea7f420a97d46be4f85f3a69",
       "version_major": 2,
       "version_minor": 0
      },
      "text/plain": [
       "time step:   0%|          | 0/100 [00:00<?, ?it/s]"
      ]
     },
     "metadata": {},
     "output_type": "display_data"
    },
    {
     "data": {
      "application/vnd.jupyter.widget-view+json": {
       "model_id": "17a84c6c13484392af1fda10d795cb0c",
       "version_major": 2,
       "version_minor": 0
      },
      "text/plain": [
       "time step:   0%|          | 0/100 [00:00<?, ?it/s]"
      ]
     },
     "metadata": {},
     "output_type": "display_data"
    },
    {
     "data": {
      "application/vnd.jupyter.widget-view+json": {
       "model_id": "deeae811c611402cb3be8d94841fa22e",
       "version_major": 2,
       "version_minor": 0
      },
      "text/plain": [
       "time step:   0%|          | 0/100 [00:00<?, ?it/s]"
      ]
     },
     "metadata": {},
     "output_type": "display_data"
    },
    {
     "data": {
      "application/vnd.jupyter.widget-view+json": {
       "model_id": "7122dc76dfbd4cf9b4f213d56a5a76e2",
       "version_major": 2,
       "version_minor": 0
      },
      "text/plain": [
       "time step:   0%|          | 0/100 [00:00<?, ?it/s]"
      ]
     },
     "metadata": {},
     "output_type": "display_data"
    },
    {
     "data": {
      "application/vnd.jupyter.widget-view+json": {
       "model_id": "1a1a076586f248b7a19feb6fb01caa1b",
       "version_major": 2,
       "version_minor": 0
      },
      "text/plain": [
       "time step:   0%|          | 0/100 [00:00<?, ?it/s]"
      ]
     },
     "metadata": {},
     "output_type": "display_data"
    },
    {
     "data": {
      "application/vnd.jupyter.widget-view+json": {
       "model_id": "48333475cf5c4422aaf929e9e920f27b",
       "version_major": 2,
       "version_minor": 0
      },
      "text/plain": [
       "time step:   0%|          | 0/100 [00:00<?, ?it/s]"
      ]
     },
     "metadata": {},
     "output_type": "display_data"
    },
    {
     "data": {
      "application/vnd.jupyter.widget-view+json": {
       "model_id": "059c57cb4387488e8a35c9617f3bf214",
       "version_major": 2,
       "version_minor": 0
      },
      "text/plain": [
       "time step:   0%|          | 0/100 [00:00<?, ?it/s]"
      ]
     },
     "metadata": {},
     "output_type": "display_data"
    },
    {
     "data": {
      "application/vnd.jupyter.widget-view+json": {
       "model_id": "f3281503ac42430bb21bcc525ce297b7",
       "version_major": 2,
       "version_minor": 0
      },
      "text/plain": [
       "time step:   0%|          | 0/100 [00:00<?, ?it/s]"
      ]
     },
     "metadata": {},
     "output_type": "display_data"
    },
    {
     "data": {
      "application/vnd.jupyter.widget-view+json": {
       "model_id": "75d34f4071e248ed95848feca6b3b101",
       "version_major": 2,
       "version_minor": 0
      },
      "text/plain": [
       "time step:   0%|          | 0/100 [00:00<?, ?it/s]"
      ]
     },
     "metadata": {},
     "output_type": "display_data"
    },
    {
     "data": {
      "application/vnd.jupyter.widget-view+json": {
       "model_id": "38a5f275c8c44b1d936c806dbd4697f1",
       "version_major": 2,
       "version_minor": 0
      },
      "text/plain": [
       "time step:   0%|          | 0/100 [00:00<?, ?it/s]"
      ]
     },
     "metadata": {},
     "output_type": "display_data"
    },
    {
     "data": {
      "application/vnd.jupyter.widget-view+json": {
       "model_id": "d0fd6f50daf64782b560c6f731ea54b2",
       "version_major": 2,
       "version_minor": 0
      },
      "text/plain": [
       "time step:   0%|          | 0/100 [00:00<?, ?it/s]"
      ]
     },
     "metadata": {},
     "output_type": "display_data"
    },
    {
     "data": {
      "application/vnd.jupyter.widget-view+json": {
       "model_id": "7587dcd024db4646aab34a972764a752",
       "version_major": 2,
       "version_minor": 0
      },
      "text/plain": [
       "time step:   0%|          | 0/100 [00:00<?, ?it/s]"
      ]
     },
     "metadata": {},
     "output_type": "display_data"
    },
    {
     "data": {
      "application/vnd.jupyter.widget-view+json": {
       "model_id": "11d249f5b71c4c469ec7a3b758987e6b",
       "version_major": 2,
       "version_minor": 0
      },
      "text/plain": [
       "time step:   0%|          | 0/100 [00:00<?, ?it/s]"
      ]
     },
     "metadata": {},
     "output_type": "display_data"
    },
    {
     "data": {
      "application/vnd.jupyter.widget-view+json": {
       "model_id": "f189059e9f864946a1181a0e7006ddf4",
       "version_major": 2,
       "version_minor": 0
      },
      "text/plain": [
       "time step:   0%|          | 0/100 [00:00<?, ?it/s]"
      ]
     },
     "metadata": {},
     "output_type": "display_data"
    },
    {
     "data": {
      "application/vnd.jupyter.widget-view+json": {
       "model_id": "d1eda022cf4a49619a8b4b2cd97e44be",
       "version_major": 2,
       "version_minor": 0
      },
      "text/plain": [
       "time step:   0%|          | 0/100 [00:00<?, ?it/s]"
      ]
     },
     "metadata": {},
     "output_type": "display_data"
    },
    {
     "data": {
      "application/vnd.jupyter.widget-view+json": {
       "model_id": "b8439f03055849cca6876f088c99bab7",
       "version_major": 2,
       "version_minor": 0
      },
      "text/plain": [
       "time step:   0%|          | 0/100 [00:00<?, ?it/s]"
      ]
     },
     "metadata": {},
     "output_type": "display_data"
    },
    {
     "data": {
      "application/vnd.jupyter.widget-view+json": {
       "model_id": "e5222bd7ad794f0a9bc33923275cfa8b",
       "version_major": 2,
       "version_minor": 0
      },
      "text/plain": [
       "time step:   0%|          | 0/100 [00:00<?, ?it/s]"
      ]
     },
     "metadata": {},
     "output_type": "display_data"
    },
    {
     "data": {
      "application/vnd.jupyter.widget-view+json": {
       "model_id": "920ce5020f7e4260882b03d788e1aab3",
       "version_major": 2,
       "version_minor": 0
      },
      "text/plain": [
       "time step:   0%|          | 0/100 [00:00<?, ?it/s]"
      ]
     },
     "metadata": {},
     "output_type": "display_data"
    },
    {
     "data": {
      "application/vnd.jupyter.widget-view+json": {
       "model_id": "c1130418aef34df9b8924658ee165613",
       "version_major": 2,
       "version_minor": 0
      },
      "text/plain": [
       "time step:   0%|          | 0/100 [00:00<?, ?it/s]"
      ]
     },
     "metadata": {},
     "output_type": "display_data"
    },
    {
     "data": {
      "application/vnd.jupyter.widget-view+json": {
       "model_id": "7776f70c1f864563844b1d2c4ad1527a",
       "version_major": 2,
       "version_minor": 0
      },
      "text/plain": [
       "time step:   0%|          | 0/100 [00:00<?, ?it/s]"
      ]
     },
     "metadata": {},
     "output_type": "display_data"
    },
    {
     "data": {
      "application/vnd.jupyter.widget-view+json": {
       "model_id": "dd65f253a9da481dbeaa9469485b6a0a",
       "version_major": 2,
       "version_minor": 0
      },
      "text/plain": [
       "time step:   0%|          | 0/100 [00:00<?, ?it/s]"
      ]
     },
     "metadata": {},
     "output_type": "display_data"
    },
    {
     "data": {
      "application/vnd.jupyter.widget-view+json": {
       "model_id": "ede2e323e50346baac5a1cd996716d7e",
       "version_major": 2,
       "version_minor": 0
      },
      "text/plain": [
       "time step:   0%|          | 0/100 [00:00<?, ?it/s]"
      ]
     },
     "metadata": {},
     "output_type": "display_data"
    },
    {
     "data": {
      "application/vnd.jupyter.widget-view+json": {
       "model_id": "82a94d4ca91448b599ddfa693617d92d",
       "version_major": 2,
       "version_minor": 0
      },
      "text/plain": [
       "time step:   0%|          | 0/100 [00:00<?, ?it/s]"
      ]
     },
     "metadata": {},
     "output_type": "display_data"
    },
    {
     "data": {
      "application/vnd.jupyter.widget-view+json": {
       "model_id": "b59e317d1a5040f089c080abc7285cd5",
       "version_major": 2,
       "version_minor": 0
      },
      "text/plain": [
       "time step:   0%|          | 0/100 [00:00<?, ?it/s]"
      ]
     },
     "metadata": {},
     "output_type": "display_data"
    },
    {
     "data": {
      "application/vnd.jupyter.widget-view+json": {
       "model_id": "38d15a013c084bca884a0cbe1135ffd2",
       "version_major": 2,
       "version_minor": 0
      },
      "text/plain": [
       "time step:   0%|          | 0/100 [00:00<?, ?it/s]"
      ]
     },
     "metadata": {},
     "output_type": "display_data"
    },
    {
     "data": {
      "application/vnd.jupyter.widget-view+json": {
       "model_id": "7946da0b862a49cfb190a1448e915c24",
       "version_major": 2,
       "version_minor": 0
      },
      "text/plain": [
       "time step:   0%|          | 0/100 [00:00<?, ?it/s]"
      ]
     },
     "metadata": {},
     "output_type": "display_data"
    },
    {
     "data": {
      "application/vnd.jupyter.widget-view+json": {
       "model_id": "36d0b11eb5194a569382c1d270653c96",
       "version_major": 2,
       "version_minor": 0
      },
      "text/plain": [
       "time step:   0%|          | 0/100 [00:00<?, ?it/s]"
      ]
     },
     "metadata": {},
     "output_type": "display_data"
    },
    {
     "data": {
      "application/vnd.jupyter.widget-view+json": {
       "model_id": "ec544ce6cbe348aeb3d2a2c6355a6ea3",
       "version_major": 2,
       "version_minor": 0
      },
      "text/plain": [
       "time step:   0%|          | 0/100 [00:00<?, ?it/s]"
      ]
     },
     "metadata": {},
     "output_type": "display_data"
    },
    {
     "data": {
      "application/vnd.jupyter.widget-view+json": {
       "model_id": "74f68f25ae7743619382d4ce05fbd444",
       "version_major": 2,
       "version_minor": 0
      },
      "text/plain": [
       "time step:   0%|          | 0/100 [00:00<?, ?it/s]"
      ]
     },
     "metadata": {},
     "output_type": "display_data"
    },
    {
     "data": {
      "application/vnd.jupyter.widget-view+json": {
       "model_id": "d40f8f63794a43e6a081f4cd21995568",
       "version_major": 2,
       "version_minor": 0
      },
      "text/plain": [
       "time step:   0%|          | 0/100 [00:00<?, ?it/s]"
      ]
     },
     "metadata": {},
     "output_type": "display_data"
    },
    {
     "data": {
      "application/vnd.jupyter.widget-view+json": {
       "model_id": "1079cd513f1e4507a6bcee5141c5e665",
       "version_major": 2,
       "version_minor": 0
      },
      "text/plain": [
       "time step:   0%|          | 0/100 [00:00<?, ?it/s]"
      ]
     },
     "metadata": {},
     "output_type": "display_data"
    },
    {
     "data": {
      "application/vnd.jupyter.widget-view+json": {
       "model_id": "e8574c4921384d10b83aa88836a814f9",
       "version_major": 2,
       "version_minor": 0
      },
      "text/plain": [
       "time step:   0%|          | 0/100 [00:00<?, ?it/s]"
      ]
     },
     "metadata": {},
     "output_type": "display_data"
    },
    {
     "data": {
      "application/vnd.jupyter.widget-view+json": {
       "model_id": "672ee8874c9348a0b48087624a1ad3fe",
       "version_major": 2,
       "version_minor": 0
      },
      "text/plain": [
       "time step:   0%|          | 0/100 [00:00<?, ?it/s]"
      ]
     },
     "metadata": {},
     "output_type": "display_data"
    },
    {
     "data": {
      "application/vnd.jupyter.widget-view+json": {
       "model_id": "3edf4d98c80249e790c50403a84efd99",
       "version_major": 2,
       "version_minor": 0
      },
      "text/plain": [
       "time step:   0%|          | 0/100 [00:00<?, ?it/s]"
      ]
     },
     "metadata": {},
     "output_type": "display_data"
    },
    {
     "data": {
      "application/vnd.jupyter.widget-view+json": {
       "model_id": "e91fc35e7e0f4b4db2a16f515f4141d4",
       "version_major": 2,
       "version_minor": 0
      },
      "text/plain": [
       "time step:   0%|          | 0/100 [00:00<?, ?it/s]"
      ]
     },
     "metadata": {},
     "output_type": "display_data"
    },
    {
     "data": {
      "application/vnd.jupyter.widget-view+json": {
       "model_id": "307609ad267546dda316e375454f97b0",
       "version_major": 2,
       "version_minor": 0
      },
      "text/plain": [
       "time step:   0%|          | 0/100 [00:00<?, ?it/s]"
      ]
     },
     "metadata": {},
     "output_type": "display_data"
    },
    {
     "data": {
      "application/vnd.jupyter.widget-view+json": {
       "model_id": "2440e064d3f94d009c169229556bea39",
       "version_major": 2,
       "version_minor": 0
      },
      "text/plain": [
       "time step:   0%|          | 0/100 [00:00<?, ?it/s]"
      ]
     },
     "metadata": {},
     "output_type": "display_data"
    },
    {
     "data": {
      "application/vnd.jupyter.widget-view+json": {
       "model_id": "4d5c35debae74f4da9a54fcf5620bf10",
       "version_major": 2,
       "version_minor": 0
      },
      "text/plain": [
       "time step:   0%|          | 0/100 [00:00<?, ?it/s]"
      ]
     },
     "metadata": {},
     "output_type": "display_data"
    },
    {
     "data": {
      "application/vnd.jupyter.widget-view+json": {
       "model_id": "0ef0accd849e4cfea4ef76dda8daee43",
       "version_major": 2,
       "version_minor": 0
      },
      "text/plain": [
       "time step:   0%|          | 0/100 [00:00<?, ?it/s]"
      ]
     },
     "metadata": {},
     "output_type": "display_data"
    },
    {
     "data": {
      "application/vnd.jupyter.widget-view+json": {
       "model_id": "217c2e10f2504a868b2b0defcaa3480b",
       "version_major": 2,
       "version_minor": 0
      },
      "text/plain": [
       "time step:   0%|          | 0/100 [00:00<?, ?it/s]"
      ]
     },
     "metadata": {},
     "output_type": "display_data"
    },
    {
     "data": {
      "application/vnd.jupyter.widget-view+json": {
       "model_id": "0a80711b1cb54264a5e57f3db5769c59",
       "version_major": 2,
       "version_minor": 0
      },
      "text/plain": [
       "time step:   0%|          | 0/100 [00:00<?, ?it/s]"
      ]
     },
     "metadata": {},
     "output_type": "display_data"
    },
    {
     "data": {
      "application/vnd.jupyter.widget-view+json": {
       "model_id": "c86673ca88a04064a93357e1410b5428",
       "version_major": 2,
       "version_minor": 0
      },
      "text/plain": [
       "time step:   0%|          | 0/100 [00:00<?, ?it/s]"
      ]
     },
     "metadata": {},
     "output_type": "display_data"
    },
    {
     "data": {
      "application/vnd.jupyter.widget-view+json": {
       "model_id": "a7b022b365e14504b76e223f53b9df5d",
       "version_major": 2,
       "version_minor": 0
      },
      "text/plain": [
       "time step:   0%|          | 0/100 [00:00<?, ?it/s]"
      ]
     },
     "metadata": {},
     "output_type": "display_data"
    },
    {
     "data": {
      "application/vnd.jupyter.widget-view+json": {
       "model_id": "2d5c90a393fa42f4ad954e73d8b37c29",
       "version_major": 2,
       "version_minor": 0
      },
      "text/plain": [
       "time step:   0%|          | 0/100 [00:00<?, ?it/s]"
      ]
     },
     "metadata": {},
     "output_type": "display_data"
    },
    {
     "data": {
      "application/vnd.jupyter.widget-view+json": {
       "model_id": "0edb465d82ee4136bf2a700d677c524b",
       "version_major": 2,
       "version_minor": 0
      },
      "text/plain": [
       "time step:   0%|          | 0/100 [00:00<?, ?it/s]"
      ]
     },
     "metadata": {},
     "output_type": "display_data"
    },
    {
     "data": {
      "application/vnd.jupyter.widget-view+json": {
       "model_id": "06958ed713374afd97ce9ca76fb3ad97",
       "version_major": 2,
       "version_minor": 0
      },
      "text/plain": [
       "time step:   0%|          | 0/100 [00:00<?, ?it/s]"
      ]
     },
     "metadata": {},
     "output_type": "display_data"
    },
    {
     "data": {
      "application/vnd.jupyter.widget-view+json": {
       "model_id": "9aaa4602002c4a799725228e0221ca92",
       "version_major": 2,
       "version_minor": 0
      },
      "text/plain": [
       "time step:   0%|          | 0/100 [00:00<?, ?it/s]"
      ]
     },
     "metadata": {},
     "output_type": "display_data"
    },
    {
     "data": {
      "application/vnd.jupyter.widget-view+json": {
       "model_id": "982d5850f80543a081a8b17505198ae4",
       "version_major": 2,
       "version_minor": 0
      },
      "text/plain": [
       "time step:   0%|          | 0/100 [00:00<?, ?it/s]"
      ]
     },
     "metadata": {},
     "output_type": "display_data"
    },
    {
     "data": {
      "application/vnd.jupyter.widget-view+json": {
       "model_id": "bb2e449e33fe4c9fbf0720ae8c2ea2f6",
       "version_major": 2,
       "version_minor": 0
      },
      "text/plain": [
       "time step:   0%|          | 0/100 [00:00<?, ?it/s]"
      ]
     },
     "metadata": {},
     "output_type": "display_data"
    },
    {
     "data": {
      "application/vnd.jupyter.widget-view+json": {
       "model_id": "7a9f82fbaca94c04a7bb398b1c34de66",
       "version_major": 2,
       "version_minor": 0
      },
      "text/plain": [
       "time step:   0%|          | 0/100 [00:00<?, ?it/s]"
      ]
     },
     "metadata": {},
     "output_type": "display_data"
    },
    {
     "data": {
      "application/vnd.jupyter.widget-view+json": {
       "model_id": "3b249d2107bc46b2bf0518aa182027d8",
       "version_major": 2,
       "version_minor": 0
      },
      "text/plain": [
       "time step:   0%|          | 0/100 [00:00<?, ?it/s]"
      ]
     },
     "metadata": {},
     "output_type": "display_data"
    },
    {
     "data": {
      "application/vnd.jupyter.widget-view+json": {
       "model_id": "aa938bd29a814fda9d2f2fd43349c4dc",
       "version_major": 2,
       "version_minor": 0
      },
      "text/plain": [
       "time step:   0%|          | 0/100 [00:00<?, ?it/s]"
      ]
     },
     "metadata": {},
     "output_type": "display_data"
    },
    {
     "data": {
      "application/vnd.jupyter.widget-view+json": {
       "model_id": "bb10ddec0f9e44029a1d28351482025a",
       "version_major": 2,
       "version_minor": 0
      },
      "text/plain": [
       "time step:   0%|          | 0/100 [00:00<?, ?it/s]"
      ]
     },
     "metadata": {},
     "output_type": "display_data"
    },
    {
     "data": {
      "application/vnd.jupyter.widget-view+json": {
       "model_id": "b0df6d66a0914d9d90221a07cf535ce6",
       "version_major": 2,
       "version_minor": 0
      },
      "text/plain": [
       "time step:   0%|          | 0/100 [00:00<?, ?it/s]"
      ]
     },
     "metadata": {},
     "output_type": "display_data"
    },
    {
     "data": {
      "application/vnd.jupyter.widget-view+json": {
       "model_id": "a2f12fcc0af94d9d943d9a6a3d68785b",
       "version_major": 2,
       "version_minor": 0
      },
      "text/plain": [
       "time step:   0%|          | 0/100 [00:00<?, ?it/s]"
      ]
     },
     "metadata": {},
     "output_type": "display_data"
    },
    {
     "data": {
      "application/vnd.jupyter.widget-view+json": {
       "model_id": "4c9b40f483b343a9af8462aa5ba6ec36",
       "version_major": 2,
       "version_minor": 0
      },
      "text/plain": [
       "time step:   0%|          | 0/100 [00:00<?, ?it/s]"
      ]
     },
     "metadata": {},
     "output_type": "display_data"
    },
    {
     "data": {
      "application/vnd.jupyter.widget-view+json": {
       "model_id": "b2de8cf4897f4638a25ebbd921ad6271",
       "version_major": 2,
       "version_minor": 0
      },
      "text/plain": [
       "time step:   0%|          | 0/100 [00:00<?, ?it/s]"
      ]
     },
     "metadata": {},
     "output_type": "display_data"
    },
    {
     "data": {
      "application/vnd.jupyter.widget-view+json": {
       "model_id": "cc663a113bd345ccba17fbc45579cd77",
       "version_major": 2,
       "version_minor": 0
      },
      "text/plain": [
       "time step:   0%|          | 0/100 [00:00<?, ?it/s]"
      ]
     },
     "metadata": {},
     "output_type": "display_data"
    },
    {
     "data": {
      "application/vnd.jupyter.widget-view+json": {
       "model_id": "5b2520a087524782bd5c57b9fefc7946",
       "version_major": 2,
       "version_minor": 0
      },
      "text/plain": [
       "time step:   0%|          | 0/100 [00:00<?, ?it/s]"
      ]
     },
     "metadata": {},
     "output_type": "display_data"
    },
    {
     "data": {
      "application/vnd.jupyter.widget-view+json": {
       "model_id": "90fc65803f0547f6b28362d8f050ad5f",
       "version_major": 2,
       "version_minor": 0
      },
      "text/plain": [
       "time step:   0%|          | 0/100 [00:00<?, ?it/s]"
      ]
     },
     "metadata": {},
     "output_type": "display_data"
    },
    {
     "data": {
      "application/vnd.jupyter.widget-view+json": {
       "model_id": "bff19de308c54174afb252abfa4eeeca",
       "version_major": 2,
       "version_minor": 0
      },
      "text/plain": [
       "time step:   0%|          | 0/100 [00:00<?, ?it/s]"
      ]
     },
     "metadata": {},
     "output_type": "display_data"
    },
    {
     "data": {
      "application/vnd.jupyter.widget-view+json": {
       "model_id": "79423b911b2847368ed04d748412a0f6",
       "version_major": 2,
       "version_minor": 0
      },
      "text/plain": [
       "time step:   0%|          | 0/100 [00:00<?, ?it/s]"
      ]
     },
     "metadata": {},
     "output_type": "display_data"
    },
    {
     "data": {
      "application/vnd.jupyter.widget-view+json": {
       "model_id": "ab580c28db3f43e5812d03b3ef54a58e",
       "version_major": 2,
       "version_minor": 0
      },
      "text/plain": [
       "time step:   0%|          | 0/100 [00:00<?, ?it/s]"
      ]
     },
     "metadata": {},
     "output_type": "display_data"
    },
    {
     "data": {
      "application/vnd.jupyter.widget-view+json": {
       "model_id": "508ef5d3effd4490b6f447454a0453f8",
       "version_major": 2,
       "version_minor": 0
      },
      "text/plain": [
       "time step:   0%|          | 0/100 [00:00<?, ?it/s]"
      ]
     },
     "metadata": {},
     "output_type": "display_data"
    },
    {
     "data": {
      "application/vnd.jupyter.widget-view+json": {
       "model_id": "baddf814a9744ee5b489e3d3b1674eb6",
       "version_major": 2,
       "version_minor": 0
      },
      "text/plain": [
       "time step:   0%|          | 0/100 [00:00<?, ?it/s]"
      ]
     },
     "metadata": {},
     "output_type": "display_data"
    },
    {
     "data": {
      "application/vnd.jupyter.widget-view+json": {
       "model_id": "c2268ab6793545fea0f96dc96bed6e1d",
       "version_major": 2,
       "version_minor": 0
      },
      "text/plain": [
       "time step:   0%|          | 0/100 [00:00<?, ?it/s]"
      ]
     },
     "metadata": {},
     "output_type": "display_data"
    },
    {
     "data": {
      "application/vnd.jupyter.widget-view+json": {
       "model_id": "7401a45ed1da42c8ab7dec37bc4b3a2d",
       "version_major": 2,
       "version_minor": 0
      },
      "text/plain": [
       "time step:   0%|          | 0/100 [00:00<?, ?it/s]"
      ]
     },
     "metadata": {},
     "output_type": "display_data"
    },
    {
     "data": {
      "application/vnd.jupyter.widget-view+json": {
       "model_id": "ecdfc66d9bfc405798f27fd7b615d85a",
       "version_major": 2,
       "version_minor": 0
      },
      "text/plain": [
       "time step:   0%|          | 0/100 [00:00<?, ?it/s]"
      ]
     },
     "metadata": {},
     "output_type": "display_data"
    },
    {
     "data": {
      "application/vnd.jupyter.widget-view+json": {
       "model_id": "96bf8fe6bc744b119677d3380b04e67e",
       "version_major": 2,
       "version_minor": 0
      },
      "text/plain": [
       "time step:   0%|          | 0/100 [00:00<?, ?it/s]"
      ]
     },
     "metadata": {},
     "output_type": "display_data"
    },
    {
     "data": {
      "application/vnd.jupyter.widget-view+json": {
       "model_id": "b7282f6e5d52469bab13654ea23c1d04",
       "version_major": 2,
       "version_minor": 0
      },
      "text/plain": [
       "time step:   0%|          | 0/100 [00:00<?, ?it/s]"
      ]
     },
     "metadata": {},
     "output_type": "display_data"
    },
    {
     "data": {
      "application/vnd.jupyter.widget-view+json": {
       "model_id": "1f1d25f08c384e5ba8121c2fb40be7ce",
       "version_major": 2,
       "version_minor": 0
      },
      "text/plain": [
       "time step:   0%|          | 0/100 [00:00<?, ?it/s]"
      ]
     },
     "metadata": {},
     "output_type": "display_data"
    },
    {
     "data": {
      "application/vnd.jupyter.widget-view+json": {
       "model_id": "a3fd393ea675485cabeca232b315e18c",
       "version_major": 2,
       "version_minor": 0
      },
      "text/plain": [
       "time step:   0%|          | 0/100 [00:00<?, ?it/s]"
      ]
     },
     "metadata": {},
     "output_type": "display_data"
    },
    {
     "data": {
      "application/vnd.jupyter.widget-view+json": {
       "model_id": "315294eb62c64df6a7540c2538fe58ae",
       "version_major": 2,
       "version_minor": 0
      },
      "text/plain": [
       "time step:   0%|          | 0/100 [00:00<?, ?it/s]"
      ]
     },
     "metadata": {},
     "output_type": "display_data"
    },
    {
     "data": {
      "application/vnd.jupyter.widget-view+json": {
       "model_id": "9922ff3495bb40639b60eb8014eded05",
       "version_major": 2,
       "version_minor": 0
      },
      "text/plain": [
       "time step:   0%|          | 0/100 [00:00<?, ?it/s]"
      ]
     },
     "metadata": {},
     "output_type": "display_data"
    },
    {
     "data": {
      "application/vnd.jupyter.widget-view+json": {
       "model_id": "c8ab2d00047242fdad874de8283d84e1",
       "version_major": 2,
       "version_minor": 0
      },
      "text/plain": [
       "time step:   0%|          | 0/100 [00:00<?, ?it/s]"
      ]
     },
     "metadata": {},
     "output_type": "display_data"
    },
    {
     "data": {
      "application/vnd.jupyter.widget-view+json": {
       "model_id": "82edb25b75c143478c15c70748202195",
       "version_major": 2,
       "version_minor": 0
      },
      "text/plain": [
       "time step:   0%|          | 0/100 [00:00<?, ?it/s]"
      ]
     },
     "metadata": {},
     "output_type": "display_data"
    },
    {
     "data": {
      "application/vnd.jupyter.widget-view+json": {
       "model_id": "47676f5456374415a905b2546f320251",
       "version_major": 2,
       "version_minor": 0
      },
      "text/plain": [
       "time step:   0%|          | 0/100 [00:00<?, ?it/s]"
      ]
     },
     "metadata": {},
     "output_type": "display_data"
    },
    {
     "data": {
      "application/vnd.jupyter.widget-view+json": {
       "model_id": "22a21a108af24f52ad689d111a70881c",
       "version_major": 2,
       "version_minor": 0
      },
      "text/plain": [
       "time step:   0%|          | 0/100 [00:00<?, ?it/s]"
      ]
     },
     "metadata": {},
     "output_type": "display_data"
    },
    {
     "data": {
      "application/vnd.jupyter.widget-view+json": {
       "model_id": "3b369b4dd8bd409bb0dc08ff3a99e663",
       "version_major": 2,
       "version_minor": 0
      },
      "text/plain": [
       "time step:   0%|          | 0/100 [00:00<?, ?it/s]"
      ]
     },
     "metadata": {},
     "output_type": "display_data"
    },
    {
     "data": {
      "application/vnd.jupyter.widget-view+json": {
       "model_id": "4a77b515b29343588a3d9d715b8cf305",
       "version_major": 2,
       "version_minor": 0
      },
      "text/plain": [
       "time step:   0%|          | 0/100 [00:00<?, ?it/s]"
      ]
     },
     "metadata": {},
     "output_type": "display_data"
    },
    {
     "data": {
      "application/vnd.jupyter.widget-view+json": {
       "model_id": "c774bdc2e3a843bfb2cad9248bbded8a",
       "version_major": 2,
       "version_minor": 0
      },
      "text/plain": [
       "time step:   0%|          | 0/100 [00:00<?, ?it/s]"
      ]
     },
     "metadata": {},
     "output_type": "display_data"
    },
    {
     "data": {
      "application/vnd.jupyter.widget-view+json": {
       "model_id": "5d8c91eee6ba467284f1ee8cd21b961a",
       "version_major": 2,
       "version_minor": 0
      },
      "text/plain": [
       "time step:   0%|          | 0/100 [00:00<?, ?it/s]"
      ]
     },
     "metadata": {},
     "output_type": "display_data"
    },
    {
     "data": {
      "application/vnd.jupyter.widget-view+json": {
       "model_id": "62721e62e7884199bf9edc45368c9f92",
       "version_major": 2,
       "version_minor": 0
      },
      "text/plain": [
       "time step:   0%|          | 0/100 [00:00<?, ?it/s]"
      ]
     },
     "metadata": {},
     "output_type": "display_data"
    },
    {
     "data": {
      "application/vnd.jupyter.widget-view+json": {
       "model_id": "04fd79b054d04544b67d7efa8726a04d",
       "version_major": 2,
       "version_minor": 0
      },
      "text/plain": [
       "time step:   0%|          | 0/100 [00:00<?, ?it/s]"
      ]
     },
     "metadata": {},
     "output_type": "display_data"
    },
    {
     "data": {
      "application/vnd.jupyter.widget-view+json": {
       "model_id": "e488d043ff6e4f5bb82a3973322cbb50",
       "version_major": 2,
       "version_minor": 0
      },
      "text/plain": [
       "time step:   0%|          | 0/100 [00:00<?, ?it/s]"
      ]
     },
     "metadata": {},
     "output_type": "display_data"
    },
    {
     "data": {
      "application/vnd.jupyter.widget-view+json": {
       "model_id": "f357c753a9e6491eaf05a80ee6dcd658",
       "version_major": 2,
       "version_minor": 0
      },
      "text/plain": [
       "time step:   0%|          | 0/100 [00:00<?, ?it/s]"
      ]
     },
     "metadata": {},
     "output_type": "display_data"
    },
    {
     "data": {
      "application/vnd.jupyter.widget-view+json": {
       "model_id": "50ae825ab2a34bc69093b592b81b180c",
       "version_major": 2,
       "version_minor": 0
      },
      "text/plain": [
       "time step:   0%|          | 0/100 [00:00<?, ?it/s]"
      ]
     },
     "metadata": {},
     "output_type": "display_data"
    },
    {
     "data": {
      "application/vnd.jupyter.widget-view+json": {
       "model_id": "d64cd967ed14481ea6670e1fe6834566",
       "version_major": 2,
       "version_minor": 0
      },
      "text/plain": [
       "time step:   0%|          | 0/100 [00:00<?, ?it/s]"
      ]
     },
     "metadata": {},
     "output_type": "display_data"
    },
    {
     "data": {
      "application/vnd.jupyter.widget-view+json": {
       "model_id": "c09dd08d6d5b40fcaf1f753a2429aa58",
       "version_major": 2,
       "version_minor": 0
      },
      "text/plain": [
       "time step:   0%|          | 0/100 [00:00<?, ?it/s]"
      ]
     },
     "metadata": {},
     "output_type": "display_data"
    },
    {
     "data": {
      "application/vnd.jupyter.widget-view+json": {
       "model_id": "e3beb0892b1347b9a0d77d624857ef52",
       "version_major": 2,
       "version_minor": 0
      },
      "text/plain": [
       "time step:   0%|          | 0/100 [00:00<?, ?it/s]"
      ]
     },
     "metadata": {},
     "output_type": "display_data"
    },
    {
     "data": {
      "application/vnd.jupyter.widget-view+json": {
       "model_id": "f9b4990d54b741f59197ddd3f26e3f86",
       "version_major": 2,
       "version_minor": 0
      },
      "text/plain": [
       "time step:   0%|          | 0/100 [00:00<?, ?it/s]"
      ]
     },
     "metadata": {},
     "output_type": "display_data"
    },
    {
     "data": {
      "application/vnd.jupyter.widget-view+json": {
       "model_id": "98e1e63c21f741a8bb29857830d5277e",
       "version_major": 2,
       "version_minor": 0
      },
      "text/plain": [
       "time step:   0%|          | 0/100 [00:00<?, ?it/s]"
      ]
     },
     "metadata": {},
     "output_type": "display_data"
    },
    {
     "data": {
      "application/vnd.jupyter.widget-view+json": {
       "model_id": "b69ab344fa534ef28f270dc175c20e3b",
       "version_major": 2,
       "version_minor": 0
      },
      "text/plain": [
       "time step:   0%|          | 0/100 [00:00<?, ?it/s]"
      ]
     },
     "metadata": {},
     "output_type": "display_data"
    },
    {
     "data": {
      "application/vnd.jupyter.widget-view+json": {
       "model_id": "2d55fcc74c074e6ea03614c7e5659722",
       "version_major": 2,
       "version_minor": 0
      },
      "text/plain": [
       "time step:   0%|          | 0/100 [00:00<?, ?it/s]"
      ]
     },
     "metadata": {},
     "output_type": "display_data"
    },
    {
     "data": {
      "application/vnd.jupyter.widget-view+json": {
       "model_id": "55641d393e414bb09edd76697b0f611c",
       "version_major": 2,
       "version_minor": 0
      },
      "text/plain": [
       "time step:   0%|          | 0/100 [00:00<?, ?it/s]"
      ]
     },
     "metadata": {},
     "output_type": "display_data"
    },
    {
     "data": {
      "application/vnd.jupyter.widget-view+json": {
       "model_id": "b819a76af4074bb895cd6815ca706d37",
       "version_major": 2,
       "version_minor": 0
      },
      "text/plain": [
       "time step:   0%|          | 0/100 [00:00<?, ?it/s]"
      ]
     },
     "metadata": {},
     "output_type": "display_data"
    },
    {
     "data": {
      "application/vnd.jupyter.widget-view+json": {
       "model_id": "e16e9feddc484fc2ab5325b590468aa5",
       "version_major": 2,
       "version_minor": 0
      },
      "text/plain": [
       "time step:   0%|          | 0/100 [00:00<?, ?it/s]"
      ]
     },
     "metadata": {},
     "output_type": "display_data"
    },
    {
     "data": {
      "application/vnd.jupyter.widget-view+json": {
       "model_id": "d570f88ba3be4a23a6c6857d7afc2209",
       "version_major": 2,
       "version_minor": 0
      },
      "text/plain": [
       "time step:   0%|          | 0/100 [00:00<?, ?it/s]"
      ]
     },
     "metadata": {},
     "output_type": "display_data"
    },
    {
     "data": {
      "application/vnd.jupyter.widget-view+json": {
       "model_id": "33e0c61dee0449778d82fec13a5c0970",
       "version_major": 2,
       "version_minor": 0
      },
      "text/plain": [
       "time step:   0%|          | 0/100 [00:00<?, ?it/s]"
      ]
     },
     "metadata": {},
     "output_type": "display_data"
    },
    {
     "data": {
      "application/vnd.jupyter.widget-view+json": {
       "model_id": "d58c823cbe4c4b72be7852c7946c092f",
       "version_major": 2,
       "version_minor": 0
      },
      "text/plain": [
       "time step:   0%|          | 0/100 [00:00<?, ?it/s]"
      ]
     },
     "metadata": {},
     "output_type": "display_data"
    },
    {
     "data": {
      "application/vnd.jupyter.widget-view+json": {
       "model_id": "521d34a9bd7e4332974af983d945e5eb",
       "version_major": 2,
       "version_minor": 0
      },
      "text/plain": [
       "time step:   0%|          | 0/100 [00:00<?, ?it/s]"
      ]
     },
     "metadata": {},
     "output_type": "display_data"
    },
    {
     "data": {
      "application/vnd.jupyter.widget-view+json": {
       "model_id": "c9473cdde043491791195a2c42a5f772",
       "version_major": 2,
       "version_minor": 0
      },
      "text/plain": [
       "time step:   0%|          | 0/100 [00:00<?, ?it/s]"
      ]
     },
     "metadata": {},
     "output_type": "display_data"
    },
    {
     "data": {
      "application/vnd.jupyter.widget-view+json": {
       "model_id": "7537e62480ba4fc8ada0952c037f7fba",
       "version_major": 2,
       "version_minor": 0
      },
      "text/plain": [
       "time step:   0%|          | 0/100 [00:00<?, ?it/s]"
      ]
     },
     "metadata": {},
     "output_type": "display_data"
    },
    {
     "data": {
      "application/vnd.jupyter.widget-view+json": {
       "model_id": "0c650733d68449628067c50858601c0f",
       "version_major": 2,
       "version_minor": 0
      },
      "text/plain": [
       "time step:   0%|          | 0/100 [00:00<?, ?it/s]"
      ]
     },
     "metadata": {},
     "output_type": "display_data"
    },
    {
     "data": {
      "application/vnd.jupyter.widget-view+json": {
       "model_id": "96c973bf391e4b789b755496f47a3935",
       "version_major": 2,
       "version_minor": 0
      },
      "text/plain": [
       "time step:   0%|          | 0/100 [00:00<?, ?it/s]"
      ]
     },
     "metadata": {},
     "output_type": "display_data"
    },
    {
     "data": {
      "application/vnd.jupyter.widget-view+json": {
       "model_id": "8816c88c6dc94bd0b05a106961b98f2f",
       "version_major": 2,
       "version_minor": 0
      },
      "text/plain": [
       "time step:   0%|          | 0/100 [00:00<?, ?it/s]"
      ]
     },
     "metadata": {},
     "output_type": "display_data"
    },
    {
     "data": {
      "application/vnd.jupyter.widget-view+json": {
       "model_id": "ba018085b5104791be0f845edb828081",
       "version_major": 2,
       "version_minor": 0
      },
      "text/plain": [
       "time step:   0%|          | 0/100 [00:00<?, ?it/s]"
      ]
     },
     "metadata": {},
     "output_type": "display_data"
    },
    {
     "data": {
      "application/vnd.jupyter.widget-view+json": {
       "model_id": "f7d0949e946a40e29082ac4e927dfece",
       "version_major": 2,
       "version_minor": 0
      },
      "text/plain": [
       "time step:   0%|          | 0/100 [00:00<?, ?it/s]"
      ]
     },
     "metadata": {},
     "output_type": "display_data"
    },
    {
     "data": {
      "application/vnd.jupyter.widget-view+json": {
       "model_id": "cc109f7a65e6421cb4d567ac8bea907d",
       "version_major": 2,
       "version_minor": 0
      },
      "text/plain": [
       "time step:   0%|          | 0/100 [00:00<?, ?it/s]"
      ]
     },
     "metadata": {},
     "output_type": "display_data"
    },
    {
     "data": {
      "application/vnd.jupyter.widget-view+json": {
       "model_id": "2f349e7c420342e4a0938e3b3ba9be51",
       "version_major": 2,
       "version_minor": 0
      },
      "text/plain": [
       "time step:   0%|          | 0/100 [00:00<?, ?it/s]"
      ]
     },
     "metadata": {},
     "output_type": "display_data"
    },
    {
     "data": {
      "application/vnd.jupyter.widget-view+json": {
       "model_id": "a6531991c0d644e3bc963078aca34e44",
       "version_major": 2,
       "version_minor": 0
      },
      "text/plain": [
       "time step:   0%|          | 0/100 [00:00<?, ?it/s]"
      ]
     },
     "metadata": {},
     "output_type": "display_data"
    }
   ],
   "source": [
    "\"\"\"Here is the implementation for running the experiment. You have to run the \"run_epsilon_greedy_agent\" function\n",
    "   for multiple times for different parameter combination. Please use smaller run_num and time_step for Debug only.\n",
    "   For example, run_num = 100, time_step = 100\n",
    "\"\"\"\n",
    "# always set the random seed for results reproduction\n",
    "np.random.seed(1234)\n",
    "random.seed(1234)\n",
    "    \n",
    "# set the running parameters (Use 2000 runs and 1000 steps for final report)\n",
    "run_num = 200\n",
    "time_step = 100\n",
    "    \n",
    "# CODE HERE: \n",
    "# 1. run the epsilon-greedy agent experiment for initial value = 0.0, epsilon = 0.0\n",
    "rewards, results_action, upper_bound = run_epsilon_greedy_agent(run_num, time_step, epsilon=0.0, init=0)\n",
    "# 2. run the epsilon-greedy agent experiment for initial value = 0.0, epsilon = 0.01\n",
    "# 3. run the epsilon-greedy agent experiment for initial value = 0.0, epsilon = 0.1"
   ]
  },
  {
   "cell_type": "code",
   "execution_count": 8,
   "metadata": {},
   "outputs": [
    {
     "data": {
      "text/plain": [
       "<Figure size 640x480 with 0 Axes>"
      ]
     },
     "metadata": {},
     "output_type": "display_data"
    },
    {
     "data": {
      "image/png": "[encoded data removed]",
      "text/plain": [
       "<Figure size 1200x800 with 1 Axes>"
      ]
     },
     "metadata": {},
     "output_type": "display_data"
    }
   ],
   "source": [
    "# Plot the \"Average reward\" figure\n",
    "plot_curves([rewards],\n",
    "            [\"curve legend name for first method\"],\n",
    "            [\"blue\"],\n",
    "            upper_bound,\n",
    "            \"y axis label\")"
   ]
  },
  {
   "cell_type": "code",
   "execution_count": 9,
   "metadata": {},
   "outputs": [
    {
     "data": {
      "text/plain": [
       "<Figure size 640x480 with 0 Axes>"
      ]
     },
     "metadata": {},
     "output_type": "display_data"
    },
    {
     "data": {
      "image/png": "[encoded data removed]",
      "text/plain": [
       "<Figure size 1200x800 with 1 Axes>"
      ]
     },
     "metadata": {},
     "output_type": "display_data"
    }
   ],
   "source": [
    "# Plot the \"% Optimal action\" figure\n",
    "plot_curves([rewards],\n",
    "            [\"curve legend name for first method\"],\n",
    "            [\"blue\"],\n",
    "            upper_bound, # should be 100%\n",
    "            \"y axis label\")"
   ]
  },
  {
   "cell_type": "markdown",
   "metadata": {},
   "source": [
    "# Q6: Implement the ε-greedy algorithm with optimistic initial values, and the bandit algorithm with UCB action selection"
   ]
  },
  {
   "cell_type": "code",
   "execution_count": null,
   "metadata": {},
   "outputs": [],
   "source": [
    "\"\"\" Reproducing the Figure 2.3.\n",
    "Please note, instead of using the sample-average technique,\n",
    "Use equation 2.5 to update the Q values with \\alpha=0.1\n",
    "\"\"\"\n",
    "class AlphaEpsilonGreedyAgent(object):\n",
    "    def __init__(self, k: int, init: int, epsilon: float) -> None:\n",
    "        \"\"\"Epsilon greedy bandit agent\n",
    "\n",
    "        Args:\n",
    "            k (int): number of arms\n",
    "            init (init): initial value of Q-values\n",
    "            epsilon (float): random action probability\n",
    "        \"\"\"\n",
    "        # Number of the arms. For example, k = 10 for 10-armed Bandit problem\n",
    "        self.k = k\n",
    "\n",
    "        # Initial Q value\n",
    "        self.init = init\n",
    "\n",
    "        # Epsilon value\n",
    "        self.epsilon = epsilon\n",
    "\n",
    "        # Q-values for each arm\n",
    "        self.Q = None\n",
    "        # Number of times each arm was pulled\n",
    "        self.N = None\n",
    "        # Current total number of steps\n",
    "        self.t = None\n",
    "\n",
    "        self.action_space = np.arange(self.k)\n",
    "        self.alpha = 0.5\n",
    "\n",
    "    def reset(self) -> None:\n",
    "        \"\"\"Initialize or reset Q-values and counts\n",
    "\n",
    "        This method should be called after __init__() at least once\n",
    "        \"\"\"\n",
    "        self.Q = self.init * np.ones(self.k, dtype=np.float32)\n",
    "        self.N = np.zeros(self.k, dtype=int)\n",
    "        self.t = 0\n",
    "\n",
    "    def choose_action(self) -> int:\n",
    "        \"\"\"Choose which arm to pull\n",
    "\n",
    "        With probability 1 - epsilon, choose the best action (break ties arbitrarily, use argmax() from above).\n",
    "        \n",
    "        With probability epsilon, choose a random action.\n",
    "        \"\"\"\n",
    "        # CODE HERE: please implement the epsilon-greedy strategy to select the action\n",
    "        val = random.random()\n",
    "        if(val <= self.epsilon):\n",
    "            return np.random.choice(self.action_space)\n",
    "        else:\n",
    "            return self.argmax(self.Q)\n",
    "        # return int\n",
    "\n",
    "    def update(self, action: int, reward: float) -> None:\n",
    "        \"\"\"Update Q-values and N after observing reward.\n",
    "\n",
    "        Args:\n",
    "            action (int): index of pulled arm\n",
    "            reward (float): reward obtained for pulling arm\n",
    "        \"\"\"\n",
    "        # increase the time step\n",
    "        self.t += 1\n",
    "        \n",
    "        # CODE HERE: implement the incremental update\n",
    "        # update the self.N\n",
    "        \n",
    "        # CODE HERE: update self.Q with the incremental update\n",
    "        # Note: For reproducing Figure 2.3, implement the exponential average (equation 2.5)\n",
    "        # Note: For reproducing Figure 2.4, implement the sample average (equation 2.1)\n",
    "        self.Q[action] = self.Q[action] + (self.alpha)*(reward - self.Q[action])\n",
    "        self.N[action] = self.N[action] + 1\n",
    "\n",
    "    @staticmethod\n",
    "    def argmax(arr) -> int:\n",
    "        \"\"\"Argmax that breaks ties randomly\n",
    "\n",
    "        Takes in a list of values and returns the index of the item with the highest value, breaking ties randomly.\n",
    "\n",
    "        Note: np.argmax returns the first index that matches the maximum, so we define this method to use in EpsilonGreedy and UCB agents.\n",
    "        Args:\n",
    "            arr: sequence of values\n",
    "        \"\"\"\n",
    "        #CODE HERE: implement argmax_a Q(a) for the greedy action selection, breaking ties randomly.\n",
    "        max_val = np.max(arr)\n",
    "\n",
    "        # Getting the indices\n",
    "        indices = np.argwhere(arr == max_val)\n",
    "        return np.random.choice(indices.T[0])"
   ]
  },
  {
   "cell_type": "code",
   "execution_count": null,
   "metadata": {},
   "outputs": [],
   "source": [
    "\"\"\" Here is the function to run the epsilon greedy agent. Please complete the missing part under \"CODE HERE\"\n",
    "\"\"\"\n",
    "# run epsilon greedy \n",
    "def run_alpha_epsilon_greedy_agent(run_num, time_step, epsilon=0.0, init=0.0):\n",
    "    \"\"\"\n",
    "    Args:\n",
    "        run_num (int): number of runs\n",
    "        time_step (int): number of time steps per run\n",
    "        epsilon (float): epsilon for the agent\n",
    "        init (float): initial value for the Q. (i.e., Q1)\n",
    "    \"\"\"\n",
    "    # DO NOT CHANGE: create the 10-armed Bandit problem\n",
    "    k = 10\n",
    "    env = Bandit(k)\n",
    "    env.reset()\n",
    "\n",
    "    # DO NOT CHANGE: create the agent with proper initial value and epsilon\n",
    "    agent = AlphaEpsilonGreedyAgent(k=k, init=init, epsilon=epsilon)\n",
    "    agent.reset()\n",
    "\n",
    "    # DO NOT CHANGE: create a numpy array to store rewards with shape (run_num, time_step)\n",
    "    # For example, results_rewards[r, t] stores the reward for step t in the r-th running trail\n",
    "    results_rewards = np.empty((run_num, time_step))\n",
    "    \n",
    "    # DO NOT CHANGE: create a numpy array to store optimal action proportion with shape (run_num, time_step)\n",
    "    # For example, results_action[r, t] stores 1 if the selected action at step t in the r-th runing trail is optimal\n",
    "    # and 0 otherwise.\n",
    "    results_action = np.empty((run_num, time_step))\n",
    "    \n",
    "    # DO NOT CHANGE: create a numpy array to save upper_bound (only for plotting rewards; it should be 1 for plotting action optimality proportion)\n",
    "    # For example, upper_bound[r] stores the true action value for the r-th running trail.\n",
    "    upper_bound = np.empty(run_num)\n",
    "    \n",
    "\n",
    "    # loop for trails starts\n",
    "    for r in tqdm.tqdm(range(run_num), desc=\"run number\", position=0):\n",
    "        \n",
    "        # CODE HERE: reset the environment to create a new 10-armed bandit problem.\n",
    "        env.reset()\n",
    "\n",
    "        # CODE HERE: reset the agent\n",
    "        agent.reset()\n",
    "        \n",
    "        # CODE HERE: compute the upper bound for each running trial and update upper_bound[r]\n",
    "        upper_bound[r] = env.q_star.max() #* time_step\n",
    "        \n",
    "        # loop for each trail a fixed number of steps\n",
    "        for t in tqdm.tqdm(range(time_step), desc=\"time step\", position=1, leave=False):\n",
    "            \n",
    "            # CODE HERE: get the best action to execute at step t \n",
    "            act = agent.choose_action()\n",
    "            \n",
    "            # CODE HERE: interact with the environment to receive rewards\n",
    "            reward = env.step(act)\n",
    "            \n",
    "            # Code HERE: update the agent based on the observed reward\n",
    "            agent.update(act, reward)\n",
    "                     \n",
    "            \"\"\"DO NOT CHANGE BELOW\"\"\"\n",
    "            # save the reward\n",
    "            results_rewards[r, t] = reward\n",
    "            # check and save whether the action is optimal\n",
    "            if act in env.best_action():\n",
    "                results_action[r, t] = 1\n",
    "            else:\n",
    "                results_action[r, t] = 0\n",
    "            \n",
    "    return results_rewards, results_action, upper_bound"
   ]
  },
  {
   "cell_type": "code",
   "execution_count": null,
   "metadata": {},
   "outputs": [],
   "source": [
    "\"\"\" Here is the implementation of the UCB agent. Please complete the missing part.\n",
    "\"\"\"\n",
    "class UCBAgent(object):\n",
    "    def __init__(self, k: int, init: int, c: float) -> None:\n",
    "        \"\"\"Epsilon greedy bandit agent\n",
    "\n",
    "        Args:\n",
    "            k (int): number of arms\n",
    "            init (init): initial value of Q-values\n",
    "            c (float): UCB constant that controls degree of exploration\n",
    "        \"\"\"\n",
    "        # Number of the arms. For example, k = 10 for 10-armed Bandit problem\n",
    "        self.k = k\n",
    "\n",
    "        # Initial Q value\n",
    "        self.init = init\n",
    "\n",
    "        # Epsilon value\n",
    "        self.c = c\n",
    "\n",
    "        # Q-values for each arm\n",
    "        self.Q = None\n",
    "        # Number of times each arm was pulled\n",
    "        self.N = None\n",
    "        # Current total number of steps\n",
    "        self.t = None\n",
    "\n",
    "    def reset(self) -> None:\n",
    "        \"\"\"Initialize or reset Q-values and counts\n",
    "\n",
    "        This method should be called after __init__() at least once\n",
    "        \"\"\"\n",
    "        self.Q = self.init * np.ones(self.k, dtype=np.float32)\n",
    "        self.N = np.zeros(self.k, dtype=int)\n",
    "        self.t = 0\n",
    "\n",
    "    def choose_action(self):\n",
    "        \"\"\"Choose which arm to pull\n",
    "\n",
    "        Use UCB action selection. Be sure to consider the case when N_t = 0 and break ties randomly (use argmax() from above)\n",
    "        \"\"\"\n",
    "        # CODE HERE: use UCB to select the action. Be sure to consider the case when N_t = 0\n",
    "        # and break ties randomly (use argmax() from above). The return should be an integer\n",
    "        # index of the action.\n",
    "        # return int\n",
    "\n",
    "\n",
    "    def update(self, action: int, reward: float) -> None:\n",
    "        \"\"\"Update Q-values and N after observing reward.\n",
    "\n",
    "        Args:\n",
    "            action (int): index of pulled arm\n",
    "            reward (float): reward obtained for pulling arm\n",
    "        \"\"\"\n",
    "        # increase the time step\n",
    "        self.t += 1\n",
    "\n",
    "        # CODE HERE: implement the incremental update\n",
    "        # update the self.N\n",
    "\n",
    "        # CODE HERER: update self.\n",
    "        # Note: For reproducing Figure 2.3, implement the exponential average (equation 2.5)\n",
    "        # Note: For reproducing Figure 2.4, implement the sample average (equation 2.1)\n"
   ]
  },
  {
   "cell_type": "code",
   "execution_count": null,
   "metadata": {},
   "outputs": [],
   "source": [
    "\"\"\"Here is the implementation of running the UCB agent. Please complete the missing part.\n",
    "\"\"\"\n",
    "# run epsilon greedy \n",
    "def run_ucb_agent(run_num, time_step, c):\n",
    "    # create the 10-armed Bandit problem\n",
    "    k = 10\n",
    "    env = Bandit(k)\n",
    "    env.reset()\n",
    "\n",
    "    # create the agent\n",
    "    my_agent = UCBAgent(k=k, init=0.0, c=c)\n",
    "    my_agent.reset()\n",
    "\n",
    "    # create a numpy array\n",
    "    results_rewards = np.empty((run_num, time_step))\n",
    "    \n",
    "    # create a numpy array\n",
    "    results_action = np.empty((run_num, time_step))\n",
    "\n",
    "    # loop starts\n",
    "    upper_bound = np.empty(run_num)\n",
    "    for r in tqdm.tqdm(range(run_num), desc=\"run number\", position=0):\n",
    "       \n",
    "        # CODE HERE: reset the environment and the agent\n",
    "        # create a new 10-armed bandit problem\n",
    "        \n",
    "        # CODE HERE: create a new agent\n",
    "\n",
    "        # CODE HERE: update upper_bound[r]\n",
    "\n",
    "        for t in tqdm.tqdm(range(time_step), desc=\"time step\", position=1, leave=False):\n",
    "            # CODE HERE: choose action for time step t\n",
    "            # act = int\n",
    "\n",
    "            # CODE HERE: interact with the environment\n",
    "            # reward = float\n",
    "\n",
    "            # CODE HERE: update the bandit agent with the observed reward\n",
    "\n",
    "            \n",
    "            # save the reward\n",
    "            results_rewards[r, t] = reward\n",
    "            # compute the optimality\n",
    "            if act in env.best_action():\n",
    "                results_action[r, t] = 1\n",
    "            else:\n",
    "                results_action[r, t] = 0\n",
    "            \n",
    "    return results_rewards, results_action, upper_bound"
   ]
  },
  {
   "cell_type": "markdown",
   "metadata": {},
   "source": [
    "# Reproduce Figure 2.3 using exponential average (equation 2.5 with alpha = 0.1)"
   ]
  },
  {
   "cell_type": "code",
   "execution_count": null,
   "metadata": {},
   "outputs": [],
   "source": [
    "\"\"\"Here is the implementation for running the experiment. You have to run the \"run_ucb_agent\" function\n",
    "   for multiple times for different parameter combination. Please use smaller run_num and time_step for Debug only.\n",
    "   For example, run_num = 100, time_step = 1000\n",
    "\"\"\"\n",
    "# set the running parameters\n",
    "run_num = 2000 \n",
    "time_step = 1000\n",
    "    \n",
    "# CODE HERE: \n",
    "# 1. Run the epsilon-greedy agent experiment for initial value = 0.0, epsilon = 0.0\n",
    "# 2. Run the epsilon-greedy agent experiment for initial value = 5.0, epsilon = 0.0 \n",
    "# 3. Run the epsilon-greedy agent experiment for initial value = 0.0, epsilon = 0.1 \n",
    "# 4. Run the epsilon-greedy agent experiment for initial value = 5.0, epsilon = 0.1 \n",
    "# 5. Run the UCB agent experiment for c=2"
   ]
  },
  {
   "cell_type": "code",
   "execution_count": null,
   "metadata": {},
   "outputs": [],
   "source": [
    "# Plot the \"% Optimal action\" figure\n",
    "plot_curves([action_array_for_first_method],\n",
    "            [\"curve legend name for first method\"],\n",
    "            [\"curve color for first method\"],\n",
    "            upper_bound_for_first_method, # should be 100%\n",
    "            \"y axis label\")"
   ]
  },
  {
   "cell_type": "markdown",
   "metadata": {},
   "source": [
    "# Reproduce Figure 2.4 using sample average (equation 2.1)"
   ]
  },
  {
   "cell_type": "code",
   "execution_count": null,
   "metadata": {},
   "outputs": [],
   "source": [
    "\"\"\"Here is the implementation for running the experiment. You have to run the \"run_ucb_agent\" function\n",
    "   for multiple times for different parameter combination. Please use smaller run_num and time_step for Debug only.\n",
    "   For example, run_num = 100, time_step = 1000\n",
    "\"\"\"\n",
    "# always set the random seed for results reproduction\n",
    "np.random.seed(1234)\n",
    "random.seed(1234)\n",
    "\n",
    "# set the number of run\n",
    "run_num = 2000\n",
    "# set the number of time steps\n",
    "time_step = 1000\n",
    "\n",
    "# CODE HERE: \n",
    "# 1. Run the epsilon-greedy agent experiment for initial value = 0.0, epsilon = 0.0\n",
    "# 2. Run the epsilon-greedy agent experiment for initial value = 5.0, epsilon = 0.0 \n",
    "# 3. Run the epsilon-greedy agent experiment for initial value = 0.0, epsilon = 0.1 \n",
    "# 4. Run the epsilon-greedy agent experiment for initial value = 5.0, epsilon = 0.1 \n",
    "# 5. Run the UCB agent experiment for c=2"
   ]
  },
  {
   "cell_type": "code",
   "execution_count": null,
   "metadata": {},
   "outputs": [],
   "source": [
    "# Plot the \"Average reward\" figure\n",
    "plot_curves([rewards_array_for_first_method],\n",
    "            [\"curve legend name for first method\"],\n",
    "            [\"curve color for first method\"],\n",
    "            upper_bound_for_first_method,\n",
    "            \"y axis label\")"
   ]
  },
  {
   "cell_type": "markdown",
   "metadata": {},
   "source": [
    "## Q7 Investigating nonstationary environments."
   ]
  },
  {
   "cell_type": "code",
   "execution_count": null,
   "metadata": {},
   "outputs": [],
   "source": [
    "def generate_bandits(arms = 10):\n",
    "    # CODE HERE: Generate a k-armed bandit using the procedure described in Section 2.3\n",
    "    \n",
    "\n",
    "def generate_reward(bandits, arm):\n",
    "    # CODE HERE: Generate a random reward using the specified arm of the bandit, \n",
    "    # with reward distribution as described in Section 2.3\n",
    "\n",
    "    \n",
    "def gen_argmax(l, return_all = False):\n",
    "    # CODE HERE: Generalized argmax that finds all maximal elements and breaks ties \n",
    "    # If return_all is true, returns all maximal indices;\n",
    "    # otherwise, tie is broken randomly and some element is returned\n",
    "\n",
    "def plot_avg_se(data, num_se = 1.96, linestyle = 'k-'):\n",
    "    means = []\n",
    "    lowers = []\n",
    "    uppers = []\n",
    "    N = len(data)\n",
    "    T = len(data[0])\n",
    "    for t in range(T):\n",
    "        data_t = [d[t] for d in data]\n",
    "        mean = np.mean(data_t)\n",
    "        se = np.std(data_t) / np.sqrt(N)\n",
    "        means += [mean]\n",
    "        lowers += [mean - num_se * se]\n",
    "        uppers += [mean + num_se * se]\n",
    "    h, = plt.plot(range(1,T+1), means, linestyle)\n",
    "    plt.fill_between(range(1,T+1), lowers, uppers, color = linestyle[0], alpha = 0.2)\n",
    "    return h\n",
    "\n",
    "\n",
    "def q7(arms = 10, steps = 10000, trials = 2000, epsilon = 0.1, alpha = 0.1):\n",
    "    rewards = [[] for _ in range(2)]\n",
    "    optimals = [[] for _ in range(2)]\n",
    "    upper_bound = []\n",
    "    for trial in range(trials):\n",
    "        if (trial + 1) % 10 == 0:\n",
    "            print(trial + 1)\n",
    "            \n",
    "        # Initialize the bandit (all q* = 0)\n",
    "        # Implement epsilon-greedy in the loop;\n",
    "        # keep track of Q, N estimates and rewards, optimal actions, upper bounds\n",
    "        # for both alpha = None and alpha = 0.1\n",
    "        \n",
    "        # CODE HERE: Initilization        \n",
    "\n",
    "        \n",
    "        # CODE HERE: LOOP        \n",
    "        for t in range(steps):\n",
    "            # Hint: you should determine best action at time t and its value, do the Epsilon-greedy action selection            \n",
    "            # And explore both alpha = None and alpha = 0.1 at the same time \n",
    "            # Please use the variable name of: rs_none  rs_alpha to store the rewards and opts_none opts_alpha to store the optimal actions\n",
    "            # and use upper to represent the upper bound value.\n",
    "             \n",
    "            \n",
    "        # Store rewards and whether chosen actions were optimal\n",
    "        rewards[0] += [rs_none]\n",
    "        rewards[1] += [rs_alpha]\n",
    "        optimals[0] += [opts_none]\n",
    "        optimals[1] += [opts_alpha]\n",
    "        upper_bound += [upper]\n",
    "\n",
    "\n",
    "    # Plot average reward\n",
    "    plt.figure()\n",
    "    hs = []\n",
    "    hs += [plot_avg_se(rewards[0], linestyle = 'b-')]\n",
    "    hs += [plot_avg_se(rewards[1], linestyle = 'k-')]\n",
    "    hs += [plot_avg_se(upper_bound, linestyle = 'k--')]\n",
    "    plt.gca().set_xlim(0, steps)\n",
    "    plt.gca().set_ylim(0, 2)\n",
    "    plt.xlabel(\"Steps\")\n",
    "    plt.ylabel(\"Average reward\")\n",
    "    plt.legend(hs, [\"Sample average\", r\"Exponential average, $\\alpha = 0.1$\", \"Upper bound\"])\n",
    "    plt.show()\n",
    "\n",
    "\n",
    "    # Plot proportion of time optimal action was chosen\n",
    "    plt.figure()\n",
    "    hs = []\n",
    "    hs += [plot_avg_se(optimals[0], linestyle = 'b-')]\n",
    "    hs += [plot_avg_se(optimals[1], linestyle = 'k-')]\n",
    "    hs += [plt.hlines(1, 1, steps, linestyles = 'dashed')]\n",
    "    plt.gca().set_xlim(0, steps)\n",
    "    plt.gca().set_ylim(0, 1.05)\n",
    "    plt.xlabel(\"Steps\")\n",
    "    plt.ylabel(\"Proportion optimal action\")\n",
    "    plt.legend(hs, [\"Sample average\", r\"Exponential average, $\\alpha = 0.1$\", \"Upper bound\"])\n",
    "    plt.show()"
   ]
  },
  {
   "cell_type": "code",
   "execution_count": null,
   "metadata": {},
   "outputs": [],
   "source": [
    "q7(steps = 10000, trials = 2000)"
   ]
  }
 ],
 "metadata": {
  "kernelspec": {
   "display_name": "Python 3 (ipykernel)",
   "language": "python",
   "name": "python3"
  },
  "language_info": {
   "codemirror_mode": {
    "name": "ipython",
    "version": 3
   },
   "file_extension": ".py",
   "mimetype": "text/x-python",
   "name": "python",
   "nbconvert_exporter": "python",
   "pygments_lexer": "ipython3",
   "version": "3.11.9"
  }
 },
 "nbformat": 4,
 "nbformat_minor": 4
}
